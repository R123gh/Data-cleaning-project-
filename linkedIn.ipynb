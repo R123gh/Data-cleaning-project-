{
 "cells": [
  {
   "cell_type": "markdown",
   "id": "a3d9a23c",
   "metadata": {},
   "source": [
    "Import the libraries\n",
    "import pandas as pd\n",
    "import numpy as np\n",
    "import matplot"
   ]
  },
  {
   "cell_type": "code",
   "execution_count": 1,
   "id": "c09d7486",
   "metadata": {},
   "outputs": [],
   "source": [
    "import pandas as pd   \n",
    "import numpy as np\n",
    "import matplotlib.pyplot as plt \n",
    "import seaborn as sns\n",
    "sns.set(style=\"whitegrid\")"
   ]
  },
  {
   "cell_type": "markdown",
   "id": "009ab738",
   "metadata": {},
   "source": [
    "Step 2 : load the dataset "
   ]
  },
  {
   "cell_type": "code",
   "execution_count": 2,
   "id": "06f40f9d",
   "metadata": {},
   "outputs": [],
   "source": [
    "sales_data = pd.read_csv('sales_data.csv')"
   ]
  },
  {
   "cell_type": "markdown",
   "id": "1e0dd46b",
   "metadata": {},
   "source": [
    "copy this  dataset to another variable for further analysis "
   ]
  },
  {
   "cell_type": "code",
   "execution_count": 3,
   "id": "e751887e",
   "metadata": {},
   "outputs": [],
   "source": [
    "sale_pd = sales_data.copy()"
   ]
  },
  {
   "cell_type": "markdown",
   "id": "fcfb09d8",
   "metadata": {},
   "source": [
    "TO read the first 5 rows of the data set, use the following command:"
   ]
  },
  {
   "cell_type": "code",
   "execution_count": 4,
   "id": "822a25dd",
   "metadata": {},
   "outputs": [
    {
     "data": {
      "application/vnd.microsoft.datawrangler.viewer.v0+json": {
       "columns": [
        {
         "name": "index",
         "rawType": "int64",
         "type": "integer"
        },
        {
         "name": "Order_ID",
         "rawType": "int64",
         "type": "integer"
        },
        {
         "name": "Product",
         "rawType": "object",
         "type": "string"
        },
        {
         "name": "Category",
         "rawType": "object",
         "type": "string"
        },
        {
         "name": "Quantity",
         "rawType": "float64",
         "type": "float"
        },
        {
         "name": "Unit_Price",
         "rawType": "float64",
         "type": "float"
        },
        {
         "name": "Total_Price",
         "rawType": "float64",
         "type": "float"
        },
        {
         "name": "Order_Date",
         "rawType": "object",
         "type": "string"
        },
        {
         "name": "Customer_Age",
         "rawType": "int64",
         "type": "integer"
        },
        {
         "name": "City",
         "rawType": "object",
         "type": "string"
        }
       ],
       "conversionMethod": "pd.DataFrame",
       "ref": "3b829017-c233-4ffd-adfd-8e2dee771471",
       "rows": [
        [
         "0",
         "1001",
         "Laptop",
         "Electronics",
         "2.0",
         "700.0",
         "1400.0",
         "2024-01-10",
         "29",
         "New York"
        ],
        [
         "1",
         "1002",
         "Smartphone",
         "Electronics",
         "1.0",
         "500.0",
         null,
         "2024-02-15",
         "35",
         "Los Angeles"
        ],
        [
         "2",
         "1003",
         "Washing Machine",
         "Home Appliances",
         null,
         "300.0",
         "600.0",
         "2024-03-05",
         "40",
         "Chicago"
        ],
        [
         "3",
         "1004",
         "Tablet",
         "Electronics",
         "3.0",
         null,
         "1200.0",
         "2024-01-25",
         "28",
         "Houston"
        ],
        [
         "4",
         "1005",
         "Refrigerator",
         "Home Appliances",
         "1.0",
         "1000.0",
         "1000.0",
         "2024-04-12",
         "50",
         "Miami"
        ]
       ],
       "shape": {
        "columns": 9,
        "rows": 5
       }
      },
      "text/html": [
       "<div>\n",
       "<style scoped>\n",
       "    .dataframe tbody tr th:only-of-type {\n",
       "        vertical-align: middle;\n",
       "    }\n",
       "\n",
       "    .dataframe tbody tr th {\n",
       "        vertical-align: top;\n",
       "    }\n",
       "\n",
       "    .dataframe thead th {\n",
       "        text-align: right;\n",
       "    }\n",
       "</style>\n",
       "<table border=\"1\" class=\"dataframe\">\n",
       "  <thead>\n",
       "    <tr style=\"text-align: right;\">\n",
       "      <th></th>\n",
       "      <th>Order_ID</th>\n",
       "      <th>Product</th>\n",
       "      <th>Category</th>\n",
       "      <th>Quantity</th>\n",
       "      <th>Unit_Price</th>\n",
       "      <th>Total_Price</th>\n",
       "      <th>Order_Date</th>\n",
       "      <th>Customer_Age</th>\n",
       "      <th>City</th>\n",
       "    </tr>\n",
       "  </thead>\n",
       "  <tbody>\n",
       "    <tr>\n",
       "      <th>0</th>\n",
       "      <td>1001</td>\n",
       "      <td>Laptop</td>\n",
       "      <td>Electronics</td>\n",
       "      <td>2.0</td>\n",
       "      <td>700.0</td>\n",
       "      <td>1400.0</td>\n",
       "      <td>2024-01-10</td>\n",
       "      <td>29</td>\n",
       "      <td>New York</td>\n",
       "    </tr>\n",
       "    <tr>\n",
       "      <th>1</th>\n",
       "      <td>1002</td>\n",
       "      <td>Smartphone</td>\n",
       "      <td>Electronics</td>\n",
       "      <td>1.0</td>\n",
       "      <td>500.0</td>\n",
       "      <td>NaN</td>\n",
       "      <td>2024-02-15</td>\n",
       "      <td>35</td>\n",
       "      <td>Los Angeles</td>\n",
       "    </tr>\n",
       "    <tr>\n",
       "      <th>2</th>\n",
       "      <td>1003</td>\n",
       "      <td>Washing Machine</td>\n",
       "      <td>Home Appliances</td>\n",
       "      <td>NaN</td>\n",
       "      <td>300.0</td>\n",
       "      <td>600.0</td>\n",
       "      <td>2024-03-05</td>\n",
       "      <td>40</td>\n",
       "      <td>Chicago</td>\n",
       "    </tr>\n",
       "    <tr>\n",
       "      <th>3</th>\n",
       "      <td>1004</td>\n",
       "      <td>Tablet</td>\n",
       "      <td>Electronics</td>\n",
       "      <td>3.0</td>\n",
       "      <td>NaN</td>\n",
       "      <td>1200.0</td>\n",
       "      <td>2024-01-25</td>\n",
       "      <td>28</td>\n",
       "      <td>Houston</td>\n",
       "    </tr>\n",
       "    <tr>\n",
       "      <th>4</th>\n",
       "      <td>1005</td>\n",
       "      <td>Refrigerator</td>\n",
       "      <td>Home Appliances</td>\n",
       "      <td>1.0</td>\n",
       "      <td>1000.0</td>\n",
       "      <td>1000.0</td>\n",
       "      <td>2024-04-12</td>\n",
       "      <td>50</td>\n",
       "      <td>Miami</td>\n",
       "    </tr>\n",
       "  </tbody>\n",
       "</table>\n",
       "</div>"
      ],
      "text/plain": [
       "   Order_ID          Product         Category  Quantity  Unit_Price  \\\n",
       "0      1001           Laptop      Electronics       2.0       700.0   \n",
       "1      1002       Smartphone      Electronics       1.0       500.0   \n",
       "2      1003  Washing Machine  Home Appliances       NaN       300.0   \n",
       "3      1004           Tablet      Electronics       3.0         NaN   \n",
       "4      1005     Refrigerator  Home Appliances       1.0      1000.0   \n",
       "\n",
       "   Total_Price  Order_Date  Customer_Age         City  \n",
       "0       1400.0  2024-01-10            29     New York  \n",
       "1          NaN  2024-02-15            35  Los Angeles  \n",
       "2        600.0  2024-03-05            40      Chicago  \n",
       "3       1200.0  2024-01-25            28      Houston  \n",
       "4       1000.0  2024-04-12            50        Miami  "
      ]
     },
     "execution_count": 4,
     "metadata": {},
     "output_type": "execute_result"
    }
   ],
   "source": [
    "sale_pd.head()"
   ]
  },
  {
   "cell_type": "markdown",
   "id": "13b2b33d",
   "metadata": {},
   "source": [
    "Step 3 : To understand the dataset using following commands "
   ]
  },
  {
   "cell_type": "code",
   "execution_count": 5,
   "id": "2e3eab14",
   "metadata": {},
   "outputs": [
    {
     "name": "stdout",
     "output_type": "stream",
     "text": [
      "<class 'pandas.core.frame.DataFrame'>\n",
      "RangeIndex: 7 entries, 0 to 6\n",
      "Data columns (total 9 columns):\n",
      " #   Column        Non-Null Count  Dtype  \n",
      "---  ------        --------------  -----  \n",
      " 0   Order_ID      7 non-null      int64  \n",
      " 1   Product       7 non-null      object \n",
      " 2   Category      7 non-null      object \n",
      " 3   Quantity      5 non-null      float64\n",
      " 4   Unit_Price    6 non-null      float64\n",
      " 5   Total_Price   6 non-null      float64\n",
      " 6   Order_Date    7 non-null      object \n",
      " 7   Customer_Age  7 non-null      int64  \n",
      " 8   City          7 non-null      object \n",
      "dtypes: float64(3), int64(2), object(4)\n",
      "memory usage: 636.0+ bytes\n"
     ]
    }
   ],
   "source": [
    "sale_pd.info()"
   ]
  },
  {
   "cell_type": "markdown",
   "id": "17b060ff",
   "metadata": {},
   "source": [
    "Here i see that a some missing values are present in the data set, i  also  observe the dataType in the data set"
   ]
  },
  {
   "cell_type": "markdown",
   "id": "afb64d8c",
   "metadata": {},
   "source": [
    "Step 4 : Identify the missing values in the dataset\n"
   ]
  },
  {
   "cell_type": "code",
   "execution_count": 6,
   "id": "dfe6d881",
   "metadata": {},
   "outputs": [
    {
     "data": {
      "text/plain": [
       "Order_ID        0\n",
       "Product         0\n",
       "Category        0\n",
       "Quantity        2\n",
       "Unit_Price      1\n",
       "Total_Price     1\n",
       "Order_Date      0\n",
       "Customer_Age    0\n",
       "City            0\n",
       "dtype: int64"
      ]
     },
     "execution_count": 6,
     "metadata": {},
     "output_type": "execute_result"
    }
   ],
   "source": [
    "sale_pd.isnull().sum()"
   ]
  },
  {
   "cell_type": "markdown",
   "id": "ebf34ccd",
   "metadata": {},
   "source": [
    "In Quantity column and unit_price , total_price have some missing values."
   ]
  },
  {
   "cell_type": "code",
   "execution_count": 8,
   "id": "e8937b01",
   "metadata": {},
   "outputs": [
    {
     "data": {
      "text/plain": [
       "array([1001, 1002, 1003, 1004, 1005, 1006, 1007])"
      ]
     },
     "execution_count": 8,
     "metadata": {},
     "output_type": "execute_result"
    }
   ],
   "source": [
    "sale_pd['Order_ID'].unique()"
   ]
  },
  {
   "cell_type": "markdown",
   "id": "bde55053",
   "metadata": {},
   "source": [
    "Order_Id column do not impact on the data so remove it \n"
   ]
  },
  {
   "cell_type": "code",
   "execution_count": 13,
   "id": "a1633362",
   "metadata": {},
   "outputs": [],
   "source": [
    "sale_pd = sale_pd.drop('Order_ID', axis=1)"
   ]
  },
  {
   "cell_type": "code",
   "execution_count": 14,
   "id": "40a26830",
   "metadata": {},
   "outputs": [
    {
     "data": {
      "application/vnd.microsoft.datawrangler.viewer.v0+json": {
       "columns": [
        {
         "name": "index",
         "rawType": "int64",
         "type": "integer"
        },
        {
         "name": "Product",
         "rawType": "object",
         "type": "string"
        },
        {
         "name": "Category",
         "rawType": "object",
         "type": "string"
        },
        {
         "name": "Quantity",
         "rawType": "float64",
         "type": "float"
        },
        {
         "name": "Unit_Price",
         "rawType": "float64",
         "type": "float"
        },
        {
         "name": "Total_Price",
         "rawType": "float64",
         "type": "float"
        },
        {
         "name": "Order_Date",
         "rawType": "object",
         "type": "string"
        },
        {
         "name": "Customer_Age",
         "rawType": "int64",
         "type": "integer"
        },
        {
         "name": "City",
         "rawType": "object",
         "type": "string"
        }
       ],
       "conversionMethod": "pd.DataFrame",
       "ref": "e34e65ba-9905-47d7-badc-decd8d6dd51f",
       "rows": [
        [
         "0",
         "Laptop",
         "Electronics",
         "2.0",
         "700.0",
         "1400.0",
         "2024-01-10",
         "29",
         "New York"
        ],
        [
         "1",
         "Smartphone",
         "Electronics",
         "1.0",
         "500.0",
         null,
         "2024-02-15",
         "35",
         "Los Angeles"
        ],
        [
         "2",
         "Washing Machine",
         "Home Appliances",
         null,
         "300.0",
         "600.0",
         "2024-03-05",
         "40",
         "Chicago"
        ],
        [
         "3",
         "Tablet",
         "Electronics",
         "3.0",
         null,
         "1200.0",
         "2024-01-25",
         "28",
         "Houston"
        ],
        [
         "4",
         "Refrigerator",
         "Home Appliances",
         "1.0",
         "1000.0",
         "1000.0",
         "2024-04-12",
         "50",
         "Miami"
        ]
       ],
       "shape": {
        "columns": 8,
        "rows": 5
       }
      },
      "text/html": [
       "<div>\n",
       "<style scoped>\n",
       "    .dataframe tbody tr th:only-of-type {\n",
       "        vertical-align: middle;\n",
       "    }\n",
       "\n",
       "    .dataframe tbody tr th {\n",
       "        vertical-align: top;\n",
       "    }\n",
       "\n",
       "    .dataframe thead th {\n",
       "        text-align: right;\n",
       "    }\n",
       "</style>\n",
       "<table border=\"1\" class=\"dataframe\">\n",
       "  <thead>\n",
       "    <tr style=\"text-align: right;\">\n",
       "      <th></th>\n",
       "      <th>Product</th>\n",
       "      <th>Category</th>\n",
       "      <th>Quantity</th>\n",
       "      <th>Unit_Price</th>\n",
       "      <th>Total_Price</th>\n",
       "      <th>Order_Date</th>\n",
       "      <th>Customer_Age</th>\n",
       "      <th>City</th>\n",
       "    </tr>\n",
       "  </thead>\n",
       "  <tbody>\n",
       "    <tr>\n",
       "      <th>0</th>\n",
       "      <td>Laptop</td>\n",
       "      <td>Electronics</td>\n",
       "      <td>2.0</td>\n",
       "      <td>700.0</td>\n",
       "      <td>1400.0</td>\n",
       "      <td>2024-01-10</td>\n",
       "      <td>29</td>\n",
       "      <td>New York</td>\n",
       "    </tr>\n",
       "    <tr>\n",
       "      <th>1</th>\n",
       "      <td>Smartphone</td>\n",
       "      <td>Electronics</td>\n",
       "      <td>1.0</td>\n",
       "      <td>500.0</td>\n",
       "      <td>NaN</td>\n",
       "      <td>2024-02-15</td>\n",
       "      <td>35</td>\n",
       "      <td>Los Angeles</td>\n",
       "    </tr>\n",
       "    <tr>\n",
       "      <th>2</th>\n",
       "      <td>Washing Machine</td>\n",
       "      <td>Home Appliances</td>\n",
       "      <td>NaN</td>\n",
       "      <td>300.0</td>\n",
       "      <td>600.0</td>\n",
       "      <td>2024-03-05</td>\n",
       "      <td>40</td>\n",
       "      <td>Chicago</td>\n",
       "    </tr>\n",
       "    <tr>\n",
       "      <th>3</th>\n",
       "      <td>Tablet</td>\n",
       "      <td>Electronics</td>\n",
       "      <td>3.0</td>\n",
       "      <td>NaN</td>\n",
       "      <td>1200.0</td>\n",
       "      <td>2024-01-25</td>\n",
       "      <td>28</td>\n",
       "      <td>Houston</td>\n",
       "    </tr>\n",
       "    <tr>\n",
       "      <th>4</th>\n",
       "      <td>Refrigerator</td>\n",
       "      <td>Home Appliances</td>\n",
       "      <td>1.0</td>\n",
       "      <td>1000.0</td>\n",
       "      <td>1000.0</td>\n",
       "      <td>2024-04-12</td>\n",
       "      <td>50</td>\n",
       "      <td>Miami</td>\n",
       "    </tr>\n",
       "  </tbody>\n",
       "</table>\n",
       "</div>"
      ],
      "text/plain": [
       "           Product         Category  Quantity  Unit_Price  Total_Price  \\\n",
       "0           Laptop      Electronics       2.0       700.0       1400.0   \n",
       "1       Smartphone      Electronics       1.0       500.0          NaN   \n",
       "2  Washing Machine  Home Appliances       NaN       300.0        600.0   \n",
       "3           Tablet      Electronics       3.0         NaN       1200.0   \n",
       "4     Refrigerator  Home Appliances       1.0      1000.0       1000.0   \n",
       "\n",
       "   Order_Date  Customer_Age         City  \n",
       "0  2024-01-10            29     New York  \n",
       "1  2024-02-15            35  Los Angeles  \n",
       "2  2024-03-05            40      Chicago  \n",
       "3  2024-01-25            28      Houston  \n",
       "4  2024-04-12            50        Miami  "
      ]
     },
     "execution_count": 14,
     "metadata": {},
     "output_type": "execute_result"
    }
   ],
   "source": [
    "sale_pd.head()"
   ]
  },
  {
   "cell_type": "markdown",
   "id": "3e8f3427",
   "metadata": {},
   "source": [
    "Fill the missing values by using the mean of the column "
   ]
  },
  {
   "cell_type": "code",
   "execution_count": 16,
   "id": "1741505e",
   "metadata": {},
   "outputs": [
    {
     "data": {
      "text/plain": [
       "np.int64(2)"
      ]
     },
     "execution_count": 16,
     "metadata": {},
     "output_type": "execute_result"
    }
   ],
   "source": [
    "sale_pd['Quantity'].isnull().sum()"
   ]
  },
  {
   "cell_type": "code",
   "execution_count": 18,
   "id": "7d82bc3c",
   "metadata": {},
   "outputs": [],
   "source": [
    "sale_pd['Quantity'] = sale_pd['Quantity'].fillna(np.mean(sale_pd['Quantity']))"
   ]
  },
  {
   "cell_type": "code",
   "execution_count": 21,
   "id": "5ce50831",
   "metadata": {},
   "outputs": [
    {
     "data": {
      "text/plain": [
       "0    2.0\n",
       "1    1.0\n",
       "2    1.8\n",
       "3    3.0\n",
       "4    1.0\n",
       "5    2.0\n",
       "6    1.8\n",
       "Name: Quantity, dtype: float64"
      ]
     },
     "execution_count": 21,
     "metadata": {},
     "output_type": "execute_result"
    }
   ],
   "source": [
    "sale_pd['Quantity']"
   ]
  },
  {
   "cell_type": "markdown",
   "id": "f007ed14",
   "metadata": {},
   "source": [
    "So i fill the missing values with the mean of the column "
   ]
  },
  {
   "cell_type": "code",
   "execution_count": 22,
   "id": "28f380f7",
   "metadata": {},
   "outputs": [
    {
     "data": {
      "text/plain": [
       "np.int64(1)"
      ]
     },
     "execution_count": 22,
     "metadata": {},
     "output_type": "execute_result"
    }
   ],
   "source": [
    "sale_pd['Unit_Price'].isnull().sum()"
   ]
  },
  {
   "cell_type": "code",
   "execution_count": 23,
   "id": "3bfb1c76",
   "metadata": {},
   "outputs": [],
   "source": [
    "sale_pd['Unit_Price']  = sale_pd['Unit_Price'].fillna(np.mean(sale_pd['Unit_Price']))"
   ]
  },
  {
   "cell_type": "code",
   "execution_count": 26,
   "id": "d06efae7",
   "metadata": {},
   "outputs": [
    {
     "data": {
      "text/plain": [
       "0     700\n",
       "1     500\n",
       "2     300\n",
       "3     616\n",
       "4    1000\n",
       "5     700\n",
       "6     500\n",
       "Name: Unit_Price, dtype: int64"
      ]
     },
     "execution_count": 26,
     "metadata": {},
     "output_type": "execute_result"
    }
   ],
   "source": [
    "sale_pd['Unit_Price'].astype(int)"
   ]
  },
  {
   "cell_type": "markdown",
   "id": "168cda82",
   "metadata": {},
   "source": [
    "In total_price it is the multiplication of quantity and price "
   ]
  },
  {
   "cell_type": "code",
   "execution_count": 28,
   "id": "e8da3f4c",
   "metadata": {},
   "outputs": [
    {
     "data": {
      "text/plain": [
       "np.int64(1)"
      ]
     },
     "execution_count": 28,
     "metadata": {},
     "output_type": "execute_result"
    }
   ],
   "source": [
    "sale_pd['Total_Price'].isnull().sum()"
   ]
  },
  {
   "cell_type": "code",
   "execution_count": 29,
   "id": "e3b8de3d",
   "metadata": {},
   "outputs": [],
   "source": [
    "sale_pd['Total_Price'] = sale_pd['Quantity'] * sale_pd['Unit_Price']"
   ]
  },
  {
   "cell_type": "code",
   "execution_count": 31,
   "id": "ad1123d1",
   "metadata": {},
   "outputs": [
    {
     "data": {
      "text/plain": [
       "0    1400\n",
       "1     500\n",
       "2     540\n",
       "3    1850\n",
       "4    1000\n",
       "5    1400\n",
       "6     900\n",
       "Name: Total_Price, dtype: int64"
      ]
     },
     "execution_count": 31,
     "metadata": {},
     "output_type": "execute_result"
    }
   ],
   "source": [
    "sale_pd['Total_Price'].astype(int)"
   ]
  },
  {
   "cell_type": "markdown",
   "id": "5ab255ff",
   "metadata": {},
   "source": [
    "In order_date column the data in the from of string is stored. So we need to convert it into datetime format. We can use the to_datetime()"
   ]
  },
  {
   "cell_type": "code",
   "execution_count": 33,
   "id": "63f4fe40",
   "metadata": {},
   "outputs": [
    {
     "data": {
      "text/plain": [
       "str"
      ]
     },
     "execution_count": 33,
     "metadata": {},
     "output_type": "execute_result"
    }
   ],
   "source": [
    "type(sale_pd['Order_Date'][0])"
   ]
  },
  {
   "cell_type": "code",
   "execution_count": 35,
   "id": "dc2f7e85",
   "metadata": {},
   "outputs": [],
   "source": [
    "sale_pd['Order_Date'] = pd.to_datetime(sale_pd['Order_Date'])"
   ]
  },
  {
   "cell_type": "code",
   "execution_count": 36,
   "id": "19b8025b",
   "metadata": {},
   "outputs": [
    {
     "data": {
      "text/plain": [
       "pandas._libs.tslibs.timestamps.Timestamp"
      ]
     },
     "execution_count": 36,
     "metadata": {},
     "output_type": "execute_result"
    }
   ],
   "source": [
    "type(sale_pd['Order_Date'][0])"
   ]
  },
  {
   "cell_type": "code",
   "execution_count": 40,
   "id": "0687f448",
   "metadata": {},
   "outputs": [],
   "source": [
    "sale_pd['Order_Date'] = sale_pd['Order_Date'].astype(str).str.replace(' 00:00:00', '', regex=False)\n"
   ]
  },
  {
   "cell_type": "code",
   "execution_count": 41,
   "id": "76b20c4a",
   "metadata": {},
   "outputs": [
    {
     "data": {
      "text/plain": [
       "0    2024-01-10\n",
       "1    2024-02-15\n",
       "2    2024-03-05\n",
       "3    2024-01-25\n",
       "4    2024-04-12\n",
       "5    2024-05-20\n",
       "6    2024-06-10\n",
       "Name: Order_Date, dtype: object"
      ]
     },
     "execution_count": 41,
     "metadata": {},
     "output_type": "execute_result"
    }
   ],
   "source": [
    "sale_pd['Order_Date']"
   ]
  },
  {
   "cell_type": "code",
   "execution_count": 42,
   "id": "1dbe2bf3",
   "metadata": {},
   "outputs": [
    {
     "data": {
      "text/plain": [
       "array([29, 35, 40, 28, 50, 42, 33])"
      ]
     },
     "execution_count": 42,
     "metadata": {},
     "output_type": "execute_result"
    }
   ],
   "source": [
    "sale_pd['Customer_Age'].unique()"
   ]
  },
  {
   "cell_type": "code",
   "execution_count": 43,
   "id": "253d1552",
   "metadata": {},
   "outputs": [],
   "source": [
    "def age_gp(age):\n",
    "    if age < 18:\n",
    "        return \"Young\"\n",
    "    if age < 50:\n",
    "        return \"Middle\"\n",
    "    else:\n",
    "        return \"Old\"\n",
    "\n",
    "\n",
    "\n",
    "sale_pd['Customer_Age_Group'] = sale_pd['Customer_Age'].apply(age_gp)"
   ]
  },
  {
   "cell_type": "code",
   "execution_count": 45,
   "id": "ee57887e",
   "metadata": {},
   "outputs": [
    {
     "data": {
      "text/plain": [
       "array(['Middle', 'Old'], dtype=object)"
      ]
     },
     "execution_count": 45,
     "metadata": {},
     "output_type": "execute_result"
    }
   ],
   "source": [
    "sale_pd['Customer_Age_Group'].unique()"
   ]
  },
  {
   "cell_type": "code",
   "execution_count": 47,
   "id": "673339a5",
   "metadata": {},
   "outputs": [],
   "source": [
    "sale_pd.to_csv(\"Cleaned_Sales_Data.csv\", index=True)"
   ]
  },
  {
   "cell_type": "code",
   "execution_count": null,
   "id": "b9ead84d",
   "metadata": {},
   "outputs": [],
   "source": []
  }
 ],
 "metadata": {
  "kernelspec": {
   "display_name": "Python 3",
   "language": "python",
   "name": "python3"
  },
  "language_info": {
   "codemirror_mode": {
    "name": "ipython",
    "version": 3
   },
   "file_extension": ".py",
   "mimetype": "text/x-python",
   "name": "python",
   "nbconvert_exporter": "python",
   "pygments_lexer": "ipython3",
   "version": "3.11.9"
  }
 },
 "nbformat": 4,
 "nbformat_minor": 5
}
