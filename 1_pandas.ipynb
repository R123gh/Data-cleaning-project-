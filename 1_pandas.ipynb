{
 "cells": [
  {
   "cell_type": "markdown",
   "id": "13bfe88d",
   "metadata": {},
   "source": [
    "#  Intro to data structures"
   ]
  },
  {
   "cell_type": "code",
   "execution_count": 1,
   "id": "ac25cbde",
   "metadata": {},
   "outputs": [],
   "source": [
    "import pandas as pd \n",
    "import numpy as np "
   ]
  },
  {
   "cell_type": "markdown",
   "id": "03e5b614",
   "metadata": {},
   "source": [
    "# Series"
   ]
  },
  {
   "cell_type": "markdown",
   "id": "cb73177d",
   "metadata": {},
   "source": [
    "Series is a one-dimensional labeled array capable of holding any data type (integers, strings, floating point numbers, Python objects, etc.). The axis labels are collectively referred to as the index. The basic method to create a Series is to cal"
   ]
  },
  {
   "cell_type": "code",
   "execution_count": 23,
   "id": "43226d8e",
   "metadata": {},
   "outputs": [
    {
     "data": {
      "text/plain": [
       "array([1, 2, 3, 4, 5, 6, 7, 8])"
      ]
     },
     "execution_count": 23,
     "metadata": {},
     "output_type": "execute_result"
    }
   ],
   "source": [
    "data = np.array([1,2,3,4,5,6,7,8])\n",
    "data"
   ]
  },
  {
   "cell_type": "code",
   "execution_count": 24,
   "id": "bd3f1523",
   "metadata": {},
   "outputs": [
    {
     "data": {
      "text/plain": [
       "A    1\n",
       "B    2\n",
       "C    3\n",
       "D    4\n",
       "E    5\n",
       "F    6\n",
       "G    7\n",
       "H    8\n",
       "dtype: int64"
      ]
     },
     "execution_count": 24,
     "metadata": {},
     "output_type": "execute_result"
    }
   ],
   "source": [
    "s = pd.Series(data , index = ['A','B','C','D','E','F','G','H'])\n",
    "s"
   ]
  },
  {
   "cell_type": "markdown",
   "id": "79fdc823",
   "metadata": {},
   "source": [
    "TO check the type "
   ]
  },
  {
   "cell_type": "code",
   "execution_count": 4,
   "id": "c79479b7",
   "metadata": {},
   "outputs": [
    {
     "data": {
      "text/plain": [
       "pandas.core.series.Series"
      ]
     },
     "execution_count": 4,
     "metadata": {},
     "output_type": "execute_result"
    }
   ],
   "source": [
    "type(s)"
   ]
  },
  {
   "cell_type": "code",
   "execution_count": 5,
   "id": "a58517da",
   "metadata": {},
   "outputs": [
    {
     "data": {
      "text/plain": [
       "A    0.538982\n",
       "B    0.898065\n",
       "C    0.918703\n",
       "D    0.213179\n",
       "E    0.691304\n",
       "dtype: float64"
      ]
     },
     "execution_count": 5,
     "metadata": {},
     "output_type": "execute_result"
    }
   ],
   "source": [
    "series = pd.Series(np.random.rand(5),index = ['A','B','C','D','E'])\n",
    "series"
   ]
  },
  {
   "cell_type": "markdown",
   "id": "1b225f0e",
   "metadata": {},
   "source": [
    "to access the data from series "
   ]
  },
  {
   "cell_type": "code",
   "execution_count": 6,
   "id": "7873e257",
   "metadata": {},
   "outputs": [
    {
     "data": {
      "text/plain": [
       "array([0.53898163, 0.89806536, 0.91870332, 0.21317852, 0.69130427])"
      ]
     },
     "execution_count": 6,
     "metadata": {},
     "output_type": "execute_result"
    }
   ],
   "source": [
    "series.values"
   ]
  },
  {
   "cell_type": "markdown",
   "id": "7a418762",
   "metadata": {},
   "source": [
    "To access the index "
   ]
  },
  {
   "cell_type": "code",
   "execution_count": 7,
   "id": "a08126b0",
   "metadata": {},
   "outputs": [
    {
     "data": {
      "text/plain": [
       "Index(['A', 'B', 'C', 'D', 'E'], dtype='object')"
      ]
     },
     "execution_count": 7,
     "metadata": {},
     "output_type": "execute_result"
    }
   ],
   "source": [
    "series.index"
   ]
  },
  {
   "cell_type": "markdown",
   "id": "b0f4b21f",
   "metadata": {},
   "source": [
    "#   From dict"
   ]
  },
  {
   "cell_type": "code",
   "execution_count": 8,
   "id": "3ac86e5a",
   "metadata": {},
   "outputs": [],
   "source": [
    "d = {'a': 1, 'b': 2, 'c': 3}"
   ]
  },
  {
   "cell_type": "code",
   "execution_count": 9,
   "id": "8ba424d7",
   "metadata": {},
   "outputs": [
    {
     "data": {
      "text/plain": [
       "a    1\n",
       "b    2\n",
       "c    3\n",
       "dtype: int64"
      ]
     },
     "execution_count": 9,
     "metadata": {},
     "output_type": "execute_result"
    }
   ],
   "source": [
    "series2 = pd.Series(d)\n",
    "series2"
   ]
  },
  {
   "cell_type": "markdown",
   "id": "0f9c571c",
   "metadata": {},
   "source": [
    "#  Series is ndarray-like"
   ]
  },
  {
   "cell_type": "markdown",
   "id": "742f4784",
   "metadata": {},
   "source": [
    "Series acts very similarly to a ndarray and is a valid argument to most NumPy functions. However, operations such as slicing will also slice the index"
   ]
  },
  {
   "cell_type": "code",
   "execution_count": 26,
   "id": "0c8f18e1",
   "metadata": {},
   "outputs": [
    {
     "data": {
      "text/plain": [
       "a   -0.727063\n",
       "b   -1.791956\n",
       "c    1.022638\n",
       "d    2.771892\n",
       "e   -0.417474\n",
       "dtype: float64"
      ]
     },
     "execution_count": 26,
     "metadata": {},
     "output_type": "execute_result"
    }
   ],
   "source": [
    "s = pd.Series(np.random.randn(5), index=['a', 'b', 'c', 'd', 'e'])\n",
    "s"
   ]
  },
  {
   "cell_type": "code",
   "execution_count": 28,
   "id": "232d8043",
   "metadata": {},
   "outputs": [
    {
     "data": {
      "text/plain": [
       "np.float64(-0.73)"
      ]
     },
     "execution_count": 28,
     "metadata": {},
     "output_type": "execute_result"
    }
   ],
   "source": [
    "s.iloc[0].round(2)"
   ]
  },
  {
   "cell_type": "code",
   "execution_count": 29,
   "id": "c077de29",
   "metadata": {},
   "outputs": [
    {
     "data": {
      "text/plain": [
       "a   -0.727063\n",
       "b   -1.791956\n",
       "c    1.022638\n",
       "dtype: float64"
      ]
     },
     "execution_count": 29,
     "metadata": {},
     "output_type": "execute_result"
    }
   ],
   "source": [
    "s.iloc[:3]"
   ]
  },
  {
   "cell_type": "code",
   "execution_count": 30,
   "id": "4450d360",
   "metadata": {},
   "outputs": [
    {
     "data": {
      "text/plain": [
       "c    1.022638\n",
       "d    2.771892\n",
       "dtype: float64"
      ]
     },
     "execution_count": 30,
     "metadata": {},
     "output_type": "execute_result"
    }
   ],
   "source": [
    "s[s > s.median()]"
   ]
  },
  {
   "cell_type": "markdown",
   "id": "5b700a75",
   "metadata": {},
   "source": [
    "# Vectorized operations and label alignment with Series"
   ]
  },
  {
   "cell_type": "markdown",
   "id": "c1a09783",
   "metadata": {},
   "source": [
    "When working with raw NumPy arrays, looping through value-by-value is usually not necessary. The same is true when working with Series in pandas. Series can also be passed into most NumPy methods expecting an ndarray"
   ]
  },
  {
   "cell_type": "code",
   "execution_count": 31,
   "id": "911d94ff",
   "metadata": {},
   "outputs": [
    {
     "data": {
      "text/plain": [
       "a   -1.454126\n",
       "b   -3.583911\n",
       "c    2.045275\n",
       "d    5.543784\n",
       "e   -0.834948\n",
       "dtype: float64"
      ]
     },
     "execution_count": 31,
     "metadata": {},
     "output_type": "execute_result"
    }
   ],
   "source": [
    "s + s"
   ]
  },
  {
   "cell_type": "code",
   "execution_count": 32,
   "id": "f8b61fff",
   "metadata": {},
   "outputs": [
    {
     "data": {
      "text/plain": [
       "a   -1.454126\n",
       "b   -3.583911\n",
       "c    2.045275\n",
       "d    5.543784\n",
       "e   -0.834948\n",
       "dtype: float64"
      ]
     },
     "execution_count": 32,
     "metadata": {},
     "output_type": "execute_result"
    }
   ],
   "source": [
    "s * 2"
   ]
  },
  {
   "cell_type": "code",
   "execution_count": 33,
   "id": "6f2c3a60",
   "metadata": {},
   "outputs": [
    {
     "data": {
      "text/plain": [
       "a         NaN\n",
       "b   -3.583911\n",
       "c    2.045275\n",
       "d    5.543784\n",
       "e         NaN\n",
       "dtype: float64"
      ]
     },
     "execution_count": 33,
     "metadata": {},
     "output_type": "execute_result"
    }
   ],
   "source": [
    "s.iloc[1:] + s.iloc[:-1]"
   ]
  },
  {
   "cell_type": "markdown",
   "id": "88f5255a",
   "metadata": {},
   "source": [
    "#   Name attribute"
   ]
  },
  {
   "cell_type": "code",
   "execution_count": 17,
   "id": "71b5fb1e",
   "metadata": {},
   "outputs": [],
   "source": [
    "s = pd.Series(np.random.randn(5), name=\"raghav\")"
   ]
  },
  {
   "cell_type": "code",
   "execution_count": 18,
   "id": "7ce57065",
   "metadata": {},
   "outputs": [
    {
     "data": {
      "text/plain": [
       "0   -0.305569\n",
       "1   -1.876293\n",
       "2   -0.636330\n",
       "3    0.022954\n",
       "4   -0.449773\n",
       "Name: raghav, dtype: float64"
      ]
     },
     "execution_count": 18,
     "metadata": {},
     "output_type": "execute_result"
    }
   ],
   "source": [
    "s"
   ]
  },
  {
   "cell_type": "code",
   "execution_count": 19,
   "id": "61eacdbf",
   "metadata": {},
   "outputs": [
    {
     "data": {
      "text/plain": [
       "'raghav'"
      ]
     },
     "execution_count": 19,
     "metadata": {},
     "output_type": "execute_result"
    }
   ],
   "source": [
    "s.name"
   ]
  },
  {
   "cell_type": "code",
   "execution_count": 20,
   "id": "6a559edf",
   "metadata": {},
   "outputs": [],
   "source": [
    "s2 = s.rename(\"Updated Name\")"
   ]
  },
  {
   "cell_type": "code",
   "execution_count": 21,
   "id": "e63e3a0e",
   "metadata": {},
   "outputs": [
    {
     "data": {
      "text/plain": [
       "'Updated Name'"
      ]
     },
     "execution_count": 21,
     "metadata": {},
     "output_type": "execute_result"
    }
   ],
   "source": [
    "s2.name"
   ]
  },
  {
   "cell_type": "code",
   "execution_count": null,
   "id": "b6e5a9c8",
   "metadata": {},
   "outputs": [],
   "source": []
  }
 ],
 "metadata": {
  "kernelspec": {
   "display_name": "Python 3",
   "language": "python",
   "name": "python3"
  },
  "language_info": {
   "codemirror_mode": {
    "name": "ipython",
    "version": 3
   },
   "file_extension": ".py",
   "mimetype": "text/x-python",
   "name": "python",
   "nbconvert_exporter": "python",
   "pygments_lexer": "ipython3",
   "version": "3.11.9"
  }
 },
 "nbformat": 4,
 "nbformat_minor": 5
}
