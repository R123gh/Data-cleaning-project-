{
 "cells": [
  {
   "cell_type": "code",
   "execution_count": 12,
   "id": "5be78b91",
   "metadata": {},
   "outputs": [],
   "source": [
    "import pandas as pd \n",
    "import numpy as np "
   ]
  },
  {
   "cell_type": "code",
   "execution_count": 13,
   "id": "8edc1a87",
   "metadata": {},
   "outputs": [],
   "source": [
    "d = {\n",
    "\t\"s\": pd.Series([1, 2, 3, np.nan, 5] ,  index = [0, 1, 2, 3, 4]),\n",
    "\t\"s2\": pd.Series([7, 8, 9, np.nan, 11] , index = [0, 1, 2, 3, 4]),\n",
    "}"
   ]
  },
  {
   "cell_type": "code",
   "execution_count": 14,
   "id": "8196713b",
   "metadata": {},
   "outputs": [
    {
     "data": {
      "text/plain": [
       "{'s': 0    1.0\n",
       " 1    2.0\n",
       " 2    3.0\n",
       " 3    NaN\n",
       " 4    5.0\n",
       " dtype: float64,\n",
       " 's2': 0     7.0\n",
       " 1     8.0\n",
       " 2     9.0\n",
       " 3     NaN\n",
       " 4    11.0\n",
       " dtype: float64}"
      ]
     },
     "execution_count": 14,
     "metadata": {},
     "output_type": "execute_result"
    }
   ],
   "source": [
    "d"
   ]
  },
  {
   "cell_type": "markdown",
   "id": "82e2491a",
   "metadata": {},
   "source": [
    "Dataframe"
   ]
  },
  {
   "cell_type": "code",
   "execution_count": 15,
   "id": "58f1b737",
   "metadata": {},
   "outputs": [],
   "source": [
    "df = pd.DataFrame(d)"
   ]
  },
  {
   "cell_type": "code",
   "execution_count": 16,
   "id": "707804d8",
   "metadata": {},
   "outputs": [
    {
     "data": {
      "application/vnd.microsoft.datawrangler.viewer.v0+json": {
       "columns": [
        {
         "name": "index",
         "rawType": "int64",
         "type": "integer"
        },
        {
         "name": "s",
         "rawType": "float64",
         "type": "float"
        },
        {
         "name": "s2",
         "rawType": "float64",
         "type": "float"
        }
       ],
       "conversionMethod": "pd.DataFrame",
       "ref": "168a4141-dd46-46fa-be8a-9028c1f57cc7",
       "rows": [
        [
         "0",
         "1.0",
         "7.0"
        ],
        [
         "1",
         "2.0",
         "8.0"
        ],
        [
         "2",
         "3.0",
         "9.0"
        ],
        [
         "3",
         null,
         null
        ],
        [
         "4",
         "5.0",
         "11.0"
        ]
       ],
       "shape": {
        "columns": 2,
        "rows": 5
       }
      },
      "text/html": [
       "<div>\n",
       "<style scoped>\n",
       "    .dataframe tbody tr th:only-of-type {\n",
       "        vertical-align: middle;\n",
       "    }\n",
       "\n",
       "    .dataframe tbody tr th {\n",
       "        vertical-align: top;\n",
       "    }\n",
       "\n",
       "    .dataframe thead th {\n",
       "        text-align: right;\n",
       "    }\n",
       "</style>\n",
       "<table border=\"1\" class=\"dataframe\">\n",
       "  <thead>\n",
       "    <tr style=\"text-align: right;\">\n",
       "      <th></th>\n",
       "      <th>s</th>\n",
       "      <th>s2</th>\n",
       "    </tr>\n",
       "  </thead>\n",
       "  <tbody>\n",
       "    <tr>\n",
       "      <th>0</th>\n",
       "      <td>1.0</td>\n",
       "      <td>7.0</td>\n",
       "    </tr>\n",
       "    <tr>\n",
       "      <th>1</th>\n",
       "      <td>2.0</td>\n",
       "      <td>8.0</td>\n",
       "    </tr>\n",
       "    <tr>\n",
       "      <th>2</th>\n",
       "      <td>3.0</td>\n",
       "      <td>9.0</td>\n",
       "    </tr>\n",
       "    <tr>\n",
       "      <th>3</th>\n",
       "      <td>NaN</td>\n",
       "      <td>NaN</td>\n",
       "    </tr>\n",
       "    <tr>\n",
       "      <th>4</th>\n",
       "      <td>5.0</td>\n",
       "      <td>11.0</td>\n",
       "    </tr>\n",
       "  </tbody>\n",
       "</table>\n",
       "</div>"
      ],
      "text/plain": [
       "     s    s2\n",
       "0  1.0   7.0\n",
       "1  2.0   8.0\n",
       "2  3.0   9.0\n",
       "3  NaN   NaN\n",
       "4  5.0  11.0"
      ]
     },
     "execution_count": 16,
     "metadata": {},
     "output_type": "execute_result"
    }
   ],
   "source": [
    "df"
   ]
  },
  {
   "cell_type": "markdown",
   "id": "c6c1b0e2",
   "metadata": {},
   "source": [
    "To handle missing values in dataframe"
   ]
  },
  {
   "cell_type": "code",
   "execution_count": 19,
   "id": "e2c8984e",
   "metadata": {},
   "outputs": [],
   "source": [
    "df.fillna(1, inplace=True)"
   ]
  },
  {
   "cell_type": "code",
   "execution_count": 20,
   "id": "5ae9e6da",
   "metadata": {},
   "outputs": [
    {
     "data": {
      "application/vnd.microsoft.datawrangler.viewer.v0+json": {
       "columns": [
        {
         "name": "index",
         "rawType": "int64",
         "type": "integer"
        },
        {
         "name": "s",
         "rawType": "float64",
         "type": "float"
        },
        {
         "name": "s2",
         "rawType": "float64",
         "type": "float"
        }
       ],
       "conversionMethod": "pd.DataFrame",
       "ref": "b208bc2c-22d1-46d0-bc74-be40d15837b2",
       "rows": [
        [
         "0",
         "1.0",
         "7.0"
        ],
        [
         "1",
         "2.0",
         "8.0"
        ],
        [
         "2",
         "3.0",
         "9.0"
        ],
        [
         "3",
         "1.0",
         "1.0"
        ],
        [
         "4",
         "5.0",
         "11.0"
        ]
       ],
       "shape": {
        "columns": 2,
        "rows": 5
       }
      },
      "text/html": [
       "<div>\n",
       "<style scoped>\n",
       "    .dataframe tbody tr th:only-of-type {\n",
       "        vertical-align: middle;\n",
       "    }\n",
       "\n",
       "    .dataframe tbody tr th {\n",
       "        vertical-align: top;\n",
       "    }\n",
       "\n",
       "    .dataframe thead th {\n",
       "        text-align: right;\n",
       "    }\n",
       "</style>\n",
       "<table border=\"1\" class=\"dataframe\">\n",
       "  <thead>\n",
       "    <tr style=\"text-align: right;\">\n",
       "      <th></th>\n",
       "      <th>s</th>\n",
       "      <th>s2</th>\n",
       "    </tr>\n",
       "  </thead>\n",
       "  <tbody>\n",
       "    <tr>\n",
       "      <th>0</th>\n",
       "      <td>1.0</td>\n",
       "      <td>7.0</td>\n",
       "    </tr>\n",
       "    <tr>\n",
       "      <th>1</th>\n",
       "      <td>2.0</td>\n",
       "      <td>8.0</td>\n",
       "    </tr>\n",
       "    <tr>\n",
       "      <th>2</th>\n",
       "      <td>3.0</td>\n",
       "      <td>9.0</td>\n",
       "    </tr>\n",
       "    <tr>\n",
       "      <th>3</th>\n",
       "      <td>1.0</td>\n",
       "      <td>1.0</td>\n",
       "    </tr>\n",
       "    <tr>\n",
       "      <th>4</th>\n",
       "      <td>5.0</td>\n",
       "      <td>11.0</td>\n",
       "    </tr>\n",
       "  </tbody>\n",
       "</table>\n",
       "</div>"
      ],
      "text/plain": [
       "     s    s2\n",
       "0  1.0   7.0\n",
       "1  2.0   8.0\n",
       "2  3.0   9.0\n",
       "3  1.0   1.0\n",
       "4  5.0  11.0"
      ]
     },
     "execution_count": 20,
     "metadata": {},
     "output_type": "execute_result"
    }
   ],
   "source": [
    "df"
   ]
  },
  {
   "cell_type": "markdown",
   "id": "143e88af",
   "metadata": {},
   "source": [
    "#  Descriptive statistics"
   ]
  },
  {
   "cell_type": "markdown",
   "id": "f7aea3c8",
   "metadata": {},
   "source": [
    "To find mean"
   ]
  },
  {
   "cell_type": "code",
   "execution_count": 27,
   "id": "cf13e0d5",
   "metadata": {},
   "outputs": [
    {
     "data": {
      "application/vnd.microsoft.datawrangler.viewer.v0+json": {
       "columns": [
        {
         "name": "index",
         "rawType": "int64",
         "type": "integer"
        },
        {
         "name": "s",
         "rawType": "float64",
         "type": "float"
        },
        {
         "name": "s2",
         "rawType": "float64",
         "type": "float"
        }
       ],
       "conversionMethod": "pd.DataFrame",
       "ref": "77d5e3ee-0290-4766-a399-174eae1544ca",
       "rows": [
        [
         "0",
         "1.0",
         "7.0"
        ],
        [
         "1",
         "2.0",
         "8.0"
        ],
        [
         "2",
         "3.0",
         "9.0"
        ],
        [
         "3",
         "1.0",
         "1.0"
        ],
        [
         "4",
         "5.0",
         "11.0"
        ]
       ],
       "shape": {
        "columns": 2,
        "rows": 5
       }
      },
      "text/html": [
       "<div>\n",
       "<style scoped>\n",
       "    .dataframe tbody tr th:only-of-type {\n",
       "        vertical-align: middle;\n",
       "    }\n",
       "\n",
       "    .dataframe tbody tr th {\n",
       "        vertical-align: top;\n",
       "    }\n",
       "\n",
       "    .dataframe thead th {\n",
       "        text-align: right;\n",
       "    }\n",
       "</style>\n",
       "<table border=\"1\" class=\"dataframe\">\n",
       "  <thead>\n",
       "    <tr style=\"text-align: right;\">\n",
       "      <th></th>\n",
       "      <th>s</th>\n",
       "      <th>s2</th>\n",
       "    </tr>\n",
       "  </thead>\n",
       "  <tbody>\n",
       "    <tr>\n",
       "      <th>0</th>\n",
       "      <td>1.0</td>\n",
       "      <td>7.0</td>\n",
       "    </tr>\n",
       "    <tr>\n",
       "      <th>1</th>\n",
       "      <td>2.0</td>\n",
       "      <td>8.0</td>\n",
       "    </tr>\n",
       "    <tr>\n",
       "      <th>2</th>\n",
       "      <td>3.0</td>\n",
       "      <td>9.0</td>\n",
       "    </tr>\n",
       "    <tr>\n",
       "      <th>3</th>\n",
       "      <td>1.0</td>\n",
       "      <td>1.0</td>\n",
       "    </tr>\n",
       "    <tr>\n",
       "      <th>4</th>\n",
       "      <td>5.0</td>\n",
       "      <td>11.0</td>\n",
       "    </tr>\n",
       "  </tbody>\n",
       "</table>\n",
       "</div>"
      ],
      "text/plain": [
       "     s    s2\n",
       "0  1.0   7.0\n",
       "1  2.0   8.0\n",
       "2  3.0   9.0\n",
       "3  1.0   1.0\n",
       "4  5.0  11.0"
      ]
     },
     "execution_count": 27,
     "metadata": {},
     "output_type": "execute_result"
    }
   ],
   "source": [
    "df"
   ]
  },
  {
   "cell_type": "code",
   "execution_count": 28,
   "id": "acb790c2",
   "metadata": {},
   "outputs": [
    {
     "data": {
      "text/plain": [
       "0    4.0\n",
       "1    5.0\n",
       "2    6.0\n",
       "3    1.0\n",
       "4    8.0\n",
       "dtype: float64"
      ]
     },
     "execution_count": 28,
     "metadata": {},
     "output_type": "execute_result"
    }
   ],
   "source": [
    "df.mean(axis = 1)"
   ]
  },
  {
   "cell_type": "code",
   "execution_count": 29,
   "id": "02753b81",
   "metadata": {},
   "outputs": [
    {
     "data": {
      "text/plain": [
       "s     2.4\n",
       "s2    7.2\n",
       "dtype: float64"
      ]
     },
     "execution_count": 29,
     "metadata": {},
     "output_type": "execute_result"
    }
   ],
   "source": [
    "df.mean(axis = 0)"
   ]
  },
  {
   "cell_type": "markdown",
   "id": "3dd79675",
   "metadata": {},
   "source": [
    "To find sum "
   ]
  },
  {
   "cell_type": "code",
   "execution_count": 30,
   "id": "542f64cc",
   "metadata": {},
   "outputs": [
    {
     "data": {
      "text/plain": [
       "s     12.0\n",
       "s2    36.0\n",
       "dtype: float64"
      ]
     },
     "execution_count": 30,
     "metadata": {},
     "output_type": "execute_result"
    }
   ],
   "source": [
    "df.sum(0)"
   ]
  },
  {
   "cell_type": "code",
   "execution_count": 31,
   "id": "a6d2728d",
   "metadata": {},
   "outputs": [
    {
     "data": {
      "text/plain": [
       "0     8.0\n",
       "1    10.0\n",
       "2    12.0\n",
       "3     2.0\n",
       "4    16.0\n",
       "dtype: float64"
      ]
     },
     "execution_count": 31,
     "metadata": {},
     "output_type": "execute_result"
    }
   ],
   "source": [
    "df.sum(1)"
   ]
  },
  {
   "cell_type": "markdown",
   "id": "648de275",
   "metadata": {},
   "source": [
    "To find median "
   ]
  },
  {
   "cell_type": "code",
   "execution_count": 32,
   "id": "9f885a07",
   "metadata": {},
   "outputs": [
    {
     "data": {
      "text/plain": [
       "s     2.0\n",
       "s2    8.0\n",
       "dtype: float64"
      ]
     },
     "execution_count": 32,
     "metadata": {},
     "output_type": "execute_result"
    }
   ],
   "source": [
    "df.median(0)"
   ]
  },
  {
   "cell_type": "code",
   "execution_count": 33,
   "id": "2baa9184",
   "metadata": {},
   "outputs": [
    {
     "data": {
      "text/plain": [
       "0    4.0\n",
       "1    5.0\n",
       "2    6.0\n",
       "3    1.0\n",
       "4    8.0\n",
       "dtype: float64"
      ]
     },
     "execution_count": 33,
     "metadata": {},
     "output_type": "execute_result"
    }
   ],
   "source": [
    "df.median(1)"
   ]
  },
  {
   "cell_type": "markdown",
   "id": "15aade68",
   "metadata": {},
   "source": [
    "To find min / max"
   ]
  },
  {
   "cell_type": "code",
   "execution_count": 34,
   "id": "d43d54e7",
   "metadata": {},
   "outputs": [
    {
     "data": {
      "text/plain": [
       "s     1.0\n",
       "s2    1.0\n",
       "dtype: float64"
      ]
     },
     "execution_count": 34,
     "metadata": {},
     "output_type": "execute_result"
    }
   ],
   "source": [
    "df.min(0)"
   ]
  },
  {
   "cell_type": "code",
   "execution_count": 35,
   "id": "174f0488",
   "metadata": {},
   "outputs": [
    {
     "data": {
      "text/plain": [
       "0    1.0\n",
       "1    2.0\n",
       "2    3.0\n",
       "3    1.0\n",
       "4    5.0\n",
       "dtype: float64"
      ]
     },
     "execution_count": 35,
     "metadata": {},
     "output_type": "execute_result"
    }
   ],
   "source": [
    "df.min(1)"
   ]
  },
  {
   "cell_type": "markdown",
   "id": "13d9f49a",
   "metadata": {},
   "source": [
    "count\n",
    "\n",
    "Number of non-NA observations\n",
    "\n",
    "sum\n",
    "\n",
    "Sum of values\n",
    "\n",
    "mean\n",
    "\n",
    "Mean of values\n",
    "\n",
    "median\n",
    "\n",
    "Arithmetic median of values\n",
    "\n",
    "min\n",
    "\n",
    "Minimum\n",
    "\n",
    "max\n",
    "\n",
    "Maximum\n",
    "\n",
    "mode\n",
    "\n",
    "Mode\n",
    "\n",
    "abs\n",
    "\n",
    "Absolute Value\n",
    "\n",
    "prod\n",
    "\n",
    "Product of values\n",
    "\n",
    "std\n",
    "\n",
    "Bessel-corrected sample standard deviation\n",
    "\n",
    "var\n",
    "\n",
    "Unbiased variance\n",
    "\n",
    "sem\n",
    "\n",
    "Standard error of the mean\n",
    "\n",
    "skew\n",
    "\n",
    "Sample skewness (3rd moment)\n",
    "\n",
    "kurt\n",
    "\n",
    "Sample kurtosis (4th moment)\n",
    "\n",
    "quantile\n",
    "\n",
    "Sample quantile (value at %)\n",
    "\n",
    "cumsum\n",
    "\n",
    "Cumulative sum\n",
    "\n",
    "cumprod\n",
    "\n",
    "Cumulative product\n",
    "\n",
    "cummax\n",
    "\n",
    "Cumulative maximum\n",
    "\n",
    "cummin\n",
    "\n",
    "Cumulative minimum"
   ]
  },
  {
   "cell_type": "markdown",
   "id": "f0b1e5c9",
   "metadata": {},
   "source": [
    "To find STD"
   ]
  },
  {
   "cell_type": "code",
   "execution_count": 37,
   "id": "702e84c7",
   "metadata": {},
   "outputs": [
    {
     "data": {
      "text/plain": [
       "s     1.673320\n",
       "s2    3.768289\n",
       "dtype: float64"
      ]
     },
     "execution_count": 37,
     "metadata": {},
     "output_type": "execute_result"
    }
   ],
   "source": [
    "df.std(0)"
   ]
  },
  {
   "cell_type": "code",
   "execution_count": 38,
   "id": "35d5e0bf",
   "metadata": {},
   "outputs": [
    {
     "data": {
      "text/plain": [
       "0    4.242641\n",
       "1    4.242641\n",
       "2    4.242641\n",
       "3    0.000000\n",
       "4    4.242641\n",
       "dtype: float64"
      ]
     },
     "execution_count": 38,
     "metadata": {},
     "output_type": "execute_result"
    }
   ],
   "source": [
    "df.std(1)"
   ]
  },
  {
   "cell_type": "code",
   "execution_count": 39,
   "id": "268704d1",
   "metadata": {},
   "outputs": [
    {
     "data": {
      "text/plain": [
       "s     1.088512\n",
       "s2   -1.379189\n",
       "dtype: float64"
      ]
     },
     "execution_count": 39,
     "metadata": {},
     "output_type": "execute_result"
    }
   ],
   "source": [
    "df.skew(0)"
   ]
  },
  {
   "cell_type": "code",
   "execution_count": 41,
   "id": "15dcb1d5",
   "metadata": {},
   "outputs": [
    {
     "data": {
      "text/plain": [
       "0   NaN\n",
       "1   NaN\n",
       "2   NaN\n",
       "3   NaN\n",
       "4   NaN\n",
       "dtype: float64"
      ]
     },
     "execution_count": 41,
     "metadata": {},
     "output_type": "execute_result"
    }
   ],
   "source": [
    "df.skew(1)"
   ]
  },
  {
   "cell_type": "code",
   "execution_count": null,
   "id": "0b401d9a",
   "metadata": {},
   "outputs": [],
   "source": []
  },
  {
   "cell_type": "code",
   "execution_count": null,
   "id": "d86006d0",
   "metadata": {},
   "outputs": [],
   "source": []
  }
 ],
 "metadata": {
  "kernelspec": {
   "display_name": "Python 3",
   "language": "python",
   "name": "python3"
  },
  "language_info": {
   "codemirror_mode": {
    "name": "ipython",
    "version": 3
   },
   "file_extension": ".py",
   "mimetype": "text/x-python",
   "name": "python",
   "nbconvert_exporter": "python",
   "pygments_lexer": "ipython3",
   "version": "3.11.9"
  }
 },
 "nbformat": 4,
 "nbformat_minor": 5
}
