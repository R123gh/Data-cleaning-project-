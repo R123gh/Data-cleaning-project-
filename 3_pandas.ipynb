{
 "cells": [
  {
   "cell_type": "code",
   "execution_count": 1,
   "id": "5be78b91",
   "metadata": {},
   "outputs": [],
   "source": [
    "import pandas as pd \n",
    "import numpy as np "
   ]
  },
  {
   "cell_type": "code",
   "execution_count": 2,
   "id": "8edc1a87",
   "metadata": {},
   "outputs": [],
   "source": [
    "d = {\n",
    "\t\"s\": pd.Series([1, 2, 3, np.nan, 5] ,  index = [0, 1, 2, 3, 4]),\n",
    "\t\"s2\": pd.Series([7, 8, 9, np.nan, 11] , index = [0, 1, 2, 3, 4]),\n",
    "}"
   ]
  },
  {
   "cell_type": "code",
   "execution_count": 3,
   "id": "8196713b",
   "metadata": {},
   "outputs": [
    {
     "data": {
      "text/plain": [
       "{'s': 0    1.0\n",
       " 1    2.0\n",
       " 2    3.0\n",
       " 3    NaN\n",
       " 4    5.0\n",
       " dtype: float64,\n",
       " 's2': 0     7.0\n",
       " 1     8.0\n",
       " 2     9.0\n",
       " 3     NaN\n",
       " 4    11.0\n",
       " dtype: float64}"
      ]
     },
     "execution_count": 3,
     "metadata": {},
     "output_type": "execute_result"
    }
   ],
   "source": [
    "d"
   ]
  },
  {
   "cell_type": "markdown",
   "id": "82e2491a",
   "metadata": {},
   "source": [
    "Dataframe"
   ]
  },
  {
   "cell_type": "code",
   "execution_count": 4,
   "id": "58f1b737",
   "metadata": {},
   "outputs": [],
   "source": [
    "df = pd.DataFrame(d)"
   ]
  },
  {
   "cell_type": "code",
   "execution_count": 5,
   "id": "707804d8",
   "metadata": {},
   "outputs": [
    {
     "data": {
      "application/vnd.microsoft.datawrangler.viewer.v0+json": {
       "columns": [
        {
         "name": "index",
         "rawType": "int64",
         "type": "integer"
        },
        {
         "name": "s",
         "rawType": "float64",
         "type": "float"
        },
        {
         "name": "s2",
         "rawType": "float64",
         "type": "float"
        }
       ],
       "conversionMethod": "pd.DataFrame",
       "ref": "db1907d1-c64a-46d3-a1ad-f0fcfd0a6693",
       "rows": [
        [
         "0",
         "1.0",
         "7.0"
        ],
        [
         "1",
         "2.0",
         "8.0"
        ],
        [
         "2",
         "3.0",
         "9.0"
        ],
        [
         "3",
         null,
         null
        ],
        [
         "4",
         "5.0",
         "11.0"
        ]
       ],
       "shape": {
        "columns": 2,
        "rows": 5
       }
      },
      "text/html": [
       "<div>\n",
       "<style scoped>\n",
       "    .dataframe tbody tr th:only-of-type {\n",
       "        vertical-align: middle;\n",
       "    }\n",
       "\n",
       "    .dataframe tbody tr th {\n",
       "        vertical-align: top;\n",
       "    }\n",
       "\n",
       "    .dataframe thead th {\n",
       "        text-align: right;\n",
       "    }\n",
       "</style>\n",
       "<table border=\"1\" class=\"dataframe\">\n",
       "  <thead>\n",
       "    <tr style=\"text-align: right;\">\n",
       "      <th></th>\n",
       "      <th>s</th>\n",
       "      <th>s2</th>\n",
       "    </tr>\n",
       "  </thead>\n",
       "  <tbody>\n",
       "    <tr>\n",
       "      <th>0</th>\n",
       "      <td>1.0</td>\n",
       "      <td>7.0</td>\n",
       "    </tr>\n",
       "    <tr>\n",
       "      <th>1</th>\n",
       "      <td>2.0</td>\n",
       "      <td>8.0</td>\n",
       "    </tr>\n",
       "    <tr>\n",
       "      <th>2</th>\n",
       "      <td>3.0</td>\n",
       "      <td>9.0</td>\n",
       "    </tr>\n",
       "    <tr>\n",
       "      <th>3</th>\n",
       "      <td>NaN</td>\n",
       "      <td>NaN</td>\n",
       "    </tr>\n",
       "    <tr>\n",
       "      <th>4</th>\n",
       "      <td>5.0</td>\n",
       "      <td>11.0</td>\n",
       "    </tr>\n",
       "  </tbody>\n",
       "</table>\n",
       "</div>"
      ],
      "text/plain": [
       "     s    s2\n",
       "0  1.0   7.0\n",
       "1  2.0   8.0\n",
       "2  3.0   9.0\n",
       "3  NaN   NaN\n",
       "4  5.0  11.0"
      ]
     },
     "execution_count": 5,
     "metadata": {},
     "output_type": "execute_result"
    }
   ],
   "source": [
    "df"
   ]
  },
  {
   "cell_type": "markdown",
   "id": "c6c1b0e2",
   "metadata": {},
   "source": [
    "To handle missing values in dataframe"
   ]
  },
  {
   "cell_type": "code",
   "execution_count": 6,
   "id": "e2c8984e",
   "metadata": {},
   "outputs": [],
   "source": [
    "df.fillna(1, inplace=True)"
   ]
  },
  {
   "cell_type": "code",
   "execution_count": 7,
   "id": "5ae9e6da",
   "metadata": {},
   "outputs": [
    {
     "data": {
      "application/vnd.microsoft.datawrangler.viewer.v0+json": {
       "columns": [
        {
         "name": "index",
         "rawType": "int64",
         "type": "integer"
        },
        {
         "name": "s",
         "rawType": "float64",
         "type": "float"
        },
        {
         "name": "s2",
         "rawType": "float64",
         "type": "float"
        }
       ],
       "conversionMethod": "pd.DataFrame",
       "ref": "8f66df94-75e6-4ad0-b42e-d6ccf71e4210",
       "rows": [
        [
         "0",
         "1.0",
         "7.0"
        ],
        [
         "1",
         "2.0",
         "8.0"
        ],
        [
         "2",
         "3.0",
         "9.0"
        ],
        [
         "3",
         "1.0",
         "1.0"
        ],
        [
         "4",
         "5.0",
         "11.0"
        ]
       ],
       "shape": {
        "columns": 2,
        "rows": 5
       }
      },
      "text/html": [
       "<div>\n",
       "<style scoped>\n",
       "    .dataframe tbody tr th:only-of-type {\n",
       "        vertical-align: middle;\n",
       "    }\n",
       "\n",
       "    .dataframe tbody tr th {\n",
       "        vertical-align: top;\n",
       "    }\n",
       "\n",
       "    .dataframe thead th {\n",
       "        text-align: right;\n",
       "    }\n",
       "</style>\n",
       "<table border=\"1\" class=\"dataframe\">\n",
       "  <thead>\n",
       "    <tr style=\"text-align: right;\">\n",
       "      <th></th>\n",
       "      <th>s</th>\n",
       "      <th>s2</th>\n",
       "    </tr>\n",
       "  </thead>\n",
       "  <tbody>\n",
       "    <tr>\n",
       "      <th>0</th>\n",
       "      <td>1.0</td>\n",
       "      <td>7.0</td>\n",
       "    </tr>\n",
       "    <tr>\n",
       "      <th>1</th>\n",
       "      <td>2.0</td>\n",
       "      <td>8.0</td>\n",
       "    </tr>\n",
       "    <tr>\n",
       "      <th>2</th>\n",
       "      <td>3.0</td>\n",
       "      <td>9.0</td>\n",
       "    </tr>\n",
       "    <tr>\n",
       "      <th>3</th>\n",
       "      <td>1.0</td>\n",
       "      <td>1.0</td>\n",
       "    </tr>\n",
       "    <tr>\n",
       "      <th>4</th>\n",
       "      <td>5.0</td>\n",
       "      <td>11.0</td>\n",
       "    </tr>\n",
       "  </tbody>\n",
       "</table>\n",
       "</div>"
      ],
      "text/plain": [
       "     s    s2\n",
       "0  1.0   7.0\n",
       "1  2.0   8.0\n",
       "2  3.0   9.0\n",
       "3  1.0   1.0\n",
       "4  5.0  11.0"
      ]
     },
     "execution_count": 7,
     "metadata": {},
     "output_type": "execute_result"
    }
   ],
   "source": [
    "df"
   ]
  },
  {
   "cell_type": "markdown",
   "id": "143e88af",
   "metadata": {},
   "source": [
    "#  Descriptive statistics"
   ]
  },
  {
   "cell_type": "markdown",
   "id": "f7aea3c8",
   "metadata": {},
   "source": [
    "To find mean"
   ]
  },
  {
   "cell_type": "code",
   "execution_count": 8,
   "id": "cf13e0d5",
   "metadata": {},
   "outputs": [
    {
     "data": {
      "application/vnd.microsoft.datawrangler.viewer.v0+json": {
       "columns": [
        {
         "name": "index",
         "rawType": "int64",
         "type": "integer"
        },
        {
         "name": "s",
         "rawType": "float64",
         "type": "float"
        },
        {
         "name": "s2",
         "rawType": "float64",
         "type": "float"
        }
       ],
       "conversionMethod": "pd.DataFrame",
       "ref": "e4a6fdcc-4b1f-4048-a6e7-87bc69971410",
       "rows": [
        [
         "0",
         "1.0",
         "7.0"
        ],
        [
         "1",
         "2.0",
         "8.0"
        ],
        [
         "2",
         "3.0",
         "9.0"
        ],
        [
         "3",
         "1.0",
         "1.0"
        ],
        [
         "4",
         "5.0",
         "11.0"
        ]
       ],
       "shape": {
        "columns": 2,
        "rows": 5
       }
      },
      "text/html": [
       "<div>\n",
       "<style scoped>\n",
       "    .dataframe tbody tr th:only-of-type {\n",
       "        vertical-align: middle;\n",
       "    }\n",
       "\n",
       "    .dataframe tbody tr th {\n",
       "        vertical-align: top;\n",
       "    }\n",
       "\n",
       "    .dataframe thead th {\n",
       "        text-align: right;\n",
       "    }\n",
       "</style>\n",
       "<table border=\"1\" class=\"dataframe\">\n",
       "  <thead>\n",
       "    <tr style=\"text-align: right;\">\n",
       "      <th></th>\n",
       "      <th>s</th>\n",
       "      <th>s2</th>\n",
       "    </tr>\n",
       "  </thead>\n",
       "  <tbody>\n",
       "    <tr>\n",
       "      <th>0</th>\n",
       "      <td>1.0</td>\n",
       "      <td>7.0</td>\n",
       "    </tr>\n",
       "    <tr>\n",
       "      <th>1</th>\n",
       "      <td>2.0</td>\n",
       "      <td>8.0</td>\n",
       "    </tr>\n",
       "    <tr>\n",
       "      <th>2</th>\n",
       "      <td>3.0</td>\n",
       "      <td>9.0</td>\n",
       "    </tr>\n",
       "    <tr>\n",
       "      <th>3</th>\n",
       "      <td>1.0</td>\n",
       "      <td>1.0</td>\n",
       "    </tr>\n",
       "    <tr>\n",
       "      <th>4</th>\n",
       "      <td>5.0</td>\n",
       "      <td>11.0</td>\n",
       "    </tr>\n",
       "  </tbody>\n",
       "</table>\n",
       "</div>"
      ],
      "text/plain": [
       "     s    s2\n",
       "0  1.0   7.0\n",
       "1  2.0   8.0\n",
       "2  3.0   9.0\n",
       "3  1.0   1.0\n",
       "4  5.0  11.0"
      ]
     },
     "execution_count": 8,
     "metadata": {},
     "output_type": "execute_result"
    }
   ],
   "source": [
    "df"
   ]
  },
  {
   "cell_type": "code",
   "execution_count": 9,
   "id": "acb790c2",
   "metadata": {},
   "outputs": [
    {
     "data": {
      "text/plain": [
       "0    4.0\n",
       "1    5.0\n",
       "2    6.0\n",
       "3    1.0\n",
       "4    8.0\n",
       "dtype: float64"
      ]
     },
     "execution_count": 9,
     "metadata": {},
     "output_type": "execute_result"
    }
   ],
   "source": [
    "df.mean(axis = 1)"
   ]
  },
  {
   "cell_type": "code",
   "execution_count": 10,
   "id": "02753b81",
   "metadata": {},
   "outputs": [
    {
     "data": {
      "text/plain": [
       "s     2.4\n",
       "s2    7.2\n",
       "dtype: float64"
      ]
     },
     "execution_count": 10,
     "metadata": {},
     "output_type": "execute_result"
    }
   ],
   "source": [
    "df.mean(axis = 0)"
   ]
  },
  {
   "cell_type": "markdown",
   "id": "3dd79675",
   "metadata": {},
   "source": [
    "To find sum "
   ]
  },
  {
   "cell_type": "code",
   "execution_count": 11,
   "id": "542f64cc",
   "metadata": {},
   "outputs": [
    {
     "data": {
      "text/plain": [
       "s     12.0\n",
       "s2    36.0\n",
       "dtype: float64"
      ]
     },
     "execution_count": 11,
     "metadata": {},
     "output_type": "execute_result"
    }
   ],
   "source": [
    "df.sum(0)"
   ]
  },
  {
   "cell_type": "code",
   "execution_count": 12,
   "id": "a6d2728d",
   "metadata": {},
   "outputs": [
    {
     "data": {
      "text/plain": [
       "0     8.0\n",
       "1    10.0\n",
       "2    12.0\n",
       "3     2.0\n",
       "4    16.0\n",
       "dtype: float64"
      ]
     },
     "execution_count": 12,
     "metadata": {},
     "output_type": "execute_result"
    }
   ],
   "source": [
    "df.sum(1)"
   ]
  },
  {
   "cell_type": "markdown",
   "id": "648de275",
   "metadata": {},
   "source": [
    "To find median "
   ]
  },
  {
   "cell_type": "code",
   "execution_count": 13,
   "id": "9f885a07",
   "metadata": {},
   "outputs": [
    {
     "data": {
      "text/plain": [
       "s     2.0\n",
       "s2    8.0\n",
       "dtype: float64"
      ]
     },
     "execution_count": 13,
     "metadata": {},
     "output_type": "execute_result"
    }
   ],
   "source": [
    "df.median(0)"
   ]
  },
  {
   "cell_type": "code",
   "execution_count": 14,
   "id": "2baa9184",
   "metadata": {},
   "outputs": [
    {
     "data": {
      "text/plain": [
       "0    4.0\n",
       "1    5.0\n",
       "2    6.0\n",
       "3    1.0\n",
       "4    8.0\n",
       "dtype: float64"
      ]
     },
     "execution_count": 14,
     "metadata": {},
     "output_type": "execute_result"
    }
   ],
   "source": [
    "df.median(1)"
   ]
  },
  {
   "cell_type": "markdown",
   "id": "15aade68",
   "metadata": {},
   "source": [
    "To find min / max"
   ]
  },
  {
   "cell_type": "code",
   "execution_count": 15,
   "id": "d43d54e7",
   "metadata": {},
   "outputs": [
    {
     "data": {
      "text/plain": [
       "s     1.0\n",
       "s2    1.0\n",
       "dtype: float64"
      ]
     },
     "execution_count": 15,
     "metadata": {},
     "output_type": "execute_result"
    }
   ],
   "source": [
    "df.min(0)"
   ]
  },
  {
   "cell_type": "code",
   "execution_count": 16,
   "id": "174f0488",
   "metadata": {},
   "outputs": [
    {
     "data": {
      "text/plain": [
       "0    1.0\n",
       "1    2.0\n",
       "2    3.0\n",
       "3    1.0\n",
       "4    5.0\n",
       "dtype: float64"
      ]
     },
     "execution_count": 16,
     "metadata": {},
     "output_type": "execute_result"
    }
   ],
   "source": [
    "df.min(1)"
   ]
  },
  {
   "cell_type": "markdown",
   "id": "13d9f49a",
   "metadata": {},
   "source": [
    "count\n",
    "\n",
    "Number of non-NA observations\n",
    "\n",
    "sum\n",
    "\n",
    "Sum of values\n",
    "\n",
    "mean\n",
    "\n",
    "Mean of values\n",
    "\n",
    "median\n",
    "\n",
    "Arithmetic median of values\n",
    "\n",
    "min\n",
    "\n",
    "Minimum\n",
    "\n",
    "max\n",
    "\n",
    "Maximum\n",
    "\n",
    "mode\n",
    "\n",
    "Mode\n",
    "\n",
    "abs\n",
    "\n",
    "Absolute Value\n",
    "\n",
    "prod\n",
    "\n",
    "Product of values\n",
    "\n",
    "std\n",
    "\n",
    "Bessel-corrected sample standard deviation\n",
    "\n",
    "var\n",
    "\n",
    "Unbiased variance\n",
    "\n",
    "sem\n",
    "\n",
    "Standard error of the mean\n",
    "\n",
    "skew\n",
    "\n",
    "Sample skewness (3rd moment)\n",
    "\n",
    "kurt\n",
    "\n",
    "Sample kurtosis (4th moment)\n",
    "\n",
    "quantile\n",
    "\n",
    "Sample quantile (value at %)\n",
    "\n",
    "cumsum\n",
    "\n",
    "Cumulative sum\n",
    "\n",
    "cumprod\n",
    "\n",
    "Cumulative product\n",
    "\n",
    "cummax\n",
    "\n",
    "Cumulative maximum\n",
    "\n",
    "cummin\n",
    "\n",
    "Cumulative minimum"
   ]
  },
  {
   "cell_type": "markdown",
   "id": "f0b1e5c9",
   "metadata": {},
   "source": [
    "To find STD"
   ]
  },
  {
   "cell_type": "code",
   "execution_count": 17,
   "id": "702e84c7",
   "metadata": {},
   "outputs": [
    {
     "data": {
      "text/plain": [
       "s     1.673320\n",
       "s2    3.768289\n",
       "dtype: float64"
      ]
     },
     "execution_count": 17,
     "metadata": {},
     "output_type": "execute_result"
    }
   ],
   "source": [
    "df.std(0)"
   ]
  },
  {
   "cell_type": "code",
   "execution_count": 18,
   "id": "35d5e0bf",
   "metadata": {},
   "outputs": [
    {
     "data": {
      "text/plain": [
       "0    4.242641\n",
       "1    4.242641\n",
       "2    4.242641\n",
       "3    0.000000\n",
       "4    4.242641\n",
       "dtype: float64"
      ]
     },
     "execution_count": 18,
     "metadata": {},
     "output_type": "execute_result"
    }
   ],
   "source": [
    "df.std(1)"
   ]
  },
  {
   "cell_type": "code",
   "execution_count": 19,
   "id": "268704d1",
   "metadata": {},
   "outputs": [
    {
     "data": {
      "text/plain": [
       "s     1.088512\n",
       "s2   -1.379189\n",
       "dtype: float64"
      ]
     },
     "execution_count": 19,
     "metadata": {},
     "output_type": "execute_result"
    }
   ],
   "source": [
    "df.skew(0)"
   ]
  },
  {
   "cell_type": "code",
   "execution_count": 20,
   "id": "15dcb1d5",
   "metadata": {},
   "outputs": [
    {
     "data": {
      "text/plain": [
       "0   NaN\n",
       "1   NaN\n",
       "2   NaN\n",
       "3   NaN\n",
       "4   NaN\n",
       "dtype: float64"
      ]
     },
     "execution_count": 20,
     "metadata": {},
     "output_type": "execute_result"
    }
   ],
   "source": [
    "df.skew(1)"
   ]
  },
  {
   "cell_type": "markdown",
   "id": "cdd08f2e",
   "metadata": {},
   "source": [
    "#  Summarizing data: describe"
   ]
  },
  {
   "cell_type": "code",
   "execution_count": 22,
   "id": "0b401d9a",
   "metadata": {},
   "outputs": [],
   "source": [
    "df = pd.DataFrame(np.random.rand(4,4) , index = ['a','b','c','d'])"
   ]
  },
  {
   "cell_type": "code",
   "execution_count": 23,
   "id": "d86006d0",
   "metadata": {},
   "outputs": [
    {
     "data": {
      "application/vnd.microsoft.datawrangler.viewer.v0+json": {
       "columns": [
        {
         "name": "index",
         "rawType": "object",
         "type": "string"
        },
        {
         "name": "0",
         "rawType": "float64",
         "type": "float"
        },
        {
         "name": "1",
         "rawType": "float64",
         "type": "float"
        },
        {
         "name": "2",
         "rawType": "float64",
         "type": "float"
        },
        {
         "name": "3",
         "rawType": "float64",
         "type": "float"
        }
       ],
       "conversionMethod": "pd.DataFrame",
       "ref": "c4c38ed9-e3c3-47ba-94c4-81c7ebaf85f2",
       "rows": [
        [
         "a",
         "0.9801583348575823",
         "0.15022258564880608",
         "0.1667432854132297",
         "0.6636861309989097"
        ],
        [
         "b",
         "0.06490957701591793",
         "0.16752239932931645",
         "0.5515961478514771",
         "0.044824592266679564"
        ],
        [
         "c",
         "0.8155673531522972",
         "0.5913750010853748",
         "0.2611308242306949",
         "0.8278624804039073"
        ],
        [
         "d",
         "0.3496845759598184",
         "0.39522867880349044",
         "0.5793963033058084",
         "0.8290954296083295"
        ]
       ],
       "shape": {
        "columns": 4,
        "rows": 4
       }
      },
      "text/html": [
       "<div>\n",
       "<style scoped>\n",
       "    .dataframe tbody tr th:only-of-type {\n",
       "        vertical-align: middle;\n",
       "    }\n",
       "\n",
       "    .dataframe tbody tr th {\n",
       "        vertical-align: top;\n",
       "    }\n",
       "\n",
       "    .dataframe thead th {\n",
       "        text-align: right;\n",
       "    }\n",
       "</style>\n",
       "<table border=\"1\" class=\"dataframe\">\n",
       "  <thead>\n",
       "    <tr style=\"text-align: right;\">\n",
       "      <th></th>\n",
       "      <th>0</th>\n",
       "      <th>1</th>\n",
       "      <th>2</th>\n",
       "      <th>3</th>\n",
       "    </tr>\n",
       "  </thead>\n",
       "  <tbody>\n",
       "    <tr>\n",
       "      <th>a</th>\n",
       "      <td>0.980158</td>\n",
       "      <td>0.150223</td>\n",
       "      <td>0.166743</td>\n",
       "      <td>0.663686</td>\n",
       "    </tr>\n",
       "    <tr>\n",
       "      <th>b</th>\n",
       "      <td>0.064910</td>\n",
       "      <td>0.167522</td>\n",
       "      <td>0.551596</td>\n",
       "      <td>0.044825</td>\n",
       "    </tr>\n",
       "    <tr>\n",
       "      <th>c</th>\n",
       "      <td>0.815567</td>\n",
       "      <td>0.591375</td>\n",
       "      <td>0.261131</td>\n",
       "      <td>0.827862</td>\n",
       "    </tr>\n",
       "    <tr>\n",
       "      <th>d</th>\n",
       "      <td>0.349685</td>\n",
       "      <td>0.395229</td>\n",
       "      <td>0.579396</td>\n",
       "      <td>0.829095</td>\n",
       "    </tr>\n",
       "  </tbody>\n",
       "</table>\n",
       "</div>"
      ],
      "text/plain": [
       "          0         1         2         3\n",
       "a  0.980158  0.150223  0.166743  0.663686\n",
       "b  0.064910  0.167522  0.551596  0.044825\n",
       "c  0.815567  0.591375  0.261131  0.827862\n",
       "d  0.349685  0.395229  0.579396  0.829095"
      ]
     },
     "execution_count": 23,
     "metadata": {},
     "output_type": "execute_result"
    }
   ],
   "source": [
    "df"
   ]
  },
  {
   "cell_type": "code",
   "execution_count": 25,
   "id": "116495aa",
   "metadata": {},
   "outputs": [
    {
     "data": {
      "application/vnd.microsoft.datawrangler.viewer.v0+json": {
       "columns": [
        {
         "name": "index",
         "rawType": "object",
         "type": "string"
        },
        {
         "name": "0",
         "rawType": "float64",
         "type": "float"
        },
        {
         "name": "1",
         "rawType": "float64",
         "type": "float"
        },
        {
         "name": "2",
         "rawType": "float64",
         "type": "float"
        },
        {
         "name": "3",
         "rawType": "float64",
         "type": "float"
        }
       ],
       "conversionMethod": "pd.DataFrame",
       "ref": "98700388-da68-4ae3-bcba-5eb3bc4ea1b2",
       "rows": [
        [
         "count",
         "4.0",
         "4.0",
         "4.0",
         "4.0"
        ],
        [
         "mean",
         "0.552579960246404",
         "0.32608716621674694",
         "0.3897166402003025",
         "0.5913671583194565"
        ],
        [
         "std",
         "0.42070360703134224",
         "0.2091485278364557",
         "0.20690962488227926",
         "0.37255137393152"
        ],
        [
         "min",
         "0.06490957701591793",
         "0.15022258564880608",
         "0.1667432854132297",
         "0.044824592266679564"
        ],
        [
         "25%",
         "0.27849082622384325",
         "0.16319744590918886",
         "0.2375339395263286",
         "0.5089707463158522"
        ],
        [
         "50%",
         "0.5826259645560579",
         "0.28137553906640345",
         "0.406363486041086",
         "0.7457743057014086"
        ],
        [
         "75%",
         "0.8567150985786185",
         "0.44426525937396155",
         "0.55854618671506",
         "0.8281707177050128"
        ],
        [
         "max",
         "0.9801583348575823",
         "0.5913750010853748",
         "0.5793963033058084",
         "0.8290954296083295"
        ]
       ],
       "shape": {
        "columns": 4,
        "rows": 8
       }
      },
      "text/html": [
       "<div>\n",
       "<style scoped>\n",
       "    .dataframe tbody tr th:only-of-type {\n",
       "        vertical-align: middle;\n",
       "    }\n",
       "\n",
       "    .dataframe tbody tr th {\n",
       "        vertical-align: top;\n",
       "    }\n",
       "\n",
       "    .dataframe thead th {\n",
       "        text-align: right;\n",
       "    }\n",
       "</style>\n",
       "<table border=\"1\" class=\"dataframe\">\n",
       "  <thead>\n",
       "    <tr style=\"text-align: right;\">\n",
       "      <th></th>\n",
       "      <th>0</th>\n",
       "      <th>1</th>\n",
       "      <th>2</th>\n",
       "      <th>3</th>\n",
       "    </tr>\n",
       "  </thead>\n",
       "  <tbody>\n",
       "    <tr>\n",
       "      <th>count</th>\n",
       "      <td>4.000000</td>\n",
       "      <td>4.000000</td>\n",
       "      <td>4.000000</td>\n",
       "      <td>4.000000</td>\n",
       "    </tr>\n",
       "    <tr>\n",
       "      <th>mean</th>\n",
       "      <td>0.552580</td>\n",
       "      <td>0.326087</td>\n",
       "      <td>0.389717</td>\n",
       "      <td>0.591367</td>\n",
       "    </tr>\n",
       "    <tr>\n",
       "      <th>std</th>\n",
       "      <td>0.420704</td>\n",
       "      <td>0.209149</td>\n",
       "      <td>0.206910</td>\n",
       "      <td>0.372551</td>\n",
       "    </tr>\n",
       "    <tr>\n",
       "      <th>min</th>\n",
       "      <td>0.064910</td>\n",
       "      <td>0.150223</td>\n",
       "      <td>0.166743</td>\n",
       "      <td>0.044825</td>\n",
       "    </tr>\n",
       "    <tr>\n",
       "      <th>25%</th>\n",
       "      <td>0.278491</td>\n",
       "      <td>0.163197</td>\n",
       "      <td>0.237534</td>\n",
       "      <td>0.508971</td>\n",
       "    </tr>\n",
       "    <tr>\n",
       "      <th>50%</th>\n",
       "      <td>0.582626</td>\n",
       "      <td>0.281376</td>\n",
       "      <td>0.406363</td>\n",
       "      <td>0.745774</td>\n",
       "    </tr>\n",
       "    <tr>\n",
       "      <th>75%</th>\n",
       "      <td>0.856715</td>\n",
       "      <td>0.444265</td>\n",
       "      <td>0.558546</td>\n",
       "      <td>0.828171</td>\n",
       "    </tr>\n",
       "    <tr>\n",
       "      <th>max</th>\n",
       "      <td>0.980158</td>\n",
       "      <td>0.591375</td>\n",
       "      <td>0.579396</td>\n",
       "      <td>0.829095</td>\n",
       "    </tr>\n",
       "  </tbody>\n",
       "</table>\n",
       "</div>"
      ],
      "text/plain": [
       "              0         1         2         3\n",
       "count  4.000000  4.000000  4.000000  4.000000\n",
       "mean   0.552580  0.326087  0.389717  0.591367\n",
       "std    0.420704  0.209149  0.206910  0.372551\n",
       "min    0.064910  0.150223  0.166743  0.044825\n",
       "25%    0.278491  0.163197  0.237534  0.508971\n",
       "50%    0.582626  0.281376  0.406363  0.745774\n",
       "75%    0.856715  0.444265  0.558546  0.828171\n",
       "max    0.980158  0.591375  0.579396  0.829095"
      ]
     },
     "execution_count": 25,
     "metadata": {},
     "output_type": "execute_result"
    }
   ],
   "source": [
    "df.describe()"
   ]
  },
  {
   "cell_type": "markdown",
   "id": "6d6a62c1",
   "metadata": {},
   "source": [
    "For more information about dataframe info function is used "
   ]
  },
  {
   "cell_type": "code",
   "execution_count": 26,
   "id": "1deb19e3",
   "metadata": {},
   "outputs": [
    {
     "name": "stdout",
     "output_type": "stream",
     "text": [
      "<class 'pandas.core.frame.DataFrame'>\n",
      "Index: 4 entries, a to d\n",
      "Data columns (total 4 columns):\n",
      " #   Column  Non-Null Count  Dtype  \n",
      "---  ------  --------------  -----  \n",
      " 0   0       4 non-null      float64\n",
      " 1   1       4 non-null      float64\n",
      " 2   2       4 non-null      float64\n",
      " 3   3       4 non-null      float64\n",
      "dtypes: float64(4)\n",
      "memory usage: 160.0+ bytes\n"
     ]
    }
   ],
   "source": [
    "df.info()"
   ]
  },
  {
   "cell_type": "markdown",
   "id": "453a158c",
   "metadata": {},
   "source": [
    "#   Index of min/max values"
   ]
  },
  {
   "cell_type": "code",
   "execution_count": 28,
   "id": "338eb183",
   "metadata": {},
   "outputs": [
    {
     "data": {
      "text/plain": [
       "0    0.636114\n",
       "1    0.823879\n",
       "2    0.072546\n",
       "3    0.127870\n",
       "4    0.840792\n",
       "dtype: float64"
      ]
     },
     "execution_count": 28,
     "metadata": {},
     "output_type": "execute_result"
    }
   ],
   "source": [
    "s1 = pd.Series(np.random.rand(5))\n",
    "s1"
   ]
  },
  {
   "cell_type": "markdown",
   "id": "193d9c9a",
   "metadata": {},
   "source": [
    "To find the minimum value in index for that idxmin is used"
   ]
  },
  {
   "cell_type": "code",
   "execution_count": 29,
   "id": "9357d471",
   "metadata": {},
   "outputs": [
    {
     "data": {
      "text/plain": [
       "2"
      ]
     },
     "execution_count": 29,
     "metadata": {},
     "output_type": "execute_result"
    }
   ],
   "source": [
    "s1.idxmin()"
   ]
  },
  {
   "cell_type": "markdown",
   "id": "2709a179",
   "metadata": {},
   "source": [
    "To find the maximum  value in index for that idxmax  is used"
   ]
  },
  {
   "cell_type": "code",
   "execution_count": 31,
   "id": "3e6e7d74",
   "metadata": {},
   "outputs": [
    {
     "data": {
      "text/plain": [
       "4"
      ]
     },
     "execution_count": 31,
     "metadata": {},
     "output_type": "execute_result"
    }
   ],
   "source": [
    "s1.idxmax()"
   ]
  },
  {
   "cell_type": "code",
   "execution_count": 32,
   "id": "3731923d",
   "metadata": {},
   "outputs": [],
   "source": [
    "df1 = pd.DataFrame(np.random.randn(5, 3), columns=[\"A\", \"B\", \"C\"])"
   ]
  },
  {
   "cell_type": "code",
   "execution_count": 33,
   "id": "0a341d36",
   "metadata": {},
   "outputs": [
    {
     "data": {
      "application/vnd.microsoft.datawrangler.viewer.v0+json": {
       "columns": [
        {
         "name": "index",
         "rawType": "int64",
         "type": "integer"
        },
        {
         "name": "A",
         "rawType": "float64",
         "type": "float"
        },
        {
         "name": "B",
         "rawType": "float64",
         "type": "float"
        },
        {
         "name": "C",
         "rawType": "float64",
         "type": "float"
        }
       ],
       "conversionMethod": "pd.DataFrame",
       "ref": "555fe2f4-4439-4e50-bb83-c15431a3e277",
       "rows": [
        [
         "0",
         "-0.022164412495487253",
         "-0.015481424160732388",
         "-1.0348389275600034"
        ],
        [
         "1",
         "0.7681290949824932",
         "0.394493958028965",
         "-0.49370866917376127"
        ],
        [
         "2",
         "-2.0663750231948383",
         "-0.12215509778293315",
         "-0.8538078243226269"
        ],
        [
         "3",
         "0.2450492807977059",
         "-0.24618097615494366",
         "1.8331705945413768"
        ],
        [
         "4",
         "-1.101399135217291",
         "0.4317007800343894",
         "2.8403041902686246"
        ]
       ],
       "shape": {
        "columns": 3,
        "rows": 5
       }
      },
      "text/html": [
       "<div>\n",
       "<style scoped>\n",
       "    .dataframe tbody tr th:only-of-type {\n",
       "        vertical-align: middle;\n",
       "    }\n",
       "\n",
       "    .dataframe tbody tr th {\n",
       "        vertical-align: top;\n",
       "    }\n",
       "\n",
       "    .dataframe thead th {\n",
       "        text-align: right;\n",
       "    }\n",
       "</style>\n",
       "<table border=\"1\" class=\"dataframe\">\n",
       "  <thead>\n",
       "    <tr style=\"text-align: right;\">\n",
       "      <th></th>\n",
       "      <th>A</th>\n",
       "      <th>B</th>\n",
       "      <th>C</th>\n",
       "    </tr>\n",
       "  </thead>\n",
       "  <tbody>\n",
       "    <tr>\n",
       "      <th>0</th>\n",
       "      <td>-0.022164</td>\n",
       "      <td>-0.015481</td>\n",
       "      <td>-1.034839</td>\n",
       "    </tr>\n",
       "    <tr>\n",
       "      <th>1</th>\n",
       "      <td>0.768129</td>\n",
       "      <td>0.394494</td>\n",
       "      <td>-0.493709</td>\n",
       "    </tr>\n",
       "    <tr>\n",
       "      <th>2</th>\n",
       "      <td>-2.066375</td>\n",
       "      <td>-0.122155</td>\n",
       "      <td>-0.853808</td>\n",
       "    </tr>\n",
       "    <tr>\n",
       "      <th>3</th>\n",
       "      <td>0.245049</td>\n",
       "      <td>-0.246181</td>\n",
       "      <td>1.833171</td>\n",
       "    </tr>\n",
       "    <tr>\n",
       "      <th>4</th>\n",
       "      <td>-1.101399</td>\n",
       "      <td>0.431701</td>\n",
       "      <td>2.840304</td>\n",
       "    </tr>\n",
       "  </tbody>\n",
       "</table>\n",
       "</div>"
      ],
      "text/plain": [
       "          A         B         C\n",
       "0 -0.022164 -0.015481 -1.034839\n",
       "1  0.768129  0.394494 -0.493709\n",
       "2 -2.066375 -0.122155 -0.853808\n",
       "3  0.245049 -0.246181  1.833171\n",
       "4 -1.101399  0.431701  2.840304"
      ]
     },
     "execution_count": 33,
     "metadata": {},
     "output_type": "execute_result"
    }
   ],
   "source": [
    "df1"
   ]
  },
  {
   "cell_type": "code",
   "execution_count": 34,
   "id": "829bd6b2",
   "metadata": {},
   "outputs": [
    {
     "data": {
      "text/plain": [
       "A    2\n",
       "B    3\n",
       "C    0\n",
       "dtype: int64"
      ]
     },
     "execution_count": 34,
     "metadata": {},
     "output_type": "execute_result"
    }
   ],
   "source": [
    "df1.idxmin(axis = 0)"
   ]
  },
  {
   "cell_type": "code",
   "execution_count": 35,
   "id": "72268b37",
   "metadata": {},
   "outputs": [
    {
     "data": {
      "text/plain": [
       "0    C\n",
       "1    C\n",
       "2    A\n",
       "3    B\n",
       "4    A\n",
       "dtype: object"
      ]
     },
     "execution_count": 35,
     "metadata": {},
     "output_type": "execute_result"
    }
   ],
   "source": [
    "df1.idxmin(axis = 1)"
   ]
  },
  {
   "cell_type": "code",
   "execution_count": 36,
   "id": "19a35799",
   "metadata": {},
   "outputs": [
    {
     "data": {
      "text/plain": [
       "A    1\n",
       "B    4\n",
       "C    4\n",
       "dtype: int64"
      ]
     },
     "execution_count": 36,
     "metadata": {},
     "output_type": "execute_result"
    }
   ],
   "source": [
    "df1.idxmax(axis = 0)"
   ]
  },
  {
   "cell_type": "code",
   "execution_count": 37,
   "id": "ff3604d7",
   "metadata": {},
   "outputs": [
    {
     "data": {
      "text/plain": [
       "0    B\n",
       "1    A\n",
       "2    B\n",
       "3    C\n",
       "4    C\n",
       "dtype: object"
      ]
     },
     "execution_count": 37,
     "metadata": {},
     "output_type": "execute_result"
    }
   ],
   "source": [
    "df1.idxmax(axis=1)"
   ]
  },
  {
   "cell_type": "markdown",
   "id": "9e24941f",
   "metadata": {},
   "source": [
    "#  Value counts (histogramming) / mode"
   ]
  },
  {
   "cell_type": "code",
   "execution_count": 38,
   "id": "9fda3c70",
   "metadata": {},
   "outputs": [],
   "source": [
    "data = np.random.randint(0, 7, size=50)"
   ]
  },
  {
   "cell_type": "code",
   "execution_count": 39,
   "id": "33be4103",
   "metadata": {},
   "outputs": [
    {
     "data": {
      "text/plain": [
       "array([1, 1, 5, 4, 4, 3, 0, 4, 6, 5, 6, 4, 5, 1, 4, 4, 6, 0, 5, 2, 0, 3,\n",
       "       3, 2, 5, 3, 1, 3, 3, 5, 3, 1, 5, 0, 0, 3, 5, 6, 5, 2, 5, 4, 6, 6,\n",
       "       1, 1, 6, 1, 3, 0], dtype=int32)"
      ]
     },
     "execution_count": 39,
     "metadata": {},
     "output_type": "execute_result"
    }
   ],
   "source": [
    "data"
   ]
  },
  {
   "cell_type": "code",
   "execution_count": 40,
   "id": "b955cd37",
   "metadata": {},
   "outputs": [],
   "source": [
    "s = pd.Series(data)"
   ]
  },
  {
   "cell_type": "markdown",
   "id": "065e8fea",
   "metadata": {},
   "source": [
    "To count the values in any series / dataframe"
   ]
  },
  {
   "cell_type": "code",
   "execution_count": 41,
   "id": "ecf909f2",
   "metadata": {},
   "outputs": [
    {
     "data": {
      "text/plain": [
       "5    10\n",
       "3     9\n",
       "1     8\n",
       "4     7\n",
       "6     7\n",
       "0     6\n",
       "2     3\n",
       "Name: count, dtype: int64"
      ]
     },
     "execution_count": 41,
     "metadata": {},
     "output_type": "execute_result"
    }
   ],
   "source": [
    "s.value_counts()"
   ]
  },
  {
   "cell_type": "markdown",
   "id": "ce2781a3",
   "metadata": {},
   "source": [
    "Similarly, you can get the most frequently occurring value(s), i.e. the mode, of the values in a Series or DataFrame"
   ]
  },
  {
   "cell_type": "code",
   "execution_count": 42,
   "id": "29ca2be0",
   "metadata": {},
   "outputs": [],
   "source": [
    "s5 = pd.Series([1, 1, 3, 3, 3, 5, 5, 7, 7, 7])"
   ]
  },
  {
   "cell_type": "code",
   "execution_count": 43,
   "id": "b02a02a6",
   "metadata": {},
   "outputs": [
    {
     "data": {
      "text/plain": [
       "0    3\n",
       "1    7\n",
       "dtype: int64"
      ]
     },
     "execution_count": 43,
     "metadata": {},
     "output_type": "execute_result"
    }
   ],
   "source": [
    "s5.mode()"
   ]
  },
  {
   "cell_type": "markdown",
   "id": "f21867c4",
   "metadata": {},
   "source": [
    "#  Row or column-wise function application"
   ]
  },
  {
   "cell_type": "markdown",
   "id": "7c3d00b3",
   "metadata": {},
   "source": [
    "Arbitrary functions can be applied along the axes of a DataFrame using the apply() method, which, like the descriptive statistics methods, takes an optional axis argument."
   ]
  },
  {
   "cell_type": "code",
   "execution_count": 52,
   "id": "bc2ab51a",
   "metadata": {},
   "outputs": [
    {
     "data": {
      "application/vnd.microsoft.datawrangler.viewer.v0+json": {
       "columns": [
        {
         "name": "index",
         "rawType": "object",
         "type": "string"
        },
        {
         "name": "0",
         "rawType": "float64",
         "type": "float"
        }
       ],
       "conversionMethod": "pd.DataFrame",
       "ref": "c07424ad-c2af-4018-8dab-7078ed4f4ece",
       "rows": [
        [
         "One",
         "0.6979438533962502"
        ],
        [
         "Two",
         "0.43273700036103746"
        ],
        [
         "Three",
         "0.9517887918992693"
        ]
       ],
       "shape": {
        "columns": 1,
        "rows": 3
       }
      },
      "text/html": [
       "<div>\n",
       "<style scoped>\n",
       "    .dataframe tbody tr th:only-of-type {\n",
       "        vertical-align: middle;\n",
       "    }\n",
       "\n",
       "    .dataframe tbody tr th {\n",
       "        vertical-align: top;\n",
       "    }\n",
       "\n",
       "    .dataframe thead th {\n",
       "        text-align: right;\n",
       "    }\n",
       "</style>\n",
       "<table border=\"1\" class=\"dataframe\">\n",
       "  <thead>\n",
       "    <tr style=\"text-align: right;\">\n",
       "      <th></th>\n",
       "      <th>0</th>\n",
       "    </tr>\n",
       "  </thead>\n",
       "  <tbody>\n",
       "    <tr>\n",
       "      <th>One</th>\n",
       "      <td>0.697944</td>\n",
       "    </tr>\n",
       "    <tr>\n",
       "      <th>Two</th>\n",
       "      <td>0.432737</td>\n",
       "    </tr>\n",
       "    <tr>\n",
       "      <th>Three</th>\n",
       "      <td>0.951789</td>\n",
       "    </tr>\n",
       "  </tbody>\n",
       "</table>\n",
       "</div>"
      ],
      "text/plain": [
       "              0\n",
       "One    0.697944\n",
       "Two    0.432737\n",
       "Three  0.951789"
      ]
     },
     "execution_count": 52,
     "metadata": {},
     "output_type": "execute_result"
    }
   ],
   "source": [
    "df1 = pd.DataFrame(np.random.rand(3) , index = ['One','Two','Three'])\n",
    "df1"
   ]
  },
  {
   "cell_type": "code",
   "execution_count": 54,
   "id": "e9326e17",
   "metadata": {},
   "outputs": [
    {
     "data": {
      "text/plain": [
       "One      0.697944\n",
       "Two      0.432737\n",
       "Three    0.951789\n",
       "dtype: float64"
      ]
     },
     "execution_count": 54,
     "metadata": {},
     "output_type": "execute_result"
    }
   ],
   "source": [
    "df1.apply(lambda x : np.mean(x) , axis = 1)"
   ]
  },
  {
   "cell_type": "code",
   "execution_count": 57,
   "id": "778a521e",
   "metadata": {},
   "outputs": [
    {
     "data": {
      "text/plain": [
       "0    0.694157\n",
       "dtype: float64"
      ]
     },
     "execution_count": 57,
     "metadata": {},
     "output_type": "execute_result"
    }
   ],
   "source": [
    "df1.apply(lambda r : np.mean(r)    , axis = 0  )"
   ]
  },
  {
   "cell_type": "code",
   "execution_count": 60,
   "id": "3051a8be",
   "metadata": {},
   "outputs": [
    {
     "data": {
      "text/plain": [
       "0    0.519052\n",
       "dtype: float64"
      ]
     },
     "execution_count": 60,
     "metadata": {},
     "output_type": "execute_result"
    }
   ],
   "source": [
    "df1.apply(lambda x: x.max() - x.min()  , axis = 0 )"
   ]
  },
  {
   "cell_type": "markdown",
   "id": "c4332059",
   "metadata": {},
   "source": [
    "#  Reindexing and altering labels"
   ]
  },
  {
   "cell_type": "code",
   "execution_count": 66,
   "id": "108775cc",
   "metadata": {},
   "outputs": [
    {
     "data": {
      "text/plain": [
       "a    0.932094\n",
       "b    0.222751\n",
       "c    0.929905\n",
       "d    0.529110\n",
       "e    0.657767\n",
       "dtype: float64"
      ]
     },
     "execution_count": 66,
     "metadata": {},
     "output_type": "execute_result"
    }
   ],
   "source": [
    "s = pd.Series(np.random.rand(5),index = ['a','b','c','d','e'])\n",
    "s"
   ]
  },
  {
   "cell_type": "markdown",
   "id": "351f137e",
   "metadata": {},
   "source": [
    "Reindexing"
   ]
  },
  {
   "cell_type": "code",
   "execution_count": 67,
   "id": "c6673496",
   "metadata": {},
   "outputs": [
    {
     "data": {
      "text/plain": [
       "r         NaN\n",
       "a    0.932094\n",
       "g         NaN\n",
       "h         NaN\n",
       "a    0.932094\n",
       "dtype: float64"
      ]
     },
     "execution_count": 67,
     "metadata": {},
     "output_type": "execute_result"
    }
   ],
   "source": [
    "s.reindex(['r','a','g','h','a'])"
   ]
  },
  {
   "cell_type": "markdown",
   "id": "d62da3b7",
   "metadata": {},
   "source": [
    "# astype"
   ]
  },
  {
   "cell_type": "code",
   "execution_count": 69,
   "id": "e6ae88ba",
   "metadata": {},
   "outputs": [
    {
     "data": {
      "application/vnd.microsoft.datawrangler.viewer.v0+json": {
       "columns": [
        {
         "name": "index",
         "rawType": "object",
         "type": "string"
        },
        {
         "name": "A",
         "rawType": "float64",
         "type": "float"
        },
        {
         "name": "B",
         "rawType": "float64",
         "type": "float"
        },
        {
         "name": "C",
         "rawType": "float64",
         "type": "float"
        }
       ],
       "conversionMethod": "pd.DataFrame",
       "ref": "08acf661-7c90-41ac-b31f-e6e5060c684e",
       "rows": [
        [
         "0",
         "0.1131539734882987",
         "0.4482489031799889",
         "0.8038017294573684"
        ],
        [
         "1",
         "0.6712633632961164",
         "0.7260346698799125",
         "0.07948824754279427"
        ],
        [
         "2",
         "0.8950875161796961",
         "0.1184019810757867",
         "0.4406459204023153"
        ],
        [
         "3",
         "0.7812095653922193",
         "0.1449464758506488",
         "0.2046410039985317"
        ],
        [
         "4",
         "0.10604810558546685",
         "0.8470163107903845",
         "0.14885203249874313"
        ],
        [
         "5",
         "0.9740283854555959",
         "0.8894180435503412",
         "0.9712218349775793"
        ],
        [
         "6",
         "0.025529704835371536",
         "0.057170431450822345",
         "0.008286353793063861"
        ],
        [
         "7",
         "0.41443167901618283",
         "0.8569939330093191",
         "0.2984426555610523"
        ]
       ],
       "shape": {
        "columns": 3,
        "rows": 8
       }
      },
      "text/html": [
       "<div>\n",
       "<style scoped>\n",
       "    .dataframe tbody tr th:only-of-type {\n",
       "        vertical-align: middle;\n",
       "    }\n",
       "\n",
       "    .dataframe tbody tr th {\n",
       "        vertical-align: top;\n",
       "    }\n",
       "\n",
       "    .dataframe thead th {\n",
       "        text-align: right;\n",
       "    }\n",
       "</style>\n",
       "<table border=\"1\" class=\"dataframe\">\n",
       "  <thead>\n",
       "    <tr style=\"text-align: right;\">\n",
       "      <th></th>\n",
       "      <th>A</th>\n",
       "      <th>B</th>\n",
       "      <th>C</th>\n",
       "    </tr>\n",
       "  </thead>\n",
       "  <tbody>\n",
       "    <tr>\n",
       "      <th>0</th>\n",
       "      <td>0.113154</td>\n",
       "      <td>0.448249</td>\n",
       "      <td>0.803802</td>\n",
       "    </tr>\n",
       "    <tr>\n",
       "      <th>1</th>\n",
       "      <td>0.671263</td>\n",
       "      <td>0.726035</td>\n",
       "      <td>0.079488</td>\n",
       "    </tr>\n",
       "    <tr>\n",
       "      <th>2</th>\n",
       "      <td>0.895088</td>\n",
       "      <td>0.118402</td>\n",
       "      <td>0.440646</td>\n",
       "    </tr>\n",
       "    <tr>\n",
       "      <th>3</th>\n",
       "      <td>0.781210</td>\n",
       "      <td>0.144946</td>\n",
       "      <td>0.204641</td>\n",
       "    </tr>\n",
       "    <tr>\n",
       "      <th>4</th>\n",
       "      <td>0.106048</td>\n",
       "      <td>0.847016</td>\n",
       "      <td>0.148852</td>\n",
       "    </tr>\n",
       "    <tr>\n",
       "      <th>5</th>\n",
       "      <td>0.974028</td>\n",
       "      <td>0.889418</td>\n",
       "      <td>0.971222</td>\n",
       "    </tr>\n",
       "    <tr>\n",
       "      <th>6</th>\n",
       "      <td>0.025530</td>\n",
       "      <td>0.057170</td>\n",
       "      <td>0.008286</td>\n",
       "    </tr>\n",
       "    <tr>\n",
       "      <th>7</th>\n",
       "      <td>0.414432</td>\n",
       "      <td>0.856994</td>\n",
       "      <td>0.298443</td>\n",
       "    </tr>\n",
       "  </tbody>\n",
       "</table>\n",
       "</div>"
      ],
      "text/plain": [
       "          A         B         C\n",
       "0  0.113154  0.448249  0.803802\n",
       "1  0.671263  0.726035  0.079488\n",
       "2  0.895088  0.118402  0.440646\n",
       "3  0.781210  0.144946  0.204641\n",
       "4  0.106048  0.847016  0.148852\n",
       "5  0.974028  0.889418  0.971222\n",
       "6  0.025530  0.057170  0.008286\n",
       "7  0.414432  0.856994  0.298443"
      ]
     },
     "execution_count": 69,
     "metadata": {},
     "output_type": "execute_result"
    }
   ],
   "source": [
    "df2 = pd.DataFrame(np.random.rand(8,3),index = [ '0', '1', '2', '3', '4', '5', '6', '7'], columns = ['A','B','C'])\n",
    "df2"
   ]
  },
  {
   "cell_type": "code",
   "execution_count": 81,
   "id": "b500e03f",
   "metadata": {},
   "outputs": [
    {
     "data": {
      "text/plain": [
       "A    float64\n",
       "B    float64\n",
       "C    float64\n",
       "dtype: object"
      ]
     },
     "execution_count": 81,
     "metadata": {},
     "output_type": "execute_result"
    }
   ],
   "source": [
    "df2.dtypes"
   ]
  },
  {
   "cell_type": "markdown",
   "id": "2cf4eb47",
   "metadata": {},
   "source": [
    "To change the datatype into float into integer "
   ]
  },
  {
   "cell_type": "code",
   "execution_count": 91,
   "id": "f16ba72e",
   "metadata": {},
   "outputs": [
    {
     "data": {
      "text/plain": [
       "{'one': a    1.63\n",
       " b    2.96\n",
       " c    3.90\n",
       " d    4.00\n",
       " dtype: float64,\n",
       " 'two': a    5.8\n",
       " b    6.7\n",
       " c    7.1\n",
       " d    8.4\n",
       " dtype: float64}"
      ]
     },
     "execution_count": 91,
     "metadata": {},
     "output_type": "execute_result"
    }
   ],
   "source": [
    "d = {\n",
    "    \"one\" : pd.Series([1.63, 2.96, 3.9, 4.0], index = ['a', 'b', 'c', 'd']),\n",
    "    \"two\" : pd.Series([5.8, 6.7, 7.1, 8.4], index = ['a', 'b', 'c', 'd']),\n",
    "}\n",
    "d"
   ]
  },
  {
   "cell_type": "code",
   "execution_count": 93,
   "id": "454b2b30",
   "metadata": {},
   "outputs": [
    {
     "data": {
      "application/vnd.microsoft.datawrangler.viewer.v0+json": {
       "columns": [
        {
         "name": "index",
         "rawType": "object",
         "type": "string"
        },
        {
         "name": "one",
         "rawType": "float64",
         "type": "float"
        },
        {
         "name": "two",
         "rawType": "float64",
         "type": "float"
        }
       ],
       "conversionMethod": "pd.DataFrame",
       "ref": "517e5387-3e1d-4689-9e18-6e5653439318",
       "rows": [
        [
         "a",
         "1.63",
         "5.8"
        ],
        [
         "b",
         "2.96",
         "6.7"
        ],
        [
         "c",
         "3.9",
         "7.1"
        ],
        [
         "d",
         "4.0",
         "8.4"
        ]
       ],
       "shape": {
        "columns": 2,
        "rows": 4
       }
      },
      "text/html": [
       "<div>\n",
       "<style scoped>\n",
       "    .dataframe tbody tr th:only-of-type {\n",
       "        vertical-align: middle;\n",
       "    }\n",
       "\n",
       "    .dataframe tbody tr th {\n",
       "        vertical-align: top;\n",
       "    }\n",
       "\n",
       "    .dataframe thead th {\n",
       "        text-align: right;\n",
       "    }\n",
       "</style>\n",
       "<table border=\"1\" class=\"dataframe\">\n",
       "  <thead>\n",
       "    <tr style=\"text-align: right;\">\n",
       "      <th></th>\n",
       "      <th>one</th>\n",
       "      <th>two</th>\n",
       "    </tr>\n",
       "  </thead>\n",
       "  <tbody>\n",
       "    <tr>\n",
       "      <th>a</th>\n",
       "      <td>1.63</td>\n",
       "      <td>5.8</td>\n",
       "    </tr>\n",
       "    <tr>\n",
       "      <th>b</th>\n",
       "      <td>2.96</td>\n",
       "      <td>6.7</td>\n",
       "    </tr>\n",
       "    <tr>\n",
       "      <th>c</th>\n",
       "      <td>3.90</td>\n",
       "      <td>7.1</td>\n",
       "    </tr>\n",
       "    <tr>\n",
       "      <th>d</th>\n",
       "      <td>4.00</td>\n",
       "      <td>8.4</td>\n",
       "    </tr>\n",
       "  </tbody>\n",
       "</table>\n",
       "</div>"
      ],
      "text/plain": [
       "    one  two\n",
       "a  1.63  5.8\n",
       "b  2.96  6.7\n",
       "c  3.90  7.1\n",
       "d  4.00  8.4"
      ]
     },
     "execution_count": 93,
     "metadata": {},
     "output_type": "execute_result"
    }
   ],
   "source": [
    "df4 = pd.DataFrame(d)\n",
    "df4"
   ]
  },
  {
   "cell_type": "code",
   "execution_count": 95,
   "id": "3b89a6e7",
   "metadata": {},
   "outputs": [
    {
     "data": {
      "application/vnd.microsoft.datawrangler.viewer.v0+json": {
       "columns": [
        {
         "name": "index",
         "rawType": "object",
         "type": "string"
        },
        {
         "name": "one",
         "rawType": "int64",
         "type": "integer"
        },
        {
         "name": "two",
         "rawType": "int64",
         "type": "integer"
        }
       ],
       "conversionMethod": "pd.DataFrame",
       "ref": "e5220398-f837-43f5-b84c-548ca1ae1986",
       "rows": [
        [
         "a",
         "1",
         "5"
        ],
        [
         "b",
         "2",
         "6"
        ],
        [
         "c",
         "3",
         "7"
        ],
        [
         "d",
         "4",
         "8"
        ]
       ],
       "shape": {
        "columns": 2,
        "rows": 4
       }
      },
      "text/html": [
       "<div>\n",
       "<style scoped>\n",
       "    .dataframe tbody tr th:only-of-type {\n",
       "        vertical-align: middle;\n",
       "    }\n",
       "\n",
       "    .dataframe tbody tr th {\n",
       "        vertical-align: top;\n",
       "    }\n",
       "\n",
       "    .dataframe thead th {\n",
       "        text-align: right;\n",
       "    }\n",
       "</style>\n",
       "<table border=\"1\" class=\"dataframe\">\n",
       "  <thead>\n",
       "    <tr style=\"text-align: right;\">\n",
       "      <th></th>\n",
       "      <th>one</th>\n",
       "      <th>two</th>\n",
       "    </tr>\n",
       "  </thead>\n",
       "  <tbody>\n",
       "    <tr>\n",
       "      <th>a</th>\n",
       "      <td>1</td>\n",
       "      <td>5</td>\n",
       "    </tr>\n",
       "    <tr>\n",
       "      <th>b</th>\n",
       "      <td>2</td>\n",
       "      <td>6</td>\n",
       "    </tr>\n",
       "    <tr>\n",
       "      <th>c</th>\n",
       "      <td>3</td>\n",
       "      <td>7</td>\n",
       "    </tr>\n",
       "    <tr>\n",
       "      <th>d</th>\n",
       "      <td>4</td>\n",
       "      <td>8</td>\n",
       "    </tr>\n",
       "  </tbody>\n",
       "</table>\n",
       "</div>"
      ],
      "text/plain": [
       "   one  two\n",
       "a    1    5\n",
       "b    2    6\n",
       "c    3    7\n",
       "d    4    8"
      ]
     },
     "execution_count": 95,
     "metadata": {},
     "output_type": "execute_result"
    }
   ],
   "source": [
    "datatype = df4.astype(int)\n",
    "datatype"
   ]
  },
  {
   "cell_type": "code",
   "execution_count": null,
   "id": "6cdcfead",
   "metadata": {},
   "outputs": [],
   "source": []
  }
 ],
 "metadata": {
  "kernelspec": {
   "display_name": "Python 3",
   "language": "python",
   "name": "python3"
  },
  "language_info": {
   "codemirror_mode": {
    "name": "ipython",
    "version": 3
   },
   "file_extension": ".py",
   "mimetype": "text/x-python",
   "name": "python",
   "nbconvert_exporter": "python",
   "pygments_lexer": "ipython3",
   "version": "3.11.9"
  }
 },
 "nbformat": 4,
 "nbformat_minor": 5
}
