{
 "cells": [
  {
   "cell_type": "code",
   "execution_count": 1,
   "id": "5452005e",
   "metadata": {},
   "outputs": [],
   "source": [
    "import pandas as pd   \n",
    "import numpy as np  \n"
   ]
  },
  {
   "cell_type": "code",
   "execution_count": 2,
   "id": "43de2ea7",
   "metadata": {},
   "outputs": [],
   "source": [
    "df = pd.read_csv(\"project1_df.csv\")"
   ]
  },
  {
   "cell_type": "code",
   "execution_count": 3,
   "id": "618db8b4",
   "metadata": {},
   "outputs": [
    {
     "data": {
      "application/vnd.microsoft.datawrangler.viewer.v0+json": {
       "columns": [
        {
         "name": "index",
         "rawType": "int64",
         "type": "integer"
        },
        {
         "name": "CID",
         "rawType": "int64",
         "type": "integer"
        },
        {
         "name": "TID",
         "rawType": "int64",
         "type": "integer"
        },
        {
         "name": "Gender",
         "rawType": "object",
         "type": "string"
        },
        {
         "name": "Age Group",
         "rawType": "object",
         "type": "string"
        },
        {
         "name": "Purchase Date",
         "rawType": "object",
         "type": "string"
        },
        {
         "name": "Product Category",
         "rawType": "object",
         "type": "string"
        },
        {
         "name": "Discount Availed",
         "rawType": "object",
         "type": "string"
        },
        {
         "name": "Discount Name",
         "rawType": "object",
         "type": "unknown"
        },
        {
         "name": "Discount Amount (INR)",
         "rawType": "float64",
         "type": "float"
        },
        {
         "name": "Gross Amount",
         "rawType": "float64",
         "type": "float"
        },
        {
         "name": "Net Amount",
         "rawType": "float64",
         "type": "float"
        },
        {
         "name": "Purchase Method",
         "rawType": "object",
         "type": "string"
        },
        {
         "name": "Location",
         "rawType": "object",
         "type": "string"
        }
       ],
       "conversionMethod": "pd.DataFrame",
       "ref": "5855a613-2a24-4017-888f-8ad0431a8a7c",
       "rows": [
        [
         "0",
         "943146",
         "5876328741",
         "Female",
         "25-45",
         "30/08/2023 20:27:08",
         "Electronics",
         "Yes",
         "FESTIVE50",
         "64.3",
         "725.304",
         "661.004",
         "Credit Card",
         "Ahmedabad"
        ],
        [
         "1",
         "180079",
         "1018503182",
         "Male",
         "25-45",
         "23/02/2024 09:33:46",
         "Electronics",
         "Yes",
         "SEASONALOFFER21",
         "175.19",
         "4638.991875",
         "4463.801875",
         "Credit Card",
         "Bangalore"
        ],
        [
         "2",
         "337580",
         "3814082218",
         "Other",
         "60 and above",
         "06/03/2022 09:09:50",
         "Clothing",
         "Yes",
         "SEASONALOFFER21",
         "211.54",
         "1986.372575",
         "1774.8325749999997",
         "Credit Card",
         "Delhi"
        ],
        [
         "3",
         "180333",
         "1395204173",
         "Other",
         "60 and above",
         "04/11/2020 04:41:57",
         "Sports & Fitness",
         "No",
         null,
         "0.0",
         "5695.61265",
         "5695.61265",
         "Debit Card",
         "Delhi"
        ],
        [
         "4",
         "447553",
         "8009390577",
         "Male",
         "18-25",
         "31/05/2022 17:00:32",
         "Sports & Fitness",
         "Yes",
         "WELCOME5",
         "439.92",
         "2292.6514999999995",
         "1852.7314999999996",
         "Credit Card",
         "Delhi"
        ],
        [
         "5",
         "200614",
         "3994452858",
         "Male",
         "18-25",
         "12/07/2021 15:10:27",
         "Clothing",
         "Yes",
         "FESTIVE50",
         "127.01",
         "3649.3974",
         "3522.3874",
         "Credit Card",
         "Delhi"
        ],
        [
         "6",
         "668787",
         "9460023916",
         "Male",
         "25-45",
         "08/10/2023 16:59:52",
         "Electronics",
         "No",
         null,
         "0.0",
         "5593.9356",
         "5593.9356",
         "PhonePe UPI",
         "Delhi"
        ],
        [
         "7",
         "933551",
         "6877673032",
         "Female",
         "18-25",
         "14/12/2022 20:13:45",
         "Electronics",
         "No",
         null,
         "0.0",
         "1901.7964",
         "1901.7964",
         "Credit Card",
         "Delhi"
        ],
        [
         "8",
         "414167",
         "2841266620",
         "Male",
         "18-25",
         "29/04/2020 09:10:46",
         "Pet Care",
         "No",
         null,
         "0.0",
         "3961.671",
         "3961.671",
         "Debit Card",
         "Delhi"
        ],
        [
         "9",
         "889269",
         "1342270638",
         "Other",
         "60 and above",
         "18/12/2023 19:04:02",
         "Clothing",
         "Yes",
         "SAVE10",
         "437.5",
         "1497.3503999999996",
         "1059.8503999999996",
         "Credit Card",
         "Bangalore"
        ],
        [
         "10",
         "931578",
         "5168806107",
         "Other",
         "25-45",
         "09/12/2022 19:54:47",
         "Clothing",
         "No",
         null,
         "0.0",
         "7824.165299999999",
         "7824.165299999999",
         "Credit Card",
         "Other"
        ],
        [
         "11",
         "629298",
         "2229511931",
         "Other",
         "45-60",
         "02/11/2021 15:37:38",
         "Electronics",
         "No",
         null,
         "0.0",
         "988.1729",
         "988.1729",
         "Google Pay UPI",
         "Chennai"
        ],
        [
         "12",
         "665042",
         "3754858574",
         "Female",
         "25-45",
         "23/09/2020 02:22:00",
         "Electronics",
         "Yes",
         "SEASONALOFFER21",
         "97.88",
         "3508.9377750000003",
         "3411.057775",
         "Net Banking",
         "Dehradun"
        ],
        [
         "13",
         "570860",
         "6791123870",
         "Male",
         "25-45",
         "15/02/2020 05:51:55",
         "Electronics",
         "Yes",
         "FESTIVE50",
         "269.87",
         "618.1098",
         "348.23979999999995",
         "Cash on Delivery",
         "Chennai"
        ],
        [
         "14",
         "367541",
         "9916932604",
         "Other",
         "18-25",
         "26/09/2021 06:13:58",
         "Home & Kitchen",
         "Yes",
         "NEWYEARS",
         "268.7",
         "560.9604",
         "292.26040000000006",
         "Credit Card",
         "Pune"
        ],
        [
         "15",
         "143460",
         "2441027824",
         "Other",
         "25-45",
         "15/07/2022 09:26:34",
         "Electronics",
         "No",
         null,
         "0.0",
         "4996.1106",
         "4996.1106",
         "Debit Card",
         "Delhi"
        ],
        [
         "16",
         "573298",
         "5515725036",
         "Other",
         "25-45",
         "27/05/2023 19:38:50",
         "Sports & Fitness",
         "No",
         null,
         "0.0",
         "2729.748",
         "2729.748",
         "Net Banking",
         "Ahmedabad"
        ],
        [
         "17",
         "454101",
         "6091881739",
         "Male",
         "under 18",
         "12/04/2020 20:37:09",
         "Electronics",
         "Yes",
         "NEWYEARS",
         "368.53",
         "457.31700000000006",
         "88.78700000000009",
         "Credit Card",
         "Hyderabad"
        ],
        [
         "18",
         "337178",
         "6774128207",
         "Other",
         "18-25",
         "20/02/2021 00:10:11",
         "Home & Kitchen",
         "Yes",
         "SEASONALOFFER21",
         "375.51",
         "4141.6386",
         "3766.1286",
         "Credit Card",
         "Ahmedabad"
        ],
        [
         "19",
         "787512",
         "9582806381",
         "Male",
         "18-25",
         "17/03/2021 17:32:46",
         "Books",
         "No",
         null,
         "0.0",
         "1952.4153",
         "1952.4153",
         "Paytm UPI",
         "Mumbai"
        ],
        [
         "20",
         "538174",
         "1322344974",
         "Male",
         "60 and above",
         "24/11/2020 02:42:48",
         "Sports & Fitness",
         "No",
         null,
         "0.0",
         "5025.7116000000005",
         "5025.7116000000005",
         "Net Banking",
         "Mumbai"
        ],
        [
         "21",
         "110195",
         "8013666930",
         "Female",
         "25-45",
         "14/02/2022 16:58:48",
         "Electronics",
         "Yes",
         "WELCOME5",
         "83.92",
         "3977.359525",
         "3893.4395249999993",
         "Debit Card",
         "Delhi"
        ],
        [
         "22",
         "443120",
         "4473452038",
         "Female",
         "under 18",
         "07/09/2023 23:23:03",
         "Sports & Fitness",
         "Yes",
         "NEWYEARS",
         "268.54",
         "1495.2042",
         "1226.6642000000002",
         "Debit Card",
         "Mumbai"
        ],
        [
         "23",
         "910099",
         "7930280777",
         "Other",
         "25-45",
         "22/02/2024 21:46:22",
         "Electronics",
         "No",
         null,
         "0.0",
         "1629.30125",
         "1629.30125",
         "Credit Card",
         "Jaipur"
        ],
        [
         "24",
         "745014",
         "9202622469",
         "Male",
         "18-25",
         "04/05/2023 18:06:02",
         "Clothing",
         "Yes",
         "SAVE10",
         "75.72",
         "3579.9120000000003",
         "3504.1920000000005",
         "Credit Card",
         "Mumbai"
        ],
        [
         "25",
         "292237",
         "1250629827",
         "Other",
         "25-45",
         "09/11/2022 16:08:11",
         "Beauty and Health",
         "Yes",
         "FESTIVE50",
         "353.85",
         "1929.6563",
         "1575.8062999999995",
         "Credit Card",
         "Pune"
        ],
        [
         "26",
         "654718",
         "6758404906",
         "Other",
         "under 18",
         "22/07/2023 23:26:04",
         "Beauty and Health",
         "No",
         null,
         "0.0",
         "5057.9964",
         "5057.9964",
         "Debit Card",
         "Mumbai"
        ],
        [
         "27",
         "772149",
         "2726106260",
         "Other",
         "18-25",
         "29/10/2022 09:55:05",
         "Clothing",
         "No",
         null,
         "0.0",
         "2129.5769",
         "2129.5769",
         "Credit Card",
         "Hyderabad"
        ],
        [
         "28",
         "655550",
         "7463349293",
         "Female",
         "18-25",
         "14/12/2020 23:20:08",
         "Beauty and Health",
         "No",
         null,
         "0.0",
         "1164.8427",
         "1164.8427",
         "Debit Card",
         "Bangalore"
        ],
        [
         "29",
         "566018",
         "6086235198",
         "Other",
         "18-25",
         "13/06/2020 23:23:02",
         "Home & Kitchen",
         "No",
         null,
         "0.0",
         "2945.2248000000004",
         "2945.2248000000004",
         "Credit Card",
         "Pune"
        ],
        [
         "30",
         "336108",
         "2957151067",
         "Female",
         "25-45",
         "12/01/2023 06:38:34",
         "Home & Kitchen",
         "Yes",
         "NEWYEARS",
         "450.37",
         "4050.7776",
         "3600.4076",
         "Credit Card",
         "Lucknow"
        ],
        [
         "31",
         "521139",
         "2736057295",
         "Female",
         "18-25",
         "17/10/2022 00:01:38",
         "Beauty and Health",
         "No",
         null,
         "0.0",
         "3290.55595",
         "3290.55595",
         "Net Banking",
         "Hyderabad"
        ],
        [
         "32",
         "171973",
         "7034831125",
         "Other",
         "25-45",
         "08/12/2019 21:48:51",
         "Home & Kitchen",
         "Yes",
         "SEASONALOFFER21",
         "108.87",
         "6862.828",
         "6753.9580000000005",
         "Credit Card",
         "Delhi"
        ],
        [
         "33",
         "427162",
         "6407323241",
         "Other",
         "under 18",
         "14/10/2019 07:26:19",
         "Beauty and Health",
         "Yes",
         "SEASONALOFFER21",
         "425.57",
         "3272.6870000000004",
         "2847.117",
         "Debit Card",
         "Mumbai"
        ],
        [
         "34",
         "572298",
         "3046169433",
         "Male",
         "45-60",
         "30/01/2020 13:10:58",
         "Electronics",
         "Yes",
         "WELCOME5",
         "144.53",
         "1285.4079",
         "1140.8779",
         "Credit Card",
         "Dehradun"
        ],
        [
         "35",
         "592489",
         "5651462936",
         "Male",
         "60 and above",
         "19/01/2022 04:05:36",
         "Beauty and Health",
         "Yes",
         "WELCOME5",
         "489.29",
         "4225.118399999999",
         "3735.8284",
         "Google Pay UPI",
         "Chennai"
        ],
        [
         "36",
         "297594",
         "1955554145",
         "Female",
         "45-60",
         "07/12/2022 02:27:42",
         "Sports & Fitness",
         "Yes",
         "NEWYEARS",
         "404.32",
         "1085.5585999999998",
         "681.2385999999999",
         "Credit Card",
         "Kolkata"
        ],
        [
         "37",
         "862400",
         "6068201504",
         "Other",
         "25-45",
         "23/01/2020 09:04:23",
         "Electronics",
         "Yes",
         "NEWYEARS",
         "347.01",
         "1968.0192",
         "1621.0092000000002",
         "Paytm UPI",
         "Delhi"
        ],
        [
         "38",
         "343390",
         "7493781432",
         "Other",
         "25-45",
         "03/08/2020 06:15:16",
         "Other",
         "No",
         null,
         "0.0",
         "4940.5650000000005",
         "4940.5650000000005",
         "Credit Card",
         "Delhi"
        ],
        [
         "39",
         "657783",
         "4766466385",
         "Other",
         "60 and above",
         "30/09/2019 03:04:44",
         "Electronics",
         "No",
         null,
         "0.0",
         "1917.909",
         "1917.909",
         "Debit Card",
         "Mumbai"
        ],
        [
         "40",
         "520940",
         "7063849825",
         "Male",
         "45-60",
         "27/04/2024 20:06:46",
         "Other",
         "Yes",
         "SAVE10",
         "50.76",
         "5798.8",
         "5748.04",
         "Credit Card",
         "Mumbai"
        ],
        [
         "41",
         "338169",
         "3574854627",
         "Other",
         "18-25",
         "11/01/2022 08:51:21",
         "Toys & Games",
         "No",
         null,
         "0.0",
         "3283.3305",
         "3283.3305",
         "Net Banking",
         "Bangalore"
        ],
        [
         "42",
         "652388",
         "5725712173",
         "Other",
         "25-45",
         "13/11/2020 16:32:26",
         "Clothing",
         "No",
         null,
         "0.0",
         "3875.098500000001",
         "3875.098500000001",
         "Credit Card",
         "Bangalore"
        ],
        [
         "43",
         "124240",
         "3303385112",
         "Male",
         "45-60",
         "13/10/2019 10:01:00",
         "Toys & Games",
         "No",
         null,
         "0.0",
         "2331.4060000000004",
         "2331.4060000000004",
         "Net Banking",
         "Hyderabad"
        ],
        [
         "44",
         "850800",
         "7320956570",
         "Female",
         "25-45",
         "23/02/2021 23:36:04",
         "Electronics",
         "No",
         null,
         "0.0",
         "2145.3388000000004",
         "2145.3388000000004",
         "Cash on Delivery",
         "Delhi"
        ],
        [
         "45",
         "860652",
         "4092870576",
         "Male",
         "25-45",
         "01/10/2020 14:59:28",
         "Books",
         "No",
         null,
         "0.0",
         "3060.680700000001",
         "3060.680700000001",
         "International Card",
         "Ahmedabad"
        ],
        [
         "46",
         "892356",
         "1692940438",
         "Female",
         "18-25",
         "01/09/2021 02:14:39",
         "Toys & Games",
         "Yes",
         "NEWYEARS",
         "160.18",
         "2834.84355",
         "2674.66355",
         "Credit Card",
         "Kolkata"
        ],
        [
         "47",
         "189026",
         "1636012605",
         "Male",
         "25-45",
         "16/03/2021 03:26:01",
         "Home & Kitchen",
         "No",
         null,
         "0.0",
         "1393.3194",
         "1393.3194",
         "Debit Card",
         "Delhi"
        ],
        [
         "48",
         "543555",
         "3388286985",
         "Other",
         "45-60",
         "17/02/2022 13:02:36",
         "Home & Kitchen",
         "No",
         null,
         "0.0",
         "384.7049",
         "384.7049",
         "Google Pay UPI",
         "Delhi"
        ],
        [
         "49",
         "130710",
         "9646503430",
         "Other",
         "25-45",
         "29/01/2022 07:26:45",
         "Electronics",
         "No",
         null,
         "0.0",
         "4924.20915",
         "4924.20915",
         "Credit Card",
         "Bangalore"
        ]
       ],
       "shape": {
        "columns": 13,
        "rows": 55000
       }
      },
      "text/html": [
       "<div>\n",
       "<style scoped>\n",
       "    .dataframe tbody tr th:only-of-type {\n",
       "        vertical-align: middle;\n",
       "    }\n",
       "\n",
       "    .dataframe tbody tr th {\n",
       "        vertical-align: top;\n",
       "    }\n",
       "\n",
       "    .dataframe thead th {\n",
       "        text-align: right;\n",
       "    }\n",
       "</style>\n",
       "<table border=\"1\" class=\"dataframe\">\n",
       "  <thead>\n",
       "    <tr style=\"text-align: right;\">\n",
       "      <th></th>\n",
       "      <th>CID</th>\n",
       "      <th>TID</th>\n",
       "      <th>Gender</th>\n",
       "      <th>Age Group</th>\n",
       "      <th>Purchase Date</th>\n",
       "      <th>Product Category</th>\n",
       "      <th>Discount Availed</th>\n",
       "      <th>Discount Name</th>\n",
       "      <th>Discount Amount (INR)</th>\n",
       "      <th>Gross Amount</th>\n",
       "      <th>Net Amount</th>\n",
       "      <th>Purchase Method</th>\n",
       "      <th>Location</th>\n",
       "    </tr>\n",
       "  </thead>\n",
       "  <tbody>\n",
       "    <tr>\n",
       "      <th>0</th>\n",
       "      <td>943146</td>\n",
       "      <td>5876328741</td>\n",
       "      <td>Female</td>\n",
       "      <td>25-45</td>\n",
       "      <td>30/08/2023 20:27:08</td>\n",
       "      <td>Electronics</td>\n",
       "      <td>Yes</td>\n",
       "      <td>FESTIVE50</td>\n",
       "      <td>64.30</td>\n",
       "      <td>725.304000</td>\n",
       "      <td>661.004000</td>\n",
       "      <td>Credit Card</td>\n",
       "      <td>Ahmedabad</td>\n",
       "    </tr>\n",
       "    <tr>\n",
       "      <th>1</th>\n",
       "      <td>180079</td>\n",
       "      <td>1018503182</td>\n",
       "      <td>Male</td>\n",
       "      <td>25-45</td>\n",
       "      <td>23/02/2024 09:33:46</td>\n",
       "      <td>Electronics</td>\n",
       "      <td>Yes</td>\n",
       "      <td>SEASONALOFFER21</td>\n",
       "      <td>175.19</td>\n",
       "      <td>4638.991875</td>\n",
       "      <td>4463.801875</td>\n",
       "      <td>Credit Card</td>\n",
       "      <td>Bangalore</td>\n",
       "    </tr>\n",
       "    <tr>\n",
       "      <th>2</th>\n",
       "      <td>337580</td>\n",
       "      <td>3814082218</td>\n",
       "      <td>Other</td>\n",
       "      <td>60 and above</td>\n",
       "      <td>06/03/2022 09:09:50</td>\n",
       "      <td>Clothing</td>\n",
       "      <td>Yes</td>\n",
       "      <td>SEASONALOFFER21</td>\n",
       "      <td>211.54</td>\n",
       "      <td>1986.372575</td>\n",
       "      <td>1774.832575</td>\n",
       "      <td>Credit Card</td>\n",
       "      <td>Delhi</td>\n",
       "    </tr>\n",
       "    <tr>\n",
       "      <th>3</th>\n",
       "      <td>180333</td>\n",
       "      <td>1395204173</td>\n",
       "      <td>Other</td>\n",
       "      <td>60 and above</td>\n",
       "      <td>04/11/2020 04:41:57</td>\n",
       "      <td>Sports &amp; Fitness</td>\n",
       "      <td>No</td>\n",
       "      <td>NaN</td>\n",
       "      <td>0.00</td>\n",
       "      <td>5695.612650</td>\n",
       "      <td>5695.612650</td>\n",
       "      <td>Debit Card</td>\n",
       "      <td>Delhi</td>\n",
       "    </tr>\n",
       "    <tr>\n",
       "      <th>4</th>\n",
       "      <td>447553</td>\n",
       "      <td>8009390577</td>\n",
       "      <td>Male</td>\n",
       "      <td>18-25</td>\n",
       "      <td>31/05/2022 17:00:32</td>\n",
       "      <td>Sports &amp; Fitness</td>\n",
       "      <td>Yes</td>\n",
       "      <td>WELCOME5</td>\n",
       "      <td>439.92</td>\n",
       "      <td>2292.651500</td>\n",
       "      <td>1852.731500</td>\n",
       "      <td>Credit Card</td>\n",
       "      <td>Delhi</td>\n",
       "    </tr>\n",
       "    <tr>\n",
       "      <th>...</th>\n",
       "      <td>...</td>\n",
       "      <td>...</td>\n",
       "      <td>...</td>\n",
       "      <td>...</td>\n",
       "      <td>...</td>\n",
       "      <td>...</td>\n",
       "      <td>...</td>\n",
       "      <td>...</td>\n",
       "      <td>...</td>\n",
       "      <td>...</td>\n",
       "      <td>...</td>\n",
       "      <td>...</td>\n",
       "      <td>...</td>\n",
       "    </tr>\n",
       "    <tr>\n",
       "      <th>54995</th>\n",
       "      <td>295864</td>\n",
       "      <td>5407639888</td>\n",
       "      <td>Other</td>\n",
       "      <td>25-45</td>\n",
       "      <td>23/02/2020 10:42:04</td>\n",
       "      <td>Electronics</td>\n",
       "      <td>Yes</td>\n",
       "      <td>SEASONALOFFER21</td>\n",
       "      <td>110.89</td>\n",
       "      <td>2819.907300</td>\n",
       "      <td>2709.017300</td>\n",
       "      <td>Debit Card</td>\n",
       "      <td>Other</td>\n",
       "    </tr>\n",
       "    <tr>\n",
       "      <th>54996</th>\n",
       "      <td>706435</td>\n",
       "      <td>1144029904</td>\n",
       "      <td>Other</td>\n",
       "      <td>18-25</td>\n",
       "      <td>12/07/2021 15:59:21</td>\n",
       "      <td>Electronics</td>\n",
       "      <td>Yes</td>\n",
       "      <td>SEASONALOFFER21</td>\n",
       "      <td>488.59</td>\n",
       "      <td>3891.303900</td>\n",
       "      <td>3402.713900</td>\n",
       "      <td>Cash on Delivery</td>\n",
       "      <td>Bangalore</td>\n",
       "    </tr>\n",
       "    <tr>\n",
       "      <th>54997</th>\n",
       "      <td>649435</td>\n",
       "      <td>9587323189</td>\n",
       "      <td>Male</td>\n",
       "      <td>45-60</td>\n",
       "      <td>02/08/2024 09:30:44</td>\n",
       "      <td>Home &amp; Kitchen</td>\n",
       "      <td>Yes</td>\n",
       "      <td>NEWYEARS</td>\n",
       "      <td>417.63</td>\n",
       "      <td>4094.687500</td>\n",
       "      <td>3677.057500</td>\n",
       "      <td>Credit Card</td>\n",
       "      <td>Mumbai</td>\n",
       "    </tr>\n",
       "    <tr>\n",
       "      <th>54998</th>\n",
       "      <td>982183</td>\n",
       "      <td>5032564481</td>\n",
       "      <td>Female</td>\n",
       "      <td>45-60</td>\n",
       "      <td>05/08/2020 23:57:56</td>\n",
       "      <td>Beauty and Health</td>\n",
       "      <td>Yes</td>\n",
       "      <td>SEASONALOFFER21</td>\n",
       "      <td>204.56</td>\n",
       "      <td>3977.473500</td>\n",
       "      <td>3772.913500</td>\n",
       "      <td>Credit Card</td>\n",
       "      <td>Kolkata</td>\n",
       "    </tr>\n",
       "    <tr>\n",
       "      <th>54999</th>\n",
       "      <td>126691</td>\n",
       "      <td>9172953722</td>\n",
       "      <td>Male</td>\n",
       "      <td>25-45</td>\n",
       "      <td>21/07/2022 09:05:18</td>\n",
       "      <td>Beauty and Health</td>\n",
       "      <td>Yes</td>\n",
       "      <td>NEWYEARS</td>\n",
       "      <td>380.81</td>\n",
       "      <td>3703.581900</td>\n",
       "      <td>3322.771900</td>\n",
       "      <td>Credit Card</td>\n",
       "      <td>Mumbai</td>\n",
       "    </tr>\n",
       "  </tbody>\n",
       "</table>\n",
       "<p>55000 rows × 13 columns</p>\n",
       "</div>"
      ],
      "text/plain": [
       "          CID         TID  Gender     Age Group        Purchase Date  \\\n",
       "0      943146  5876328741  Female         25-45  30/08/2023 20:27:08   \n",
       "1      180079  1018503182    Male         25-45  23/02/2024 09:33:46   \n",
       "2      337580  3814082218   Other  60 and above  06/03/2022 09:09:50   \n",
       "3      180333  1395204173   Other  60 and above  04/11/2020 04:41:57   \n",
       "4      447553  8009390577    Male         18-25  31/05/2022 17:00:32   \n",
       "...       ...         ...     ...           ...                  ...   \n",
       "54995  295864  5407639888   Other         25-45  23/02/2020 10:42:04   \n",
       "54996  706435  1144029904   Other         18-25  12/07/2021 15:59:21   \n",
       "54997  649435  9587323189    Male         45-60  02/08/2024 09:30:44   \n",
       "54998  982183  5032564481  Female         45-60  05/08/2020 23:57:56   \n",
       "54999  126691  9172953722    Male         25-45  21/07/2022 09:05:18   \n",
       "\n",
       "        Product Category Discount Availed    Discount Name  \\\n",
       "0            Electronics              Yes        FESTIVE50   \n",
       "1            Electronics              Yes  SEASONALOFFER21   \n",
       "2               Clothing              Yes  SEASONALOFFER21   \n",
       "3       Sports & Fitness               No              NaN   \n",
       "4       Sports & Fitness              Yes         WELCOME5   \n",
       "...                  ...              ...              ...   \n",
       "54995        Electronics              Yes  SEASONALOFFER21   \n",
       "54996        Electronics              Yes  SEASONALOFFER21   \n",
       "54997     Home & Kitchen              Yes         NEWYEARS   \n",
       "54998  Beauty and Health              Yes  SEASONALOFFER21   \n",
       "54999  Beauty and Health              Yes         NEWYEARS   \n",
       "\n",
       "       Discount Amount (INR)  Gross Amount   Net Amount   Purchase Method  \\\n",
       "0                      64.30    725.304000   661.004000       Credit Card   \n",
       "1                     175.19   4638.991875  4463.801875       Credit Card   \n",
       "2                     211.54   1986.372575  1774.832575       Credit Card   \n",
       "3                       0.00   5695.612650  5695.612650        Debit Card   \n",
       "4                     439.92   2292.651500  1852.731500       Credit Card   \n",
       "...                      ...           ...          ...               ...   \n",
       "54995                 110.89   2819.907300  2709.017300        Debit Card   \n",
       "54996                 488.59   3891.303900  3402.713900  Cash on Delivery   \n",
       "54997                 417.63   4094.687500  3677.057500       Credit Card   \n",
       "54998                 204.56   3977.473500  3772.913500       Credit Card   \n",
       "54999                 380.81   3703.581900  3322.771900       Credit Card   \n",
       "\n",
       "        Location  \n",
       "0      Ahmedabad  \n",
       "1      Bangalore  \n",
       "2          Delhi  \n",
       "3          Delhi  \n",
       "4          Delhi  \n",
       "...          ...  \n",
       "54995      Other  \n",
       "54996  Bangalore  \n",
       "54997     Mumbai  \n",
       "54998    Kolkata  \n",
       "54999     Mumbai  \n",
       "\n",
       "[55000 rows x 13 columns]"
      ]
     },
     "execution_count": 3,
     "metadata": {},
     "output_type": "execute_result"
    }
   ],
   "source": [
    "df"
   ]
  },
  {
   "cell_type": "markdown",
   "id": "21718103",
   "metadata": {},
   "source": [
    "# Grouping and Aggregation"
   ]
  },
  {
   "cell_type": "markdown",
   "id": "fb09289a",
   "metadata": {},
   "source": [
    " df.groupby('col') - Group by column"
   ]
  },
  {
   "cell_type": "markdown",
   "id": "eec82b8d",
   "metadata": {},
   "source": [
    "Here i am calculate the mean  of Discount Amount  according the gender column "
   ]
  },
  {
   "cell_type": "code",
   "execution_count": 4,
   "id": "a1411f89",
   "metadata": {},
   "outputs": [],
   "source": [
    "a  =  df.groupby('Gender')['Discount Amount (INR)'].mean()"
   ]
  },
  {
   "cell_type": "code",
   "execution_count": 5,
   "id": "c620e4d7",
   "metadata": {},
   "outputs": [
    {
     "data": {
      "text/plain": [
       "Gender\n",
       "Female    136.729324\n",
       "Male      136.697534\n",
       "Other     137.528035\n",
       "Name: Discount Amount (INR), dtype: float64"
      ]
     },
     "execution_count": 5,
     "metadata": {},
     "output_type": "execute_result"
    }
   ],
   "source": [
    "a"
   ]
  },
  {
   "cell_type": "markdown",
   "id": "c1da2a34",
   "metadata": {},
   "source": [
    " df.agg({'col': 'sum'}) - Aggregate"
   ]
  },
  {
   "cell_type": "code",
   "execution_count": 6,
   "id": "6ec2a703",
   "metadata": {},
   "outputs": [],
   "source": [
    "result = df['Discount Amount (INR)'].agg(['sum','max','mean'])"
   ]
  },
  {
   "cell_type": "code",
   "execution_count": 7,
   "id": "3b8de536",
   "metadata": {},
   "outputs": [
    {
     "data": {
      "text/plain": [
       "sum     7.534274e+06\n",
       "max     5.000000e+02\n",
       "mean    1.369868e+02\n",
       "Name: Discount Amount (INR), dtype: float64"
      ]
     },
     "execution_count": 7,
     "metadata": {},
     "output_type": "execute_result"
    }
   ],
   "source": [
    "result"
   ]
  },
  {
   "cell_type": "markdown",
   "id": "9864bab5",
   "metadata": {},
   "source": [
    "df.pivot_table() - Create pivot table"
   ]
  },
  {
   "cell_type": "code",
   "execution_count": 8,
   "id": "ab81ccbd",
   "metadata": {},
   "outputs": [
    {
     "name": "stderr",
     "output_type": "stream",
     "text": [
      "C:\\Users\\ragha\\AppData\\Local\\Temp\\ipykernel_21200\\3849583346.py:1: FutureWarning: The provided callable <function mean at 0x0000015E8A6207C0> is currently using DataFrameGroupBy.mean. In a future version of pandas, the provided callable will be used directly. To keep current behavior pass the string \"mean\" instead.\n",
      "  a =   pd.pivot_table(df, values='Net Amount', index='CID',  aggfunc=np.mean)\n"
     ]
    }
   ],
   "source": [
    "a =   pd.pivot_table(df, values='Net Amount', index='CID',  aggfunc=np.mean)"
   ]
  },
  {
   "cell_type": "code",
   "execution_count": 9,
   "id": "57816230",
   "metadata": {},
   "outputs": [
    {
     "data": {
      "application/vnd.microsoft.datawrangler.viewer.v0+json": {
       "columns": [
        {
         "name": "CID",
         "rawType": "int64",
         "type": "integer"
        },
        {
         "name": "Net Amount",
         "rawType": "float64",
         "type": "float"
        }
       ],
       "conversionMethod": "pd.DataFrame",
       "ref": "57c8d4bd-0e55-4f42-82f8-f023698c1ec6",
       "rows": [
        [
         "100009",
         "6310.818399999999"
        ],
        [
         "100037",
         "3147.992"
        ],
        [
         "100063",
         "522.9"
        ],
        [
         "100089",
         "3032.593"
        ],
        [
         "100096",
         "4320.675"
        ],
        [
         "100097",
         "3528.5456000000004"
        ],
        [
         "100139",
         "3283.254"
        ],
        [
         "100177",
         "4785.8184"
        ],
        [
         "100193",
         "2015.1879250000002"
        ],
        [
         "100205",
         "1924.17195625"
        ],
        [
         "100258",
         "2869.3426333333337"
        ],
        [
         "100301",
         "3766.5364"
        ],
        [
         "100359",
         "2795.971208333333"
        ],
        [
         "100370",
         "-259.5284"
        ],
        [
         "100425",
         "3847.3072"
        ],
        [
         "100445",
         "2085.2540750000003"
        ],
        [
         "100487",
         "1140.5345"
        ],
        [
         "100553",
         "3822.13125"
        ],
        [
         "100569",
         "4447.762000000001"
        ],
        [
         "100571",
         "3578.9028875000004"
        ],
        [
         "100594",
         "2035.1268"
        ],
        [
         "100625",
         "2155.12185"
        ],
        [
         "100662",
         "4923.0223000000005"
        ],
        [
         "100672",
         "1755.9993499999998"
        ],
        [
         "100681",
         "2996.4640000000004"
        ],
        [
         "100686",
         "2725.047"
        ],
        [
         "100708",
         "3298.61025"
        ],
        [
         "100716",
         "3870.8388"
        ],
        [
         "100754",
         "3250.5511750000005"
        ],
        [
         "100756",
         "4992.462125000001"
        ],
        [
         "100806",
         "3436.6960000000004"
        ],
        [
         "100832",
         "2258.573725"
        ],
        [
         "100860",
         "4268.0456"
        ],
        [
         "100884",
         "2238.2218999999996"
        ],
        [
         "100909",
         "1199.4696"
        ],
        [
         "101025",
         "2415.0964416666666"
        ],
        [
         "101142",
         "916.9000000000002"
        ],
        [
         "101150",
         "4716.854600000001"
        ],
        [
         "101183",
         "2598.0480583333333"
        ],
        [
         "101206",
         "1828.0330375000003"
        ],
        [
         "101248",
         "3792.0198333333333"
        ],
        [
         "101269",
         "1268.3704625"
        ],
        [
         "101281",
         "5104.9225"
        ],
        [
         "101296",
         "3089.54221"
        ],
        [
         "101343",
         "1423.145"
        ],
        [
         "101429",
         "3244.9108"
        ],
        [
         "101467",
         "655.9653249999999"
        ],
        [
         "101493",
         "380.406875"
        ],
        [
         "101526",
         "5627.58815"
        ],
        [
         "101531",
         "244.4798"
        ]
       ],
       "shape": {
        "columns": 1,
        "rows": 29071
       }
      },
      "text/html": [
       "<div>\n",
       "<style scoped>\n",
       "    .dataframe tbody tr th:only-of-type {\n",
       "        vertical-align: middle;\n",
       "    }\n",
       "\n",
       "    .dataframe tbody tr th {\n",
       "        vertical-align: top;\n",
       "    }\n",
       "\n",
       "    .dataframe thead th {\n",
       "        text-align: right;\n",
       "    }\n",
       "</style>\n",
       "<table border=\"1\" class=\"dataframe\">\n",
       "  <thead>\n",
       "    <tr style=\"text-align: right;\">\n",
       "      <th></th>\n",
       "      <th>Net Amount</th>\n",
       "    </tr>\n",
       "    <tr>\n",
       "      <th>CID</th>\n",
       "      <th></th>\n",
       "    </tr>\n",
       "  </thead>\n",
       "  <tbody>\n",
       "    <tr>\n",
       "      <th>100009</th>\n",
       "      <td>6310.818400</td>\n",
       "    </tr>\n",
       "    <tr>\n",
       "      <th>100037</th>\n",
       "      <td>3147.992000</td>\n",
       "    </tr>\n",
       "    <tr>\n",
       "      <th>100063</th>\n",
       "      <td>522.900000</td>\n",
       "    </tr>\n",
       "    <tr>\n",
       "      <th>100089</th>\n",
       "      <td>3032.593000</td>\n",
       "    </tr>\n",
       "    <tr>\n",
       "      <th>100096</th>\n",
       "      <td>4320.675000</td>\n",
       "    </tr>\n",
       "    <tr>\n",
       "      <th>...</th>\n",
       "      <td>...</td>\n",
       "    </tr>\n",
       "    <tr>\n",
       "      <th>999876</th>\n",
       "      <td>4372.104000</td>\n",
       "    </tr>\n",
       "    <tr>\n",
       "      <th>999883</th>\n",
       "      <td>1320.492575</td>\n",
       "    </tr>\n",
       "    <tr>\n",
       "      <th>999910</th>\n",
       "      <td>2646.507150</td>\n",
       "    </tr>\n",
       "    <tr>\n",
       "      <th>999924</th>\n",
       "      <td>2802.355500</td>\n",
       "    </tr>\n",
       "    <tr>\n",
       "      <th>999996</th>\n",
       "      <td>2234.081500</td>\n",
       "    </tr>\n",
       "  </tbody>\n",
       "</table>\n",
       "<p>29071 rows × 1 columns</p>\n",
       "</div>"
      ],
      "text/plain": [
       "         Net Amount\n",
       "CID                \n",
       "100009  6310.818400\n",
       "100037  3147.992000\n",
       "100063   522.900000\n",
       "100089  3032.593000\n",
       "100096  4320.675000\n",
       "...             ...\n",
       "999876  4372.104000\n",
       "999883  1320.492575\n",
       "999910  2646.507150\n",
       "999924  2802.355500\n",
       "999996  2234.081500\n",
       "\n",
       "[29071 rows x 1 columns]"
      ]
     },
     "execution_count": 9,
     "metadata": {},
     "output_type": "execute_result"
    }
   ],
   "source": [
    "a"
   ]
  },
  {
   "cell_type": "markdown",
   "id": "34195073",
   "metadata": {},
   "source": [
    " df.crosstab() - Cross-tabulation"
   ]
  },
  {
   "cell_type": "code",
   "execution_count": 10,
   "id": "2e8cedae",
   "metadata": {},
   "outputs": [],
   "source": [
    "B  =  pd.crosstab(index=df['CID'], columns=df['Gender'])"
   ]
  },
  {
   "cell_type": "code",
   "execution_count": 11,
   "id": "67eb7409",
   "metadata": {},
   "outputs": [
    {
     "data": {
      "application/vnd.microsoft.datawrangler.viewer.v0+json": {
       "columns": [
        {
         "name": "CID",
         "rawType": "int64",
         "type": "integer"
        },
        {
         "name": "Female",
         "rawType": "int64",
         "type": "integer"
        },
        {
         "name": "Male",
         "rawType": "int64",
         "type": "integer"
        },
        {
         "name": "Other",
         "rawType": "int64",
         "type": "integer"
        }
       ],
       "conversionMethod": "pd.DataFrame",
       "ref": "6e63acec-4802-477e-b076-ee8caf1c8361",
       "rows": [
        [
         "100009",
         "1",
         "0",
         "0"
        ],
        [
         "100037",
         "0",
         "1",
         "0"
        ],
        [
         "100063",
         "1",
         "0",
         "0"
        ],
        [
         "100089",
         "1",
         "1",
         "2"
        ],
        [
         "100096",
         "1",
         "0",
         "0"
        ],
        [
         "100097",
         "1",
         "0",
         "1"
        ],
        [
         "100139",
         "0",
         "1",
         "0"
        ],
        [
         "100177",
         "1",
         "0",
         "0"
        ],
        [
         "100193",
         "0",
         "1",
         "1"
        ],
        [
         "100205",
         "3",
         "1",
         "0"
        ],
        [
         "100258",
         "0",
         "0",
         "3"
        ],
        [
         "100301",
         "0",
         "0",
         "1"
        ],
        [
         "100359",
         "0",
         "2",
         "1"
        ],
        [
         "100370",
         "0",
         "0",
         "1"
        ],
        [
         "100425",
         "0",
         "0",
         "1"
        ],
        [
         "100445",
         "1",
         "0",
         "1"
        ],
        [
         "100487",
         "1",
         "1",
         "0"
        ],
        [
         "100553",
         "1",
         "0",
         "0"
        ],
        [
         "100569",
         "1",
         "0",
         "0"
        ],
        [
         "100571",
         "2",
         "2",
         "0"
        ],
        [
         "100594",
         "0",
         "1",
         "0"
        ],
        [
         "100625",
         "0",
         "1",
         "0"
        ],
        [
         "100662",
         "0",
         "1",
         "1"
        ],
        [
         "100672",
         "0",
         "1",
         "1"
        ],
        [
         "100681",
         "1",
         "0",
         "0"
        ],
        [
         "100686",
         "0",
         "1",
         "0"
        ],
        [
         "100708",
         "0",
         "1",
         "1"
        ],
        [
         "100716",
         "0",
         "1",
         "0"
        ],
        [
         "100754",
         "1",
         "0",
         "1"
        ],
        [
         "100756",
         "0",
         "1",
         "0"
        ],
        [
         "100806",
         "0",
         "0",
         "1"
        ],
        [
         "100832",
         "1",
         "0",
         "1"
        ],
        [
         "100860",
         "0",
         "0",
         "2"
        ],
        [
         "100884",
         "1",
         "1",
         "0"
        ],
        [
         "100909",
         "0",
         "1",
         "0"
        ],
        [
         "101025",
         "0",
         "0",
         "3"
        ],
        [
         "101142",
         "0",
         "1",
         "0"
        ],
        [
         "101150",
         "2",
         "0",
         "0"
        ],
        [
         "101183",
         "2",
         "0",
         "1"
        ],
        [
         "101206",
         "1",
         "1",
         "2"
        ],
        [
         "101248",
         "0",
         "1",
         "2"
        ],
        [
         "101269",
         "1",
         "1",
         "0"
        ],
        [
         "101281",
         "2",
         "0",
         "0"
        ],
        [
         "101296",
         "1",
         "3",
         "1"
        ],
        [
         "101343",
         "1",
         "0",
         "0"
        ],
        [
         "101429",
         "0",
         "1",
         "1"
        ],
        [
         "101467",
         "1",
         "0",
         "0"
        ],
        [
         "101493",
         "0",
         "1",
         "0"
        ],
        [
         "101526",
         "0",
         "1",
         "1"
        ],
        [
         "101531",
         "1",
         "0",
         "0"
        ]
       ],
       "shape": {
        "columns": 3,
        "rows": 29071
       }
      },
      "text/html": [
       "<div>\n",
       "<style scoped>\n",
       "    .dataframe tbody tr th:only-of-type {\n",
       "        vertical-align: middle;\n",
       "    }\n",
       "\n",
       "    .dataframe tbody tr th {\n",
       "        vertical-align: top;\n",
       "    }\n",
       "\n",
       "    .dataframe thead th {\n",
       "        text-align: right;\n",
       "    }\n",
       "</style>\n",
       "<table border=\"1\" class=\"dataframe\">\n",
       "  <thead>\n",
       "    <tr style=\"text-align: right;\">\n",
       "      <th>Gender</th>\n",
       "      <th>Female</th>\n",
       "      <th>Male</th>\n",
       "      <th>Other</th>\n",
       "    </tr>\n",
       "    <tr>\n",
       "      <th>CID</th>\n",
       "      <th></th>\n",
       "      <th></th>\n",
       "      <th></th>\n",
       "    </tr>\n",
       "  </thead>\n",
       "  <tbody>\n",
       "    <tr>\n",
       "      <th>100009</th>\n",
       "      <td>1</td>\n",
       "      <td>0</td>\n",
       "      <td>0</td>\n",
       "    </tr>\n",
       "    <tr>\n",
       "      <th>100037</th>\n",
       "      <td>0</td>\n",
       "      <td>1</td>\n",
       "      <td>0</td>\n",
       "    </tr>\n",
       "    <tr>\n",
       "      <th>100063</th>\n",
       "      <td>1</td>\n",
       "      <td>0</td>\n",
       "      <td>0</td>\n",
       "    </tr>\n",
       "    <tr>\n",
       "      <th>100089</th>\n",
       "      <td>1</td>\n",
       "      <td>1</td>\n",
       "      <td>2</td>\n",
       "    </tr>\n",
       "    <tr>\n",
       "      <th>100096</th>\n",
       "      <td>1</td>\n",
       "      <td>0</td>\n",
       "      <td>0</td>\n",
       "    </tr>\n",
       "    <tr>\n",
       "      <th>...</th>\n",
       "      <td>...</td>\n",
       "      <td>...</td>\n",
       "      <td>...</td>\n",
       "    </tr>\n",
       "    <tr>\n",
       "      <th>999876</th>\n",
       "      <td>0</td>\n",
       "      <td>1</td>\n",
       "      <td>0</td>\n",
       "    </tr>\n",
       "    <tr>\n",
       "      <th>999883</th>\n",
       "      <td>1</td>\n",
       "      <td>0</td>\n",
       "      <td>1</td>\n",
       "    </tr>\n",
       "    <tr>\n",
       "      <th>999910</th>\n",
       "      <td>0</td>\n",
       "      <td>0</td>\n",
       "      <td>1</td>\n",
       "    </tr>\n",
       "    <tr>\n",
       "      <th>999924</th>\n",
       "      <td>1</td>\n",
       "      <td>0</td>\n",
       "      <td>0</td>\n",
       "    </tr>\n",
       "    <tr>\n",
       "      <th>999996</th>\n",
       "      <td>0</td>\n",
       "      <td>1</td>\n",
       "      <td>1</td>\n",
       "    </tr>\n",
       "  </tbody>\n",
       "</table>\n",
       "<p>29071 rows × 3 columns</p>\n",
       "</div>"
      ],
      "text/plain": [
       "Gender  Female  Male  Other\n",
       "CID                        \n",
       "100009       1     0      0\n",
       "100037       0     1      0\n",
       "100063       1     0      0\n",
       "100089       1     1      2\n",
       "100096       1     0      0\n",
       "...        ...   ...    ...\n",
       "999876       0     1      0\n",
       "999883       1     0      1\n",
       "999910       0     0      1\n",
       "999924       1     0      0\n",
       "999996       0     1      1\n",
       "\n",
       "[29071 rows x 3 columns]"
      ]
     },
     "execution_count": 11,
     "metadata": {},
     "output_type": "execute_result"
    }
   ],
   "source": [
    "B"
   ]
  },
  {
   "cell_type": "markdown",
   "id": "2a9dc9cf",
   "metadata": {},
   "source": [
    "#   Merging and Joining"
   ]
  },
  {
   "cell_type": "markdown",
   "id": "e655631e",
   "metadata": {},
   "source": [
    "pd.concat([df1, df2]) - Concatenate dataframes"
   ]
  },
  {
   "cell_type": "markdown",
   "id": "7b2ce23a",
   "metadata": {},
   "source": [
    "Here i am doing concatenate the result of pivot table and crosstab"
   ]
  },
  {
   "cell_type": "code",
   "execution_count": 25,
   "id": "8c1f6722",
   "metadata": {},
   "outputs": [],
   "source": [
    "concatenate = pd.concat([a,B])"
   ]
  },
  {
   "cell_type": "code",
   "execution_count": 18,
   "id": "4b635f80",
   "metadata": {},
   "outputs": [
    {
     "data": {
      "application/vnd.microsoft.datawrangler.viewer.v0+json": {
       "columns": [
        {
         "name": "CID",
         "rawType": "int64",
         "type": "integer"
        },
        {
         "name": "Net Amount",
         "rawType": "float64",
         "type": "float"
        },
        {
         "name": "Female",
         "rawType": "float64",
         "type": "float"
        },
        {
         "name": "Male",
         "rawType": "float64",
         "type": "float"
        },
        {
         "name": "Other",
         "rawType": "float64",
         "type": "float"
        }
       ],
       "conversionMethod": "pd.DataFrame",
       "ref": "969ef03a-bea8-4fa9-bf84-d448dadfcf44",
       "rows": [
        [
         "100009",
         "6310.818399999999",
         null,
         null,
         null
        ],
        [
         "100037",
         "3147.992",
         null,
         null,
         null
        ],
        [
         "100063",
         "522.9",
         null,
         null,
         null
        ],
        [
         "100089",
         "3032.593",
         null,
         null,
         null
        ],
        [
         "100096",
         "4320.675",
         null,
         null,
         null
        ],
        [
         "100097",
         "3528.5456000000004",
         null,
         null,
         null
        ],
        [
         "100139",
         "3283.254",
         null,
         null,
         null
        ],
        [
         "100177",
         "4785.8184",
         null,
         null,
         null
        ],
        [
         "100193",
         "2015.1879250000002",
         null,
         null,
         null
        ],
        [
         "100205",
         "1924.17195625",
         null,
         null,
         null
        ],
        [
         "100258",
         "2869.3426333333337",
         null,
         null,
         null
        ],
        [
         "100301",
         "3766.5364",
         null,
         null,
         null
        ],
        [
         "100359",
         "2795.971208333333",
         null,
         null,
         null
        ],
        [
         "100370",
         "-259.5284",
         null,
         null,
         null
        ],
        [
         "100425",
         "3847.3072",
         null,
         null,
         null
        ],
        [
         "100445",
         "2085.2540750000003",
         null,
         null,
         null
        ],
        [
         "100487",
         "1140.5345",
         null,
         null,
         null
        ],
        [
         "100553",
         "3822.13125",
         null,
         null,
         null
        ],
        [
         "100569",
         "4447.762000000001",
         null,
         null,
         null
        ],
        [
         "100571",
         "3578.9028875000004",
         null,
         null,
         null
        ],
        [
         "100594",
         "2035.1268",
         null,
         null,
         null
        ],
        [
         "100625",
         "2155.12185",
         null,
         null,
         null
        ],
        [
         "100662",
         "4923.0223000000005",
         null,
         null,
         null
        ],
        [
         "100672",
         "1755.9993499999998",
         null,
         null,
         null
        ],
        [
         "100681",
         "2996.4640000000004",
         null,
         null,
         null
        ],
        [
         "100686",
         "2725.047",
         null,
         null,
         null
        ],
        [
         "100708",
         "3298.61025",
         null,
         null,
         null
        ],
        [
         "100716",
         "3870.8388",
         null,
         null,
         null
        ],
        [
         "100754",
         "3250.5511750000005",
         null,
         null,
         null
        ],
        [
         "100756",
         "4992.462125000001",
         null,
         null,
         null
        ],
        [
         "100806",
         "3436.6960000000004",
         null,
         null,
         null
        ],
        [
         "100832",
         "2258.573725",
         null,
         null,
         null
        ],
        [
         "100860",
         "4268.0456",
         null,
         null,
         null
        ],
        [
         "100884",
         "2238.2218999999996",
         null,
         null,
         null
        ],
        [
         "100909",
         "1199.4696",
         null,
         null,
         null
        ],
        [
         "101025",
         "2415.0964416666666",
         null,
         null,
         null
        ],
        [
         "101142",
         "916.9000000000002",
         null,
         null,
         null
        ],
        [
         "101150",
         "4716.854600000001",
         null,
         null,
         null
        ],
        [
         "101183",
         "2598.0480583333333",
         null,
         null,
         null
        ],
        [
         "101206",
         "1828.0330375000003",
         null,
         null,
         null
        ],
        [
         "101248",
         "3792.0198333333333",
         null,
         null,
         null
        ],
        [
         "101269",
         "1268.3704625",
         null,
         null,
         null
        ],
        [
         "101281",
         "5104.9225",
         null,
         null,
         null
        ],
        [
         "101296",
         "3089.54221",
         null,
         null,
         null
        ],
        [
         "101343",
         "1423.145",
         null,
         null,
         null
        ],
        [
         "101429",
         "3244.9108",
         null,
         null,
         null
        ],
        [
         "101467",
         "655.9653249999999",
         null,
         null,
         null
        ],
        [
         "101493",
         "380.406875",
         null,
         null,
         null
        ],
        [
         "101526",
         "5627.58815",
         null,
         null,
         null
        ],
        [
         "101531",
         "244.4798",
         null,
         null,
         null
        ]
       ],
       "shape": {
        "columns": 4,
        "rows": 58142
       }
      },
      "text/html": [
       "<div>\n",
       "<style scoped>\n",
       "    .dataframe tbody tr th:only-of-type {\n",
       "        vertical-align: middle;\n",
       "    }\n",
       "\n",
       "    .dataframe tbody tr th {\n",
       "        vertical-align: top;\n",
       "    }\n",
       "\n",
       "    .dataframe thead th {\n",
       "        text-align: right;\n",
       "    }\n",
       "</style>\n",
       "<table border=\"1\" class=\"dataframe\">\n",
       "  <thead>\n",
       "    <tr style=\"text-align: right;\">\n",
       "      <th></th>\n",
       "      <th>Net Amount</th>\n",
       "      <th>Female</th>\n",
       "      <th>Male</th>\n",
       "      <th>Other</th>\n",
       "    </tr>\n",
       "    <tr>\n",
       "      <th>CID</th>\n",
       "      <th></th>\n",
       "      <th></th>\n",
       "      <th></th>\n",
       "      <th></th>\n",
       "    </tr>\n",
       "  </thead>\n",
       "  <tbody>\n",
       "    <tr>\n",
       "      <th>100009</th>\n",
       "      <td>6310.8184</td>\n",
       "      <td>NaN</td>\n",
       "      <td>NaN</td>\n",
       "      <td>NaN</td>\n",
       "    </tr>\n",
       "    <tr>\n",
       "      <th>100037</th>\n",
       "      <td>3147.9920</td>\n",
       "      <td>NaN</td>\n",
       "      <td>NaN</td>\n",
       "      <td>NaN</td>\n",
       "    </tr>\n",
       "    <tr>\n",
       "      <th>100063</th>\n",
       "      <td>522.9000</td>\n",
       "      <td>NaN</td>\n",
       "      <td>NaN</td>\n",
       "      <td>NaN</td>\n",
       "    </tr>\n",
       "    <tr>\n",
       "      <th>100089</th>\n",
       "      <td>3032.5930</td>\n",
       "      <td>NaN</td>\n",
       "      <td>NaN</td>\n",
       "      <td>NaN</td>\n",
       "    </tr>\n",
       "    <tr>\n",
       "      <th>100096</th>\n",
       "      <td>4320.6750</td>\n",
       "      <td>NaN</td>\n",
       "      <td>NaN</td>\n",
       "      <td>NaN</td>\n",
       "    </tr>\n",
       "    <tr>\n",
       "      <th>...</th>\n",
       "      <td>...</td>\n",
       "      <td>...</td>\n",
       "      <td>...</td>\n",
       "      <td>...</td>\n",
       "    </tr>\n",
       "    <tr>\n",
       "      <th>999876</th>\n",
       "      <td>NaN</td>\n",
       "      <td>0.0</td>\n",
       "      <td>1.0</td>\n",
       "      <td>0.0</td>\n",
       "    </tr>\n",
       "    <tr>\n",
       "      <th>999883</th>\n",
       "      <td>NaN</td>\n",
       "      <td>1.0</td>\n",
       "      <td>0.0</td>\n",
       "      <td>1.0</td>\n",
       "    </tr>\n",
       "    <tr>\n",
       "      <th>999910</th>\n",
       "      <td>NaN</td>\n",
       "      <td>0.0</td>\n",
       "      <td>0.0</td>\n",
       "      <td>1.0</td>\n",
       "    </tr>\n",
       "    <tr>\n",
       "      <th>999924</th>\n",
       "      <td>NaN</td>\n",
       "      <td>1.0</td>\n",
       "      <td>0.0</td>\n",
       "      <td>0.0</td>\n",
       "    </tr>\n",
       "    <tr>\n",
       "      <th>999996</th>\n",
       "      <td>NaN</td>\n",
       "      <td>0.0</td>\n",
       "      <td>1.0</td>\n",
       "      <td>1.0</td>\n",
       "    </tr>\n",
       "  </tbody>\n",
       "</table>\n",
       "<p>58142 rows × 4 columns</p>\n",
       "</div>"
      ],
      "text/plain": [
       "        Net Amount  Female  Male  Other\n",
       "CID                                    \n",
       "100009   6310.8184     NaN   NaN    NaN\n",
       "100037   3147.9920     NaN   NaN    NaN\n",
       "100063    522.9000     NaN   NaN    NaN\n",
       "100089   3032.5930     NaN   NaN    NaN\n",
       "100096   4320.6750     NaN   NaN    NaN\n",
       "...            ...     ...   ...    ...\n",
       "999876         NaN     0.0   1.0    0.0\n",
       "999883         NaN     1.0   0.0    1.0\n",
       "999910         NaN     0.0   0.0    1.0\n",
       "999924         NaN     1.0   0.0    0.0\n",
       "999996         NaN     0.0   1.0    1.0\n",
       "\n",
       "[58142 rows x 4 columns]"
      ]
     },
     "execution_count": 18,
     "metadata": {},
     "output_type": "execute_result"
    }
   ],
   "source": [
    "concatenate"
   ]
  },
  {
   "cell_type": "markdown",
   "id": "b072c502",
   "metadata": {},
   "source": [
    " pd.merge(df1, df2, on='key') - Merge on key column"
   ]
  },
  {
   "cell_type": "markdown",
   "id": "e293390f",
   "metadata": {},
   "source": [
    "merge is done using key that is common for both dataframe"
   ]
  },
  {
   "cell_type": "code",
   "execution_count": null,
   "id": "1fe15129",
   "metadata": {},
   "outputs": [],
   "source": [
    "merge = pd.merge(a,B , on = 'CID')"
   ]
  },
  {
   "cell_type": "code",
   "execution_count": 24,
   "id": "d26102e7",
   "metadata": {},
   "outputs": [
    {
     "data": {
      "application/vnd.microsoft.datawrangler.viewer.v0+json": {
       "columns": [
        {
         "name": "CID",
         "rawType": "int64",
         "type": "integer"
        },
        {
         "name": "Net Amount",
         "rawType": "float64",
         "type": "float"
        },
        {
         "name": "Female",
         "rawType": "int64",
         "type": "integer"
        },
        {
         "name": "Male",
         "rawType": "int64",
         "type": "integer"
        },
        {
         "name": "Other",
         "rawType": "int64",
         "type": "integer"
        }
       ],
       "conversionMethod": "pd.DataFrame",
       "ref": "023f153f-5a09-4dca-9354-1e62e91a8832",
       "rows": [
        [
         "100009",
         "6310.818399999999",
         "1",
         "0",
         "0"
        ],
        [
         "100037",
         "3147.992",
         "0",
         "1",
         "0"
        ],
        [
         "100063",
         "522.9",
         "1",
         "0",
         "0"
        ],
        [
         "100089",
         "3032.593",
         "1",
         "1",
         "2"
        ],
        [
         "100096",
         "4320.675",
         "1",
         "0",
         "0"
        ],
        [
         "100097",
         "3528.5456000000004",
         "1",
         "0",
         "1"
        ],
        [
         "100139",
         "3283.254",
         "0",
         "1",
         "0"
        ],
        [
         "100177",
         "4785.8184",
         "1",
         "0",
         "0"
        ],
        [
         "100193",
         "2015.1879250000002",
         "0",
         "1",
         "1"
        ],
        [
         "100205",
         "1924.17195625",
         "3",
         "1",
         "0"
        ],
        [
         "100258",
         "2869.3426333333337",
         "0",
         "0",
         "3"
        ],
        [
         "100301",
         "3766.5364",
         "0",
         "0",
         "1"
        ],
        [
         "100359",
         "2795.971208333333",
         "0",
         "2",
         "1"
        ],
        [
         "100370",
         "-259.5284",
         "0",
         "0",
         "1"
        ],
        [
         "100425",
         "3847.3072",
         "0",
         "0",
         "1"
        ],
        [
         "100445",
         "2085.2540750000003",
         "1",
         "0",
         "1"
        ],
        [
         "100487",
         "1140.5345",
         "1",
         "1",
         "0"
        ],
        [
         "100553",
         "3822.13125",
         "1",
         "0",
         "0"
        ],
        [
         "100569",
         "4447.762000000001",
         "1",
         "0",
         "0"
        ],
        [
         "100571",
         "3578.9028875000004",
         "2",
         "2",
         "0"
        ],
        [
         "100594",
         "2035.1268",
         "0",
         "1",
         "0"
        ],
        [
         "100625",
         "2155.12185",
         "0",
         "1",
         "0"
        ],
        [
         "100662",
         "4923.0223000000005",
         "0",
         "1",
         "1"
        ],
        [
         "100672",
         "1755.9993499999998",
         "0",
         "1",
         "1"
        ],
        [
         "100681",
         "2996.4640000000004",
         "1",
         "0",
         "0"
        ],
        [
         "100686",
         "2725.047",
         "0",
         "1",
         "0"
        ],
        [
         "100708",
         "3298.61025",
         "0",
         "1",
         "1"
        ],
        [
         "100716",
         "3870.8388",
         "0",
         "1",
         "0"
        ],
        [
         "100754",
         "3250.5511750000005",
         "1",
         "0",
         "1"
        ],
        [
         "100756",
         "4992.462125000001",
         "0",
         "1",
         "0"
        ],
        [
         "100806",
         "3436.6960000000004",
         "0",
         "0",
         "1"
        ],
        [
         "100832",
         "2258.573725",
         "1",
         "0",
         "1"
        ],
        [
         "100860",
         "4268.0456",
         "0",
         "0",
         "2"
        ],
        [
         "100884",
         "2238.2218999999996",
         "1",
         "1",
         "0"
        ],
        [
         "100909",
         "1199.4696",
         "0",
         "1",
         "0"
        ],
        [
         "101025",
         "2415.0964416666666",
         "0",
         "0",
         "3"
        ],
        [
         "101142",
         "916.9000000000002",
         "0",
         "1",
         "0"
        ],
        [
         "101150",
         "4716.854600000001",
         "2",
         "0",
         "0"
        ],
        [
         "101183",
         "2598.0480583333333",
         "2",
         "0",
         "1"
        ],
        [
         "101206",
         "1828.0330375000003",
         "1",
         "1",
         "2"
        ],
        [
         "101248",
         "3792.0198333333333",
         "0",
         "1",
         "2"
        ],
        [
         "101269",
         "1268.3704625",
         "1",
         "1",
         "0"
        ],
        [
         "101281",
         "5104.9225",
         "2",
         "0",
         "0"
        ],
        [
         "101296",
         "3089.54221",
         "1",
         "3",
         "1"
        ],
        [
         "101343",
         "1423.145",
         "1",
         "0",
         "0"
        ],
        [
         "101429",
         "3244.9108",
         "0",
         "1",
         "1"
        ],
        [
         "101467",
         "655.9653249999999",
         "1",
         "0",
         "0"
        ],
        [
         "101493",
         "380.406875",
         "0",
         "1",
         "0"
        ],
        [
         "101526",
         "5627.58815",
         "0",
         "1",
         "1"
        ],
        [
         "101531",
         "244.4798",
         "1",
         "0",
         "0"
        ]
       ],
       "shape": {
        "columns": 4,
        "rows": 29071
       }
      },
      "text/html": [
       "<div>\n",
       "<style scoped>\n",
       "    .dataframe tbody tr th:only-of-type {\n",
       "        vertical-align: middle;\n",
       "    }\n",
       "\n",
       "    .dataframe tbody tr th {\n",
       "        vertical-align: top;\n",
       "    }\n",
       "\n",
       "    .dataframe thead th {\n",
       "        text-align: right;\n",
       "    }\n",
       "</style>\n",
       "<table border=\"1\" class=\"dataframe\">\n",
       "  <thead>\n",
       "    <tr style=\"text-align: right;\">\n",
       "      <th></th>\n",
       "      <th>Net Amount</th>\n",
       "      <th>Female</th>\n",
       "      <th>Male</th>\n",
       "      <th>Other</th>\n",
       "    </tr>\n",
       "    <tr>\n",
       "      <th>CID</th>\n",
       "      <th></th>\n",
       "      <th></th>\n",
       "      <th></th>\n",
       "      <th></th>\n",
       "    </tr>\n",
       "  </thead>\n",
       "  <tbody>\n",
       "    <tr>\n",
       "      <th>100009</th>\n",
       "      <td>6310.818400</td>\n",
       "      <td>1</td>\n",
       "      <td>0</td>\n",
       "      <td>0</td>\n",
       "    </tr>\n",
       "    <tr>\n",
       "      <th>100037</th>\n",
       "      <td>3147.992000</td>\n",
       "      <td>0</td>\n",
       "      <td>1</td>\n",
       "      <td>0</td>\n",
       "    </tr>\n",
       "    <tr>\n",
       "      <th>100063</th>\n",
       "      <td>522.900000</td>\n",
       "      <td>1</td>\n",
       "      <td>0</td>\n",
       "      <td>0</td>\n",
       "    </tr>\n",
       "    <tr>\n",
       "      <th>100089</th>\n",
       "      <td>3032.593000</td>\n",
       "      <td>1</td>\n",
       "      <td>1</td>\n",
       "      <td>2</td>\n",
       "    </tr>\n",
       "    <tr>\n",
       "      <th>100096</th>\n",
       "      <td>4320.675000</td>\n",
       "      <td>1</td>\n",
       "      <td>0</td>\n",
       "      <td>0</td>\n",
       "    </tr>\n",
       "    <tr>\n",
       "      <th>...</th>\n",
       "      <td>...</td>\n",
       "      <td>...</td>\n",
       "      <td>...</td>\n",
       "      <td>...</td>\n",
       "    </tr>\n",
       "    <tr>\n",
       "      <th>999876</th>\n",
       "      <td>4372.104000</td>\n",
       "      <td>0</td>\n",
       "      <td>1</td>\n",
       "      <td>0</td>\n",
       "    </tr>\n",
       "    <tr>\n",
       "      <th>999883</th>\n",
       "      <td>1320.492575</td>\n",
       "      <td>1</td>\n",
       "      <td>0</td>\n",
       "      <td>1</td>\n",
       "    </tr>\n",
       "    <tr>\n",
       "      <th>999910</th>\n",
       "      <td>2646.507150</td>\n",
       "      <td>0</td>\n",
       "      <td>0</td>\n",
       "      <td>1</td>\n",
       "    </tr>\n",
       "    <tr>\n",
       "      <th>999924</th>\n",
       "      <td>2802.355500</td>\n",
       "      <td>1</td>\n",
       "      <td>0</td>\n",
       "      <td>0</td>\n",
       "    </tr>\n",
       "    <tr>\n",
       "      <th>999996</th>\n",
       "      <td>2234.081500</td>\n",
       "      <td>0</td>\n",
       "      <td>1</td>\n",
       "      <td>1</td>\n",
       "    </tr>\n",
       "  </tbody>\n",
       "</table>\n",
       "<p>29071 rows × 4 columns</p>\n",
       "</div>"
      ],
      "text/plain": [
       "         Net Amount  Female  Male  Other\n",
       "CID                                     \n",
       "100009  6310.818400       1     0      0\n",
       "100037  3147.992000       0     1      0\n",
       "100063   522.900000       1     0      0\n",
       "100089  3032.593000       1     1      2\n",
       "100096  4320.675000       1     0      0\n",
       "...             ...     ...   ...    ...\n",
       "999876  4372.104000       0     1      0\n",
       "999883  1320.492575       1     0      1\n",
       "999910  2646.507150       0     0      1\n",
       "999924  2802.355500       1     0      0\n",
       "999996  2234.081500       0     1      1\n",
       "\n",
       "[29071 rows x 4 columns]"
      ]
     },
     "execution_count": 24,
     "metadata": {},
     "output_type": "execute_result"
    }
   ],
   "source": [
    "merge"
   ]
  },
  {
   "cell_type": "markdown",
   "id": "ee0fb1b7",
   "metadata": {},
   "source": [
    " df.join(df2) - Join based on index"
   ]
  },
  {
   "cell_type": "code",
   "execution_count": 35,
   "id": "dd0e335f",
   "metadata": {},
   "outputs": [],
   "source": [
    "dataframe = pd.DataFrame(np.random.randn(len(df)), index=df['CID'], columns=['join_column'])"
   ]
  },
  {
   "cell_type": "code",
   "execution_count": 36,
   "id": "e0ddecc9",
   "metadata": {},
   "outputs": [
    {
     "data": {
      "application/vnd.microsoft.datawrangler.viewer.v0+json": {
       "columns": [
        {
         "name": "CID",
         "rawType": "int64",
         "type": "integer"
        },
        {
         "name": "join_column",
         "rawType": "float64",
         "type": "float"
        }
       ],
       "conversionMethod": "pd.DataFrame",
       "ref": "4a78702a-b7a9-4980-8aaa-4a725f68934f",
       "rows": [
        [
         "943146",
         "-0.4572383611890786"
        ],
        [
         "180079",
         "1.3453922857018423"
        ],
        [
         "337580",
         "0.07511339142480868"
        ],
        [
         "180333",
         "1.4021932750324924"
        ],
        [
         "447553",
         "-0.5927046816519893"
        ],
        [
         "200614",
         "-0.7284036911265357"
        ],
        [
         "668787",
         "0.6179416665775495"
        ],
        [
         "933551",
         "-0.012705204149515648"
        ],
        [
         "414167",
         "-0.9022244936319184"
        ],
        [
         "889269",
         "0.14383000762606138"
        ],
        [
         "931578",
         "0.9489023517545018"
        ],
        [
         "629298",
         "2.031142588898309"
        ],
        [
         "665042",
         "0.39958473780804893"
        ],
        [
         "570860",
         "0.15441932255670954"
        ],
        [
         "367541",
         "-0.7811118816227733"
        ],
        [
         "143460",
         "-1.9973085348808597"
        ],
        [
         "573298",
         "0.1996945962462666"
        ],
        [
         "454101",
         "0.27604251068619773"
        ],
        [
         "337178",
         "2.6198532558743386"
        ],
        [
         "787512",
         "0.19815193935385633"
        ],
        [
         "538174",
         "0.5952265747498537"
        ],
        [
         "110195",
         "-0.09488120884293885"
        ],
        [
         "443120",
         "-0.22398436660242968"
        ],
        [
         "910099",
         "0.3356170030896797"
        ],
        [
         "745014",
         "0.6170976516829979"
        ],
        [
         "292237",
         "-1.3534602260787694"
        ],
        [
         "654718",
         "2.0701812553376864"
        ],
        [
         "772149",
         "0.6159291898393672"
        ],
        [
         "655550",
         "-1.7371542549726688"
        ],
        [
         "566018",
         "0.07141818242131788"
        ],
        [
         "336108",
         "0.44466633158145613"
        ],
        [
         "521139",
         "0.236960731837562"
        ],
        [
         "171973",
         "1.185705700098204"
        ],
        [
         "427162",
         "1.8984336688201373"
        ],
        [
         "572298",
         "0.4486591915099361"
        ],
        [
         "592489",
         "-0.22311913335950215"
        ],
        [
         "297594",
         "0.46570844439750575"
        ],
        [
         "862400",
         "-1.3014669110938695"
        ],
        [
         "343390",
         "-0.0428029518916429"
        ],
        [
         "657783",
         "-0.5182343011510825"
        ],
        [
         "520940",
         "-0.09013256885597999"
        ],
        [
         "338169",
         "1.4935638193094058"
        ],
        [
         "652388",
         "1.0645561453956456"
        ],
        [
         "124240",
         "0.9550689114895956"
        ],
        [
         "850800",
         "-1.8319284122107866"
        ],
        [
         "860652",
         "1.3306205427978393"
        ],
        [
         "892356",
         "0.42726068535764955"
        ],
        [
         "189026",
         "-1.0945559121175583"
        ],
        [
         "543555",
         "0.2842777440123778"
        ],
        [
         "130710",
         "0.5109964379654724"
        ]
       ],
       "shape": {
        "columns": 1,
        "rows": 55000
       }
      },
      "text/html": [
       "<div>\n",
       "<style scoped>\n",
       "    .dataframe tbody tr th:only-of-type {\n",
       "        vertical-align: middle;\n",
       "    }\n",
       "\n",
       "    .dataframe tbody tr th {\n",
       "        vertical-align: top;\n",
       "    }\n",
       "\n",
       "    .dataframe thead th {\n",
       "        text-align: right;\n",
       "    }\n",
       "</style>\n",
       "<table border=\"1\" class=\"dataframe\">\n",
       "  <thead>\n",
       "    <tr style=\"text-align: right;\">\n",
       "      <th></th>\n",
       "      <th>join_column</th>\n",
       "    </tr>\n",
       "    <tr>\n",
       "      <th>CID</th>\n",
       "      <th></th>\n",
       "    </tr>\n",
       "  </thead>\n",
       "  <tbody>\n",
       "    <tr>\n",
       "      <th>943146</th>\n",
       "      <td>-0.457238</td>\n",
       "    </tr>\n",
       "    <tr>\n",
       "      <th>180079</th>\n",
       "      <td>1.345392</td>\n",
       "    </tr>\n",
       "    <tr>\n",
       "      <th>337580</th>\n",
       "      <td>0.075113</td>\n",
       "    </tr>\n",
       "    <tr>\n",
       "      <th>180333</th>\n",
       "      <td>1.402193</td>\n",
       "    </tr>\n",
       "    <tr>\n",
       "      <th>447553</th>\n",
       "      <td>-0.592705</td>\n",
       "    </tr>\n",
       "    <tr>\n",
       "      <th>...</th>\n",
       "      <td>...</td>\n",
       "    </tr>\n",
       "    <tr>\n",
       "      <th>295864</th>\n",
       "      <td>-1.581463</td>\n",
       "    </tr>\n",
       "    <tr>\n",
       "      <th>706435</th>\n",
       "      <td>-0.673667</td>\n",
       "    </tr>\n",
       "    <tr>\n",
       "      <th>649435</th>\n",
       "      <td>-0.418274</td>\n",
       "    </tr>\n",
       "    <tr>\n",
       "      <th>982183</th>\n",
       "      <td>-0.845835</td>\n",
       "    </tr>\n",
       "    <tr>\n",
       "      <th>126691</th>\n",
       "      <td>-1.599902</td>\n",
       "    </tr>\n",
       "  </tbody>\n",
       "</table>\n",
       "<p>55000 rows × 1 columns</p>\n",
       "</div>"
      ],
      "text/plain": [
       "        join_column\n",
       "CID                \n",
       "943146    -0.457238\n",
       "180079     1.345392\n",
       "337580     0.075113\n",
       "180333     1.402193\n",
       "447553    -0.592705\n",
       "...             ...\n",
       "295864    -1.581463\n",
       "706435    -0.673667\n",
       "649435    -0.418274\n",
       "982183    -0.845835\n",
       "126691    -1.599902\n",
       "\n",
       "[55000 rows x 1 columns]"
      ]
     },
     "execution_count": 36,
     "metadata": {},
     "output_type": "execute_result"
    }
   ],
   "source": [
    "dataframe"
   ]
  },
  {
   "cell_type": "code",
   "execution_count": 39,
   "id": "e9920233",
   "metadata": {},
   "outputs": [],
   "source": [
    "join1 = df.join(dataframe , how='left')"
   ]
  },
  {
   "cell_type": "code",
   "execution_count": 40,
   "id": "9bfce34d",
   "metadata": {},
   "outputs": [
    {
     "data": {
      "application/vnd.microsoft.datawrangler.viewer.v0+json": {
       "columns": [
        {
         "name": "index",
         "rawType": "int64",
         "type": "integer"
        },
        {
         "name": "CID",
         "rawType": "int64",
         "type": "integer"
        },
        {
         "name": "TID",
         "rawType": "int64",
         "type": "integer"
        },
        {
         "name": "Gender",
         "rawType": "object",
         "type": "string"
        },
        {
         "name": "Age Group",
         "rawType": "object",
         "type": "string"
        },
        {
         "name": "Purchase Date",
         "rawType": "object",
         "type": "string"
        },
        {
         "name": "Product Category",
         "rawType": "object",
         "type": "string"
        },
        {
         "name": "Discount Availed",
         "rawType": "object",
         "type": "string"
        },
        {
         "name": "Discount Name",
         "rawType": "object",
         "type": "unknown"
        },
        {
         "name": "Discount Amount (INR)",
         "rawType": "float64",
         "type": "float"
        },
        {
         "name": "Gross Amount",
         "rawType": "float64",
         "type": "float"
        },
        {
         "name": "Net Amount",
         "rawType": "float64",
         "type": "float"
        },
        {
         "name": "Purchase Method",
         "rawType": "object",
         "type": "string"
        },
        {
         "name": "Location",
         "rawType": "object",
         "type": "string"
        },
        {
         "name": "join_column",
         "rawType": "float64",
         "type": "float"
        }
       ],
       "conversionMethod": "pd.DataFrame",
       "ref": "2b6ab2df-5094-4153-971a-d17f965d3f61",
       "rows": [
        [
         "0",
         "943146",
         "5876328741",
         "Female",
         "25-45",
         "30/08/2023 20:27:08",
         "Electronics",
         "Yes",
         "FESTIVE50",
         "64.3",
         "725.304",
         "661.004",
         "Credit Card",
         "Ahmedabad",
         null
        ],
        [
         "1",
         "180079",
         "1018503182",
         "Male",
         "25-45",
         "23/02/2024 09:33:46",
         "Electronics",
         "Yes",
         "SEASONALOFFER21",
         "175.19",
         "4638.991875",
         "4463.801875",
         "Credit Card",
         "Bangalore",
         null
        ],
        [
         "2",
         "337580",
         "3814082218",
         "Other",
         "60 and above",
         "06/03/2022 09:09:50",
         "Clothing",
         "Yes",
         "SEASONALOFFER21",
         "211.54",
         "1986.372575",
         "1774.8325749999997",
         "Credit Card",
         "Delhi",
         null
        ],
        [
         "3",
         "180333",
         "1395204173",
         "Other",
         "60 and above",
         "04/11/2020 04:41:57",
         "Sports & Fitness",
         "No",
         null,
         "0.0",
         "5695.61265",
         "5695.61265",
         "Debit Card",
         "Delhi",
         null
        ],
        [
         "4",
         "447553",
         "8009390577",
         "Male",
         "18-25",
         "31/05/2022 17:00:32",
         "Sports & Fitness",
         "Yes",
         "WELCOME5",
         "439.92",
         "2292.6514999999995",
         "1852.7314999999996",
         "Credit Card",
         "Delhi",
         null
        ],
        [
         "5",
         "200614",
         "3994452858",
         "Male",
         "18-25",
         "12/07/2021 15:10:27",
         "Clothing",
         "Yes",
         "FESTIVE50",
         "127.01",
         "3649.3974",
         "3522.3874",
         "Credit Card",
         "Delhi",
         null
        ],
        [
         "6",
         "668787",
         "9460023916",
         "Male",
         "25-45",
         "08/10/2023 16:59:52",
         "Electronics",
         "No",
         null,
         "0.0",
         "5593.9356",
         "5593.9356",
         "PhonePe UPI",
         "Delhi",
         null
        ],
        [
         "7",
         "933551",
         "6877673032",
         "Female",
         "18-25",
         "14/12/2022 20:13:45",
         "Electronics",
         "No",
         null,
         "0.0",
         "1901.7964",
         "1901.7964",
         "Credit Card",
         "Delhi",
         null
        ],
        [
         "8",
         "414167",
         "2841266620",
         "Male",
         "18-25",
         "29/04/2020 09:10:46",
         "Pet Care",
         "No",
         null,
         "0.0",
         "3961.671",
         "3961.671",
         "Debit Card",
         "Delhi",
         null
        ],
        [
         "9",
         "889269",
         "1342270638",
         "Other",
         "60 and above",
         "18/12/2023 19:04:02",
         "Clothing",
         "Yes",
         "SAVE10",
         "437.5",
         "1497.3503999999996",
         "1059.8503999999996",
         "Credit Card",
         "Bangalore",
         null
        ],
        [
         "10",
         "931578",
         "5168806107",
         "Other",
         "25-45",
         "09/12/2022 19:54:47",
         "Clothing",
         "No",
         null,
         "0.0",
         "7824.165299999999",
         "7824.165299999999",
         "Credit Card",
         "Other",
         null
        ],
        [
         "11",
         "629298",
         "2229511931",
         "Other",
         "45-60",
         "02/11/2021 15:37:38",
         "Electronics",
         "No",
         null,
         "0.0",
         "988.1729",
         "988.1729",
         "Google Pay UPI",
         "Chennai",
         null
        ],
        [
         "12",
         "665042",
         "3754858574",
         "Female",
         "25-45",
         "23/09/2020 02:22:00",
         "Electronics",
         "Yes",
         "SEASONALOFFER21",
         "97.88",
         "3508.9377750000003",
         "3411.057775",
         "Net Banking",
         "Dehradun",
         null
        ],
        [
         "13",
         "570860",
         "6791123870",
         "Male",
         "25-45",
         "15/02/2020 05:51:55",
         "Electronics",
         "Yes",
         "FESTIVE50",
         "269.87",
         "618.1098",
         "348.23979999999995",
         "Cash on Delivery",
         "Chennai",
         null
        ],
        [
         "14",
         "367541",
         "9916932604",
         "Other",
         "18-25",
         "26/09/2021 06:13:58",
         "Home & Kitchen",
         "Yes",
         "NEWYEARS",
         "268.7",
         "560.9604",
         "292.26040000000006",
         "Credit Card",
         "Pune",
         null
        ],
        [
         "15",
         "143460",
         "2441027824",
         "Other",
         "25-45",
         "15/07/2022 09:26:34",
         "Electronics",
         "No",
         null,
         "0.0",
         "4996.1106",
         "4996.1106",
         "Debit Card",
         "Delhi",
         null
        ],
        [
         "16",
         "573298",
         "5515725036",
         "Other",
         "25-45",
         "27/05/2023 19:38:50",
         "Sports & Fitness",
         "No",
         null,
         "0.0",
         "2729.748",
         "2729.748",
         "Net Banking",
         "Ahmedabad",
         null
        ],
        [
         "17",
         "454101",
         "6091881739",
         "Male",
         "under 18",
         "12/04/2020 20:37:09",
         "Electronics",
         "Yes",
         "NEWYEARS",
         "368.53",
         "457.31700000000006",
         "88.78700000000009",
         "Credit Card",
         "Hyderabad",
         null
        ],
        [
         "18",
         "337178",
         "6774128207",
         "Other",
         "18-25",
         "20/02/2021 00:10:11",
         "Home & Kitchen",
         "Yes",
         "SEASONALOFFER21",
         "375.51",
         "4141.6386",
         "3766.1286",
         "Credit Card",
         "Ahmedabad",
         null
        ],
        [
         "19",
         "787512",
         "9582806381",
         "Male",
         "18-25",
         "17/03/2021 17:32:46",
         "Books",
         "No",
         null,
         "0.0",
         "1952.4153",
         "1952.4153",
         "Paytm UPI",
         "Mumbai",
         null
        ],
        [
         "20",
         "538174",
         "1322344974",
         "Male",
         "60 and above",
         "24/11/2020 02:42:48",
         "Sports & Fitness",
         "No",
         null,
         "0.0",
         "5025.7116000000005",
         "5025.7116000000005",
         "Net Banking",
         "Mumbai",
         null
        ],
        [
         "21",
         "110195",
         "8013666930",
         "Female",
         "25-45",
         "14/02/2022 16:58:48",
         "Electronics",
         "Yes",
         "WELCOME5",
         "83.92",
         "3977.359525",
         "3893.4395249999993",
         "Debit Card",
         "Delhi",
         null
        ],
        [
         "22",
         "443120",
         "4473452038",
         "Female",
         "under 18",
         "07/09/2023 23:23:03",
         "Sports & Fitness",
         "Yes",
         "NEWYEARS",
         "268.54",
         "1495.2042",
         "1226.6642000000002",
         "Debit Card",
         "Mumbai",
         null
        ],
        [
         "23",
         "910099",
         "7930280777",
         "Other",
         "25-45",
         "22/02/2024 21:46:22",
         "Electronics",
         "No",
         null,
         "0.0",
         "1629.30125",
         "1629.30125",
         "Credit Card",
         "Jaipur",
         null
        ],
        [
         "24",
         "745014",
         "9202622469",
         "Male",
         "18-25",
         "04/05/2023 18:06:02",
         "Clothing",
         "Yes",
         "SAVE10",
         "75.72",
         "3579.9120000000003",
         "3504.1920000000005",
         "Credit Card",
         "Mumbai",
         null
        ],
        [
         "25",
         "292237",
         "1250629827",
         "Other",
         "25-45",
         "09/11/2022 16:08:11",
         "Beauty and Health",
         "Yes",
         "FESTIVE50",
         "353.85",
         "1929.6563",
         "1575.8062999999995",
         "Credit Card",
         "Pune",
         null
        ],
        [
         "26",
         "654718",
         "6758404906",
         "Other",
         "under 18",
         "22/07/2023 23:26:04",
         "Beauty and Health",
         "No",
         null,
         "0.0",
         "5057.9964",
         "5057.9964",
         "Debit Card",
         "Mumbai",
         null
        ],
        [
         "27",
         "772149",
         "2726106260",
         "Other",
         "18-25",
         "29/10/2022 09:55:05",
         "Clothing",
         "No",
         null,
         "0.0",
         "2129.5769",
         "2129.5769",
         "Credit Card",
         "Hyderabad",
         null
        ],
        [
         "28",
         "655550",
         "7463349293",
         "Female",
         "18-25",
         "14/12/2020 23:20:08",
         "Beauty and Health",
         "No",
         null,
         "0.0",
         "1164.8427",
         "1164.8427",
         "Debit Card",
         "Bangalore",
         null
        ],
        [
         "29",
         "566018",
         "6086235198",
         "Other",
         "18-25",
         "13/06/2020 23:23:02",
         "Home & Kitchen",
         "No",
         null,
         "0.0",
         "2945.2248000000004",
         "2945.2248000000004",
         "Credit Card",
         "Pune",
         null
        ],
        [
         "30",
         "336108",
         "2957151067",
         "Female",
         "25-45",
         "12/01/2023 06:38:34",
         "Home & Kitchen",
         "Yes",
         "NEWYEARS",
         "450.37",
         "4050.7776",
         "3600.4076",
         "Credit Card",
         "Lucknow",
         null
        ],
        [
         "31",
         "521139",
         "2736057295",
         "Female",
         "18-25",
         "17/10/2022 00:01:38",
         "Beauty and Health",
         "No",
         null,
         "0.0",
         "3290.55595",
         "3290.55595",
         "Net Banking",
         "Hyderabad",
         null
        ],
        [
         "32",
         "171973",
         "7034831125",
         "Other",
         "25-45",
         "08/12/2019 21:48:51",
         "Home & Kitchen",
         "Yes",
         "SEASONALOFFER21",
         "108.87",
         "6862.828",
         "6753.9580000000005",
         "Credit Card",
         "Delhi",
         null
        ],
        [
         "33",
         "427162",
         "6407323241",
         "Other",
         "under 18",
         "14/10/2019 07:26:19",
         "Beauty and Health",
         "Yes",
         "SEASONALOFFER21",
         "425.57",
         "3272.6870000000004",
         "2847.117",
         "Debit Card",
         "Mumbai",
         null
        ],
        [
         "34",
         "572298",
         "3046169433",
         "Male",
         "45-60",
         "30/01/2020 13:10:58",
         "Electronics",
         "Yes",
         "WELCOME5",
         "144.53",
         "1285.4079",
         "1140.8779",
         "Credit Card",
         "Dehradun",
         null
        ],
        [
         "35",
         "592489",
         "5651462936",
         "Male",
         "60 and above",
         "19/01/2022 04:05:36",
         "Beauty and Health",
         "Yes",
         "WELCOME5",
         "489.29",
         "4225.118399999999",
         "3735.8284",
         "Google Pay UPI",
         "Chennai",
         null
        ],
        [
         "36",
         "297594",
         "1955554145",
         "Female",
         "45-60",
         "07/12/2022 02:27:42",
         "Sports & Fitness",
         "Yes",
         "NEWYEARS",
         "404.32",
         "1085.5585999999998",
         "681.2385999999999",
         "Credit Card",
         "Kolkata",
         null
        ],
        [
         "37",
         "862400",
         "6068201504",
         "Other",
         "25-45",
         "23/01/2020 09:04:23",
         "Electronics",
         "Yes",
         "NEWYEARS",
         "347.01",
         "1968.0192",
         "1621.0092000000002",
         "Paytm UPI",
         "Delhi",
         null
        ],
        [
         "38",
         "343390",
         "7493781432",
         "Other",
         "25-45",
         "03/08/2020 06:15:16",
         "Other",
         "No",
         null,
         "0.0",
         "4940.5650000000005",
         "4940.5650000000005",
         "Credit Card",
         "Delhi",
         null
        ],
        [
         "39",
         "657783",
         "4766466385",
         "Other",
         "60 and above",
         "30/09/2019 03:04:44",
         "Electronics",
         "No",
         null,
         "0.0",
         "1917.909",
         "1917.909",
         "Debit Card",
         "Mumbai",
         null
        ],
        [
         "40",
         "520940",
         "7063849825",
         "Male",
         "45-60",
         "27/04/2024 20:06:46",
         "Other",
         "Yes",
         "SAVE10",
         "50.76",
         "5798.8",
         "5748.04",
         "Credit Card",
         "Mumbai",
         null
        ],
        [
         "41",
         "338169",
         "3574854627",
         "Other",
         "18-25",
         "11/01/2022 08:51:21",
         "Toys & Games",
         "No",
         null,
         "0.0",
         "3283.3305",
         "3283.3305",
         "Net Banking",
         "Bangalore",
         null
        ],
        [
         "42",
         "652388",
         "5725712173",
         "Other",
         "25-45",
         "13/11/2020 16:32:26",
         "Clothing",
         "No",
         null,
         "0.0",
         "3875.098500000001",
         "3875.098500000001",
         "Credit Card",
         "Bangalore",
         null
        ],
        [
         "43",
         "124240",
         "3303385112",
         "Male",
         "45-60",
         "13/10/2019 10:01:00",
         "Toys & Games",
         "No",
         null,
         "0.0",
         "2331.4060000000004",
         "2331.4060000000004",
         "Net Banking",
         "Hyderabad",
         null
        ],
        [
         "44",
         "850800",
         "7320956570",
         "Female",
         "25-45",
         "23/02/2021 23:36:04",
         "Electronics",
         "No",
         null,
         "0.0",
         "2145.3388000000004",
         "2145.3388000000004",
         "Cash on Delivery",
         "Delhi",
         null
        ],
        [
         "45",
         "860652",
         "4092870576",
         "Male",
         "25-45",
         "01/10/2020 14:59:28",
         "Books",
         "No",
         null,
         "0.0",
         "3060.680700000001",
         "3060.680700000001",
         "International Card",
         "Ahmedabad",
         null
        ],
        [
         "46",
         "892356",
         "1692940438",
         "Female",
         "18-25",
         "01/09/2021 02:14:39",
         "Toys & Games",
         "Yes",
         "NEWYEARS",
         "160.18",
         "2834.84355",
         "2674.66355",
         "Credit Card",
         "Kolkata",
         null
        ],
        [
         "47",
         "189026",
         "1636012605",
         "Male",
         "25-45",
         "16/03/2021 03:26:01",
         "Home & Kitchen",
         "No",
         null,
         "0.0",
         "1393.3194",
         "1393.3194",
         "Debit Card",
         "Delhi",
         null
        ],
        [
         "48",
         "543555",
         "3388286985",
         "Other",
         "45-60",
         "17/02/2022 13:02:36",
         "Home & Kitchen",
         "No",
         null,
         "0.0",
         "384.7049",
         "384.7049",
         "Google Pay UPI",
         "Delhi",
         null
        ],
        [
         "49",
         "130710",
         "9646503430",
         "Other",
         "25-45",
         "29/01/2022 07:26:45",
         "Electronics",
         "No",
         null,
         "0.0",
         "4924.20915",
         "4924.20915",
         "Credit Card",
         "Bangalore",
         null
        ]
       ],
       "shape": {
        "columns": 14,
        "rows": 55000
       }
      },
      "text/html": [
       "<div>\n",
       "<style scoped>\n",
       "    .dataframe tbody tr th:only-of-type {\n",
       "        vertical-align: middle;\n",
       "    }\n",
       "\n",
       "    .dataframe tbody tr th {\n",
       "        vertical-align: top;\n",
       "    }\n",
       "\n",
       "    .dataframe thead th {\n",
       "        text-align: right;\n",
       "    }\n",
       "</style>\n",
       "<table border=\"1\" class=\"dataframe\">\n",
       "  <thead>\n",
       "    <tr style=\"text-align: right;\">\n",
       "      <th></th>\n",
       "      <th>CID</th>\n",
       "      <th>TID</th>\n",
       "      <th>Gender</th>\n",
       "      <th>Age Group</th>\n",
       "      <th>Purchase Date</th>\n",
       "      <th>Product Category</th>\n",
       "      <th>Discount Availed</th>\n",
       "      <th>Discount Name</th>\n",
       "      <th>Discount Amount (INR)</th>\n",
       "      <th>Gross Amount</th>\n",
       "      <th>Net Amount</th>\n",
       "      <th>Purchase Method</th>\n",
       "      <th>Location</th>\n",
       "      <th>join_column</th>\n",
       "    </tr>\n",
       "  </thead>\n",
       "  <tbody>\n",
       "    <tr>\n",
       "      <th>0</th>\n",
       "      <td>943146</td>\n",
       "      <td>5876328741</td>\n",
       "      <td>Female</td>\n",
       "      <td>25-45</td>\n",
       "      <td>30/08/2023 20:27:08</td>\n",
       "      <td>Electronics</td>\n",
       "      <td>Yes</td>\n",
       "      <td>FESTIVE50</td>\n",
       "      <td>64.30</td>\n",
       "      <td>725.304000</td>\n",
       "      <td>661.004000</td>\n",
       "      <td>Credit Card</td>\n",
       "      <td>Ahmedabad</td>\n",
       "      <td>NaN</td>\n",
       "    </tr>\n",
       "    <tr>\n",
       "      <th>1</th>\n",
       "      <td>180079</td>\n",
       "      <td>1018503182</td>\n",
       "      <td>Male</td>\n",
       "      <td>25-45</td>\n",
       "      <td>23/02/2024 09:33:46</td>\n",
       "      <td>Electronics</td>\n",
       "      <td>Yes</td>\n",
       "      <td>SEASONALOFFER21</td>\n",
       "      <td>175.19</td>\n",
       "      <td>4638.991875</td>\n",
       "      <td>4463.801875</td>\n",
       "      <td>Credit Card</td>\n",
       "      <td>Bangalore</td>\n",
       "      <td>NaN</td>\n",
       "    </tr>\n",
       "    <tr>\n",
       "      <th>2</th>\n",
       "      <td>337580</td>\n",
       "      <td>3814082218</td>\n",
       "      <td>Other</td>\n",
       "      <td>60 and above</td>\n",
       "      <td>06/03/2022 09:09:50</td>\n",
       "      <td>Clothing</td>\n",
       "      <td>Yes</td>\n",
       "      <td>SEASONALOFFER21</td>\n",
       "      <td>211.54</td>\n",
       "      <td>1986.372575</td>\n",
       "      <td>1774.832575</td>\n",
       "      <td>Credit Card</td>\n",
       "      <td>Delhi</td>\n",
       "      <td>NaN</td>\n",
       "    </tr>\n",
       "    <tr>\n",
       "      <th>3</th>\n",
       "      <td>180333</td>\n",
       "      <td>1395204173</td>\n",
       "      <td>Other</td>\n",
       "      <td>60 and above</td>\n",
       "      <td>04/11/2020 04:41:57</td>\n",
       "      <td>Sports &amp; Fitness</td>\n",
       "      <td>No</td>\n",
       "      <td>NaN</td>\n",
       "      <td>0.00</td>\n",
       "      <td>5695.612650</td>\n",
       "      <td>5695.612650</td>\n",
       "      <td>Debit Card</td>\n",
       "      <td>Delhi</td>\n",
       "      <td>NaN</td>\n",
       "    </tr>\n",
       "    <tr>\n",
       "      <th>4</th>\n",
       "      <td>447553</td>\n",
       "      <td>8009390577</td>\n",
       "      <td>Male</td>\n",
       "      <td>18-25</td>\n",
       "      <td>31/05/2022 17:00:32</td>\n",
       "      <td>Sports &amp; Fitness</td>\n",
       "      <td>Yes</td>\n",
       "      <td>WELCOME5</td>\n",
       "      <td>439.92</td>\n",
       "      <td>2292.651500</td>\n",
       "      <td>1852.731500</td>\n",
       "      <td>Credit Card</td>\n",
       "      <td>Delhi</td>\n",
       "      <td>NaN</td>\n",
       "    </tr>\n",
       "    <tr>\n",
       "      <th>...</th>\n",
       "      <td>...</td>\n",
       "      <td>...</td>\n",
       "      <td>...</td>\n",
       "      <td>...</td>\n",
       "      <td>...</td>\n",
       "      <td>...</td>\n",
       "      <td>...</td>\n",
       "      <td>...</td>\n",
       "      <td>...</td>\n",
       "      <td>...</td>\n",
       "      <td>...</td>\n",
       "      <td>...</td>\n",
       "      <td>...</td>\n",
       "      <td>...</td>\n",
       "    </tr>\n",
       "    <tr>\n",
       "      <th>54995</th>\n",
       "      <td>295864</td>\n",
       "      <td>5407639888</td>\n",
       "      <td>Other</td>\n",
       "      <td>25-45</td>\n",
       "      <td>23/02/2020 10:42:04</td>\n",
       "      <td>Electronics</td>\n",
       "      <td>Yes</td>\n",
       "      <td>SEASONALOFFER21</td>\n",
       "      <td>110.89</td>\n",
       "      <td>2819.907300</td>\n",
       "      <td>2709.017300</td>\n",
       "      <td>Debit Card</td>\n",
       "      <td>Other</td>\n",
       "      <td>NaN</td>\n",
       "    </tr>\n",
       "    <tr>\n",
       "      <th>54996</th>\n",
       "      <td>706435</td>\n",
       "      <td>1144029904</td>\n",
       "      <td>Other</td>\n",
       "      <td>18-25</td>\n",
       "      <td>12/07/2021 15:59:21</td>\n",
       "      <td>Electronics</td>\n",
       "      <td>Yes</td>\n",
       "      <td>SEASONALOFFER21</td>\n",
       "      <td>488.59</td>\n",
       "      <td>3891.303900</td>\n",
       "      <td>3402.713900</td>\n",
       "      <td>Cash on Delivery</td>\n",
       "      <td>Bangalore</td>\n",
       "      <td>NaN</td>\n",
       "    </tr>\n",
       "    <tr>\n",
       "      <th>54997</th>\n",
       "      <td>649435</td>\n",
       "      <td>9587323189</td>\n",
       "      <td>Male</td>\n",
       "      <td>45-60</td>\n",
       "      <td>02/08/2024 09:30:44</td>\n",
       "      <td>Home &amp; Kitchen</td>\n",
       "      <td>Yes</td>\n",
       "      <td>NEWYEARS</td>\n",
       "      <td>417.63</td>\n",
       "      <td>4094.687500</td>\n",
       "      <td>3677.057500</td>\n",
       "      <td>Credit Card</td>\n",
       "      <td>Mumbai</td>\n",
       "      <td>NaN</td>\n",
       "    </tr>\n",
       "    <tr>\n",
       "      <th>54998</th>\n",
       "      <td>982183</td>\n",
       "      <td>5032564481</td>\n",
       "      <td>Female</td>\n",
       "      <td>45-60</td>\n",
       "      <td>05/08/2020 23:57:56</td>\n",
       "      <td>Beauty and Health</td>\n",
       "      <td>Yes</td>\n",
       "      <td>SEASONALOFFER21</td>\n",
       "      <td>204.56</td>\n",
       "      <td>3977.473500</td>\n",
       "      <td>3772.913500</td>\n",
       "      <td>Credit Card</td>\n",
       "      <td>Kolkata</td>\n",
       "      <td>NaN</td>\n",
       "    </tr>\n",
       "    <tr>\n",
       "      <th>54999</th>\n",
       "      <td>126691</td>\n",
       "      <td>9172953722</td>\n",
       "      <td>Male</td>\n",
       "      <td>25-45</td>\n",
       "      <td>21/07/2022 09:05:18</td>\n",
       "      <td>Beauty and Health</td>\n",
       "      <td>Yes</td>\n",
       "      <td>NEWYEARS</td>\n",
       "      <td>380.81</td>\n",
       "      <td>3703.581900</td>\n",
       "      <td>3322.771900</td>\n",
       "      <td>Credit Card</td>\n",
       "      <td>Mumbai</td>\n",
       "      <td>NaN</td>\n",
       "    </tr>\n",
       "  </tbody>\n",
       "</table>\n",
       "<p>55000 rows × 14 columns</p>\n",
       "</div>"
      ],
      "text/plain": [
       "          CID         TID  Gender     Age Group        Purchase Date  \\\n",
       "0      943146  5876328741  Female         25-45  30/08/2023 20:27:08   \n",
       "1      180079  1018503182    Male         25-45  23/02/2024 09:33:46   \n",
       "2      337580  3814082218   Other  60 and above  06/03/2022 09:09:50   \n",
       "3      180333  1395204173   Other  60 and above  04/11/2020 04:41:57   \n",
       "4      447553  8009390577    Male         18-25  31/05/2022 17:00:32   \n",
       "...       ...         ...     ...           ...                  ...   \n",
       "54995  295864  5407639888   Other         25-45  23/02/2020 10:42:04   \n",
       "54996  706435  1144029904   Other         18-25  12/07/2021 15:59:21   \n",
       "54997  649435  9587323189    Male         45-60  02/08/2024 09:30:44   \n",
       "54998  982183  5032564481  Female         45-60  05/08/2020 23:57:56   \n",
       "54999  126691  9172953722    Male         25-45  21/07/2022 09:05:18   \n",
       "\n",
       "        Product Category Discount Availed    Discount Name  \\\n",
       "0            Electronics              Yes        FESTIVE50   \n",
       "1            Electronics              Yes  SEASONALOFFER21   \n",
       "2               Clothing              Yes  SEASONALOFFER21   \n",
       "3       Sports & Fitness               No              NaN   \n",
       "4       Sports & Fitness              Yes         WELCOME5   \n",
       "...                  ...              ...              ...   \n",
       "54995        Electronics              Yes  SEASONALOFFER21   \n",
       "54996        Electronics              Yes  SEASONALOFFER21   \n",
       "54997     Home & Kitchen              Yes         NEWYEARS   \n",
       "54998  Beauty and Health              Yes  SEASONALOFFER21   \n",
       "54999  Beauty and Health              Yes         NEWYEARS   \n",
       "\n",
       "       Discount Amount (INR)  Gross Amount   Net Amount   Purchase Method  \\\n",
       "0                      64.30    725.304000   661.004000       Credit Card   \n",
       "1                     175.19   4638.991875  4463.801875       Credit Card   \n",
       "2                     211.54   1986.372575  1774.832575       Credit Card   \n",
       "3                       0.00   5695.612650  5695.612650        Debit Card   \n",
       "4                     439.92   2292.651500  1852.731500       Credit Card   \n",
       "...                      ...           ...          ...               ...   \n",
       "54995                 110.89   2819.907300  2709.017300        Debit Card   \n",
       "54996                 488.59   3891.303900  3402.713900  Cash on Delivery   \n",
       "54997                 417.63   4094.687500  3677.057500       Credit Card   \n",
       "54998                 204.56   3977.473500  3772.913500       Credit Card   \n",
       "54999                 380.81   3703.581900  3322.771900       Credit Card   \n",
       "\n",
       "        Location  join_column  \n",
       "0      Ahmedabad          NaN  \n",
       "1      Bangalore          NaN  \n",
       "2          Delhi          NaN  \n",
       "3          Delhi          NaN  \n",
       "4          Delhi          NaN  \n",
       "...          ...          ...  \n",
       "54995      Other          NaN  \n",
       "54996  Bangalore          NaN  \n",
       "54997     Mumbai          NaN  \n",
       "54998    Kolkata          NaN  \n",
       "54999     Mumbai          NaN  \n",
       "\n",
       "[55000 rows x 14 columns]"
      ]
     },
     "execution_count": 40,
     "metadata": {},
     "output_type": "execute_result"
    }
   ],
   "source": [
    "join1"
   ]
  },
  {
   "cell_type": "code",
   "execution_count": null,
   "id": "f59944de",
   "metadata": {},
   "outputs": [],
   "source": []
  }
 ],
 "metadata": {
  "kernelspec": {
   "display_name": "Python 3",
   "language": "python",
   "name": "python3"
  },
  "language_info": {
   "codemirror_mode": {
    "name": "ipython",
    "version": 3
   },
   "file_extension": ".py",
   "mimetype": "text/x-python",
   "name": "python",
   "nbconvert_exporter": "python",
   "pygments_lexer": "ipython3",
   "version": "3.11.9"
  }
 },
 "nbformat": 4,
 "nbformat_minor": 5
}
