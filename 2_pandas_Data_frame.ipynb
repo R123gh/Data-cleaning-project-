{
 "cells": [
  {
   "cell_type": "code",
   "execution_count": 1,
   "id": "c8b37480",
   "metadata": {},
   "outputs": [],
   "source": [
    "import pandas as pd \n",
    "import numpy as np "
   ]
  },
  {
   "cell_type": "markdown",
   "id": "cda313ee",
   "metadata": {},
   "source": [
    "#   DataFrame"
   ]
  },
  {
   "cell_type": "markdown",
   "id": "005d9981",
   "metadata": {},
   "source": [
    "From dict of Series or dicts"
   ]
  },
  {
   "cell_type": "code",
   "execution_count": 2,
   "id": "af4883e0",
   "metadata": {},
   "outputs": [
    {
     "data": {
      "text/plain": [
       "{'one': a    1\n",
       " b    2\n",
       " c    3\n",
       " dtype: int64,\n",
       " 'two': a    4\n",
       " b    5\n",
       " c    6\n",
       " dtype: int64}"
      ]
     },
     "execution_count": 2,
     "metadata": {},
     "output_type": "execute_result"
    }
   ],
   "source": [
    "d = {\n",
    "    \"one\" : pd.Series([1,2,3],index= ['a','b','c']),\n",
    "    \"two\" : pd.Series([4,5,6],index= ['a','b','c']),\n",
    "}\n",
    "d"
   ]
  },
  {
   "cell_type": "code",
   "execution_count": 3,
   "id": "a50fcec1",
   "metadata": {},
   "outputs": [
    {
     "data": {
      "application/vnd.microsoft.datawrangler.viewer.v0+json": {
       "columns": [
        {
         "name": "index",
         "rawType": "object",
         "type": "string"
        },
        {
         "name": "one",
         "rawType": "int64",
         "type": "integer"
        },
        {
         "name": "two",
         "rawType": "int64",
         "type": "integer"
        }
       ],
       "conversionMethod": "pd.DataFrame",
       "ref": "a22d3260-fa3a-42a2-9a61-b36293dd47bc",
       "rows": [
        [
         "a",
         "1",
         "4"
        ],
        [
         "b",
         "2",
         "5"
        ],
        [
         "c",
         "3",
         "6"
        ]
       ],
       "shape": {
        "columns": 2,
        "rows": 3
       }
      },
      "text/html": [
       "<div>\n",
       "<style scoped>\n",
       "    .dataframe tbody tr th:only-of-type {\n",
       "        vertical-align: middle;\n",
       "    }\n",
       "\n",
       "    .dataframe tbody tr th {\n",
       "        vertical-align: top;\n",
       "    }\n",
       "\n",
       "    .dataframe thead th {\n",
       "        text-align: right;\n",
       "    }\n",
       "</style>\n",
       "<table border=\"1\" class=\"dataframe\">\n",
       "  <thead>\n",
       "    <tr style=\"text-align: right;\">\n",
       "      <th></th>\n",
       "      <th>one</th>\n",
       "      <th>two</th>\n",
       "    </tr>\n",
       "  </thead>\n",
       "  <tbody>\n",
       "    <tr>\n",
       "      <th>a</th>\n",
       "      <td>1</td>\n",
       "      <td>4</td>\n",
       "    </tr>\n",
       "    <tr>\n",
       "      <th>b</th>\n",
       "      <td>2</td>\n",
       "      <td>5</td>\n",
       "    </tr>\n",
       "    <tr>\n",
       "      <th>c</th>\n",
       "      <td>3</td>\n",
       "      <td>6</td>\n",
       "    </tr>\n",
       "  </tbody>\n",
       "</table>\n",
       "</div>"
      ],
      "text/plain": [
       "   one  two\n",
       "a    1    4\n",
       "b    2    5\n",
       "c    3    6"
      ]
     },
     "execution_count": 3,
     "metadata": {},
     "output_type": "execute_result"
    }
   ],
   "source": [
    "data = pd.DataFrame(d)\n",
    "data"
   ]
  },
  {
   "cell_type": "markdown",
   "id": "e774cd11",
   "metadata": {},
   "source": [
    "To find the values in DF"
   ]
  },
  {
   "cell_type": "code",
   "execution_count": 4,
   "id": "7e4dde28",
   "metadata": {},
   "outputs": [
    {
     "data": {
      "text/plain": [
       "array([[1, 4],\n",
       "       [2, 5],\n",
       "       [3, 6]])"
      ]
     },
     "execution_count": 4,
     "metadata": {},
     "output_type": "execute_result"
    }
   ],
   "source": [
    "data.values"
   ]
  },
  {
   "cell_type": "markdown",
   "id": "9d8a77be",
   "metadata": {},
   "source": [
    "To find the index in the DataFrame"
   ]
  },
  {
   "cell_type": "code",
   "execution_count": 5,
   "id": "9eba3bfd",
   "metadata": {},
   "outputs": [
    {
     "data": {
      "text/plain": [
       "Index(['a', 'b', 'c'], dtype='object')"
      ]
     },
     "execution_count": 5,
     "metadata": {},
     "output_type": "execute_result"
    }
   ],
   "source": [
    "data.index"
   ]
  },
  {
   "cell_type": "markdown",
   "id": "0183b242",
   "metadata": {},
   "source": [
    "To find Columns "
   ]
  },
  {
   "cell_type": "code",
   "execution_count": 6,
   "id": "b63e29f4",
   "metadata": {},
   "outputs": [
    {
     "data": {
      "text/plain": [
       "Index(['one', 'two'], dtype='object')"
      ]
     },
     "execution_count": 6,
     "metadata": {},
     "output_type": "execute_result"
    }
   ],
   "source": [
    "data.columns"
   ]
  },
  {
   "cell_type": "markdown",
   "id": "cc156a2e",
   "metadata": {},
   "source": [
    "From a list of dicts"
   ]
  },
  {
   "cell_type": "code",
   "execution_count": 7,
   "id": "23dc8b78",
   "metadata": {},
   "outputs": [],
   "source": [
    "data2 = [{'a': 1 , 'b':2}, {'c': 3, 'd': 4}]"
   ]
  },
  {
   "cell_type": "code",
   "execution_count": 8,
   "id": "0fce316c",
   "metadata": {},
   "outputs": [
    {
     "data": {
      "text/plain": [
       "[{'a': 1, 'b': 2}, {'c': 3, 'd': 4}]"
      ]
     },
     "execution_count": 8,
     "metadata": {},
     "output_type": "execute_result"
    }
   ],
   "source": [
    "data2"
   ]
  },
  {
   "cell_type": "code",
   "execution_count": 9,
   "id": "ab387499",
   "metadata": {},
   "outputs": [
    {
     "data": {
      "application/vnd.microsoft.datawrangler.viewer.v0+json": {
       "columns": [
        {
         "name": "index",
         "rawType": "int64",
         "type": "integer"
        },
        {
         "name": "a",
         "rawType": "float64",
         "type": "float"
        },
        {
         "name": "b",
         "rawType": "float64",
         "type": "float"
        },
        {
         "name": "c",
         "rawType": "float64",
         "type": "float"
        },
        {
         "name": "d",
         "rawType": "float64",
         "type": "float"
        }
       ],
       "conversionMethod": "pd.DataFrame",
       "ref": "962f6865-f390-4df1-9e5a-f1f11be45b2c",
       "rows": [
        [
         "0",
         "1.0",
         "2.0",
         null,
         null
        ],
        [
         "1",
         null,
         null,
         "3.0",
         "4.0"
        ]
       ],
       "shape": {
        "columns": 4,
        "rows": 2
       }
      },
      "text/html": [
       "<div>\n",
       "<style scoped>\n",
       "    .dataframe tbody tr th:only-of-type {\n",
       "        vertical-align: middle;\n",
       "    }\n",
       "\n",
       "    .dataframe tbody tr th {\n",
       "        vertical-align: top;\n",
       "    }\n",
       "\n",
       "    .dataframe thead th {\n",
       "        text-align: right;\n",
       "    }\n",
       "</style>\n",
       "<table border=\"1\" class=\"dataframe\">\n",
       "  <thead>\n",
       "    <tr style=\"text-align: right;\">\n",
       "      <th></th>\n",
       "      <th>a</th>\n",
       "      <th>b</th>\n",
       "      <th>c</th>\n",
       "      <th>d</th>\n",
       "    </tr>\n",
       "  </thead>\n",
       "  <tbody>\n",
       "    <tr>\n",
       "      <th>0</th>\n",
       "      <td>1.0</td>\n",
       "      <td>2.0</td>\n",
       "      <td>NaN</td>\n",
       "      <td>NaN</td>\n",
       "    </tr>\n",
       "    <tr>\n",
       "      <th>1</th>\n",
       "      <td>NaN</td>\n",
       "      <td>NaN</td>\n",
       "      <td>3.0</td>\n",
       "      <td>4.0</td>\n",
       "    </tr>\n",
       "  </tbody>\n",
       "</table>\n",
       "</div>"
      ],
      "text/plain": [
       "     a    b    c    d\n",
       "0  1.0  2.0  NaN  NaN\n",
       "1  NaN  NaN  3.0  4.0"
      ]
     },
     "execution_count": 9,
     "metadata": {},
     "output_type": "execute_result"
    }
   ],
   "source": [
    "DF = pd.DataFrame(data2)\n",
    "DF"
   ]
  },
  {
   "cell_type": "markdown",
   "id": "2383bf66",
   "metadata": {},
   "source": [
    "TO update the index value"
   ]
  },
  {
   "cell_type": "code",
   "execution_count": 10,
   "id": "fd52d2c1",
   "metadata": {},
   "outputs": [
    {
     "data": {
      "application/vnd.microsoft.datawrangler.viewer.v0+json": {
       "columns": [
        {
         "name": "index",
         "rawType": "object",
         "type": "string"
        },
        {
         "name": "a",
         "rawType": "float64",
         "type": "float"
        },
        {
         "name": "b",
         "rawType": "float64",
         "type": "float"
        },
        {
         "name": "c",
         "rawType": "float64",
         "type": "float"
        },
        {
         "name": "d",
         "rawType": "float64",
         "type": "float"
        }
       ],
       "conversionMethod": "pd.DataFrame",
       "ref": "f5f5602f-0357-4b63-960b-1348ca990ceb",
       "rows": [
        [
         "first",
         "1.0",
         "2.0",
         null,
         null
        ],
        [
         "second",
         null,
         null,
         "3.0",
         "4.0"
        ]
       ],
       "shape": {
        "columns": 4,
        "rows": 2
       }
      },
      "text/html": [
       "<div>\n",
       "<style scoped>\n",
       "    .dataframe tbody tr th:only-of-type {\n",
       "        vertical-align: middle;\n",
       "    }\n",
       "\n",
       "    .dataframe tbody tr th {\n",
       "        vertical-align: top;\n",
       "    }\n",
       "\n",
       "    .dataframe thead th {\n",
       "        text-align: right;\n",
       "    }\n",
       "</style>\n",
       "<table border=\"1\" class=\"dataframe\">\n",
       "  <thead>\n",
       "    <tr style=\"text-align: right;\">\n",
       "      <th></th>\n",
       "      <th>a</th>\n",
       "      <th>b</th>\n",
       "      <th>c</th>\n",
       "      <th>d</th>\n",
       "    </tr>\n",
       "  </thead>\n",
       "  <tbody>\n",
       "    <tr>\n",
       "      <th>first</th>\n",
       "      <td>1.0</td>\n",
       "      <td>2.0</td>\n",
       "      <td>NaN</td>\n",
       "      <td>NaN</td>\n",
       "    </tr>\n",
       "    <tr>\n",
       "      <th>second</th>\n",
       "      <td>NaN</td>\n",
       "      <td>NaN</td>\n",
       "      <td>3.0</td>\n",
       "      <td>4.0</td>\n",
       "    </tr>\n",
       "  </tbody>\n",
       "</table>\n",
       "</div>"
      ],
      "text/plain": [
       "          a    b    c    d\n",
       "first   1.0  2.0  NaN  NaN\n",
       "second  NaN  NaN  3.0  4.0"
      ]
     },
     "execution_count": 10,
     "metadata": {},
     "output_type": "execute_result"
    }
   ],
   "source": [
    "b = pd.DataFrame(data2, index=[\"first\", \"second\"])\n",
    "b"
   ]
  },
  {
   "cell_type": "markdown",
   "id": "3812fa5f",
   "metadata": {},
   "source": [
    "To change the column value "
   ]
  },
  {
   "cell_type": "code",
   "execution_count": 11,
   "id": "bc66716e",
   "metadata": {},
   "outputs": [
    {
     "data": {
      "application/vnd.microsoft.datawrangler.viewer.v0+json": {
       "columns": [
        {
         "name": "index",
         "rawType": "int64",
         "type": "integer"
        },
        {
         "name": "1",
         "rawType": "float64",
         "type": "float"
        },
        {
         "name": "2",
         "rawType": "float64",
         "type": "float"
        },
        {
         "name": "3",
         "rawType": "float64",
         "type": "float"
        },
        {
         "name": "4",
         "rawType": "float64",
         "type": "float"
        }
       ],
       "conversionMethod": "pd.DataFrame",
       "ref": "f22fa684-9f47-4b7e-af4f-c7fa53c85812",
       "rows": [
        [
         "0",
         null,
         null,
         null,
         null
        ],
        [
         "1",
         null,
         null,
         null,
         null
        ]
       ],
       "shape": {
        "columns": 4,
        "rows": 2
       }
      },
      "text/html": [
       "<div>\n",
       "<style scoped>\n",
       "    .dataframe tbody tr th:only-of-type {\n",
       "        vertical-align: middle;\n",
       "    }\n",
       "\n",
       "    .dataframe tbody tr th {\n",
       "        vertical-align: top;\n",
       "    }\n",
       "\n",
       "    .dataframe thead th {\n",
       "        text-align: right;\n",
       "    }\n",
       "</style>\n",
       "<table border=\"1\" class=\"dataframe\">\n",
       "  <thead>\n",
       "    <tr style=\"text-align: right;\">\n",
       "      <th></th>\n",
       "      <th>1</th>\n",
       "      <th>2</th>\n",
       "      <th>3</th>\n",
       "      <th>4</th>\n",
       "    </tr>\n",
       "  </thead>\n",
       "  <tbody>\n",
       "    <tr>\n",
       "      <th>0</th>\n",
       "      <td>NaN</td>\n",
       "      <td>NaN</td>\n",
       "      <td>NaN</td>\n",
       "      <td>NaN</td>\n",
       "    </tr>\n",
       "    <tr>\n",
       "      <th>1</th>\n",
       "      <td>NaN</td>\n",
       "      <td>NaN</td>\n",
       "      <td>NaN</td>\n",
       "      <td>NaN</td>\n",
       "    </tr>\n",
       "  </tbody>\n",
       "</table>\n",
       "</div>"
      ],
      "text/plain": [
       "    1   2   3   4\n",
       "0 NaN NaN NaN NaN\n",
       "1 NaN NaN NaN NaN"
      ]
     },
     "execution_count": 11,
     "metadata": {},
     "output_type": "execute_result"
    }
   ],
   "source": [
    "a   =  pd.DataFrame(data2, columns = [1,2,3,4])\n",
    "a"
   ]
  },
  {
   "cell_type": "markdown",
   "id": "0deccfd3",
   "metadata": {},
   "source": [
    "From a dict of tuples"
   ]
  },
  {
   "cell_type": "code",
   "execution_count": 12,
   "id": "a2846e4b",
   "metadata": {},
   "outputs": [
    {
     "data": {
      "application/vnd.microsoft.datawrangler.viewer.v0+json": {
       "columns": [
        {
         "name": "(None, None)",
         "rawType": "object",
         "type": "unknown"
        },
        {
         "name": "('a', 'b')",
         "rawType": "float64",
         "type": "float"
        },
        {
         "name": "('a', 'a')",
         "rawType": "float64",
         "type": "float"
        },
        {
         "name": "('a', 'c')",
         "rawType": "float64",
         "type": "float"
        },
        {
         "name": "('b', 'a')",
         "rawType": "float64",
         "type": "float"
        },
        {
         "name": "('b', 'b')",
         "rawType": "float64",
         "type": "float"
        }
       ],
       "conversionMethod": "pd.DataFrame",
       "ref": "d67409a4-4bd7-45a4-bbbe-77a1319f0f92",
       "rows": [
        [
         "('A', 'B')",
         "1.0",
         "4.0",
         "5.0",
         "8.0",
         "10.0"
        ],
        [
         "('A', 'C')",
         "2.0",
         "3.0",
         "6.0",
         "7.0",
         null
        ],
        [
         "('A', 'D')",
         null,
         null,
         null,
         null,
         "9.0"
        ]
       ],
       "shape": {
        "columns": 5,
        "rows": 3
       }
      },
      "text/html": [
       "<div>\n",
       "<style scoped>\n",
       "    .dataframe tbody tr th:only-of-type {\n",
       "        vertical-align: middle;\n",
       "    }\n",
       "\n",
       "    .dataframe tbody tr th {\n",
       "        vertical-align: top;\n",
       "    }\n",
       "\n",
       "    .dataframe thead tr th {\n",
       "        text-align: left;\n",
       "    }\n",
       "</style>\n",
       "<table border=\"1\" class=\"dataframe\">\n",
       "  <thead>\n",
       "    <tr>\n",
       "      <th></th>\n",
       "      <th></th>\n",
       "      <th colspan=\"3\" halign=\"left\">a</th>\n",
       "      <th colspan=\"2\" halign=\"left\">b</th>\n",
       "    </tr>\n",
       "    <tr>\n",
       "      <th></th>\n",
       "      <th></th>\n",
       "      <th>b</th>\n",
       "      <th>a</th>\n",
       "      <th>c</th>\n",
       "      <th>a</th>\n",
       "      <th>b</th>\n",
       "    </tr>\n",
       "  </thead>\n",
       "  <tbody>\n",
       "    <tr>\n",
       "      <th rowspan=\"3\" valign=\"top\">A</th>\n",
       "      <th>B</th>\n",
       "      <td>1.0</td>\n",
       "      <td>4.0</td>\n",
       "      <td>5.0</td>\n",
       "      <td>8.0</td>\n",
       "      <td>10.0</td>\n",
       "    </tr>\n",
       "    <tr>\n",
       "      <th>C</th>\n",
       "      <td>2.0</td>\n",
       "      <td>3.0</td>\n",
       "      <td>6.0</td>\n",
       "      <td>7.0</td>\n",
       "      <td>NaN</td>\n",
       "    </tr>\n",
       "    <tr>\n",
       "      <th>D</th>\n",
       "      <td>NaN</td>\n",
       "      <td>NaN</td>\n",
       "      <td>NaN</td>\n",
       "      <td>NaN</td>\n",
       "      <td>9.0</td>\n",
       "    </tr>\n",
       "  </tbody>\n",
       "</table>\n",
       "</div>"
      ],
      "text/plain": [
       "       a              b      \n",
       "       b    a    c    a     b\n",
       "A B  1.0  4.0  5.0  8.0  10.0\n",
       "  C  2.0  3.0  6.0  7.0   NaN\n",
       "  D  NaN  NaN  NaN  NaN   9.0"
      ]
     },
     "execution_count": 12,
     "metadata": {},
     "output_type": "execute_result"
    }
   ],
   "source": [
    "a  = pd.DataFrame(\n",
    "    {\n",
    "        (\"a\", \"b\"): {(\"A\", \"B\"): 1, (\"A\", \"C\"): 2},\n",
    "        (\"a\", \"a\"): {(\"A\", \"C\"): 3, (\"A\", \"B\"): 4},\n",
    "        (\"a\", \"c\"): {(\"A\", \"B\"): 5, (\"A\", \"C\"): 6},\n",
    "        (\"b\", \"a\"): {(\"A\", \"C\"): 7, (\"A\", \"B\"): 8},\n",
    "        (\"b\", \"b\"): {(\"A\", \"D\"): 9, (\"A\", \"B\"): 10},\n",
    "    }\n",
    ")\n",
    "a"
   ]
  },
  {
   "cell_type": "code",
   "execution_count": 13,
   "id": "5a9e3520",
   "metadata": {},
   "outputs": [
    {
     "data": {
      "application/vnd.microsoft.datawrangler.viewer.v0+json": {
       "columns": [
        {
         "name": "(None, None)",
         "rawType": "object",
         "type": "unknown"
        },
        {
         "name": "('a', 'b')",
         "rawType": "float64",
         "type": "float"
        },
        {
         "name": "('a', 'a')",
         "rawType": "float64",
         "type": "float"
        },
        {
         "name": "('a', 'c')",
         "rawType": "float64",
         "type": "float"
        },
        {
         "name": "('b', 'a')",
         "rawType": "float64",
         "type": "float"
        },
        {
         "name": "('b', 'b')",
         "rawType": "float64",
         "type": "float"
        }
       ],
       "conversionMethod": "pd.DataFrame",
       "ref": "0d066a41-8973-45b4-bfbb-ce005538af4b",
       "rows": [
        [
         "('A', 'B')",
         "1.0",
         "4.0",
         "5.0",
         "8.0",
         "10.0"
        ],
        [
         "('A', 'C')",
         "2.0",
         "3.0",
         "6.0",
         "7.0",
         null
        ],
        [
         "('A', 'D')",
         null,
         null,
         null,
         null,
         "9.0"
        ]
       ],
       "shape": {
        "columns": 5,
        "rows": 3
       }
      },
      "text/html": [
       "<div>\n",
       "<style scoped>\n",
       "    .dataframe tbody tr th:only-of-type {\n",
       "        vertical-align: middle;\n",
       "    }\n",
       "\n",
       "    .dataframe tbody tr th {\n",
       "        vertical-align: top;\n",
       "    }\n",
       "\n",
       "    .dataframe thead tr th {\n",
       "        text-align: left;\n",
       "    }\n",
       "</style>\n",
       "<table border=\"1\" class=\"dataframe\">\n",
       "  <thead>\n",
       "    <tr>\n",
       "      <th></th>\n",
       "      <th></th>\n",
       "      <th colspan=\"3\" halign=\"left\">a</th>\n",
       "      <th colspan=\"2\" halign=\"left\">b</th>\n",
       "    </tr>\n",
       "    <tr>\n",
       "      <th></th>\n",
       "      <th></th>\n",
       "      <th>b</th>\n",
       "      <th>a</th>\n",
       "      <th>c</th>\n",
       "      <th>a</th>\n",
       "      <th>b</th>\n",
       "    </tr>\n",
       "  </thead>\n",
       "  <tbody>\n",
       "    <tr>\n",
       "      <th rowspan=\"3\" valign=\"top\">A</th>\n",
       "      <th>B</th>\n",
       "      <td>1.0</td>\n",
       "      <td>4.0</td>\n",
       "      <td>5.0</td>\n",
       "      <td>8.0</td>\n",
       "      <td>10.0</td>\n",
       "    </tr>\n",
       "    <tr>\n",
       "      <th>C</th>\n",
       "      <td>2.0</td>\n",
       "      <td>3.0</td>\n",
       "      <td>6.0</td>\n",
       "      <td>7.0</td>\n",
       "      <td>NaN</td>\n",
       "    </tr>\n",
       "    <tr>\n",
       "      <th>D</th>\n",
       "      <td>NaN</td>\n",
       "      <td>NaN</td>\n",
       "      <td>NaN</td>\n",
       "      <td>NaN</td>\n",
       "      <td>9.0</td>\n",
       "    </tr>\n",
       "  </tbody>\n",
       "</table>\n",
       "</div>"
      ],
      "text/plain": [
       "       a              b      \n",
       "       b    a    c    a     b\n",
       "A B  1.0  4.0  5.0  8.0  10.0\n",
       "  C  2.0  3.0  6.0  7.0   NaN\n",
       "  D  NaN  NaN  NaN  NaN   9.0"
      ]
     },
     "execution_count": 13,
     "metadata": {},
     "output_type": "execute_result"
    }
   ],
   "source": [
    "data3 = pd.DataFrame(a)\n",
    "data3"
   ]
  },
  {
   "cell_type": "markdown",
   "id": "bd18ebfb",
   "metadata": {},
   "source": [
    "Column selection, addition, deletion"
   ]
  },
  {
   "cell_type": "code",
   "execution_count": 14,
   "id": "a9665b16",
   "metadata": {},
   "outputs": [],
   "source": [
    "d = {\n",
    "    \"A\" : pd.Series([1, 2, 3], index=[\"a\", \"b\", \"c\"]),\n",
    "    \"B\" : pd.Series([4, 5, 6], index=[\"a\", \"b\", \"c\"]),\n",
    "}"
   ]
  },
  {
   "cell_type": "code",
   "execution_count": 15,
   "id": "fd4a32c9",
   "metadata": {},
   "outputs": [
    {
     "data": {
      "text/plain": [
       "{'A': a    1\n",
       " b    2\n",
       " c    3\n",
       " dtype: int64,\n",
       " 'B': a    4\n",
       " b    5\n",
       " c    6\n",
       " dtype: int64}"
      ]
     },
     "execution_count": 15,
     "metadata": {},
     "output_type": "execute_result"
    }
   ],
   "source": [
    "d"
   ]
  },
  {
   "cell_type": "code",
   "execution_count": 16,
   "id": "7b7b68a0",
   "metadata": {},
   "outputs": [
    {
     "data": {
      "application/vnd.microsoft.datawrangler.viewer.v0+json": {
       "columns": [
        {
         "name": "index",
         "rawType": "object",
         "type": "string"
        },
        {
         "name": "A",
         "rawType": "int64",
         "type": "integer"
        },
        {
         "name": "B",
         "rawType": "int64",
         "type": "integer"
        }
       ],
       "conversionMethod": "pd.DataFrame",
       "ref": "05465276-1944-43b5-877e-398db497e434",
       "rows": [
        [
         "a",
         "1",
         "4"
        ],
        [
         "b",
         "2",
         "5"
        ],
        [
         "c",
         "3",
         "6"
        ]
       ],
       "shape": {
        "columns": 2,
        "rows": 3
       }
      },
      "text/html": [
       "<div>\n",
       "<style scoped>\n",
       "    .dataframe tbody tr th:only-of-type {\n",
       "        vertical-align: middle;\n",
       "    }\n",
       "\n",
       "    .dataframe tbody tr th {\n",
       "        vertical-align: top;\n",
       "    }\n",
       "\n",
       "    .dataframe thead th {\n",
       "        text-align: right;\n",
       "    }\n",
       "</style>\n",
       "<table border=\"1\" class=\"dataframe\">\n",
       "  <thead>\n",
       "    <tr style=\"text-align: right;\">\n",
       "      <th></th>\n",
       "      <th>A</th>\n",
       "      <th>B</th>\n",
       "    </tr>\n",
       "  </thead>\n",
       "  <tbody>\n",
       "    <tr>\n",
       "      <th>a</th>\n",
       "      <td>1</td>\n",
       "      <td>4</td>\n",
       "    </tr>\n",
       "    <tr>\n",
       "      <th>b</th>\n",
       "      <td>2</td>\n",
       "      <td>5</td>\n",
       "    </tr>\n",
       "    <tr>\n",
       "      <th>c</th>\n",
       "      <td>3</td>\n",
       "      <td>6</td>\n",
       "    </tr>\n",
       "  </tbody>\n",
       "</table>\n",
       "</div>"
      ],
      "text/plain": [
       "   A  B\n",
       "a  1  4\n",
       "b  2  5\n",
       "c  3  6"
      ]
     },
     "execution_count": 16,
     "metadata": {},
     "output_type": "execute_result"
    }
   ],
   "source": [
    "dataframe = pd.DataFrame(d)\n",
    "dataframe"
   ]
  },
  {
   "cell_type": "code",
   "execution_count": 17,
   "id": "165c323c",
   "metadata": {},
   "outputs": [
    {
     "data": {
      "text/plain": [
       "a    1\n",
       "b    2\n",
       "c    3\n",
       "Name: A, dtype: int64"
      ]
     },
     "execution_count": 17,
     "metadata": {},
     "output_type": "execute_result"
    }
   ],
   "source": [
    "dataframe['A']"
   ]
  },
  {
   "cell_type": "code",
   "execution_count": 18,
   "id": "8bfd5ad7",
   "metadata": {},
   "outputs": [
    {
     "data": {
      "text/plain": [
       "a    4\n",
       "b    5\n",
       "c    6\n",
       "Name: B, dtype: int64"
      ]
     },
     "execution_count": 18,
     "metadata": {},
     "output_type": "execute_result"
    }
   ],
   "source": [
    "dataframe['B']"
   ]
  },
  {
   "cell_type": "code",
   "execution_count": 19,
   "id": "4b4d84e9",
   "metadata": {},
   "outputs": [
    {
     "data": {
      "application/vnd.microsoft.datawrangler.viewer.v0+json": {
       "columns": [
        {
         "name": "index",
         "rawType": "object",
         "type": "string"
        },
        {
         "name": "A",
         "rawType": "int64",
         "type": "integer"
        },
        {
         "name": "B",
         "rawType": "int64",
         "type": "integer"
        },
        {
         "name": "C",
         "rawType": "int64",
         "type": "integer"
        }
       ],
       "conversionMethod": "pd.DataFrame",
       "ref": "1ab16d11-c38e-46ba-8e60-7070945d0227",
       "rows": [
        [
         "a",
         "1",
         "4",
         "4"
        ],
        [
         "b",
         "2",
         "5",
         "10"
        ],
        [
         "c",
         "3",
         "6",
         "18"
        ]
       ],
       "shape": {
        "columns": 3,
        "rows": 3
       }
      },
      "text/html": [
       "<div>\n",
       "<style scoped>\n",
       "    .dataframe tbody tr th:only-of-type {\n",
       "        vertical-align: middle;\n",
       "    }\n",
       "\n",
       "    .dataframe tbody tr th {\n",
       "        vertical-align: top;\n",
       "    }\n",
       "\n",
       "    .dataframe thead th {\n",
       "        text-align: right;\n",
       "    }\n",
       "</style>\n",
       "<table border=\"1\" class=\"dataframe\">\n",
       "  <thead>\n",
       "    <tr style=\"text-align: right;\">\n",
       "      <th></th>\n",
       "      <th>A</th>\n",
       "      <th>B</th>\n",
       "      <th>C</th>\n",
       "    </tr>\n",
       "  </thead>\n",
       "  <tbody>\n",
       "    <tr>\n",
       "      <th>a</th>\n",
       "      <td>1</td>\n",
       "      <td>4</td>\n",
       "      <td>4</td>\n",
       "    </tr>\n",
       "    <tr>\n",
       "      <th>b</th>\n",
       "      <td>2</td>\n",
       "      <td>5</td>\n",
       "      <td>10</td>\n",
       "    </tr>\n",
       "    <tr>\n",
       "      <th>c</th>\n",
       "      <td>3</td>\n",
       "      <td>6</td>\n",
       "      <td>18</td>\n",
       "    </tr>\n",
       "  </tbody>\n",
       "</table>\n",
       "</div>"
      ],
      "text/plain": [
       "   A  B   C\n",
       "a  1  4   4\n",
       "b  2  5  10\n",
       "c  3  6  18"
      ]
     },
     "execution_count": 19,
     "metadata": {},
     "output_type": "execute_result"
    }
   ],
   "source": [
    "dataframe['C'] = dataframe['A'] * dataframe['B']\n",
    "dataframe"
   ]
  },
  {
   "cell_type": "markdown",
   "id": "56410557",
   "metadata": {},
   "source": [
    "Columns can be deleted or popped like with a dict"
   ]
  },
  {
   "cell_type": "code",
   "execution_count": 20,
   "id": "92843c11",
   "metadata": {},
   "outputs": [],
   "source": [
    "del dataframe['C']\n"
   ]
  },
  {
   "cell_type": "code",
   "execution_count": 21,
   "id": "618651db",
   "metadata": {},
   "outputs": [
    {
     "data": {
      "application/vnd.microsoft.datawrangler.viewer.v0+json": {
       "columns": [
        {
         "name": "index",
         "rawType": "object",
         "type": "string"
        },
        {
         "name": "A",
         "rawType": "int64",
         "type": "integer"
        },
        {
         "name": "B",
         "rawType": "int64",
         "type": "integer"
        }
       ],
       "conversionMethod": "pd.DataFrame",
       "ref": "fb8f976c-4751-4d09-a622-1a89f65d838b",
       "rows": [
        [
         "a",
         "1",
         "4"
        ],
        [
         "b",
         "2",
         "5"
        ],
        [
         "c",
         "3",
         "6"
        ]
       ],
       "shape": {
        "columns": 2,
        "rows": 3
       }
      },
      "text/html": [
       "<div>\n",
       "<style scoped>\n",
       "    .dataframe tbody tr th:only-of-type {\n",
       "        vertical-align: middle;\n",
       "    }\n",
       "\n",
       "    .dataframe tbody tr th {\n",
       "        vertical-align: top;\n",
       "    }\n",
       "\n",
       "    .dataframe thead th {\n",
       "        text-align: right;\n",
       "    }\n",
       "</style>\n",
       "<table border=\"1\" class=\"dataframe\">\n",
       "  <thead>\n",
       "    <tr style=\"text-align: right;\">\n",
       "      <th></th>\n",
       "      <th>A</th>\n",
       "      <th>B</th>\n",
       "    </tr>\n",
       "  </thead>\n",
       "  <tbody>\n",
       "    <tr>\n",
       "      <th>a</th>\n",
       "      <td>1</td>\n",
       "      <td>4</td>\n",
       "    </tr>\n",
       "    <tr>\n",
       "      <th>b</th>\n",
       "      <td>2</td>\n",
       "      <td>5</td>\n",
       "    </tr>\n",
       "    <tr>\n",
       "      <th>c</th>\n",
       "      <td>3</td>\n",
       "      <td>6</td>\n",
       "    </tr>\n",
       "  </tbody>\n",
       "</table>\n",
       "</div>"
      ],
      "text/plain": [
       "   A  B\n",
       "a  1  4\n",
       "b  2  5\n",
       "c  3  6"
      ]
     },
     "execution_count": 21,
     "metadata": {},
     "output_type": "execute_result"
    }
   ],
   "source": [
    "dataframe"
   ]
  },
  {
   "cell_type": "markdown",
   "id": "f2cfd35a",
   "metadata": {},
   "source": [
    "#  Data alignment and arithmetic"
   ]
  },
  {
   "cell_type": "code",
   "execution_count": 42,
   "id": "a5157629",
   "metadata": {},
   "outputs": [],
   "source": [
    "data1 = pd.DataFrame(np.random.rand(4,4),index = ['a','b','c','d'],columns = ['col1','col2','col3','col4'])\n",
    "data2 = pd.DataFrame(np.random.rand(4,4) , index = ['a','b','c','d'],columns = ['col1','col2','col3','col4'])\n"
   ]
  },
  {
   "cell_type": "code",
   "execution_count": 43,
   "id": "3953ba9f",
   "metadata": {},
   "outputs": [
    {
     "data": {
      "application/vnd.microsoft.datawrangler.viewer.v0+json": {
       "columns": [
        {
         "name": "index",
         "rawType": "object",
         "type": "string"
        },
        {
         "name": "col1",
         "rawType": "float64",
         "type": "float"
        },
        {
         "name": "col2",
         "rawType": "float64",
         "type": "float"
        },
        {
         "name": "col3",
         "rawType": "float64",
         "type": "float"
        },
        {
         "name": "col4",
         "rawType": "float64",
         "type": "float"
        }
       ],
       "conversionMethod": "pd.DataFrame",
       "ref": "79c81d1a-f3d9-4a58-945d-31af273f2931",
       "rows": [
        [
         "a",
         "0.5184491887793272",
         "0.38840629573100427",
         "0.2481179305296468",
         "0.5321487532107435"
        ],
        [
         "b",
         "0.2876797148315293",
         "0.16900004936496837",
         "0.34616167968391476",
         "0.13238347928637084"
        ],
        [
         "c",
         "0.09260015300662239",
         "0.05591186058348363",
         "0.34498818105859996",
         "0.4641196421980074"
        ],
        [
         "d",
         "0.11510622070277066",
         "0.9346626304523137",
         "0.05765003880717379",
         "0.7801088000085854"
        ]
       ],
       "shape": {
        "columns": 4,
        "rows": 4
       }
      },
      "text/html": [
       "<div>\n",
       "<style scoped>\n",
       "    .dataframe tbody tr th:only-of-type {\n",
       "        vertical-align: middle;\n",
       "    }\n",
       "\n",
       "    .dataframe tbody tr th {\n",
       "        vertical-align: top;\n",
       "    }\n",
       "\n",
       "    .dataframe thead th {\n",
       "        text-align: right;\n",
       "    }\n",
       "</style>\n",
       "<table border=\"1\" class=\"dataframe\">\n",
       "  <thead>\n",
       "    <tr style=\"text-align: right;\">\n",
       "      <th></th>\n",
       "      <th>col1</th>\n",
       "      <th>col2</th>\n",
       "      <th>col3</th>\n",
       "      <th>col4</th>\n",
       "    </tr>\n",
       "  </thead>\n",
       "  <tbody>\n",
       "    <tr>\n",
       "      <th>a</th>\n",
       "      <td>0.518449</td>\n",
       "      <td>0.388406</td>\n",
       "      <td>0.248118</td>\n",
       "      <td>0.532149</td>\n",
       "    </tr>\n",
       "    <tr>\n",
       "      <th>b</th>\n",
       "      <td>0.287680</td>\n",
       "      <td>0.169000</td>\n",
       "      <td>0.346162</td>\n",
       "      <td>0.132383</td>\n",
       "    </tr>\n",
       "    <tr>\n",
       "      <th>c</th>\n",
       "      <td>0.092600</td>\n",
       "      <td>0.055912</td>\n",
       "      <td>0.344988</td>\n",
       "      <td>0.464120</td>\n",
       "    </tr>\n",
       "    <tr>\n",
       "      <th>d</th>\n",
       "      <td>0.115106</td>\n",
       "      <td>0.934663</td>\n",
       "      <td>0.057650</td>\n",
       "      <td>0.780109</td>\n",
       "    </tr>\n",
       "  </tbody>\n",
       "</table>\n",
       "</div>"
      ],
      "text/plain": [
       "       col1      col2      col3      col4\n",
       "a  0.518449  0.388406  0.248118  0.532149\n",
       "b  0.287680  0.169000  0.346162  0.132383\n",
       "c  0.092600  0.055912  0.344988  0.464120\n",
       "d  0.115106  0.934663  0.057650  0.780109"
      ]
     },
     "execution_count": 43,
     "metadata": {},
     "output_type": "execute_result"
    }
   ],
   "source": [
    "data1"
   ]
  },
  {
   "cell_type": "code",
   "execution_count": 44,
   "id": "ec04729a",
   "metadata": {},
   "outputs": [
    {
     "data": {
      "application/vnd.microsoft.datawrangler.viewer.v0+json": {
       "columns": [
        {
         "name": "index",
         "rawType": "object",
         "type": "string"
        },
        {
         "name": "col1",
         "rawType": "float64",
         "type": "float"
        },
        {
         "name": "col2",
         "rawType": "float64",
         "type": "float"
        },
        {
         "name": "col3",
         "rawType": "float64",
         "type": "float"
        },
        {
         "name": "col4",
         "rawType": "float64",
         "type": "float"
        }
       ],
       "conversionMethod": "pd.DataFrame",
       "ref": "c4b958ba-0712-4c2a-977d-fd0e41ddd04f",
       "rows": [
        [
         "a",
         "0.2568473767603682",
         "0.2619126079827039",
         "0.5059596026975693",
         "0.9365482372326797"
        ],
        [
         "b",
         "0.6557072985892145",
         "0.4540523806467396",
         "0.5872898707029957",
         "0.3764873941811153"
        ],
        [
         "c",
         "0.07443316746574136",
         "0.2463890896801032",
         "0.376292698518614",
         "0.8617320519002318"
        ],
        [
         "d",
         "0.21961043279695536",
         "0.30801230487546216",
         "0.32705975434579115",
         "0.24756636526849984"
        ]
       ],
       "shape": {
        "columns": 4,
        "rows": 4
       }
      },
      "text/html": [
       "<div>\n",
       "<style scoped>\n",
       "    .dataframe tbody tr th:only-of-type {\n",
       "        vertical-align: middle;\n",
       "    }\n",
       "\n",
       "    .dataframe tbody tr th {\n",
       "        vertical-align: top;\n",
       "    }\n",
       "\n",
       "    .dataframe thead th {\n",
       "        text-align: right;\n",
       "    }\n",
       "</style>\n",
       "<table border=\"1\" class=\"dataframe\">\n",
       "  <thead>\n",
       "    <tr style=\"text-align: right;\">\n",
       "      <th></th>\n",
       "      <th>col1</th>\n",
       "      <th>col2</th>\n",
       "      <th>col3</th>\n",
       "      <th>col4</th>\n",
       "    </tr>\n",
       "  </thead>\n",
       "  <tbody>\n",
       "    <tr>\n",
       "      <th>a</th>\n",
       "      <td>0.256847</td>\n",
       "      <td>0.261913</td>\n",
       "      <td>0.505960</td>\n",
       "      <td>0.936548</td>\n",
       "    </tr>\n",
       "    <tr>\n",
       "      <th>b</th>\n",
       "      <td>0.655707</td>\n",
       "      <td>0.454052</td>\n",
       "      <td>0.587290</td>\n",
       "      <td>0.376487</td>\n",
       "    </tr>\n",
       "    <tr>\n",
       "      <th>c</th>\n",
       "      <td>0.074433</td>\n",
       "      <td>0.246389</td>\n",
       "      <td>0.376293</td>\n",
       "      <td>0.861732</td>\n",
       "    </tr>\n",
       "    <tr>\n",
       "      <th>d</th>\n",
       "      <td>0.219610</td>\n",
       "      <td>0.308012</td>\n",
       "      <td>0.327060</td>\n",
       "      <td>0.247566</td>\n",
       "    </tr>\n",
       "  </tbody>\n",
       "</table>\n",
       "</div>"
      ],
      "text/plain": [
       "       col1      col2      col3      col4\n",
       "a  0.256847  0.261913  0.505960  0.936548\n",
       "b  0.655707  0.454052  0.587290  0.376487\n",
       "c  0.074433  0.246389  0.376293  0.861732\n",
       "d  0.219610  0.308012  0.327060  0.247566"
      ]
     },
     "execution_count": 44,
     "metadata": {},
     "output_type": "execute_result"
    }
   ],
   "source": [
    "data2"
   ]
  },
  {
   "cell_type": "code",
   "execution_count": 45,
   "id": "7e99c349",
   "metadata": {},
   "outputs": [],
   "source": [
    "sum = data1 + data2 "
   ]
  },
  {
   "cell_type": "code",
   "execution_count": 46,
   "id": "fa06f5a4",
   "metadata": {},
   "outputs": [
    {
     "data": {
      "application/vnd.microsoft.datawrangler.viewer.v0+json": {
       "columns": [
        {
         "name": "index",
         "rawType": "object",
         "type": "string"
        },
        {
         "name": "col1",
         "rawType": "float64",
         "type": "float"
        },
        {
         "name": "col2",
         "rawType": "float64",
         "type": "float"
        },
        {
         "name": "col3",
         "rawType": "float64",
         "type": "float"
        },
        {
         "name": "col4",
         "rawType": "float64",
         "type": "float"
        }
       ],
       "conversionMethod": "pd.DataFrame",
       "ref": "daab5716-1149-4e90-9f43-c8f55480f0f0",
       "rows": [
        [
         "a",
         "0.7752965655396954",
         "0.6503189037137082",
         "0.7540775332272162",
         "1.4686969904434233"
        ],
        [
         "b",
         "0.9433870134207438",
         "0.623052430011708",
         "0.9334515503869104",
         "0.5088708734674862"
        ],
        [
         "c",
         "0.16703332047236374",
         "0.30230095026358683",
         "0.721280879577214",
         "1.3258516940982392"
        ],
        [
         "d",
         "0.334716653499726",
         "1.2426749353277757",
         "0.38470979315296494",
         "1.0276751652770852"
        ]
       ],
       "shape": {
        "columns": 4,
        "rows": 4
       }
      },
      "text/html": [
       "<div>\n",
       "<style scoped>\n",
       "    .dataframe tbody tr th:only-of-type {\n",
       "        vertical-align: middle;\n",
       "    }\n",
       "\n",
       "    .dataframe tbody tr th {\n",
       "        vertical-align: top;\n",
       "    }\n",
       "\n",
       "    .dataframe thead th {\n",
       "        text-align: right;\n",
       "    }\n",
       "</style>\n",
       "<table border=\"1\" class=\"dataframe\">\n",
       "  <thead>\n",
       "    <tr style=\"text-align: right;\">\n",
       "      <th></th>\n",
       "      <th>col1</th>\n",
       "      <th>col2</th>\n",
       "      <th>col3</th>\n",
       "      <th>col4</th>\n",
       "    </tr>\n",
       "  </thead>\n",
       "  <tbody>\n",
       "    <tr>\n",
       "      <th>a</th>\n",
       "      <td>0.775297</td>\n",
       "      <td>0.650319</td>\n",
       "      <td>0.754078</td>\n",
       "      <td>1.468697</td>\n",
       "    </tr>\n",
       "    <tr>\n",
       "      <th>b</th>\n",
       "      <td>0.943387</td>\n",
       "      <td>0.623052</td>\n",
       "      <td>0.933452</td>\n",
       "      <td>0.508871</td>\n",
       "    </tr>\n",
       "    <tr>\n",
       "      <th>c</th>\n",
       "      <td>0.167033</td>\n",
       "      <td>0.302301</td>\n",
       "      <td>0.721281</td>\n",
       "      <td>1.325852</td>\n",
       "    </tr>\n",
       "    <tr>\n",
       "      <th>d</th>\n",
       "      <td>0.334717</td>\n",
       "      <td>1.242675</td>\n",
       "      <td>0.384710</td>\n",
       "      <td>1.027675</td>\n",
       "    </tr>\n",
       "  </tbody>\n",
       "</table>\n",
       "</div>"
      ],
      "text/plain": [
       "       col1      col2      col3      col4\n",
       "a  0.775297  0.650319  0.754078  1.468697\n",
       "b  0.943387  0.623052  0.933452  0.508871\n",
       "c  0.167033  0.302301  0.721281  1.325852\n",
       "d  0.334717  1.242675  0.384710  1.027675"
      ]
     },
     "execution_count": 46,
     "metadata": {},
     "output_type": "execute_result"
    }
   ],
   "source": [
    "sum"
   ]
  },
  {
   "cell_type": "code",
   "execution_count": 47,
   "id": "bc62594e",
   "metadata": {},
   "outputs": [
    {
     "data": {
      "application/vnd.microsoft.datawrangler.viewer.v0+json": {
       "columns": [
        {
         "name": "index",
         "rawType": "object",
         "type": "string"
        },
        {
         "name": "col1",
         "rawType": "float64",
         "type": "float"
        },
        {
         "name": "col2",
         "rawType": "float64",
         "type": "float"
        },
        {
         "name": "col3",
         "rawType": "float64",
         "type": "float"
        },
        {
         "name": "col4",
         "rawType": "float64",
         "type": "float"
        }
       ],
       "conversionMethod": "pd.DataFrame",
       "ref": "67afa436-391c-45ce-8194-3cd76c2b5a56",
       "rows": [
        [
         "a",
         "1.0368983775586544",
         "0.7768125914620085",
         "0.4962358610592936",
         "1.064297506421487"
        ],
        [
         "b",
         "0.5753594296630586",
         "0.33800009872993675",
         "0.6923233593678295",
         "0.2647669585727417"
        ],
        [
         "c",
         "0.18520030601324478",
         "0.11182372116696726",
         "0.6899763621171999",
         "0.9282392843960148"
        ],
        [
         "d",
         "0.2302124414055413",
         "1.8693252609046274",
         "0.11530007761434757",
         "1.5602176000171708"
        ]
       ],
       "shape": {
        "columns": 4,
        "rows": 4
       }
      },
      "text/html": [
       "<div>\n",
       "<style scoped>\n",
       "    .dataframe tbody tr th:only-of-type {\n",
       "        vertical-align: middle;\n",
       "    }\n",
       "\n",
       "    .dataframe tbody tr th {\n",
       "        vertical-align: top;\n",
       "    }\n",
       "\n",
       "    .dataframe thead th {\n",
       "        text-align: right;\n",
       "    }\n",
       "</style>\n",
       "<table border=\"1\" class=\"dataframe\">\n",
       "  <thead>\n",
       "    <tr style=\"text-align: right;\">\n",
       "      <th></th>\n",
       "      <th>col1</th>\n",
       "      <th>col2</th>\n",
       "      <th>col3</th>\n",
       "      <th>col4</th>\n",
       "    </tr>\n",
       "  </thead>\n",
       "  <tbody>\n",
       "    <tr>\n",
       "      <th>a</th>\n",
       "      <td>1.036898</td>\n",
       "      <td>0.776813</td>\n",
       "      <td>0.496236</td>\n",
       "      <td>1.064298</td>\n",
       "    </tr>\n",
       "    <tr>\n",
       "      <th>b</th>\n",
       "      <td>0.575359</td>\n",
       "      <td>0.338000</td>\n",
       "      <td>0.692323</td>\n",
       "      <td>0.264767</td>\n",
       "    </tr>\n",
       "    <tr>\n",
       "      <th>c</th>\n",
       "      <td>0.185200</td>\n",
       "      <td>0.111824</td>\n",
       "      <td>0.689976</td>\n",
       "      <td>0.928239</td>\n",
       "    </tr>\n",
       "    <tr>\n",
       "      <th>d</th>\n",
       "      <td>0.230212</td>\n",
       "      <td>1.869325</td>\n",
       "      <td>0.115300</td>\n",
       "      <td>1.560218</td>\n",
       "    </tr>\n",
       "  </tbody>\n",
       "</table>\n",
       "</div>"
      ],
      "text/plain": [
       "       col1      col2      col3      col4\n",
       "a  1.036898  0.776813  0.496236  1.064298\n",
       "b  0.575359  0.338000  0.692323  0.264767\n",
       "c  0.185200  0.111824  0.689976  0.928239\n",
       "d  0.230212  1.869325  0.115300  1.560218"
      ]
     },
     "execution_count": 47,
     "metadata": {},
     "output_type": "execute_result"
    }
   ],
   "source": [
    "data1 * 2 "
   ]
  },
  {
   "cell_type": "markdown",
   "id": "d4b88fdd",
   "metadata": {},
   "source": [
    "#  Transposing"
   ]
  },
  {
   "cell_type": "code",
   "execution_count": 48,
   "id": "d2215a6e",
   "metadata": {},
   "outputs": [
    {
     "data": {
      "application/vnd.microsoft.datawrangler.viewer.v0+json": {
       "columns": [
        {
         "name": "index",
         "rawType": "object",
         "type": "string"
        },
        {
         "name": "a",
         "rawType": "float64",
         "type": "float"
        },
        {
         "name": "b",
         "rawType": "float64",
         "type": "float"
        },
        {
         "name": "c",
         "rawType": "float64",
         "type": "float"
        },
        {
         "name": "d",
         "rawType": "float64",
         "type": "float"
        }
       ],
       "conversionMethod": "pd.DataFrame",
       "ref": "76bbab3e-35bb-42ac-a599-fecf4ce99137",
       "rows": [
        [
         "col1",
         "0.2568473767603682",
         "0.6557072985892145",
         "0.07443316746574136",
         "0.21961043279695536"
        ],
        [
         "col2",
         "0.2619126079827039",
         "0.4540523806467396",
         "0.2463890896801032",
         "0.30801230487546216"
        ],
        [
         "col3",
         "0.5059596026975693",
         "0.5872898707029957",
         "0.376292698518614",
         "0.32705975434579115"
        ],
        [
         "col4",
         "0.9365482372326797",
         "0.3764873941811153",
         "0.8617320519002318",
         "0.24756636526849984"
        ]
       ],
       "shape": {
        "columns": 4,
        "rows": 4
       }
      },
      "text/html": [
       "<div>\n",
       "<style scoped>\n",
       "    .dataframe tbody tr th:only-of-type {\n",
       "        vertical-align: middle;\n",
       "    }\n",
       "\n",
       "    .dataframe tbody tr th {\n",
       "        vertical-align: top;\n",
       "    }\n",
       "\n",
       "    .dataframe thead th {\n",
       "        text-align: right;\n",
       "    }\n",
       "</style>\n",
       "<table border=\"1\" class=\"dataframe\">\n",
       "  <thead>\n",
       "    <tr style=\"text-align: right;\">\n",
       "      <th></th>\n",
       "      <th>a</th>\n",
       "      <th>b</th>\n",
       "      <th>c</th>\n",
       "      <th>d</th>\n",
       "    </tr>\n",
       "  </thead>\n",
       "  <tbody>\n",
       "    <tr>\n",
       "      <th>col1</th>\n",
       "      <td>0.256847</td>\n",
       "      <td>0.655707</td>\n",
       "      <td>0.074433</td>\n",
       "      <td>0.219610</td>\n",
       "    </tr>\n",
       "    <tr>\n",
       "      <th>col2</th>\n",
       "      <td>0.261913</td>\n",
       "      <td>0.454052</td>\n",
       "      <td>0.246389</td>\n",
       "      <td>0.308012</td>\n",
       "    </tr>\n",
       "    <tr>\n",
       "      <th>col3</th>\n",
       "      <td>0.505960</td>\n",
       "      <td>0.587290</td>\n",
       "      <td>0.376293</td>\n",
       "      <td>0.327060</td>\n",
       "    </tr>\n",
       "    <tr>\n",
       "      <th>col4</th>\n",
       "      <td>0.936548</td>\n",
       "      <td>0.376487</td>\n",
       "      <td>0.861732</td>\n",
       "      <td>0.247566</td>\n",
       "    </tr>\n",
       "  </tbody>\n",
       "</table>\n",
       "</div>"
      ],
      "text/plain": [
       "             a         b         c         d\n",
       "col1  0.256847  0.655707  0.074433  0.219610\n",
       "col2  0.261913  0.454052  0.246389  0.308012\n",
       "col3  0.505960  0.587290  0.376293  0.327060\n",
       "col4  0.936548  0.376487  0.861732  0.247566"
      ]
     },
     "execution_count": 48,
     "metadata": {},
     "output_type": "execute_result"
    }
   ],
   "source": [
    "data2.T"
   ]
  },
  {
   "cell_type": "markdown",
   "id": "7a9b518c",
   "metadata": {},
   "source": [
    "#  To covert the dataframe into a array"
   ]
  },
  {
   "cell_type": "code",
   "execution_count": 49,
   "id": "c8fcf069",
   "metadata": {},
   "outputs": [
    {
     "data": {
      "text/plain": [
       "pandas.core.frame.DataFrame"
      ]
     },
     "execution_count": 49,
     "metadata": {},
     "output_type": "execute_result"
    }
   ],
   "source": [
    "type(data1)"
   ]
  },
  {
   "cell_type": "code",
   "execution_count": 51,
   "id": "631ff675",
   "metadata": {},
   "outputs": [
    {
     "data": {
      "text/plain": [
       "numpy.ndarray"
      ]
     },
     "execution_count": 51,
     "metadata": {},
     "output_type": "execute_result"
    }
   ],
   "source": [
    "type(np.asarray(data2))"
   ]
  },
  {
   "cell_type": "code",
   "execution_count": 34,
   "id": "05ab3dd0",
   "metadata": {},
   "outputs": [
    {
     "data": {
      "text/plain": [
       "array([[0.44536885, 0.31528708, 0.52281282, 0.34685078],\n",
       "       [0.67439799, 0.07908279, 0.35927281, 0.02852172],\n",
       "       [0.77288248, 0.9512806 , 0.00411005, 0.91873736],\n",
       "       [0.70023117, 0.95863646, 0.72284762, 0.89511179]])"
      ]
     },
     "execution_count": 34,
     "metadata": {},
     "output_type": "execute_result"
    }
   ],
   "source": [
    "\n",
    "np.asarray(data1)\n"
   ]
  },
  {
   "cell_type": "code",
   "execution_count": 52,
   "id": "7fce36b0",
   "metadata": {},
   "outputs": [],
   "source": [
    "s = pd.Series([22,41,75],index = ['a','b','c'])"
   ]
  },
  {
   "cell_type": "code",
   "execution_count": 53,
   "id": "18762386",
   "metadata": {},
   "outputs": [
    {
     "data": {
      "application/vnd.microsoft.datawrangler.viewer.v0+json": {
       "columns": [
        {
         "name": "index",
         "rawType": "object",
         "type": "string"
        },
        {
         "name": "0",
         "rawType": "int64",
         "type": "integer"
        }
       ],
       "conversionMethod": "pd.DataFrame",
       "ref": "ef5143f6-8ba0-4b51-a0f8-92403c7ae090",
       "rows": [
        [
         "a",
         "22"
        ],
        [
         "b",
         "41"
        ],
        [
         "c",
         "75"
        ]
       ],
       "shape": {
        "columns": 1,
        "rows": 3
       }
      },
      "text/html": [
       "<div>\n",
       "<style scoped>\n",
       "    .dataframe tbody tr th:only-of-type {\n",
       "        vertical-align: middle;\n",
       "    }\n",
       "\n",
       "    .dataframe tbody tr th {\n",
       "        vertical-align: top;\n",
       "    }\n",
       "\n",
       "    .dataframe thead th {\n",
       "        text-align: right;\n",
       "    }\n",
       "</style>\n",
       "<table border=\"1\" class=\"dataframe\">\n",
       "  <thead>\n",
       "    <tr style=\"text-align: right;\">\n",
       "      <th></th>\n",
       "      <th>0</th>\n",
       "    </tr>\n",
       "  </thead>\n",
       "  <tbody>\n",
       "    <tr>\n",
       "      <th>a</th>\n",
       "      <td>22</td>\n",
       "    </tr>\n",
       "    <tr>\n",
       "      <th>b</th>\n",
       "      <td>41</td>\n",
       "    </tr>\n",
       "    <tr>\n",
       "      <th>c</th>\n",
       "      <td>75</td>\n",
       "    </tr>\n",
       "  </tbody>\n",
       "</table>\n",
       "</div>"
      ],
      "text/plain": [
       "    0\n",
       "a  22\n",
       "b  41\n",
       "c  75"
      ]
     },
     "execution_count": 53,
     "metadata": {},
     "output_type": "execute_result"
    }
   ],
   "source": [
    "pd.DataFrame(s)"
   ]
  },
  {
   "cell_type": "markdown",
   "id": "5768257f",
   "metadata": {},
   "source": [
    "Head and tail "
   ]
  },
  {
   "cell_type": "code",
   "execution_count": 54,
   "id": "b397ff2c",
   "metadata": {},
   "outputs": [],
   "source": [
    "data3 = pd.DataFrame(np.random.rand(10,10) , index = ['a','b','c','d','e','f','g','h','i','j'], columns = ['col1','col2','col3','col4','col5','col6','col7','col8','col9','col10'])"
   ]
  },
  {
   "cell_type": "code",
   "execution_count": 55,
   "id": "fdb7cd22",
   "metadata": {},
   "outputs": [
    {
     "data": {
      "application/vnd.microsoft.datawrangler.viewer.v0+json": {
       "columns": [
        {
         "name": "index",
         "rawType": "object",
         "type": "string"
        },
        {
         "name": "col1",
         "rawType": "float64",
         "type": "float"
        },
        {
         "name": "col2",
         "rawType": "float64",
         "type": "float"
        },
        {
         "name": "col3",
         "rawType": "float64",
         "type": "float"
        },
        {
         "name": "col4",
         "rawType": "float64",
         "type": "float"
        },
        {
         "name": "col5",
         "rawType": "float64",
         "type": "float"
        },
        {
         "name": "col6",
         "rawType": "float64",
         "type": "float"
        },
        {
         "name": "col7",
         "rawType": "float64",
         "type": "float"
        },
        {
         "name": "col8",
         "rawType": "float64",
         "type": "float"
        },
        {
         "name": "col9",
         "rawType": "float64",
         "type": "float"
        },
        {
         "name": "col10",
         "rawType": "float64",
         "type": "float"
        }
       ],
       "conversionMethod": "pd.DataFrame",
       "ref": "d1bdbf87-5ce1-4e88-b702-fec5826c91a4",
       "rows": [
        [
         "a",
         "0.32516774539151483",
         "0.896367509048229",
         "0.6880907539148566",
         "0.9579210942666613",
         "0.08507534491758784",
         "0.13544442200460438",
         "0.9043668317151144",
         "0.00824230023785355",
         "0.1473101931623435",
         "0.8254121787785741"
        ],
        [
         "b",
         "0.360598080640253",
         "0.5431804681566725",
         "0.25205122763436283",
         "0.21485062735334637",
         "0.8538274218422118",
         "0.6888317660678425",
         "0.4768219283586308",
         "0.39829833728988795",
         "0.03520961406474865",
         "0.7953476593885737"
        ],
        [
         "c",
         "0.9820780681663082",
         "0.07463782311409806",
         "0.8469759721366639",
         "0.7608353957937531",
         "0.4702779054810312",
         "0.2752383803345817",
         "0.21646825008711523",
         "0.571338841238801",
         "0.6703781694644617",
         "0.24013654580896138"
        ],
        [
         "d",
         "0.2976028365409138",
         "0.6242725414913031",
         "0.7754925914200383",
         "0.805721644180559",
         "0.8247192622863585",
         "0.24498156655691905",
         "0.2847601587447762",
         "0.7882942337879935",
         "0.23185875420420654",
         "0.8195497590008385"
        ],
        [
         "e",
         "0.4316166327297195",
         "0.6828810378216821",
         "0.2460298305769184",
         "0.1844622947194352",
         "0.7061036451251919",
         "0.958887381402166",
         "0.037010498494995714",
         "0.1732681371283642",
         "0.13641616096577258",
         "0.05697796770618313"
        ],
        [
         "f",
         "0.5244175519742552",
         "0.5455404572087305",
         "0.22258962263125748",
         "0.18794319177119911",
         "0.025716864749519952",
         "0.8908043701676027",
         "0.2612413353093981",
         "0.637225395904502",
         "0.08262439652585452",
         "0.7136357384523936"
        ],
        [
         "g",
         "0.937802115602385",
         "0.8218795471345041",
         "0.9660899616693307",
         "0.9811272108422121",
         "0.35770191845556376",
         "0.39426506650397397",
         "0.796939167990527",
         "0.19722997460656333",
         "0.9513162739709328",
         "0.1642652363921273"
        ],
        [
         "h",
         "0.24294365327582823",
         "0.4569586226965102",
         "0.28874244871182564",
         "0.9331144310762216",
         "0.16441383493745998",
         "0.31745469645313396",
         "0.9642505878571763",
         "0.4321393806869883",
         "0.9285134347807708",
         "0.3384111460594289"
        ],
        [
         "i",
         "0.8364900956554503",
         "0.10266984379446964",
         "0.5575222381634172",
         "0.3235909882473227",
         "0.893442966229705",
         "0.33932912557225114",
         "0.9885146267928654",
         "0.5523215462238428",
         "0.4877610947595473",
         "0.5118305590439396"
        ],
        [
         "j",
         "0.7347538326291686",
         "0.5734006347954361",
         "0.8465224523526707",
         "0.9738457326935217",
         "0.34949927117354973",
         "0.19458713001822503",
         "0.7929786145011029",
         "0.7452585313547617",
         "0.27567432550395665",
         "0.8275209181049602"
        ]
       ],
       "shape": {
        "columns": 10,
        "rows": 10
       }
      },
      "text/html": [
       "<div>\n",
       "<style scoped>\n",
       "    .dataframe tbody tr th:only-of-type {\n",
       "        vertical-align: middle;\n",
       "    }\n",
       "\n",
       "    .dataframe tbody tr th {\n",
       "        vertical-align: top;\n",
       "    }\n",
       "\n",
       "    .dataframe thead th {\n",
       "        text-align: right;\n",
       "    }\n",
       "</style>\n",
       "<table border=\"1\" class=\"dataframe\">\n",
       "  <thead>\n",
       "    <tr style=\"text-align: right;\">\n",
       "      <th></th>\n",
       "      <th>col1</th>\n",
       "      <th>col2</th>\n",
       "      <th>col3</th>\n",
       "      <th>col4</th>\n",
       "      <th>col5</th>\n",
       "      <th>col6</th>\n",
       "      <th>col7</th>\n",
       "      <th>col8</th>\n",
       "      <th>col9</th>\n",
       "      <th>col10</th>\n",
       "    </tr>\n",
       "  </thead>\n",
       "  <tbody>\n",
       "    <tr>\n",
       "      <th>a</th>\n",
       "      <td>0.325168</td>\n",
       "      <td>0.896368</td>\n",
       "      <td>0.688091</td>\n",
       "      <td>0.957921</td>\n",
       "      <td>0.085075</td>\n",
       "      <td>0.135444</td>\n",
       "      <td>0.904367</td>\n",
       "      <td>0.008242</td>\n",
       "      <td>0.147310</td>\n",
       "      <td>0.825412</td>\n",
       "    </tr>\n",
       "    <tr>\n",
       "      <th>b</th>\n",
       "      <td>0.360598</td>\n",
       "      <td>0.543180</td>\n",
       "      <td>0.252051</td>\n",
       "      <td>0.214851</td>\n",
       "      <td>0.853827</td>\n",
       "      <td>0.688832</td>\n",
       "      <td>0.476822</td>\n",
       "      <td>0.398298</td>\n",
       "      <td>0.035210</td>\n",
       "      <td>0.795348</td>\n",
       "    </tr>\n",
       "    <tr>\n",
       "      <th>c</th>\n",
       "      <td>0.982078</td>\n",
       "      <td>0.074638</td>\n",
       "      <td>0.846976</td>\n",
       "      <td>0.760835</td>\n",
       "      <td>0.470278</td>\n",
       "      <td>0.275238</td>\n",
       "      <td>0.216468</td>\n",
       "      <td>0.571339</td>\n",
       "      <td>0.670378</td>\n",
       "      <td>0.240137</td>\n",
       "    </tr>\n",
       "    <tr>\n",
       "      <th>d</th>\n",
       "      <td>0.297603</td>\n",
       "      <td>0.624273</td>\n",
       "      <td>0.775493</td>\n",
       "      <td>0.805722</td>\n",
       "      <td>0.824719</td>\n",
       "      <td>0.244982</td>\n",
       "      <td>0.284760</td>\n",
       "      <td>0.788294</td>\n",
       "      <td>0.231859</td>\n",
       "      <td>0.819550</td>\n",
       "    </tr>\n",
       "    <tr>\n",
       "      <th>e</th>\n",
       "      <td>0.431617</td>\n",
       "      <td>0.682881</td>\n",
       "      <td>0.246030</td>\n",
       "      <td>0.184462</td>\n",
       "      <td>0.706104</td>\n",
       "      <td>0.958887</td>\n",
       "      <td>0.037010</td>\n",
       "      <td>0.173268</td>\n",
       "      <td>0.136416</td>\n",
       "      <td>0.056978</td>\n",
       "    </tr>\n",
       "    <tr>\n",
       "      <th>f</th>\n",
       "      <td>0.524418</td>\n",
       "      <td>0.545540</td>\n",
       "      <td>0.222590</td>\n",
       "      <td>0.187943</td>\n",
       "      <td>0.025717</td>\n",
       "      <td>0.890804</td>\n",
       "      <td>0.261241</td>\n",
       "      <td>0.637225</td>\n",
       "      <td>0.082624</td>\n",
       "      <td>0.713636</td>\n",
       "    </tr>\n",
       "    <tr>\n",
       "      <th>g</th>\n",
       "      <td>0.937802</td>\n",
       "      <td>0.821880</td>\n",
       "      <td>0.966090</td>\n",
       "      <td>0.981127</td>\n",
       "      <td>0.357702</td>\n",
       "      <td>0.394265</td>\n",
       "      <td>0.796939</td>\n",
       "      <td>0.197230</td>\n",
       "      <td>0.951316</td>\n",
       "      <td>0.164265</td>\n",
       "    </tr>\n",
       "    <tr>\n",
       "      <th>h</th>\n",
       "      <td>0.242944</td>\n",
       "      <td>0.456959</td>\n",
       "      <td>0.288742</td>\n",
       "      <td>0.933114</td>\n",
       "      <td>0.164414</td>\n",
       "      <td>0.317455</td>\n",
       "      <td>0.964251</td>\n",
       "      <td>0.432139</td>\n",
       "      <td>0.928513</td>\n",
       "      <td>0.338411</td>\n",
       "    </tr>\n",
       "    <tr>\n",
       "      <th>i</th>\n",
       "      <td>0.836490</td>\n",
       "      <td>0.102670</td>\n",
       "      <td>0.557522</td>\n",
       "      <td>0.323591</td>\n",
       "      <td>0.893443</td>\n",
       "      <td>0.339329</td>\n",
       "      <td>0.988515</td>\n",
       "      <td>0.552322</td>\n",
       "      <td>0.487761</td>\n",
       "      <td>0.511831</td>\n",
       "    </tr>\n",
       "    <tr>\n",
       "      <th>j</th>\n",
       "      <td>0.734754</td>\n",
       "      <td>0.573401</td>\n",
       "      <td>0.846522</td>\n",
       "      <td>0.973846</td>\n",
       "      <td>0.349499</td>\n",
       "      <td>0.194587</td>\n",
       "      <td>0.792979</td>\n",
       "      <td>0.745259</td>\n",
       "      <td>0.275674</td>\n",
       "      <td>0.827521</td>\n",
       "    </tr>\n",
       "  </tbody>\n",
       "</table>\n",
       "</div>"
      ],
      "text/plain": [
       "       col1      col2      col3      col4      col5      col6      col7  \\\n",
       "a  0.325168  0.896368  0.688091  0.957921  0.085075  0.135444  0.904367   \n",
       "b  0.360598  0.543180  0.252051  0.214851  0.853827  0.688832  0.476822   \n",
       "c  0.982078  0.074638  0.846976  0.760835  0.470278  0.275238  0.216468   \n",
       "d  0.297603  0.624273  0.775493  0.805722  0.824719  0.244982  0.284760   \n",
       "e  0.431617  0.682881  0.246030  0.184462  0.706104  0.958887  0.037010   \n",
       "f  0.524418  0.545540  0.222590  0.187943  0.025717  0.890804  0.261241   \n",
       "g  0.937802  0.821880  0.966090  0.981127  0.357702  0.394265  0.796939   \n",
       "h  0.242944  0.456959  0.288742  0.933114  0.164414  0.317455  0.964251   \n",
       "i  0.836490  0.102670  0.557522  0.323591  0.893443  0.339329  0.988515   \n",
       "j  0.734754  0.573401  0.846522  0.973846  0.349499  0.194587  0.792979   \n",
       "\n",
       "       col8      col9     col10  \n",
       "a  0.008242  0.147310  0.825412  \n",
       "b  0.398298  0.035210  0.795348  \n",
       "c  0.571339  0.670378  0.240137  \n",
       "d  0.788294  0.231859  0.819550  \n",
       "e  0.173268  0.136416  0.056978  \n",
       "f  0.637225  0.082624  0.713636  \n",
       "g  0.197230  0.951316  0.164265  \n",
       "h  0.432139  0.928513  0.338411  \n",
       "i  0.552322  0.487761  0.511831  \n",
       "j  0.745259  0.275674  0.827521  "
      ]
     },
     "execution_count": 55,
     "metadata": {},
     "output_type": "execute_result"
    }
   ],
   "source": [
    "data3"
   ]
  },
  {
   "cell_type": "code",
   "execution_count": 63,
   "id": "5d36036c",
   "metadata": {},
   "outputs": [
    {
     "data": {
      "application/vnd.microsoft.datawrangler.viewer.v0+json": {
       "columns": [
        {
         "name": "index",
         "rawType": "object",
         "type": "string"
        },
        {
         "name": "col1",
         "rawType": "float64",
         "type": "float"
        },
        {
         "name": "col2",
         "rawType": "float64",
         "type": "float"
        },
        {
         "name": "col3",
         "rawType": "float64",
         "type": "float"
        },
        {
         "name": "col4",
         "rawType": "float64",
         "type": "float"
        },
        {
         "name": "col5",
         "rawType": "float64",
         "type": "float"
        },
        {
         "name": "col6",
         "rawType": "float64",
         "type": "float"
        },
        {
         "name": "col7",
         "rawType": "float64",
         "type": "float"
        },
        {
         "name": "col8",
         "rawType": "float64",
         "type": "float"
        },
        {
         "name": "col9",
         "rawType": "float64",
         "type": "float"
        },
        {
         "name": "col10",
         "rawType": "float64",
         "type": "float"
        }
       ],
       "conversionMethod": "pd.DataFrame",
       "ref": "888881d7-9592-47a7-9dc7-3a4c95428073",
       "rows": [
        [
         "a",
         "0.32516774539151483",
         "0.896367509048229",
         "0.6880907539148566",
         "0.9579210942666613",
         "0.08507534491758784",
         "0.13544442200460438",
         "0.9043668317151144",
         "0.00824230023785355",
         "0.1473101931623435",
         "0.8254121787785741"
        ],
        [
         "b",
         "0.360598080640253",
         "0.5431804681566725",
         "0.25205122763436283",
         "0.21485062735334637",
         "0.8538274218422118",
         "0.6888317660678425",
         "0.4768219283586308",
         "0.39829833728988795",
         "0.03520961406474865",
         "0.7953476593885737"
        ],
        [
         "c",
         "0.9820780681663082",
         "0.07463782311409806",
         "0.8469759721366639",
         "0.7608353957937531",
         "0.4702779054810312",
         "0.2752383803345817",
         "0.21646825008711523",
         "0.571338841238801",
         "0.6703781694644617",
         "0.24013654580896138"
        ]
       ],
       "shape": {
        "columns": 10,
        "rows": 3
       }
      },
      "text/html": [
       "<div>\n",
       "<style scoped>\n",
       "    .dataframe tbody tr th:only-of-type {\n",
       "        vertical-align: middle;\n",
       "    }\n",
       "\n",
       "    .dataframe tbody tr th {\n",
       "        vertical-align: top;\n",
       "    }\n",
       "\n",
       "    .dataframe thead th {\n",
       "        text-align: right;\n",
       "    }\n",
       "</style>\n",
       "<table border=\"1\" class=\"dataframe\">\n",
       "  <thead>\n",
       "    <tr style=\"text-align: right;\">\n",
       "      <th></th>\n",
       "      <th>col1</th>\n",
       "      <th>col2</th>\n",
       "      <th>col3</th>\n",
       "      <th>col4</th>\n",
       "      <th>col5</th>\n",
       "      <th>col6</th>\n",
       "      <th>col7</th>\n",
       "      <th>col8</th>\n",
       "      <th>col9</th>\n",
       "      <th>col10</th>\n",
       "    </tr>\n",
       "  </thead>\n",
       "  <tbody>\n",
       "    <tr>\n",
       "      <th>a</th>\n",
       "      <td>0.325168</td>\n",
       "      <td>0.896368</td>\n",
       "      <td>0.688091</td>\n",
       "      <td>0.957921</td>\n",
       "      <td>0.085075</td>\n",
       "      <td>0.135444</td>\n",
       "      <td>0.904367</td>\n",
       "      <td>0.008242</td>\n",
       "      <td>0.147310</td>\n",
       "      <td>0.825412</td>\n",
       "    </tr>\n",
       "    <tr>\n",
       "      <th>b</th>\n",
       "      <td>0.360598</td>\n",
       "      <td>0.543180</td>\n",
       "      <td>0.252051</td>\n",
       "      <td>0.214851</td>\n",
       "      <td>0.853827</td>\n",
       "      <td>0.688832</td>\n",
       "      <td>0.476822</td>\n",
       "      <td>0.398298</td>\n",
       "      <td>0.035210</td>\n",
       "      <td>0.795348</td>\n",
       "    </tr>\n",
       "    <tr>\n",
       "      <th>c</th>\n",
       "      <td>0.982078</td>\n",
       "      <td>0.074638</td>\n",
       "      <td>0.846976</td>\n",
       "      <td>0.760835</td>\n",
       "      <td>0.470278</td>\n",
       "      <td>0.275238</td>\n",
       "      <td>0.216468</td>\n",
       "      <td>0.571339</td>\n",
       "      <td>0.670378</td>\n",
       "      <td>0.240137</td>\n",
       "    </tr>\n",
       "  </tbody>\n",
       "</table>\n",
       "</div>"
      ],
      "text/plain": [
       "       col1      col2      col3      col4      col5      col6      col7  \\\n",
       "a  0.325168  0.896368  0.688091  0.957921  0.085075  0.135444  0.904367   \n",
       "b  0.360598  0.543180  0.252051  0.214851  0.853827  0.688832  0.476822   \n",
       "c  0.982078  0.074638  0.846976  0.760835  0.470278  0.275238  0.216468   \n",
       "\n",
       "       col8      col9     col10  \n",
       "a  0.008242  0.147310  0.825412  \n",
       "b  0.398298  0.035210  0.795348  \n",
       "c  0.571339  0.670378  0.240137  "
      ]
     },
     "execution_count": 63,
     "metadata": {},
     "output_type": "execute_result"
    }
   ],
   "source": [
    "data3.head(3)"
   ]
  },
  {
   "cell_type": "code",
   "execution_count": 64,
   "id": "fd7febcf",
   "metadata": {},
   "outputs": [
    {
     "data": {
      "application/vnd.microsoft.datawrangler.viewer.v0+json": {
       "columns": [
        {
         "name": "index",
         "rawType": "object",
         "type": "string"
        },
        {
         "name": "col1",
         "rawType": "float64",
         "type": "float"
        },
        {
         "name": "col2",
         "rawType": "float64",
         "type": "float"
        },
        {
         "name": "col3",
         "rawType": "float64",
         "type": "float"
        },
        {
         "name": "col4",
         "rawType": "float64",
         "type": "float"
        },
        {
         "name": "col5",
         "rawType": "float64",
         "type": "float"
        },
        {
         "name": "col6",
         "rawType": "float64",
         "type": "float"
        },
        {
         "name": "col7",
         "rawType": "float64",
         "type": "float"
        },
        {
         "name": "col8",
         "rawType": "float64",
         "type": "float"
        },
        {
         "name": "col9",
         "rawType": "float64",
         "type": "float"
        },
        {
         "name": "col10",
         "rawType": "float64",
         "type": "float"
        }
       ],
       "conversionMethod": "pd.DataFrame",
       "ref": "c1605a05-ff29-42d0-9da1-9ed95bc605dd",
       "rows": [
        [
         "h",
         "0.24294365327582823",
         "0.4569586226965102",
         "0.28874244871182564",
         "0.9331144310762216",
         "0.16441383493745998",
         "0.31745469645313396",
         "0.9642505878571763",
         "0.4321393806869883",
         "0.9285134347807708",
         "0.3384111460594289"
        ],
        [
         "i",
         "0.8364900956554503",
         "0.10266984379446964",
         "0.5575222381634172",
         "0.3235909882473227",
         "0.893442966229705",
         "0.33932912557225114",
         "0.9885146267928654",
         "0.5523215462238428",
         "0.4877610947595473",
         "0.5118305590439396"
        ],
        [
         "j",
         "0.7347538326291686",
         "0.5734006347954361",
         "0.8465224523526707",
         "0.9738457326935217",
         "0.34949927117354973",
         "0.19458713001822503",
         "0.7929786145011029",
         "0.7452585313547617",
         "0.27567432550395665",
         "0.8275209181049602"
        ]
       ],
       "shape": {
        "columns": 10,
        "rows": 3
       }
      },
      "text/html": [
       "<div>\n",
       "<style scoped>\n",
       "    .dataframe tbody tr th:only-of-type {\n",
       "        vertical-align: middle;\n",
       "    }\n",
       "\n",
       "    .dataframe tbody tr th {\n",
       "        vertical-align: top;\n",
       "    }\n",
       "\n",
       "    .dataframe thead th {\n",
       "        text-align: right;\n",
       "    }\n",
       "</style>\n",
       "<table border=\"1\" class=\"dataframe\">\n",
       "  <thead>\n",
       "    <tr style=\"text-align: right;\">\n",
       "      <th></th>\n",
       "      <th>col1</th>\n",
       "      <th>col2</th>\n",
       "      <th>col3</th>\n",
       "      <th>col4</th>\n",
       "      <th>col5</th>\n",
       "      <th>col6</th>\n",
       "      <th>col7</th>\n",
       "      <th>col8</th>\n",
       "      <th>col9</th>\n",
       "      <th>col10</th>\n",
       "    </tr>\n",
       "  </thead>\n",
       "  <tbody>\n",
       "    <tr>\n",
       "      <th>h</th>\n",
       "      <td>0.242944</td>\n",
       "      <td>0.456959</td>\n",
       "      <td>0.288742</td>\n",
       "      <td>0.933114</td>\n",
       "      <td>0.164414</td>\n",
       "      <td>0.317455</td>\n",
       "      <td>0.964251</td>\n",
       "      <td>0.432139</td>\n",
       "      <td>0.928513</td>\n",
       "      <td>0.338411</td>\n",
       "    </tr>\n",
       "    <tr>\n",
       "      <th>i</th>\n",
       "      <td>0.836490</td>\n",
       "      <td>0.102670</td>\n",
       "      <td>0.557522</td>\n",
       "      <td>0.323591</td>\n",
       "      <td>0.893443</td>\n",
       "      <td>0.339329</td>\n",
       "      <td>0.988515</td>\n",
       "      <td>0.552322</td>\n",
       "      <td>0.487761</td>\n",
       "      <td>0.511831</td>\n",
       "    </tr>\n",
       "    <tr>\n",
       "      <th>j</th>\n",
       "      <td>0.734754</td>\n",
       "      <td>0.573401</td>\n",
       "      <td>0.846522</td>\n",
       "      <td>0.973846</td>\n",
       "      <td>0.349499</td>\n",
       "      <td>0.194587</td>\n",
       "      <td>0.792979</td>\n",
       "      <td>0.745259</td>\n",
       "      <td>0.275674</td>\n",
       "      <td>0.827521</td>\n",
       "    </tr>\n",
       "  </tbody>\n",
       "</table>\n",
       "</div>"
      ],
      "text/plain": [
       "       col1      col2      col3      col4      col5      col6      col7  \\\n",
       "h  0.242944  0.456959  0.288742  0.933114  0.164414  0.317455  0.964251   \n",
       "i  0.836490  0.102670  0.557522  0.323591  0.893443  0.339329  0.988515   \n",
       "j  0.734754  0.573401  0.846522  0.973846  0.349499  0.194587  0.792979   \n",
       "\n",
       "       col8      col9     col10  \n",
       "h  0.432139  0.928513  0.338411  \n",
       "i  0.552322  0.487761  0.511831  \n",
       "j  0.745259  0.275674  0.827521  "
      ]
     },
     "execution_count": 64,
     "metadata": {},
     "output_type": "execute_result"
    }
   ],
   "source": [
    "data3.tail(3)"
   ]
  },
  {
   "cell_type": "code",
   "execution_count": null,
   "id": "f3d15f30",
   "metadata": {},
   "outputs": [],
   "source": []
  }
 ],
 "metadata": {
  "kernelspec": {
   "display_name": "Python 3",
   "language": "python",
   "name": "python3"
  },
  "language_info": {
   "codemirror_mode": {
    "name": "ipython",
    "version": 3
   },
   "file_extension": ".py",
   "mimetype": "text/x-python",
   "name": "python",
   "nbconvert_exporter": "python",
   "pygments_lexer": "ipython3",
   "version": "3.11.9"
  }
 },
 "nbformat": 4,
 "nbformat_minor": 5
}
