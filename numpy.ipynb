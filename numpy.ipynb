{
 "cells": [
  {
   "cell_type": "markdown",
   "id": "794166e2",
   "metadata": {},
   "source": [
    " # import the lib"
   ]
  },
  {
   "cell_type": "code",
   "execution_count": 1,
   "id": "44d120d4",
   "metadata": {},
   "outputs": [],
   "source": [
    "import numpy as np "
   ]
  },
  {
   "cell_type": "markdown",
   "id": "e940fb9a",
   "metadata": {},
   "source": [
    " #  Array in numpy "
   ]
  },
  {
   "cell_type": "code",
   "execution_count": 2,
   "id": "f234d91c",
   "metadata": {},
   "outputs": [
    {
     "data": {
      "text/plain": [
       "array([1, 2, 3])"
      ]
     },
     "execution_count": 2,
     "metadata": {},
     "output_type": "execute_result"
    }
   ],
   "source": [
    "a = np.array([1, 2, 3])\n",
    "a\n"
   ]
  },
  {
   "cell_type": "markdown",
   "id": "b8dbaf62",
   "metadata": {},
   "source": [
    "Access the elements using array indexes "
   ]
  },
  {
   "cell_type": "code",
   "execution_count": 3,
   "id": "af9c5336",
   "metadata": {},
   "outputs": [
    {
     "name": "stdout",
     "output_type": "stream",
     "text": [
      "1\n"
     ]
    }
   ],
   "source": [
    "print(a[0])"
   ]
  },
  {
   "cell_type": "markdown",
   "id": "403a998a",
   "metadata": {},
   "source": [
    "Add some data to a numpy array"
   ]
  },
  {
   "cell_type": "code",
   "execution_count": 4,
   "id": "8ab230c1",
   "metadata": {},
   "outputs": [
    {
     "data": {
      "text/plain": [
       "array([22,  2,  3])"
      ]
     },
     "execution_count": 4,
     "metadata": {},
     "output_type": "execute_result"
    }
   ],
   "source": [
    "a[0] = 22 \n",
    "a"
   ]
  },
  {
   "cell_type": "markdown",
   "id": "583a60d3",
   "metadata": {},
   "source": [
    "slicing "
   ]
  },
  {
   "cell_type": "code",
   "execution_count": 5,
   "id": "0d966381",
   "metadata": {},
   "outputs": [
    {
     "data": {
      "text/plain": [
       "array([2, 3])"
      ]
     },
     "execution_count": 5,
     "metadata": {},
     "output_type": "execute_result"
    }
   ],
   "source": [
    "a[1:3]"
   ]
  },
  {
   "cell_type": "code",
   "execution_count": 6,
   "id": "fc9bd7a5",
   "metadata": {},
   "outputs": [
    {
     "data": {
      "text/plain": [
       "array([[ 1,  2,  3],\n",
       "       [ 5,  6,  7],\n",
       "       [ 8,  9, 10]])"
      ]
     },
     "execution_count": 6,
     "metadata": {},
     "output_type": "execute_result"
    }
   ],
   "source": [
    "b = np.array([[1,2,3],[5,6,7],[8,9,10]])\n",
    "b"
   ]
  },
  {
   "cell_type": "code",
   "execution_count": 7,
   "id": "846773f0",
   "metadata": {},
   "outputs": [
    {
     "data": {
      "text/plain": [
       "np.int64(10)"
      ]
     },
     "execution_count": 7,
     "metadata": {},
     "output_type": "execute_result"
    }
   ],
   "source": [
    "b[2,2]"
   ]
  },
  {
   "cell_type": "markdown",
   "id": "12e50d8b",
   "metadata": {},
   "source": [
    "Array attributes "
   ]
  },
  {
   "cell_type": "markdown",
   "id": "734def6c",
   "metadata": {},
   "source": [
    "The number of dimensions of an array is contained in the ndim attribute."
   ]
  },
  {
   "cell_type": "code",
   "execution_count": 8,
   "id": "fa7b6a58",
   "metadata": {},
   "outputs": [
    {
     "data": {
      "text/plain": [
       "2"
      ]
     },
     "execution_count": 8,
     "metadata": {},
     "output_type": "execute_result"
    }
   ],
   "source": [
    "b.ndim"
   ]
  },
  {
   "cell_type": "markdown",
   "id": "50c0870d",
   "metadata": {},
   "source": [
    "The shape of an array is a tuple of non-negative integers that specify the number of elements along each dimension."
   ]
  },
  {
   "cell_type": "code",
   "execution_count": 9,
   "id": "09d5be5c",
   "metadata": {},
   "outputs": [
    {
     "data": {
      "text/plain": [
       "(3, 3)"
      ]
     },
     "execution_count": 9,
     "metadata": {},
     "output_type": "execute_result"
    }
   ],
   "source": [
    "b.shape"
   ]
  },
  {
   "cell_type": "code",
   "execution_count": 10,
   "id": "fe3fdb9c",
   "metadata": {},
   "outputs": [
    {
     "data": {
      "text/plain": [
       "9"
      ]
     },
     "execution_count": 10,
     "metadata": {},
     "output_type": "execute_result"
    }
   ],
   "source": [
    "b.size"
   ]
  },
  {
   "cell_type": "markdown",
   "id": "b4b78c46",
   "metadata": {},
   "source": [
    "To check the data type of the array"
   ]
  },
  {
   "cell_type": "code",
   "execution_count": 11,
   "id": "bc5bb28a",
   "metadata": {},
   "outputs": [
    {
     "data": {
      "text/plain": [
       "dtype('int64')"
      ]
     },
     "execution_count": 11,
     "metadata": {},
     "output_type": "execute_result"
    }
   ],
   "source": [
    "b.dtype"
   ]
  },
  {
   "cell_type": "markdown",
   "id": "82e654af",
   "metadata": {},
   "source": [
    "#  How to create a basic array"
   ]
  },
  {
   "cell_type": "markdown",
   "id": "c44eac43",
   "metadata": {},
   "source": [
    "This section covers np.zeros(), np.ones(), np.empty(), np.arange()"
   ]
  },
  {
   "cell_type": "markdown",
   "id": "09a23891",
   "metadata": {},
   "source": [
    "Besides creating an array from a sequence of elements, you can easily create an array filled with 0’s"
   ]
  },
  {
   "cell_type": "code",
   "execution_count": 12,
   "id": "2a945d14",
   "metadata": {},
   "outputs": [
    {
     "data": {
      "text/plain": [
       "array([[0., 0.],\n",
       "       [0., 0.]])"
      ]
     },
     "execution_count": 12,
     "metadata": {},
     "output_type": "execute_result"
    }
   ],
   "source": [
    "np.zeros((2,2))"
   ]
  },
  {
   "cell_type": "markdown",
   "id": "f515bab4",
   "metadata": {},
   "source": [
    "Or an array filled with 1’s:"
   ]
  },
  {
   "cell_type": "code",
   "execution_count": 13,
   "id": "c7d9c6a5",
   "metadata": {},
   "outputs": [
    {
     "data": {
      "text/plain": [
       "array([[1., 1.],\n",
       "       [1., 1.]])"
      ]
     },
     "execution_count": 13,
     "metadata": {},
     "output_type": "execute_result"
    }
   ],
   "source": [
    "np.ones((2,2))"
   ]
  },
  {
   "cell_type": "markdown",
   "id": "7a4cf26d",
   "metadata": {},
   "source": [
    "Create an empty array with 2 elements"
   ]
  },
  {
   "cell_type": "code",
   "execution_count": 14,
   "id": "94272d0b",
   "metadata": {},
   "outputs": [
    {
     "data": {
      "text/plain": [
       "array([[1., 1.],\n",
       "       [1., 1.]])"
      ]
     },
     "execution_count": 14,
     "metadata": {},
     "output_type": "execute_result"
    }
   ],
   "source": [
    "np.empty((2,2))"
   ]
  },
  {
   "cell_type": "markdown",
   "id": "37806ff5",
   "metadata": {},
   "source": [
    "You can create an array with a range of elements:"
   ]
  },
  {
   "cell_type": "code",
   "execution_count": 15,
   "id": "308acae5",
   "metadata": {},
   "outputs": [
    {
     "data": {
      "text/plain": [
       "array([0, 1, 2, 3])"
      ]
     },
     "execution_count": 15,
     "metadata": {},
     "output_type": "execute_result"
    }
   ],
   "source": [
    "np.arange(4)"
   ]
  },
  {
   "cell_type": "markdown",
   "id": "36101738",
   "metadata": {},
   "source": [
    " # Adding, removing, and sorting elements"
   ]
  },
  {
   "cell_type": "markdown",
   "id": "21361134",
   "metadata": {},
   "source": [
    " np.sort(), np.concatenate()"
   ]
  },
  {
   "cell_type": "code",
   "execution_count": 16,
   "id": "48a3121f",
   "metadata": {},
   "outputs": [],
   "source": [
    "array = np.array([9,36,7,836,78,22,96,100])"
   ]
  },
  {
   "cell_type": "markdown",
   "id": "3a16d236",
   "metadata": {},
   "source": [
    "To sort the elements the array"
   ]
  },
  {
   "cell_type": "code",
   "execution_count": 17,
   "id": "0d5e7b72",
   "metadata": {},
   "outputs": [
    {
     "data": {
      "text/plain": [
       "array([  7,   9,  22,  36,  78,  96, 100, 836])"
      ]
     },
     "execution_count": 17,
     "metadata": {},
     "output_type": "execute_result"
    }
   ],
   "source": [
    "array = np.sort(array)\n",
    "array"
   ]
  },
  {
   "cell_type": "markdown",
   "id": "7b71e804",
   "metadata": {},
   "source": [
    "For concatenate two array"
   ]
  },
  {
   "cell_type": "code",
   "execution_count": 18,
   "id": "dd132d06",
   "metadata": {},
   "outputs": [],
   "source": [
    "a = np.array([1,2,3,4,5])\n",
    "b = np.array([6,7,8,9,10])"
   ]
  },
  {
   "cell_type": "code",
   "execution_count": 19,
   "id": "c99b836c",
   "metadata": {},
   "outputs": [
    {
     "data": {
      "text/plain": [
       "array([ 1,  2,  3,  4,  5,  6,  7,  8,  9, 10])"
      ]
     },
     "execution_count": 19,
     "metadata": {},
     "output_type": "execute_result"
    }
   ],
   "source": [
    "np.concatenate((a,b))"
   ]
  },
  {
   "cell_type": "markdown",
   "id": "ded0d121",
   "metadata": {},
   "source": [
    "#  Can you reshape an array?"
   ]
  },
  {
   "cell_type": "code",
   "execution_count": 20,
   "id": "63076341",
   "metadata": {},
   "outputs": [
    {
     "name": "stdout",
     "output_type": "stream",
     "text": [
      "[0 1 2 3 4 5]\n"
     ]
    }
   ],
   "source": [
    "a = np.arange(6)\n",
    "print(a)"
   ]
  },
  {
   "cell_type": "code",
   "execution_count": 21,
   "id": "b824dc4d",
   "metadata": {},
   "outputs": [
    {
     "name": "stdout",
     "output_type": "stream",
     "text": [
      "[[0 1]\n",
      " [2 3]\n",
      " [4 5]]\n"
     ]
    }
   ],
   "source": [
    "b = a.reshape(3, 2)\n",
    "print(b)"
   ]
  },
  {
   "cell_type": "code",
   "execution_count": 22,
   "id": "dee27364",
   "metadata": {},
   "outputs": [
    {
     "data": {
      "text/plain": [
       "(3, 2)"
      ]
     },
     "execution_count": 22,
     "metadata": {},
     "output_type": "execute_result"
    }
   ],
   "source": [
    "b.shape"
   ]
  },
  {
   "cell_type": "markdown",
   "id": "c2f434e0",
   "metadata": {},
   "source": [
    "#  Indexing and slicing"
   ]
  },
  {
   "cell_type": "code",
   "execution_count": 23,
   "id": "cf337ef8",
   "metadata": {},
   "outputs": [
    {
     "data": {
      "text/plain": [
       "array([1, 2, 3])"
      ]
     },
     "execution_count": 23,
     "metadata": {},
     "output_type": "execute_result"
    }
   ],
   "source": [
    "data = np.array([1, 2, 3])\n",
    "data"
   ]
  },
  {
   "cell_type": "code",
   "execution_count": 24,
   "id": "1a509ae9",
   "metadata": {},
   "outputs": [
    {
     "data": {
      "text/plain": [
       "np.int64(2)"
      ]
     },
     "execution_count": 24,
     "metadata": {},
     "output_type": "execute_result"
    }
   ],
   "source": [
    "data[1]"
   ]
  },
  {
   "cell_type": "code",
   "execution_count": 25,
   "id": "9fa29db9",
   "metadata": {},
   "outputs": [
    {
     "data": {
      "text/plain": [
       "array([1, 2])"
      ]
     },
     "execution_count": 25,
     "metadata": {},
     "output_type": "execute_result"
    }
   ],
   "source": [
    "data[0:2]"
   ]
  },
  {
   "cell_type": "code",
   "execution_count": 26,
   "id": "20c7fc24",
   "metadata": {},
   "outputs": [
    {
     "data": {
      "text/plain": [
       "array([2, 3])"
      ]
     },
     "execution_count": 26,
     "metadata": {},
     "output_type": "execute_result"
    }
   ],
   "source": [
    "data[1:]"
   ]
  },
  {
   "cell_type": "code",
   "execution_count": 27,
   "id": "0f0bacf0",
   "metadata": {},
   "outputs": [
    {
     "data": {
      "text/plain": [
       "array([2, 3])"
      ]
     },
     "execution_count": 27,
     "metadata": {},
     "output_type": "execute_result"
    }
   ],
   "source": [
    "data[-2:]"
   ]
  },
  {
   "cell_type": "code",
   "execution_count": 28,
   "id": "44120b30",
   "metadata": {},
   "outputs": [],
   "source": [
    "a2 = np.array([[1 , 2, 3, 4], [5, 6, 7, 8], [9, 10, 11, 12]])"
   ]
  },
  {
   "cell_type": "code",
   "execution_count": 29,
   "id": "dbeb2c54",
   "metadata": {},
   "outputs": [
    {
     "name": "stdout",
     "output_type": "stream",
     "text": [
      "[1 2 3 4]\n"
     ]
    }
   ],
   "source": [
    "print(a2[a2 < 5])"
   ]
  },
  {
   "cell_type": "code",
   "execution_count": 30,
   "id": "d15e27ec",
   "metadata": {},
   "outputs": [
    {
     "name": "stdout",
     "output_type": "stream",
     "text": [
      "[0 2 4]\n"
     ]
    }
   ],
   "source": [
    "divisible_by_2 = a[a%2==0]\n",
    "print(divisible_by_2)"
   ]
  },
  {
   "cell_type": "markdown",
   "id": "419e231c",
   "metadata": {},
   "source": [
    "# How to create an array from existing data"
   ]
  },
  {
   "cell_type": "markdown",
   "id": "5a5b0974",
   "metadata": {},
   "source": [
    "This section covers slicing and indexing, np.vstack(), np.hstack(), np.hsplit()"
   ]
  },
  {
   "cell_type": "code",
   "execution_count": 31,
   "id": "e99a9e8b",
   "metadata": {},
   "outputs": [],
   "source": [
    "a = np.array([1,  2,  3,  4,  5,  6,  7,  8,  9, 10])"
   ]
  },
  {
   "cell_type": "code",
   "execution_count": 32,
   "id": "94fe61b5",
   "metadata": {},
   "outputs": [
    {
     "name": "stdout",
     "output_type": "stream",
     "text": [
      "[4 5 6 7 8]\n"
     ]
    }
   ],
   "source": [
    "a = a[3:8]\n",
    "print(a)"
   ]
  },
  {
   "cell_type": "code",
   "execution_count": 33,
   "id": "9fc5b7e8",
   "metadata": {},
   "outputs": [],
   "source": [
    "a1 = np.array([[1, 1],\n",
    "               [2, 2]])\n",
    "\n",
    "a2 = np.array([[3, 3],\n",
    "               [4, 4]])"
   ]
  },
  {
   "cell_type": "markdown",
   "id": "ef9598db",
   "metadata": {},
   "source": [
    "You can stack them vertically with vstack:"
   ]
  },
  {
   "cell_type": "code",
   "execution_count": 34,
   "id": "989e928f",
   "metadata": {},
   "outputs": [
    {
     "data": {
      "text/plain": [
       "array([[1, 1],\n",
       "       [2, 2],\n",
       "       [3, 3],\n",
       "       [4, 4]])"
      ]
     },
     "execution_count": 34,
     "metadata": {},
     "output_type": "execute_result"
    }
   ],
   "source": [
    "np.vstack((a1, a2))"
   ]
  },
  {
   "cell_type": "markdown",
   "id": "2750a54b",
   "metadata": {},
   "source": [
    "Or stack them horizontally with hstack"
   ]
  },
  {
   "cell_type": "code",
   "execution_count": 35,
   "id": "46c48a2c",
   "metadata": {},
   "outputs": [
    {
     "data": {
      "text/plain": [
       "array([[1, 1, 3, 3],\n",
       "       [2, 2, 4, 4]])"
      ]
     },
     "execution_count": 35,
     "metadata": {},
     "output_type": "execute_result"
    }
   ],
   "source": [
    "np.hstack((a1, a2))"
   ]
  },
  {
   "cell_type": "markdown",
   "id": "c4ce075c",
   "metadata": {},
   "source": [
    "# Basic array operations"
   ]
  },
  {
   "cell_type": "code",
   "execution_count": 36,
   "id": "91bd280e",
   "metadata": {},
   "outputs": [
    {
     "data": {
      "text/plain": [
       "array([2, 3])"
      ]
     },
     "execution_count": 36,
     "metadata": {},
     "output_type": "execute_result"
    }
   ],
   "source": [
    "data = np.array([1, 2])\n",
    "ones = np.ones(2, dtype=int)\n",
    "data + ones"
   ]
  },
  {
   "cell_type": "code",
   "execution_count": 37,
   "id": "3e801e0b",
   "metadata": {},
   "outputs": [
    {
     "data": {
      "text/plain": [
       "np.int64(21)"
      ]
     },
     "execution_count": 37,
     "metadata": {},
     "output_type": "execute_result"
    }
   ],
   "source": [
    "a = np.array([[1,2,3],[4,5,6]])\n",
    "a.sum()"
   ]
  },
  {
   "cell_type": "code",
   "execution_count": 38,
   "id": "8417329e",
   "metadata": {},
   "outputs": [],
   "source": [
    "b = np.array([[1, 1], [2, 2]])"
   ]
  },
  {
   "cell_type": "code",
   "execution_count": 39,
   "id": "4c7cc271",
   "metadata": {},
   "outputs": [
    {
     "data": {
      "text/plain": [
       "array([3, 3])"
      ]
     },
     "execution_count": 39,
     "metadata": {},
     "output_type": "execute_result"
    }
   ],
   "source": [
    "b.sum(axis=0)"
   ]
  },
  {
   "cell_type": "code",
   "execution_count": 40,
   "id": "5beef3e0",
   "metadata": {},
   "outputs": [
    {
     "data": {
      "text/plain": [
       "array([2, 4])"
      ]
     },
     "execution_count": 40,
     "metadata": {},
     "output_type": "execute_result"
    }
   ],
   "source": [
    "b.sum(axis=1)"
   ]
  },
  {
   "cell_type": "markdown",
   "id": "e3481e04",
   "metadata": {},
   "source": [
    " # Broadcasting"
   ]
  },
  {
   "cell_type": "code",
   "execution_count": 41,
   "id": "c2621318",
   "metadata": {},
   "outputs": [
    {
     "data": {
      "text/plain": [
       "array([1.6, 3.2])"
      ]
     },
     "execution_count": 41,
     "metadata": {},
     "output_type": "execute_result"
    }
   ],
   "source": [
    "data = np.array([1.0, 2.0])\n",
    "data * 1.6"
   ]
  },
  {
   "cell_type": "code",
   "execution_count": 42,
   "id": "e7be5118",
   "metadata": {},
   "outputs": [
    {
     "data": {
      "text/plain": [
       "np.float64(1.0)"
      ]
     },
     "execution_count": 42,
     "metadata": {},
     "output_type": "execute_result"
    }
   ],
   "source": [
    "data.min()"
   ]
  },
  {
   "cell_type": "code",
   "execution_count": 43,
   "id": "11819284",
   "metadata": {},
   "outputs": [
    {
     "data": {
      "text/plain": [
       "np.float64(2.0)"
      ]
     },
     "execution_count": 43,
     "metadata": {},
     "output_type": "execute_result"
    }
   ],
   "source": [
    "data.max()"
   ]
  },
  {
   "cell_type": "code",
   "execution_count": 44,
   "id": "62d890f7",
   "metadata": {},
   "outputs": [
    {
     "data": {
      "text/plain": [
       "np.float64(3.0)"
      ]
     },
     "execution_count": 44,
     "metadata": {},
     "output_type": "execute_result"
    }
   ],
   "source": [
    "data.sum()"
   ]
  },
  {
   "cell_type": "markdown",
   "id": "4a204f20",
   "metadata": {},
   "source": [
    "# More useful array operations"
   ]
  },
  {
   "cell_type": "code",
   "execution_count": 45,
   "id": "c4ffc28e",
   "metadata": {},
   "outputs": [],
   "source": [
    "a = np.array([[0.45053314, 0.17296777, 0.34376245, 0.5510652],\n",
    "              [0.54627315, 0.05093587, 0.40067661, 0.55645993],\n",
    "              [0.12697628, 0.82485143, 0.26590556, 0.56917101]])"
   ]
  },
  {
   "cell_type": "code",
   "execution_count": 46,
   "id": "4d3a8dac",
   "metadata": {},
   "outputs": [
    {
     "data": {
      "text/plain": [
       "np.float64(4.8595784)"
      ]
     },
     "execution_count": 46,
     "metadata": {},
     "output_type": "execute_result"
    }
   ],
   "source": [
    "a.sum()"
   ]
  },
  {
   "cell_type": "code",
   "execution_count": 47,
   "id": "9ecd6e4f",
   "metadata": {},
   "outputs": [
    {
     "data": {
      "text/plain": [
       "np.float64(0.05093587)"
      ]
     },
     "execution_count": 47,
     "metadata": {},
     "output_type": "execute_result"
    }
   ],
   "source": [
    "a.min()"
   ]
  },
  {
   "cell_type": "code",
   "execution_count": 48,
   "id": "cc389bde",
   "metadata": {},
   "outputs": [
    {
     "data": {
      "text/plain": [
       "array([0.12697628, 0.05093587, 0.26590556, 0.5510652 ])"
      ]
     },
     "execution_count": 48,
     "metadata": {},
     "output_type": "execute_result"
    }
   ],
   "source": [
    "a.min(axis=0)"
   ]
  },
  {
   "cell_type": "markdown",
   "id": "cf658661",
   "metadata": {},
   "source": [
    "#  Creating matrices"
   ]
  },
  {
   "cell_type": "markdown",
   "id": "f06dd635",
   "metadata": {},
   "source": [
    "You can pass Python lists of lists to create a 2-D array (or “matrix”) to represent them in NumPy."
   ]
  },
  {
   "cell_type": "code",
   "execution_count": 49,
   "id": "cf5b2ce2",
   "metadata": {},
   "outputs": [
    {
     "data": {
      "text/plain": [
       "array([[1, 2],\n",
       "       [3, 4],\n",
       "       [5, 6]])"
      ]
     },
     "execution_count": 49,
     "metadata": {},
     "output_type": "execute_result"
    }
   ],
   "source": [
    "data = np.array([[1, 2], [3, 4], [5, 6]])\n",
    "data"
   ]
  },
  {
   "cell_type": "code",
   "execution_count": 50,
   "id": "4b41405f",
   "metadata": {},
   "outputs": [
    {
     "data": {
      "text/plain": [
       "np.int64(2)"
      ]
     },
     "execution_count": 50,
     "metadata": {},
     "output_type": "execute_result"
    }
   ],
   "source": [
    "data[0, 1]"
   ]
  },
  {
   "cell_type": "code",
   "execution_count": 51,
   "id": "d58ea338",
   "metadata": {},
   "outputs": [
    {
     "data": {
      "text/plain": [
       "array([[3, 4],\n",
       "       [5, 6]])"
      ]
     },
     "execution_count": 51,
     "metadata": {},
     "output_type": "execute_result"
    }
   ],
   "source": [
    "data[1:3]"
   ]
  },
  {
   "cell_type": "markdown",
   "id": "05fad138",
   "metadata": {},
   "source": [
    "#   Generating random numbers"
   ]
  },
  {
   "cell_type": "code",
   "execution_count": 52,
   "id": "4cce4201",
   "metadata": {},
   "outputs": [
    {
     "data": {
      "text/plain": [
       "array([[0, 2, 4, 4],\n",
       "       [4, 3, 2, 2]])"
      ]
     },
     "execution_count": 52,
     "metadata": {},
     "output_type": "execute_result"
    }
   ],
   "source": [
    "rng = np.random.default_rng()\n",
    "rng.integers(5, size=(2, 4)) "
   ]
  },
  {
   "cell_type": "code",
   "execution_count": 53,
   "id": "9aae497e",
   "metadata": {},
   "outputs": [],
   "source": [
    "a =  np.random.rand(3,2).round(2) * 100 "
   ]
  },
  {
   "cell_type": "code",
   "execution_count": 54,
   "id": "7af8350b",
   "metadata": {},
   "outputs": [
    {
     "data": {
      "text/plain": [
       "array([[53, 48],\n",
       "       [23, 80],\n",
       "       [89, 68]])"
      ]
     },
     "execution_count": 54,
     "metadata": {},
     "output_type": "execute_result"
    }
   ],
   "source": [
    "a.astype(int)"
   ]
  },
  {
   "cell_type": "markdown",
   "id": "722d4d2a",
   "metadata": {},
   "source": [
    "#   How to get unique items and counts"
   ]
  },
  {
   "cell_type": "code",
   "execution_count": 55,
   "id": "a8a0214e",
   "metadata": {},
   "outputs": [
    {
     "data": {
      "text/plain": [
       "array([11, 11, 12, 13, 14, 15, 16, 17, 12, 13, 11, 14, 18, 19, 20])"
      ]
     },
     "execution_count": 55,
     "metadata": {},
     "output_type": "execute_result"
    }
   ],
   "source": [
    "a = np.array([11, 11, 12, 13, 14, 15, 16, 17, 12, 13, 11, 14, 18, 19, 20])\n",
    "a"
   ]
  },
  {
   "cell_type": "code",
   "execution_count": 56,
   "id": "ffc7e353",
   "metadata": {},
   "outputs": [
    {
     "data": {
      "text/plain": [
       "array([11, 12, 13, 14, 15, 16, 17, 18, 19, 20])"
      ]
     },
     "execution_count": 56,
     "metadata": {},
     "output_type": "execute_result"
    }
   ],
   "source": [
    "np.unique(a)"
   ]
  },
  {
   "cell_type": "markdown",
   "id": "a63eb4da",
   "metadata": {},
   "source": [
    "To get the indices of unique values in a NumPy array (an array of first index positions of unique values in the array), just pass the return_index argument in np.unique() as well as your array"
   ]
  },
  {
   "cell_type": "code",
   "execution_count": 57,
   "id": "b8a7ca23",
   "metadata": {},
   "outputs": [
    {
     "name": "stdout",
     "output_type": "stream",
     "text": [
      "[ 0  2  3  4  5  6  7 12 13 14]\n"
     ]
    }
   ],
   "source": [
    "unique_values , indices_list  = np.unique( a, return_index=True )\n",
    "print(indices_list)"
   ]
  },
  {
   "cell_type": "markdown",
   "id": "af939307",
   "metadata": {},
   "source": [
    "You can pass the return_counts argument in np.unique() along with your array to get the frequency count of unique values in a NumPy array."
   ]
  },
  {
   "cell_type": "code",
   "execution_count": 58,
   "id": "1a89eb3c",
   "metadata": {},
   "outputs": [
    {
     "name": "stdout",
     "output_type": "stream",
     "text": [
      "[3 2 2 2 1 1 1 1 1 1]\n"
     ]
    }
   ],
   "source": [
    "unique_values, occurrence_count = np.unique(a, return_counts=True)\n",
    "print(occurrence_count)"
   ]
  },
  {
   "cell_type": "markdown",
   "id": "82ce4b0f",
   "metadata": {},
   "source": [
    "#   Transposing and reshaping a matrix"
   ]
  },
  {
   "cell_type": "markdown",
   "id": "6474862a",
   "metadata": {},
   "source": [
    "This section covers arr.reshape(), arr.transpose(), arr.T"
   ]
  },
  {
   "cell_type": "code",
   "execution_count": 59,
   "id": "60d23341",
   "metadata": {},
   "outputs": [
    {
     "data": {
      "text/plain": [
       "array([[1, 2],\n",
       "       [3, 4],\n",
       "       [5, 6]])"
      ]
     },
     "execution_count": 59,
     "metadata": {},
     "output_type": "execute_result"
    }
   ],
   "source": [
    "data = np.array([[1,2],[3,4],[5,6]])\n",
    "data"
   ]
  },
  {
   "cell_type": "code",
   "execution_count": 60,
   "id": "3b285be1",
   "metadata": {},
   "outputs": [
    {
     "data": {
      "text/plain": [
       "array([[1, 2, 3],\n",
       "       [4, 5, 6]])"
      ]
     },
     "execution_count": 60,
     "metadata": {},
     "output_type": "execute_result"
    }
   ],
   "source": [
    "data.reshape(2, 3)"
   ]
  },
  {
   "cell_type": "code",
   "execution_count": 61,
   "id": "dc992aac",
   "metadata": {},
   "outputs": [
    {
     "data": {
      "text/plain": [
       "array([[1, 2],\n",
       "       [3, 4],\n",
       "       [5, 6]])"
      ]
     },
     "execution_count": 61,
     "metadata": {},
     "output_type": "execute_result"
    }
   ],
   "source": [
    "data.reshape(3, 2)"
   ]
  },
  {
   "cell_type": "markdown",
   "id": "cd9a399b",
   "metadata": {},
   "source": [
    "You can transpose your array with arr.transpose()."
   ]
  },
  {
   "cell_type": "code",
   "execution_count": 62,
   "id": "71dde734",
   "metadata": {},
   "outputs": [
    {
     "data": {
      "text/plain": [
       "array([[1, 3, 5],\n",
       "       [2, 4, 6]])"
      ]
     },
     "execution_count": 62,
     "metadata": {},
     "output_type": "execute_result"
    }
   ],
   "source": [
    "data.transpose()"
   ]
  },
  {
   "cell_type": "markdown",
   "id": "73add979",
   "metadata": {},
   "source": [
    "You can also use arr.T:"
   ]
  },
  {
   "cell_type": "code",
   "execution_count": 63,
   "id": "6ced59f7",
   "metadata": {},
   "outputs": [
    {
     "data": {
      "text/plain": [
       "array([[1, 3, 5],\n",
       "       [2, 4, 6]])"
      ]
     },
     "execution_count": 63,
     "metadata": {},
     "output_type": "execute_result"
    }
   ],
   "source": [
    "data.T"
   ]
  },
  {
   "cell_type": "markdown",
   "id": "f6bb9a2f",
   "metadata": {},
   "source": [
    "#   How to reverse an array"
   ]
  },
  {
   "cell_type": "markdown",
   "id": "6f66dd84",
   "metadata": {},
   "source": [
    "This section covers np.flip()"
   ]
  },
  {
   "cell_type": "code",
   "execution_count": 64,
   "id": "ac7dcd41",
   "metadata": {},
   "outputs": [],
   "source": [
    "arr = np.array([1, 2, 3, 4, 5, 6, 7, 8])"
   ]
  },
  {
   "cell_type": "code",
   "execution_count": 65,
   "id": "08f565d9",
   "metadata": {},
   "outputs": [],
   "source": [
    "reversed_arr = np.flip(arr)"
   ]
  },
  {
   "cell_type": "code",
   "execution_count": 66,
   "id": "67404e55",
   "metadata": {},
   "outputs": [
    {
     "name": "stdout",
     "output_type": "stream",
     "text": [
      "Reversed Array:  [8 7 6 5 4 3 2 1]\n"
     ]
    }
   ],
   "source": [
    "print('Reversed Array: ', reversed_arr)"
   ]
  },
  {
   "cell_type": "code",
   "execution_count": 67,
   "id": "bc7f9f7b",
   "metadata": {},
   "outputs": [],
   "source": [
    "arr_2d = np.array([[1, 2, 3, 4], [5, 6, 7, 8], [9, 10, 11, 12]])"
   ]
  },
  {
   "cell_type": "code",
   "execution_count": 68,
   "id": "c675bb73",
   "metadata": {},
   "outputs": [
    {
     "data": {
      "text/plain": [
       "array([[12, 11, 10,  9],\n",
       "       [ 8,  7,  6,  5],\n",
       "       [ 4,  3,  2,  1]])"
      ]
     },
     "execution_count": 68,
     "metadata": {},
     "output_type": "execute_result"
    }
   ],
   "source": [
    "np.flip(arr_2d)"
   ]
  },
  {
   "cell_type": "markdown",
   "id": "f296a640",
   "metadata": {},
   "source": [
    "#   How to save and load NumPy objects"
   ]
  },
  {
   "cell_type": "code",
   "execution_count": 69,
   "id": "a7790911",
   "metadata": {},
   "outputs": [],
   "source": [
    "a = np.array([1,2,3,4,5])"
   ]
  },
  {
   "cell_type": "markdown",
   "id": "fdb3018f",
   "metadata": {},
   "source": [
    "It’s easy to save and load an array with np.save()"
   ]
  },
  {
   "cell_type": "code",
   "execution_count": 70,
   "id": "fa86b9c3",
   "metadata": {},
   "outputs": [],
   "source": [
    "np.save('array_1',a)"
   ]
  },
  {
   "cell_type": "markdown",
   "id": "89f0cb6b",
   "metadata": {},
   "source": [
    "You can use np.load() to reconstruct your array"
   ]
  },
  {
   "cell_type": "code",
   "execution_count": 72,
   "id": "4f6d2229",
   "metadata": {},
   "outputs": [
    {
     "name": "stdout",
     "output_type": "stream",
     "text": [
      "[1 2 3 4 5]\n"
     ]
    }
   ],
   "source": [
    "b = np.load('array_1.npy')\n",
    "print(b)"
   ]
  },
  {
   "cell_type": "markdown",
   "id": "ea4d029a",
   "metadata": {},
   "source": [
    "You can save a NumPy array as a plain text file like a .csv or .txt file with np.savetxt"
   ]
  },
  {
   "cell_type": "code",
   "execution_count": 73,
   "id": "372d59f8",
   "metadata": {},
   "outputs": [],
   "source": [
    "array = np.array([1,2,3,4,5,6,7,8,9,10])"
   ]
  },
  {
   "cell_type": "code",
   "execution_count": 74,
   "id": "4476396b",
   "metadata": {},
   "outputs": [],
   "source": [
    "np.savetxt('array_2.csv', array)"
   ]
  },
  {
   "cell_type": "code",
   "execution_count": 75,
   "id": "3289f2ce",
   "metadata": {},
   "outputs": [
    {
     "name": "stdout",
     "output_type": "stream",
     "text": [
      "[ 1.  2.  3.  4.  5.  6.  7.  8.  9. 10.]\n"
     ]
    }
   ],
   "source": [
    "b = np.loadtxt('array_2.csv', delimiter=',')\n",
    "print(b)\n"
   ]
  },
  {
   "cell_type": "markdown",
   "id": "87ca5e36",
   "metadata": {},
   "source": [
    "How to convert the array into dataframe using pandas "
   ]
  },
  {
   "cell_type": "code",
   "execution_count": 77,
   "id": "838bb5d5",
   "metadata": {},
   "outputs": [],
   "source": [
    "array = np.random.rand(5,5)"
   ]
  },
  {
   "cell_type": "code",
   "execution_count": 78,
   "id": "b4cc586a",
   "metadata": {},
   "outputs": [
    {
     "data": {
      "text/plain": [
       "array([[0.24906524, 0.02492973, 0.42599389, 0.92753557, 0.63522695],\n",
       "       [0.86301567, 0.44632954, 0.09359148, 0.94031078, 0.91894926],\n",
       "       [0.63158171, 0.89243181, 0.00594524, 0.78863747, 0.72408685],\n",
       "       [0.74735849, 0.17213463, 0.13685128, 0.90333936, 0.33595771],\n",
       "       [0.60327615, 0.07952514, 0.98717019, 0.74977143, 0.42965127]])"
      ]
     },
     "execution_count": 78,
     "metadata": {},
     "output_type": "execute_result"
    }
   ],
   "source": [
    "array "
   ]
  },
  {
   "cell_type": "code",
   "execution_count": 85,
   "id": "f307fa7c",
   "metadata": {},
   "outputs": [],
   "source": [
    "import pandas as pd "
   ]
  },
  {
   "cell_type": "code",
   "execution_count": 81,
   "id": "3b73a021",
   "metadata": {},
   "outputs": [],
   "source": [
    "array_in_dataframe = pd.DataFrame(array)"
   ]
  },
  {
   "cell_type": "code",
   "execution_count": 82,
   "id": "720b82aa",
   "metadata": {},
   "outputs": [
    {
     "data": {
      "application/vnd.microsoft.datawrangler.viewer.v0+json": {
       "columns": [
        {
         "name": "index",
         "rawType": "int64",
         "type": "integer"
        },
        {
         "name": "0",
         "rawType": "float64",
         "type": "float"
        },
        {
         "name": "1",
         "rawType": "float64",
         "type": "float"
        },
        {
         "name": "2",
         "rawType": "float64",
         "type": "float"
        },
        {
         "name": "3",
         "rawType": "float64",
         "type": "float"
        },
        {
         "name": "4",
         "rawType": "float64",
         "type": "float"
        }
       ],
       "conversionMethod": "pd.DataFrame",
       "ref": "bd8fd7bc-874d-4127-bb1d-d3485d31b908",
       "rows": [
        [
         "0",
         "0.2490652410830364",
         "0.024929734629142275",
         "0.42599389378931574",
         "0.9275355666649945",
         "0.6352269545662255"
        ],
        [
         "1",
         "0.8630156732175743",
         "0.446329537617275",
         "0.09359147533345125",
         "0.9403107759030391",
         "0.9189492627578808"
        ],
        [
         "2",
         "0.6315817099542357",
         "0.8924318095941268",
         "0.005945238567734101",
         "0.78863747406463",
         "0.7240868531936772"
        ],
        [
         "3",
         "0.7473584916058057",
         "0.172134630189133",
         "0.13685127968556932",
         "0.903339357955159",
         "0.335957711661117"
        ],
        [
         "4",
         "0.6032761454612947",
         "0.0795251368288189",
         "0.9871701903544636",
         "0.7497714260342729",
         "0.4296512709033352"
        ]
       ],
       "shape": {
        "columns": 5,
        "rows": 5
       }
      },
      "text/html": [
       "<div>\n",
       "<style scoped>\n",
       "    .dataframe tbody tr th:only-of-type {\n",
       "        vertical-align: middle;\n",
       "    }\n",
       "\n",
       "    .dataframe tbody tr th {\n",
       "        vertical-align: top;\n",
       "    }\n",
       "\n",
       "    .dataframe thead th {\n",
       "        text-align: right;\n",
       "    }\n",
       "</style>\n",
       "<table border=\"1\" class=\"dataframe\">\n",
       "  <thead>\n",
       "    <tr style=\"text-align: right;\">\n",
       "      <th></th>\n",
       "      <th>0</th>\n",
       "      <th>1</th>\n",
       "      <th>2</th>\n",
       "      <th>3</th>\n",
       "      <th>4</th>\n",
       "    </tr>\n",
       "  </thead>\n",
       "  <tbody>\n",
       "    <tr>\n",
       "      <th>0</th>\n",
       "      <td>0.249065</td>\n",
       "      <td>0.024930</td>\n",
       "      <td>0.425994</td>\n",
       "      <td>0.927536</td>\n",
       "      <td>0.635227</td>\n",
       "    </tr>\n",
       "    <tr>\n",
       "      <th>1</th>\n",
       "      <td>0.863016</td>\n",
       "      <td>0.446330</td>\n",
       "      <td>0.093591</td>\n",
       "      <td>0.940311</td>\n",
       "      <td>0.918949</td>\n",
       "    </tr>\n",
       "    <tr>\n",
       "      <th>2</th>\n",
       "      <td>0.631582</td>\n",
       "      <td>0.892432</td>\n",
       "      <td>0.005945</td>\n",
       "      <td>0.788637</td>\n",
       "      <td>0.724087</td>\n",
       "    </tr>\n",
       "    <tr>\n",
       "      <th>3</th>\n",
       "      <td>0.747358</td>\n",
       "      <td>0.172135</td>\n",
       "      <td>0.136851</td>\n",
       "      <td>0.903339</td>\n",
       "      <td>0.335958</td>\n",
       "    </tr>\n",
       "    <tr>\n",
       "      <th>4</th>\n",
       "      <td>0.603276</td>\n",
       "      <td>0.079525</td>\n",
       "      <td>0.987170</td>\n",
       "      <td>0.749771</td>\n",
       "      <td>0.429651</td>\n",
       "    </tr>\n",
       "  </tbody>\n",
       "</table>\n",
       "</div>"
      ],
      "text/plain": [
       "          0         1         2         3         4\n",
       "0  0.249065  0.024930  0.425994  0.927536  0.635227\n",
       "1  0.863016  0.446330  0.093591  0.940311  0.918949\n",
       "2  0.631582  0.892432  0.005945  0.788637  0.724087\n",
       "3  0.747358  0.172135  0.136851  0.903339  0.335958\n",
       "4  0.603276  0.079525  0.987170  0.749771  0.429651"
      ]
     },
     "execution_count": 82,
     "metadata": {},
     "output_type": "execute_result"
    }
   ],
   "source": [
    "array_in_dataframe"
   ]
  },
  {
   "cell_type": "markdown",
   "id": "77758aa9",
   "metadata": {},
   "source": [
    "To save the dataframe in csv using to_csv() "
   ]
  },
  {
   "cell_type": "code",
   "execution_count": 89,
   "id": "853e6324",
   "metadata": {},
   "outputs": [],
   "source": [
    "a  =  array_in_dataframe.to_csv('dataframe')"
   ]
  },
  {
   "cell_type": "code",
   "execution_count": 90,
   "id": "f0b472c9",
   "metadata": {},
   "outputs": [
    {
     "data": {
      "application/vnd.microsoft.datawrangler.viewer.v0+json": {
       "columns": [
        {
         "name": "index",
         "rawType": "int64",
         "type": "integer"
        },
        {
         "name": "Unnamed: 0",
         "rawType": "int64",
         "type": "integer"
        },
        {
         "name": "0",
         "rawType": "float64",
         "type": "float"
        },
        {
         "name": "1",
         "rawType": "float64",
         "type": "float"
        },
        {
         "name": "2",
         "rawType": "float64",
         "type": "float"
        },
        {
         "name": "3",
         "rawType": "float64",
         "type": "float"
        },
        {
         "name": "4",
         "rawType": "float64",
         "type": "float"
        }
       ],
       "conversionMethod": "pd.DataFrame",
       "ref": "05f96585-b557-4c7f-8316-4cbc5446ee85",
       "rows": [
        [
         "0",
         "0",
         "0.2490652410830364",
         "0.0249297346291422",
         "0.4259938937893157",
         "0.9275355666649944",
         "0.6352269545662255"
        ],
        [
         "1",
         "1",
         "0.8630156732175743",
         "0.446329537617275",
         "0.0935914753334512",
         "0.9403107759030392",
         "0.9189492627578808"
        ],
        [
         "2",
         "2",
         "0.6315817099542357",
         "0.8924318095941268",
         "0.0059452385677341",
         "0.78863747406463",
         "0.7240868531936772"
        ],
        [
         "3",
         "3",
         "0.7473584916058057",
         "0.172134630189133",
         "0.1368512796855693",
         "0.903339357955159",
         "0.335957711661117"
        ],
        [
         "4",
         "4",
         "0.6032761454612947",
         "0.0795251368288189",
         "0.9871701903544636",
         "0.7497714260342729",
         "0.4296512709033352"
        ]
       ],
       "shape": {
        "columns": 6,
        "rows": 5
       }
      },
      "text/html": [
       "<div>\n",
       "<style scoped>\n",
       "    .dataframe tbody tr th:only-of-type {\n",
       "        vertical-align: middle;\n",
       "    }\n",
       "\n",
       "    .dataframe tbody tr th {\n",
       "        vertical-align: top;\n",
       "    }\n",
       "\n",
       "    .dataframe thead th {\n",
       "        text-align: right;\n",
       "    }\n",
       "</style>\n",
       "<table border=\"1\" class=\"dataframe\">\n",
       "  <thead>\n",
       "    <tr style=\"text-align: right;\">\n",
       "      <th></th>\n",
       "      <th>Unnamed: 0</th>\n",
       "      <th>0</th>\n",
       "      <th>1</th>\n",
       "      <th>2</th>\n",
       "      <th>3</th>\n",
       "      <th>4</th>\n",
       "    </tr>\n",
       "  </thead>\n",
       "  <tbody>\n",
       "    <tr>\n",
       "      <th>0</th>\n",
       "      <td>0</td>\n",
       "      <td>0.249065</td>\n",
       "      <td>0.024930</td>\n",
       "      <td>0.425994</td>\n",
       "      <td>0.927536</td>\n",
       "      <td>0.635227</td>\n",
       "    </tr>\n",
       "    <tr>\n",
       "      <th>1</th>\n",
       "      <td>1</td>\n",
       "      <td>0.863016</td>\n",
       "      <td>0.446330</td>\n",
       "      <td>0.093591</td>\n",
       "      <td>0.940311</td>\n",
       "      <td>0.918949</td>\n",
       "    </tr>\n",
       "    <tr>\n",
       "      <th>2</th>\n",
       "      <td>2</td>\n",
       "      <td>0.631582</td>\n",
       "      <td>0.892432</td>\n",
       "      <td>0.005945</td>\n",
       "      <td>0.788637</td>\n",
       "      <td>0.724087</td>\n",
       "    </tr>\n",
       "    <tr>\n",
       "      <th>3</th>\n",
       "      <td>3</td>\n",
       "      <td>0.747358</td>\n",
       "      <td>0.172135</td>\n",
       "      <td>0.136851</td>\n",
       "      <td>0.903339</td>\n",
       "      <td>0.335958</td>\n",
       "    </tr>\n",
       "    <tr>\n",
       "      <th>4</th>\n",
       "      <td>4</td>\n",
       "      <td>0.603276</td>\n",
       "      <td>0.079525</td>\n",
       "      <td>0.987170</td>\n",
       "      <td>0.749771</td>\n",
       "      <td>0.429651</td>\n",
       "    </tr>\n",
       "  </tbody>\n",
       "</table>\n",
       "</div>"
      ],
      "text/plain": [
       "   Unnamed: 0         0         1         2         3         4\n",
       "0           0  0.249065  0.024930  0.425994  0.927536  0.635227\n",
       "1           1  0.863016  0.446330  0.093591  0.940311  0.918949\n",
       "2           2  0.631582  0.892432  0.005945  0.788637  0.724087\n",
       "3           3  0.747358  0.172135  0.136851  0.903339  0.335958\n",
       "4           4  0.603276  0.079525  0.987170  0.749771  0.429651"
      ]
     },
     "execution_count": 90,
     "metadata": {},
     "output_type": "execute_result"
    }
   ],
   "source": [
    "b = pd.read_csv('dataframe')\n",
    "b"
   ]
  },
  {
   "cell_type": "code",
   "execution_count": null,
   "id": "3dcedad0",
   "metadata": {},
   "outputs": [],
   "source": []
  }
 ],
 "metadata": {
  "kernelspec": {
   "display_name": "Python 3",
   "language": "python",
   "name": "python3"
  },
  "language_info": {
   "codemirror_mode": {
    "name": "ipython",
    "version": 3
   },
   "file_extension": ".py",
   "mimetype": "text/x-python",
   "name": "python",
   "nbconvert_exporter": "python",
   "pygments_lexer": "ipython3",
   "version": "3.11.9"
  }
 },
 "nbformat": 4,
 "nbformat_minor": 5
}
