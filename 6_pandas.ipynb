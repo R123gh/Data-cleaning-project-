{
 "cells": [
  {
   "cell_type": "code",
   "execution_count": 2,
   "id": "fb0bb518",
   "metadata": {},
   "outputs": [],
   "source": [
    "import pandas as pd   \n",
    "import numpy as np "
   ]
  },
  {
   "cell_type": "markdown",
   "id": "26c88b38",
   "metadata": {},
   "source": [
    "#  get_dummies() "
   ]
  },
  {
   "cell_type": "code",
   "execution_count": 3,
   "id": "8530eb39",
   "metadata": {},
   "outputs": [
    {
     "data": {
      "application/vnd.microsoft.datawrangler.viewer.v0+json": {
       "columns": [
        {
         "name": "index",
         "rawType": "int64",
         "type": "integer"
        },
        {
         "name": "key",
         "rawType": "object",
         "type": "string"
        },
        {
         "name": "data1",
         "rawType": "int64",
         "type": "integer"
        }
       ],
       "conversionMethod": "pd.DataFrame",
       "ref": "5867dbcc-6e28-4f74-96c5-9d9202958964",
       "rows": [
        [
         "0",
         "b",
         "0"
        ],
        [
         "1",
         "b",
         "1"
        ],
        [
         "2",
         "a",
         "2"
        ],
        [
         "3",
         "c",
         "3"
        ],
        [
         "4",
         "a",
         "4"
        ],
        [
         "5",
         "b",
         "5"
        ]
       ],
       "shape": {
        "columns": 2,
        "rows": 6
       }
      },
      "text/html": [
       "<div>\n",
       "<style scoped>\n",
       "    .dataframe tbody tr th:only-of-type {\n",
       "        vertical-align: middle;\n",
       "    }\n",
       "\n",
       "    .dataframe tbody tr th {\n",
       "        vertical-align: top;\n",
       "    }\n",
       "\n",
       "    .dataframe thead th {\n",
       "        text-align: right;\n",
       "    }\n",
       "</style>\n",
       "<table border=\"1\" class=\"dataframe\">\n",
       "  <thead>\n",
       "    <tr style=\"text-align: right;\">\n",
       "      <th></th>\n",
       "      <th>key</th>\n",
       "      <th>data1</th>\n",
       "    </tr>\n",
       "  </thead>\n",
       "  <tbody>\n",
       "    <tr>\n",
       "      <th>0</th>\n",
       "      <td>b</td>\n",
       "      <td>0</td>\n",
       "    </tr>\n",
       "    <tr>\n",
       "      <th>1</th>\n",
       "      <td>b</td>\n",
       "      <td>1</td>\n",
       "    </tr>\n",
       "    <tr>\n",
       "      <th>2</th>\n",
       "      <td>a</td>\n",
       "      <td>2</td>\n",
       "    </tr>\n",
       "    <tr>\n",
       "      <th>3</th>\n",
       "      <td>c</td>\n",
       "      <td>3</td>\n",
       "    </tr>\n",
       "    <tr>\n",
       "      <th>4</th>\n",
       "      <td>a</td>\n",
       "      <td>4</td>\n",
       "    </tr>\n",
       "    <tr>\n",
       "      <th>5</th>\n",
       "      <td>b</td>\n",
       "      <td>5</td>\n",
       "    </tr>\n",
       "  </tbody>\n",
       "</table>\n",
       "</div>"
      ],
      "text/plain": [
       "  key  data1\n",
       "0   b      0\n",
       "1   b      1\n",
       "2   a      2\n",
       "3   c      3\n",
       "4   a      4\n",
       "5   b      5"
      ]
     },
     "execution_count": 3,
     "metadata": {},
     "output_type": "execute_result"
    }
   ],
   "source": [
    "df = pd.DataFrame({\"key\": list(\"bbacab\"), \"data1\": range(6)})\n",
    "df"
   ]
  },
  {
   "cell_type": "markdown",
   "id": "a980a13a",
   "metadata": {},
   "source": [
    "To convert categorical variables of a Series into a “dummy”"
   ]
  },
  {
   "cell_type": "code",
   "execution_count": 4,
   "id": "30662dc5",
   "metadata": {},
   "outputs": [
    {
     "data": {
      "application/vnd.microsoft.datawrangler.viewer.v0+json": {
       "columns": [
        {
         "name": "index",
         "rawType": "int64",
         "type": "integer"
        },
        {
         "name": "a",
         "rawType": "bool",
         "type": "boolean"
        },
        {
         "name": "b",
         "rawType": "bool",
         "type": "boolean"
        },
        {
         "name": "c",
         "rawType": "bool",
         "type": "boolean"
        }
       ],
       "conversionMethod": "pd.DataFrame",
       "ref": "5edf137b-c8c0-492c-9116-d4a5ab7e67b7",
       "rows": [
        [
         "0",
         "False",
         "True",
         "False"
        ],
        [
         "1",
         "False",
         "True",
         "False"
        ],
        [
         "2",
         "True",
         "False",
         "False"
        ],
        [
         "3",
         "False",
         "False",
         "True"
        ],
        [
         "4",
         "True",
         "False",
         "False"
        ],
        [
         "5",
         "False",
         "True",
         "False"
        ]
       ],
       "shape": {
        "columns": 3,
        "rows": 6
       }
      },
      "text/html": [
       "<div>\n",
       "<style scoped>\n",
       "    .dataframe tbody tr th:only-of-type {\n",
       "        vertical-align: middle;\n",
       "    }\n",
       "\n",
       "    .dataframe tbody tr th {\n",
       "        vertical-align: top;\n",
       "    }\n",
       "\n",
       "    .dataframe thead th {\n",
       "        text-align: right;\n",
       "    }\n",
       "</style>\n",
       "<table border=\"1\" class=\"dataframe\">\n",
       "  <thead>\n",
       "    <tr style=\"text-align: right;\">\n",
       "      <th></th>\n",
       "      <th>a</th>\n",
       "      <th>b</th>\n",
       "      <th>c</th>\n",
       "    </tr>\n",
       "  </thead>\n",
       "  <tbody>\n",
       "    <tr>\n",
       "      <th>0</th>\n",
       "      <td>False</td>\n",
       "      <td>True</td>\n",
       "      <td>False</td>\n",
       "    </tr>\n",
       "    <tr>\n",
       "      <th>1</th>\n",
       "      <td>False</td>\n",
       "      <td>True</td>\n",
       "      <td>False</td>\n",
       "    </tr>\n",
       "    <tr>\n",
       "      <th>2</th>\n",
       "      <td>True</td>\n",
       "      <td>False</td>\n",
       "      <td>False</td>\n",
       "    </tr>\n",
       "    <tr>\n",
       "      <th>3</th>\n",
       "      <td>False</td>\n",
       "      <td>False</td>\n",
       "      <td>True</td>\n",
       "    </tr>\n",
       "    <tr>\n",
       "      <th>4</th>\n",
       "      <td>True</td>\n",
       "      <td>False</td>\n",
       "      <td>False</td>\n",
       "    </tr>\n",
       "    <tr>\n",
       "      <th>5</th>\n",
       "      <td>False</td>\n",
       "      <td>True</td>\n",
       "      <td>False</td>\n",
       "    </tr>\n",
       "  </tbody>\n",
       "</table>\n",
       "</div>"
      ],
      "text/plain": [
       "       a      b      c\n",
       "0  False   True  False\n",
       "1  False   True  False\n",
       "2   True  False  False\n",
       "3  False  False   True\n",
       "4   True  False  False\n",
       "5  False   True  False"
      ]
     },
     "execution_count": 4,
     "metadata": {},
     "output_type": "execute_result"
    }
   ],
   "source": [
    "pd.get_dummies(df['key'])"
   ]
  },
  {
   "cell_type": "code",
   "execution_count": 5,
   "id": "32274b94",
   "metadata": {},
   "outputs": [
    {
     "data": {
      "application/vnd.microsoft.datawrangler.viewer.v0+json": {
       "columns": [
        {
         "name": "index",
         "rawType": "int64",
         "type": "integer"
        },
        {
         "name": "a",
         "rawType": "int64",
         "type": "integer"
        },
        {
         "name": "b",
         "rawType": "int64",
         "type": "integer"
        },
        {
         "name": "c",
         "rawType": "int64",
         "type": "integer"
        }
       ],
       "conversionMethod": "pd.DataFrame",
       "ref": "bcccbe4a-12bc-4481-aaac-d1cc19eaa3b1",
       "rows": [
        [
         "0",
         "0",
         "1",
         "0"
        ],
        [
         "1",
         "0",
         "1",
         "0"
        ],
        [
         "2",
         "1",
         "0",
         "0"
        ],
        [
         "3",
         "0",
         "0",
         "1"
        ],
        [
         "4",
         "1",
         "0",
         "0"
        ],
        [
         "5",
         "0",
         "1",
         "0"
        ]
       ],
       "shape": {
        "columns": 3,
        "rows": 6
       }
      },
      "text/html": [
       "<div>\n",
       "<style scoped>\n",
       "    .dataframe tbody tr th:only-of-type {\n",
       "        vertical-align: middle;\n",
       "    }\n",
       "\n",
       "    .dataframe tbody tr th {\n",
       "        vertical-align: top;\n",
       "    }\n",
       "\n",
       "    .dataframe thead th {\n",
       "        text-align: right;\n",
       "    }\n",
       "</style>\n",
       "<table border=\"1\" class=\"dataframe\">\n",
       "  <thead>\n",
       "    <tr style=\"text-align: right;\">\n",
       "      <th></th>\n",
       "      <th>a</th>\n",
       "      <th>b</th>\n",
       "      <th>c</th>\n",
       "    </tr>\n",
       "  </thead>\n",
       "  <tbody>\n",
       "    <tr>\n",
       "      <th>0</th>\n",
       "      <td>0</td>\n",
       "      <td>1</td>\n",
       "      <td>0</td>\n",
       "    </tr>\n",
       "    <tr>\n",
       "      <th>1</th>\n",
       "      <td>0</td>\n",
       "      <td>1</td>\n",
       "      <td>0</td>\n",
       "    </tr>\n",
       "    <tr>\n",
       "      <th>2</th>\n",
       "      <td>1</td>\n",
       "      <td>0</td>\n",
       "      <td>0</td>\n",
       "    </tr>\n",
       "    <tr>\n",
       "      <th>3</th>\n",
       "      <td>0</td>\n",
       "      <td>0</td>\n",
       "      <td>1</td>\n",
       "    </tr>\n",
       "    <tr>\n",
       "      <th>4</th>\n",
       "      <td>1</td>\n",
       "      <td>0</td>\n",
       "      <td>0</td>\n",
       "    </tr>\n",
       "    <tr>\n",
       "      <th>5</th>\n",
       "      <td>0</td>\n",
       "      <td>1</td>\n",
       "      <td>0</td>\n",
       "    </tr>\n",
       "  </tbody>\n",
       "</table>\n",
       "</div>"
      ],
      "text/plain": [
       "   a  b  c\n",
       "0  0  1  0\n",
       "1  0  1  0\n",
       "2  1  0  0\n",
       "3  0  0  1\n",
       "4  1  0  0\n",
       "5  0  1  0"
      ]
     },
     "execution_count": 5,
     "metadata": {},
     "output_type": "execute_result"
    }
   ],
   "source": [
    "df['key'].str.get_dummies()"
   ]
  },
  {
   "cell_type": "markdown",
   "id": "1dc861b4",
   "metadata": {},
   "source": [
    "prefix adds a prefix to the the column names which is useful for merging the result with the original"
   ]
  },
  {
   "cell_type": "code",
   "execution_count": 6,
   "id": "d7430d34",
   "metadata": {},
   "outputs": [
    {
     "data": {
      "application/vnd.microsoft.datawrangler.viewer.v0+json": {
       "columns": [
        {
         "name": "index",
         "rawType": "int64",
         "type": "integer"
        },
        {
         "name": "Raghav_a",
         "rawType": "bool",
         "type": "boolean"
        },
        {
         "name": "Raghav_b",
         "rawType": "bool",
         "type": "boolean"
        },
        {
         "name": "Raghav_c",
         "rawType": "bool",
         "type": "boolean"
        }
       ],
       "conversionMethod": "pd.DataFrame",
       "ref": "06b4d7c1-9534-414c-8e23-312f9a043c6e",
       "rows": [
        [
         "0",
         "False",
         "True",
         "False"
        ],
        [
         "1",
         "False",
         "True",
         "False"
        ],
        [
         "2",
         "True",
         "False",
         "False"
        ],
        [
         "3",
         "False",
         "False",
         "True"
        ],
        [
         "4",
         "True",
         "False",
         "False"
        ],
        [
         "5",
         "False",
         "True",
         "False"
        ]
       ],
       "shape": {
        "columns": 3,
        "rows": 6
       }
      },
      "text/html": [
       "<div>\n",
       "<style scoped>\n",
       "    .dataframe tbody tr th:only-of-type {\n",
       "        vertical-align: middle;\n",
       "    }\n",
       "\n",
       "    .dataframe tbody tr th {\n",
       "        vertical-align: top;\n",
       "    }\n",
       "\n",
       "    .dataframe thead th {\n",
       "        text-align: right;\n",
       "    }\n",
       "</style>\n",
       "<table border=\"1\" class=\"dataframe\">\n",
       "  <thead>\n",
       "    <tr style=\"text-align: right;\">\n",
       "      <th></th>\n",
       "      <th>Raghav_a</th>\n",
       "      <th>Raghav_b</th>\n",
       "      <th>Raghav_c</th>\n",
       "    </tr>\n",
       "  </thead>\n",
       "  <tbody>\n",
       "    <tr>\n",
       "      <th>0</th>\n",
       "      <td>False</td>\n",
       "      <td>True</td>\n",
       "      <td>False</td>\n",
       "    </tr>\n",
       "    <tr>\n",
       "      <th>1</th>\n",
       "      <td>False</td>\n",
       "      <td>True</td>\n",
       "      <td>False</td>\n",
       "    </tr>\n",
       "    <tr>\n",
       "      <th>2</th>\n",
       "      <td>True</td>\n",
       "      <td>False</td>\n",
       "      <td>False</td>\n",
       "    </tr>\n",
       "    <tr>\n",
       "      <th>3</th>\n",
       "      <td>False</td>\n",
       "      <td>False</td>\n",
       "      <td>True</td>\n",
       "    </tr>\n",
       "    <tr>\n",
       "      <th>4</th>\n",
       "      <td>True</td>\n",
       "      <td>False</td>\n",
       "      <td>False</td>\n",
       "    </tr>\n",
       "    <tr>\n",
       "      <th>5</th>\n",
       "      <td>False</td>\n",
       "      <td>True</td>\n",
       "      <td>False</td>\n",
       "    </tr>\n",
       "  </tbody>\n",
       "</table>\n",
       "</div>"
      ],
      "text/plain": [
       "   Raghav_a  Raghav_b  Raghav_c\n",
       "0     False      True     False\n",
       "1     False      True     False\n",
       "2      True     False     False\n",
       "3     False     False      True\n",
       "4      True     False     False\n",
       "5     False      True     False"
      ]
     },
     "execution_count": 6,
     "metadata": {},
     "output_type": "execute_result"
    }
   ],
   "source": [
    "dummies = pd.get_dummies(df['key'] , prefix=\"Raghav\")\n",
    "dummies"
   ]
  },
  {
   "cell_type": "markdown",
   "id": "a5d1ebc5",
   "metadata": {},
   "source": [
    "#  Working with text data"
   ]
  },
  {
   "cell_type": "code",
   "execution_count": 7,
   "id": "25005d94",
   "metadata": {},
   "outputs": [
    {
     "data": {
      "text/plain": [
       "0    a\n",
       "1    b\n",
       "2    c\n",
       "dtype: object"
      ]
     },
     "execution_count": 7,
     "metadata": {},
     "output_type": "execute_result"
    }
   ],
   "source": [
    "pd.Series([\"a\", \"b\", \"c\"])"
   ]
  },
  {
   "cell_type": "code",
   "execution_count": 8,
   "id": "420123d9",
   "metadata": {},
   "outputs": [
    {
     "data": {
      "text/plain": [
       "0    A\n",
       "1    B\n",
       "2    C\n",
       "dtype: string"
      ]
     },
     "execution_count": 8,
     "metadata": {},
     "output_type": "execute_result"
    }
   ],
   "source": [
    "pd.Series(['A','B','C'],dtype='string')"
   ]
  },
  {
   "cell_type": "markdown",
   "id": "f528c54b",
   "metadata": {},
   "source": [
    "Convert the integer series into string "
   ]
  },
  {
   "cell_type": "code",
   "execution_count": 9,
   "id": "9b6d13c4",
   "metadata": {},
   "outputs": [
    {
     "data": {
      "text/plain": [
       "0       1\n",
       "1       2\n",
       "2    <NA>\n",
       "dtype: Int64"
      ]
     },
     "execution_count": 9,
     "metadata": {},
     "output_type": "execute_result"
    }
   ],
   "source": [
    "s1 = pd.Series([1,2,np.nan], dtype=\"Int64\")\n",
    "s1"
   ]
  },
  {
   "cell_type": "code",
   "execution_count": 10,
   "id": "85324766",
   "metadata": {},
   "outputs": [
    {
     "data": {
      "text/plain": [
       "0       1\n",
       "1       2\n",
       "2    <NA>\n",
       "dtype: string"
      ]
     },
     "execution_count": 10,
     "metadata": {},
     "output_type": "execute_result"
    }
   ],
   "source": [
    "s2 = s1.astype('string')\n",
    "s2"
   ]
  },
  {
   "cell_type": "code",
   "execution_count": 11,
   "id": "f7174a29",
   "metadata": {},
   "outputs": [
    {
     "data": {
      "text/plain": [
       "0       a\n",
       "1    <NA>\n",
       "2       b\n",
       "dtype: string"
      ]
     },
     "execution_count": 11,
     "metadata": {},
     "output_type": "execute_result"
    }
   ],
   "source": [
    "s = pd.Series([\"a\", None, \"b\"], dtype=\"string\")\n",
    "s"
   ]
  },
  {
   "cell_type": "code",
   "execution_count": 12,
   "id": "3f6386a4",
   "metadata": {},
   "outputs": [
    {
     "data": {
      "text/plain": [
       "0       1\n",
       "1    <NA>\n",
       "2       0\n",
       "dtype: Int64"
      ]
     },
     "execution_count": 12,
     "metadata": {},
     "output_type": "execute_result"
    }
   ],
   "source": [
    "s.str.count(\"a\")"
   ]
  },
  {
   "cell_type": "code",
   "execution_count": 13,
   "id": "ca8dca00",
   "metadata": {},
   "outputs": [
    {
     "data": {
      "text/plain": [
       "0    1\n",
       "2    0\n",
       "dtype: Int64"
      ]
     },
     "execution_count": 13,
     "metadata": {},
     "output_type": "execute_result"
    }
   ],
   "source": [
    "s.dropna().str.count(\"a\")"
   ]
  },
  {
   "cell_type": "markdown",
   "id": "eea1fdfe",
   "metadata": {},
   "source": [
    "# String methods"
   ]
  },
  {
   "cell_type": "code",
   "execution_count": 14,
   "id": "eca017ec",
   "metadata": {},
   "outputs": [
    {
     "data": {
      "text/plain": [
       "0       A\n",
       "1       B\n",
       "2       C\n",
       "3    Aaba\n",
       "4    Baca\n",
       "5    <NA>\n",
       "6    CABA\n",
       "7     dog\n",
       "8     cat\n",
       "dtype: string"
      ]
     },
     "execution_count": 14,
     "metadata": {},
     "output_type": "execute_result"
    }
   ],
   "source": [
    "s = pd.Series(\n",
    "    [\"A\", \"B\", \"C\", \"Aaba\", \"Baca\", np.nan, \"CABA\", \"dog\", \"cat\"], dtype=\"string\"\n",
    ")\n",
    "\n",
    "s"
   ]
  },
  {
   "cell_type": "markdown",
   "id": "6047a74f",
   "metadata": {},
   "source": [
    "To convert the string into lower case "
   ]
  },
  {
   "cell_type": "code",
   "execution_count": 15,
   "id": "dcab7d99",
   "metadata": {},
   "outputs": [
    {
     "data": {
      "text/plain": [
       "0       a\n",
       "1       b\n",
       "2       c\n",
       "3    aaba\n",
       "4    baca\n",
       "5    <NA>\n",
       "6    caba\n",
       "7     dog\n",
       "8     cat\n",
       "dtype: string"
      ]
     },
     "execution_count": 15,
     "metadata": {},
     "output_type": "execute_result"
    }
   ],
   "source": [
    "s.str.lower()"
   ]
  },
  {
   "cell_type": "markdown",
   "id": "03784ef6",
   "metadata": {},
   "source": [
    "To convert upper case "
   ]
  },
  {
   "cell_type": "code",
   "execution_count": 16,
   "id": "176f0a18",
   "metadata": {},
   "outputs": [
    {
     "data": {
      "text/plain": [
       "0       A\n",
       "1       B\n",
       "2       C\n",
       "3    AABA\n",
       "4    BACA\n",
       "5    <NA>\n",
       "6    CABA\n",
       "7     DOG\n",
       "8     CAT\n",
       "dtype: string"
      ]
     },
     "execution_count": 16,
     "metadata": {},
     "output_type": "execute_result"
    }
   ],
   "source": [
    "s.str.upper()"
   ]
  },
  {
   "cell_type": "markdown",
   "id": "4e937848",
   "metadata": {},
   "source": [
    " length of string "
   ]
  },
  {
   "cell_type": "code",
   "execution_count": 17,
   "id": "be730b0f",
   "metadata": {},
   "outputs": [
    {
     "data": {
      "text/plain": [
       "0       1\n",
       "1       1\n",
       "2       1\n",
       "3       4\n",
       "4       4\n",
       "5    <NA>\n",
       "6       4\n",
       "7       3\n",
       "8       3\n",
       "dtype: Int64"
      ]
     },
     "execution_count": 17,
     "metadata": {},
     "output_type": "execute_result"
    }
   ],
   "source": [
    "s.str.len()"
   ]
  },
  {
   "cell_type": "markdown",
   "id": "d1129207",
   "metadata": {},
   "source": [
    "# Splitting and replacing strings"
   ]
  },
  {
   "cell_type": "code",
   "execution_count": 18,
   "id": "d91d6fe4",
   "metadata": {},
   "outputs": [
    {
     "data": {
      "text/plain": [
       "0          a_b_c\n",
       "1          c_d_e\n",
       "2           <NA>\n",
       "3    r_a_g_h_a_v\n",
       "dtype: string"
      ]
     },
     "execution_count": 18,
     "metadata": {},
     "output_type": "execute_result"
    }
   ],
   "source": [
    "s2 = pd.Series([\"a_b_c\", \"c_d_e\", np.nan, \"r_a_g_h_a_v\"], dtype=\"string\")\n",
    "s2"
   ]
  },
  {
   "cell_type": "code",
   "execution_count": 19,
   "id": "12fac872",
   "metadata": {},
   "outputs": [
    {
     "data": {
      "text/plain": [
       "0             [a, b, c]\n",
       "1             [c, d, e]\n",
       "2                  <NA>\n",
       "3    [r, a, g, h, a, v]\n",
       "dtype: object"
      ]
     },
     "execution_count": 19,
     "metadata": {},
     "output_type": "execute_result"
    }
   ],
   "source": [
    "s2.str.split(\"_\")"
   ]
  },
  {
   "cell_type": "markdown",
   "id": "ee77a84f",
   "metadata": {},
   "source": [
    "Elements in the split lists can be accessed using get or [] notation:"
   ]
  },
  {
   "cell_type": "code",
   "execution_count": 20,
   "id": "39512c0a",
   "metadata": {},
   "outputs": [
    {
     "data": {
      "text/plain": [
       "['c', 'd', 'e']"
      ]
     },
     "execution_count": 20,
     "metadata": {},
     "output_type": "execute_result"
    }
   ],
   "source": [
    "s2.str.split(\"_\").get(1)"
   ]
  },
  {
   "cell_type": "code",
   "execution_count": 21,
   "id": "ccb0bcad",
   "metadata": {},
   "outputs": [
    {
     "data": {
      "text/plain": [
       "0       c\n",
       "1       e\n",
       "2    <NA>\n",
       "3       g\n",
       "dtype: object"
      ]
     },
     "execution_count": 21,
     "metadata": {},
     "output_type": "execute_result"
    }
   ],
   "source": [
    "s2.str.split(\"_\").str[2]"
   ]
  },
  {
   "cell_type": "markdown",
   "id": "21978e85",
   "metadata": {},
   "source": [
    "It is easy to expand this to return a DataFrame using expand"
   ]
  },
  {
   "cell_type": "code",
   "execution_count": 22,
   "id": "8a55464f",
   "metadata": {},
   "outputs": [
    {
     "data": {
      "application/vnd.microsoft.datawrangler.viewer.v0+json": {
       "columns": [
        {
         "name": "index",
         "rawType": "int64",
         "type": "integer"
        },
        {
         "name": "0",
         "rawType": "string",
         "type": "string"
        },
        {
         "name": "1",
         "rawType": "string",
         "type": "string"
        },
        {
         "name": "2",
         "rawType": "string",
         "type": "string"
        },
        {
         "name": "3",
         "rawType": "string",
         "type": "string"
        },
        {
         "name": "4",
         "rawType": "string",
         "type": "string"
        },
        {
         "name": "5",
         "rawType": "string",
         "type": "string"
        }
       ],
       "conversionMethod": "pd.DataFrame",
       "ref": "4c2b8229-0e8f-4167-a807-0547faf9081e",
       "rows": [
        [
         "0",
         "a",
         "b",
         "c",
         null,
         null,
         null
        ],
        [
         "1",
         "c",
         "d",
         "e",
         null,
         null,
         null
        ],
        [
         "2",
         null,
         null,
         null,
         null,
         null,
         null
        ],
        [
         "3",
         "r",
         "a",
         "g",
         "h",
         "a",
         "v"
        ]
       ],
       "shape": {
        "columns": 6,
        "rows": 4
       }
      },
      "text/html": [
       "<div>\n",
       "<style scoped>\n",
       "    .dataframe tbody tr th:only-of-type {\n",
       "        vertical-align: middle;\n",
       "    }\n",
       "\n",
       "    .dataframe tbody tr th {\n",
       "        vertical-align: top;\n",
       "    }\n",
       "\n",
       "    .dataframe thead th {\n",
       "        text-align: right;\n",
       "    }\n",
       "</style>\n",
       "<table border=\"1\" class=\"dataframe\">\n",
       "  <thead>\n",
       "    <tr style=\"text-align: right;\">\n",
       "      <th></th>\n",
       "      <th>0</th>\n",
       "      <th>1</th>\n",
       "      <th>2</th>\n",
       "      <th>3</th>\n",
       "      <th>4</th>\n",
       "      <th>5</th>\n",
       "    </tr>\n",
       "  </thead>\n",
       "  <tbody>\n",
       "    <tr>\n",
       "      <th>0</th>\n",
       "      <td>a</td>\n",
       "      <td>b</td>\n",
       "      <td>c</td>\n",
       "      <td>&lt;NA&gt;</td>\n",
       "      <td>&lt;NA&gt;</td>\n",
       "      <td>&lt;NA&gt;</td>\n",
       "    </tr>\n",
       "    <tr>\n",
       "      <th>1</th>\n",
       "      <td>c</td>\n",
       "      <td>d</td>\n",
       "      <td>e</td>\n",
       "      <td>&lt;NA&gt;</td>\n",
       "      <td>&lt;NA&gt;</td>\n",
       "      <td>&lt;NA&gt;</td>\n",
       "    </tr>\n",
       "    <tr>\n",
       "      <th>2</th>\n",
       "      <td>&lt;NA&gt;</td>\n",
       "      <td>&lt;NA&gt;</td>\n",
       "      <td>&lt;NA&gt;</td>\n",
       "      <td>&lt;NA&gt;</td>\n",
       "      <td>&lt;NA&gt;</td>\n",
       "      <td>&lt;NA&gt;</td>\n",
       "    </tr>\n",
       "    <tr>\n",
       "      <th>3</th>\n",
       "      <td>r</td>\n",
       "      <td>a</td>\n",
       "      <td>g</td>\n",
       "      <td>h</td>\n",
       "      <td>a</td>\n",
       "      <td>v</td>\n",
       "    </tr>\n",
       "  </tbody>\n",
       "</table>\n",
       "</div>"
      ],
      "text/plain": [
       "      0     1     2     3     4     5\n",
       "0     a     b     c  <NA>  <NA>  <NA>\n",
       "1     c     d     e  <NA>  <NA>  <NA>\n",
       "2  <NA>  <NA>  <NA>  <NA>  <NA>  <NA>\n",
       "3     r     a     g     h     a     v"
      ]
     },
     "execution_count": 22,
     "metadata": {},
     "output_type": "execute_result"
    }
   ],
   "source": [
    "s2.str.split(\"_\", expand=True)"
   ]
  },
  {
   "cell_type": "markdown",
   "id": "be1a0ffc",
   "metadata": {},
   "source": [
    "replace optionally uses regular expressions:"
   ]
  },
  {
   "cell_type": "code",
   "execution_count": 23,
   "id": "4d374557",
   "metadata": {},
   "outputs": [
    {
     "data": {
      "text/plain": [
       "0       A\n",
       "1       B\n",
       "2       C\n",
       "3    Aaba\n",
       "4    Baca\n",
       "5        \n",
       "6    <NA>\n",
       "7    CABA\n",
       "8     dog\n",
       "9     cat\n",
       "dtype: string"
      ]
     },
     "execution_count": 23,
     "metadata": {},
     "output_type": "execute_result"
    }
   ],
   "source": [
    "s3 = pd.Series(\n",
    "    [\"A\", \"B\", \"C\", \"Aaba\", \"Baca\", \"\", np.nan, \"CABA\", \"dog\", \"cat\"],\n",
    "    dtype=\"string\",\n",
    ")\n",
    "s3"
   ]
  },
  {
   "cell_type": "code",
   "execution_count": 24,
   "id": "0ada411d",
   "metadata": {},
   "outputs": [
    {
     "data": {
      "text/plain": [
       "0       A\n",
       "1       B\n",
       "2       C\n",
       "3     Rba\n",
       "4     Rca\n",
       "5        \n",
       "6    <NA>\n",
       "7     RBA\n",
       "8       R\n",
       "9      Rt\n",
       "dtype: string"
      ]
     },
     "execution_count": 24,
     "metadata": {},
     "output_type": "execute_result"
    }
   ],
   "source": [
    "s3.str.replace(\"^.a|dog\",\"R\",case=False ,regex=True)"
   ]
  },
  {
   "cell_type": "markdown",
   "id": "075745dd",
   "metadata": {},
   "source": [
    "#  Concatenation"
   ]
  },
  {
   "cell_type": "markdown",
   "id": "33b19c0e",
   "metadata": {},
   "source": [
    "Concatenating a single Series into a string"
   ]
  },
  {
   "cell_type": "code",
   "execution_count": 25,
   "id": "0a05f3e5",
   "metadata": {},
   "outputs": [
    {
     "data": {
      "text/plain": [
       "'a , b , c , d'"
      ]
     },
     "execution_count": 25,
     "metadata": {},
     "output_type": "execute_result"
    }
   ],
   "source": [
    "s = pd.Series([\"a\", \"b\", \"c\", \"d\"], dtype=\"string\")\n",
    "s.str.cat(sep=\" , \")\n"
   ]
  },
  {
   "cell_type": "code",
   "execution_count": 26,
   "id": "f8720bba",
   "metadata": {},
   "outputs": [
    {
     "data": {
      "text/plain": [
       "'abcd'"
      ]
     },
     "execution_count": 26,
     "metadata": {},
     "output_type": "execute_result"
    }
   ],
   "source": [
    "s.str.cat()"
   ]
  },
  {
   "cell_type": "markdown",
   "id": "03ed8421",
   "metadata": {},
   "source": [
    "By default, missing values are ignored. Using na_rep, they can be given a representation"
   ]
  },
  {
   "cell_type": "code",
   "execution_count": 27,
   "id": "a35cb656",
   "metadata": {},
   "outputs": [
    {
     "data": {
      "text/plain": [
       "0       a\n",
       "1       b\n",
       "2    <NA>\n",
       "3       d\n",
       "dtype: string"
      ]
     },
     "execution_count": 27,
     "metadata": {},
     "output_type": "execute_result"
    }
   ],
   "source": [
    "t = pd.Series([\"a\", \"b\", np.nan, \"d\"], dtype=\"string\")\n",
    "t"
   ]
  },
  {
   "cell_type": "code",
   "execution_count": 28,
   "id": "e2ddfc5c",
   "metadata": {},
   "outputs": [
    {
     "data": {
      "text/plain": [
       "'a,b,d'"
      ]
     },
     "execution_count": 28,
     "metadata": {},
     "output_type": "execute_result"
    }
   ],
   "source": [
    "\n",
    "t.str.cat(sep=\",\")\n"
   ]
  },
  {
   "cell_type": "code",
   "execution_count": 29,
   "id": "6c7c909b",
   "metadata": {},
   "outputs": [
    {
     "data": {
      "text/plain": [
       "'a,b,-,d'"
      ]
     },
     "execution_count": 29,
     "metadata": {},
     "output_type": "execute_result"
    }
   ],
   "source": [
    "t.str.cat(sep=\",\", na_rep=\"-\")"
   ]
  },
  {
   "cell_type": "markdown",
   "id": "1ae966eb",
   "metadata": {},
   "source": [
    "# Concatenating a Series and something list-like into a Series"
   ]
  },
  {
   "cell_type": "code",
   "execution_count": 30,
   "id": "a9deaf0f",
   "metadata": {},
   "outputs": [
    {
     "data": {
      "text/plain": [
       "0    a\n",
       "1    b\n",
       "2    c\n",
       "3    d\n",
       "dtype: string"
      ]
     },
     "execution_count": 30,
     "metadata": {},
     "output_type": "execute_result"
    }
   ],
   "source": [
    "s"
   ]
  },
  {
   "cell_type": "code",
   "execution_count": 31,
   "id": "62d517d0",
   "metadata": {},
   "outputs": [
    {
     "data": {
      "text/plain": [
       "0    aA\n",
       "1    bB\n",
       "2    cC\n",
       "3    dD\n",
       "dtype: string"
      ]
     },
     "execution_count": 31,
     "metadata": {},
     "output_type": "execute_result"
    }
   ],
   "source": [
    "s.str.cat(['A','B','C','D'])"
   ]
  },
  {
   "cell_type": "code",
   "execution_count": 32,
   "id": "00287877",
   "metadata": {},
   "outputs": [
    {
     "data": {
      "text/plain": [
       "(0       a\n",
       " 1       b\n",
       " 2    <NA>\n",
       " 3       d\n",
       " dtype: string,\n",
       " 0    a\n",
       " 1    b\n",
       " 2    c\n",
       " 3    d\n",
       " dtype: string)"
      ]
     },
     "execution_count": 32,
     "metadata": {},
     "output_type": "execute_result"
    }
   ],
   "source": [
    "t,s"
   ]
  },
  {
   "cell_type": "markdown",
   "id": "dd019c9d",
   "metadata": {},
   "source": [
    "Concatenating a Series and something array-like into a Series"
   ]
  },
  {
   "cell_type": "code",
   "execution_count": 33,
   "id": "391ec575",
   "metadata": {},
   "outputs": [
    {
     "data": {
      "application/vnd.microsoft.datawrangler.viewer.v0+json": {
       "columns": [
        {
         "name": "index",
         "rawType": "int64",
         "type": "integer"
        },
        {
         "name": "0",
         "rawType": "string",
         "type": "string"
        },
        {
         "name": "1",
         "rawType": "string",
         "type": "string"
        }
       ],
       "conversionMethod": "pd.DataFrame",
       "ref": "a72e7154-b016-4382-a006-c914ff3c4288",
       "rows": [
        [
         "0",
         "a",
         "a"
        ],
        [
         "1",
         "b",
         "b"
        ],
        [
         "2",
         null,
         "c"
        ],
        [
         "3",
         "d",
         "d"
        ]
       ],
       "shape": {
        "columns": 2,
        "rows": 4
       }
      },
      "text/html": [
       "<div>\n",
       "<style scoped>\n",
       "    .dataframe tbody tr th:only-of-type {\n",
       "        vertical-align: middle;\n",
       "    }\n",
       "\n",
       "    .dataframe tbody tr th {\n",
       "        vertical-align: top;\n",
       "    }\n",
       "\n",
       "    .dataframe thead th {\n",
       "        text-align: right;\n",
       "    }\n",
       "</style>\n",
       "<table border=\"1\" class=\"dataframe\">\n",
       "  <thead>\n",
       "    <tr style=\"text-align: right;\">\n",
       "      <th></th>\n",
       "      <th>0</th>\n",
       "      <th>1</th>\n",
       "    </tr>\n",
       "  </thead>\n",
       "  <tbody>\n",
       "    <tr>\n",
       "      <th>0</th>\n",
       "      <td>a</td>\n",
       "      <td>a</td>\n",
       "    </tr>\n",
       "    <tr>\n",
       "      <th>1</th>\n",
       "      <td>b</td>\n",
       "      <td>b</td>\n",
       "    </tr>\n",
       "    <tr>\n",
       "      <th>2</th>\n",
       "      <td>&lt;NA&gt;</td>\n",
       "      <td>c</td>\n",
       "    </tr>\n",
       "    <tr>\n",
       "      <th>3</th>\n",
       "      <td>d</td>\n",
       "      <td>d</td>\n",
       "    </tr>\n",
       "  </tbody>\n",
       "</table>\n",
       "</div>"
      ],
      "text/plain": [
       "      0  1\n",
       "0     a  a\n",
       "1     b  b\n",
       "2  <NA>  c\n",
       "3     d  d"
      ]
     },
     "execution_count": 33,
     "metadata": {},
     "output_type": "execute_result"
    }
   ],
   "source": [
    "d = pd.concat([t,s ], axis=1)\n",
    "d"
   ]
  },
  {
   "cell_type": "code",
   "execution_count": 34,
   "id": "d0795505",
   "metadata": {},
   "outputs": [
    {
     "data": {
      "text/plain": [
       "0    aaa\n",
       "1    bbb\n",
       "2    c_c\n",
       "3    ddd\n",
       "dtype: string"
      ]
     },
     "execution_count": 34,
     "metadata": {},
     "output_type": "execute_result"
    }
   ],
   "source": [
    "s.str.cat(d , na_rep='_')"
   ]
  },
  {
   "cell_type": "markdown",
   "id": "13d440ee",
   "metadata": {},
   "source": [
    "# Extract all matches in each subject (extractall)"
   ]
  },
  {
   "cell_type": "code",
   "execution_count": 35,
   "id": "64ed5dfa",
   "metadata": {},
   "outputs": [
    {
     "data": {
      "text/plain": [
       "A    a1a2\n",
       "B      b1\n",
       "C      c1\n",
       "dtype: string"
      ]
     },
     "execution_count": 35,
     "metadata": {},
     "output_type": "execute_result"
    }
   ],
   "source": [
    "s = pd.Series([\"a1a2\", \"b1\", \"c1\"], index=[\"A\", \"B\", \"C\"], dtype=\"string\") \n",
    "s\n"
   ]
  },
  {
   "cell_type": "code",
   "execution_count": 36,
   "id": "06fd2e41",
   "metadata": {},
   "outputs": [],
   "source": [
    "two_groups = \"(?P<letter>[a-z])(?P<digit>[0-9])\"\n"
   ]
  },
  {
   "cell_type": "code",
   "execution_count": 37,
   "id": "07eb8e04",
   "metadata": {},
   "outputs": [
    {
     "data": {
      "application/vnd.microsoft.datawrangler.viewer.v0+json": {
       "columns": [
        {
         "name": "index",
         "rawType": "object",
         "type": "string"
        },
        {
         "name": "letter",
         "rawType": "string",
         "type": "string"
        },
        {
         "name": "digit",
         "rawType": "string",
         "type": "string"
        }
       ],
       "conversionMethod": "pd.DataFrame",
       "ref": "7877886d-c71d-4515-93ec-aade68cb40a2",
       "rows": [
        [
         "A",
         "a",
         "1"
        ],
        [
         "B",
         "b",
         "1"
        ],
        [
         "C",
         "c",
         "1"
        ]
       ],
       "shape": {
        "columns": 2,
        "rows": 3
       }
      },
      "text/html": [
       "<div>\n",
       "<style scoped>\n",
       "    .dataframe tbody tr th:only-of-type {\n",
       "        vertical-align: middle;\n",
       "    }\n",
       "\n",
       "    .dataframe tbody tr th {\n",
       "        vertical-align: top;\n",
       "    }\n",
       "\n",
       "    .dataframe thead th {\n",
       "        text-align: right;\n",
       "    }\n",
       "</style>\n",
       "<table border=\"1\" class=\"dataframe\">\n",
       "  <thead>\n",
       "    <tr style=\"text-align: right;\">\n",
       "      <th></th>\n",
       "      <th>letter</th>\n",
       "      <th>digit</th>\n",
       "    </tr>\n",
       "  </thead>\n",
       "  <tbody>\n",
       "    <tr>\n",
       "      <th>A</th>\n",
       "      <td>a</td>\n",
       "      <td>1</td>\n",
       "    </tr>\n",
       "    <tr>\n",
       "      <th>B</th>\n",
       "      <td>b</td>\n",
       "      <td>1</td>\n",
       "    </tr>\n",
       "    <tr>\n",
       "      <th>C</th>\n",
       "      <td>c</td>\n",
       "      <td>1</td>\n",
       "    </tr>\n",
       "  </tbody>\n",
       "</table>\n",
       "</div>"
      ],
      "text/plain": [
       "  letter digit\n",
       "A      a     1\n",
       "B      b     1\n",
       "C      c     1"
      ]
     },
     "execution_count": 37,
     "metadata": {},
     "output_type": "execute_result"
    }
   ],
   "source": [
    "s.str.extract(two_groups, expand=True)"
   ]
  },
  {
   "cell_type": "code",
   "execution_count": 38,
   "id": "d58cd66e",
   "metadata": {},
   "outputs": [
    {
     "data": {
      "application/vnd.microsoft.datawrangler.viewer.v0+json": {
       "columns": [
        {
         "name": "(None, 'match')",
         "rawType": "object",
         "type": "unknown"
        },
        {
         "name": "letter",
         "rawType": "string",
         "type": "string"
        },
        {
         "name": "digit",
         "rawType": "string",
         "type": "string"
        }
       ],
       "conversionMethod": "pd.DataFrame",
       "ref": "7f975dbe-ce9a-4bae-8bb6-32b51a1bbe02",
       "rows": [
        [
         "('A', np.int64(0))",
         "a",
         "1"
        ],
        [
         "('A', np.int64(1))",
         "a",
         "2"
        ],
        [
         "('B', np.int64(0))",
         "b",
         "1"
        ],
        [
         "('C', np.int64(0))",
         "c",
         "1"
        ]
       ],
       "shape": {
        "columns": 2,
        "rows": 4
       }
      },
      "text/html": [
       "<div>\n",
       "<style scoped>\n",
       "    .dataframe tbody tr th:only-of-type {\n",
       "        vertical-align: middle;\n",
       "    }\n",
       "\n",
       "    .dataframe tbody tr th {\n",
       "        vertical-align: top;\n",
       "    }\n",
       "\n",
       "    .dataframe thead th {\n",
       "        text-align: right;\n",
       "    }\n",
       "</style>\n",
       "<table border=\"1\" class=\"dataframe\">\n",
       "  <thead>\n",
       "    <tr style=\"text-align: right;\">\n",
       "      <th></th>\n",
       "      <th></th>\n",
       "      <th>letter</th>\n",
       "      <th>digit</th>\n",
       "    </tr>\n",
       "    <tr>\n",
       "      <th></th>\n",
       "      <th>match</th>\n",
       "      <th></th>\n",
       "      <th></th>\n",
       "    </tr>\n",
       "  </thead>\n",
       "  <tbody>\n",
       "    <tr>\n",
       "      <th rowspan=\"2\" valign=\"top\">A</th>\n",
       "      <th>0</th>\n",
       "      <td>a</td>\n",
       "      <td>1</td>\n",
       "    </tr>\n",
       "    <tr>\n",
       "      <th>1</th>\n",
       "      <td>a</td>\n",
       "      <td>2</td>\n",
       "    </tr>\n",
       "    <tr>\n",
       "      <th>B</th>\n",
       "      <th>0</th>\n",
       "      <td>b</td>\n",
       "      <td>1</td>\n",
       "    </tr>\n",
       "    <tr>\n",
       "      <th>C</th>\n",
       "      <th>0</th>\n",
       "      <td>c</td>\n",
       "      <td>1</td>\n",
       "    </tr>\n",
       "  </tbody>\n",
       "</table>\n",
       "</div>"
      ],
      "text/plain": [
       "        letter digit\n",
       "  match             \n",
       "A 0          a     1\n",
       "  1          a     2\n",
       "B 0          b     1\n",
       "C 0          c     1"
      ]
     },
     "execution_count": 38,
     "metadata": {},
     "output_type": "execute_result"
    }
   ],
   "source": [
    "s.str.extractall(two_groups)"
   ]
  },
  {
   "cell_type": "markdown",
   "id": "bc931b9a",
   "metadata": {},
   "source": [
    "#  Testing for strings that match or contain a pattern"
   ]
  },
  {
   "cell_type": "code",
   "execution_count": 39,
   "id": "6169f491",
   "metadata": {},
   "outputs": [],
   "source": [
    "pattern = r\"[0-9][a-z]\""
   ]
  },
  {
   "cell_type": "code",
   "execution_count": 40,
   "id": "22bd3fd3",
   "metadata": {},
   "outputs": [
    {
     "data": {
      "text/plain": [
       "0    False\n",
       "1    False\n",
       "2     True\n",
       "3     True\n",
       "4     True\n",
       "5     True\n",
       "dtype: boolean"
      ]
     },
     "execution_count": 40,
     "metadata": {},
     "output_type": "execute_result"
    }
   ],
   "source": [
    "pd.Series(\n",
    "    [\"1\", \"2\", \"3a\", \"3b\", \"03c\", \"4dx\"],\n",
    "    dtype=\"string\",\n",
    ").str.contains(pattern)"
   ]
  },
  {
   "cell_type": "code",
   "execution_count": 41,
   "id": "3625dce4",
   "metadata": {},
   "outputs": [
    {
     "data": {
      "text/plain": [
       "0    False\n",
       "1    False\n",
       "2     True\n",
       "3     True\n",
       "4    False\n",
       "5    False\n",
       "dtype: boolean"
      ]
     },
     "execution_count": 41,
     "metadata": {},
     "output_type": "execute_result"
    }
   ],
   "source": [
    "pd.Series(\n",
    "    [\"1\", \"2\", \"3a\", \"3b\", \"03c\", \"4dx\"],\n",
    "    dtype=\"string\",\n",
    ").str.fullmatch(pattern)"
   ]
  },
  {
   "cell_type": "markdown",
   "id": "8d1b261a",
   "metadata": {},
   "source": [
    "# Working with missing data"
   ]
  },
  {
   "cell_type": "code",
   "execution_count": 42,
   "id": "9c6c8c70",
   "metadata": {},
   "outputs": [
    {
     "data": {
      "text/plain": [
       "0    1.0\n",
       "1    2.0\n",
       "2    NaN\n",
       "dtype: float64"
      ]
     },
     "execution_count": 42,
     "metadata": {},
     "output_type": "execute_result"
    }
   ],
   "source": [
    "pd.Series([1, 2], dtype=np.int64).reindex([0, 1, 2])"
   ]
  },
  {
   "cell_type": "code",
   "execution_count": 43,
   "id": "5bcbc178",
   "metadata": {},
   "outputs": [
    {
     "data": {
      "text/plain": [
       "0     True\n",
       "1    False\n",
       "2      NaN\n",
       "dtype: object"
      ]
     },
     "execution_count": 43,
     "metadata": {},
     "output_type": "execute_result"
    }
   ],
   "source": [
    "pd.Series([True, False], dtype=np.bool_).reindex([0, 1, 2])"
   ]
  },
  {
   "cell_type": "code",
   "execution_count": 44,
   "id": "3c017578",
   "metadata": {},
   "outputs": [
    {
     "data": {
      "text/plain": [
       "0       1\n",
       "1       2\n",
       "2    <NA>\n",
       "dtype: Int64"
      ]
     },
     "execution_count": 44,
     "metadata": {},
     "output_type": "execute_result"
    }
   ],
   "source": [
    "s = pd.Series([1, 2, None], dtype=\"Int64\") \n",
    "s"
   ]
  },
  {
   "cell_type": "code",
   "execution_count": 45,
   "id": "743626d6",
   "metadata": {},
   "outputs": [
    {
     "data": {
      "text/plain": [
       "<NA>"
      ]
     },
     "execution_count": 45,
     "metadata": {},
     "output_type": "execute_result"
    }
   ],
   "source": [
    "s[2]"
   ]
  },
  {
   "cell_type": "code",
   "execution_count": 46,
   "id": "893b94f6",
   "metadata": {},
   "outputs": [
    {
     "data": {
      "text/plain": [
       "True"
      ]
     },
     "execution_count": 46,
     "metadata": {},
     "output_type": "execute_result"
    }
   ],
   "source": [
    "s[2] is pd.NA"
   ]
  },
  {
   "cell_type": "markdown",
   "id": "9628d7f5",
   "metadata": {},
   "source": [
    "# Inserting missing data"
   ]
  },
  {
   "cell_type": "markdown",
   "id": "fee17461",
   "metadata": {},
   "source": [
    "You can insert missing values by simply assigning to a Series or DataFrame. The missing value sentinel used will be chosen based on the dtype."
   ]
  },
  {
   "cell_type": "code",
   "execution_count": 47,
   "id": "909fb100",
   "metadata": {},
   "outputs": [
    {
     "data": {
      "text/plain": [
       "0    1.0\n",
       "1    2.0\n",
       "2    3.0\n",
       "dtype: float64"
      ]
     },
     "execution_count": 47,
     "metadata": {},
     "output_type": "execute_result"
    }
   ],
   "source": [
    "ser = pd.Series([1., 2., 3.])\n",
    "ser"
   ]
  },
  {
   "cell_type": "code",
   "execution_count": 48,
   "id": "1bdb60bf",
   "metadata": {},
   "outputs": [],
   "source": [
    "ser.loc[0] = None"
   ]
  },
  {
   "cell_type": "code",
   "execution_count": 49,
   "id": "0d215dcc",
   "metadata": {},
   "outputs": [
    {
     "data": {
      "text/plain": [
       "0    NaN\n",
       "1    2.0\n",
       "2    3.0\n",
       "dtype: float64"
      ]
     },
     "execution_count": 49,
     "metadata": {},
     "output_type": "execute_result"
    }
   ],
   "source": [
    "ser"
   ]
  },
  {
   "cell_type": "code",
   "execution_count": 50,
   "id": "eeef7b5b",
   "metadata": {},
   "outputs": [
    {
     "data": {
      "text/plain": [
       "0   2025-01-01\n",
       "1   2025-01-01\n",
       "dtype: datetime64[ns]"
      ]
     },
     "execution_count": 50,
     "metadata": {},
     "output_type": "execute_result"
    }
   ],
   "source": [
    "ser = pd.Series([pd.Timestamp(\"2025\"), pd.Timestamp(\"2025\")])\n",
    "ser"
   ]
  },
  {
   "cell_type": "code",
   "execution_count": 51,
   "id": "8430d7ec",
   "metadata": {},
   "outputs": [],
   "source": [
    "ser.iloc[0] = None"
   ]
  },
  {
   "cell_type": "code",
   "execution_count": 52,
   "id": "adddb6e1",
   "metadata": {},
   "outputs": [
    {
     "data": {
      "text/plain": [
       "0          NaT\n",
       "1   2025-01-01\n",
       "dtype: datetime64[ns]"
      ]
     },
     "execution_count": 52,
     "metadata": {},
     "output_type": "execute_result"
    }
   ],
   "source": [
    "ser"
   ]
  },
  {
   "cell_type": "markdown",
   "id": "e1bbe55e",
   "metadata": {},
   "source": [
    "# Dropping missing data"
   ]
  },
  {
   "cell_type": "code",
   "execution_count": 53,
   "id": "b8cb365d",
   "metadata": {},
   "outputs": [
    {
     "data": {
      "application/vnd.microsoft.datawrangler.viewer.v0+json": {
       "columns": [
        {
         "name": "index",
         "rawType": "int64",
         "type": "integer"
        },
        {
         "name": "0",
         "rawType": "float64",
         "type": "float"
        },
        {
         "name": "1",
         "rawType": "int64",
         "type": "integer"
        },
        {
         "name": "2",
         "rawType": "float64",
         "type": "float"
        }
       ],
       "conversionMethod": "pd.DataFrame",
       "ref": "6e3bb7e4-ae9c-427b-9ac2-2485bb4e4a89",
       "rows": [
        [
         "0",
         null,
         "1",
         "2.0"
        ],
        [
         "1",
         "1.0",
         "2",
         null
        ],
        [
         "2",
         "1.0",
         "2",
         "3.0"
        ]
       ],
       "shape": {
        "columns": 3,
        "rows": 3
       }
      },
      "text/html": [
       "<div>\n",
       "<style scoped>\n",
       "    .dataframe tbody tr th:only-of-type {\n",
       "        vertical-align: middle;\n",
       "    }\n",
       "\n",
       "    .dataframe tbody tr th {\n",
       "        vertical-align: top;\n",
       "    }\n",
       "\n",
       "    .dataframe thead th {\n",
       "        text-align: right;\n",
       "    }\n",
       "</style>\n",
       "<table border=\"1\" class=\"dataframe\">\n",
       "  <thead>\n",
       "    <tr style=\"text-align: right;\">\n",
       "      <th></th>\n",
       "      <th>0</th>\n",
       "      <th>1</th>\n",
       "      <th>2</th>\n",
       "    </tr>\n",
       "  </thead>\n",
       "  <tbody>\n",
       "    <tr>\n",
       "      <th>0</th>\n",
       "      <td>NaN</td>\n",
       "      <td>1</td>\n",
       "      <td>2.0</td>\n",
       "    </tr>\n",
       "    <tr>\n",
       "      <th>1</th>\n",
       "      <td>1.0</td>\n",
       "      <td>2</td>\n",
       "      <td>NaN</td>\n",
       "    </tr>\n",
       "    <tr>\n",
       "      <th>2</th>\n",
       "      <td>1.0</td>\n",
       "      <td>2</td>\n",
       "      <td>3.0</td>\n",
       "    </tr>\n",
       "  </tbody>\n",
       "</table>\n",
       "</div>"
      ],
      "text/plain": [
       "     0  1    2\n",
       "0  NaN  1  2.0\n",
       "1  1.0  2  NaN\n",
       "2  1.0  2  3.0"
      ]
     },
     "execution_count": 53,
     "metadata": {},
     "output_type": "execute_result"
    }
   ],
   "source": [
    "df = pd.DataFrame([[np.nan, 1, 2], [1, 2, np.nan], [1, 2, 3]])\n",
    "df"
   ]
  },
  {
   "cell_type": "code",
   "execution_count": 54,
   "id": "16e98721",
   "metadata": {},
   "outputs": [
    {
     "data": {
      "application/vnd.microsoft.datawrangler.viewer.v0+json": {
       "columns": [
        {
         "name": "index",
         "rawType": "int64",
         "type": "integer"
        },
        {
         "name": "0",
         "rawType": "float64",
         "type": "float"
        },
        {
         "name": "1",
         "rawType": "int64",
         "type": "integer"
        },
        {
         "name": "2",
         "rawType": "float64",
         "type": "float"
        }
       ],
       "conversionMethod": "pd.DataFrame",
       "ref": "a764881d-06cb-4007-8fd5-8e852e62c649",
       "rows": [
        [
         "2",
         "1.0",
         "2",
         "3.0"
        ]
       ],
       "shape": {
        "columns": 3,
        "rows": 1
       }
      },
      "text/html": [
       "<div>\n",
       "<style scoped>\n",
       "    .dataframe tbody tr th:only-of-type {\n",
       "        vertical-align: middle;\n",
       "    }\n",
       "\n",
       "    .dataframe tbody tr th {\n",
       "        vertical-align: top;\n",
       "    }\n",
       "\n",
       "    .dataframe thead th {\n",
       "        text-align: right;\n",
       "    }\n",
       "</style>\n",
       "<table border=\"1\" class=\"dataframe\">\n",
       "  <thead>\n",
       "    <tr style=\"text-align: right;\">\n",
       "      <th></th>\n",
       "      <th>0</th>\n",
       "      <th>1</th>\n",
       "      <th>2</th>\n",
       "    </tr>\n",
       "  </thead>\n",
       "  <tbody>\n",
       "    <tr>\n",
       "      <th>2</th>\n",
       "      <td>1.0</td>\n",
       "      <td>2</td>\n",
       "      <td>3.0</td>\n",
       "    </tr>\n",
       "  </tbody>\n",
       "</table>\n",
       "</div>"
      ],
      "text/plain": [
       "     0  1    2\n",
       "2  1.0  2  3.0"
      ]
     },
     "execution_count": 54,
     "metadata": {},
     "output_type": "execute_result"
    }
   ],
   "source": [
    "df.dropna()"
   ]
  },
  {
   "cell_type": "code",
   "execution_count": 55,
   "id": "e15839ee",
   "metadata": {},
   "outputs": [
    {
     "data": {
      "application/vnd.microsoft.datawrangler.viewer.v0+json": {
       "columns": [
        {
         "name": "index",
         "rawType": "int64",
         "type": "integer"
        },
        {
         "name": "1",
         "rawType": "int64",
         "type": "integer"
        }
       ],
       "conversionMethod": "pd.DataFrame",
       "ref": "47ca2031-85f5-4aa8-be2a-d76ae2603a2e",
       "rows": [
        [
         "0",
         "1"
        ],
        [
         "1",
         "2"
        ],
        [
         "2",
         "2"
        ]
       ],
       "shape": {
        "columns": 1,
        "rows": 3
       }
      },
      "text/html": [
       "<div>\n",
       "<style scoped>\n",
       "    .dataframe tbody tr th:only-of-type {\n",
       "        vertical-align: middle;\n",
       "    }\n",
       "\n",
       "    .dataframe tbody tr th {\n",
       "        vertical-align: top;\n",
       "    }\n",
       "\n",
       "    .dataframe thead th {\n",
       "        text-align: right;\n",
       "    }\n",
       "</style>\n",
       "<table border=\"1\" class=\"dataframe\">\n",
       "  <thead>\n",
       "    <tr style=\"text-align: right;\">\n",
       "      <th></th>\n",
       "      <th>1</th>\n",
       "    </tr>\n",
       "  </thead>\n",
       "  <tbody>\n",
       "    <tr>\n",
       "      <th>0</th>\n",
       "      <td>1</td>\n",
       "    </tr>\n",
       "    <tr>\n",
       "      <th>1</th>\n",
       "      <td>2</td>\n",
       "    </tr>\n",
       "    <tr>\n",
       "      <th>2</th>\n",
       "      <td>2</td>\n",
       "    </tr>\n",
       "  </tbody>\n",
       "</table>\n",
       "</div>"
      ],
      "text/plain": [
       "   1\n",
       "0  1\n",
       "1  2\n",
       "2  2"
      ]
     },
     "execution_count": 55,
     "metadata": {},
     "output_type": "execute_result"
    }
   ],
   "source": [
    "df.dropna(axis=1)"
   ]
  },
  {
   "cell_type": "markdown",
   "id": "2abeb516",
   "metadata": {},
   "source": [
    "# Filling missing data"
   ]
  },
  {
   "cell_type": "code",
   "execution_count": 56,
   "id": "9001100e",
   "metadata": {},
   "outputs": [
    {
     "data": {
      "text/plain": [
       "{'np': [1.0, nan, nan, 2],\n",
       " 'arrow': <FloatingArray>\n",
       " [1.0, <NA>, <NA>, 2.0]\n",
       " Length: 4, dtype: Float64}"
      ]
     },
     "execution_count": 56,
     "metadata": {},
     "output_type": "execute_result"
    }
   ],
   "source": [
    "data = {\"np\": [1.0, np.nan, np.nan, 2], \"arrow\": pd.array([1.0, pd.NA, pd.NA, 2]) } \n",
    "data"
   ]
  },
  {
   "cell_type": "code",
   "execution_count": 57,
   "id": "5bcae232",
   "metadata": {},
   "outputs": [
    {
     "data": {
      "application/vnd.microsoft.datawrangler.viewer.v0+json": {
       "columns": [
        {
         "name": "index",
         "rawType": "int64",
         "type": "integer"
        },
        {
         "name": "np",
         "rawType": "float64",
         "type": "float"
        },
        {
         "name": "arrow",
         "rawType": "Float64",
         "type": "float"
        }
       ],
       "conversionMethod": "pd.DataFrame",
       "ref": "8474b107-96dc-44bb-bcfe-1d98fbcf8f90",
       "rows": [
        [
         "0",
         "1.0",
         "1.0"
        ],
        [
         "1",
         null,
         null
        ],
        [
         "2",
         null,
         null
        ],
        [
         "3",
         "2.0",
         "2.0"
        ]
       ],
       "shape": {
        "columns": 2,
        "rows": 4
       }
      },
      "text/html": [
       "<div>\n",
       "<style scoped>\n",
       "    .dataframe tbody tr th:only-of-type {\n",
       "        vertical-align: middle;\n",
       "    }\n",
       "\n",
       "    .dataframe tbody tr th {\n",
       "        vertical-align: top;\n",
       "    }\n",
       "\n",
       "    .dataframe thead th {\n",
       "        text-align: right;\n",
       "    }\n",
       "</style>\n",
       "<table border=\"1\" class=\"dataframe\">\n",
       "  <thead>\n",
       "    <tr style=\"text-align: right;\">\n",
       "      <th></th>\n",
       "      <th>np</th>\n",
       "      <th>arrow</th>\n",
       "    </tr>\n",
       "  </thead>\n",
       "  <tbody>\n",
       "    <tr>\n",
       "      <th>0</th>\n",
       "      <td>1.0</td>\n",
       "      <td>1.0</td>\n",
       "    </tr>\n",
       "    <tr>\n",
       "      <th>1</th>\n",
       "      <td>NaN</td>\n",
       "      <td>&lt;NA&gt;</td>\n",
       "    </tr>\n",
       "    <tr>\n",
       "      <th>2</th>\n",
       "      <td>NaN</td>\n",
       "      <td>&lt;NA&gt;</td>\n",
       "    </tr>\n",
       "    <tr>\n",
       "      <th>3</th>\n",
       "      <td>2.0</td>\n",
       "      <td>2.0</td>\n",
       "    </tr>\n",
       "  </tbody>\n",
       "</table>\n",
       "</div>"
      ],
      "text/plain": [
       "    np  arrow\n",
       "0  1.0    1.0\n",
       "1  NaN   <NA>\n",
       "2  NaN   <NA>\n",
       "3  2.0    2.0"
      ]
     },
     "execution_count": 57,
     "metadata": {},
     "output_type": "execute_result"
    }
   ],
   "source": [
    "\n",
    "df = pd.DataFrame(data)\n",
    "df\n"
   ]
  },
  {
   "cell_type": "markdown",
   "id": "a4314431",
   "metadata": {},
   "source": [
    "Fill the missing values with 0"
   ]
  },
  {
   "cell_type": "code",
   "execution_count": 58,
   "id": "38b29ecf",
   "metadata": {},
   "outputs": [
    {
     "data": {
      "application/vnd.microsoft.datawrangler.viewer.v0+json": {
       "columns": [
        {
         "name": "index",
         "rawType": "int64",
         "type": "integer"
        },
        {
         "name": "np",
         "rawType": "float64",
         "type": "float"
        },
        {
         "name": "arrow",
         "rawType": "Float64",
         "type": "float"
        }
       ],
       "conversionMethod": "pd.DataFrame",
       "ref": "9933a43d-5fa1-4ef2-9cdd-fbbf2f21698f",
       "rows": [
        [
         "0",
         "1.0",
         "1.0"
        ],
        [
         "1",
         "0.0",
         "0.0"
        ],
        [
         "2",
         "0.0",
         "0.0"
        ],
        [
         "3",
         "2.0",
         "2.0"
        ]
       ],
       "shape": {
        "columns": 2,
        "rows": 4
       }
      },
      "text/html": [
       "<div>\n",
       "<style scoped>\n",
       "    .dataframe tbody tr th:only-of-type {\n",
       "        vertical-align: middle;\n",
       "    }\n",
       "\n",
       "    .dataframe tbody tr th {\n",
       "        vertical-align: top;\n",
       "    }\n",
       "\n",
       "    .dataframe thead th {\n",
       "        text-align: right;\n",
       "    }\n",
       "</style>\n",
       "<table border=\"1\" class=\"dataframe\">\n",
       "  <thead>\n",
       "    <tr style=\"text-align: right;\">\n",
       "      <th></th>\n",
       "      <th>np</th>\n",
       "      <th>arrow</th>\n",
       "    </tr>\n",
       "  </thead>\n",
       "  <tbody>\n",
       "    <tr>\n",
       "      <th>0</th>\n",
       "      <td>1.0</td>\n",
       "      <td>1.0</td>\n",
       "    </tr>\n",
       "    <tr>\n",
       "      <th>1</th>\n",
       "      <td>0.0</td>\n",
       "      <td>0.0</td>\n",
       "    </tr>\n",
       "    <tr>\n",
       "      <th>2</th>\n",
       "      <td>0.0</td>\n",
       "      <td>0.0</td>\n",
       "    </tr>\n",
       "    <tr>\n",
       "      <th>3</th>\n",
       "      <td>2.0</td>\n",
       "      <td>2.0</td>\n",
       "    </tr>\n",
       "  </tbody>\n",
       "</table>\n",
       "</div>"
      ],
      "text/plain": [
       "    np  arrow\n",
       "0  1.0    1.0\n",
       "1  0.0    0.0\n",
       "2  0.0    0.0\n",
       "3  2.0    2.0"
      ]
     },
     "execution_count": 58,
     "metadata": {},
     "output_type": "execute_result"
    }
   ],
   "source": [
    "df.fillna(0)  "
   ]
  },
  {
   "cell_type": "markdown",
   "id": "4b091fc2",
   "metadata": {},
   "source": [
    "Fill gaps forward or backward"
   ]
  },
  {
   "cell_type": "code",
   "execution_count": 80,
   "id": "c5b3dd81",
   "metadata": {},
   "outputs": [
    {
     "data": {
      "application/vnd.microsoft.datawrangler.viewer.v0+json": {
       "columns": [
        {
         "name": "index",
         "rawType": "int64",
         "type": "integer"
        },
        {
         "name": "A",
         "rawType": "float64",
         "type": "float"
        },
        {
         "name": "B",
         "rawType": "float64",
         "type": "float"
        }
       ],
       "conversionMethod": "pd.DataFrame",
       "ref": "159b4079-9db4-4237-8d3c-cd901a48f557",
       "rows": [
        [
         "0",
         "1.0",
         "0.25"
        ],
        [
         "1",
         "2.1",
         "0.25"
        ],
        [
         "2",
         "2.1",
         "0.25"
        ],
        [
         "3",
         "4.7",
         "4.0"
        ],
        [
         "4",
         "5.6",
         "12.2"
        ],
        [
         "5",
         "6.8",
         "14.4"
        ]
       ],
       "shape": {
        "columns": 2,
        "rows": 6
       }
      },
      "text/html": [
       "<div>\n",
       "<style scoped>\n",
       "    .dataframe tbody tr th:only-of-type {\n",
       "        vertical-align: middle;\n",
       "    }\n",
       "\n",
       "    .dataframe tbody tr th {\n",
       "        vertical-align: top;\n",
       "    }\n",
       "\n",
       "    .dataframe thead th {\n",
       "        text-align: right;\n",
       "    }\n",
       "</style>\n",
       "<table border=\"1\" class=\"dataframe\">\n",
       "  <thead>\n",
       "    <tr style=\"text-align: right;\">\n",
       "      <th></th>\n",
       "      <th>A</th>\n",
       "      <th>B</th>\n",
       "    </tr>\n",
       "  </thead>\n",
       "  <tbody>\n",
       "    <tr>\n",
       "      <th>0</th>\n",
       "      <td>1.0</td>\n",
       "      <td>0.25</td>\n",
       "    </tr>\n",
       "    <tr>\n",
       "      <th>1</th>\n",
       "      <td>2.1</td>\n",
       "      <td>0.25</td>\n",
       "    </tr>\n",
       "    <tr>\n",
       "      <th>2</th>\n",
       "      <td>2.1</td>\n",
       "      <td>0.25</td>\n",
       "    </tr>\n",
       "    <tr>\n",
       "      <th>3</th>\n",
       "      <td>4.7</td>\n",
       "      <td>4.00</td>\n",
       "    </tr>\n",
       "    <tr>\n",
       "      <th>4</th>\n",
       "      <td>5.6</td>\n",
       "      <td>12.20</td>\n",
       "    </tr>\n",
       "    <tr>\n",
       "      <th>5</th>\n",
       "      <td>6.8</td>\n",
       "      <td>14.40</td>\n",
       "    </tr>\n",
       "  </tbody>\n",
       "</table>\n",
       "</div>"
      ],
      "text/plain": [
       "     A      B\n",
       "0  1.0   0.25\n",
       "1  2.1   0.25\n",
       "2  2.1   0.25\n",
       "3  4.7   4.00\n",
       "4  5.6  12.20\n",
       "5  6.8  14.40"
      ]
     },
     "execution_count": 80,
     "metadata": {},
     "output_type": "execute_result"
    }
   ],
   "source": [
    "df.ffill()"
   ]
  },
  {
   "cell_type": "code",
   "execution_count": 60,
   "id": "92bbe866",
   "metadata": {},
   "outputs": [
    {
     "data": {
      "application/vnd.microsoft.datawrangler.viewer.v0+json": {
       "columns": [
        {
         "name": "index",
         "rawType": "int64",
         "type": "integer"
        },
        {
         "name": "np",
         "rawType": "float64",
         "type": "float"
        },
        {
         "name": "arrow",
         "rawType": "Float64",
         "type": "float"
        }
       ],
       "conversionMethod": "pd.DataFrame",
       "ref": "7d86a78d-c0b1-4b87-9047-f5ac68396a03",
       "rows": [
        [
         "0",
         "1.0",
         "1.0"
        ],
        [
         "1",
         "2.0",
         "2.0"
        ],
        [
         "2",
         "2.0",
         "2.0"
        ],
        [
         "3",
         "2.0",
         "2.0"
        ]
       ],
       "shape": {
        "columns": 2,
        "rows": 4
       }
      },
      "text/html": [
       "<div>\n",
       "<style scoped>\n",
       "    .dataframe tbody tr th:only-of-type {\n",
       "        vertical-align: middle;\n",
       "    }\n",
       "\n",
       "    .dataframe tbody tr th {\n",
       "        vertical-align: top;\n",
       "    }\n",
       "\n",
       "    .dataframe thead th {\n",
       "        text-align: right;\n",
       "    }\n",
       "</style>\n",
       "<table border=\"1\" class=\"dataframe\">\n",
       "  <thead>\n",
       "    <tr style=\"text-align: right;\">\n",
       "      <th></th>\n",
       "      <th>np</th>\n",
       "      <th>arrow</th>\n",
       "    </tr>\n",
       "  </thead>\n",
       "  <tbody>\n",
       "    <tr>\n",
       "      <th>0</th>\n",
       "      <td>1.0</td>\n",
       "      <td>1.0</td>\n",
       "    </tr>\n",
       "    <tr>\n",
       "      <th>1</th>\n",
       "      <td>2.0</td>\n",
       "      <td>2.0</td>\n",
       "    </tr>\n",
       "    <tr>\n",
       "      <th>2</th>\n",
       "      <td>2.0</td>\n",
       "      <td>2.0</td>\n",
       "    </tr>\n",
       "    <tr>\n",
       "      <th>3</th>\n",
       "      <td>2.0</td>\n",
       "      <td>2.0</td>\n",
       "    </tr>\n",
       "  </tbody>\n",
       "</table>\n",
       "</div>"
      ],
      "text/plain": [
       "    np  arrow\n",
       "0  1.0    1.0\n",
       "1  2.0    2.0\n",
       "2  2.0    2.0\n",
       "3  2.0    2.0"
      ]
     },
     "execution_count": 60,
     "metadata": {},
     "output_type": "execute_result"
    }
   ],
   "source": [
    "df.bfill()"
   ]
  },
  {
   "cell_type": "markdown",
   "id": "1fb6e466",
   "metadata": {},
   "source": [
    "#  Interpolation"
   ]
  },
  {
   "cell_type": "code",
   "execution_count": 62,
   "id": "75a99b45",
   "metadata": {},
   "outputs": [
    {
     "data": {
      "application/vnd.microsoft.datawrangler.viewer.v0+json": {
       "columns": [
        {
         "name": "index",
         "rawType": "int64",
         "type": "integer"
        },
        {
         "name": "A",
         "rawType": "float64",
         "type": "float"
        },
        {
         "name": "B",
         "rawType": "float64",
         "type": "float"
        }
       ],
       "conversionMethod": "pd.DataFrame",
       "ref": "713a8990-cc21-4c8c-bb21-c5495b9561b0",
       "rows": [
        [
         "0",
         "1.0",
         "0.25"
        ],
        [
         "1",
         "2.1",
         null
        ],
        [
         "2",
         null,
         null
        ],
        [
         "3",
         "4.7",
         "4.0"
        ],
        [
         "4",
         "5.6",
         "12.2"
        ],
        [
         "5",
         "6.8",
         "14.4"
        ]
       ],
       "shape": {
        "columns": 2,
        "rows": 6
       }
      },
      "text/html": [
       "<div>\n",
       "<style scoped>\n",
       "    .dataframe tbody tr th:only-of-type {\n",
       "        vertical-align: middle;\n",
       "    }\n",
       "\n",
       "    .dataframe tbody tr th {\n",
       "        vertical-align: top;\n",
       "    }\n",
       "\n",
       "    .dataframe thead th {\n",
       "        text-align: right;\n",
       "    }\n",
       "</style>\n",
       "<table border=\"1\" class=\"dataframe\">\n",
       "  <thead>\n",
       "    <tr style=\"text-align: right;\">\n",
       "      <th></th>\n",
       "      <th>A</th>\n",
       "      <th>B</th>\n",
       "    </tr>\n",
       "  </thead>\n",
       "  <tbody>\n",
       "    <tr>\n",
       "      <th>0</th>\n",
       "      <td>1.0</td>\n",
       "      <td>0.25</td>\n",
       "    </tr>\n",
       "    <tr>\n",
       "      <th>1</th>\n",
       "      <td>2.1</td>\n",
       "      <td>NaN</td>\n",
       "    </tr>\n",
       "    <tr>\n",
       "      <th>2</th>\n",
       "      <td>NaN</td>\n",
       "      <td>NaN</td>\n",
       "    </tr>\n",
       "    <tr>\n",
       "      <th>3</th>\n",
       "      <td>4.7</td>\n",
       "      <td>4.00</td>\n",
       "    </tr>\n",
       "    <tr>\n",
       "      <th>4</th>\n",
       "      <td>5.6</td>\n",
       "      <td>12.20</td>\n",
       "    </tr>\n",
       "    <tr>\n",
       "      <th>5</th>\n",
       "      <td>6.8</td>\n",
       "      <td>14.40</td>\n",
       "    </tr>\n",
       "  </tbody>\n",
       "</table>\n",
       "</div>"
      ],
      "text/plain": [
       "     A      B\n",
       "0  1.0   0.25\n",
       "1  2.1    NaN\n",
       "2  NaN    NaN\n",
       "3  4.7   4.00\n",
       "4  5.6  12.20\n",
       "5  6.8  14.40"
      ]
     },
     "execution_count": 62,
     "metadata": {},
     "output_type": "execute_result"
    }
   ],
   "source": [
    "df = pd.DataFrame(\n",
    "    {\n",
    "        \"A\": [1, 2.1, np.nan, 4.7, 5.6, 6.8],\n",
    "        \"B\": [0.25, np.nan, np.nan, 4, 12.2, 14.4],\n",
    "    }\n",
    ")\n",
    "\n",
    "df"
   ]
  },
  {
   "cell_type": "code",
   "execution_count": 63,
   "id": "c33588b4",
   "metadata": {},
   "outputs": [
    {
     "data": {
      "application/vnd.microsoft.datawrangler.viewer.v0+json": {
       "columns": [
        {
         "name": "index",
         "rawType": "int64",
         "type": "integer"
        },
        {
         "name": "A",
         "rawType": "float64",
         "type": "float"
        },
        {
         "name": "B",
         "rawType": "float64",
         "type": "float"
        }
       ],
       "conversionMethod": "pd.DataFrame",
       "ref": "0c054e16-a26e-47e4-8e40-432ec284bcec",
       "rows": [
        [
         "0",
         "1.0",
         "0.25"
        ],
        [
         "1",
         "2.1",
         "1.5"
        ],
        [
         "2",
         "3.4000000000000004",
         "2.75"
        ],
        [
         "3",
         "4.7",
         "4.0"
        ],
        [
         "4",
         "5.6",
         "12.2"
        ],
        [
         "5",
         "6.8",
         "14.4"
        ]
       ],
       "shape": {
        "columns": 2,
        "rows": 6
       }
      },
      "text/html": [
       "<div>\n",
       "<style scoped>\n",
       "    .dataframe tbody tr th:only-of-type {\n",
       "        vertical-align: middle;\n",
       "    }\n",
       "\n",
       "    .dataframe tbody tr th {\n",
       "        vertical-align: top;\n",
       "    }\n",
       "\n",
       "    .dataframe thead th {\n",
       "        text-align: right;\n",
       "    }\n",
       "</style>\n",
       "<table border=\"1\" class=\"dataframe\">\n",
       "  <thead>\n",
       "    <tr style=\"text-align: right;\">\n",
       "      <th></th>\n",
       "      <th>A</th>\n",
       "      <th>B</th>\n",
       "    </tr>\n",
       "  </thead>\n",
       "  <tbody>\n",
       "    <tr>\n",
       "      <th>0</th>\n",
       "      <td>1.0</td>\n",
       "      <td>0.25</td>\n",
       "    </tr>\n",
       "    <tr>\n",
       "      <th>1</th>\n",
       "      <td>2.1</td>\n",
       "      <td>1.50</td>\n",
       "    </tr>\n",
       "    <tr>\n",
       "      <th>2</th>\n",
       "      <td>3.4</td>\n",
       "      <td>2.75</td>\n",
       "    </tr>\n",
       "    <tr>\n",
       "      <th>3</th>\n",
       "      <td>4.7</td>\n",
       "      <td>4.00</td>\n",
       "    </tr>\n",
       "    <tr>\n",
       "      <th>4</th>\n",
       "      <td>5.6</td>\n",
       "      <td>12.20</td>\n",
       "    </tr>\n",
       "    <tr>\n",
       "      <th>5</th>\n",
       "      <td>6.8</td>\n",
       "      <td>14.40</td>\n",
       "    </tr>\n",
       "  </tbody>\n",
       "</table>\n",
       "</div>"
      ],
      "text/plain": [
       "     A      B\n",
       "0  1.0   0.25\n",
       "1  2.1   1.50\n",
       "2  3.4   2.75\n",
       "3  4.7   4.00\n",
       "4  5.6  12.20\n",
       "5  6.8  14.40"
      ]
     },
     "execution_count": 63,
     "metadata": {},
     "output_type": "execute_result"
    }
   ],
   "source": [
    "df.interpolate()"
   ]
  },
  {
   "cell_type": "code",
   "execution_count": 72,
   "id": "4eefd317",
   "metadata": {},
   "outputs": [
    {
     "data": {
      "text/plain": [
       "2025-05-09    0.216663\n",
       "2025-05-10         NaN\n",
       "2025-05-11         NaN\n",
       "2025-05-12    0.284466\n",
       "2025-05-13    0.820418\n",
       "2025-05-14         NaN\n",
       "2025-05-15         NaN\n",
       "2025-05-16    0.943099\n",
       "2025-05-17    0.598079\n",
       "2025-05-18         NaN\n",
       "Freq: D, dtype: float64"
      ]
     },
     "execution_count": 72,
     "metadata": {},
     "output_type": "execute_result"
    }
   ],
   "source": [
    "idx = pd.date_range(\"2025-05-09\", periods=10, freq=\"D\")\n",
    "data = np.random.rand(10).astype(np.float64)\n",
    "\n",
    "ts = pd.Series(data, index=idx)\n",
    "ts.iloc[[1, 2, 5, 6, 9]] = np.nan\n",
    "ts\n"
   ]
  },
  {
   "cell_type": "code",
   "execution_count": 77,
   "id": "bc28efa1",
   "metadata": {},
   "outputs": [
    {
     "name": "stderr",
     "output_type": "stream",
     "text": [
      "\n",
      "[notice] A new release of pip is available: 23.0.1 -> 25.1.1\n",
      "[notice] To update, run: python.exe -m pip install --upgrade pip\n"
     ]
    },
    {
     "name": "stdout",
     "output_type": "stream",
     "text": [
      "Collecting matplotlib\n",
      "  Downloading matplotlib-3.10.3-cp310-cp310-win_amd64.whl (8.1 MB)\n",
      "     ---------------------------------------- 0.0/8.1 MB ? eta -:--:--\n",
      "     ---------------------------------------- 0.1/8.1 MB 1.3 MB/s eta 0:00:07\n",
      "      --------------------------------------- 0.2/8.1 MB 1.8 MB/s eta 0:00:05\n",
      "     - -------------------------------------- 0.3/8.1 MB 2.3 MB/s eta 0:00:04\n",
      "     - -------------------------------------- 0.3/8.1 MB 1.8 MB/s eta 0:00:05\n",
      "     - -------------------------------------- 0.3/8.1 MB 1.8 MB/s eta 0:00:05\n",
      "     - -------------------------------------- 0.4/8.1 MB 1.5 MB/s eta 0:00:06\n",
      "     -- ------------------------------------- 0.4/8.1 MB 1.4 MB/s eta 0:00:06\n",
      "     -- ------------------------------------- 0.5/8.1 MB 1.3 MB/s eta 0:00:06\n",
      "     -- ------------------------------------- 0.5/8.1 MB 1.2 MB/s eta 0:00:07\n",
      "     -- ------------------------------------- 0.5/8.1 MB 1.1 MB/s eta 0:00:07\n",
      "     -- ------------------------------------- 0.5/8.1 MB 1.1 MB/s eta 0:00:07\n",
      "     -- ------------------------------------- 0.6/8.1 MB 1.1 MB/s eta 0:00:07\n",
      "     -- ------------------------------------- 0.6/8.1 MB 1.0 MB/s eta 0:00:08\n",
      "     --- ------------------------------------ 0.6/8.1 MB 992.0 kB/s eta 0:00:08\n",
      "     --- ------------------------------------ 0.7/8.1 MB 990.5 kB/s eta 0:00:08\n",
      "     --- ------------------------------------ 0.7/8.1 MB 976.6 kB/s eta 0:00:08\n",
      "     --- ------------------------------------ 0.8/8.1 MB 957.1 kB/s eta 0:00:08\n",
      "     --- ------------------------------------ 0.8/8.1 MB 957.1 kB/s eta 0:00:08\n",
      "     --- ------------------------------------ 0.8/8.1 MB 934.2 kB/s eta 0:00:08\n",
      "     ---- ----------------------------------- 0.8/8.1 MB 912.8 kB/s eta 0:00:08\n",
      "     ---- ----------------------------------- 0.8/8.1 MB 885.2 kB/s eta 0:00:09\n",
      "     ---- ----------------------------------- 0.9/8.1 MB 863.7 kB/s eta 0:00:09\n",
      "     ---- ----------------------------------- 0.9/8.1 MB 841.1 kB/s eta 0:00:09\n",
      "     ---- ----------------------------------- 0.9/8.1 MB 835.9 kB/s eta 0:00:09\n",
      "     ---- ----------------------------------- 0.9/8.1 MB 817.4 kB/s eta 0:00:09\n",
      "     ---- ----------------------------------- 1.0/8.1 MB 810.9 kB/s eta 0:00:09\n",
      "     ---- ----------------------------------- 1.0/8.1 MB 806.4 kB/s eta 0:00:09\n",
      "     ---- ----------------------------------- 1.0/8.1 MB 785.2 kB/s eta 0:00:09\n",
      "     ----- ---------------------------------- 1.0/8.1 MB 788.3 kB/s eta 0:00:09\n",
      "     ----- ---------------------------------- 1.1/8.1 MB 777.1 kB/s eta 0:00:10\n",
      "     ----- ---------------------------------- 1.1/8.1 MB 777.1 kB/s eta 0:00:10\n",
      "     ----- ---------------------------------- 1.1/8.1 MB 748.2 kB/s eta 0:00:10\n",
      "     ----- ---------------------------------- 1.1/8.1 MB 738.3 kB/s eta 0:00:10\n",
      "     ----- ---------------------------------- 1.1/8.1 MB 729.0 kB/s eta 0:00:10\n",
      "     ----- ---------------------------------- 1.1/8.1 MB 713.8 kB/s eta 0:00:10\n",
      "     ----- ---------------------------------- 1.2/8.1 MB 705.8 kB/s eta 0:00:10\n",
      "     ----- ---------------------------------- 1.2/8.1 MB 692.1 kB/s eta 0:00:10\n",
      "     ----- ---------------------------------- 1.2/8.1 MB 685.0 kB/s eta 0:00:11\n",
      "     ------ --------------------------------- 1.2/8.1 MB 678.5 kB/s eta 0:00:11\n",
      "     ------ --------------------------------- 1.2/8.1 MB 677.8 kB/s eta 0:00:11\n",
      "     ------ --------------------------------- 1.3/8.1 MB 677.2 kB/s eta 0:00:10\n",
      "     ------ --------------------------------- 1.3/8.1 MB 676.9 kB/s eta 0:00:10\n",
      "     ------ --------------------------------- 1.3/8.1 MB 676.4 kB/s eta 0:00:10\n",
      "     ------ --------------------------------- 1.4/8.1 MB 675.9 kB/s eta 0:00:10\n",
      "     ------ --------------------------------- 1.4/8.1 MB 670.3 kB/s eta 0:00:10\n",
      "     ------- -------------------------------- 1.4/8.1 MB 670.0 kB/s eta 0:00:10\n",
      "     ------- -------------------------------- 1.5/8.1 MB 669.7 kB/s eta 0:00:10\n",
      "     ------- -------------------------------- 1.5/8.1 MB 664.9 kB/s eta 0:00:10\n",
      "     ------- -------------------------------- 1.5/8.1 MB 664.6 kB/s eta 0:00:10\n",
      "     ------- -------------------------------- 1.5/8.1 MB 668.9 kB/s eta 0:00:10\n",
      "     ------- -------------------------------- 1.6/8.1 MB 668.6 kB/s eta 0:00:10\n",
      "     ------- -------------------------------- 1.6/8.1 MB 668.3 kB/s eta 0:00:10\n",
      "     -------- ------------------------------- 1.6/8.1 MB 668.0 kB/s eta 0:00:10\n",
      "     -------- ------------------------------- 1.7/8.1 MB 663.7 kB/s eta 0:00:10\n",
      "     -------- ------------------------------- 1.7/8.1 MB 667.6 kB/s eta 0:00:10\n",
      "     -------- ------------------------------- 1.7/8.1 MB 667.3 kB/s eta 0:00:10\n",
      "     -------- ------------------------------- 1.8/8.1 MB 667.1 kB/s eta 0:00:10\n",
      "     -------- ------------------------------- 1.8/8.1 MB 670.8 kB/s eta 0:00:10\n",
      "     --------- ------------------------------ 1.8/8.1 MB 674.1 kB/s eta 0:00:10\n",
      "     --------- ------------------------------ 1.9/8.1 MB 681.4 kB/s eta 0:00:10\n",
      "     --------- ------------------------------ 1.9/8.1 MB 673.7 kB/s eta 0:00:10\n",
      "     --------- ------------------------------ 1.9/8.1 MB 684.4 kB/s eta 0:00:09\n",
      "     --------- ------------------------------ 2.0/8.1 MB 680.3 kB/s eta 0:00:09\n",
      "     --------- ------------------------------ 2.0/8.1 MB 676.2 kB/s eta 0:00:09\n",
      "     ---------- ----------------------------- 2.0/8.1 MB 676.0 kB/s eta 0:00:09\n",
      "     ---------- ----------------------------- 2.1/8.1 MB 679.1 kB/s eta 0:00:09\n",
      "     ---------- ----------------------------- 2.1/8.1 MB 678.5 kB/s eta 0:00:09\n",
      "     ---------- ----------------------------- 2.1/8.1 MB 681.6 kB/s eta 0:00:09\n",
      "     ---------- ----------------------------- 2.2/8.1 MB 684.4 kB/s eta 0:00:09\n",
      "     ---------- ----------------------------- 2.2/8.1 MB 680.8 kB/s eta 0:00:09\n",
      "     ---------- ----------------------------- 2.2/8.1 MB 680.8 kB/s eta 0:00:09\n",
      "     ----------- ---------------------------- 2.2/8.1 MB 670.9 kB/s eta 0:00:09\n",
      "     ----------- ---------------------------- 2.3/8.1 MB 673.7 kB/s eta 0:00:09\n",
      "     ----------- ---------------------------- 2.3/8.1 MB 670.6 kB/s eta 0:00:09\n",
      "     ----------- ---------------------------- 2.3/8.1 MB 667.4 kB/s eta 0:00:09\n",
      "     ----------- ---------------------------- 2.3/8.1 MB 667.2 kB/s eta 0:00:09\n",
      "     ----------- ---------------------------- 2.4/8.1 MB 664.0 kB/s eta 0:00:09\n",
      "     ----------- ---------------------------- 2.4/8.1 MB 661.1 kB/s eta 0:00:09\n",
      "     ----------- ---------------------------- 2.4/8.1 MB 663.8 kB/s eta 0:00:09\n",
      "     ------------ --------------------------- 2.5/8.1 MB 666.6 kB/s eta 0:00:09\n",
      "     ------------ --------------------------- 2.5/8.1 MB 666.4 kB/s eta 0:00:09\n",
      "     ------------ --------------------------- 2.5/8.1 MB 666.2 kB/s eta 0:00:09\n",
      "     ------------ --------------------------- 2.6/8.1 MB 671.4 kB/s eta 0:00:09\n",
      "     ------------ --------------------------- 2.6/8.1 MB 671.2 kB/s eta 0:00:09\n",
      "     ------------- -------------------------- 2.7/8.1 MB 676.2 kB/s eta 0:00:08\n",
      "     ------------- -------------------------- 2.7/8.1 MB 681.1 kB/s eta 0:00:08\n",
      "     ------------- -------------------------- 2.7/8.1 MB 681.0 kB/s eta 0:00:08\n",
      "     ------------- -------------------------- 2.8/8.1 MB 683.2 kB/s eta 0:00:08\n",
      "     ------------- -------------------------- 2.8/8.1 MB 680.3 kB/s eta 0:00:08\n",
      "     -------------- ------------------------- 2.8/8.1 MB 685.1 kB/s eta 0:00:08\n",
      "     -------------- ------------------------- 2.9/8.1 MB 679.9 kB/s eta 0:00:08\n",
      "     -------------- ------------------------- 2.9/8.1 MB 679.6 kB/s eta 0:00:08\n",
      "     -------------- ------------------------- 2.9/8.1 MB 679.2 kB/s eta 0:00:08\n",
      "     -------------- ------------------------- 2.9/8.1 MB 676.7 kB/s eta 0:00:08\n",
      "     -------------- ------------------------- 3.0/8.1 MB 676.4 kB/s eta 0:00:08\n",
      "     -------------- ------------------------- 3.0/8.1 MB 678.5 kB/s eta 0:00:08\n",
      "     --------------- ------------------------ 3.1/8.1 MB 678.3 kB/s eta 0:00:08\n",
      "     --------------- ------------------------ 3.1/8.1 MB 680.3 kB/s eta 0:00:08\n",
      "     --------------- ------------------------ 3.1/8.1 MB 680.1 kB/s eta 0:00:08\n",
      "     --------------- ------------------------ 3.1/8.1 MB 677.6 kB/s eta 0:00:08\n",
      "     --------------- ------------------------ 3.2/8.1 MB 679.6 kB/s eta 0:00:08\n",
      "     --------------- ------------------------ 3.2/8.1 MB 679.3 kB/s eta 0:00:08\n",
      "     ---------------- ----------------------- 3.2/8.1 MB 681.4 kB/s eta 0:00:08\n",
      "     ---------------- ----------------------- 3.3/8.1 MB 678.8 kB/s eta 0:00:08\n",
      "     ---------------- ----------------------- 3.3/8.1 MB 678.6 kB/s eta 0:00:08\n",
      "     ---------------- ----------------------- 3.3/8.1 MB 678.5 kB/s eta 0:00:07\n",
      "     ---------------- ----------------------- 3.3/8.1 MB 678.2 kB/s eta 0:00:07\n",
      "     ---------------- ----------------------- 3.4/8.1 MB 678.0 kB/s eta 0:00:07\n",
      "     ----------------- ---------------------- 3.4/8.1 MB 679.8 kB/s eta 0:00:07\n",
      "     ----------------- ---------------------- 3.5/8.1 MB 679.6 kB/s eta 0:00:07\n",
      "     ----------------- ---------------------- 3.5/8.1 MB 681.3 kB/s eta 0:00:07\n",
      "     ----------------- ---------------------- 3.5/8.1 MB 683.2 kB/s eta 0:00:07\n",
      "     ----------------- ---------------------- 3.6/8.1 MB 684.8 kB/s eta 0:00:07\n",
      "     ----------------- ---------------------- 3.6/8.1 MB 682.7 kB/s eta 0:00:07\n",
      "     ----------------- ---------------------- 3.6/8.1 MB 682.7 kB/s eta 0:00:07\n",
      "     ------------------ --------------------- 3.6/8.1 MB 680.2 kB/s eta 0:00:07\n",
      "     ------------------ --------------------- 3.7/8.1 MB 680.1 kB/s eta 0:00:07\n",
      "     ------------------ --------------------- 3.7/8.1 MB 679.9 kB/s eta 0:00:07\n",
      "     ------------------ --------------------- 3.7/8.1 MB 677.8 kB/s eta 0:00:07\n",
      "     ------------------ --------------------- 3.8/8.1 MB 677.6 kB/s eta 0:00:07\n",
      "     ------------------ --------------------- 3.8/8.1 MB 679.4 kB/s eta 0:00:07\n",
      "     ------------------- -------------------- 3.8/8.1 MB 681.0 kB/s eta 0:00:07\n",
      "     ------------------- -------------------- 3.9/8.1 MB 680.6 kB/s eta 0:00:07\n",
      "     ------------------- -------------------- 3.9/8.1 MB 684.1 kB/s eta 0:00:07\n",
      "     ------------------- -------------------- 3.9/8.1 MB 684.0 kB/s eta 0:00:07\n",
      "     ------------------- -------------------- 3.9/8.1 MB 684.0 kB/s eta 0:00:07\n",
      "     ------------------- -------------------- 4.0/8.1 MB 678.1 kB/s eta 0:00:07\n",
      "     ------------------- -------------------- 4.0/8.1 MB 676.2 kB/s eta 0:00:06\n",
      "     ------------------- -------------------- 4.0/8.1 MB 677.8 kB/s eta 0:00:06\n",
      "     -------------------- ------------------- 4.1/8.1 MB 677.6 kB/s eta 0:00:06\n",
      "     -------------------- ------------------- 4.1/8.1 MB 675.8 kB/s eta 0:00:06\n",
      "     -------------------- ------------------- 4.1/8.1 MB 675.7 kB/s eta 0:00:06\n",
      "     -------------------- ------------------- 4.1/8.1 MB 673.8 kB/s eta 0:00:06\n",
      "     -------------------- ------------------- 4.2/8.1 MB 673.6 kB/s eta 0:00:06\n",
      "     -------------------- ------------------- 4.2/8.1 MB 673.5 kB/s eta 0:00:06\n",
      "     -------------------- ------------------- 4.2/8.1 MB 671.8 kB/s eta 0:00:06\n",
      "     --------------------- ------------------ 4.2/8.1 MB 671.6 kB/s eta 0:00:06\n",
      "     --------------------- ------------------ 4.3/8.1 MB 669.9 kB/s eta 0:00:06\n",
      "     --------------------- ------------------ 4.3/8.1 MB 669.8 kB/s eta 0:00:06\n",
      "     --------------------- ------------------ 4.3/8.1 MB 669.7 kB/s eta 0:00:06\n",
      "     --------------------- ------------------ 4.4/8.1 MB 669.6 kB/s eta 0:00:06\n",
      "     --------------------- ------------------ 4.4/8.1 MB 669.5 kB/s eta 0:00:06\n",
      "     --------------------- ------------------ 4.4/8.1 MB 669.4 kB/s eta 0:00:06\n",
      "     ---------------------- ----------------- 4.5/8.1 MB 670.8 kB/s eta 0:00:06\n",
      "     ---------------------- ----------------- 4.5/8.1 MB 670.7 kB/s eta 0:00:06\n",
      "     ---------------------- ----------------- 4.5/8.1 MB 672.1 kB/s eta 0:00:06\n",
      "     ---------------------- ----------------- 4.6/8.1 MB 673.5 kB/s eta 0:00:06\n",
      "     ---------------------- ----------------- 4.6/8.1 MB 673.4 kB/s eta 0:00:06\n",
      "     ----------------------- ---------------- 4.7/8.1 MB 676.2 kB/s eta 0:00:06\n",
      "     ----------------------- ---------------- 4.7/8.1 MB 679.0 kB/s eta 0:00:05\n",
      "     ----------------------- ---------------- 4.7/8.1 MB 680.4 kB/s eta 0:00:05\n",
      "     ----------------------- ---------------- 4.8/8.1 MB 681.8 kB/s eta 0:00:05\n",
      "     ----------------------- ---------------- 4.8/8.1 MB 683.0 kB/s eta 0:00:05\n",
      "     ------------------------ --------------- 4.9/8.1 MB 682.8 kB/s eta 0:00:05\n",
      "     ------------------------ --------------- 4.9/8.1 MB 684.1 kB/s eta 0:00:05\n",
      "     ------------------------ --------------- 4.9/8.1 MB 683.9 kB/s eta 0:00:05\n",
      "     ------------------------ --------------- 5.0/8.1 MB 685.0 kB/s eta 0:00:05\n",
      "     ------------------------ --------------- 5.0/8.1 MB 686.2 kB/s eta 0:00:05\n",
      "     ------------------------- -------------- 5.1/8.1 MB 688.9 kB/s eta 0:00:05\n",
      "     ------------------------- -------------- 5.1/8.1 MB 690.1 kB/s eta 0:00:05\n",
      "     ------------------------- -------------- 5.1/8.1 MB 691.2 kB/s eta 0:00:05\n",
      "     ------------------------- -------------- 5.2/8.1 MB 692.4 kB/s eta 0:00:05\n",
      "     -------------------------- ------------- 5.3/8.1 MB 697.7 kB/s eta 0:00:05\n",
      "     -------------------------- ------------- 5.3/8.1 MB 701.4 kB/s eta 0:00:04\n",
      "     -------------------------- ------------- 5.4/8.1 MB 703.8 kB/s eta 0:00:04\n",
      "     -------------------------- ------------- 5.4/8.1 MB 704.9 kB/s eta 0:00:04\n",
      "     --------------------------- ------------ 5.5/8.1 MB 707.2 kB/s eta 0:00:04\n",
      "     --------------------------- ------------ 5.5/8.1 MB 711.0 kB/s eta 0:00:04\n",
      "     --------------------------- ------------ 5.5/8.1 MB 710.8 kB/s eta 0:00:04\n",
      "     --------------------------- ------------ 5.6/8.1 MB 708.9 kB/s eta 0:00:04\n",
      "     --------------------------- ------------ 5.6/8.1 MB 709.9 kB/s eta 0:00:04\n",
      "     ---------------------------- ----------- 5.6/8.1 MB 709.6 kB/s eta 0:00:04\n",
      "     ---------------------------- ----------- 5.7/8.1 MB 709.3 kB/s eta 0:00:04\n",
      "     ---------------------------- ----------- 5.7/8.1 MB 708.9 kB/s eta 0:00:04\n",
      "     ---------------------------- ----------- 5.7/8.1 MB 708.6 kB/s eta 0:00:04\n",
      "     ---------------------------- ----------- 5.8/8.1 MB 709.6 kB/s eta 0:00:04\n",
      "     ---------------------------- ----------- 5.8/8.1 MB 710.5 kB/s eta 0:00:04\n",
      "     ----------------------------- ---------- 5.9/8.1 MB 711.4 kB/s eta 0:00:04\n",
      "     ----------------------------- ---------- 5.9/8.1 MB 711.4 kB/s eta 0:00:04\n",
      "     ----------------------------- ---------- 5.9/8.1 MB 713.3 kB/s eta 0:00:03\n",
      "     ----------------------------- ---------- 6.0/8.1 MB 713.0 kB/s eta 0:00:03\n",
      "     ----------------------------- ---------- 6.0/8.1 MB 714.0 kB/s eta 0:00:03\n",
      "     ----------------------------- ---------- 6.0/8.1 MB 712.3 kB/s eta 0:00:03\n",
      "     ------------------------------ --------- 6.1/8.1 MB 713.3 kB/s eta 0:00:03\n",
      "     ------------------------------ --------- 6.1/8.1 MB 714.1 kB/s eta 0:00:03\n",
      "     ------------------------------ --------- 6.1/8.1 MB 715.2 kB/s eta 0:00:03\n",
      "     ------------------------------ --------- 6.2/8.1 MB 715.9 kB/s eta 0:00:03\n",
      "     ------------------------------ --------- 6.2/8.1 MB 715.6 kB/s eta 0:00:03\n",
      "     ------------------------------- -------- 6.2/8.1 MB 715.2 kB/s eta 0:00:03\n",
      "     ------------------------------- -------- 6.3/8.1 MB 713.8 kB/s eta 0:00:03\n",
      "     ------------------------------- -------- 6.3/8.1 MB 713.5 kB/s eta 0:00:03\n",
      "     ------------------------------- -------- 6.3/8.1 MB 712.1 kB/s eta 0:00:03\n",
      "     ------------------------------- -------- 6.3/8.1 MB 711.7 kB/s eta 0:00:03\n",
      "     ------------------------------- -------- 6.4/8.1 MB 711.4 kB/s eta 0:00:03\n",
      "     ------------------------------- -------- 6.4/8.1 MB 711.1 kB/s eta 0:00:03\n",
      "     ------------------------------- -------- 6.4/8.1 MB 712.1 kB/s eta 0:00:03\n",
      "     -------------------------------- ------- 6.5/8.1 MB 712.8 kB/s eta 0:00:03\n",
      "     -------------------------------- ------- 6.5/8.1 MB 713.7 kB/s eta 0:00:03\n",
      "     -------------------------------- ------- 6.6/8.1 MB 714.5 kB/s eta 0:00:03\n",
      "     -------------------------------- ------- 6.6/8.1 MB 715.3 kB/s eta 0:00:03\n",
      "     --------------------------------- ------ 6.7/8.1 MB 718.3 kB/s eta 0:00:02\n",
      "     --------------------------------- ------ 6.7/8.1 MB 719.0 kB/s eta 0:00:02\n",
      "     --------------------------------- ------ 6.8/8.1 MB 721.0 kB/s eta 0:00:02\n",
      "     --------------------------------- ------ 6.8/8.1 MB 721.8 kB/s eta 0:00:02\n",
      "     --------------------------------- ------ 6.8/8.1 MB 723.8 kB/s eta 0:00:02\n",
      "     ---------------------------------- ----- 6.9/8.1 MB 722.1 kB/s eta 0:00:02\n",
      "     ---------------------------------- ----- 6.9/8.1 MB 723.9 kB/s eta 0:00:02\n",
      "     ---------------------------------- ----- 7.0/8.1 MB 725.7 kB/s eta 0:00:02\n",
      "     ---------------------------------- ----- 7.0/8.1 MB 727.5 kB/s eta 0:00:02\n",
      "     ----------------------------------- ---- 7.1/8.1 MB 727.1 kB/s eta 0:00:02\n",
      "     ----------------------------------- ---- 7.1/8.1 MB 729.9 kB/s eta 0:00:02\n",
      "     ----------------------------------- ---- 7.2/8.1 MB 731.7 kB/s eta 0:00:02\n",
      "     ----------------------------------- ---- 7.2/8.1 MB 733.4 kB/s eta 0:00:02\n",
      "     ------------------------------------ --- 7.3/8.1 MB 736.2 kB/s eta 0:00:02\n",
      "     ------------------------------------ --- 7.3/8.1 MB 737.8 kB/s eta 0:00:01\n",
      "     ------------------------------------ --- 7.4/8.1 MB 740.6 kB/s eta 0:00:01\n",
      "     ------------------------------------- -- 7.5/8.1 MB 742.1 kB/s eta 0:00:01\n",
      "     ------------------------------------- -- 7.5/8.1 MB 743.8 kB/s eta 0:00:01\n",
      "     ------------------------------------- -- 7.6/8.1 MB 745.4 kB/s eta 0:00:01\n",
      "     ------------------------------------- -- 7.6/8.1 MB 746.1 kB/s eta 0:00:01\n",
      "     ------------------------------------- -- 7.6/8.1 MB 747.7 kB/s eta 0:00:01\n",
      "     -------------------------------------- - 7.7/8.1 MB 749.2 kB/s eta 0:00:01\n",
      "     -------------------------------------- - 7.8/8.1 MB 750.7 kB/s eta 0:00:01\n",
      "     -------------------------------------- - 7.8/8.1 MB 754.2 kB/s eta 0:00:01\n",
      "     ---------------------------------------  7.9/8.1 MB 755.9 kB/s eta 0:00:01\n",
      "     ---------------------------------------  7.9/8.1 MB 759.4 kB/s eta 0:00:01\n",
      "     ---------------------------------------  8.0/8.1 MB 761.8 kB/s eta 0:00:01\n",
      "     ---------------------------------------  8.0/8.1 MB 763.3 kB/s eta 0:00:01\n",
      "     ---------------------------------------- 8.1/8.1 MB 763.0 kB/s eta 0:00:00\n",
      "Requirement already satisfied: numpy>=1.23 in c:\\users\\ragha\\appdata\\local\\programs\\python\\python310\\lib\\site-packages (from matplotlib) (2.2.4)\n",
      "Requirement already satisfied: packaging>=20.0 in c:\\users\\ragha\\appdata\\local\\programs\\python\\python310\\lib\\site-packages (from matplotlib) (24.2)\n",
      "Collecting pyparsing>=2.3.1\n",
      "  Downloading pyparsing-3.2.3-py3-none-any.whl (111 kB)\n",
      "     ---------------------------------------- 0.0/111.1 kB ? eta -:--:--\n",
      "     -------------- ------------------------- 41.0/111.1 kB ? eta -:--:--\n",
      "     -------------------------------- ------ 92.2/111.1 kB 1.8 MB/s eta 0:00:01\n",
      "     -------------------------------------- 111.1/111.1 kB 1.6 MB/s eta 0:00:00\n",
      "Collecting kiwisolver>=1.3.1\n",
      "  Downloading kiwisolver-1.4.8-cp310-cp310-win_amd64.whl (71 kB)\n",
      "     ---------------------------------------- 0.0/71.9 kB ? eta -:--:--\n",
      "     ----------------- ---------------------- 30.7/71.9 kB 1.4 MB/s eta 0:00:01\n",
      "     -------------------------------------- 71.9/71.9 kB 994.3 kB/s eta 0:00:00\n",
      "Collecting contourpy>=1.0.1\n",
      "  Downloading contourpy-1.3.2-cp310-cp310-win_amd64.whl (221 kB)\n",
      "     ---------------------------------------- 0.0/221.2 kB ? eta -:--:--\n",
      "     ----- --------------------------------- 30.7/221.2 kB 1.3 MB/s eta 0:00:01\n",
      "     ---------- ---------------------------- 61.4/221.2 kB 1.1 MB/s eta 0:00:01\n",
      "     ------------------- ---------------- 122.9/221.2 kB 901.1 kB/s eta 0:00:01\n",
      "     ----------------------------- -------- 174.1/221.2 kB 1.0 MB/s eta 0:00:01\n",
      "     -------------------------------------- 221.2/221.2 kB 1.0 MB/s eta 0:00:00\n",
      "Collecting fonttools>=4.22.0\n",
      "  Downloading fonttools-4.57.0-cp310-cp310-win_amd64.whl (2.2 MB)\n",
      "     ---------------------------------------- 0.0/2.2 MB ? eta -:--:--\n",
      "     ---------------------------------------- 0.0/2.2 MB ? eta -:--:--\n",
      "     - -------------------------------------- 0.1/2.2 MB 825.8 kB/s eta 0:00:03\n",
      "     - -------------------------------------- 0.1/2.2 MB 751.6 kB/s eta 0:00:03\n",
      "     -- ------------------------------------- 0.1/2.2 MB 853.3 kB/s eta 0:00:03\n",
      "     --- ------------------------------------ 0.2/2.2 MB 908.0 kB/s eta 0:00:03\n",
      "     ---- ----------------------------------- 0.2/2.2 MB 919.0 kB/s eta 0:00:03\n",
      "     ----- ---------------------------------- 0.3/2.2 MB 947.5 kB/s eta 0:00:03\n",
      "     ----- ---------------------------------- 0.3/2.2 MB 922.8 kB/s eta 0:00:03\n",
      "     ------ --------------------------------- 0.4/2.2 MB 890.4 kB/s eta 0:00:03\n",
      "     ------- -------------------------------- 0.4/2.2 MB 913.9 kB/s eta 0:00:02\n",
      "     ------- -------------------------------- 0.4/2.2 MB 917.0 kB/s eta 0:00:02\n",
      "     -------- ------------------------------- 0.5/2.2 MB 906.4 kB/s eta 0:00:02\n",
      "     --------- ------------------------------ 0.5/2.2 MB 903.5 kB/s eta 0:00:02\n",
      "     ---------- ----------------------------- 0.6/2.2 MB 901.1 kB/s eta 0:00:02\n",
      "     ----------- ---------------------------- 0.6/2.2 MB 921.0 kB/s eta 0:00:02\n",
      "     ------------ --------------------------- 0.7/2.2 MB 940.0 kB/s eta 0:00:02\n",
      "     ------------- -------------------------- 0.7/2.2 MB 969.4 kB/s eta 0:00:02\n",
      "     -------------- ------------------------- 0.8/2.2 MB 971.0 kB/s eta 0:00:02\n",
      "     --------------- ------------------------ 0.8/2.2 MB 977.5 kB/s eta 0:00:02\n",
      "     ---------------- ----------------------- 0.9/2.2 MB 999.9 kB/s eta 0:00:02\n",
      "     ---------------- ----------------------- 0.9/2.2 MB 999.6 kB/s eta 0:00:02\n",
      "     ------------------ --------------------- 1.0/2.2 MB 999.0 kB/s eta 0:00:02\n",
      "     ------------------ --------------------- 1.0/2.2 MB 1.0 MB/s eta 0:00:02\n",
      "     ------------------- -------------------- 1.1/2.2 MB 1.0 MB/s eta 0:00:02\n",
      "     -------------------- ------------------- 1.1/2.2 MB 992.1 kB/s eta 0:00:02\n",
      "     -------------------- ------------------- 1.1/2.2 MB 992.1 kB/s eta 0:00:02\n",
      "     -------------------- ------------------- 1.1/2.2 MB 992.1 kB/s eta 0:00:02\n",
      "     --------------------- ------------------ 1.2/2.2 MB 917.5 kB/s eta 0:00:02\n",
      "     --------------------- ------------------ 1.2/2.2 MB 900.0 kB/s eta 0:00:02\n",
      "     --------------------- ------------------ 1.2/2.2 MB 876.2 kB/s eta 0:00:02\n",
      "     ---------------------- ----------------- 1.2/2.2 MB 876.0 kB/s eta 0:00:02\n",
      "     ---------------------- ----------------- 1.3/2.2 MB 859.8 kB/s eta 0:00:02\n",
      "     ----------------------- ---------------- 1.3/2.2 MB 853.3 kB/s eta 0:00:02\n",
      "     ----------------------- ---------------- 1.3/2.2 MB 847.3 kB/s eta 0:00:02\n",
      "     ------------------------ --------------- 1.4/2.2 MB 841.6 kB/s eta 0:00:02\n",
      "     ------------------------- -------------- 1.4/2.2 MB 842.4 kB/s eta 0:00:01\n",
      "     ------------------------- -------------- 1.4/2.2 MB 845.2 kB/s eta 0:00:01\n",
      "     -------------------------- ------------- 1.5/2.2 MB 844.5 kB/s eta 0:00:01\n",
      "     --------------------------- ------------ 1.5/2.2 MB 846.6 kB/s eta 0:00:01\n",
      "     ---------------------------- ----------- 1.6/2.2 MB 845.9 kB/s eta 0:00:01\n",
      "     ---------------------------- ----------- 1.6/2.2 MB 841.0 kB/s eta 0:00:01\n",
      "     ----------------------------- ---------- 1.6/2.2 MB 843.5 kB/s eta 0:00:01\n",
      "     ----------------------------- ---------- 1.6/2.2 MB 832.1 kB/s eta 0:00:01\n",
      "     ------------------------------ --------- 1.7/2.2 MB 834.6 kB/s eta 0:00:01\n",
      "     ------------------------------- -------- 1.7/2.2 MB 834.3 kB/s eta 0:00:01\n",
      "     ------------------------------- -------- 1.8/2.2 MB 830.3 kB/s eta 0:00:01\n",
      "     -------------------------------- ------- 1.8/2.2 MB 837.0 kB/s eta 0:00:01\n",
      "     -------------------------------- ------- 1.8/2.2 MB 824.1 kB/s eta 0:00:01\n",
      "     --------------------------------- ------ 1.8/2.2 MB 820.5 kB/s eta 0:00:01\n",
      "     ---------------------------------- ----- 1.9/2.2 MB 826.0 kB/s eta 0:00:01\n",
      "     ----------------------------------- ---- 1.9/2.2 MB 831.3 kB/s eta 0:00:01\n",
      "     ------------------------------------ --- 2.0/2.2 MB 836.4 kB/s eta 0:00:01\n",
      "     ------------------------------------- -- 2.1/2.2 MB 845.6 kB/s eta 0:00:01\n",
      "     -------------------------------------- - 2.1/2.2 MB 850.2 kB/s eta 0:00:01\n",
      "     ---------------------------------------  2.2/2.2 MB 858.8 kB/s eta 0:00:01\n",
      "     ---------------------------------------- 2.2/2.2 MB 861.3 kB/s eta 0:00:00\n",
      "Requirement already satisfied: python-dateutil>=2.7 in c:\\users\\ragha\\appdata\\local\\programs\\python\\python310\\lib\\site-packages (from matplotlib) (2.9.0.post0)\n",
      "Collecting cycler>=0.10\n",
      "  Downloading cycler-0.12.1-py3-none-any.whl (8.3 kB)\n",
      "Collecting pillow>=8\n",
      "  Downloading pillow-11.2.1-cp310-cp310-win_amd64.whl (2.7 MB)\n",
      "     ---------------------------------------- 0.0/2.7 MB ? eta -:--:--\n",
      "      --------------------------------------- 0.0/2.7 MB 991.0 kB/s eta 0:00:03\n",
      "     - -------------------------------------- 0.1/2.7 MB 1.1 MB/s eta 0:00:03\n",
      "     - -------------------------------------- 0.1/2.7 MB 983.0 kB/s eta 0:00:03\n",
      "     -- ------------------------------------- 0.2/2.7 MB 1.0 MB/s eta 0:00:03\n",
      "     --- ------------------------------------ 0.2/2.7 MB 1.0 MB/s eta 0:00:03\n",
      "     ---- ----------------------------------- 0.3/2.7 MB 1.0 MB/s eta 0:00:03\n",
      "     ---- ----------------------------------- 0.3/2.7 MB 984.6 kB/s eta 0:00:03\n",
      "     ----- ---------------------------------- 0.4/2.7 MB 1.0 MB/s eta 0:00:03\n",
      "     ----- ---------------------------------- 0.4/2.7 MB 958.4 kB/s eta 0:00:03\n",
      "     ------ --------------------------------- 0.4/2.7 MB 904.2 kB/s eta 0:00:03\n",
      "     ------ --------------------------------- 0.5/2.7 MB 880.6 kB/s eta 0:00:03\n",
      "     ------- -------------------------------- 0.5/2.7 MB 862.7 kB/s eta 0:00:03\n",
      "     ------- -------------------------------- 0.5/2.7 MB 863.4 kB/s eta 0:00:03\n",
      "     ------- -------------------------------- 0.5/2.7 MB 835.6 kB/s eta 0:00:03\n",
      "     -------- ------------------------------- 0.6/2.7 MB 824.1 kB/s eta 0:00:03\n",
      "     --------- ------------------------------ 0.6/2.7 MB 809.2 kB/s eta 0:00:03\n",
      "     --------- ------------------------------ 0.6/2.7 MB 799.8 kB/s eta 0:00:03\n",
      "     --------- ------------------------------ 0.6/2.7 MB 766.8 kB/s eta 0:00:03\n",
      "     --------- ------------------------------ 0.7/2.7 MB 762.9 kB/s eta 0:00:03\n",
      "     ---------- ----------------------------- 0.7/2.7 MB 767.2 kB/s eta 0:00:03\n",
      "     ----------- ---------------------------- 0.7/2.7 MB 761.7 kB/s eta 0:00:03\n",
      "     ----------- ---------------------------- 0.8/2.7 MB 768.0 kB/s eta 0:00:03\n",
      "     ------------ --------------------------- 0.8/2.7 MB 763.6 kB/s eta 0:00:03\n",
      "     ------------ --------------------------- 0.8/2.7 MB 768.2 kB/s eta 0:00:03\n",
      "     ------------- -------------------------- 0.9/2.7 MB 772.5 kB/s eta 0:00:03\n",
      "     -------------- ------------------------- 0.9/2.7 MB 785.0 kB/s eta 0:00:03\n",
      "     -------------- ------------------------- 1.0/2.7 MB 796.6 kB/s eta 0:00:03\n",
      "     --------------- ------------------------ 1.0/2.7 MB 807.4 kB/s eta 0:00:03\n",
      "     ---------------- ----------------------- 1.1/2.7 MB 817.3 kB/s eta 0:00:02\n",
      "     ---------------- ----------------------- 1.1/2.7 MB 819.2 kB/s eta 0:00:02\n",
      "     ------------------ --------------------- 1.2/2.7 MB 843.1 kB/s eta 0:00:02\n",
      "     ------------------ --------------------- 1.3/2.7 MB 851.0 kB/s eta 0:00:02\n",
      "     ------------------ --------------------- 1.3/2.7 MB 848.7 kB/s eta 0:00:02\n",
      "     -------------------- ------------------- 1.3/2.7 MB 861.1 kB/s eta 0:00:02\n",
      "     -------------------- ------------------- 1.4/2.7 MB 833.7 kB/s eta 0:00:02\n",
      "     -------------------- ------------------- 1.4/2.7 MB 838.1 kB/s eta 0:00:02\n",
      "     -------------------- ------------------- 1.4/2.7 MB 833.4 kB/s eta 0:00:02\n",
      "     --------------------- ------------------ 1.4/2.7 MB 822.5 kB/s eta 0:00:02\n",
      "     --------------------- ------------------ 1.5/2.7 MB 803.9 kB/s eta 0:00:02\n",
      "     --------------------- ------------------ 1.5/2.7 MB 795.4 kB/s eta 0:00:02\n",
      "     ---------------------- ----------------- 1.5/2.7 MB 791.0 kB/s eta 0:00:02\n",
      "     ---------------------- ----------------- 1.5/2.7 MB 791.0 kB/s eta 0:00:02\n",
      "     ----------------------- ---------------- 1.5/2.7 MB 774.2 kB/s eta 0:00:02\n",
      "     ----------------------- ---------------- 1.6/2.7 MB 766.4 kB/s eta 0:00:02\n",
      "     ----------------------- ---------------- 1.6/2.7 MB 764.8 kB/s eta 0:00:02\n",
      "     ----------------------- ---------------- 1.6/2.7 MB 758.3 kB/s eta 0:00:02\n",
      "     ------------------------ --------------- 1.6/2.7 MB 756.6 kB/s eta 0:00:02\n",
      "     ------------------------ --------------- 1.6/2.7 MB 743.7 kB/s eta 0:00:02\n",
      "     ------------------------ --------------- 1.7/2.7 MB 742.6 kB/s eta 0:00:02\n",
      "     ------------------------- -------------- 1.7/2.7 MB 727.0 kB/s eta 0:00:02\n",
      "     ------------------------- -------------- 1.7/2.7 MB 721.1 kB/s eta 0:00:02\n",
      "     ------------------------- -------------- 1.7/2.7 MB 715.7 kB/s eta 0:00:02\n",
      "     -------------------------- ------------- 1.8/2.7 MB 709.7 kB/s eta 0:00:02\n",
      "     -------------------------- ------------- 1.8/2.7 MB 709.5 kB/s eta 0:00:02\n",
      "     -------------------------- ------------- 1.8/2.7 MB 704.0 kB/s eta 0:00:02\n",
      "     --------------------------- ------------ 1.8/2.7 MB 699.1 kB/s eta 0:00:02\n",
      "     --------------------------- ------------ 1.8/2.7 MB 698.6 kB/s eta 0:00:02\n",
      "     --------------------------- ------------ 1.9/2.7 MB 693.9 kB/s eta 0:00:02\n",
      "     ---------------------------- ----------- 1.9/2.7 MB 689.2 kB/s eta 0:00:02\n",
      "     ---------------------------- ----------- 1.9/2.7 MB 692.6 kB/s eta 0:00:02\n",
      "     ----------------------------- ---------- 1.9/2.7 MB 688.2 kB/s eta 0:00:02\n",
      "     ----------------------------- ---------- 2.0/2.7 MB 687.7 kB/s eta 0:00:02\n",
      "     ------------------------------ --------- 2.0/2.7 MB 690.6 kB/s eta 0:00:01\n",
      "     ------------------------------ --------- 2.1/2.7 MB 693.5 kB/s eta 0:00:01\n",
      "     ------------------------------- -------- 2.1/2.7 MB 699.7 kB/s eta 0:00:01\n",
      "     ------------------------------- -------- 2.1/2.7 MB 702.7 kB/s eta 0:00:01\n",
      "     -------------------------------- ------- 2.2/2.7 MB 701.9 kB/s eta 0:00:01\n",
      "     --------------------------------- ------ 2.2/2.7 MB 710.9 kB/s eta 0:00:01\n",
      "     ---------------------------------- ----- 2.3/2.7 MB 716.9 kB/s eta 0:00:01\n",
      "     ---------------------------------- ----- 2.3/2.7 MB 718.8 kB/s eta 0:00:01\n",
      "     ----------------------------------- ---- 2.4/2.7 MB 727.6 kB/s eta 0:00:01\n",
      "     ------------------------------------ --- 2.4/2.7 MB 730.1 kB/s eta 0:00:01\n",
      "     ------------------------------------ --- 2.4/2.7 MB 725.5 kB/s eta 0:00:01\n",
      "     ------------------------------------- -- 2.5/2.7 MB 733.4 kB/s eta 0:00:01\n",
      "     -------------------------------------- - 2.6/2.7 MB 741.1 kB/s eta 0:00:01\n",
      "     ---------------------------------------  2.7/2.7 MB 751.6 kB/s eta 0:00:01\n",
      "     ---------------------------------------- 2.7/2.7 MB 751.8 kB/s eta 0:00:00\n",
      "Requirement already satisfied: six>=1.5 in c:\\users\\ragha\\appdata\\local\\programs\\python\\python310\\lib\\site-packages (from python-dateutil>=2.7->matplotlib) (1.17.0)\n",
      "Installing collected packages: pyparsing, pillow, kiwisolver, fonttools, cycler, contourpy, matplotlib\n",
      "Successfully installed contourpy-1.3.2 cycler-0.12.1 fonttools-4.57.0 kiwisolver-1.4.8 matplotlib-3.10.3 pillow-11.2.1 pyparsing-3.2.3\n",
      "Note: you may need to restart the kernel to use updated packages.\n"
     ]
    },
    {
     "data": {
      "image/png": "[encoded data removed]",
      "text/plain": [
       "<Figure size 640x480 with 1 Axes>"
      ]
     },
     "metadata": {},
     "output_type": "display_data"
    }
   ],
   "source": [
    "%pip install matplotlib\n",
    "\n",
    "import matplotlib.pyplot as plt\n",
    "\n",
    "ts.plot()\n",
    "plt.show()"
   ]
  },
  {
   "cell_type": "code",
   "execution_count": 78,
   "id": "4e02a8ac",
   "metadata": {},
   "outputs": [
    {
     "data": {
      "text/plain": [
       "2025-05-09    0.216663\n",
       "2025-05-10    0.239264\n",
       "2025-05-11    0.261865\n",
       "2025-05-12    0.284466\n",
       "2025-05-13    0.820418\n",
       "2025-05-14    0.861311\n",
       "2025-05-15    0.902205\n",
       "2025-05-16    0.943099\n",
       "2025-05-17    0.598079\n",
       "2025-05-18    0.598079\n",
       "Freq: D, dtype: float64"
      ]
     },
     "execution_count": 78,
     "metadata": {},
     "output_type": "execute_result"
    }
   ],
   "source": [
    "ts.interpolate()"
   ]
  },
  {
   "cell_type": "code",
   "execution_count": 79,
   "id": "4176ec4b",
   "metadata": {},
   "outputs": [
    {
     "data": {
      "text/plain": [
       "<Axes: >"
      ]
     },
     "execution_count": 79,
     "metadata": {},
     "output_type": "execute_result"
    },
    {
     "data": {
      "image/png": "[encoded data removed]",
      "text/plain": [
       "<Figure size 640x480 with 1 Axes>"
      ]
     },
     "metadata": {},
     "output_type": "display_data"
    }
   ],
   "source": [
    "ts.interpolate().plot()"
   ]
  },
  {
   "cell_type": "code",
   "execution_count": null,
   "id": "82022788",
   "metadata": {},
   "outputs": [],
   "source": []
  }
 ],
 "metadata": {
  "kernelspec": {
   "display_name": "Python 3",
   "language": "python",
   "name": "python3"
  },
  "language_info": {
   "codemirror_mode": {
    "name": "ipython",
    "version": 3
   },
   "file_extension": ".py",
   "mimetype": "text/x-python",
   "name": "python",
   "nbconvert_exporter": "python",
   "pygments_lexer": "ipython3",
   "version": "3.10.11"
  }
 },
 "nbformat": 4,
 "nbformat_minor": 5
}
