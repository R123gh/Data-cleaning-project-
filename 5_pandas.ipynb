{
 "cells": [
  {
   "cell_type": "code",
   "execution_count": 28,
   "id": "abb102c5",
   "metadata": {},
   "outputs": [],
   "source": [
    "import pandas as pd  \n",
    "import numpy as np "
   ]
  },
  {
   "cell_type": "markdown",
   "id": "93dfb477",
   "metadata": {},
   "source": [
    "# merge()"
   ]
  },
  {
   "cell_type": "markdown",
   "id": "edee96ec",
   "metadata": {},
   "source": [
    "merge() performs join operations similar to relational databases like SQL.\n",
    " \n",
    "# Merge types\n",
    "merge() implements common SQL style joining operations.\n",
    "\n",
    "one-to-one: joining two DataFrame objects on their indexes which must contain unique values.\n",
    "\n",
    "many-to-one: joining a unique index to one or more columns in a different DataFrame.\n",
    "\n",
    "many-to-many : joining columns on columns."
   ]
  },
  {
   "cell_type": "code",
   "execution_count": 29,
   "id": "f0cd93a1",
   "metadata": {},
   "outputs": [
    {
     "data": {
      "application/vnd.microsoft.datawrangler.viewer.v0+json": {
       "columns": [
        {
         "name": "index",
         "rawType": "int64",
         "type": "integer"
        },
        {
         "name": "key",
         "rawType": "object",
         "type": "string"
        },
        {
         "name": "A",
         "rawType": "object",
         "type": "string"
        },
        {
         "name": "B",
         "rawType": "object",
         "type": "string"
        }
       ],
       "conversionMethod": "pd.DataFrame",
       "ref": "ef9c4e7b-5d5b-4d9b-9712-cb8cc6bdc909",
       "rows": [
        [
         "0",
         "K0",
         "A0",
         "B0"
        ],
        [
         "1",
         "K1",
         "A1",
         "B1"
        ],
        [
         "2",
         "K2",
         "A2",
         "B2"
        ],
        [
         "3",
         "K3",
         "A3",
         "B3"
        ]
       ],
       "shape": {
        "columns": 3,
        "rows": 4
       }
      },
      "text/html": [
       "<div>\n",
       "<style scoped>\n",
       "    .dataframe tbody tr th:only-of-type {\n",
       "        vertical-align: middle;\n",
       "    }\n",
       "\n",
       "    .dataframe tbody tr th {\n",
       "        vertical-align: top;\n",
       "    }\n",
       "\n",
       "    .dataframe thead th {\n",
       "        text-align: right;\n",
       "    }\n",
       "</style>\n",
       "<table border=\"1\" class=\"dataframe\">\n",
       "  <thead>\n",
       "    <tr style=\"text-align: right;\">\n",
       "      <th></th>\n",
       "      <th>key</th>\n",
       "      <th>A</th>\n",
       "      <th>B</th>\n",
       "    </tr>\n",
       "  </thead>\n",
       "  <tbody>\n",
       "    <tr>\n",
       "      <th>0</th>\n",
       "      <td>K0</td>\n",
       "      <td>A0</td>\n",
       "      <td>B0</td>\n",
       "    </tr>\n",
       "    <tr>\n",
       "      <th>1</th>\n",
       "      <td>K1</td>\n",
       "      <td>A1</td>\n",
       "      <td>B1</td>\n",
       "    </tr>\n",
       "    <tr>\n",
       "      <th>2</th>\n",
       "      <td>K2</td>\n",
       "      <td>A2</td>\n",
       "      <td>B2</td>\n",
       "    </tr>\n",
       "    <tr>\n",
       "      <th>3</th>\n",
       "      <td>K3</td>\n",
       "      <td>A3</td>\n",
       "      <td>B3</td>\n",
       "    </tr>\n",
       "  </tbody>\n",
       "</table>\n",
       "</div>"
      ],
      "text/plain": [
       "  key   A   B\n",
       "0  K0  A0  B0\n",
       "1  K1  A1  B1\n",
       "2  K2  A2  B2\n",
       "3  K3  A3  B3"
      ]
     },
     "execution_count": 29,
     "metadata": {},
     "output_type": "execute_result"
    }
   ],
   "source": [
    "left = pd.DataFrame(\n",
    "    {\n",
    "        \"key\": [\"K0\", \"K1\", \"K2\", \"K3\"],\n",
    "        \"A\": [\"A0\", \"A1\", \"A2\", \"A3\"],\n",
    "        \"B\": [\"B0\", \"B1\", \"B2\", \"B3\"],\n",
    "    }\n",
    ")\n",
    "left"
   ]
  },
  {
   "cell_type": "code",
   "execution_count": 30,
   "id": "4b3dade5",
   "metadata": {},
   "outputs": [
    {
     "data": {
      "application/vnd.microsoft.datawrangler.viewer.v0+json": {
       "columns": [
        {
         "name": "index",
         "rawType": "int64",
         "type": "integer"
        },
        {
         "name": "key",
         "rawType": "object",
         "type": "string"
        },
        {
         "name": "C",
         "rawType": "object",
         "type": "string"
        },
        {
         "name": "D",
         "rawType": "object",
         "type": "string"
        }
       ],
       "conversionMethod": "pd.DataFrame",
       "ref": "ca98fffe-33da-40cf-9532-0c4594e6a7cf",
       "rows": [
        [
         "0",
         "K0",
         "C0",
         "D0"
        ],
        [
         "1",
         "K1",
         "C1",
         "D1"
        ],
        [
         "2",
         "K2",
         "C2",
         "D2"
        ],
        [
         "3",
         "K3",
         "C3",
         "D3"
        ]
       ],
       "shape": {
        "columns": 3,
        "rows": 4
       }
      },
      "text/html": [
       "<div>\n",
       "<style scoped>\n",
       "    .dataframe tbody tr th:only-of-type {\n",
       "        vertical-align: middle;\n",
       "    }\n",
       "\n",
       "    .dataframe tbody tr th {\n",
       "        vertical-align: top;\n",
       "    }\n",
       "\n",
       "    .dataframe thead th {\n",
       "        text-align: right;\n",
       "    }\n",
       "</style>\n",
       "<table border=\"1\" class=\"dataframe\">\n",
       "  <thead>\n",
       "    <tr style=\"text-align: right;\">\n",
       "      <th></th>\n",
       "      <th>key</th>\n",
       "      <th>C</th>\n",
       "      <th>D</th>\n",
       "    </tr>\n",
       "  </thead>\n",
       "  <tbody>\n",
       "    <tr>\n",
       "      <th>0</th>\n",
       "      <td>K0</td>\n",
       "      <td>C0</td>\n",
       "      <td>D0</td>\n",
       "    </tr>\n",
       "    <tr>\n",
       "      <th>1</th>\n",
       "      <td>K1</td>\n",
       "      <td>C1</td>\n",
       "      <td>D1</td>\n",
       "    </tr>\n",
       "    <tr>\n",
       "      <th>2</th>\n",
       "      <td>K2</td>\n",
       "      <td>C2</td>\n",
       "      <td>D2</td>\n",
       "    </tr>\n",
       "    <tr>\n",
       "      <th>3</th>\n",
       "      <td>K3</td>\n",
       "      <td>C3</td>\n",
       "      <td>D3</td>\n",
       "    </tr>\n",
       "  </tbody>\n",
       "</table>\n",
       "</div>"
      ],
      "text/plain": [
       "  key   C   D\n",
       "0  K0  C0  D0\n",
       "1  K1  C1  D1\n",
       "2  K2  C2  D2\n",
       "3  K3  C3  D3"
      ]
     },
     "execution_count": 30,
     "metadata": {},
     "output_type": "execute_result"
    }
   ],
   "source": [
    "right = pd.DataFrame(\n",
    "    {\n",
    "        \"key\": [\"K0\", \"K1\", \"K2\", \"K3\"],\n",
    "        \"C\": [\"C0\", \"C1\", \"C2\", \"C3\"],\n",
    "        \"D\": [\"D0\", \"D1\", \"D2\", \"D3\"],\n",
    "    }\n",
    ")\n",
    "right"
   ]
  },
  {
   "cell_type": "code",
   "execution_count": 31,
   "id": "948b82af",
   "metadata": {},
   "outputs": [
    {
     "data": {
      "application/vnd.microsoft.datawrangler.viewer.v0+json": {
       "columns": [
        {
         "name": "index",
         "rawType": "int64",
         "type": "integer"
        },
        {
         "name": "key",
         "rawType": "object",
         "type": "string"
        },
        {
         "name": "A",
         "rawType": "object",
         "type": "string"
        },
        {
         "name": "B",
         "rawType": "object",
         "type": "string"
        },
        {
         "name": "C",
         "rawType": "object",
         "type": "string"
        },
        {
         "name": "D",
         "rawType": "object",
         "type": "string"
        }
       ],
       "conversionMethod": "pd.DataFrame",
       "ref": "349049ea-073e-4da6-b69e-c98ec5fec8fc",
       "rows": [
        [
         "0",
         "K0",
         "A0",
         "B0",
         "C0",
         "D0"
        ],
        [
         "1",
         "K1",
         "A1",
         "B1",
         "C1",
         "D1"
        ],
        [
         "2",
         "K2",
         "A2",
         "B2",
         "C2",
         "D2"
        ],
        [
         "3",
         "K3",
         "A3",
         "B3",
         "C3",
         "D3"
        ]
       ],
       "shape": {
        "columns": 5,
        "rows": 4
       }
      },
      "text/html": [
       "<div>\n",
       "<style scoped>\n",
       "    .dataframe tbody tr th:only-of-type {\n",
       "        vertical-align: middle;\n",
       "    }\n",
       "\n",
       "    .dataframe tbody tr th {\n",
       "        vertical-align: top;\n",
       "    }\n",
       "\n",
       "    .dataframe thead th {\n",
       "        text-align: right;\n",
       "    }\n",
       "</style>\n",
       "<table border=\"1\" class=\"dataframe\">\n",
       "  <thead>\n",
       "    <tr style=\"text-align: right;\">\n",
       "      <th></th>\n",
       "      <th>key</th>\n",
       "      <th>A</th>\n",
       "      <th>B</th>\n",
       "      <th>C</th>\n",
       "      <th>D</th>\n",
       "    </tr>\n",
       "  </thead>\n",
       "  <tbody>\n",
       "    <tr>\n",
       "      <th>0</th>\n",
       "      <td>K0</td>\n",
       "      <td>A0</td>\n",
       "      <td>B0</td>\n",
       "      <td>C0</td>\n",
       "      <td>D0</td>\n",
       "    </tr>\n",
       "    <tr>\n",
       "      <th>1</th>\n",
       "      <td>K1</td>\n",
       "      <td>A1</td>\n",
       "      <td>B1</td>\n",
       "      <td>C1</td>\n",
       "      <td>D1</td>\n",
       "    </tr>\n",
       "    <tr>\n",
       "      <th>2</th>\n",
       "      <td>K2</td>\n",
       "      <td>A2</td>\n",
       "      <td>B2</td>\n",
       "      <td>C2</td>\n",
       "      <td>D2</td>\n",
       "    </tr>\n",
       "    <tr>\n",
       "      <th>3</th>\n",
       "      <td>K3</td>\n",
       "      <td>A3</td>\n",
       "      <td>B3</td>\n",
       "      <td>C3</td>\n",
       "      <td>D3</td>\n",
       "    </tr>\n",
       "  </tbody>\n",
       "</table>\n",
       "</div>"
      ],
      "text/plain": [
       "  key   A   B   C   D\n",
       "0  K0  A0  B0  C0  D0\n",
       "1  K1  A1  B1  C1  D1\n",
       "2  K2  A2  B2  C2  D2\n",
       "3  K3  A3  B3  C3  D3"
      ]
     },
     "execution_count": 31,
     "metadata": {},
     "output_type": "execute_result"
    }
   ],
   "source": [
    "result = pd.merge(left, right, on=\"key\")\n",
    "result"
   ]
  },
  {
   "cell_type": "markdown",
   "id": "45be1ed7",
   "metadata": {},
   "source": [
    "left\n",
    "\n",
    "LEFT OUTER JOIN\n",
    "\n",
    "Use keys from left frame only\n",
    "\n",
    "right\n",
    "\n",
    "RIGHT OUTER JOIN\n",
    "\n",
    "Use keys from right frame only\n",
    "\n",
    "outer\n",
    "\n",
    "FULL OUTER JOIN\n",
    "\n",
    "Use union of keys from both frames\n",
    "\n",
    "inner\n",
    "\n",
    "INNER JOIN\n",
    "\n",
    "Use intersection of keys from both frames\n",
    "\n",
    "cross\n",
    "\n",
    "CROSS JOIN\n",
    "\n",
    "Create the cartesian product of rows of both frames"
   ]
  },
  {
   "cell_type": "code",
   "execution_count": 32,
   "id": "9a56453f",
   "metadata": {},
   "outputs": [],
   "source": [
    "left = pd.DataFrame(\n",
    "   {\n",
    "      \"key1\": [\"K0\", \"K0\", \"K1\", \"K2\"],\n",
    "      \"key2\": [\"K0\", \"K1\", \"K0\", \"K1\"],\n",
    "      \"A\": [\"A0\", \"A1\", \"A2\", \"A3\"],\n",
    "      \"B\": [\"B0\", \"B1\", \"B2\", \"B3\"],\n",
    "   }\n",
    ")"
   ]
  },
  {
   "cell_type": "code",
   "execution_count": 33,
   "id": "6027ef70",
   "metadata": {},
   "outputs": [],
   "source": [
    "right = pd.DataFrame(\n",
    "   {\n",
    "      \"key1\": [\"K0\", \"K1\", \"K1\", \"K2\"],\n",
    "      \"key2\": [\"K0\", \"K0\", \"K0\", \"K0\"],\n",
    "      \"C\": [\"C0\", \"C1\", \"C2\", \"C3\"],\n",
    "      \"D\": [\"D0\", \"D1\", \"D2\", \"D3\"],\n",
    "   }\n",
    ")"
   ]
  },
  {
   "cell_type": "markdown",
   "id": "b26b320d",
   "metadata": {},
   "source": [
    "Left Merge"
   ]
  },
  {
   "cell_type": "code",
   "execution_count": 34,
   "id": "091ce69a",
   "metadata": {},
   "outputs": [
    {
     "data": {
      "application/vnd.microsoft.datawrangler.viewer.v0+json": {
       "columns": [
        {
         "name": "index",
         "rawType": "int64",
         "type": "integer"
        },
        {
         "name": "key1",
         "rawType": "object",
         "type": "string"
        },
        {
         "name": "key2",
         "rawType": "object",
         "type": "string"
        },
        {
         "name": "A",
         "rawType": "object",
         "type": "string"
        },
        {
         "name": "B",
         "rawType": "object",
         "type": "string"
        },
        {
         "name": "C",
         "rawType": "object",
         "type": "unknown"
        },
        {
         "name": "D",
         "rawType": "object",
         "type": "unknown"
        }
       ],
       "conversionMethod": "pd.DataFrame",
       "ref": "425f005b-7318-459d-8fab-133a60b96ddf",
       "rows": [
        [
         "0",
         "K0",
         "K0",
         "A0",
         "B0",
         "C0",
         "D0"
        ],
        [
         "1",
         "K0",
         "K1",
         "A1",
         "B1",
         null,
         null
        ],
        [
         "2",
         "K1",
         "K0",
         "A2",
         "B2",
         "C1",
         "D1"
        ],
        [
         "3",
         "K1",
         "K0",
         "A2",
         "B2",
         "C2",
         "D2"
        ],
        [
         "4",
         "K2",
         "K1",
         "A3",
         "B3",
         null,
         null
        ]
       ],
       "shape": {
        "columns": 6,
        "rows": 5
       }
      },
      "text/html": [
       "<div>\n",
       "<style scoped>\n",
       "    .dataframe tbody tr th:only-of-type {\n",
       "        vertical-align: middle;\n",
       "    }\n",
       "\n",
       "    .dataframe tbody tr th {\n",
       "        vertical-align: top;\n",
       "    }\n",
       "\n",
       "    .dataframe thead th {\n",
       "        text-align: right;\n",
       "    }\n",
       "</style>\n",
       "<table border=\"1\" class=\"dataframe\">\n",
       "  <thead>\n",
       "    <tr style=\"text-align: right;\">\n",
       "      <th></th>\n",
       "      <th>key1</th>\n",
       "      <th>key2</th>\n",
       "      <th>A</th>\n",
       "      <th>B</th>\n",
       "      <th>C</th>\n",
       "      <th>D</th>\n",
       "    </tr>\n",
       "  </thead>\n",
       "  <tbody>\n",
       "    <tr>\n",
       "      <th>0</th>\n",
       "      <td>K0</td>\n",
       "      <td>K0</td>\n",
       "      <td>A0</td>\n",
       "      <td>B0</td>\n",
       "      <td>C0</td>\n",
       "      <td>D0</td>\n",
       "    </tr>\n",
       "    <tr>\n",
       "      <th>1</th>\n",
       "      <td>K0</td>\n",
       "      <td>K1</td>\n",
       "      <td>A1</td>\n",
       "      <td>B1</td>\n",
       "      <td>NaN</td>\n",
       "      <td>NaN</td>\n",
       "    </tr>\n",
       "    <tr>\n",
       "      <th>2</th>\n",
       "      <td>K1</td>\n",
       "      <td>K0</td>\n",
       "      <td>A2</td>\n",
       "      <td>B2</td>\n",
       "      <td>C1</td>\n",
       "      <td>D1</td>\n",
       "    </tr>\n",
       "    <tr>\n",
       "      <th>3</th>\n",
       "      <td>K1</td>\n",
       "      <td>K0</td>\n",
       "      <td>A2</td>\n",
       "      <td>B2</td>\n",
       "      <td>C2</td>\n",
       "      <td>D2</td>\n",
       "    </tr>\n",
       "    <tr>\n",
       "      <th>4</th>\n",
       "      <td>K2</td>\n",
       "      <td>K1</td>\n",
       "      <td>A3</td>\n",
       "      <td>B3</td>\n",
       "      <td>NaN</td>\n",
       "      <td>NaN</td>\n",
       "    </tr>\n",
       "  </tbody>\n",
       "</table>\n",
       "</div>"
      ],
      "text/plain": [
       "  key1 key2   A   B    C    D\n",
       "0   K0   K0  A0  B0   C0   D0\n",
       "1   K0   K1  A1  B1  NaN  NaN\n",
       "2   K1   K0  A2  B2   C1   D1\n",
       "3   K1   K0  A2  B2   C2   D2\n",
       "4   K2   K1  A3  B3  NaN  NaN"
      ]
     },
     "execution_count": 34,
     "metadata": {},
     "output_type": "execute_result"
    }
   ],
   "source": [
    "result = pd.merge(left, right, how=\"left\", on=[\"key1\", \"key2\"])\n",
    "result"
   ]
  },
  {
   "cell_type": "markdown",
   "id": "5cdf568a",
   "metadata": {},
   "source": [
    "Right merge  "
   ]
  },
  {
   "cell_type": "code",
   "execution_count": 35,
   "id": "f2fac66b",
   "metadata": {},
   "outputs": [
    {
     "data": {
      "application/vnd.microsoft.datawrangler.viewer.v0+json": {
       "columns": [
        {
         "name": "index",
         "rawType": "int64",
         "type": "integer"
        },
        {
         "name": "key1",
         "rawType": "object",
         "type": "string"
        },
        {
         "name": "key2",
         "rawType": "object",
         "type": "string"
        },
        {
         "name": "A",
         "rawType": "object",
         "type": "unknown"
        },
        {
         "name": "B",
         "rawType": "object",
         "type": "unknown"
        },
        {
         "name": "C",
         "rawType": "object",
         "type": "string"
        },
        {
         "name": "D",
         "rawType": "object",
         "type": "string"
        }
       ],
       "conversionMethod": "pd.DataFrame",
       "ref": "c75cb586-b387-4c1e-9848-5a5c8cc6197b",
       "rows": [
        [
         "0",
         "K0",
         "K0",
         "A0",
         "B0",
         "C0",
         "D0"
        ],
        [
         "1",
         "K1",
         "K0",
         "A2",
         "B2",
         "C1",
         "D1"
        ],
        [
         "2",
         "K1",
         "K0",
         "A2",
         "B2",
         "C2",
         "D2"
        ],
        [
         "3",
         "K2",
         "K0",
         null,
         null,
         "C3",
         "D3"
        ]
       ],
       "shape": {
        "columns": 6,
        "rows": 4
       }
      },
      "text/html": [
       "<div>\n",
       "<style scoped>\n",
       "    .dataframe tbody tr th:only-of-type {\n",
       "        vertical-align: middle;\n",
       "    }\n",
       "\n",
       "    .dataframe tbody tr th {\n",
       "        vertical-align: top;\n",
       "    }\n",
       "\n",
       "    .dataframe thead th {\n",
       "        text-align: right;\n",
       "    }\n",
       "</style>\n",
       "<table border=\"1\" class=\"dataframe\">\n",
       "  <thead>\n",
       "    <tr style=\"text-align: right;\">\n",
       "      <th></th>\n",
       "      <th>key1</th>\n",
       "      <th>key2</th>\n",
       "      <th>A</th>\n",
       "      <th>B</th>\n",
       "      <th>C</th>\n",
       "      <th>D</th>\n",
       "    </tr>\n",
       "  </thead>\n",
       "  <tbody>\n",
       "    <tr>\n",
       "      <th>0</th>\n",
       "      <td>K0</td>\n",
       "      <td>K0</td>\n",
       "      <td>A0</td>\n",
       "      <td>B0</td>\n",
       "      <td>C0</td>\n",
       "      <td>D0</td>\n",
       "    </tr>\n",
       "    <tr>\n",
       "      <th>1</th>\n",
       "      <td>K1</td>\n",
       "      <td>K0</td>\n",
       "      <td>A2</td>\n",
       "      <td>B2</td>\n",
       "      <td>C1</td>\n",
       "      <td>D1</td>\n",
       "    </tr>\n",
       "    <tr>\n",
       "      <th>2</th>\n",
       "      <td>K1</td>\n",
       "      <td>K0</td>\n",
       "      <td>A2</td>\n",
       "      <td>B2</td>\n",
       "      <td>C2</td>\n",
       "      <td>D2</td>\n",
       "    </tr>\n",
       "    <tr>\n",
       "      <th>3</th>\n",
       "      <td>K2</td>\n",
       "      <td>K0</td>\n",
       "      <td>NaN</td>\n",
       "      <td>NaN</td>\n",
       "      <td>C3</td>\n",
       "      <td>D3</td>\n",
       "    </tr>\n",
       "  </tbody>\n",
       "</table>\n",
       "</div>"
      ],
      "text/plain": [
       "  key1 key2    A    B   C   D\n",
       "0   K0   K0   A0   B0  C0  D0\n",
       "1   K1   K0   A2   B2  C1  D1\n",
       "2   K1   K0   A2   B2  C2  D2\n",
       "3   K2   K0  NaN  NaN  C3  D3"
      ]
     },
     "execution_count": 35,
     "metadata": {},
     "output_type": "execute_result"
    }
   ],
   "source": [
    "result = pd.merge(left, right, how=\"right\", on=[\"key1\", \"key2\"])\n",
    "result"
   ]
  },
  {
   "cell_type": "markdown",
   "id": "9edb3f85",
   "metadata": {},
   "source": [
    "For outer merge "
   ]
  },
  {
   "cell_type": "code",
   "execution_count": 36,
   "id": "20aad4a6",
   "metadata": {},
   "outputs": [
    {
     "data": {
      "application/vnd.microsoft.datawrangler.viewer.v0+json": {
       "columns": [
        {
         "name": "index",
         "rawType": "int64",
         "type": "integer"
        },
        {
         "name": "key1",
         "rawType": "object",
         "type": "string"
        },
        {
         "name": "key2",
         "rawType": "object",
         "type": "string"
        },
        {
         "name": "A",
         "rawType": "object",
         "type": "unknown"
        },
        {
         "name": "B",
         "rawType": "object",
         "type": "unknown"
        },
        {
         "name": "C",
         "rawType": "object",
         "type": "unknown"
        },
        {
         "name": "D",
         "rawType": "object",
         "type": "unknown"
        }
       ],
       "conversionMethod": "pd.DataFrame",
       "ref": "4d2f9924-40f7-4bdc-a8b2-28e6cff68947",
       "rows": [
        [
         "0",
         "K0",
         "K0",
         "A0",
         "B0",
         "C0",
         "D0"
        ],
        [
         "1",
         "K0",
         "K1",
         "A1",
         "B1",
         null,
         null
        ],
        [
         "2",
         "K1",
         "K0",
         "A2",
         "B2",
         "C1",
         "D1"
        ],
        [
         "3",
         "K1",
         "K0",
         "A2",
         "B2",
         "C2",
         "D2"
        ],
        [
         "4",
         "K2",
         "K0",
         null,
         null,
         "C3",
         "D3"
        ],
        [
         "5",
         "K2",
         "K1",
         "A3",
         "B3",
         null,
         null
        ]
       ],
       "shape": {
        "columns": 6,
        "rows": 6
       }
      },
      "text/html": [
       "<div>\n",
       "<style scoped>\n",
       "    .dataframe tbody tr th:only-of-type {\n",
       "        vertical-align: middle;\n",
       "    }\n",
       "\n",
       "    .dataframe tbody tr th {\n",
       "        vertical-align: top;\n",
       "    }\n",
       "\n",
       "    .dataframe thead th {\n",
       "        text-align: right;\n",
       "    }\n",
       "</style>\n",
       "<table border=\"1\" class=\"dataframe\">\n",
       "  <thead>\n",
       "    <tr style=\"text-align: right;\">\n",
       "      <th></th>\n",
       "      <th>key1</th>\n",
       "      <th>key2</th>\n",
       "      <th>A</th>\n",
       "      <th>B</th>\n",
       "      <th>C</th>\n",
       "      <th>D</th>\n",
       "    </tr>\n",
       "  </thead>\n",
       "  <tbody>\n",
       "    <tr>\n",
       "      <th>0</th>\n",
       "      <td>K0</td>\n",
       "      <td>K0</td>\n",
       "      <td>A0</td>\n",
       "      <td>B0</td>\n",
       "      <td>C0</td>\n",
       "      <td>D0</td>\n",
       "    </tr>\n",
       "    <tr>\n",
       "      <th>1</th>\n",
       "      <td>K0</td>\n",
       "      <td>K1</td>\n",
       "      <td>A1</td>\n",
       "      <td>B1</td>\n",
       "      <td>NaN</td>\n",
       "      <td>NaN</td>\n",
       "    </tr>\n",
       "    <tr>\n",
       "      <th>2</th>\n",
       "      <td>K1</td>\n",
       "      <td>K0</td>\n",
       "      <td>A2</td>\n",
       "      <td>B2</td>\n",
       "      <td>C1</td>\n",
       "      <td>D1</td>\n",
       "    </tr>\n",
       "    <tr>\n",
       "      <th>3</th>\n",
       "      <td>K1</td>\n",
       "      <td>K0</td>\n",
       "      <td>A2</td>\n",
       "      <td>B2</td>\n",
       "      <td>C2</td>\n",
       "      <td>D2</td>\n",
       "    </tr>\n",
       "    <tr>\n",
       "      <th>4</th>\n",
       "      <td>K2</td>\n",
       "      <td>K0</td>\n",
       "      <td>NaN</td>\n",
       "      <td>NaN</td>\n",
       "      <td>C3</td>\n",
       "      <td>D3</td>\n",
       "    </tr>\n",
       "    <tr>\n",
       "      <th>5</th>\n",
       "      <td>K2</td>\n",
       "      <td>K1</td>\n",
       "      <td>A3</td>\n",
       "      <td>B3</td>\n",
       "      <td>NaN</td>\n",
       "      <td>NaN</td>\n",
       "    </tr>\n",
       "  </tbody>\n",
       "</table>\n",
       "</div>"
      ],
      "text/plain": [
       "  key1 key2    A    B    C    D\n",
       "0   K0   K0   A0   B0   C0   D0\n",
       "1   K0   K1   A1   B1  NaN  NaN\n",
       "2   K1   K0   A2   B2   C1   D1\n",
       "3   K1   K0   A2   B2   C2   D2\n",
       "4   K2   K0  NaN  NaN   C3   D3\n",
       "5   K2   K1   A3   B3  NaN  NaN"
      ]
     },
     "execution_count": 36,
     "metadata": {},
     "output_type": "execute_result"
    }
   ],
   "source": [
    "result = pd.merge(left,right , how = \"outer\" , on = ['key1','key2'])\n",
    "result"
   ]
  },
  {
   "cell_type": "markdown",
   "id": "effee26c",
   "metadata": {},
   "source": [
    "Inner merge "
   ]
  },
  {
   "cell_type": "code",
   "execution_count": 37,
   "id": "92a36950",
   "metadata": {},
   "outputs": [
    {
     "data": {
      "application/vnd.microsoft.datawrangler.viewer.v0+json": {
       "columns": [
        {
         "name": "index",
         "rawType": "int64",
         "type": "integer"
        },
        {
         "name": "key1",
         "rawType": "object",
         "type": "string"
        },
        {
         "name": "key2",
         "rawType": "object",
         "type": "string"
        },
        {
         "name": "A",
         "rawType": "object",
         "type": "string"
        },
        {
         "name": "B",
         "rawType": "object",
         "type": "string"
        },
        {
         "name": "C",
         "rawType": "object",
         "type": "string"
        },
        {
         "name": "D",
         "rawType": "object",
         "type": "string"
        }
       ],
       "conversionMethod": "pd.DataFrame",
       "ref": "faa73ab0-2660-461e-80e1-dd7df047fbf0",
       "rows": [
        [
         "0",
         "K0",
         "K0",
         "A0",
         "B0",
         "C0",
         "D0"
        ],
        [
         "1",
         "K1",
         "K0",
         "A2",
         "B2",
         "C1",
         "D1"
        ],
        [
         "2",
         "K1",
         "K0",
         "A2",
         "B2",
         "C2",
         "D2"
        ]
       ],
       "shape": {
        "columns": 6,
        "rows": 3
       }
      },
      "text/html": [
       "<div>\n",
       "<style scoped>\n",
       "    .dataframe tbody tr th:only-of-type {\n",
       "        vertical-align: middle;\n",
       "    }\n",
       "\n",
       "    .dataframe tbody tr th {\n",
       "        vertical-align: top;\n",
       "    }\n",
       "\n",
       "    .dataframe thead th {\n",
       "        text-align: right;\n",
       "    }\n",
       "</style>\n",
       "<table border=\"1\" class=\"dataframe\">\n",
       "  <thead>\n",
       "    <tr style=\"text-align: right;\">\n",
       "      <th></th>\n",
       "      <th>key1</th>\n",
       "      <th>key2</th>\n",
       "      <th>A</th>\n",
       "      <th>B</th>\n",
       "      <th>C</th>\n",
       "      <th>D</th>\n",
       "    </tr>\n",
       "  </thead>\n",
       "  <tbody>\n",
       "    <tr>\n",
       "      <th>0</th>\n",
       "      <td>K0</td>\n",
       "      <td>K0</td>\n",
       "      <td>A0</td>\n",
       "      <td>B0</td>\n",
       "      <td>C0</td>\n",
       "      <td>D0</td>\n",
       "    </tr>\n",
       "    <tr>\n",
       "      <th>1</th>\n",
       "      <td>K1</td>\n",
       "      <td>K0</td>\n",
       "      <td>A2</td>\n",
       "      <td>B2</td>\n",
       "      <td>C1</td>\n",
       "      <td>D1</td>\n",
       "    </tr>\n",
       "    <tr>\n",
       "      <th>2</th>\n",
       "      <td>K1</td>\n",
       "      <td>K0</td>\n",
       "      <td>A2</td>\n",
       "      <td>B2</td>\n",
       "      <td>C2</td>\n",
       "      <td>D2</td>\n",
       "    </tr>\n",
       "  </tbody>\n",
       "</table>\n",
       "</div>"
      ],
      "text/plain": [
       "  key1 key2   A   B   C   D\n",
       "0   K0   K0  A0  B0  C0  D0\n",
       "1   K1   K0  A2  B2  C1  D1\n",
       "2   K1   K0  A2  B2  C2  D2"
      ]
     },
     "execution_count": 37,
     "metadata": {},
     "output_type": "execute_result"
    }
   ],
   "source": [
    "result = pd.merge(left,right , how = 'inner',on=['key1','key2'])\n",
    "result"
   ]
  },
  {
   "cell_type": "markdown",
   "id": "1aa7a1b6",
   "metadata": {},
   "source": [
    "# Merge key uniqueness"
   ]
  },
  {
   "cell_type": "code",
   "execution_count": 38,
   "id": "3a1e637f",
   "metadata": {},
   "outputs": [
    {
     "data": {
      "application/vnd.microsoft.datawrangler.viewer.v0+json": {
       "columns": [
        {
         "name": "index",
         "rawType": "int64",
         "type": "integer"
        },
        {
         "name": "A",
         "rawType": "int64",
         "type": "integer"
        },
        {
         "name": "B",
         "rawType": "int64",
         "type": "integer"
        }
       ],
       "conversionMethod": "pd.DataFrame",
       "ref": "b3b21d14-7b90-413f-a18f-6cfd283dd6b6",
       "rows": [
        [
         "0",
         "1",
         "1"
        ],
        [
         "1",
         "2",
         "2"
        ]
       ],
       "shape": {
        "columns": 2,
        "rows": 2
       }
      },
      "text/html": [
       "<div>\n",
       "<style scoped>\n",
       "    .dataframe tbody tr th:only-of-type {\n",
       "        vertical-align: middle;\n",
       "    }\n",
       "\n",
       "    .dataframe tbody tr th {\n",
       "        vertical-align: top;\n",
       "    }\n",
       "\n",
       "    .dataframe thead th {\n",
       "        text-align: right;\n",
       "    }\n",
       "</style>\n",
       "<table border=\"1\" class=\"dataframe\">\n",
       "  <thead>\n",
       "    <tr style=\"text-align: right;\">\n",
       "      <th></th>\n",
       "      <th>A</th>\n",
       "      <th>B</th>\n",
       "    </tr>\n",
       "  </thead>\n",
       "  <tbody>\n",
       "    <tr>\n",
       "      <th>0</th>\n",
       "      <td>1</td>\n",
       "      <td>1</td>\n",
       "    </tr>\n",
       "    <tr>\n",
       "      <th>1</th>\n",
       "      <td>2</td>\n",
       "      <td>2</td>\n",
       "    </tr>\n",
       "  </tbody>\n",
       "</table>\n",
       "</div>"
      ],
      "text/plain": [
       "   A  B\n",
       "0  1  1\n",
       "1  2  2"
      ]
     },
     "execution_count": 38,
     "metadata": {},
     "output_type": "execute_result"
    }
   ],
   "source": [
    "left = pd.DataFrame({\"A\": [1, 2], \"B\": [1, 2]})\n",
    "left"
   ]
  },
  {
   "cell_type": "code",
   "execution_count": 39,
   "id": "a876b258",
   "metadata": {},
   "outputs": [
    {
     "data": {
      "application/vnd.microsoft.datawrangler.viewer.v0+json": {
       "columns": [
        {
         "name": "index",
         "rawType": "int64",
         "type": "integer"
        },
        {
         "name": "A",
         "rawType": "int64",
         "type": "integer"
        },
        {
         "name": "B",
         "rawType": "int64",
         "type": "integer"
        }
       ],
       "conversionMethod": "pd.DataFrame",
       "ref": "05c3ed5c-4bd3-4a29-8f49-5afd25fbcf12",
       "rows": [
        [
         "0",
         "4",
         "2"
        ],
        [
         "1",
         "5",
         "2"
        ],
        [
         "2",
         "6",
         "2"
        ]
       ],
       "shape": {
        "columns": 2,
        "rows": 3
       }
      },
      "text/html": [
       "<div>\n",
       "<style scoped>\n",
       "    .dataframe tbody tr th:only-of-type {\n",
       "        vertical-align: middle;\n",
       "    }\n",
       "\n",
       "    .dataframe tbody tr th {\n",
       "        vertical-align: top;\n",
       "    }\n",
       "\n",
       "    .dataframe thead th {\n",
       "        text-align: right;\n",
       "    }\n",
       "</style>\n",
       "<table border=\"1\" class=\"dataframe\">\n",
       "  <thead>\n",
       "    <tr style=\"text-align: right;\">\n",
       "      <th></th>\n",
       "      <th>A</th>\n",
       "      <th>B</th>\n",
       "    </tr>\n",
       "  </thead>\n",
       "  <tbody>\n",
       "    <tr>\n",
       "      <th>0</th>\n",
       "      <td>4</td>\n",
       "      <td>2</td>\n",
       "    </tr>\n",
       "    <tr>\n",
       "      <th>1</th>\n",
       "      <td>5</td>\n",
       "      <td>2</td>\n",
       "    </tr>\n",
       "    <tr>\n",
       "      <th>2</th>\n",
       "      <td>6</td>\n",
       "      <td>2</td>\n",
       "    </tr>\n",
       "  </tbody>\n",
       "</table>\n",
       "</div>"
      ],
      "text/plain": [
       "   A  B\n",
       "0  4  2\n",
       "1  5  2\n",
       "2  6  2"
      ]
     },
     "execution_count": 39,
     "metadata": {},
     "output_type": "execute_result"
    }
   ],
   "source": [
    "right = pd.DataFrame({\"A\": [4, 5, 6], \"B\": [2, 2, 2]})\n",
    "right"
   ]
  },
  {
   "cell_type": "code",
   "execution_count": 40,
   "id": "3a71159b",
   "metadata": {},
   "outputs": [
    {
     "ename": "MergeError",
     "evalue": "Merge keys are not unique in right dataset; not a one-to-one merge",
     "output_type": "error",
     "traceback": [
      "\u001b[1;31m---------------------------------------------------------------------------\u001b[0m",
      "\u001b[1;31mMergeError\u001b[0m                                Traceback (most recent call last)",
      "Cell \u001b[1;32mIn[40], line 1\u001b[0m\n\u001b[1;32m----> 1\u001b[0m result \u001b[38;5;241m=\u001b[39m \u001b[43mpd\u001b[49m\u001b[38;5;241;43m.\u001b[39;49m\u001b[43mmerge\u001b[49m\u001b[43m(\u001b[49m\u001b[43mleft\u001b[49m\u001b[43m,\u001b[49m\u001b[43mright\u001b[49m\u001b[43m \u001b[49m\u001b[43m,\u001b[49m\u001b[43m \u001b[49m\u001b[43mon\u001b[49m\u001b[43m \u001b[49m\u001b[38;5;241;43m=\u001b[39;49m\u001b[43m \u001b[49m\u001b[38;5;124;43m'\u001b[39;49m\u001b[38;5;124;43mB\u001b[39;49m\u001b[38;5;124;43m'\u001b[39;49m\u001b[43m \u001b[49m\u001b[43m,\u001b[49m\u001b[43m \u001b[49m\u001b[43mhow\u001b[49m\u001b[43m \u001b[49m\u001b[38;5;241;43m=\u001b[39;49m\u001b[43m \u001b[49m\u001b[38;5;124;43m'\u001b[39;49m\u001b[38;5;124;43mouter\u001b[39;49m\u001b[38;5;124;43m'\u001b[39;49m\u001b[43m,\u001b[49m\u001b[43mvalidate\u001b[49m\u001b[38;5;241;43m=\u001b[39;49m\u001b[38;5;124;43m'\u001b[39;49m\u001b[38;5;124;43mone_to_one\u001b[39;49m\u001b[38;5;124;43m'\u001b[39;49m\u001b[43m)\u001b[49m\n",
      "File \u001b[1;32m~\\AppData\\Local\\Packages\\PythonSoftwareFoundation.Python.3.11_qbz5n2kfra8p0\\LocalCache\\local-packages\\Python311\\site-packages\\pandas\\core\\reshape\\merge.py:170\u001b[0m, in \u001b[0;36mmerge\u001b[1;34m(left, right, how, on, left_on, right_on, left_index, right_index, sort, suffixes, copy, indicator, validate)\u001b[0m\n\u001b[0;32m    155\u001b[0m     \u001b[38;5;28;01mreturn\u001b[39;00m _cross_merge(\n\u001b[0;32m    156\u001b[0m         left_df,\n\u001b[0;32m    157\u001b[0m         right_df,\n\u001b[1;32m   (...)\u001b[0m\n\u001b[0;32m    167\u001b[0m         copy\u001b[38;5;241m=\u001b[39mcopy,\n\u001b[0;32m    168\u001b[0m     )\n\u001b[0;32m    169\u001b[0m \u001b[38;5;28;01melse\u001b[39;00m:\n\u001b[1;32m--> 170\u001b[0m     op \u001b[38;5;241m=\u001b[39m \u001b[43m_MergeOperation\u001b[49m\u001b[43m(\u001b[49m\n\u001b[0;32m    171\u001b[0m \u001b[43m        \u001b[49m\u001b[43mleft_df\u001b[49m\u001b[43m,\u001b[49m\n\u001b[0;32m    172\u001b[0m \u001b[43m        \u001b[49m\u001b[43mright_df\u001b[49m\u001b[43m,\u001b[49m\n\u001b[0;32m    173\u001b[0m \u001b[43m        \u001b[49m\u001b[43mhow\u001b[49m\u001b[38;5;241;43m=\u001b[39;49m\u001b[43mhow\u001b[49m\u001b[43m,\u001b[49m\n\u001b[0;32m    174\u001b[0m \u001b[43m        \u001b[49m\u001b[43mon\u001b[49m\u001b[38;5;241;43m=\u001b[39;49m\u001b[43mon\u001b[49m\u001b[43m,\u001b[49m\n\u001b[0;32m    175\u001b[0m \u001b[43m        \u001b[49m\u001b[43mleft_on\u001b[49m\u001b[38;5;241;43m=\u001b[39;49m\u001b[43mleft_on\u001b[49m\u001b[43m,\u001b[49m\n\u001b[0;32m    176\u001b[0m \u001b[43m        \u001b[49m\u001b[43mright_on\u001b[49m\u001b[38;5;241;43m=\u001b[39;49m\u001b[43mright_on\u001b[49m\u001b[43m,\u001b[49m\n\u001b[0;32m    177\u001b[0m \u001b[43m        \u001b[49m\u001b[43mleft_index\u001b[49m\u001b[38;5;241;43m=\u001b[39;49m\u001b[43mleft_index\u001b[49m\u001b[43m,\u001b[49m\n\u001b[0;32m    178\u001b[0m \u001b[43m        \u001b[49m\u001b[43mright_index\u001b[49m\u001b[38;5;241;43m=\u001b[39;49m\u001b[43mright_index\u001b[49m\u001b[43m,\u001b[49m\n\u001b[0;32m    179\u001b[0m \u001b[43m        \u001b[49m\u001b[43msort\u001b[49m\u001b[38;5;241;43m=\u001b[39;49m\u001b[43msort\u001b[49m\u001b[43m,\u001b[49m\n\u001b[0;32m    180\u001b[0m \u001b[43m        \u001b[49m\u001b[43msuffixes\u001b[49m\u001b[38;5;241;43m=\u001b[39;49m\u001b[43msuffixes\u001b[49m\u001b[43m,\u001b[49m\n\u001b[0;32m    181\u001b[0m \u001b[43m        \u001b[49m\u001b[43mindicator\u001b[49m\u001b[38;5;241;43m=\u001b[39;49m\u001b[43mindicator\u001b[49m\u001b[43m,\u001b[49m\n\u001b[0;32m    182\u001b[0m \u001b[43m        \u001b[49m\u001b[43mvalidate\u001b[49m\u001b[38;5;241;43m=\u001b[39;49m\u001b[43mvalidate\u001b[49m\u001b[43m,\u001b[49m\n\u001b[0;32m    183\u001b[0m \u001b[43m    \u001b[49m\u001b[43m)\u001b[49m\n\u001b[0;32m    184\u001b[0m     \u001b[38;5;28;01mreturn\u001b[39;00m op\u001b[38;5;241m.\u001b[39mget_result(copy\u001b[38;5;241m=\u001b[39mcopy)\n",
      "File \u001b[1;32m~\\AppData\\Local\\Packages\\PythonSoftwareFoundation.Python.3.11_qbz5n2kfra8p0\\LocalCache\\local-packages\\Python311\\site-packages\\pandas\\core\\reshape\\merge.py:813\u001b[0m, in \u001b[0;36m_MergeOperation.__init__\u001b[1;34m(self, left, right, how, on, left_on, right_on, left_index, right_index, sort, suffixes, indicator, validate)\u001b[0m\n\u001b[0;32m    809\u001b[0m \u001b[38;5;66;03m# If argument passed to validate,\u001b[39;00m\n\u001b[0;32m    810\u001b[0m \u001b[38;5;66;03m# check if columns specified as unique\u001b[39;00m\n\u001b[0;32m    811\u001b[0m \u001b[38;5;66;03m# are in fact unique.\u001b[39;00m\n\u001b[0;32m    812\u001b[0m \u001b[38;5;28;01mif\u001b[39;00m validate \u001b[38;5;129;01mis\u001b[39;00m \u001b[38;5;129;01mnot\u001b[39;00m \u001b[38;5;28;01mNone\u001b[39;00m:\n\u001b[1;32m--> 813\u001b[0m     \u001b[38;5;28;43mself\u001b[39;49m\u001b[38;5;241;43m.\u001b[39;49m\u001b[43m_validate_validate_kwd\u001b[49m\u001b[43m(\u001b[49m\u001b[43mvalidate\u001b[49m\u001b[43m)\u001b[49m\n",
      "File \u001b[1;32m~\\AppData\\Local\\Packages\\PythonSoftwareFoundation.Python.3.11_qbz5n2kfra8p0\\LocalCache\\local-packages\\Python311\\site-packages\\pandas\\core\\reshape\\merge.py:1657\u001b[0m, in \u001b[0;36m_MergeOperation._validate_validate_kwd\u001b[1;34m(self, validate)\u001b[0m\n\u001b[0;32m   1653\u001b[0m         \u001b[38;5;28;01mraise\u001b[39;00m MergeError(\n\u001b[0;32m   1654\u001b[0m             \u001b[38;5;124m\"\u001b[39m\u001b[38;5;124mMerge keys are not unique in left dataset; not a one-to-one merge\u001b[39m\u001b[38;5;124m\"\u001b[39m\n\u001b[0;32m   1655\u001b[0m         )\n\u001b[0;32m   1656\u001b[0m     \u001b[38;5;28;01mif\u001b[39;00m \u001b[38;5;129;01mnot\u001b[39;00m right_unique:\n\u001b[1;32m-> 1657\u001b[0m         \u001b[38;5;28;01mraise\u001b[39;00m MergeError(\n\u001b[0;32m   1658\u001b[0m             \u001b[38;5;124m\"\u001b[39m\u001b[38;5;124mMerge keys are not unique in right dataset; not a one-to-one merge\u001b[39m\u001b[38;5;124m\"\u001b[39m\n\u001b[0;32m   1659\u001b[0m         )\n\u001b[0;32m   1661\u001b[0m \u001b[38;5;28;01melif\u001b[39;00m validate \u001b[38;5;129;01min\u001b[39;00m [\u001b[38;5;124m\"\u001b[39m\u001b[38;5;124mone_to_many\u001b[39m\u001b[38;5;124m\"\u001b[39m, \u001b[38;5;124m\"\u001b[39m\u001b[38;5;124m1:m\u001b[39m\u001b[38;5;124m\"\u001b[39m]:\n\u001b[0;32m   1662\u001b[0m     \u001b[38;5;28;01mif\u001b[39;00m \u001b[38;5;129;01mnot\u001b[39;00m left_unique:\n",
      "\u001b[1;31mMergeError\u001b[0m: Merge keys are not unique in right dataset; not a one-to-one merge"
     ]
    }
   ],
   "source": [
    "result = pd.merge(left,right , on = 'B' , how = 'outer',validate='one_to_one')"
   ]
  },
  {
   "cell_type": "code",
   "execution_count": null,
   "id": "986e253d",
   "metadata": {},
   "outputs": [
    {
     "data": {
      "application/vnd.microsoft.datawrangler.viewer.v0+json": {
       "columns": [
        {
         "name": "index",
         "rawType": "int64",
         "type": "integer"
        },
        {
         "name": "A_x",
         "rawType": "int64",
         "type": "integer"
        },
        {
         "name": "B",
         "rawType": "int64",
         "type": "integer"
        },
        {
         "name": "A_y",
         "rawType": "float64",
         "type": "float"
        }
       ],
       "conversionMethod": "pd.DataFrame",
       "ref": "ac41e12c-1ae0-4eab-aaff-627e3b646b1e",
       "rows": [
        [
         "0",
         "1",
         "1",
         null
        ],
        [
         "1",
         "2",
         "2",
         "4.0"
        ],
        [
         "2",
         "2",
         "2",
         "5.0"
        ],
        [
         "3",
         "2",
         "2",
         "6.0"
        ]
       ],
       "shape": {
        "columns": 3,
        "rows": 4
       }
      },
      "text/html": [
       "<div>\n",
       "<style scoped>\n",
       "    .dataframe tbody tr th:only-of-type {\n",
       "        vertical-align: middle;\n",
       "    }\n",
       "\n",
       "    .dataframe tbody tr th {\n",
       "        vertical-align: top;\n",
       "    }\n",
       "\n",
       "    .dataframe thead th {\n",
       "        text-align: right;\n",
       "    }\n",
       "</style>\n",
       "<table border=\"1\" class=\"dataframe\">\n",
       "  <thead>\n",
       "    <tr style=\"text-align: right;\">\n",
       "      <th></th>\n",
       "      <th>A_x</th>\n",
       "      <th>B</th>\n",
       "      <th>A_y</th>\n",
       "    </tr>\n",
       "  </thead>\n",
       "  <tbody>\n",
       "    <tr>\n",
       "      <th>0</th>\n",
       "      <td>1</td>\n",
       "      <td>1</td>\n",
       "      <td>NaN</td>\n",
       "    </tr>\n",
       "    <tr>\n",
       "      <th>1</th>\n",
       "      <td>2</td>\n",
       "      <td>2</td>\n",
       "      <td>4.0</td>\n",
       "    </tr>\n",
       "    <tr>\n",
       "      <th>2</th>\n",
       "      <td>2</td>\n",
       "      <td>2</td>\n",
       "      <td>5.0</td>\n",
       "    </tr>\n",
       "    <tr>\n",
       "      <th>3</th>\n",
       "      <td>2</td>\n",
       "      <td>2</td>\n",
       "      <td>6.0</td>\n",
       "    </tr>\n",
       "  </tbody>\n",
       "</table>\n",
       "</div>"
      ],
      "text/plain": [
       "   A_x  B  A_y\n",
       "0    1  1  NaN\n",
       "1    2  2  4.0\n",
       "2    2  2  5.0\n",
       "3    2  2  6.0"
      ]
     },
     "execution_count": 23,
     "metadata": {},
     "output_type": "execute_result"
    }
   ],
   "source": [
    "pd.merge(left, right, on=\"B\", how=\"outer\", validate=\"one_to_many\")"
   ]
  },
  {
   "cell_type": "markdown",
   "id": "a97cef2d",
   "metadata": {},
   "source": [
    "#  DataFrame.join()"
   ]
  },
  {
   "cell_type": "code",
   "execution_count": null,
   "id": "5a5a8f7f",
   "metadata": {},
   "outputs": [
    {
     "data": {
      "application/vnd.microsoft.datawrangler.viewer.v0+json": {
       "columns": [
        {
         "name": "index",
         "rawType": "object",
         "type": "string"
        },
        {
         "name": "A",
         "rawType": "object",
         "type": "string"
        },
        {
         "name": "B",
         "rawType": "object",
         "type": "string"
        }
       ],
       "conversionMethod": "pd.DataFrame",
       "ref": "638da85b-0517-4fad-bdbd-7a60dead4ee7",
       "rows": [
        [
         "K0",
         "A0",
         "B0"
        ],
        [
         "K1",
         "A1",
         "B1"
        ],
        [
         "K2",
         "A2",
         "B2"
        ]
       ],
       "shape": {
        "columns": 2,
        "rows": 3
       }
      },
      "text/html": [
       "<div>\n",
       "<style scoped>\n",
       "    .dataframe tbody tr th:only-of-type {\n",
       "        vertical-align: middle;\n",
       "    }\n",
       "\n",
       "    .dataframe tbody tr th {\n",
       "        vertical-align: top;\n",
       "    }\n",
       "\n",
       "    .dataframe thead th {\n",
       "        text-align: right;\n",
       "    }\n",
       "</style>\n",
       "<table border=\"1\" class=\"dataframe\">\n",
       "  <thead>\n",
       "    <tr style=\"text-align: right;\">\n",
       "      <th></th>\n",
       "      <th>A</th>\n",
       "      <th>B</th>\n",
       "    </tr>\n",
       "  </thead>\n",
       "  <tbody>\n",
       "    <tr>\n",
       "      <th>K0</th>\n",
       "      <td>A0</td>\n",
       "      <td>B0</td>\n",
       "    </tr>\n",
       "    <tr>\n",
       "      <th>K1</th>\n",
       "      <td>A1</td>\n",
       "      <td>B1</td>\n",
       "    </tr>\n",
       "    <tr>\n",
       "      <th>K2</th>\n",
       "      <td>A2</td>\n",
       "      <td>B2</td>\n",
       "    </tr>\n",
       "  </tbody>\n",
       "</table>\n",
       "</div>"
      ],
      "text/plain": [
       "     A   B\n",
       "K0  A0  B0\n",
       "K1  A1  B1\n",
       "K2  A2  B2"
      ]
     },
     "execution_count": 25,
     "metadata": {},
     "output_type": "execute_result"
    }
   ],
   "source": [
    "left = pd.DataFrame(\n",
    "    {\"A\": [\"A0\", \"A1\", \"A2\"], \"B\": [\"B0\", \"B1\", \"B2\"]}, index=[\"K0\", \"K1\", \"K2\"]\n",
    ")\n",
    "left"
   ]
  },
  {
   "cell_type": "code",
   "execution_count": null,
   "id": "6ef5ffa7",
   "metadata": {},
   "outputs": [
    {
     "data": {
      "application/vnd.microsoft.datawrangler.viewer.v0+json": {
       "columns": [
        {
         "name": "index",
         "rawType": "object",
         "type": "string"
        },
        {
         "name": "C",
         "rawType": "object",
         "type": "string"
        },
        {
         "name": "D",
         "rawType": "object",
         "type": "string"
        }
       ],
       "conversionMethod": "pd.DataFrame",
       "ref": "4d28374d-d5e9-4a58-bf60-fad821dee525",
       "rows": [
        [
         "K0",
         "C0",
         "D0"
        ],
        [
         "K2",
         "C2",
         "D2"
        ],
        [
         "K3",
         "C3",
         "D3"
        ]
       ],
       "shape": {
        "columns": 2,
        "rows": 3
       }
      },
      "text/html": [
       "<div>\n",
       "<style scoped>\n",
       "    .dataframe tbody tr th:only-of-type {\n",
       "        vertical-align: middle;\n",
       "    }\n",
       "\n",
       "    .dataframe tbody tr th {\n",
       "        vertical-align: top;\n",
       "    }\n",
       "\n",
       "    .dataframe thead th {\n",
       "        text-align: right;\n",
       "    }\n",
       "</style>\n",
       "<table border=\"1\" class=\"dataframe\">\n",
       "  <thead>\n",
       "    <tr style=\"text-align: right;\">\n",
       "      <th></th>\n",
       "      <th>C</th>\n",
       "      <th>D</th>\n",
       "    </tr>\n",
       "  </thead>\n",
       "  <tbody>\n",
       "    <tr>\n",
       "      <th>K0</th>\n",
       "      <td>C0</td>\n",
       "      <td>D0</td>\n",
       "    </tr>\n",
       "    <tr>\n",
       "      <th>K2</th>\n",
       "      <td>C2</td>\n",
       "      <td>D2</td>\n",
       "    </tr>\n",
       "    <tr>\n",
       "      <th>K3</th>\n",
       "      <td>C3</td>\n",
       "      <td>D3</td>\n",
       "    </tr>\n",
       "  </tbody>\n",
       "</table>\n",
       "</div>"
      ],
      "text/plain": [
       "     C   D\n",
       "K0  C0  D0\n",
       "K2  C2  D2\n",
       "K3  C3  D3"
      ]
     },
     "execution_count": 27,
     "metadata": {},
     "output_type": "execute_result"
    }
   ],
   "source": [
    "right = pd.DataFrame(\n",
    "    {\"C\": [\"C0\", \"C2\", \"C3\"], \"D\": [\"D0\", \"D2\", \"D3\"]}, index=[\"K0\", \"K2\", \"K3\"]\n",
    ")\n",
    "right"
   ]
  },
  {
   "cell_type": "markdown",
   "id": "86c27846",
   "metadata": {},
   "source": [
    "to join the two different dataframe "
   ]
  },
  {
   "cell_type": "code",
   "execution_count": null,
   "id": "77aed72c",
   "metadata": {},
   "outputs": [
    {
     "data": {
      "application/vnd.microsoft.datawrangler.viewer.v0+json": {
       "columns": [
        {
         "name": "index",
         "rawType": "object",
         "type": "string"
        },
        {
         "name": "A",
         "rawType": "object",
         "type": "string"
        },
        {
         "name": "B",
         "rawType": "object",
         "type": "string"
        },
        {
         "name": "C",
         "rawType": "object",
         "type": "unknown"
        },
        {
         "name": "D",
         "rawType": "object",
         "type": "unknown"
        }
       ],
       "conversionMethod": "pd.DataFrame",
       "ref": "d75a7be2-4e09-419c-be76-8ed00439e8d1",
       "rows": [
        [
         "K0",
         "A0",
         "B0",
         "C0",
         "D0"
        ],
        [
         "K1",
         "A1",
         "B1",
         null,
         null
        ],
        [
         "K2",
         "A2",
         "B2",
         "C2",
         "D2"
        ]
       ],
       "shape": {
        "columns": 4,
        "rows": 3
       }
      },
      "text/html": [
       "<div>\n",
       "<style scoped>\n",
       "    .dataframe tbody tr th:only-of-type {\n",
       "        vertical-align: middle;\n",
       "    }\n",
       "\n",
       "    .dataframe tbody tr th {\n",
       "        vertical-align: top;\n",
       "    }\n",
       "\n",
       "    .dataframe thead th {\n",
       "        text-align: right;\n",
       "    }\n",
       "</style>\n",
       "<table border=\"1\" class=\"dataframe\">\n",
       "  <thead>\n",
       "    <tr style=\"text-align: right;\">\n",
       "      <th></th>\n",
       "      <th>A</th>\n",
       "      <th>B</th>\n",
       "      <th>C</th>\n",
       "      <th>D</th>\n",
       "    </tr>\n",
       "  </thead>\n",
       "  <tbody>\n",
       "    <tr>\n",
       "      <th>K0</th>\n",
       "      <td>A0</td>\n",
       "      <td>B0</td>\n",
       "      <td>C0</td>\n",
       "      <td>D0</td>\n",
       "    </tr>\n",
       "    <tr>\n",
       "      <th>K1</th>\n",
       "      <td>A1</td>\n",
       "      <td>B1</td>\n",
       "      <td>NaN</td>\n",
       "      <td>NaN</td>\n",
       "    </tr>\n",
       "    <tr>\n",
       "      <th>K2</th>\n",
       "      <td>A2</td>\n",
       "      <td>B2</td>\n",
       "      <td>C2</td>\n",
       "      <td>D2</td>\n",
       "    </tr>\n",
       "  </tbody>\n",
       "</table>\n",
       "</div>"
      ],
      "text/plain": [
       "     A   B    C    D\n",
       "K0  A0  B0   C0   D0\n",
       "K1  A1  B1  NaN  NaN\n",
       "K2  A2  B2   C2   D2"
      ]
     },
     "execution_count": 29,
     "metadata": {},
     "output_type": "execute_result"
    }
   ],
   "source": [
    "result = left.join(right)\n",
    "result"
   ]
  },
  {
   "cell_type": "code",
   "execution_count": null,
   "id": "0df15de6",
   "metadata": {},
   "outputs": [
    {
     "data": {
      "application/vnd.microsoft.datawrangler.viewer.v0+json": {
       "columns": [
        {
         "name": "index",
         "rawType": "object",
         "type": "string"
        },
        {
         "name": "A",
         "rawType": "object",
         "type": "unknown"
        },
        {
         "name": "B",
         "rawType": "object",
         "type": "unknown"
        },
        {
         "name": "C",
         "rawType": "object",
         "type": "unknown"
        },
        {
         "name": "D",
         "rawType": "object",
         "type": "unknown"
        }
       ],
       "conversionMethod": "pd.DataFrame",
       "ref": "73bee6e1-7fa5-49ae-8a7b-9a881ab939a7",
       "rows": [
        [
         "K0",
         "A0",
         "B0",
         "C0",
         "D0"
        ],
        [
         "K1",
         "A1",
         "B1",
         null,
         null
        ],
        [
         "K2",
         "A2",
         "B2",
         "C2",
         "D2"
        ],
        [
         "K3",
         null,
         null,
         "C3",
         "D3"
        ]
       ],
       "shape": {
        "columns": 4,
        "rows": 4
       }
      },
      "text/html": [
       "<div>\n",
       "<style scoped>\n",
       "    .dataframe tbody tr th:only-of-type {\n",
       "        vertical-align: middle;\n",
       "    }\n",
       "\n",
       "    .dataframe tbody tr th {\n",
       "        vertical-align: top;\n",
       "    }\n",
       "\n",
       "    .dataframe thead th {\n",
       "        text-align: right;\n",
       "    }\n",
       "</style>\n",
       "<table border=\"1\" class=\"dataframe\">\n",
       "  <thead>\n",
       "    <tr style=\"text-align: right;\">\n",
       "      <th></th>\n",
       "      <th>A</th>\n",
       "      <th>B</th>\n",
       "      <th>C</th>\n",
       "      <th>D</th>\n",
       "    </tr>\n",
       "  </thead>\n",
       "  <tbody>\n",
       "    <tr>\n",
       "      <th>K0</th>\n",
       "      <td>A0</td>\n",
       "      <td>B0</td>\n",
       "      <td>C0</td>\n",
       "      <td>D0</td>\n",
       "    </tr>\n",
       "    <tr>\n",
       "      <th>K1</th>\n",
       "      <td>A1</td>\n",
       "      <td>B1</td>\n",
       "      <td>NaN</td>\n",
       "      <td>NaN</td>\n",
       "    </tr>\n",
       "    <tr>\n",
       "      <th>K2</th>\n",
       "      <td>A2</td>\n",
       "      <td>B2</td>\n",
       "      <td>C2</td>\n",
       "      <td>D2</td>\n",
       "    </tr>\n",
       "    <tr>\n",
       "      <th>K3</th>\n",
       "      <td>NaN</td>\n",
       "      <td>NaN</td>\n",
       "      <td>C3</td>\n",
       "      <td>D3</td>\n",
       "    </tr>\n",
       "  </tbody>\n",
       "</table>\n",
       "</div>"
      ],
      "text/plain": [
       "      A    B    C    D\n",
       "K0   A0   B0   C0   D0\n",
       "K1   A1   B1  NaN  NaN\n",
       "K2   A2   B2   C2   D2\n",
       "K3  NaN  NaN   C3   D3"
      ]
     },
     "execution_count": 30,
     "metadata": {},
     "output_type": "execute_result"
    }
   ],
   "source": [
    "result = left.join(right, how=\"outer\")\n",
    "result"
   ]
  },
  {
   "cell_type": "markdown",
   "id": "1fa0a9e0",
   "metadata": {},
   "source": [
    "# Reshaping and pivot tables"
   ]
  },
  {
   "cell_type": "markdown",
   "id": "9763dac1",
   "metadata": {},
   "source": [
    "pivot()"
   ]
  },
  {
   "cell_type": "markdown",
   "id": "6317868a",
   "metadata": {},
   "source": [
    "Data is often stored in so-called “stacked” or “record” format. In a “record” or “wide” format, typically there is one row for each subject. In the “stacked” or “long” format there are multiple rows for each subject where applicable"
   ]
  },
  {
   "cell_type": "code",
   "execution_count": null,
   "id": "e2b58fb2",
   "metadata": {},
   "outputs": [
    {
     "data": {
      "text/plain": [
       "{'value': range(0, 12),\n",
       " 'variable': ['A', 'A', 'A', 'B', 'B', 'B', 'C', 'C', 'C', 'D', 'D', 'D'],\n",
       " 'date': DatetimeIndex(['2025-01-03', '2025-01-04', '2025-01-05', '2025-01-03',\n",
       "                '2025-01-04', '2025-01-05', '2025-01-03', '2025-01-04',\n",
       "                '2025-01-05', '2025-01-03', '2025-01-04', '2025-01-05'],\n",
       "               dtype='datetime64[ns]', freq=None)}"
      ]
     },
     "execution_count": 15,
     "metadata": {},
     "output_type": "execute_result"
    }
   ],
   "source": [
    "data = {  \n",
    "        \n",
    "        \"value\" : range(12),\n",
    "        \"variable\" : ['A'] * 3 + ['B'] * 3 + ['C'] * 3 + ['D'] * 3 ,\n",
    "        \"date\" : pd.to_datetime([\"2025-01-03\", \"2025-01-04\", \"2025-01-05\"]  * 4)\n",
    "        \n",
    "        \n",
    "        }\n",
    "data"
   ]
  },
  {
   "cell_type": "code",
   "execution_count": null,
   "id": "8a8fb93f",
   "metadata": {},
   "outputs": [
    {
     "data": {
      "application/vnd.microsoft.datawrangler.viewer.v0+json": {
       "columns": [
        {
         "name": "index",
         "rawType": "int64",
         "type": "integer"
        },
        {
         "name": "value",
         "rawType": "int64",
         "type": "integer"
        },
        {
         "name": "variable",
         "rawType": "object",
         "type": "string"
        },
        {
         "name": "date",
         "rawType": "datetime64[ns]",
         "type": "datetime"
        }
       ],
       "conversionMethod": "pd.DataFrame",
       "ref": "4f782fe4-4dae-46e6-be93-bf131844a952",
       "rows": [
        [
         "0",
         "0",
         "A",
         "2025-01-03 00:00:00"
        ],
        [
         "1",
         "1",
         "A",
         "2025-01-04 00:00:00"
        ],
        [
         "2",
         "2",
         "A",
         "2025-01-05 00:00:00"
        ],
        [
         "3",
         "3",
         "B",
         "2025-01-03 00:00:00"
        ],
        [
         "4",
         "4",
         "B",
         "2025-01-04 00:00:00"
        ],
        [
         "5",
         "5",
         "B",
         "2025-01-05 00:00:00"
        ],
        [
         "6",
         "6",
         "C",
         "2025-01-03 00:00:00"
        ],
        [
         "7",
         "7",
         "C",
         "2025-01-04 00:00:00"
        ],
        [
         "8",
         "8",
         "C",
         "2025-01-05 00:00:00"
        ],
        [
         "9",
         "9",
         "D",
         "2025-01-03 00:00:00"
        ],
        [
         "10",
         "10",
         "D",
         "2025-01-04 00:00:00"
        ],
        [
         "11",
         "11",
         "D",
         "2025-01-05 00:00:00"
        ]
       ],
       "shape": {
        "columns": 3,
        "rows": 12
       }
      },
      "text/html": [
       "<div>\n",
       "<style scoped>\n",
       "    .dataframe tbody tr th:only-of-type {\n",
       "        vertical-align: middle;\n",
       "    }\n",
       "\n",
       "    .dataframe tbody tr th {\n",
       "        vertical-align: top;\n",
       "    }\n",
       "\n",
       "    .dataframe thead th {\n",
       "        text-align: right;\n",
       "    }\n",
       "</style>\n",
       "<table border=\"1\" class=\"dataframe\">\n",
       "  <thead>\n",
       "    <tr style=\"text-align: right;\">\n",
       "      <th></th>\n",
       "      <th>value</th>\n",
       "      <th>variable</th>\n",
       "      <th>date</th>\n",
       "    </tr>\n",
       "  </thead>\n",
       "  <tbody>\n",
       "    <tr>\n",
       "      <th>0</th>\n",
       "      <td>0</td>\n",
       "      <td>A</td>\n",
       "      <td>2025-01-03</td>\n",
       "    </tr>\n",
       "    <tr>\n",
       "      <th>1</th>\n",
       "      <td>1</td>\n",
       "      <td>A</td>\n",
       "      <td>2025-01-04</td>\n",
       "    </tr>\n",
       "    <tr>\n",
       "      <th>2</th>\n",
       "      <td>2</td>\n",
       "      <td>A</td>\n",
       "      <td>2025-01-05</td>\n",
       "    </tr>\n",
       "    <tr>\n",
       "      <th>3</th>\n",
       "      <td>3</td>\n",
       "      <td>B</td>\n",
       "      <td>2025-01-03</td>\n",
       "    </tr>\n",
       "    <tr>\n",
       "      <th>4</th>\n",
       "      <td>4</td>\n",
       "      <td>B</td>\n",
       "      <td>2025-01-04</td>\n",
       "    </tr>\n",
       "    <tr>\n",
       "      <th>5</th>\n",
       "      <td>5</td>\n",
       "      <td>B</td>\n",
       "      <td>2025-01-05</td>\n",
       "    </tr>\n",
       "    <tr>\n",
       "      <th>6</th>\n",
       "      <td>6</td>\n",
       "      <td>C</td>\n",
       "      <td>2025-01-03</td>\n",
       "    </tr>\n",
       "    <tr>\n",
       "      <th>7</th>\n",
       "      <td>7</td>\n",
       "      <td>C</td>\n",
       "      <td>2025-01-04</td>\n",
       "    </tr>\n",
       "    <tr>\n",
       "      <th>8</th>\n",
       "      <td>8</td>\n",
       "      <td>C</td>\n",
       "      <td>2025-01-05</td>\n",
       "    </tr>\n",
       "    <tr>\n",
       "      <th>9</th>\n",
       "      <td>9</td>\n",
       "      <td>D</td>\n",
       "      <td>2025-01-03</td>\n",
       "    </tr>\n",
       "    <tr>\n",
       "      <th>10</th>\n",
       "      <td>10</td>\n",
       "      <td>D</td>\n",
       "      <td>2025-01-04</td>\n",
       "    </tr>\n",
       "    <tr>\n",
       "      <th>11</th>\n",
       "      <td>11</td>\n",
       "      <td>D</td>\n",
       "      <td>2025-01-05</td>\n",
       "    </tr>\n",
       "  </tbody>\n",
       "</table>\n",
       "</div>"
      ],
      "text/plain": [
       "    value variable       date\n",
       "0       0        A 2025-01-03\n",
       "1       1        A 2025-01-04\n",
       "2       2        A 2025-01-05\n",
       "3       3        B 2025-01-03\n",
       "4       4        B 2025-01-04\n",
       "5       5        B 2025-01-05\n",
       "6       6        C 2025-01-03\n",
       "7       7        C 2025-01-04\n",
       "8       8        C 2025-01-05\n",
       "9       9        D 2025-01-03\n",
       "10     10        D 2025-01-04\n",
       "11     11        D 2025-01-05"
      ]
     },
     "execution_count": 17,
     "metadata": {},
     "output_type": "execute_result"
    }
   ],
   "source": [
    "df = pd.DataFrame(data)\n",
    "df"
   ]
  },
  {
   "cell_type": "code",
   "execution_count": null,
   "id": "43b144e5",
   "metadata": {},
   "outputs": [
    {
     "data": {
      "application/vnd.microsoft.datawrangler.viewer.v0+json": {
       "columns": [
        {
         "name": "date",
         "rawType": "datetime64[ns]",
         "type": "datetime"
        },
        {
         "name": "A",
         "rawType": "int64",
         "type": "integer"
        },
        {
         "name": "B",
         "rawType": "int64",
         "type": "integer"
        },
        {
         "name": "C",
         "rawType": "int64",
         "type": "integer"
        },
        {
         "name": "D",
         "rawType": "int64",
         "type": "integer"
        }
       ],
       "conversionMethod": "pd.DataFrame",
       "ref": "e91ce4a4-f014-4d5c-bff5-40d2ea6d06b1",
       "rows": [
        [
         "2025-01-03 00:00:00",
         "0",
         "3",
         "6",
         "9"
        ],
        [
         "2025-01-04 00:00:00",
         "1",
         "4",
         "7",
         "10"
        ],
        [
         "2025-01-05 00:00:00",
         "2",
         "5",
         "8",
         "11"
        ]
       ],
       "shape": {
        "columns": 4,
        "rows": 3
       }
      },
      "text/html": [
       "<div>\n",
       "<style scoped>\n",
       "    .dataframe tbody tr th:only-of-type {\n",
       "        vertical-align: middle;\n",
       "    }\n",
       "\n",
       "    .dataframe tbody tr th {\n",
       "        vertical-align: top;\n",
       "    }\n",
       "\n",
       "    .dataframe thead th {\n",
       "        text-align: right;\n",
       "    }\n",
       "</style>\n",
       "<table border=\"1\" class=\"dataframe\">\n",
       "  <thead>\n",
       "    <tr style=\"text-align: right;\">\n",
       "      <th>variable</th>\n",
       "      <th>A</th>\n",
       "      <th>B</th>\n",
       "      <th>C</th>\n",
       "      <th>D</th>\n",
       "    </tr>\n",
       "    <tr>\n",
       "      <th>date</th>\n",
       "      <th></th>\n",
       "      <th></th>\n",
       "      <th></th>\n",
       "      <th></th>\n",
       "    </tr>\n",
       "  </thead>\n",
       "  <tbody>\n",
       "    <tr>\n",
       "      <th>2025-01-03</th>\n",
       "      <td>0</td>\n",
       "      <td>3</td>\n",
       "      <td>6</td>\n",
       "      <td>9</td>\n",
       "    </tr>\n",
       "    <tr>\n",
       "      <th>2025-01-04</th>\n",
       "      <td>1</td>\n",
       "      <td>4</td>\n",
       "      <td>7</td>\n",
       "      <td>10</td>\n",
       "    </tr>\n",
       "    <tr>\n",
       "      <th>2025-01-05</th>\n",
       "      <td>2</td>\n",
       "      <td>5</td>\n",
       "      <td>8</td>\n",
       "      <td>11</td>\n",
       "    </tr>\n",
       "  </tbody>\n",
       "</table>\n",
       "</div>"
      ],
      "text/plain": [
       "variable    A  B  C   D\n",
       "date                   \n",
       "2025-01-03  0  3  6   9\n",
       "2025-01-04  1  4  7  10\n",
       "2025-01-05  2  5  8  11"
      ]
     },
     "execution_count": 19,
     "metadata": {},
     "output_type": "execute_result"
    }
   ],
   "source": [
    "pivoted = df.pivot(index='date',columns='variable',values = 'value')\n",
    "pivoted"
   ]
  },
  {
   "cell_type": "code",
   "execution_count": null,
   "id": "03f11c24",
   "metadata": {},
   "outputs": [],
   "source": [
    "df['values2'] = df['value'] * 2 "
   ]
  },
  {
   "cell_type": "code",
   "execution_count": null,
   "id": "bd035875",
   "metadata": {},
   "outputs": [
    {
     "data": {
      "application/vnd.microsoft.datawrangler.viewer.v0+json": {
       "columns": [
        {
         "name": "date",
         "rawType": "datetime64[ns]",
         "type": "datetime"
        },
        {
         "name": "('value', 'A')",
         "rawType": "int64",
         "type": "integer"
        },
        {
         "name": "('value', 'B')",
         "rawType": "int64",
         "type": "integer"
        },
        {
         "name": "('value', 'C')",
         "rawType": "int64",
         "type": "integer"
        },
        {
         "name": "('value', 'D')",
         "rawType": "int64",
         "type": "integer"
        },
        {
         "name": "('values2', 'A')",
         "rawType": "int64",
         "type": "integer"
        },
        {
         "name": "('values2', 'B')",
         "rawType": "int64",
         "type": "integer"
        },
        {
         "name": "('values2', 'C')",
         "rawType": "int64",
         "type": "integer"
        },
        {
         "name": "('values2', 'D')",
         "rawType": "int64",
         "type": "integer"
        }
       ],
       "conversionMethod": "pd.DataFrame",
       "ref": "2f265c2c-9077-46bd-a1a5-e3a3616160ac",
       "rows": [
        [
         "2025-01-03 00:00:00",
         "0",
         "3",
         "6",
         "9",
         "0",
         "6",
         "12",
         "18"
        ],
        [
         "2025-01-04 00:00:00",
         "1",
         "4",
         "7",
         "10",
         "2",
         "8",
         "14",
         "20"
        ],
        [
         "2025-01-05 00:00:00",
         "2",
         "5",
         "8",
         "11",
         "4",
         "10",
         "16",
         "22"
        ]
       ],
       "shape": {
        "columns": 8,
        "rows": 3
       }
      },
      "text/html": [
       "<div>\n",
       "<style scoped>\n",
       "    .dataframe tbody tr th:only-of-type {\n",
       "        vertical-align: middle;\n",
       "    }\n",
       "\n",
       "    .dataframe tbody tr th {\n",
       "        vertical-align: top;\n",
       "    }\n",
       "\n",
       "    .dataframe thead tr th {\n",
       "        text-align: left;\n",
       "    }\n",
       "\n",
       "    .dataframe thead tr:last-of-type th {\n",
       "        text-align: right;\n",
       "    }\n",
       "</style>\n",
       "<table border=\"1\" class=\"dataframe\">\n",
       "  <thead>\n",
       "    <tr>\n",
       "      <th></th>\n",
       "      <th colspan=\"4\" halign=\"left\">value</th>\n",
       "      <th colspan=\"4\" halign=\"left\">values2</th>\n",
       "    </tr>\n",
       "    <tr>\n",
       "      <th>variable</th>\n",
       "      <th>A</th>\n",
       "      <th>B</th>\n",
       "      <th>C</th>\n",
       "      <th>D</th>\n",
       "      <th>A</th>\n",
       "      <th>B</th>\n",
       "      <th>C</th>\n",
       "      <th>D</th>\n",
       "    </tr>\n",
       "    <tr>\n",
       "      <th>date</th>\n",
       "      <th></th>\n",
       "      <th></th>\n",
       "      <th></th>\n",
       "      <th></th>\n",
       "      <th></th>\n",
       "      <th></th>\n",
       "      <th></th>\n",
       "      <th></th>\n",
       "    </tr>\n",
       "  </thead>\n",
       "  <tbody>\n",
       "    <tr>\n",
       "      <th>2025-01-03</th>\n",
       "      <td>0</td>\n",
       "      <td>3</td>\n",
       "      <td>6</td>\n",
       "      <td>9</td>\n",
       "      <td>0</td>\n",
       "      <td>6</td>\n",
       "      <td>12</td>\n",
       "      <td>18</td>\n",
       "    </tr>\n",
       "    <tr>\n",
       "      <th>2025-01-04</th>\n",
       "      <td>1</td>\n",
       "      <td>4</td>\n",
       "      <td>7</td>\n",
       "      <td>10</td>\n",
       "      <td>2</td>\n",
       "      <td>8</td>\n",
       "      <td>14</td>\n",
       "      <td>20</td>\n",
       "    </tr>\n",
       "    <tr>\n",
       "      <th>2025-01-05</th>\n",
       "      <td>2</td>\n",
       "      <td>5</td>\n",
       "      <td>8</td>\n",
       "      <td>11</td>\n",
       "      <td>4</td>\n",
       "      <td>10</td>\n",
       "      <td>16</td>\n",
       "      <td>22</td>\n",
       "    </tr>\n",
       "  </tbody>\n",
       "</table>\n",
       "</div>"
      ],
      "text/plain": [
       "           value           values2            \n",
       "variable       A  B  C   D       A   B   C   D\n",
       "date                                          \n",
       "2025-01-03     0  3  6   9       0   6  12  18\n",
       "2025-01-04     1  4  7  10       2   8  14  20\n",
       "2025-01-05     2  5  8  11       4  10  16  22"
      ]
     },
     "execution_count": 23,
     "metadata": {},
     "output_type": "execute_result"
    }
   ],
   "source": [
    "pivoted = df.pivot(index=\"date\", columns=\"variable\")\n",
    "pivoted"
   ]
  },
  {
   "cell_type": "code",
   "execution_count": null,
   "id": "945fcb2d",
   "metadata": {},
   "outputs": [
    {
     "data": {
      "application/vnd.microsoft.datawrangler.viewer.v0+json": {
       "columns": [
        {
         "name": "date",
         "rawType": "datetime64[ns]",
         "type": "datetime"
        },
        {
         "name": "A",
         "rawType": "int64",
         "type": "integer"
        },
        {
         "name": "B",
         "rawType": "int64",
         "type": "integer"
        },
        {
         "name": "C",
         "rawType": "int64",
         "type": "integer"
        },
        {
         "name": "D",
         "rawType": "int64",
         "type": "integer"
        }
       ],
       "conversionMethod": "pd.DataFrame",
       "ref": "419d976f-9118-45cb-af2f-0050014ff1e9",
       "rows": [
        [
         "2025-01-03 00:00:00",
         "0",
         "6",
         "12",
         "18"
        ],
        [
         "2025-01-04 00:00:00",
         "2",
         "8",
         "14",
         "20"
        ],
        [
         "2025-01-05 00:00:00",
         "4",
         "10",
         "16",
         "22"
        ]
       ],
       "shape": {
        "columns": 4,
        "rows": 3
       }
      },
      "text/html": [
       "<div>\n",
       "<style scoped>\n",
       "    .dataframe tbody tr th:only-of-type {\n",
       "        vertical-align: middle;\n",
       "    }\n",
       "\n",
       "    .dataframe tbody tr th {\n",
       "        vertical-align: top;\n",
       "    }\n",
       "\n",
       "    .dataframe thead th {\n",
       "        text-align: right;\n",
       "    }\n",
       "</style>\n",
       "<table border=\"1\" class=\"dataframe\">\n",
       "  <thead>\n",
       "    <tr style=\"text-align: right;\">\n",
       "      <th>variable</th>\n",
       "      <th>A</th>\n",
       "      <th>B</th>\n",
       "      <th>C</th>\n",
       "      <th>D</th>\n",
       "    </tr>\n",
       "    <tr>\n",
       "      <th>date</th>\n",
       "      <th></th>\n",
       "      <th></th>\n",
       "      <th></th>\n",
       "      <th></th>\n",
       "    </tr>\n",
       "  </thead>\n",
       "  <tbody>\n",
       "    <tr>\n",
       "      <th>2025-01-03</th>\n",
       "      <td>0</td>\n",
       "      <td>6</td>\n",
       "      <td>12</td>\n",
       "      <td>18</td>\n",
       "    </tr>\n",
       "    <tr>\n",
       "      <th>2025-01-04</th>\n",
       "      <td>2</td>\n",
       "      <td>8</td>\n",
       "      <td>14</td>\n",
       "      <td>20</td>\n",
       "    </tr>\n",
       "    <tr>\n",
       "      <th>2025-01-05</th>\n",
       "      <td>4</td>\n",
       "      <td>10</td>\n",
       "      <td>16</td>\n",
       "      <td>22</td>\n",
       "    </tr>\n",
       "  </tbody>\n",
       "</table>\n",
       "</div>"
      ],
      "text/plain": [
       "variable    A   B   C   D\n",
       "date                     \n",
       "2025-01-03  0   6  12  18\n",
       "2025-01-04  2   8  14  20\n",
       "2025-01-05  4  10  16  22"
      ]
     },
     "execution_count": 24,
     "metadata": {},
     "output_type": "execute_result"
    }
   ],
   "source": [
    "pivoted['values2']"
   ]
  },
  {
   "cell_type": "markdown",
   "id": "3b7b3041",
   "metadata": {},
   "source": [
    "pivot_table()"
   ]
  },
  {
   "cell_type": "code",
   "execution_count": 42,
   "id": "fc18248f",
   "metadata": {},
   "outputs": [
    {
     "data": {
      "application/vnd.microsoft.datawrangler.viewer.v0+json": {
       "columns": [
        {
         "name": "index",
         "rawType": "int64",
         "type": "integer"
        },
        {
         "name": "A",
         "rawType": "object",
         "type": "string"
        },
        {
         "name": "B",
         "rawType": "object",
         "type": "string"
        },
        {
         "name": "C",
         "rawType": "object",
         "type": "string"
        },
        {
         "name": "D",
         "rawType": "float64",
         "type": "float"
        },
        {
         "name": "E",
         "rawType": "float64",
         "type": "float"
        },
        {
         "name": "F",
         "rawType": "datetime64[ns]",
         "type": "datetime"
        }
       ],
       "conversionMethod": "pd.DataFrame",
       "ref": "29127a56-91be-43a7-89e4-2f6dbeeeb54a",
       "rows": [
        [
         "0",
         "one",
         "A",
         "Raghav",
         "-2.12853822292832",
         "-0.7961274291458347",
         "2013-01-01 00:00:00"
        ],
        [
         "1",
         "one",
         "B",
         "Ravi",
         "-3.6467122592191017",
         "0.3012659476155493",
         "2013-02-01 00:00:00"
        ],
        [
         "2",
         "two",
         "C",
         "Amit",
         "-1.5328676196919633",
         "-1.2682447497071299",
         "2013-03-01 00:00:00"
        ],
        [
         "3",
         "three",
         "A",
         "Keshav",
         "0.41281515805570956",
         "-0.7010909861176481",
         "2013-04-01 00:00:00"
        ],
        [
         "4",
         "one",
         "B",
         "Pankaj",
         "0.020094623032015188",
         "-0.4595869845852402",
         "2013-05-01 00:00:00"
        ],
        [
         "5",
         "one",
         "C",
         "jashan",
         "-1.469901812471334",
         "-0.3262471609076805",
         "2013-06-01 00:00:00"
        ],
        [
         "6",
         "two",
         "A",
         "Raghav",
         "0.4622617679897329",
         "-0.8725041159352254",
         "2013-07-01 00:00:00"
        ],
        [
         "7",
         "three",
         "B",
         "Ravi",
         "-0.26433398570479977",
         "0.8308874466314736",
         "2013-08-01 00:00:00"
        ],
        [
         "8",
         "one",
         "C",
         "Amit",
         "-0.6703718288787328",
         "-0.30104226280956387",
         "2013-09-01 00:00:00"
        ],
        [
         "9",
         "one",
         "A",
         "Keshav",
         "0.4353843502471349",
         "0.697731606770119",
         "2013-10-01 00:00:00"
        ],
        [
         "10",
         "two",
         "B",
         "Pankaj",
         "-1.7574575393141807",
         "0.28590420787966164",
         "2013-11-01 00:00:00"
        ],
        [
         "11",
         "three",
         "C",
         "jashan",
         "1.3954042409273686",
         "-0.15472010682972748",
         "2013-12-01 00:00:00"
        ],
        [
         "12",
         "one",
         "A",
         "Raghav",
         "-0.5203356702071403",
         "-0.24438533680392982",
         "2013-01-15 00:00:00"
        ],
        [
         "13",
         "one",
         "B",
         "Ravi",
         "-0.4910640790930734",
         "0.4029571384527485",
         "2013-02-15 00:00:00"
        ],
        [
         "14",
         "two",
         "C",
         "Amit",
         "-0.5144482189634144",
         "0.49223606635458217",
         "2013-03-15 00:00:00"
        ],
        [
         "15",
         "three",
         "A",
         "Keshav",
         "0.4267312455594916",
         "-0.19637513003360832",
         "2013-04-15 00:00:00"
        ],
        [
         "16",
         "one",
         "B",
         "Pankaj",
         "2.3506014405907836",
         "-0.24875086439930535",
         "2013-05-15 00:00:00"
        ],
        [
         "17",
         "one",
         "C",
         "jashan",
         "-0.017592244079294227",
         "1.1522330649579728",
         "2013-06-15 00:00:00"
        ],
        [
         "18",
         "two",
         "A",
         "Raghav",
         "-0.21070111009942302",
         "-2.320496909576636",
         "2013-07-15 00:00:00"
        ],
        [
         "19",
         "three",
         "B",
         "Ravi",
         "-0.0919444496630758",
         "-1.9694937547543683",
         "2013-08-15 00:00:00"
        ],
        [
         "20",
         "one",
         "C",
         "Amit",
         "2.8087656732244493",
         "0.6183980176674347",
         "2013-09-15 00:00:00"
        ],
        [
         "21",
         "one",
         "A",
         "Keshav",
         "0.09186148990538005",
         "0.6479987846741286",
         "2013-10-15 00:00:00"
        ],
        [
         "22",
         "two",
         "B",
         "Pankaj",
         "-0.36867575022773075",
         "1.0114266708256254",
         "2013-11-15 00:00:00"
        ],
        [
         "23",
         "three",
         "C",
         "jashan",
         "-0.29447057127624965",
         "1.1485597452534866",
         "2013-12-15 00:00:00"
        ]
       ],
       "shape": {
        "columns": 6,
        "rows": 24
       }
      },
      "text/html": [
       "<div>\n",
       "<style scoped>\n",
       "    .dataframe tbody tr th:only-of-type {\n",
       "        vertical-align: middle;\n",
       "    }\n",
       "\n",
       "    .dataframe tbody tr th {\n",
       "        vertical-align: top;\n",
       "    }\n",
       "\n",
       "    .dataframe thead th {\n",
       "        text-align: right;\n",
       "    }\n",
       "</style>\n",
       "<table border=\"1\" class=\"dataframe\">\n",
       "  <thead>\n",
       "    <tr style=\"text-align: right;\">\n",
       "      <th></th>\n",
       "      <th>A</th>\n",
       "      <th>B</th>\n",
       "      <th>C</th>\n",
       "      <th>D</th>\n",
       "      <th>E</th>\n",
       "      <th>F</th>\n",
       "    </tr>\n",
       "  </thead>\n",
       "  <tbody>\n",
       "    <tr>\n",
       "      <th>0</th>\n",
       "      <td>one</td>\n",
       "      <td>A</td>\n",
       "      <td>Raghav</td>\n",
       "      <td>-2.128538</td>\n",
       "      <td>-0.796127</td>\n",
       "      <td>2013-01-01</td>\n",
       "    </tr>\n",
       "    <tr>\n",
       "      <th>1</th>\n",
       "      <td>one</td>\n",
       "      <td>B</td>\n",
       "      <td>Ravi</td>\n",
       "      <td>-3.646712</td>\n",
       "      <td>0.301266</td>\n",
       "      <td>2013-02-01</td>\n",
       "    </tr>\n",
       "    <tr>\n",
       "      <th>2</th>\n",
       "      <td>two</td>\n",
       "      <td>C</td>\n",
       "      <td>Amit</td>\n",
       "      <td>-1.532868</td>\n",
       "      <td>-1.268245</td>\n",
       "      <td>2013-03-01</td>\n",
       "    </tr>\n",
       "    <tr>\n",
       "      <th>3</th>\n",
       "      <td>three</td>\n",
       "      <td>A</td>\n",
       "      <td>Keshav</td>\n",
       "      <td>0.412815</td>\n",
       "      <td>-0.701091</td>\n",
       "      <td>2013-04-01</td>\n",
       "    </tr>\n",
       "    <tr>\n",
       "      <th>4</th>\n",
       "      <td>one</td>\n",
       "      <td>B</td>\n",
       "      <td>Pankaj</td>\n",
       "      <td>0.020095</td>\n",
       "      <td>-0.459587</td>\n",
       "      <td>2013-05-01</td>\n",
       "    </tr>\n",
       "    <tr>\n",
       "      <th>5</th>\n",
       "      <td>one</td>\n",
       "      <td>C</td>\n",
       "      <td>jashan</td>\n",
       "      <td>-1.469902</td>\n",
       "      <td>-0.326247</td>\n",
       "      <td>2013-06-01</td>\n",
       "    </tr>\n",
       "    <tr>\n",
       "      <th>6</th>\n",
       "      <td>two</td>\n",
       "      <td>A</td>\n",
       "      <td>Raghav</td>\n",
       "      <td>0.462262</td>\n",
       "      <td>-0.872504</td>\n",
       "      <td>2013-07-01</td>\n",
       "    </tr>\n",
       "    <tr>\n",
       "      <th>7</th>\n",
       "      <td>three</td>\n",
       "      <td>B</td>\n",
       "      <td>Ravi</td>\n",
       "      <td>-0.264334</td>\n",
       "      <td>0.830887</td>\n",
       "      <td>2013-08-01</td>\n",
       "    </tr>\n",
       "    <tr>\n",
       "      <th>8</th>\n",
       "      <td>one</td>\n",
       "      <td>C</td>\n",
       "      <td>Amit</td>\n",
       "      <td>-0.670372</td>\n",
       "      <td>-0.301042</td>\n",
       "      <td>2013-09-01</td>\n",
       "    </tr>\n",
       "    <tr>\n",
       "      <th>9</th>\n",
       "      <td>one</td>\n",
       "      <td>A</td>\n",
       "      <td>Keshav</td>\n",
       "      <td>0.435384</td>\n",
       "      <td>0.697732</td>\n",
       "      <td>2013-10-01</td>\n",
       "    </tr>\n",
       "    <tr>\n",
       "      <th>10</th>\n",
       "      <td>two</td>\n",
       "      <td>B</td>\n",
       "      <td>Pankaj</td>\n",
       "      <td>-1.757458</td>\n",
       "      <td>0.285904</td>\n",
       "      <td>2013-11-01</td>\n",
       "    </tr>\n",
       "    <tr>\n",
       "      <th>11</th>\n",
       "      <td>three</td>\n",
       "      <td>C</td>\n",
       "      <td>jashan</td>\n",
       "      <td>1.395404</td>\n",
       "      <td>-0.154720</td>\n",
       "      <td>2013-12-01</td>\n",
       "    </tr>\n",
       "    <tr>\n",
       "      <th>12</th>\n",
       "      <td>one</td>\n",
       "      <td>A</td>\n",
       "      <td>Raghav</td>\n",
       "      <td>-0.520336</td>\n",
       "      <td>-0.244385</td>\n",
       "      <td>2013-01-15</td>\n",
       "    </tr>\n",
       "    <tr>\n",
       "      <th>13</th>\n",
       "      <td>one</td>\n",
       "      <td>B</td>\n",
       "      <td>Ravi</td>\n",
       "      <td>-0.491064</td>\n",
       "      <td>0.402957</td>\n",
       "      <td>2013-02-15</td>\n",
       "    </tr>\n",
       "    <tr>\n",
       "      <th>14</th>\n",
       "      <td>two</td>\n",
       "      <td>C</td>\n",
       "      <td>Amit</td>\n",
       "      <td>-0.514448</td>\n",
       "      <td>0.492236</td>\n",
       "      <td>2013-03-15</td>\n",
       "    </tr>\n",
       "    <tr>\n",
       "      <th>15</th>\n",
       "      <td>three</td>\n",
       "      <td>A</td>\n",
       "      <td>Keshav</td>\n",
       "      <td>0.426731</td>\n",
       "      <td>-0.196375</td>\n",
       "      <td>2013-04-15</td>\n",
       "    </tr>\n",
       "    <tr>\n",
       "      <th>16</th>\n",
       "      <td>one</td>\n",
       "      <td>B</td>\n",
       "      <td>Pankaj</td>\n",
       "      <td>2.350601</td>\n",
       "      <td>-0.248751</td>\n",
       "      <td>2013-05-15</td>\n",
       "    </tr>\n",
       "    <tr>\n",
       "      <th>17</th>\n",
       "      <td>one</td>\n",
       "      <td>C</td>\n",
       "      <td>jashan</td>\n",
       "      <td>-0.017592</td>\n",
       "      <td>1.152233</td>\n",
       "      <td>2013-06-15</td>\n",
       "    </tr>\n",
       "    <tr>\n",
       "      <th>18</th>\n",
       "      <td>two</td>\n",
       "      <td>A</td>\n",
       "      <td>Raghav</td>\n",
       "      <td>-0.210701</td>\n",
       "      <td>-2.320497</td>\n",
       "      <td>2013-07-15</td>\n",
       "    </tr>\n",
       "    <tr>\n",
       "      <th>19</th>\n",
       "      <td>three</td>\n",
       "      <td>B</td>\n",
       "      <td>Ravi</td>\n",
       "      <td>-0.091944</td>\n",
       "      <td>-1.969494</td>\n",
       "      <td>2013-08-15</td>\n",
       "    </tr>\n",
       "    <tr>\n",
       "      <th>20</th>\n",
       "      <td>one</td>\n",
       "      <td>C</td>\n",
       "      <td>Amit</td>\n",
       "      <td>2.808766</td>\n",
       "      <td>0.618398</td>\n",
       "      <td>2013-09-15</td>\n",
       "    </tr>\n",
       "    <tr>\n",
       "      <th>21</th>\n",
       "      <td>one</td>\n",
       "      <td>A</td>\n",
       "      <td>Keshav</td>\n",
       "      <td>0.091861</td>\n",
       "      <td>0.647999</td>\n",
       "      <td>2013-10-15</td>\n",
       "    </tr>\n",
       "    <tr>\n",
       "      <th>22</th>\n",
       "      <td>two</td>\n",
       "      <td>B</td>\n",
       "      <td>Pankaj</td>\n",
       "      <td>-0.368676</td>\n",
       "      <td>1.011427</td>\n",
       "      <td>2013-11-15</td>\n",
       "    </tr>\n",
       "    <tr>\n",
       "      <th>23</th>\n",
       "      <td>three</td>\n",
       "      <td>C</td>\n",
       "      <td>jashan</td>\n",
       "      <td>-0.294471</td>\n",
       "      <td>1.148560</td>\n",
       "      <td>2013-12-15</td>\n",
       "    </tr>\n",
       "  </tbody>\n",
       "</table>\n",
       "</div>"
      ],
      "text/plain": [
       "        A  B       C         D         E          F\n",
       "0     one  A  Raghav -2.128538 -0.796127 2013-01-01\n",
       "1     one  B    Ravi -3.646712  0.301266 2013-02-01\n",
       "2     two  C    Amit -1.532868 -1.268245 2013-03-01\n",
       "3   three  A  Keshav  0.412815 -0.701091 2013-04-01\n",
       "4     one  B  Pankaj  0.020095 -0.459587 2013-05-01\n",
       "5     one  C  jashan -1.469902 -0.326247 2013-06-01\n",
       "6     two  A  Raghav  0.462262 -0.872504 2013-07-01\n",
       "7   three  B    Ravi -0.264334  0.830887 2013-08-01\n",
       "8     one  C    Amit -0.670372 -0.301042 2013-09-01\n",
       "9     one  A  Keshav  0.435384  0.697732 2013-10-01\n",
       "10    two  B  Pankaj -1.757458  0.285904 2013-11-01\n",
       "11  three  C  jashan  1.395404 -0.154720 2013-12-01\n",
       "12    one  A  Raghav -0.520336 -0.244385 2013-01-15\n",
       "13    one  B    Ravi -0.491064  0.402957 2013-02-15\n",
       "14    two  C    Amit -0.514448  0.492236 2013-03-15\n",
       "15  three  A  Keshav  0.426731 -0.196375 2013-04-15\n",
       "16    one  B  Pankaj  2.350601 -0.248751 2013-05-15\n",
       "17    one  C  jashan -0.017592  1.152233 2013-06-15\n",
       "18    two  A  Raghav -0.210701 -2.320497 2013-07-15\n",
       "19  three  B    Ravi -0.091944 -1.969494 2013-08-15\n",
       "20    one  C    Amit  2.808766  0.618398 2013-09-15\n",
       "21    one  A  Keshav  0.091861  0.647999 2013-10-15\n",
       "22    two  B  Pankaj -0.368676  1.011427 2013-11-15\n",
       "23  three  C  jashan -0.294471  1.148560 2013-12-15"
      ]
     },
     "execution_count": 42,
     "metadata": {},
     "output_type": "execute_result"
    }
   ],
   "source": [
    "import datetime  \n",
    "\n",
    "df = pd.DataFrame(\n",
    "    {\n",
    "        \"A\": [\"one\", \"one\", \"two\", \"three\"] * 6,\n",
    "        \"B\": [\"A\", \"B\", \"C\"] * 8,\n",
    "        \"C\": [\"Raghav\", \"Ravi\", \"Amit\", \"Keshav\", \"Pankaj\", \"jashan\"] * 4,\n",
    "        \"D\": np.random.randn(24),\n",
    "        \"E\": np.random.randn(24),\n",
    "        \"F\": [datetime.datetime(2013, i, 1) for i in range(1, 13)]\n",
    "        + [datetime.datetime(2013, i, 15) for i in range(1, 13)],\n",
    "    }\n",
    ")\n",
    "df\n",
    "\n"
   ]
  },
  {
   "cell_type": "code",
   "execution_count": null,
   "id": "569e81bc",
   "metadata": {},
   "outputs": [
    {
     "data": {
      "application/vnd.microsoft.datawrangler.viewer.v0+json": {
       "columns": [
        {
         "name": "('A', 'B')",
         "rawType": "object",
         "type": "unknown"
        },
        {
         "name": "Amit",
         "rawType": "float64",
         "type": "float"
        },
        {
         "name": "Keshav",
         "rawType": "float64",
         "type": "float"
        },
        {
         "name": "Pankaj",
         "rawType": "float64",
         "type": "float"
        },
        {
         "name": "Raghav",
         "rawType": "float64",
         "type": "float"
        },
        {
         "name": "Ravi",
         "rawType": "float64",
         "type": "float"
        },
        {
         "name": "jashan",
         "rawType": "float64",
         "type": "float"
        }
       ],
       "conversionMethod": "pd.DataFrame",
       "ref": "6b46bfad-5510-45e1-8aec-d3ecda29bd5b",
       "rows": [
        [
         "('one', 'A')",
         null,
         "-0.4405467483109335",
         null,
         "0.5388769506568399",
         null,
         null
        ],
        [
         "('one', 'B')",
         null,
         null,
         "0.24439777522423822",
         null,
         "1.2536490650119811",
         null
        ],
        [
         "('one', 'C')",
         "0.39179945397804716",
         null,
         null,
         null,
         null,
         "0.5507840717803947"
        ],
        [
         "('three', 'A')",
         null,
         "-0.5613518309422832",
         null,
         null,
         null,
         null
        ],
        [
         "('three', 'B')",
         null,
         null,
         null,
         null,
         "0.2646560103778943",
         null
        ],
        [
         "('three', 'C')",
         null,
         null,
         null,
         null,
         null,
         "1.4462160170284988"
        ],
        [
         "('two', 'A')",
         null,
         null,
         null,
         "-0.8562775393604591",
         null,
         null
        ],
        [
         "('two', 'B')",
         null,
         null,
         "0.27448107101166813",
         null,
         null,
         null
        ],
        [
         "('two', 'C')",
         "-0.1575228560942301",
         null,
         null,
         null,
         null,
         null
        ]
       ],
       "shape": {
        "columns": 6,
        "rows": 9
       }
      },
      "text/html": [
       "<div>\n",
       "<style scoped>\n",
       "    .dataframe tbody tr th:only-of-type {\n",
       "        vertical-align: middle;\n",
       "    }\n",
       "\n",
       "    .dataframe tbody tr th {\n",
       "        vertical-align: top;\n",
       "    }\n",
       "\n",
       "    .dataframe thead th {\n",
       "        text-align: right;\n",
       "    }\n",
       "</style>\n",
       "<table border=\"1\" class=\"dataframe\">\n",
       "  <thead>\n",
       "    <tr style=\"text-align: right;\">\n",
       "      <th></th>\n",
       "      <th>C</th>\n",
       "      <th>Amit</th>\n",
       "      <th>Keshav</th>\n",
       "      <th>Pankaj</th>\n",
       "      <th>Raghav</th>\n",
       "      <th>Ravi</th>\n",
       "      <th>jashan</th>\n",
       "    </tr>\n",
       "    <tr>\n",
       "      <th>A</th>\n",
       "      <th>B</th>\n",
       "      <th></th>\n",
       "      <th></th>\n",
       "      <th></th>\n",
       "      <th></th>\n",
       "      <th></th>\n",
       "      <th></th>\n",
       "    </tr>\n",
       "  </thead>\n",
       "  <tbody>\n",
       "    <tr>\n",
       "      <th rowspan=\"3\" valign=\"top\">one</th>\n",
       "      <th>A</th>\n",
       "      <td>NaN</td>\n",
       "      <td>-0.440547</td>\n",
       "      <td>NaN</td>\n",
       "      <td>0.538877</td>\n",
       "      <td>NaN</td>\n",
       "      <td>NaN</td>\n",
       "    </tr>\n",
       "    <tr>\n",
       "      <th>B</th>\n",
       "      <td>NaN</td>\n",
       "      <td>NaN</td>\n",
       "      <td>0.244398</td>\n",
       "      <td>NaN</td>\n",
       "      <td>1.253649</td>\n",
       "      <td>NaN</td>\n",
       "    </tr>\n",
       "    <tr>\n",
       "      <th>C</th>\n",
       "      <td>0.391799</td>\n",
       "      <td>NaN</td>\n",
       "      <td>NaN</td>\n",
       "      <td>NaN</td>\n",
       "      <td>NaN</td>\n",
       "      <td>0.550784</td>\n",
       "    </tr>\n",
       "    <tr>\n",
       "      <th rowspan=\"3\" valign=\"top\">three</th>\n",
       "      <th>A</th>\n",
       "      <td>NaN</td>\n",
       "      <td>-0.561352</td>\n",
       "      <td>NaN</td>\n",
       "      <td>NaN</td>\n",
       "      <td>NaN</td>\n",
       "      <td>NaN</td>\n",
       "    </tr>\n",
       "    <tr>\n",
       "      <th>B</th>\n",
       "      <td>NaN</td>\n",
       "      <td>NaN</td>\n",
       "      <td>NaN</td>\n",
       "      <td>NaN</td>\n",
       "      <td>0.264656</td>\n",
       "      <td>NaN</td>\n",
       "    </tr>\n",
       "    <tr>\n",
       "      <th>C</th>\n",
       "      <td>NaN</td>\n",
       "      <td>NaN</td>\n",
       "      <td>NaN</td>\n",
       "      <td>NaN</td>\n",
       "      <td>NaN</td>\n",
       "      <td>1.446216</td>\n",
       "    </tr>\n",
       "    <tr>\n",
       "      <th rowspan=\"3\" valign=\"top\">two</th>\n",
       "      <th>A</th>\n",
       "      <td>NaN</td>\n",
       "      <td>NaN</td>\n",
       "      <td>NaN</td>\n",
       "      <td>-0.856278</td>\n",
       "      <td>NaN</td>\n",
       "      <td>NaN</td>\n",
       "    </tr>\n",
       "    <tr>\n",
       "      <th>B</th>\n",
       "      <td>NaN</td>\n",
       "      <td>NaN</td>\n",
       "      <td>0.274481</td>\n",
       "      <td>NaN</td>\n",
       "      <td>NaN</td>\n",
       "      <td>NaN</td>\n",
       "    </tr>\n",
       "    <tr>\n",
       "      <th>C</th>\n",
       "      <td>-0.157523</td>\n",
       "      <td>NaN</td>\n",
       "      <td>NaN</td>\n",
       "      <td>NaN</td>\n",
       "      <td>NaN</td>\n",
       "      <td>NaN</td>\n",
       "    </tr>\n",
       "  </tbody>\n",
       "</table>\n",
       "</div>"
      ],
      "text/plain": [
       "C            Amit    Keshav    Pankaj    Raghav      Ravi    jashan\n",
       "A     B                                                            \n",
       "one   A       NaN -0.440547       NaN  0.538877       NaN       NaN\n",
       "      B       NaN       NaN  0.244398       NaN  1.253649       NaN\n",
       "      C  0.391799       NaN       NaN       NaN       NaN  0.550784\n",
       "three A       NaN -0.561352       NaN       NaN       NaN       NaN\n",
       "      B       NaN       NaN       NaN       NaN  0.264656       NaN\n",
       "      C       NaN       NaN       NaN       NaN       NaN  1.446216\n",
       "two   A       NaN       NaN       NaN -0.856278       NaN       NaN\n",
       "      B       NaN       NaN  0.274481       NaN       NaN       NaN\n",
       "      C -0.157523       NaN       NaN       NaN       NaN       NaN"
      ]
     },
     "execution_count": 29,
     "metadata": {},
     "output_type": "execute_result"
    }
   ],
   "source": [
    "pd.pivot_table(df, values=\"D\", index=[\"A\", \"B\"], columns=[\"C\"])"
   ]
  },
  {
   "cell_type": "code",
   "execution_count": null,
   "id": "5e7275c3",
   "metadata": {},
   "outputs": [
    {
     "data": {
      "application/vnd.microsoft.datawrangler.viewer.v0+json": {
       "columns": [
        {
         "name": "B",
         "rawType": "object",
         "type": "string"
        },
        {
         "name": "('D', 'one', 'Amit')",
         "rawType": "float64",
         "type": "float"
        },
        {
         "name": "('D', 'one', 'Keshav')",
         "rawType": "float64",
         "type": "float"
        },
        {
         "name": "('D', 'one', 'Pankaj')",
         "rawType": "float64",
         "type": "float"
        },
        {
         "name": "('D', 'one', 'Raghav')",
         "rawType": "float64",
         "type": "float"
        },
        {
         "name": "('D', 'one', 'Ravi')",
         "rawType": "float64",
         "type": "float"
        },
        {
         "name": "('D', 'one', 'jashan')",
         "rawType": "float64",
         "type": "float"
        },
        {
         "name": "('D', 'three', 'Keshav')",
         "rawType": "float64",
         "type": "float"
        },
        {
         "name": "('D', 'three', 'Ravi')",
         "rawType": "float64",
         "type": "float"
        },
        {
         "name": "('D', 'three', 'jashan')",
         "rawType": "float64",
         "type": "float"
        },
        {
         "name": "('D', 'two', 'Amit')",
         "rawType": "float64",
         "type": "float"
        },
        {
         "name": "('D', 'two', 'Pankaj')",
         "rawType": "float64",
         "type": "float"
        },
        {
         "name": "('D', 'two', 'Raghav')",
         "rawType": "float64",
         "type": "float"
        },
        {
         "name": "('E', 'one', 'Amit')",
         "rawType": "float64",
         "type": "float"
        },
        {
         "name": "('E', 'one', 'Keshav')",
         "rawType": "float64",
         "type": "float"
        },
        {
         "name": "('E', 'one', 'Pankaj')",
         "rawType": "float64",
         "type": "float"
        },
        {
         "name": "('E', 'one', 'Raghav')",
         "rawType": "float64",
         "type": "float"
        },
        {
         "name": "('E', 'one', 'Ravi')",
         "rawType": "float64",
         "type": "float"
        },
        {
         "name": "('E', 'one', 'jashan')",
         "rawType": "float64",
         "type": "float"
        },
        {
         "name": "('E', 'three', 'Keshav')",
         "rawType": "float64",
         "type": "float"
        },
        {
         "name": "('E', 'three', 'Ravi')",
         "rawType": "float64",
         "type": "float"
        },
        {
         "name": "('E', 'three', 'jashan')",
         "rawType": "float64",
         "type": "float"
        },
        {
         "name": "('E', 'two', 'Amit')",
         "rawType": "float64",
         "type": "float"
        },
        {
         "name": "('E', 'two', 'Pankaj')",
         "rawType": "float64",
         "type": "float"
        },
        {
         "name": "('E', 'two', 'Raghav')",
         "rawType": "float64",
         "type": "float"
        }
       ],
       "conversionMethod": "pd.DataFrame",
       "ref": "f95525f8-ef9c-449c-9d57-7fc6a67301dd",
       "rows": [
        [
         "A",
         null,
         "-0.881093496621867",
         null,
         "1.0777539013136799",
         null,
         null,
         "-1.1227036618845665",
         null,
         null,
         null,
         null,
         "-1.7125550787209183",
         null,
         "1.804373463012517",
         null,
         "1.329664170234481",
         null,
         null,
         "0.8891257717240222",
         null,
         null,
         null,
         null,
         "1.749210377999166"
        ],
        [
         "B",
         null,
         null,
         "0.48879555044847645",
         null,
         "2.5072981300239623",
         null,
         null,
         "0.5293120207557886",
         null,
         null,
         "0.5489621420233363",
         null,
         null,
         null,
         "-1.5206945342360256",
         null,
         "1.2283863284498935",
         null,
         null,
         "-0.5503029161890957",
         null,
         null,
         "-1.4572693132604653",
         null
        ],
        [
         "C",
         "0.7835989079560943",
         null,
         null,
         null,
         null,
         "1.1015681435607894",
         null,
         null,
         "2.8924320340569976",
         "-0.3150457121884602",
         null,
         null,
         "1.8313042702846645",
         null,
         null,
         null,
         null,
         "0.5424868511250223",
         null,
         null,
         "-1.381435117411041",
         "-1.4197761052270435",
         null,
         null
        ]
       ],
       "shape": {
        "columns": 24,
        "rows": 3
       }
      },
      "text/html": [
       "<div>\n",
       "<style scoped>\n",
       "    .dataframe tbody tr th:only-of-type {\n",
       "        vertical-align: middle;\n",
       "    }\n",
       "\n",
       "    .dataframe tbody tr th {\n",
       "        vertical-align: top;\n",
       "    }\n",
       "\n",
       "    .dataframe thead tr th {\n",
       "        text-align: left;\n",
       "    }\n",
       "\n",
       "    .dataframe thead tr:last-of-type th {\n",
       "        text-align: right;\n",
       "    }\n",
       "</style>\n",
       "<table border=\"1\" class=\"dataframe\">\n",
       "  <thead>\n",
       "    <tr>\n",
       "      <th></th>\n",
       "      <th colspan=\"10\" halign=\"left\">D</th>\n",
       "      <th>...</th>\n",
       "      <th colspan=\"10\" halign=\"left\">E</th>\n",
       "    </tr>\n",
       "    <tr>\n",
       "      <th>A</th>\n",
       "      <th colspan=\"6\" halign=\"left\">one</th>\n",
       "      <th colspan=\"3\" halign=\"left\">three</th>\n",
       "      <th>two</th>\n",
       "      <th>...</th>\n",
       "      <th colspan=\"4\" halign=\"left\">one</th>\n",
       "      <th colspan=\"3\" halign=\"left\">three</th>\n",
       "      <th colspan=\"3\" halign=\"left\">two</th>\n",
       "    </tr>\n",
       "    <tr>\n",
       "      <th>C</th>\n",
       "      <th>Amit</th>\n",
       "      <th>Keshav</th>\n",
       "      <th>Pankaj</th>\n",
       "      <th>Raghav</th>\n",
       "      <th>Ravi</th>\n",
       "      <th>jashan</th>\n",
       "      <th>Keshav</th>\n",
       "      <th>Ravi</th>\n",
       "      <th>jashan</th>\n",
       "      <th>Amit</th>\n",
       "      <th>...</th>\n",
       "      <th>Pankaj</th>\n",
       "      <th>Raghav</th>\n",
       "      <th>Ravi</th>\n",
       "      <th>jashan</th>\n",
       "      <th>Keshav</th>\n",
       "      <th>Ravi</th>\n",
       "      <th>jashan</th>\n",
       "      <th>Amit</th>\n",
       "      <th>Pankaj</th>\n",
       "      <th>Raghav</th>\n",
       "    </tr>\n",
       "    <tr>\n",
       "      <th>B</th>\n",
       "      <th></th>\n",
       "      <th></th>\n",
       "      <th></th>\n",
       "      <th></th>\n",
       "      <th></th>\n",
       "      <th></th>\n",
       "      <th></th>\n",
       "      <th></th>\n",
       "      <th></th>\n",
       "      <th></th>\n",
       "      <th></th>\n",
       "      <th></th>\n",
       "      <th></th>\n",
       "      <th></th>\n",
       "      <th></th>\n",
       "      <th></th>\n",
       "      <th></th>\n",
       "      <th></th>\n",
       "      <th></th>\n",
       "      <th></th>\n",
       "      <th></th>\n",
       "    </tr>\n",
       "  </thead>\n",
       "  <tbody>\n",
       "    <tr>\n",
       "      <th>A</th>\n",
       "      <td>NaN</td>\n",
       "      <td>-0.881093</td>\n",
       "      <td>NaN</td>\n",
       "      <td>1.077754</td>\n",
       "      <td>NaN</td>\n",
       "      <td>NaN</td>\n",
       "      <td>-1.122704</td>\n",
       "      <td>NaN</td>\n",
       "      <td>NaN</td>\n",
       "      <td>NaN</td>\n",
       "      <td>...</td>\n",
       "      <td>NaN</td>\n",
       "      <td>1.329664</td>\n",
       "      <td>NaN</td>\n",
       "      <td>NaN</td>\n",
       "      <td>0.889126</td>\n",
       "      <td>NaN</td>\n",
       "      <td>NaN</td>\n",
       "      <td>NaN</td>\n",
       "      <td>NaN</td>\n",
       "      <td>1.74921</td>\n",
       "    </tr>\n",
       "    <tr>\n",
       "      <th>B</th>\n",
       "      <td>NaN</td>\n",
       "      <td>NaN</td>\n",
       "      <td>0.488796</td>\n",
       "      <td>NaN</td>\n",
       "      <td>2.507298</td>\n",
       "      <td>NaN</td>\n",
       "      <td>NaN</td>\n",
       "      <td>0.529312</td>\n",
       "      <td>NaN</td>\n",
       "      <td>NaN</td>\n",
       "      <td>...</td>\n",
       "      <td>-1.520695</td>\n",
       "      <td>NaN</td>\n",
       "      <td>1.228386</td>\n",
       "      <td>NaN</td>\n",
       "      <td>NaN</td>\n",
       "      <td>-0.550303</td>\n",
       "      <td>NaN</td>\n",
       "      <td>NaN</td>\n",
       "      <td>-1.457269</td>\n",
       "      <td>NaN</td>\n",
       "    </tr>\n",
       "    <tr>\n",
       "      <th>C</th>\n",
       "      <td>0.783599</td>\n",
       "      <td>NaN</td>\n",
       "      <td>NaN</td>\n",
       "      <td>NaN</td>\n",
       "      <td>NaN</td>\n",
       "      <td>1.101568</td>\n",
       "      <td>NaN</td>\n",
       "      <td>NaN</td>\n",
       "      <td>2.892432</td>\n",
       "      <td>-0.315046</td>\n",
       "      <td>...</td>\n",
       "      <td>NaN</td>\n",
       "      <td>NaN</td>\n",
       "      <td>NaN</td>\n",
       "      <td>0.542487</td>\n",
       "      <td>NaN</td>\n",
       "      <td>NaN</td>\n",
       "      <td>-1.381435</td>\n",
       "      <td>-1.419776</td>\n",
       "      <td>NaN</td>\n",
       "      <td>NaN</td>\n",
       "    </tr>\n",
       "  </tbody>\n",
       "</table>\n",
       "<p>3 rows × 24 columns</p>\n",
       "</div>"
      ],
      "text/plain": [
       "          D                                                              \\\n",
       "A       one                                                       three   \n",
       "C      Amit    Keshav    Pankaj    Raghav      Ravi    jashan    Keshav   \n",
       "B                                                                         \n",
       "A       NaN -0.881093       NaN  1.077754       NaN       NaN -1.122704   \n",
       "B       NaN       NaN  0.488796       NaN  2.507298       NaN       NaN   \n",
       "C  0.783599       NaN       NaN       NaN       NaN  1.101568       NaN   \n",
       "\n",
       "                                 ...         E                                \\\n",
       "A                           two  ...       one                                 \n",
       "C      Ravi    jashan      Amit  ...    Pankaj    Raghav      Ravi    jashan   \n",
       "B                                ...                                           \n",
       "A       NaN       NaN       NaN  ...       NaN  1.329664       NaN       NaN   \n",
       "B  0.529312       NaN       NaN  ... -1.520695       NaN  1.228386       NaN   \n",
       "C       NaN  2.892432 -0.315046  ...       NaN       NaN       NaN  0.542487   \n",
       "\n",
       "                                                              \n",
       "A     three                           two                     \n",
       "C    Keshav      Ravi    jashan      Amit    Pankaj   Raghav  \n",
       "B                                                             \n",
       "A  0.889126       NaN       NaN       NaN       NaN  1.74921  \n",
       "B       NaN -0.550303       NaN       NaN -1.457269      NaN  \n",
       "C       NaN       NaN -1.381435 -1.419776       NaN      NaN  \n",
       "\n",
       "[3 rows x 24 columns]"
      ]
     },
     "execution_count": 30,
     "metadata": {},
     "output_type": "execute_result"
    }
   ],
   "source": [
    "pd.pivot_table(\n",
    "    df, values=[\"D\", \"E\"],\n",
    "    index=[\"B\"],\n",
    "    columns=[\"A\", \"C\"],\n",
    "    aggfunc=\"sum\",\n",
    ")"
   ]
  },
  {
   "cell_type": "code",
   "execution_count": null,
   "id": "d8443ce9",
   "metadata": {},
   "outputs": [
    {
     "data": {
      "application/vnd.microsoft.datawrangler.viewer.v0+json": {
       "columns": [
        {
         "name": "('B', 'C')",
         "rawType": "object",
         "type": "unknown"
        },
        {
         "name": "('sum', 'one')",
         "rawType": "float64",
         "type": "float"
        },
        {
         "name": "('sum', 'three')",
         "rawType": "float64",
         "type": "float"
        },
        {
         "name": "('sum', 'two')",
         "rawType": "float64",
         "type": "float"
        },
        {
         "name": "('mean', 'one')",
         "rawType": "float64",
         "type": "float"
        },
        {
         "name": "('mean', 'three')",
         "rawType": "float64",
         "type": "float"
        },
        {
         "name": "('mean', 'two')",
         "rawType": "float64",
         "type": "float"
        }
       ],
       "conversionMethod": "pd.DataFrame",
       "ref": "788ae69d-9e6c-4d16-a434-932b101c8adc",
       "rows": [
        [
         "('A', 'Keshav')",
         "1.804373463012517",
         "0.8891257717240222",
         null,
         "0.9021867315062585",
         "0.4445628858620111",
         null
        ],
        [
         "('A', 'Raghav')",
         "1.329664170234481",
         null,
         "1.749210377999166",
         "0.6648320851172405",
         null,
         "0.874605188999583"
        ],
        [
         "('B', 'Pankaj')",
         "-1.5206945342360256",
         null,
         "-1.4572693132604653",
         "-0.7603472671180128",
         null,
         "-0.7286346566302326"
        ],
        [
         "('B', 'Ravi')",
         "1.2283863284498935",
         "-0.5503029161890957",
         null,
         "0.6141931642249467",
         "-0.27515145809454783",
         null
        ],
        [
         "('C', 'Amit')",
         "1.8313042702846645",
         null,
         "-1.4197761052270435",
         "0.9156521351423322",
         null,
         "-0.7098880526135217"
        ],
        [
         "('C', 'jashan')",
         "0.5424868511250223",
         "-1.381435117411041",
         null,
         "0.27124342556251113",
         "-0.6907175587055205",
         null
        ]
       ],
       "shape": {
        "columns": 6,
        "rows": 6
       }
      },
      "text/html": [
       "<div>\n",
       "<style scoped>\n",
       "    .dataframe tbody tr th:only-of-type {\n",
       "        vertical-align: middle;\n",
       "    }\n",
       "\n",
       "    .dataframe tbody tr th {\n",
       "        vertical-align: top;\n",
       "    }\n",
       "\n",
       "    .dataframe thead tr th {\n",
       "        text-align: left;\n",
       "    }\n",
       "\n",
       "    .dataframe thead tr:last-of-type th {\n",
       "        text-align: right;\n",
       "    }\n",
       "</style>\n",
       "<table border=\"1\" class=\"dataframe\">\n",
       "  <thead>\n",
       "    <tr>\n",
       "      <th></th>\n",
       "      <th></th>\n",
       "      <th colspan=\"3\" halign=\"left\">sum</th>\n",
       "      <th colspan=\"3\" halign=\"left\">mean</th>\n",
       "    </tr>\n",
       "    <tr>\n",
       "      <th></th>\n",
       "      <th>A</th>\n",
       "      <th>one</th>\n",
       "      <th>three</th>\n",
       "      <th>two</th>\n",
       "      <th>one</th>\n",
       "      <th>three</th>\n",
       "      <th>two</th>\n",
       "    </tr>\n",
       "    <tr>\n",
       "      <th>B</th>\n",
       "      <th>C</th>\n",
       "      <th></th>\n",
       "      <th></th>\n",
       "      <th></th>\n",
       "      <th></th>\n",
       "      <th></th>\n",
       "      <th></th>\n",
       "    </tr>\n",
       "  </thead>\n",
       "  <tbody>\n",
       "    <tr>\n",
       "      <th rowspan=\"2\" valign=\"top\">A</th>\n",
       "      <th>Keshav</th>\n",
       "      <td>1.804373</td>\n",
       "      <td>0.889126</td>\n",
       "      <td>NaN</td>\n",
       "      <td>0.902187</td>\n",
       "      <td>0.444563</td>\n",
       "      <td>NaN</td>\n",
       "    </tr>\n",
       "    <tr>\n",
       "      <th>Raghav</th>\n",
       "      <td>1.329664</td>\n",
       "      <td>NaN</td>\n",
       "      <td>1.749210</td>\n",
       "      <td>0.664832</td>\n",
       "      <td>NaN</td>\n",
       "      <td>0.874605</td>\n",
       "    </tr>\n",
       "    <tr>\n",
       "      <th rowspan=\"2\" valign=\"top\">B</th>\n",
       "      <th>Pankaj</th>\n",
       "      <td>-1.520695</td>\n",
       "      <td>NaN</td>\n",
       "      <td>-1.457269</td>\n",
       "      <td>-0.760347</td>\n",
       "      <td>NaN</td>\n",
       "      <td>-0.728635</td>\n",
       "    </tr>\n",
       "    <tr>\n",
       "      <th>Ravi</th>\n",
       "      <td>1.228386</td>\n",
       "      <td>-0.550303</td>\n",
       "      <td>NaN</td>\n",
       "      <td>0.614193</td>\n",
       "      <td>-0.275151</td>\n",
       "      <td>NaN</td>\n",
       "    </tr>\n",
       "    <tr>\n",
       "      <th rowspan=\"2\" valign=\"top\">C</th>\n",
       "      <th>Amit</th>\n",
       "      <td>1.831304</td>\n",
       "      <td>NaN</td>\n",
       "      <td>-1.419776</td>\n",
       "      <td>0.915652</td>\n",
       "      <td>NaN</td>\n",
       "      <td>-0.709888</td>\n",
       "    </tr>\n",
       "    <tr>\n",
       "      <th>jashan</th>\n",
       "      <td>0.542487</td>\n",
       "      <td>-1.381435</td>\n",
       "      <td>NaN</td>\n",
       "      <td>0.271243</td>\n",
       "      <td>-0.690718</td>\n",
       "      <td>NaN</td>\n",
       "    </tr>\n",
       "  </tbody>\n",
       "</table>\n",
       "</div>"
      ],
      "text/plain": [
       "               sum                          mean                    \n",
       "A              one     three       two       one     three       two\n",
       "B C                                                                 \n",
       "A Keshav  1.804373  0.889126       NaN  0.902187  0.444563       NaN\n",
       "  Raghav  1.329664       NaN  1.749210  0.664832       NaN  0.874605\n",
       "B Pankaj -1.520695       NaN -1.457269 -0.760347       NaN -0.728635\n",
       "  Ravi    1.228386 -0.550303       NaN  0.614193 -0.275151       NaN\n",
       "C Amit    1.831304       NaN -1.419776  0.915652       NaN -0.709888\n",
       "  jashan  0.542487 -1.381435       NaN  0.271243 -0.690718       NaN"
      ]
     },
     "execution_count": 31,
     "metadata": {},
     "output_type": "execute_result"
    }
   ],
   "source": [
    "pd.pivot_table(\n",
    "    df, values=\"E\",\n",
    "    index=[\"B\", \"C\"],\n",
    "    columns=[\"A\"],\n",
    "    aggfunc=[\"sum\", \"mean\"],\n",
    ")"
   ]
  },
  {
   "cell_type": "markdown",
   "id": "5e99ff7b",
   "metadata": {},
   "source": [
    "# Adding margins"
   ]
  },
  {
   "cell_type": "code",
   "execution_count": 45,
   "id": "174e8969",
   "metadata": {},
   "outputs": [],
   "source": [
    "table = df.pivot_table(index=[\"A\",\"B\"] , columns=[\"C\"],values = ['D','E'],margins=True,aggfunc='std')"
   ]
  },
  {
   "cell_type": "code",
   "execution_count": 46,
   "id": "239bdcdb",
   "metadata": {},
   "outputs": [
    {
     "data": {
      "application/vnd.microsoft.datawrangler.viewer.v0+json": {
       "columns": [
        {
         "name": "('A', 'B')",
         "rawType": "object",
         "type": "unknown"
        },
        {
         "name": "('D', 'Amit')",
         "rawType": "float64",
         "type": "float"
        },
        {
         "name": "('D', 'Keshav')",
         "rawType": "float64",
         "type": "float"
        },
        {
         "name": "('D', 'Pankaj')",
         "rawType": "float64",
         "type": "float"
        },
        {
         "name": "('D', 'Raghav')",
         "rawType": "float64",
         "type": "float"
        },
        {
         "name": "('D', 'Ravi')",
         "rawType": "float64",
         "type": "float"
        },
        {
         "name": "('D', 'jashan')",
         "rawType": "float64",
         "type": "float"
        },
        {
         "name": "('D', 'All')",
         "rawType": "float64",
         "type": "float"
        },
        {
         "name": "('E', 'Amit')",
         "rawType": "float64",
         "type": "float"
        },
        {
         "name": "('E', 'Keshav')",
         "rawType": "float64",
         "type": "float"
        },
        {
         "name": "('E', 'Pankaj')",
         "rawType": "float64",
         "type": "float"
        },
        {
         "name": "('E', 'Raghav')",
         "rawType": "float64",
         "type": "float"
        },
        {
         "name": "('E', 'Ravi')",
         "rawType": "float64",
         "type": "float"
        },
        {
         "name": "('E', 'jashan')",
         "rawType": "float64",
         "type": "float"
        },
        {
         "name": "('E', 'All')",
         "rawType": "float64",
         "type": "float"
        }
       ],
       "conversionMethod": "pd.DataFrame",
       "ref": "1f199408-d580-4e81-8909-990c87291770",
       "rows": [
        [
         "('one', 'A')",
         null,
         "0.24290734404025416",
         null,
         "1.1371709305506623",
         null,
         null,
         "1.1363825416826663",
         null,
         "0.035166415751619017",
         null,
         "0.39014057496101523",
         null,
         null,
         "0.7250253895738556"
        ],
        [
         "('one', 'B')",
         null,
         null,
         "1.6479171742972853",
         null,
         "2.2313802272061025",
         null,
         "2.46878796061263",
         null,
         null,
         "0.14908365030253648",
         null,
         "0.07190653062791882",
         null,
         "0.41881920631851544"
        ],
        [
         "('one', 'C')",
         "2.460121720417586",
         null,
         null,
         null,
         null,
         "1.0269379441921191",
         "1.86132266484155",
         "0.6501424572213469",
         null,
         null,
         null,
         null,
         "1.045443393559822",
         "0.725789974438557"
        ],
        [
         "('three', 'A')",
         null,
         "0.009840159841509653",
         null,
         null,
         null,
         null,
         "0.009840159841509653",
         null,
         "0.3568880044093981",
         null,
         null,
         null,
         null,
         "0.3568880044093981"
        ],
        [
         "('three', 'B')",
         null,
         null,
         null,
         null,
         "0.12189780994070576",
         null,
         "0.12189780994070576",
         null,
         null,
         null,
         null,
         "1.9801685374072597",
         null,
         "1.9801685374072597"
        ],
        [
         "('three', 'C')",
         null,
         null,
         null,
         null,
         null,
         "1.194921939065522",
         "1.194921939065522",
         null,
         null,
         null,
         null,
         null,
         "0.9215580211918413",
         "0.9215580211918413"
        ],
        [
         "('two', 'A')",
         null,
         null,
         null,
         "0.475856614583658",
         null,
         null,
         "0.475856614583658",
         null,
         null,
         null,
         "1.0238855234930946",
         null,
         null,
         "1.0238855234930946"
        ],
        [
         "('two', 'B')",
         null,
         null,
         "0.9820170206514145",
         null,
         null,
         null,
         "0.9820170206514145",
         null,
         null,
         "0.5130218534522566",
         null,
         null,
         null,
         "0.5130218534522566"
        ],
        [
         "('two', 'C')",
         "0.7201312643470968",
         null,
         null,
         null,
         null,
         null,
         "0.7201312643470968",
         "1.2448479231860636",
         null,
         null,
         null,
         null,
         null,
         "1.2448479231860636"
        ],
        [
         "('All', '')",
         "1.9105696624089907",
         "0.1668169825678975",
         "1.706395518831431",
         "1.0988975367959313",
         "1.6900540811788372",
         "1.1772042452528688",
         "1.3486022217801659",
         "0.8700944422356811",
         "0.6798500735236421",
         "0.6560218792630206",
         "0.8867266885081345",
         "1.2616448298033165",
         "0.8060737754897043",
         "0.9175335524567512"
        ]
       ],
       "shape": {
        "columns": 14,
        "rows": 10
       }
      },
      "text/html": [
       "<div>\n",
       "<style scoped>\n",
       "    .dataframe tbody tr th:only-of-type {\n",
       "        vertical-align: middle;\n",
       "    }\n",
       "\n",
       "    .dataframe tbody tr th {\n",
       "        vertical-align: top;\n",
       "    }\n",
       "\n",
       "    .dataframe thead tr th {\n",
       "        text-align: left;\n",
       "    }\n",
       "\n",
       "    .dataframe thead tr:last-of-type th {\n",
       "        text-align: right;\n",
       "    }\n",
       "</style>\n",
       "<table border=\"1\" class=\"dataframe\">\n",
       "  <thead>\n",
       "    <tr>\n",
       "      <th></th>\n",
       "      <th></th>\n",
       "      <th colspan=\"7\" halign=\"left\">D</th>\n",
       "      <th colspan=\"7\" halign=\"left\">E</th>\n",
       "    </tr>\n",
       "    <tr>\n",
       "      <th></th>\n",
       "      <th>C</th>\n",
       "      <th>Amit</th>\n",
       "      <th>Keshav</th>\n",
       "      <th>Pankaj</th>\n",
       "      <th>Raghav</th>\n",
       "      <th>Ravi</th>\n",
       "      <th>jashan</th>\n",
       "      <th>All</th>\n",
       "      <th>Amit</th>\n",
       "      <th>Keshav</th>\n",
       "      <th>Pankaj</th>\n",
       "      <th>Raghav</th>\n",
       "      <th>Ravi</th>\n",
       "      <th>jashan</th>\n",
       "      <th>All</th>\n",
       "    </tr>\n",
       "    <tr>\n",
       "      <th>A</th>\n",
       "      <th>B</th>\n",
       "      <th></th>\n",
       "      <th></th>\n",
       "      <th></th>\n",
       "      <th></th>\n",
       "      <th></th>\n",
       "      <th></th>\n",
       "      <th></th>\n",
       "      <th></th>\n",
       "      <th></th>\n",
       "      <th></th>\n",
       "      <th></th>\n",
       "      <th></th>\n",
       "      <th></th>\n",
       "      <th></th>\n",
       "    </tr>\n",
       "  </thead>\n",
       "  <tbody>\n",
       "    <tr>\n",
       "      <th rowspan=\"3\" valign=\"top\">one</th>\n",
       "      <th>A</th>\n",
       "      <td>NaN</td>\n",
       "      <td>0.242907</td>\n",
       "      <td>NaN</td>\n",
       "      <td>1.137171</td>\n",
       "      <td>NaN</td>\n",
       "      <td>NaN</td>\n",
       "      <td>1.136383</td>\n",
       "      <td>NaN</td>\n",
       "      <td>0.035166</td>\n",
       "      <td>NaN</td>\n",
       "      <td>0.390141</td>\n",
       "      <td>NaN</td>\n",
       "      <td>NaN</td>\n",
       "      <td>0.725025</td>\n",
       "    </tr>\n",
       "    <tr>\n",
       "      <th>B</th>\n",
       "      <td>NaN</td>\n",
       "      <td>NaN</td>\n",
       "      <td>1.647917</td>\n",
       "      <td>NaN</td>\n",
       "      <td>2.231380</td>\n",
       "      <td>NaN</td>\n",
       "      <td>2.468788</td>\n",
       "      <td>NaN</td>\n",
       "      <td>NaN</td>\n",
       "      <td>0.149084</td>\n",
       "      <td>NaN</td>\n",
       "      <td>0.071907</td>\n",
       "      <td>NaN</td>\n",
       "      <td>0.418819</td>\n",
       "    </tr>\n",
       "    <tr>\n",
       "      <th>C</th>\n",
       "      <td>2.460122</td>\n",
       "      <td>NaN</td>\n",
       "      <td>NaN</td>\n",
       "      <td>NaN</td>\n",
       "      <td>NaN</td>\n",
       "      <td>1.026938</td>\n",
       "      <td>1.861323</td>\n",
       "      <td>0.650142</td>\n",
       "      <td>NaN</td>\n",
       "      <td>NaN</td>\n",
       "      <td>NaN</td>\n",
       "      <td>NaN</td>\n",
       "      <td>1.045443</td>\n",
       "      <td>0.725790</td>\n",
       "    </tr>\n",
       "    <tr>\n",
       "      <th rowspan=\"3\" valign=\"top\">three</th>\n",
       "      <th>A</th>\n",
       "      <td>NaN</td>\n",
       "      <td>0.009840</td>\n",
       "      <td>NaN</td>\n",
       "      <td>NaN</td>\n",
       "      <td>NaN</td>\n",
       "      <td>NaN</td>\n",
       "      <td>0.009840</td>\n",
       "      <td>NaN</td>\n",
       "      <td>0.356888</td>\n",
       "      <td>NaN</td>\n",
       "      <td>NaN</td>\n",
       "      <td>NaN</td>\n",
       "      <td>NaN</td>\n",
       "      <td>0.356888</td>\n",
       "    </tr>\n",
       "    <tr>\n",
       "      <th>B</th>\n",
       "      <td>NaN</td>\n",
       "      <td>NaN</td>\n",
       "      <td>NaN</td>\n",
       "      <td>NaN</td>\n",
       "      <td>0.121898</td>\n",
       "      <td>NaN</td>\n",
       "      <td>0.121898</td>\n",
       "      <td>NaN</td>\n",
       "      <td>NaN</td>\n",
       "      <td>NaN</td>\n",
       "      <td>NaN</td>\n",
       "      <td>1.980169</td>\n",
       "      <td>NaN</td>\n",
       "      <td>1.980169</td>\n",
       "    </tr>\n",
       "    <tr>\n",
       "      <th>C</th>\n",
       "      <td>NaN</td>\n",
       "      <td>NaN</td>\n",
       "      <td>NaN</td>\n",
       "      <td>NaN</td>\n",
       "      <td>NaN</td>\n",
       "      <td>1.194922</td>\n",
       "      <td>1.194922</td>\n",
       "      <td>NaN</td>\n",
       "      <td>NaN</td>\n",
       "      <td>NaN</td>\n",
       "      <td>NaN</td>\n",
       "      <td>NaN</td>\n",
       "      <td>0.921558</td>\n",
       "      <td>0.921558</td>\n",
       "    </tr>\n",
       "    <tr>\n",
       "      <th rowspan=\"3\" valign=\"top\">two</th>\n",
       "      <th>A</th>\n",
       "      <td>NaN</td>\n",
       "      <td>NaN</td>\n",
       "      <td>NaN</td>\n",
       "      <td>0.475857</td>\n",
       "      <td>NaN</td>\n",
       "      <td>NaN</td>\n",
       "      <td>0.475857</td>\n",
       "      <td>NaN</td>\n",
       "      <td>NaN</td>\n",
       "      <td>NaN</td>\n",
       "      <td>1.023886</td>\n",
       "      <td>NaN</td>\n",
       "      <td>NaN</td>\n",
       "      <td>1.023886</td>\n",
       "    </tr>\n",
       "    <tr>\n",
       "      <th>B</th>\n",
       "      <td>NaN</td>\n",
       "      <td>NaN</td>\n",
       "      <td>0.982017</td>\n",
       "      <td>NaN</td>\n",
       "      <td>NaN</td>\n",
       "      <td>NaN</td>\n",
       "      <td>0.982017</td>\n",
       "      <td>NaN</td>\n",
       "      <td>NaN</td>\n",
       "      <td>0.513022</td>\n",
       "      <td>NaN</td>\n",
       "      <td>NaN</td>\n",
       "      <td>NaN</td>\n",
       "      <td>0.513022</td>\n",
       "    </tr>\n",
       "    <tr>\n",
       "      <th>C</th>\n",
       "      <td>0.720131</td>\n",
       "      <td>NaN</td>\n",
       "      <td>NaN</td>\n",
       "      <td>NaN</td>\n",
       "      <td>NaN</td>\n",
       "      <td>NaN</td>\n",
       "      <td>0.720131</td>\n",
       "      <td>1.244848</td>\n",
       "      <td>NaN</td>\n",
       "      <td>NaN</td>\n",
       "      <td>NaN</td>\n",
       "      <td>NaN</td>\n",
       "      <td>NaN</td>\n",
       "      <td>1.244848</td>\n",
       "    </tr>\n",
       "    <tr>\n",
       "      <th>All</th>\n",
       "      <th></th>\n",
       "      <td>1.910570</td>\n",
       "      <td>0.166817</td>\n",
       "      <td>1.706396</td>\n",
       "      <td>1.098898</td>\n",
       "      <td>1.690054</td>\n",
       "      <td>1.177204</td>\n",
       "      <td>1.348602</td>\n",
       "      <td>0.870094</td>\n",
       "      <td>0.679850</td>\n",
       "      <td>0.656022</td>\n",
       "      <td>0.886727</td>\n",
       "      <td>1.261645</td>\n",
       "      <td>0.806074</td>\n",
       "      <td>0.917534</td>\n",
       "    </tr>\n",
       "  </tbody>\n",
       "</table>\n",
       "</div>"
      ],
      "text/plain": [
       "                D                                                              \\\n",
       "C            Amit    Keshav    Pankaj    Raghav      Ravi    jashan       All   \n",
       "A     B                                                                         \n",
       "one   A       NaN  0.242907       NaN  1.137171       NaN       NaN  1.136383   \n",
       "      B       NaN       NaN  1.647917       NaN  2.231380       NaN  2.468788   \n",
       "      C  2.460122       NaN       NaN       NaN       NaN  1.026938  1.861323   \n",
       "three A       NaN  0.009840       NaN       NaN       NaN       NaN  0.009840   \n",
       "      B       NaN       NaN       NaN       NaN  0.121898       NaN  0.121898   \n",
       "      C       NaN       NaN       NaN       NaN       NaN  1.194922  1.194922   \n",
       "two   A       NaN       NaN       NaN  0.475857       NaN       NaN  0.475857   \n",
       "      B       NaN       NaN  0.982017       NaN       NaN       NaN  0.982017   \n",
       "      C  0.720131       NaN       NaN       NaN       NaN       NaN  0.720131   \n",
       "All      1.910570  0.166817  1.706396  1.098898  1.690054  1.177204  1.348602   \n",
       "\n",
       "                E                                                              \n",
       "C            Amit    Keshav    Pankaj    Raghav      Ravi    jashan       All  \n",
       "A     B                                                                        \n",
       "one   A       NaN  0.035166       NaN  0.390141       NaN       NaN  0.725025  \n",
       "      B       NaN       NaN  0.149084       NaN  0.071907       NaN  0.418819  \n",
       "      C  0.650142       NaN       NaN       NaN       NaN  1.045443  0.725790  \n",
       "three A       NaN  0.356888       NaN       NaN       NaN       NaN  0.356888  \n",
       "      B       NaN       NaN       NaN       NaN  1.980169       NaN  1.980169  \n",
       "      C       NaN       NaN       NaN       NaN       NaN  0.921558  0.921558  \n",
       "two   A       NaN       NaN       NaN  1.023886       NaN       NaN  1.023886  \n",
       "      B       NaN       NaN  0.513022       NaN       NaN       NaN  0.513022  \n",
       "      C  1.244848       NaN       NaN       NaN       NaN       NaN  1.244848  \n",
       "All      0.870094  0.679850  0.656022  0.886727  1.261645  0.806074  0.917534  "
      ]
     },
     "execution_count": 46,
     "metadata": {},
     "output_type": "execute_result"
    }
   ],
   "source": [
    "table"
   ]
  },
  {
   "cell_type": "markdown",
   "id": "49897d70",
   "metadata": {},
   "source": [
    "Additionally, you can call DataFrame.stack() to display a pivoted DataFrame as having a multi-level index:"
   ]
  },
  {
   "cell_type": "code",
   "execution_count": 47,
   "id": "8e000110",
   "metadata": {},
   "outputs": [
    {
     "data": {
      "application/vnd.microsoft.datawrangler.viewer.v0+json": {
       "columns": [
        {
         "name": "('A', 'B', 'C')",
         "rawType": "object",
         "type": "unknown"
        },
        {
         "name": "D",
         "rawType": "float64",
         "type": "float"
        },
        {
         "name": "E",
         "rawType": "float64",
         "type": "float"
        }
       ],
       "conversionMethod": "pd.DataFrame",
       "ref": "a992b094-fa79-4589-aff5-cb67bca05ceb",
       "rows": [
        [
         "('one', 'A', 'Amit')",
         null,
         null
        ],
        [
         "('one', 'A', 'Keshav')",
         "0.24290734404025416",
         "0.035166415751619017"
        ],
        [
         "('one', 'A', 'Pankaj')",
         null,
         null
        ],
        [
         "('one', 'A', 'Raghav')",
         "1.1371709305506623",
         "0.39014057496101523"
        ],
        [
         "('one', 'A', 'Ravi')",
         null,
         null
        ],
        [
         "('one', 'A', 'jashan')",
         null,
         null
        ],
        [
         "('one', 'A', 'All')",
         "1.1363825416826663",
         "0.7250253895738556"
        ],
        [
         "('one', 'B', 'Amit')",
         null,
         null
        ],
        [
         "('one', 'B', 'Keshav')",
         null,
         null
        ],
        [
         "('one', 'B', 'Pankaj')",
         "1.6479171742972853",
         "0.14908365030253648"
        ],
        [
         "('one', 'B', 'Raghav')",
         null,
         null
        ],
        [
         "('one', 'B', 'Ravi')",
         "2.2313802272061025",
         "0.07190653062791882"
        ],
        [
         "('one', 'B', 'jashan')",
         null,
         null
        ],
        [
         "('one', 'B', 'All')",
         "2.46878796061263",
         "0.41881920631851544"
        ],
        [
         "('one', 'C', 'Amit')",
         "2.460121720417586",
         "0.6501424572213469"
        ],
        [
         "('one', 'C', 'Keshav')",
         null,
         null
        ],
        [
         "('one', 'C', 'Pankaj')",
         null,
         null
        ],
        [
         "('one', 'C', 'Raghav')",
         null,
         null
        ],
        [
         "('one', 'C', 'Ravi')",
         null,
         null
        ],
        [
         "('one', 'C', 'jashan')",
         "1.0269379441921191",
         "1.045443393559822"
        ],
        [
         "('one', 'C', 'All')",
         "1.86132266484155",
         "0.725789974438557"
        ],
        [
         "('three', 'A', 'Amit')",
         null,
         null
        ],
        [
         "('three', 'A', 'Keshav')",
         "0.009840159841509653",
         "0.3568880044093981"
        ],
        [
         "('three', 'A', 'Pankaj')",
         null,
         null
        ],
        [
         "('three', 'A', 'Raghav')",
         null,
         null
        ],
        [
         "('three', 'A', 'Ravi')",
         null,
         null
        ],
        [
         "('three', 'A', 'jashan')",
         null,
         null
        ],
        [
         "('three', 'A', 'All')",
         "0.009840159841509653",
         "0.3568880044093981"
        ],
        [
         "('three', 'B', 'Amit')",
         null,
         null
        ],
        [
         "('three', 'B', 'Keshav')",
         null,
         null
        ],
        [
         "('three', 'B', 'Pankaj')",
         null,
         null
        ],
        [
         "('three', 'B', 'Raghav')",
         null,
         null
        ],
        [
         "('three', 'B', 'Ravi')",
         "0.12189780994070576",
         "1.9801685374072597"
        ],
        [
         "('three', 'B', 'jashan')",
         null,
         null
        ],
        [
         "('three', 'B', 'All')",
         "0.12189780994070576",
         "1.9801685374072597"
        ],
        [
         "('three', 'C', 'Amit')",
         null,
         null
        ],
        [
         "('three', 'C', 'Keshav')",
         null,
         null
        ],
        [
         "('three', 'C', 'Pankaj')",
         null,
         null
        ],
        [
         "('three', 'C', 'Raghav')",
         null,
         null
        ],
        [
         "('three', 'C', 'Ravi')",
         null,
         null
        ],
        [
         "('three', 'C', 'jashan')",
         "1.194921939065522",
         "0.9215580211918413"
        ],
        [
         "('three', 'C', 'All')",
         "1.194921939065522",
         "0.9215580211918413"
        ],
        [
         "('two', 'A', 'Amit')",
         null,
         null
        ],
        [
         "('two', 'A', 'Keshav')",
         null,
         null
        ],
        [
         "('two', 'A', 'Pankaj')",
         null,
         null
        ],
        [
         "('two', 'A', 'Raghav')",
         "0.475856614583658",
         "1.0238855234930946"
        ],
        [
         "('two', 'A', 'Ravi')",
         null,
         null
        ],
        [
         "('two', 'A', 'jashan')",
         null,
         null
        ],
        [
         "('two', 'A', 'All')",
         "0.475856614583658",
         "1.0238855234930946"
        ],
        [
         "('two', 'B', 'Amit')",
         null,
         null
        ]
       ],
       "shape": {
        "columns": 2,
        "rows": 70
       }
      },
      "text/html": [
       "<div>\n",
       "<style scoped>\n",
       "    .dataframe tbody tr th:only-of-type {\n",
       "        vertical-align: middle;\n",
       "    }\n",
       "\n",
       "    .dataframe tbody tr th {\n",
       "        vertical-align: top;\n",
       "    }\n",
       "\n",
       "    .dataframe thead th {\n",
       "        text-align: right;\n",
       "    }\n",
       "</style>\n",
       "<table border=\"1\" class=\"dataframe\">\n",
       "  <thead>\n",
       "    <tr style=\"text-align: right;\">\n",
       "      <th></th>\n",
       "      <th></th>\n",
       "      <th></th>\n",
       "      <th>D</th>\n",
       "      <th>E</th>\n",
       "    </tr>\n",
       "    <tr>\n",
       "      <th>A</th>\n",
       "      <th>B</th>\n",
       "      <th>C</th>\n",
       "      <th></th>\n",
       "      <th></th>\n",
       "    </tr>\n",
       "  </thead>\n",
       "  <tbody>\n",
       "    <tr>\n",
       "      <th rowspan=\"5\" valign=\"top\">one</th>\n",
       "      <th rowspan=\"5\" valign=\"top\">A</th>\n",
       "      <th>Amit</th>\n",
       "      <td>NaN</td>\n",
       "      <td>NaN</td>\n",
       "    </tr>\n",
       "    <tr>\n",
       "      <th>Keshav</th>\n",
       "      <td>0.242907</td>\n",
       "      <td>0.035166</td>\n",
       "    </tr>\n",
       "    <tr>\n",
       "      <th>Pankaj</th>\n",
       "      <td>NaN</td>\n",
       "      <td>NaN</td>\n",
       "    </tr>\n",
       "    <tr>\n",
       "      <th>Raghav</th>\n",
       "      <td>1.137171</td>\n",
       "      <td>0.390141</td>\n",
       "    </tr>\n",
       "    <tr>\n",
       "      <th>Ravi</th>\n",
       "      <td>NaN</td>\n",
       "      <td>NaN</td>\n",
       "    </tr>\n",
       "    <tr>\n",
       "      <th>...</th>\n",
       "      <th>...</th>\n",
       "      <th>...</th>\n",
       "      <td>...</td>\n",
       "      <td>...</td>\n",
       "    </tr>\n",
       "    <tr>\n",
       "      <th rowspan=\"5\" valign=\"top\">All</th>\n",
       "      <th rowspan=\"5\" valign=\"top\"></th>\n",
       "      <th>Pankaj</th>\n",
       "      <td>1.706396</td>\n",
       "      <td>0.656022</td>\n",
       "    </tr>\n",
       "    <tr>\n",
       "      <th>Raghav</th>\n",
       "      <td>1.098898</td>\n",
       "      <td>0.886727</td>\n",
       "    </tr>\n",
       "    <tr>\n",
       "      <th>Ravi</th>\n",
       "      <td>1.690054</td>\n",
       "      <td>1.261645</td>\n",
       "    </tr>\n",
       "    <tr>\n",
       "      <th>jashan</th>\n",
       "      <td>1.177204</td>\n",
       "      <td>0.806074</td>\n",
       "    </tr>\n",
       "    <tr>\n",
       "      <th>All</th>\n",
       "      <td>1.348602</td>\n",
       "      <td>0.917534</td>\n",
       "    </tr>\n",
       "  </tbody>\n",
       "</table>\n",
       "<p>70 rows × 2 columns</p>\n",
       "</div>"
      ],
      "text/plain": [
       "                     D         E\n",
       "A   B C                         \n",
       "one A Amit         NaN       NaN\n",
       "      Keshav  0.242907  0.035166\n",
       "      Pankaj       NaN       NaN\n",
       "      Raghav  1.137171  0.390141\n",
       "      Ravi         NaN       NaN\n",
       "...                ...       ...\n",
       "All   Pankaj  1.706396  0.656022\n",
       "      Raghav  1.098898  0.886727\n",
       "      Ravi    1.690054  1.261645\n",
       "      jashan  1.177204  0.806074\n",
       "      All     1.348602  0.917534\n",
       "\n",
       "[70 rows x 2 columns]"
      ]
     },
     "execution_count": 47,
     "metadata": {},
     "output_type": "execute_result"
    }
   ],
   "source": [
    "table.stack(future_stack=True)"
   ]
  },
  {
   "cell_type": "code",
   "execution_count": null,
   "id": "d50f840b",
   "metadata": {},
   "outputs": [],
   "source": []
  }
 ],
 "metadata": {
  "kernelspec": {
   "display_name": "Python 3",
   "language": "python",
   "name": "python3"
  },
  "language_info": {
   "codemirror_mode": {
    "name": "ipython",
    "version": 3
   },
   "file_extension": ".py",
   "mimetype": "text/x-python",
   "name": "python",
   "nbconvert_exporter": "python",
   "pygments_lexer": "ipython3",
   "version": "3.11.9"
  }
 },
 "nbformat": 4,
 "nbformat_minor": 5
}
