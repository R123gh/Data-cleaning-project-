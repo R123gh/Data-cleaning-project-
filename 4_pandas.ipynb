{
 "cells": [
  {
   "cell_type": "code",
   "execution_count": 1,
   "id": "1b7e3f7f",
   "metadata": {},
   "outputs": [],
   "source": [
    "import pandas as pd  \n",
    "import numpy as np "
   ]
  },
  {
   "cell_type": "markdown",
   "id": "21e53508",
   "metadata": {},
   "source": [
    "#   How to convert the dataframe into csv file "
   ]
  },
  {
   "cell_type": "code",
   "execution_count": 2,
   "id": "fabc0b88",
   "metadata": {},
   "outputs": [],
   "source": [
    "df = pd.DataFrame(np.random.rand(5,5),index = ['0','1','2','3','4'])"
   ]
  },
  {
   "cell_type": "code",
   "execution_count": 3,
   "id": "191c032c",
   "metadata": {},
   "outputs": [],
   "source": [
    "df.columns = ['a','b','c','d','e']"
   ]
  },
  {
   "cell_type": "code",
   "execution_count": 4,
   "id": "5d30bfd5",
   "metadata": {},
   "outputs": [
    {
     "data": {
      "application/vnd.microsoft.datawrangler.viewer.v0+json": {
       "columns": [
        {
         "name": "index",
         "rawType": "object",
         "type": "string"
        },
        {
         "name": "a",
         "rawType": "float64",
         "type": "float"
        },
        {
         "name": "b",
         "rawType": "float64",
         "type": "float"
        },
        {
         "name": "c",
         "rawType": "float64",
         "type": "float"
        },
        {
         "name": "d",
         "rawType": "float64",
         "type": "float"
        },
        {
         "name": "e",
         "rawType": "float64",
         "type": "float"
        }
       ],
       "conversionMethod": "pd.DataFrame",
       "ref": "ff4b065c-a341-4d89-b90a-3a85556a365d",
       "rows": [
        [
         "0",
         "0.3460120832508833",
         "0.68192580930044",
         "0.8742074677296569",
         "0.3800952731313062",
         "0.2350679278745892"
        ],
        [
         "1",
         "0.511719977316665",
         "0.5403020126494321",
         "0.8139052133663005",
         "0.686655738209321",
         "0.3242009666983324"
        ],
        [
         "2",
         "0.9062740347616661",
         "0.6917354378739317",
         "0.15620538354200386",
         "0.03658690277840393",
         "0.9529323196841121"
        ],
        [
         "3",
         "0.7742291880839224",
         "0.8003105215841254",
         "0.06373215254140097",
         "0.9821862596071137",
         "0.6438092928575914"
        ],
        [
         "4",
         "0.23309735433188672",
         "0.6994671398985187",
         "0.16525432620403402",
         "0.7425833667239534",
         "0.8542091379866271"
        ]
       ],
       "shape": {
        "columns": 5,
        "rows": 5
       }
      },
      "text/html": [
       "<div>\n",
       "<style scoped>\n",
       "    .dataframe tbody tr th:only-of-type {\n",
       "        vertical-align: middle;\n",
       "    }\n",
       "\n",
       "    .dataframe tbody tr th {\n",
       "        vertical-align: top;\n",
       "    }\n",
       "\n",
       "    .dataframe thead th {\n",
       "        text-align: right;\n",
       "    }\n",
       "</style>\n",
       "<table border=\"1\" class=\"dataframe\">\n",
       "  <thead>\n",
       "    <tr style=\"text-align: right;\">\n",
       "      <th></th>\n",
       "      <th>a</th>\n",
       "      <th>b</th>\n",
       "      <th>c</th>\n",
       "      <th>d</th>\n",
       "      <th>e</th>\n",
       "    </tr>\n",
       "  </thead>\n",
       "  <tbody>\n",
       "    <tr>\n",
       "      <th>0</th>\n",
       "      <td>0.346012</td>\n",
       "      <td>0.681926</td>\n",
       "      <td>0.874207</td>\n",
       "      <td>0.380095</td>\n",
       "      <td>0.235068</td>\n",
       "    </tr>\n",
       "    <tr>\n",
       "      <th>1</th>\n",
       "      <td>0.511720</td>\n",
       "      <td>0.540302</td>\n",
       "      <td>0.813905</td>\n",
       "      <td>0.686656</td>\n",
       "      <td>0.324201</td>\n",
       "    </tr>\n",
       "    <tr>\n",
       "      <th>2</th>\n",
       "      <td>0.906274</td>\n",
       "      <td>0.691735</td>\n",
       "      <td>0.156205</td>\n",
       "      <td>0.036587</td>\n",
       "      <td>0.952932</td>\n",
       "    </tr>\n",
       "    <tr>\n",
       "      <th>3</th>\n",
       "      <td>0.774229</td>\n",
       "      <td>0.800311</td>\n",
       "      <td>0.063732</td>\n",
       "      <td>0.982186</td>\n",
       "      <td>0.643809</td>\n",
       "    </tr>\n",
       "    <tr>\n",
       "      <th>4</th>\n",
       "      <td>0.233097</td>\n",
       "      <td>0.699467</td>\n",
       "      <td>0.165254</td>\n",
       "      <td>0.742583</td>\n",
       "      <td>0.854209</td>\n",
       "    </tr>\n",
       "  </tbody>\n",
       "</table>\n",
       "</div>"
      ],
      "text/plain": [
       "          a         b         c         d         e\n",
       "0  0.346012  0.681926  0.874207  0.380095  0.235068\n",
       "1  0.511720  0.540302  0.813905  0.686656  0.324201\n",
       "2  0.906274  0.691735  0.156205  0.036587  0.952932\n",
       "3  0.774229  0.800311  0.063732  0.982186  0.643809\n",
       "4  0.233097  0.699467  0.165254  0.742583  0.854209"
      ]
     },
     "execution_count": 4,
     "metadata": {},
     "output_type": "execute_result"
    }
   ],
   "source": [
    "df"
   ]
  },
  {
   "cell_type": "markdown",
   "id": "4ae6e440",
   "metadata": {},
   "source": [
    "Dataframe -----------> CSV "
   ]
  },
  {
   "cell_type": "code",
   "execution_count": 5,
   "id": "285ff734",
   "metadata": {},
   "outputs": [],
   "source": [
    "df.to_csv(\"My_file.csv\")"
   ]
  },
  {
   "cell_type": "markdown",
   "id": "98e1d3f0",
   "metadata": {},
   "source": [
    "#  To read csv file "
   ]
  },
  {
   "cell_type": "code",
   "execution_count": 6,
   "id": "82fae0d7",
   "metadata": {},
   "outputs": [
    {
     "data": {
      "application/vnd.microsoft.datawrangler.viewer.v0+json": {
       "columns": [
        {
         "name": "index",
         "rawType": "int64",
         "type": "integer"
        },
        {
         "name": "Unnamed: 0",
         "rawType": "int64",
         "type": "integer"
        },
        {
         "name": "a",
         "rawType": "float64",
         "type": "float"
        },
        {
         "name": "b",
         "rawType": "float64",
         "type": "float"
        },
        {
         "name": "c",
         "rawType": "float64",
         "type": "float"
        },
        {
         "name": "d",
         "rawType": "float64",
         "type": "float"
        },
        {
         "name": "e",
         "rawType": "float64",
         "type": "float"
        }
       ],
       "conversionMethod": "pd.DataFrame",
       "ref": "40126a28-391c-42da-938f-9c71c68d0f42",
       "rows": [
        [
         "0",
         "0",
         "0.3460120832508833",
         "0.68192580930044",
         "0.8742074677296569",
         "0.3800952731313062",
         "0.2350679278745892"
        ],
        [
         "1",
         "1",
         "0.511719977316665",
         "0.5403020126494321",
         "0.8139052133663005",
         "0.686655738209321",
         "0.3242009666983324"
        ],
        [
         "2",
         "2",
         "0.906274034761666",
         "0.6917354378739317",
         "0.1562053835420038",
         "0.0365869027784039",
         "0.952932319684112"
        ],
        [
         "3",
         "3",
         "0.7742291880839224",
         "0.8003105215841254",
         "0.0637321525414009",
         "0.9821862596071136",
         "0.6438092928575914"
        ],
        [
         "4",
         "4",
         "0.2330973543318867",
         "0.6994671398985187",
         "0.165254326204034",
         "0.7425833667239534",
         "0.8542091379866271"
        ]
       ],
       "shape": {
        "columns": 6,
        "rows": 5
       }
      },
      "text/html": [
       "<div>\n",
       "<style scoped>\n",
       "    .dataframe tbody tr th:only-of-type {\n",
       "        vertical-align: middle;\n",
       "    }\n",
       "\n",
       "    .dataframe tbody tr th {\n",
       "        vertical-align: top;\n",
       "    }\n",
       "\n",
       "    .dataframe thead th {\n",
       "        text-align: right;\n",
       "    }\n",
       "</style>\n",
       "<table border=\"1\" class=\"dataframe\">\n",
       "  <thead>\n",
       "    <tr style=\"text-align: right;\">\n",
       "      <th></th>\n",
       "      <th>Unnamed: 0</th>\n",
       "      <th>a</th>\n",
       "      <th>b</th>\n",
       "      <th>c</th>\n",
       "      <th>d</th>\n",
       "      <th>e</th>\n",
       "    </tr>\n",
       "  </thead>\n",
       "  <tbody>\n",
       "    <tr>\n",
       "      <th>0</th>\n",
       "      <td>0</td>\n",
       "      <td>0.346012</td>\n",
       "      <td>0.681926</td>\n",
       "      <td>0.874207</td>\n",
       "      <td>0.380095</td>\n",
       "      <td>0.235068</td>\n",
       "    </tr>\n",
       "    <tr>\n",
       "      <th>1</th>\n",
       "      <td>1</td>\n",
       "      <td>0.511720</td>\n",
       "      <td>0.540302</td>\n",
       "      <td>0.813905</td>\n",
       "      <td>0.686656</td>\n",
       "      <td>0.324201</td>\n",
       "    </tr>\n",
       "    <tr>\n",
       "      <th>2</th>\n",
       "      <td>2</td>\n",
       "      <td>0.906274</td>\n",
       "      <td>0.691735</td>\n",
       "      <td>0.156205</td>\n",
       "      <td>0.036587</td>\n",
       "      <td>0.952932</td>\n",
       "    </tr>\n",
       "    <tr>\n",
       "      <th>3</th>\n",
       "      <td>3</td>\n",
       "      <td>0.774229</td>\n",
       "      <td>0.800311</td>\n",
       "      <td>0.063732</td>\n",
       "      <td>0.982186</td>\n",
       "      <td>0.643809</td>\n",
       "    </tr>\n",
       "    <tr>\n",
       "      <th>4</th>\n",
       "      <td>4</td>\n",
       "      <td>0.233097</td>\n",
       "      <td>0.699467</td>\n",
       "      <td>0.165254</td>\n",
       "      <td>0.742583</td>\n",
       "      <td>0.854209</td>\n",
       "    </tr>\n",
       "  </tbody>\n",
       "</table>\n",
       "</div>"
      ],
      "text/plain": [
       "   Unnamed: 0         a         b         c         d         e\n",
       "0           0  0.346012  0.681926  0.874207  0.380095  0.235068\n",
       "1           1  0.511720  0.540302  0.813905  0.686656  0.324201\n",
       "2           2  0.906274  0.691735  0.156205  0.036587  0.952932\n",
       "3           3  0.774229  0.800311  0.063732  0.982186  0.643809\n",
       "4           4  0.233097  0.699467  0.165254  0.742583  0.854209"
      ]
     },
     "execution_count": 6,
     "metadata": {},
     "output_type": "execute_result"
    }
   ],
   "source": [
    "pd.read_csv('My_file.csv')"
   ]
  },
  {
   "cell_type": "markdown",
   "id": "f70952df",
   "metadata": {},
   "source": [
    "#  Indexing and selecting data"
   ]
  },
  {
   "cell_type": "code",
   "execution_count": 7,
   "id": "074dc714",
   "metadata": {},
   "outputs": [
    {
     "data": {
      "text/plain": [
       "a    0\n",
       "b    1\n",
       "c    2\n",
       "d    3\n",
       "e    4\n",
       "dtype: int64"
      ]
     },
     "execution_count": 7,
     "metadata": {},
     "output_type": "execute_result"
    }
   ],
   "source": [
    "ser = pd.Series(range(5), index=list(\"abcde\"))\n",
    "ser"
   ]
  },
  {
   "cell_type": "markdown",
   "id": "84806032",
   "metadata": {},
   "source": [
    "To find the elements by using indexing "
   ]
  },
  {
   "cell_type": "code",
   "execution_count": 8,
   "id": "a2af7b88",
   "metadata": {},
   "outputs": [
    {
     "data": {
      "text/plain": [
       "a    0\n",
       "c    2\n",
       "e    4\n",
       "dtype: int64"
      ]
     },
     "execution_count": 8,
     "metadata": {},
     "output_type": "execute_result"
    }
   ],
   "source": [
    "ser.loc[['a','c','e']]"
   ]
  },
  {
   "cell_type": "code",
   "execution_count": 9,
   "id": "8f19f3f8",
   "metadata": {},
   "outputs": [],
   "source": [
    "df = pd.DataFrame(np.arange(25).reshape(5, 5), index=list(\"abcde\"), columns=list(\"abcde\"))"
   ]
  },
  {
   "cell_type": "code",
   "execution_count": 10,
   "id": "f6f22a55",
   "metadata": {},
   "outputs": [
    {
     "data": {
      "application/vnd.microsoft.datawrangler.viewer.v0+json": {
       "columns": [
        {
         "name": "index",
         "rawType": "object",
         "type": "string"
        },
        {
         "name": "a",
         "rawType": "int64",
         "type": "integer"
        },
        {
         "name": "b",
         "rawType": "int64",
         "type": "integer"
        },
        {
         "name": "c",
         "rawType": "int64",
         "type": "integer"
        },
        {
         "name": "d",
         "rawType": "int64",
         "type": "integer"
        },
        {
         "name": "e",
         "rawType": "int64",
         "type": "integer"
        }
       ],
       "conversionMethod": "pd.DataFrame",
       "ref": "e7d3cb41-2be9-4766-8129-b55e4ccc65d2",
       "rows": [
        [
         "a",
         "0",
         "1",
         "2",
         "3",
         "4"
        ],
        [
         "b",
         "5",
         "6",
         "7",
         "8",
         "9"
        ],
        [
         "c",
         "10",
         "11",
         "12",
         "13",
         "14"
        ],
        [
         "d",
         "15",
         "16",
         "17",
         "18",
         "19"
        ],
        [
         "e",
         "20",
         "21",
         "22",
         "23",
         "24"
        ]
       ],
       "shape": {
        "columns": 5,
        "rows": 5
       }
      },
      "text/html": [
       "<div>\n",
       "<style scoped>\n",
       "    .dataframe tbody tr th:only-of-type {\n",
       "        vertical-align: middle;\n",
       "    }\n",
       "\n",
       "    .dataframe tbody tr th {\n",
       "        vertical-align: top;\n",
       "    }\n",
       "\n",
       "    .dataframe thead th {\n",
       "        text-align: right;\n",
       "    }\n",
       "</style>\n",
       "<table border=\"1\" class=\"dataframe\">\n",
       "  <thead>\n",
       "    <tr style=\"text-align: right;\">\n",
       "      <th></th>\n",
       "      <th>a</th>\n",
       "      <th>b</th>\n",
       "      <th>c</th>\n",
       "      <th>d</th>\n",
       "      <th>e</th>\n",
       "    </tr>\n",
       "  </thead>\n",
       "  <tbody>\n",
       "    <tr>\n",
       "      <th>a</th>\n",
       "      <td>0</td>\n",
       "      <td>1</td>\n",
       "      <td>2</td>\n",
       "      <td>3</td>\n",
       "      <td>4</td>\n",
       "    </tr>\n",
       "    <tr>\n",
       "      <th>b</th>\n",
       "      <td>5</td>\n",
       "      <td>6</td>\n",
       "      <td>7</td>\n",
       "      <td>8</td>\n",
       "      <td>9</td>\n",
       "    </tr>\n",
       "    <tr>\n",
       "      <th>c</th>\n",
       "      <td>10</td>\n",
       "      <td>11</td>\n",
       "      <td>12</td>\n",
       "      <td>13</td>\n",
       "      <td>14</td>\n",
       "    </tr>\n",
       "    <tr>\n",
       "      <th>d</th>\n",
       "      <td>15</td>\n",
       "      <td>16</td>\n",
       "      <td>17</td>\n",
       "      <td>18</td>\n",
       "      <td>19</td>\n",
       "    </tr>\n",
       "    <tr>\n",
       "      <th>e</th>\n",
       "      <td>20</td>\n",
       "      <td>21</td>\n",
       "      <td>22</td>\n",
       "      <td>23</td>\n",
       "      <td>24</td>\n",
       "    </tr>\n",
       "  </tbody>\n",
       "</table>\n",
       "</div>"
      ],
      "text/plain": [
       "    a   b   c   d   e\n",
       "a   0   1   2   3   4\n",
       "b   5   6   7   8   9\n",
       "c  10  11  12  13  14\n",
       "d  15  16  17  18  19\n",
       "e  20  21  22  23  24"
      ]
     },
     "execution_count": 10,
     "metadata": {},
     "output_type": "execute_result"
    }
   ],
   "source": [
    "df"
   ]
  },
  {
   "cell_type": "code",
   "execution_count": 11,
   "id": "4dabb810",
   "metadata": {},
   "outputs": [
    {
     "data": {
      "application/vnd.microsoft.datawrangler.viewer.v0+json": {
       "columns": [
        {
         "name": "index",
         "rawType": "object",
         "type": "string"
        },
        {
         "name": "b",
         "rawType": "int64",
         "type": "integer"
        },
        {
         "name": "d",
         "rawType": "int64",
         "type": "integer"
        }
       ],
       "conversionMethod": "pd.DataFrame",
       "ref": "c3a4b0a4-16d1-453e-94b9-cef2c0ad0cbc",
       "rows": [
        [
         "a",
         "1",
         "3"
        ],
        [
         "c",
         "11",
         "13"
        ],
        [
         "e",
         "21",
         "23"
        ]
       ],
       "shape": {
        "columns": 2,
        "rows": 3
       }
      },
      "text/html": [
       "<div>\n",
       "<style scoped>\n",
       "    .dataframe tbody tr th:only-of-type {\n",
       "        vertical-align: middle;\n",
       "    }\n",
       "\n",
       "    .dataframe tbody tr th {\n",
       "        vertical-align: top;\n",
       "    }\n",
       "\n",
       "    .dataframe thead th {\n",
       "        text-align: right;\n",
       "    }\n",
       "</style>\n",
       "<table border=\"1\" class=\"dataframe\">\n",
       "  <thead>\n",
       "    <tr style=\"text-align: right;\">\n",
       "      <th></th>\n",
       "      <th>b</th>\n",
       "      <th>d</th>\n",
       "    </tr>\n",
       "  </thead>\n",
       "  <tbody>\n",
       "    <tr>\n",
       "      <th>a</th>\n",
       "      <td>1</td>\n",
       "      <td>3</td>\n",
       "    </tr>\n",
       "    <tr>\n",
       "      <th>c</th>\n",
       "      <td>11</td>\n",
       "      <td>13</td>\n",
       "    </tr>\n",
       "    <tr>\n",
       "      <th>e</th>\n",
       "      <td>21</td>\n",
       "      <td>23</td>\n",
       "    </tr>\n",
       "  </tbody>\n",
       "</table>\n",
       "</div>"
      ],
      "text/plain": [
       "    b   d\n",
       "a   1   3\n",
       "c  11  13\n",
       "e  21  23"
      ]
     },
     "execution_count": 11,
     "metadata": {},
     "output_type": "execute_result"
    }
   ],
   "source": [
    "df.loc[[\"a\", \"c\", \"e\"], [\"b\", \"d\"]]"
   ]
  },
  {
   "cell_type": "markdown",
   "id": "00724ad3",
   "metadata": {},
   "source": [
    " # Basics"
   ]
  },
  {
   "cell_type": "markdown",
   "id": "6f5064f4",
   "metadata": {},
   "source": [
    "To create the data in row "
   ]
  },
  {
   "cell_type": "code",
   "execution_count": null,
   "id": "c62e5b1b",
   "metadata": {},
   "outputs": [],
   "source": []
  },
  {
   "cell_type": "code",
   "execution_count": 12,
   "id": "80b6bf93",
   "metadata": {},
   "outputs": [],
   "source": [
    "dates = pd.date_range('30/4/2025', periods=8)"
   ]
  },
  {
   "cell_type": "code",
   "execution_count": 13,
   "id": "29f6923b",
   "metadata": {},
   "outputs": [
    {
     "data": {
      "text/plain": [
       "DatetimeIndex(['2025-04-30', '2025-05-01', '2025-05-02', '2025-05-03',\n",
       "               '2025-05-04', '2025-05-05', '2025-05-06', '2025-05-07'],\n",
       "              dtype='datetime64[ns]', freq='D')"
      ]
     },
     "execution_count": 13,
     "metadata": {},
     "output_type": "execute_result"
    }
   ],
   "source": [
    "dates"
   ]
  },
  {
   "cell_type": "code",
   "execution_count": 14,
   "id": "df5d3e5d",
   "metadata": {},
   "outputs": [],
   "source": [
    "df = pd.DataFrame(np.random.randn(8, 4),\n",
    "                  index=dates, columns=['A', 'B', 'C', 'D'])"
   ]
  },
  {
   "cell_type": "code",
   "execution_count": 15,
   "id": "20122596",
   "metadata": {},
   "outputs": [
    {
     "data": {
      "application/vnd.microsoft.datawrangler.viewer.v0+json": {
       "columns": [
        {
         "name": "index",
         "rawType": "datetime64[ns]",
         "type": "datetime"
        },
        {
         "name": "A",
         "rawType": "float64",
         "type": "float"
        },
        {
         "name": "B",
         "rawType": "float64",
         "type": "float"
        },
        {
         "name": "C",
         "rawType": "float64",
         "type": "float"
        },
        {
         "name": "D",
         "rawType": "float64",
         "type": "float"
        }
       ],
       "conversionMethod": "pd.DataFrame",
       "ref": "9d1cfa33-73b9-4237-9e1d-dd4650b3122e",
       "rows": [
        [
         "2025-04-30 00:00:00",
         "-0.19768905400340908",
         "-0.7995637229550489",
         "-0.1549036823425989",
         "-0.28979607451155026"
        ],
        [
         "2025-05-01 00:00:00",
         "-0.8268976884118391",
         "0.6421949170898307",
         "-0.8153801078864945",
         "0.9938006720206077"
        ],
        [
         "2025-05-02 00:00:00",
         "0.7263597806863976",
         "1.2805979741485103",
         "-0.0018190556512277614",
         "0.6532489593895643"
        ],
        [
         "2025-05-03 00:00:00",
         "-2.699077385486661",
         "-0.3076535818440048",
         "1.4332182652628283",
         "0.38263730147238045"
        ],
        [
         "2025-05-04 00:00:00",
         "0.6340041485324682",
         "-0.12170037974741088",
         "-0.8096021206619798",
         "1.0327247278809926"
        ],
        [
         "2025-05-05 00:00:00",
         "-0.7077940506938011",
         "-0.1656348153027786",
         "-0.6959889842248403",
         "1.397055426004953"
        ],
        [
         "2025-05-06 00:00:00",
         "0.06557256052831635",
         "-1.1393394811615487",
         "0.4257306114047139",
         "1.6639592530090812"
        ],
        [
         "2025-05-07 00:00:00",
         "1.1851156746272724",
         "-0.6837228088648413",
         "1.1101405973706013",
         "-0.8993563264152117"
        ]
       ],
       "shape": {
        "columns": 4,
        "rows": 8
       }
      },
      "text/html": [
       "<div>\n",
       "<style scoped>\n",
       "    .dataframe tbody tr th:only-of-type {\n",
       "        vertical-align: middle;\n",
       "    }\n",
       "\n",
       "    .dataframe tbody tr th {\n",
       "        vertical-align: top;\n",
       "    }\n",
       "\n",
       "    .dataframe thead th {\n",
       "        text-align: right;\n",
       "    }\n",
       "</style>\n",
       "<table border=\"1\" class=\"dataframe\">\n",
       "  <thead>\n",
       "    <tr style=\"text-align: right;\">\n",
       "      <th></th>\n",
       "      <th>A</th>\n",
       "      <th>B</th>\n",
       "      <th>C</th>\n",
       "      <th>D</th>\n",
       "    </tr>\n",
       "  </thead>\n",
       "  <tbody>\n",
       "    <tr>\n",
       "      <th>2025-04-30</th>\n",
       "      <td>-0.197689</td>\n",
       "      <td>-0.799564</td>\n",
       "      <td>-0.154904</td>\n",
       "      <td>-0.289796</td>\n",
       "    </tr>\n",
       "    <tr>\n",
       "      <th>2025-05-01</th>\n",
       "      <td>-0.826898</td>\n",
       "      <td>0.642195</td>\n",
       "      <td>-0.815380</td>\n",
       "      <td>0.993801</td>\n",
       "    </tr>\n",
       "    <tr>\n",
       "      <th>2025-05-02</th>\n",
       "      <td>0.726360</td>\n",
       "      <td>1.280598</td>\n",
       "      <td>-0.001819</td>\n",
       "      <td>0.653249</td>\n",
       "    </tr>\n",
       "    <tr>\n",
       "      <th>2025-05-03</th>\n",
       "      <td>-2.699077</td>\n",
       "      <td>-0.307654</td>\n",
       "      <td>1.433218</td>\n",
       "      <td>0.382637</td>\n",
       "    </tr>\n",
       "    <tr>\n",
       "      <th>2025-05-04</th>\n",
       "      <td>0.634004</td>\n",
       "      <td>-0.121700</td>\n",
       "      <td>-0.809602</td>\n",
       "      <td>1.032725</td>\n",
       "    </tr>\n",
       "    <tr>\n",
       "      <th>2025-05-05</th>\n",
       "      <td>-0.707794</td>\n",
       "      <td>-0.165635</td>\n",
       "      <td>-0.695989</td>\n",
       "      <td>1.397055</td>\n",
       "    </tr>\n",
       "    <tr>\n",
       "      <th>2025-05-06</th>\n",
       "      <td>0.065573</td>\n",
       "      <td>-1.139339</td>\n",
       "      <td>0.425731</td>\n",
       "      <td>1.663959</td>\n",
       "    </tr>\n",
       "    <tr>\n",
       "      <th>2025-05-07</th>\n",
       "      <td>1.185116</td>\n",
       "      <td>-0.683723</td>\n",
       "      <td>1.110141</td>\n",
       "      <td>-0.899356</td>\n",
       "    </tr>\n",
       "  </tbody>\n",
       "</table>\n",
       "</div>"
      ],
      "text/plain": [
       "                   A         B         C         D\n",
       "2025-04-30 -0.197689 -0.799564 -0.154904 -0.289796\n",
       "2025-05-01 -0.826898  0.642195 -0.815380  0.993801\n",
       "2025-05-02  0.726360  1.280598 -0.001819  0.653249\n",
       "2025-05-03 -2.699077 -0.307654  1.433218  0.382637\n",
       "2025-05-04  0.634004 -0.121700 -0.809602  1.032725\n",
       "2025-05-05 -0.707794 -0.165635 -0.695989  1.397055\n",
       "2025-05-06  0.065573 -1.139339  0.425731  1.663959\n",
       "2025-05-07  1.185116 -0.683723  1.110141 -0.899356"
      ]
     },
     "execution_count": 15,
     "metadata": {},
     "output_type": "execute_result"
    }
   ],
   "source": [
    "df"
   ]
  },
  {
   "cell_type": "code",
   "execution_count": 16,
   "id": "323595dc",
   "metadata": {},
   "outputs": [
    {
     "data": {
      "text/plain": [
       "2025-04-30   -0.197689\n",
       "2025-05-01   -0.826898\n",
       "2025-05-02    0.726360\n",
       "2025-05-03   -2.699077\n",
       "2025-05-04    0.634004\n",
       "2025-05-05   -0.707794\n",
       "2025-05-06    0.065573\n",
       "2025-05-07    1.185116\n",
       "Freq: D, Name: A, dtype: float64"
      ]
     },
     "execution_count": 16,
     "metadata": {},
     "output_type": "execute_result"
    }
   ],
   "source": [
    "s = df['A']\n",
    "s"
   ]
  },
  {
   "cell_type": "code",
   "execution_count": 17,
   "id": "4d921f38",
   "metadata": {},
   "outputs": [
    {
     "data": {
      "text/plain": [
       "np.float64(-0.7077940506938011)"
      ]
     },
     "execution_count": 17,
     "metadata": {},
     "output_type": "execute_result"
    }
   ],
   "source": [
    "s[dates[5]]"
   ]
  },
  {
   "cell_type": "code",
   "execution_count": 18,
   "id": "3aa03da0",
   "metadata": {},
   "outputs": [],
   "source": [
    "df[['B', 'A']] = df[['A', 'B']]"
   ]
  },
  {
   "cell_type": "code",
   "execution_count": 19,
   "id": "440190b4",
   "metadata": {},
   "outputs": [
    {
     "data": {
      "application/vnd.microsoft.datawrangler.viewer.v0+json": {
       "columns": [
        {
         "name": "index",
         "rawType": "datetime64[ns]",
         "type": "datetime"
        },
        {
         "name": "A",
         "rawType": "float64",
         "type": "float"
        },
        {
         "name": "B",
         "rawType": "float64",
         "type": "float"
        },
        {
         "name": "C",
         "rawType": "float64",
         "type": "float"
        },
        {
         "name": "D",
         "rawType": "float64",
         "type": "float"
        }
       ],
       "conversionMethod": "pd.DataFrame",
       "ref": "735c5ae1-db37-4c22-afa6-4eb0710394f1",
       "rows": [
        [
         "2025-04-30 00:00:00",
         "-0.7995637229550489",
         "-0.19768905400340908",
         "-0.1549036823425989",
         "-0.28979607451155026"
        ],
        [
         "2025-05-01 00:00:00",
         "0.6421949170898307",
         "-0.8268976884118391",
         "-0.8153801078864945",
         "0.9938006720206077"
        ],
        [
         "2025-05-02 00:00:00",
         "1.2805979741485103",
         "0.7263597806863976",
         "-0.0018190556512277614",
         "0.6532489593895643"
        ],
        [
         "2025-05-03 00:00:00",
         "-0.3076535818440048",
         "-2.699077385486661",
         "1.4332182652628283",
         "0.38263730147238045"
        ],
        [
         "2025-05-04 00:00:00",
         "-0.12170037974741088",
         "0.6340041485324682",
         "-0.8096021206619798",
         "1.0327247278809926"
        ],
        [
         "2025-05-05 00:00:00",
         "-0.1656348153027786",
         "-0.7077940506938011",
         "-0.6959889842248403",
         "1.397055426004953"
        ],
        [
         "2025-05-06 00:00:00",
         "-1.1393394811615487",
         "0.06557256052831635",
         "0.4257306114047139",
         "1.6639592530090812"
        ],
        [
         "2025-05-07 00:00:00",
         "-0.6837228088648413",
         "1.1851156746272724",
         "1.1101405973706013",
         "-0.8993563264152117"
        ]
       ],
       "shape": {
        "columns": 4,
        "rows": 8
       }
      },
      "text/html": [
       "<div>\n",
       "<style scoped>\n",
       "    .dataframe tbody tr th:only-of-type {\n",
       "        vertical-align: middle;\n",
       "    }\n",
       "\n",
       "    .dataframe tbody tr th {\n",
       "        vertical-align: top;\n",
       "    }\n",
       "\n",
       "    .dataframe thead th {\n",
       "        text-align: right;\n",
       "    }\n",
       "</style>\n",
       "<table border=\"1\" class=\"dataframe\">\n",
       "  <thead>\n",
       "    <tr style=\"text-align: right;\">\n",
       "      <th></th>\n",
       "      <th>A</th>\n",
       "      <th>B</th>\n",
       "      <th>C</th>\n",
       "      <th>D</th>\n",
       "    </tr>\n",
       "  </thead>\n",
       "  <tbody>\n",
       "    <tr>\n",
       "      <th>2025-04-30</th>\n",
       "      <td>-0.799564</td>\n",
       "      <td>-0.197689</td>\n",
       "      <td>-0.154904</td>\n",
       "      <td>-0.289796</td>\n",
       "    </tr>\n",
       "    <tr>\n",
       "      <th>2025-05-01</th>\n",
       "      <td>0.642195</td>\n",
       "      <td>-0.826898</td>\n",
       "      <td>-0.815380</td>\n",
       "      <td>0.993801</td>\n",
       "    </tr>\n",
       "    <tr>\n",
       "      <th>2025-05-02</th>\n",
       "      <td>1.280598</td>\n",
       "      <td>0.726360</td>\n",
       "      <td>-0.001819</td>\n",
       "      <td>0.653249</td>\n",
       "    </tr>\n",
       "    <tr>\n",
       "      <th>2025-05-03</th>\n",
       "      <td>-0.307654</td>\n",
       "      <td>-2.699077</td>\n",
       "      <td>1.433218</td>\n",
       "      <td>0.382637</td>\n",
       "    </tr>\n",
       "    <tr>\n",
       "      <th>2025-05-04</th>\n",
       "      <td>-0.121700</td>\n",
       "      <td>0.634004</td>\n",
       "      <td>-0.809602</td>\n",
       "      <td>1.032725</td>\n",
       "    </tr>\n",
       "    <tr>\n",
       "      <th>2025-05-05</th>\n",
       "      <td>-0.165635</td>\n",
       "      <td>-0.707794</td>\n",
       "      <td>-0.695989</td>\n",
       "      <td>1.397055</td>\n",
       "    </tr>\n",
       "    <tr>\n",
       "      <th>2025-05-06</th>\n",
       "      <td>-1.139339</td>\n",
       "      <td>0.065573</td>\n",
       "      <td>0.425731</td>\n",
       "      <td>1.663959</td>\n",
       "    </tr>\n",
       "    <tr>\n",
       "      <th>2025-05-07</th>\n",
       "      <td>-0.683723</td>\n",
       "      <td>1.185116</td>\n",
       "      <td>1.110141</td>\n",
       "      <td>-0.899356</td>\n",
       "    </tr>\n",
       "  </tbody>\n",
       "</table>\n",
       "</div>"
      ],
      "text/plain": [
       "                   A         B         C         D\n",
       "2025-04-30 -0.799564 -0.197689 -0.154904 -0.289796\n",
       "2025-05-01  0.642195 -0.826898 -0.815380  0.993801\n",
       "2025-05-02  1.280598  0.726360 -0.001819  0.653249\n",
       "2025-05-03 -0.307654 -2.699077  1.433218  0.382637\n",
       "2025-05-04 -0.121700  0.634004 -0.809602  1.032725\n",
       "2025-05-05 -0.165635 -0.707794 -0.695989  1.397055\n",
       "2025-05-06 -1.139339  0.065573  0.425731  1.663959\n",
       "2025-05-07 -0.683723  1.185116  1.110141 -0.899356"
      ]
     },
     "execution_count": 19,
     "metadata": {},
     "output_type": "execute_result"
    }
   ],
   "source": [
    "df"
   ]
  },
  {
   "cell_type": "code",
   "execution_count": 20,
   "id": "193be62b",
   "metadata": {},
   "outputs": [
    {
     "data": {
      "application/vnd.microsoft.datawrangler.viewer.v0+json": {
       "columns": [
        {
         "name": "index",
         "rawType": "datetime64[ns]",
         "type": "datetime"
        },
        {
         "name": "A",
         "rawType": "float64",
         "type": "float"
        },
        {
         "name": "B",
         "rawType": "float64",
         "type": "float"
        }
       ],
       "conversionMethod": "pd.DataFrame",
       "ref": "ca71a08e-9c49-42e1-986e-7f6fb6327f01",
       "rows": [
        [
         "2025-04-30 00:00:00",
         "-0.7995637229550489",
         "-0.19768905400340908"
        ],
        [
         "2025-05-01 00:00:00",
         "0.6421949170898307",
         "-0.8268976884118391"
        ],
        [
         "2025-05-02 00:00:00",
         "1.2805979741485103",
         "0.7263597806863976"
        ],
        [
         "2025-05-03 00:00:00",
         "-0.3076535818440048",
         "-2.699077385486661"
        ],
        [
         "2025-05-04 00:00:00",
         "-0.12170037974741088",
         "0.6340041485324682"
        ],
        [
         "2025-05-05 00:00:00",
         "-0.1656348153027786",
         "-0.7077940506938011"
        ],
        [
         "2025-05-06 00:00:00",
         "-1.1393394811615487",
         "0.06557256052831635"
        ],
        [
         "2025-05-07 00:00:00",
         "-0.6837228088648413",
         "1.1851156746272724"
        ]
       ],
       "shape": {
        "columns": 2,
        "rows": 8
       }
      },
      "text/html": [
       "<div>\n",
       "<style scoped>\n",
       "    .dataframe tbody tr th:only-of-type {\n",
       "        vertical-align: middle;\n",
       "    }\n",
       "\n",
       "    .dataframe tbody tr th {\n",
       "        vertical-align: top;\n",
       "    }\n",
       "\n",
       "    .dataframe thead th {\n",
       "        text-align: right;\n",
       "    }\n",
       "</style>\n",
       "<table border=\"1\" class=\"dataframe\">\n",
       "  <thead>\n",
       "    <tr style=\"text-align: right;\">\n",
       "      <th></th>\n",
       "      <th>A</th>\n",
       "      <th>B</th>\n",
       "    </tr>\n",
       "  </thead>\n",
       "  <tbody>\n",
       "    <tr>\n",
       "      <th>2025-04-30</th>\n",
       "      <td>-0.799564</td>\n",
       "      <td>-0.197689</td>\n",
       "    </tr>\n",
       "    <tr>\n",
       "      <th>2025-05-01</th>\n",
       "      <td>0.642195</td>\n",
       "      <td>-0.826898</td>\n",
       "    </tr>\n",
       "    <tr>\n",
       "      <th>2025-05-02</th>\n",
       "      <td>1.280598</td>\n",
       "      <td>0.726360</td>\n",
       "    </tr>\n",
       "    <tr>\n",
       "      <th>2025-05-03</th>\n",
       "      <td>-0.307654</td>\n",
       "      <td>-2.699077</td>\n",
       "    </tr>\n",
       "    <tr>\n",
       "      <th>2025-05-04</th>\n",
       "      <td>-0.121700</td>\n",
       "      <td>0.634004</td>\n",
       "    </tr>\n",
       "    <tr>\n",
       "      <th>2025-05-05</th>\n",
       "      <td>-0.165635</td>\n",
       "      <td>-0.707794</td>\n",
       "    </tr>\n",
       "    <tr>\n",
       "      <th>2025-05-06</th>\n",
       "      <td>-1.139339</td>\n",
       "      <td>0.065573</td>\n",
       "    </tr>\n",
       "    <tr>\n",
       "      <th>2025-05-07</th>\n",
       "      <td>-0.683723</td>\n",
       "      <td>1.185116</td>\n",
       "    </tr>\n",
       "  </tbody>\n",
       "</table>\n",
       "</div>"
      ],
      "text/plain": [
       "                   A         B\n",
       "2025-04-30 -0.799564 -0.197689\n",
       "2025-05-01  0.642195 -0.826898\n",
       "2025-05-02  1.280598  0.726360\n",
       "2025-05-03 -0.307654 -2.699077\n",
       "2025-05-04 -0.121700  0.634004\n",
       "2025-05-05 -0.165635 -0.707794\n",
       "2025-05-06 -1.139339  0.065573\n",
       "2025-05-07 -0.683723  1.185116"
      ]
     },
     "execution_count": 20,
     "metadata": {},
     "output_type": "execute_result"
    }
   ],
   "source": [
    "df[['A', 'B']]"
   ]
  },
  {
   "cell_type": "markdown",
   "id": "3041fb5b",
   "metadata": {},
   "source": [
    "To sort the index in dataframe "
   ]
  },
  {
   "cell_type": "code",
   "execution_count": 21,
   "id": "172ec08b",
   "metadata": {},
   "outputs": [
    {
     "data": {
      "application/vnd.microsoft.datawrangler.viewer.v0+json": {
       "columns": [
        {
         "name": "index",
         "rawType": "datetime64[ns]",
         "type": "datetime"
        },
        {
         "name": "A",
         "rawType": "float64",
         "type": "float"
        },
        {
         "name": "B",
         "rawType": "float64",
         "type": "float"
        },
        {
         "name": "C",
         "rawType": "float64",
         "type": "float"
        },
        {
         "name": "D",
         "rawType": "float64",
         "type": "float"
        }
       ],
       "conversionMethod": "pd.DataFrame",
       "ref": "7ae70e34-1bbc-46e9-b948-6de2d4ac0b14",
       "rows": [
        [
         "2025-04-30 00:00:00",
         "-0.7995637229550489",
         "-0.19768905400340908",
         "-0.1549036823425989",
         "-0.28979607451155026"
        ],
        [
         "2025-05-01 00:00:00",
         "0.6421949170898307",
         "-0.8268976884118391",
         "-0.8153801078864945",
         "0.9938006720206077"
        ],
        [
         "2025-05-02 00:00:00",
         "1.2805979741485103",
         "0.7263597806863976",
         "-0.0018190556512277614",
         "0.6532489593895643"
        ],
        [
         "2025-05-03 00:00:00",
         "-0.3076535818440048",
         "-2.699077385486661",
         "1.4332182652628283",
         "0.38263730147238045"
        ],
        [
         "2025-05-04 00:00:00",
         "-0.12170037974741088",
         "0.6340041485324682",
         "-0.8096021206619798",
         "1.0327247278809926"
        ],
        [
         "2025-05-05 00:00:00",
         "-0.1656348153027786",
         "-0.7077940506938011",
         "-0.6959889842248403",
         "1.397055426004953"
        ],
        [
         "2025-05-06 00:00:00",
         "-1.1393394811615487",
         "0.06557256052831635",
         "0.4257306114047139",
         "1.6639592530090812"
        ],
        [
         "2025-05-07 00:00:00",
         "-0.6837228088648413",
         "1.1851156746272724",
         "1.1101405973706013",
         "-0.8993563264152117"
        ]
       ],
       "shape": {
        "columns": 4,
        "rows": 8
       }
      },
      "text/html": [
       "<div>\n",
       "<style scoped>\n",
       "    .dataframe tbody tr th:only-of-type {\n",
       "        vertical-align: middle;\n",
       "    }\n",
       "\n",
       "    .dataframe tbody tr th {\n",
       "        vertical-align: top;\n",
       "    }\n",
       "\n",
       "    .dataframe thead th {\n",
       "        text-align: right;\n",
       "    }\n",
       "</style>\n",
       "<table border=\"1\" class=\"dataframe\">\n",
       "  <thead>\n",
       "    <tr style=\"text-align: right;\">\n",
       "      <th></th>\n",
       "      <th>A</th>\n",
       "      <th>B</th>\n",
       "      <th>C</th>\n",
       "      <th>D</th>\n",
       "    </tr>\n",
       "  </thead>\n",
       "  <tbody>\n",
       "    <tr>\n",
       "      <th>2025-04-30</th>\n",
       "      <td>-0.799564</td>\n",
       "      <td>-0.197689</td>\n",
       "      <td>-0.154904</td>\n",
       "      <td>-0.289796</td>\n",
       "    </tr>\n",
       "    <tr>\n",
       "      <th>2025-05-01</th>\n",
       "      <td>0.642195</td>\n",
       "      <td>-0.826898</td>\n",
       "      <td>-0.815380</td>\n",
       "      <td>0.993801</td>\n",
       "    </tr>\n",
       "    <tr>\n",
       "      <th>2025-05-02</th>\n",
       "      <td>1.280598</td>\n",
       "      <td>0.726360</td>\n",
       "      <td>-0.001819</td>\n",
       "      <td>0.653249</td>\n",
       "    </tr>\n",
       "    <tr>\n",
       "      <th>2025-05-03</th>\n",
       "      <td>-0.307654</td>\n",
       "      <td>-2.699077</td>\n",
       "      <td>1.433218</td>\n",
       "      <td>0.382637</td>\n",
       "    </tr>\n",
       "    <tr>\n",
       "      <th>2025-05-04</th>\n",
       "      <td>-0.121700</td>\n",
       "      <td>0.634004</td>\n",
       "      <td>-0.809602</td>\n",
       "      <td>1.032725</td>\n",
       "    </tr>\n",
       "    <tr>\n",
       "      <th>2025-05-05</th>\n",
       "      <td>-0.165635</td>\n",
       "      <td>-0.707794</td>\n",
       "      <td>-0.695989</td>\n",
       "      <td>1.397055</td>\n",
       "    </tr>\n",
       "    <tr>\n",
       "      <th>2025-05-06</th>\n",
       "      <td>-1.139339</td>\n",
       "      <td>0.065573</td>\n",
       "      <td>0.425731</td>\n",
       "      <td>1.663959</td>\n",
       "    </tr>\n",
       "    <tr>\n",
       "      <th>2025-05-07</th>\n",
       "      <td>-0.683723</td>\n",
       "      <td>1.185116</td>\n",
       "      <td>1.110141</td>\n",
       "      <td>-0.899356</td>\n",
       "    </tr>\n",
       "  </tbody>\n",
       "</table>\n",
       "</div>"
      ],
      "text/plain": [
       "                   A         B         C         D\n",
       "2025-04-30 -0.799564 -0.197689 -0.154904 -0.289796\n",
       "2025-05-01  0.642195 -0.826898 -0.815380  0.993801\n",
       "2025-05-02  1.280598  0.726360 -0.001819  0.653249\n",
       "2025-05-03 -0.307654 -2.699077  1.433218  0.382637\n",
       "2025-05-04 -0.121700  0.634004 -0.809602  1.032725\n",
       "2025-05-05 -0.165635 -0.707794 -0.695989  1.397055\n",
       "2025-05-06 -1.139339  0.065573  0.425731  1.663959\n",
       "2025-05-07 -0.683723  1.185116  1.110141 -0.899356"
      ]
     },
     "execution_count": 21,
     "metadata": {},
     "output_type": "execute_result"
    }
   ],
   "source": [
    "df.sort_index()"
   ]
  },
  {
   "cell_type": "markdown",
   "id": "bbbb6820",
   "metadata": {},
   "source": [
    "#  Boolean indexing"
   ]
  },
  {
   "cell_type": "code",
   "execution_count": 22,
   "id": "87c48b25",
   "metadata": {},
   "outputs": [],
   "source": [
    "s = pd.Series(range(-3, 4))"
   ]
  },
  {
   "cell_type": "code",
   "execution_count": 23,
   "id": "d1486755",
   "metadata": {},
   "outputs": [
    {
     "data": {
      "text/plain": [
       "0   -3\n",
       "1   -2\n",
       "2   -1\n",
       "3    0\n",
       "4    1\n",
       "5    2\n",
       "6    3\n",
       "dtype: int64"
      ]
     },
     "execution_count": 23,
     "metadata": {},
     "output_type": "execute_result"
    }
   ],
   "source": [
    "s"
   ]
  },
  {
   "cell_type": "code",
   "execution_count": 24,
   "id": "ce47cd46",
   "metadata": {},
   "outputs": [
    {
     "data": {
      "text/plain": [
       "4    1\n",
       "5    2\n",
       "6    3\n",
       "dtype: int64"
      ]
     },
     "execution_count": 24,
     "metadata": {},
     "output_type": "execute_result"
    }
   ],
   "source": [
    "s[s > 0]"
   ]
  },
  {
   "cell_type": "markdown",
   "id": "cdbbbebe",
   "metadata": {},
   "source": [
    "#  Indexing with isin"
   ]
  },
  {
   "cell_type": "code",
   "execution_count": 25,
   "id": "60717899",
   "metadata": {},
   "outputs": [],
   "source": [
    "s = pd.Series(np.arange(5), index=np.arange(5)[::-1], dtype='int64')"
   ]
  },
  {
   "cell_type": "code",
   "execution_count": 26,
   "id": "28ea7a0a",
   "metadata": {},
   "outputs": [
    {
     "data": {
      "text/plain": [
       "4    0\n",
       "3    1\n",
       "2    2\n",
       "1    3\n",
       "0    4\n",
       "dtype: int64"
      ]
     },
     "execution_count": 26,
     "metadata": {},
     "output_type": "execute_result"
    }
   ],
   "source": [
    "s"
   ]
  },
  {
   "cell_type": "code",
   "execution_count": 27,
   "id": "a5f11f70",
   "metadata": {},
   "outputs": [
    {
     "data": {
      "text/plain": [
       "4    False\n",
       "3    False\n",
       "2     True\n",
       "1    False\n",
       "0     True\n",
       "dtype: bool"
      ]
     },
     "execution_count": 27,
     "metadata": {},
     "output_type": "execute_result"
    }
   ],
   "source": [
    "s.isin([2, 4, 6])"
   ]
  },
  {
   "cell_type": "markdown",
   "id": "f7efd4d2",
   "metadata": {},
   "source": [
    "#  The where() Method and Masking"
   ]
  },
  {
   "cell_type": "code",
   "execution_count": 28,
   "id": "6d1ef570",
   "metadata": {},
   "outputs": [
    {
     "data": {
      "text/plain": [
       "3    1\n",
       "2    2\n",
       "1    3\n",
       "0    4\n",
       "dtype: int64"
      ]
     },
     "execution_count": 28,
     "metadata": {},
     "output_type": "execute_result"
    }
   ],
   "source": [
    "s[s > 0]"
   ]
  },
  {
   "cell_type": "code",
   "execution_count": 29,
   "id": "cabc3595",
   "metadata": {},
   "outputs": [
    {
     "data": {
      "text/plain": [
       "4    NaN\n",
       "3    1.0\n",
       "2    2.0\n",
       "1    3.0\n",
       "0    4.0\n",
       "dtype: float64"
      ]
     },
     "execution_count": 29,
     "metadata": {},
     "output_type": "execute_result"
    }
   ],
   "source": [
    "s.where(s>0)"
   ]
  },
  {
   "cell_type": "markdown",
   "id": "a9f982b8",
   "metadata": {},
   "source": [
    "#   Duplicate data"
   ]
  },
  {
   "cell_type": "code",
   "execution_count": 30,
   "id": "dc180d13",
   "metadata": {},
   "outputs": [],
   "source": [
    "df2 = pd.DataFrame({'a': ['one', 'one', 'two', 'two', 'two', 'three', 'four'],\n",
    "                    'b': ['x', 'y', 'x', 'y', 'x', 'x', 'x'],\n",
    "                    'c': np.random.randn(7)})"
   ]
  },
  {
   "cell_type": "code",
   "execution_count": 31,
   "id": "4aa643fb",
   "metadata": {},
   "outputs": [
    {
     "data": {
      "application/vnd.microsoft.datawrangler.viewer.v0+json": {
       "columns": [
        {
         "name": "index",
         "rawType": "int64",
         "type": "integer"
        },
        {
         "name": "a",
         "rawType": "object",
         "type": "string"
        },
        {
         "name": "b",
         "rawType": "object",
         "type": "string"
        },
        {
         "name": "c",
         "rawType": "float64",
         "type": "float"
        }
       ],
       "conversionMethod": "pd.DataFrame",
       "ref": "b20db187-b090-407a-bed6-67d6c3234e02",
       "rows": [
        [
         "0",
         "one",
         "x",
         "-2.1521846091759063"
        ],
        [
         "1",
         "one",
         "y",
         "-0.708241275351592"
        ],
        [
         "2",
         "two",
         "x",
         "-0.06349378674196363"
        ],
        [
         "3",
         "two",
         "y",
         "-0.9200256551479429"
        ],
        [
         "4",
         "two",
         "x",
         "0.7957467211120296"
        ],
        [
         "5",
         "three",
         "x",
         "1.7918909491478383"
        ],
        [
         "6",
         "four",
         "x",
         "-1.3788828744857724"
        ]
       ],
       "shape": {
        "columns": 3,
        "rows": 7
       }
      },
      "text/html": [
       "<div>\n",
       "<style scoped>\n",
       "    .dataframe tbody tr th:only-of-type {\n",
       "        vertical-align: middle;\n",
       "    }\n",
       "\n",
       "    .dataframe tbody tr th {\n",
       "        vertical-align: top;\n",
       "    }\n",
       "\n",
       "    .dataframe thead th {\n",
       "        text-align: right;\n",
       "    }\n",
       "</style>\n",
       "<table border=\"1\" class=\"dataframe\">\n",
       "  <thead>\n",
       "    <tr style=\"text-align: right;\">\n",
       "      <th></th>\n",
       "      <th>a</th>\n",
       "      <th>b</th>\n",
       "      <th>c</th>\n",
       "    </tr>\n",
       "  </thead>\n",
       "  <tbody>\n",
       "    <tr>\n",
       "      <th>0</th>\n",
       "      <td>one</td>\n",
       "      <td>x</td>\n",
       "      <td>-2.152185</td>\n",
       "    </tr>\n",
       "    <tr>\n",
       "      <th>1</th>\n",
       "      <td>one</td>\n",
       "      <td>y</td>\n",
       "      <td>-0.708241</td>\n",
       "    </tr>\n",
       "    <tr>\n",
       "      <th>2</th>\n",
       "      <td>two</td>\n",
       "      <td>x</td>\n",
       "      <td>-0.063494</td>\n",
       "    </tr>\n",
       "    <tr>\n",
       "      <th>3</th>\n",
       "      <td>two</td>\n",
       "      <td>y</td>\n",
       "      <td>-0.920026</td>\n",
       "    </tr>\n",
       "    <tr>\n",
       "      <th>4</th>\n",
       "      <td>two</td>\n",
       "      <td>x</td>\n",
       "      <td>0.795747</td>\n",
       "    </tr>\n",
       "    <tr>\n",
       "      <th>5</th>\n",
       "      <td>three</td>\n",
       "      <td>x</td>\n",
       "      <td>1.791891</td>\n",
       "    </tr>\n",
       "    <tr>\n",
       "      <th>6</th>\n",
       "      <td>four</td>\n",
       "      <td>x</td>\n",
       "      <td>-1.378883</td>\n",
       "    </tr>\n",
       "  </tbody>\n",
       "</table>\n",
       "</div>"
      ],
      "text/plain": [
       "       a  b         c\n",
       "0    one  x -2.152185\n",
       "1    one  y -0.708241\n",
       "2    two  x -0.063494\n",
       "3    two  y -0.920026\n",
       "4    two  x  0.795747\n",
       "5  three  x  1.791891\n",
       "6   four  x -1.378883"
      ]
     },
     "execution_count": 31,
     "metadata": {},
     "output_type": "execute_result"
    }
   ],
   "source": [
    "df2"
   ]
  },
  {
   "cell_type": "code",
   "execution_count": 32,
   "id": "3f3ae06b",
   "metadata": {},
   "outputs": [
    {
     "data": {
      "text/plain": [
       "0    False\n",
       "1     True\n",
       "2    False\n",
       "3     True\n",
       "4     True\n",
       "5    False\n",
       "6    False\n",
       "dtype: bool"
      ]
     },
     "execution_count": 32,
     "metadata": {},
     "output_type": "execute_result"
    }
   ],
   "source": [
    "df2.duplicated('a')"
   ]
  },
  {
   "cell_type": "markdown",
   "id": "a6ef7cc8",
   "metadata": {},
   "source": [
    "duplicated returns a boolean vector whose length is the number of rows, and which indicates whether a row is duplicated."
   ]
  },
  {
   "cell_type": "markdown",
   "id": "4563d336",
   "metadata": {},
   "source": [
    "By default, the first observed row of a duplicate set is considered unique, but each method has a keep parameter to specify targets to be kept.\n",
    "\n",
    "keep='first' (default): mark / drop duplicates except for the first occurrence.\n",
    "\n",
    "keep='last': mark / drop duplicates except for the last occurrence.\n",
    "\n",
    "keep=False: mark / drop all duplicates."
   ]
  },
  {
   "cell_type": "code",
   "execution_count": 33,
   "id": "da1493ab",
   "metadata": {},
   "outputs": [
    {
     "data": {
      "text/plain": [
       "0     True\n",
       "1    False\n",
       "2     True\n",
       "3     True\n",
       "4    False\n",
       "5    False\n",
       "6    False\n",
       "dtype: bool"
      ]
     },
     "execution_count": 33,
     "metadata": {},
     "output_type": "execute_result"
    }
   ],
   "source": [
    "df2.duplicated('a', keep='last')"
   ]
  },
  {
   "cell_type": "code",
   "execution_count": 34,
   "id": "ea1a1cd1",
   "metadata": {},
   "outputs": [
    {
     "data": {
      "text/plain": [
       "0     True\n",
       "1     True\n",
       "2     True\n",
       "3     True\n",
       "4     True\n",
       "5    False\n",
       "6    False\n",
       "dtype: bool"
      ]
     },
     "execution_count": 34,
     "metadata": {},
     "output_type": "execute_result"
    }
   ],
   "source": [
    "df2.duplicated('a', keep=False)"
   ]
  },
  {
   "cell_type": "markdown",
   "id": "86ed1a40",
   "metadata": {},
   "source": [
    "To drop duplicate the values "
   ]
  },
  {
   "cell_type": "code",
   "execution_count": 35,
   "id": "70ec4c7f",
   "metadata": {},
   "outputs": [
    {
     "data": {
      "application/vnd.microsoft.datawrangler.viewer.v0+json": {
       "columns": [
        {
         "name": "index",
         "rawType": "int64",
         "type": "integer"
        },
        {
         "name": "a",
         "rawType": "object",
         "type": "string"
        },
        {
         "name": "b",
         "rawType": "object",
         "type": "string"
        },
        {
         "name": "c",
         "rawType": "float64",
         "type": "float"
        }
       ],
       "conversionMethod": "pd.DataFrame",
       "ref": "c360096c-acd0-4f3d-aa32-08fb1d4a0aa5",
       "rows": [
        [
         "0",
         "one",
         "x",
         "-2.1521846091759063"
        ],
        [
         "2",
         "two",
         "x",
         "-0.06349378674196363"
        ],
        [
         "5",
         "three",
         "x",
         "1.7918909491478383"
        ],
        [
         "6",
         "four",
         "x",
         "-1.3788828744857724"
        ]
       ],
       "shape": {
        "columns": 3,
        "rows": 4
       }
      },
      "text/html": [
       "<div>\n",
       "<style scoped>\n",
       "    .dataframe tbody tr th:only-of-type {\n",
       "        vertical-align: middle;\n",
       "    }\n",
       "\n",
       "    .dataframe tbody tr th {\n",
       "        vertical-align: top;\n",
       "    }\n",
       "\n",
       "    .dataframe thead th {\n",
       "        text-align: right;\n",
       "    }\n",
       "</style>\n",
       "<table border=\"1\" class=\"dataframe\">\n",
       "  <thead>\n",
       "    <tr style=\"text-align: right;\">\n",
       "      <th></th>\n",
       "      <th>a</th>\n",
       "      <th>b</th>\n",
       "      <th>c</th>\n",
       "    </tr>\n",
       "  </thead>\n",
       "  <tbody>\n",
       "    <tr>\n",
       "      <th>0</th>\n",
       "      <td>one</td>\n",
       "      <td>x</td>\n",
       "      <td>-2.152185</td>\n",
       "    </tr>\n",
       "    <tr>\n",
       "      <th>2</th>\n",
       "      <td>two</td>\n",
       "      <td>x</td>\n",
       "      <td>-0.063494</td>\n",
       "    </tr>\n",
       "    <tr>\n",
       "      <th>5</th>\n",
       "      <td>three</td>\n",
       "      <td>x</td>\n",
       "      <td>1.791891</td>\n",
       "    </tr>\n",
       "    <tr>\n",
       "      <th>6</th>\n",
       "      <td>four</td>\n",
       "      <td>x</td>\n",
       "      <td>-1.378883</td>\n",
       "    </tr>\n",
       "  </tbody>\n",
       "</table>\n",
       "</div>"
      ],
      "text/plain": [
       "       a  b         c\n",
       "0    one  x -2.152185\n",
       "2    two  x -0.063494\n",
       "5  three  x  1.791891\n",
       "6   four  x -1.378883"
      ]
     },
     "execution_count": 35,
     "metadata": {},
     "output_type": "execute_result"
    }
   ],
   "source": [
    "df2.drop_duplicates('a')"
   ]
  },
  {
   "cell_type": "markdown",
   "id": "9f85bf8c",
   "metadata": {},
   "source": [
    "#  Dictionary-like get() method"
   ]
  },
  {
   "cell_type": "code",
   "execution_count": 36,
   "id": "6d789230",
   "metadata": {},
   "outputs": [],
   "source": [
    "s = pd.Series([1, 2, 3], index=['a', 'b', 'c'])"
   ]
  },
  {
   "cell_type": "code",
   "execution_count": 37,
   "id": "5f158fbd",
   "metadata": {},
   "outputs": [
    {
     "data": {
      "text/plain": [
       "np.int64(1)"
      ]
     },
     "execution_count": 37,
     "metadata": {},
     "output_type": "execute_result"
    }
   ],
   "source": [
    "s.get('a')"
   ]
  },
  {
   "cell_type": "markdown",
   "id": "36abe1e4",
   "metadata": {},
   "source": [
    "#  Merge, join, concatenate and compare"
   ]
  },
  {
   "cell_type": "markdown",
   "id": "0c2a61dc",
   "metadata": {},
   "source": [
    "concat()"
   ]
  },
  {
   "cell_type": "code",
   "execution_count": 38,
   "id": "22b57c20",
   "metadata": {},
   "outputs": [],
   "source": [
    "df1 = pd.DataFrame(\n",
    "    {\n",
    "        \"A\": [\"A0\", \"A1\", \"A2\", \"A3\"],\n",
    "        \"B\": [\"B0\", \"B1\", \"B2\", \"B3\"],\n",
    "        \"C\": [\"C0\", \"C1\", \"C2\", \"C3\"],\n",
    "        \"D\": [\"D0\", \"D1\", \"D2\", \"D3\"],\n",
    "    },\n",
    "    index=[0, 1, 2, 3],\n",
    ")"
   ]
  },
  {
   "cell_type": "code",
   "execution_count": 39,
   "id": "7045ca5d",
   "metadata": {},
   "outputs": [],
   "source": [
    "df2 = pd.DataFrame(\n",
    "    {\n",
    "        \"A\": [\"A4\", \"A5\", \"A6\", \"A7\"],\n",
    "        \"B\": [\"B4\", \"B5\", \"B6\", \"B7\"],\n",
    "        \"C\": [\"C4\", \"C5\", \"C6\", \"C7\"],\n",
    "        \"D\": [\"D4\", \"D5\", \"D6\", \"D7\"],\n",
    "    },\n",
    "    index=[4, 5, 6, 7],\n",
    ")"
   ]
  },
  {
   "cell_type": "code",
   "execution_count": 40,
   "id": "f68fa8f5",
   "metadata": {},
   "outputs": [],
   "source": [
    "\n",
    "df3 = pd.DataFrame(\n",
    "    {\n",
    "        \"A\": [\"A8\", \"A9\", \"A10\", \"A11\"],\n",
    "        \"B\": [\"B8\", \"B9\", \"B10\", \"B11\"],\n",
    "        \"C\": [\"C8\", \"C9\", \"C10\", \"C11\"],\n",
    "        \"D\": [\"D8\", \"D9\", \"D10\", \"D11\"],\n",
    "    },\n",
    "    index=[8, 9, 10, 11],\n",
    ")\n"
   ]
  },
  {
   "cell_type": "code",
   "execution_count": 41,
   "id": "e6c1b1b9",
   "metadata": {},
   "outputs": [
    {
     "data": {
      "text/plain": [
       "[    A   B   C   D\n",
       " 0  A0  B0  C0  D0\n",
       " 1  A1  B1  C1  D1\n",
       " 2  A2  B2  C2  D2\n",
       " 3  A3  B3  C3  D3,\n",
       "     A   B   C   D\n",
       " 4  A4  B4  C4  D4\n",
       " 5  A5  B5  C5  D5\n",
       " 6  A6  B6  C6  D6\n",
       " 7  A7  B7  C7  D7,\n",
       "       A    B    C    D\n",
       " 8    A8   B8   C8   D8\n",
       " 9    A9   B9   C9   D9\n",
       " 10  A10  B10  C10  D10\n",
       " 11  A11  B11  C11  D11]"
      ]
     },
     "execution_count": 41,
     "metadata": {},
     "output_type": "execute_result"
    }
   ],
   "source": [
    "frames = [df1, df2, df3]\n",
    "frames"
   ]
  },
  {
   "cell_type": "code",
   "execution_count": 42,
   "id": "e937bfca",
   "metadata": {},
   "outputs": [],
   "source": [
    "result = pd.concat(frames)"
   ]
  },
  {
   "cell_type": "code",
   "execution_count": 43,
   "id": "f54a9f6b",
   "metadata": {},
   "outputs": [
    {
     "data": {
      "application/vnd.microsoft.datawrangler.viewer.v0+json": {
       "columns": [
        {
         "name": "index",
         "rawType": "int64",
         "type": "integer"
        },
        {
         "name": "A",
         "rawType": "object",
         "type": "string"
        },
        {
         "name": "B",
         "rawType": "object",
         "type": "string"
        },
        {
         "name": "C",
         "rawType": "object",
         "type": "string"
        },
        {
         "name": "D",
         "rawType": "object",
         "type": "string"
        }
       ],
       "conversionMethod": "pd.DataFrame",
       "ref": "8bc2c881-6b0e-43c8-a60b-b3a40ccaaea8",
       "rows": [
        [
         "0",
         "A0",
         "B0",
         "C0",
         "D0"
        ],
        [
         "1",
         "A1",
         "B1",
         "C1",
         "D1"
        ],
        [
         "2",
         "A2",
         "B2",
         "C2",
         "D2"
        ],
        [
         "3",
         "A3",
         "B3",
         "C3",
         "D3"
        ],
        [
         "4",
         "A4",
         "B4",
         "C4",
         "D4"
        ],
        [
         "5",
         "A5",
         "B5",
         "C5",
         "D5"
        ],
        [
         "6",
         "A6",
         "B6",
         "C6",
         "D6"
        ],
        [
         "7",
         "A7",
         "B7",
         "C7",
         "D7"
        ],
        [
         "8",
         "A8",
         "B8",
         "C8",
         "D8"
        ],
        [
         "9",
         "A9",
         "B9",
         "C9",
         "D9"
        ],
        [
         "10",
         "A10",
         "B10",
         "C10",
         "D10"
        ],
        [
         "11",
         "A11",
         "B11",
         "C11",
         "D11"
        ]
       ],
       "shape": {
        "columns": 4,
        "rows": 12
       }
      },
      "text/html": [
       "<div>\n",
       "<style scoped>\n",
       "    .dataframe tbody tr th:only-of-type {\n",
       "        vertical-align: middle;\n",
       "    }\n",
       "\n",
       "    .dataframe tbody tr th {\n",
       "        vertical-align: top;\n",
       "    }\n",
       "\n",
       "    .dataframe thead th {\n",
       "        text-align: right;\n",
       "    }\n",
       "</style>\n",
       "<table border=\"1\" class=\"dataframe\">\n",
       "  <thead>\n",
       "    <tr style=\"text-align: right;\">\n",
       "      <th></th>\n",
       "      <th>A</th>\n",
       "      <th>B</th>\n",
       "      <th>C</th>\n",
       "      <th>D</th>\n",
       "    </tr>\n",
       "  </thead>\n",
       "  <tbody>\n",
       "    <tr>\n",
       "      <th>0</th>\n",
       "      <td>A0</td>\n",
       "      <td>B0</td>\n",
       "      <td>C0</td>\n",
       "      <td>D0</td>\n",
       "    </tr>\n",
       "    <tr>\n",
       "      <th>1</th>\n",
       "      <td>A1</td>\n",
       "      <td>B1</td>\n",
       "      <td>C1</td>\n",
       "      <td>D1</td>\n",
       "    </tr>\n",
       "    <tr>\n",
       "      <th>2</th>\n",
       "      <td>A2</td>\n",
       "      <td>B2</td>\n",
       "      <td>C2</td>\n",
       "      <td>D2</td>\n",
       "    </tr>\n",
       "    <tr>\n",
       "      <th>3</th>\n",
       "      <td>A3</td>\n",
       "      <td>B3</td>\n",
       "      <td>C3</td>\n",
       "      <td>D3</td>\n",
       "    </tr>\n",
       "    <tr>\n",
       "      <th>4</th>\n",
       "      <td>A4</td>\n",
       "      <td>B4</td>\n",
       "      <td>C4</td>\n",
       "      <td>D4</td>\n",
       "    </tr>\n",
       "    <tr>\n",
       "      <th>5</th>\n",
       "      <td>A5</td>\n",
       "      <td>B5</td>\n",
       "      <td>C5</td>\n",
       "      <td>D5</td>\n",
       "    </tr>\n",
       "    <tr>\n",
       "      <th>6</th>\n",
       "      <td>A6</td>\n",
       "      <td>B6</td>\n",
       "      <td>C6</td>\n",
       "      <td>D6</td>\n",
       "    </tr>\n",
       "    <tr>\n",
       "      <th>7</th>\n",
       "      <td>A7</td>\n",
       "      <td>B7</td>\n",
       "      <td>C7</td>\n",
       "      <td>D7</td>\n",
       "    </tr>\n",
       "    <tr>\n",
       "      <th>8</th>\n",
       "      <td>A8</td>\n",
       "      <td>B8</td>\n",
       "      <td>C8</td>\n",
       "      <td>D8</td>\n",
       "    </tr>\n",
       "    <tr>\n",
       "      <th>9</th>\n",
       "      <td>A9</td>\n",
       "      <td>B9</td>\n",
       "      <td>C9</td>\n",
       "      <td>D9</td>\n",
       "    </tr>\n",
       "    <tr>\n",
       "      <th>10</th>\n",
       "      <td>A10</td>\n",
       "      <td>B10</td>\n",
       "      <td>C10</td>\n",
       "      <td>D10</td>\n",
       "    </tr>\n",
       "    <tr>\n",
       "      <th>11</th>\n",
       "      <td>A11</td>\n",
       "      <td>B11</td>\n",
       "      <td>C11</td>\n",
       "      <td>D11</td>\n",
       "    </tr>\n",
       "  </tbody>\n",
       "</table>\n",
       "</div>"
      ],
      "text/plain": [
       "      A    B    C    D\n",
       "0    A0   B0   C0   D0\n",
       "1    A1   B1   C1   D1\n",
       "2    A2   B2   C2   D2\n",
       "3    A3   B3   C3   D3\n",
       "4    A4   B4   C4   D4\n",
       "5    A5   B5   C5   D5\n",
       "6    A6   B6   C6   D6\n",
       "7    A7   B7   C7   D7\n",
       "8    A8   B8   C8   D8\n",
       "9    A9   B9   C9   D9\n",
       "10  A10  B10  C10  D10\n",
       "11  A11  B11  C11  D11"
      ]
     },
     "execution_count": 43,
     "metadata": {},
     "output_type": "execute_result"
    }
   ],
   "source": [
    "result"
   ]
  },
  {
   "cell_type": "markdown",
   "id": "a14de55b",
   "metadata": {},
   "source": [
    "#  Joining logic of the resulting axis"
   ]
  },
  {
   "cell_type": "markdown",
   "id": "67f20d10",
   "metadata": {},
   "source": [
    "The join keyword specifies how to handle axis values that don’t exist in the first DataFrame.\n",
    "\n",
    "join='outer' takes the union of all axis values\n",
    "\n"
   ]
  },
  {
   "cell_type": "code",
   "execution_count": 45,
   "id": "75b5e6a0",
   "metadata": {},
   "outputs": [
    {
     "data": {
      "application/vnd.microsoft.datawrangler.viewer.v0+json": {
       "columns": [
        {
         "name": "index",
         "rawType": "int64",
         "type": "integer"
        },
        {
         "name": "B",
         "rawType": "object",
         "type": "string"
        },
        {
         "name": "D",
         "rawType": "object",
         "type": "string"
        },
        {
         "name": "F",
         "rawType": "object",
         "type": "string"
        }
       ],
       "conversionMethod": "pd.DataFrame",
       "ref": "fb174fbf-c4ce-4619-9adf-7d2ef2fd2560",
       "rows": [
        [
         "2",
         "B2",
         "D2",
         "F2"
        ],
        [
         "3",
         "B3",
         "D3",
         "F3"
        ],
        [
         "6",
         "B6",
         "D6",
         "F6"
        ],
        [
         "7",
         "B7",
         "D7",
         "F7"
        ]
       ],
       "shape": {
        "columns": 3,
        "rows": 4
       }
      },
      "text/html": [
       "<div>\n",
       "<style scoped>\n",
       "    .dataframe tbody tr th:only-of-type {\n",
       "        vertical-align: middle;\n",
       "    }\n",
       "\n",
       "    .dataframe tbody tr th {\n",
       "        vertical-align: top;\n",
       "    }\n",
       "\n",
       "    .dataframe thead th {\n",
       "        text-align: right;\n",
       "    }\n",
       "</style>\n",
       "<table border=\"1\" class=\"dataframe\">\n",
       "  <thead>\n",
       "    <tr style=\"text-align: right;\">\n",
       "      <th></th>\n",
       "      <th>B</th>\n",
       "      <th>D</th>\n",
       "      <th>F</th>\n",
       "    </tr>\n",
       "  </thead>\n",
       "  <tbody>\n",
       "    <tr>\n",
       "      <th>2</th>\n",
       "      <td>B2</td>\n",
       "      <td>D2</td>\n",
       "      <td>F2</td>\n",
       "    </tr>\n",
       "    <tr>\n",
       "      <th>3</th>\n",
       "      <td>B3</td>\n",
       "      <td>D3</td>\n",
       "      <td>F3</td>\n",
       "    </tr>\n",
       "    <tr>\n",
       "      <th>6</th>\n",
       "      <td>B6</td>\n",
       "      <td>D6</td>\n",
       "      <td>F6</td>\n",
       "    </tr>\n",
       "    <tr>\n",
       "      <th>7</th>\n",
       "      <td>B7</td>\n",
       "      <td>D7</td>\n",
       "      <td>F7</td>\n",
       "    </tr>\n",
       "  </tbody>\n",
       "</table>\n",
       "</div>"
      ],
      "text/plain": [
       "    B   D   F\n",
       "2  B2  D2  F2\n",
       "3  B3  D3  F3\n",
       "6  B6  D6  F6\n",
       "7  B7  D7  F7"
      ]
     },
     "execution_count": 45,
     "metadata": {},
     "output_type": "execute_result"
    }
   ],
   "source": [
    "df4 = pd.DataFrame(\n",
    "    {\n",
    "        \"B\": [\"B2\", \"B3\", \"B6\", \"B7\"],\n",
    "        \"D\": [\"D2\", \"D3\", \"D6\", \"D7\"],\n",
    "        \"F\": [\"F2\", \"F3\", \"F6\", \"F7\"],\n",
    "    },\n",
    "    index=[2, 3, 6, 7],\n",
    ")\n",
    "df4"
   ]
  },
  {
   "cell_type": "code",
   "execution_count": 46,
   "id": "844ae843",
   "metadata": {},
   "outputs": [
    {
     "data": {
      "application/vnd.microsoft.datawrangler.viewer.v0+json": {
       "columns": [
        {
         "name": "index",
         "rawType": "int64",
         "type": "integer"
        },
        {
         "name": "A",
         "rawType": "object",
         "type": "string"
        },
        {
         "name": "B",
         "rawType": "object",
         "type": "string"
        },
        {
         "name": "C",
         "rawType": "object",
         "type": "string"
        },
        {
         "name": "D",
         "rawType": "object",
         "type": "string"
        }
       ],
       "conversionMethod": "pd.DataFrame",
       "ref": "76daa326-4355-4148-a051-8bf395bdb525",
       "rows": [
        [
         "0",
         "A0",
         "B0",
         "C0",
         "D0"
        ],
        [
         "1",
         "A1",
         "B1",
         "C1",
         "D1"
        ],
        [
         "2",
         "A2",
         "B2",
         "C2",
         "D2"
        ],
        [
         "3",
         "A3",
         "B3",
         "C3",
         "D3"
        ]
       ],
       "shape": {
        "columns": 4,
        "rows": 4
       }
      },
      "text/html": [
       "<div>\n",
       "<style scoped>\n",
       "    .dataframe tbody tr th:only-of-type {\n",
       "        vertical-align: middle;\n",
       "    }\n",
       "\n",
       "    .dataframe tbody tr th {\n",
       "        vertical-align: top;\n",
       "    }\n",
       "\n",
       "    .dataframe thead th {\n",
       "        text-align: right;\n",
       "    }\n",
       "</style>\n",
       "<table border=\"1\" class=\"dataframe\">\n",
       "  <thead>\n",
       "    <tr style=\"text-align: right;\">\n",
       "      <th></th>\n",
       "      <th>A</th>\n",
       "      <th>B</th>\n",
       "      <th>C</th>\n",
       "      <th>D</th>\n",
       "    </tr>\n",
       "  </thead>\n",
       "  <tbody>\n",
       "    <tr>\n",
       "      <th>0</th>\n",
       "      <td>A0</td>\n",
       "      <td>B0</td>\n",
       "      <td>C0</td>\n",
       "      <td>D0</td>\n",
       "    </tr>\n",
       "    <tr>\n",
       "      <th>1</th>\n",
       "      <td>A1</td>\n",
       "      <td>B1</td>\n",
       "      <td>C1</td>\n",
       "      <td>D1</td>\n",
       "    </tr>\n",
       "    <tr>\n",
       "      <th>2</th>\n",
       "      <td>A2</td>\n",
       "      <td>B2</td>\n",
       "      <td>C2</td>\n",
       "      <td>D2</td>\n",
       "    </tr>\n",
       "    <tr>\n",
       "      <th>3</th>\n",
       "      <td>A3</td>\n",
       "      <td>B3</td>\n",
       "      <td>C3</td>\n",
       "      <td>D3</td>\n",
       "    </tr>\n",
       "  </tbody>\n",
       "</table>\n",
       "</div>"
      ],
      "text/plain": [
       "    A   B   C   D\n",
       "0  A0  B0  C0  D0\n",
       "1  A1  B1  C1  D1\n",
       "2  A2  B2  C2  D2\n",
       "3  A3  B3  C3  D3"
      ]
     },
     "execution_count": 46,
     "metadata": {},
     "output_type": "execute_result"
    }
   ],
   "source": [
    "df1"
   ]
  },
  {
   "cell_type": "code",
   "execution_count": 47,
   "id": "e5b4acf4",
   "metadata": {},
   "outputs": [],
   "source": [
    "result = pd.concat([df1,df4],axis = 1 )"
   ]
  },
  {
   "cell_type": "code",
   "execution_count": 48,
   "id": "260d4e83",
   "metadata": {},
   "outputs": [
    {
     "data": {
      "application/vnd.microsoft.datawrangler.viewer.v0+json": {
       "columns": [
        {
         "name": "index",
         "rawType": "int64",
         "type": "integer"
        },
        {
         "name": "A",
         "rawType": "object",
         "type": "unknown"
        },
        {
         "name": "B",
         "rawType": "object",
         "type": "unknown"
        },
        {
         "name": "C",
         "rawType": "object",
         "type": "unknown"
        },
        {
         "name": "D",
         "rawType": "object",
         "type": "unknown"
        },
        {
         "name": "B",
         "rawType": "object",
         "type": "unknown"
        },
        {
         "name": "D",
         "rawType": "object",
         "type": "unknown"
        },
        {
         "name": "F",
         "rawType": "object",
         "type": "unknown"
        }
       ],
       "conversionMethod": "pd.DataFrame",
       "ref": "d096a383-d4a0-4744-847c-20cde9a652e2",
       "rows": [
        [
         "0",
         "A0",
         "B0",
         "C0",
         "D0",
         null,
         null,
         null
        ],
        [
         "1",
         "A1",
         "B1",
         "C1",
         "D1",
         null,
         null,
         null
        ],
        [
         "2",
         "A2",
         "B2",
         "C2",
         "D2",
         "B2",
         "D2",
         "F2"
        ],
        [
         "3",
         "A3",
         "B3",
         "C3",
         "D3",
         "B3",
         "D3",
         "F3"
        ],
        [
         "6",
         null,
         null,
         null,
         null,
         "B6",
         "D6",
         "F6"
        ],
        [
         "7",
         null,
         null,
         null,
         null,
         "B7",
         "D7",
         "F7"
        ]
       ],
       "shape": {
        "columns": 7,
        "rows": 6
       }
      },
      "text/html": [
       "<div>\n",
       "<style scoped>\n",
       "    .dataframe tbody tr th:only-of-type {\n",
       "        vertical-align: middle;\n",
       "    }\n",
       "\n",
       "    .dataframe tbody tr th {\n",
       "        vertical-align: top;\n",
       "    }\n",
       "\n",
       "    .dataframe thead th {\n",
       "        text-align: right;\n",
       "    }\n",
       "</style>\n",
       "<table border=\"1\" class=\"dataframe\">\n",
       "  <thead>\n",
       "    <tr style=\"text-align: right;\">\n",
       "      <th></th>\n",
       "      <th>A</th>\n",
       "      <th>B</th>\n",
       "      <th>C</th>\n",
       "      <th>D</th>\n",
       "      <th>B</th>\n",
       "      <th>D</th>\n",
       "      <th>F</th>\n",
       "    </tr>\n",
       "  </thead>\n",
       "  <tbody>\n",
       "    <tr>\n",
       "      <th>0</th>\n",
       "      <td>A0</td>\n",
       "      <td>B0</td>\n",
       "      <td>C0</td>\n",
       "      <td>D0</td>\n",
       "      <td>NaN</td>\n",
       "      <td>NaN</td>\n",
       "      <td>NaN</td>\n",
       "    </tr>\n",
       "    <tr>\n",
       "      <th>1</th>\n",
       "      <td>A1</td>\n",
       "      <td>B1</td>\n",
       "      <td>C1</td>\n",
       "      <td>D1</td>\n",
       "      <td>NaN</td>\n",
       "      <td>NaN</td>\n",
       "      <td>NaN</td>\n",
       "    </tr>\n",
       "    <tr>\n",
       "      <th>2</th>\n",
       "      <td>A2</td>\n",
       "      <td>B2</td>\n",
       "      <td>C2</td>\n",
       "      <td>D2</td>\n",
       "      <td>B2</td>\n",
       "      <td>D2</td>\n",
       "      <td>F2</td>\n",
       "    </tr>\n",
       "    <tr>\n",
       "      <th>3</th>\n",
       "      <td>A3</td>\n",
       "      <td>B3</td>\n",
       "      <td>C3</td>\n",
       "      <td>D3</td>\n",
       "      <td>B3</td>\n",
       "      <td>D3</td>\n",
       "      <td>F3</td>\n",
       "    </tr>\n",
       "    <tr>\n",
       "      <th>6</th>\n",
       "      <td>NaN</td>\n",
       "      <td>NaN</td>\n",
       "      <td>NaN</td>\n",
       "      <td>NaN</td>\n",
       "      <td>B6</td>\n",
       "      <td>D6</td>\n",
       "      <td>F6</td>\n",
       "    </tr>\n",
       "    <tr>\n",
       "      <th>7</th>\n",
       "      <td>NaN</td>\n",
       "      <td>NaN</td>\n",
       "      <td>NaN</td>\n",
       "      <td>NaN</td>\n",
       "      <td>B7</td>\n",
       "      <td>D7</td>\n",
       "      <td>F7</td>\n",
       "    </tr>\n",
       "  </tbody>\n",
       "</table>\n",
       "</div>"
      ],
      "text/plain": [
       "     A    B    C    D    B    D    F\n",
       "0   A0   B0   C0   D0  NaN  NaN  NaN\n",
       "1   A1   B1   C1   D1  NaN  NaN  NaN\n",
       "2   A2   B2   C2   D2   B2   D2   F2\n",
       "3   A3   B3   C3   D3   B3   D3   F3\n",
       "6  NaN  NaN  NaN  NaN   B6   D6   F6\n",
       "7  NaN  NaN  NaN  NaN   B7   D7   F7"
      ]
     },
     "execution_count": 48,
     "metadata": {},
     "output_type": "execute_result"
    }
   ],
   "source": [
    "result"
   ]
  },
  {
   "cell_type": "markdown",
   "id": "9d7db7af",
   "metadata": {},
   "source": [
    "join='inner' takes the intersection of the axis values"
   ]
  },
  {
   "cell_type": "code",
   "execution_count": 51,
   "id": "12518d24",
   "metadata": {},
   "outputs": [
    {
     "data": {
      "application/vnd.microsoft.datawrangler.viewer.v0+json": {
       "columns": [
        {
         "name": "index",
         "rawType": "int64",
         "type": "integer"
        },
        {
         "name": "A",
         "rawType": "object",
         "type": "string"
        },
        {
         "name": "B",
         "rawType": "object",
         "type": "string"
        },
        {
         "name": "C",
         "rawType": "object",
         "type": "string"
        },
        {
         "name": "D",
         "rawType": "object",
         "type": "string"
        },
        {
         "name": "B",
         "rawType": "object",
         "type": "string"
        },
        {
         "name": "D",
         "rawType": "object",
         "type": "string"
        },
        {
         "name": "F",
         "rawType": "object",
         "type": "string"
        }
       ],
       "conversionMethod": "pd.DataFrame",
       "ref": "a9b50e33-029b-4428-a053-4fc26224c244",
       "rows": [
        [
         "2",
         "A2",
         "B2",
         "C2",
         "D2",
         "B2",
         "D2",
         "F2"
        ],
        [
         "3",
         "A3",
         "B3",
         "C3",
         "D3",
         "B3",
         "D3",
         "F3"
        ]
       ],
       "shape": {
        "columns": 7,
        "rows": 2
       }
      },
      "text/html": [
       "<div>\n",
       "<style scoped>\n",
       "    .dataframe tbody tr th:only-of-type {\n",
       "        vertical-align: middle;\n",
       "    }\n",
       "\n",
       "    .dataframe tbody tr th {\n",
       "        vertical-align: top;\n",
       "    }\n",
       "\n",
       "    .dataframe thead th {\n",
       "        text-align: right;\n",
       "    }\n",
       "</style>\n",
       "<table border=\"1\" class=\"dataframe\">\n",
       "  <thead>\n",
       "    <tr style=\"text-align: right;\">\n",
       "      <th></th>\n",
       "      <th>A</th>\n",
       "      <th>B</th>\n",
       "      <th>C</th>\n",
       "      <th>D</th>\n",
       "      <th>B</th>\n",
       "      <th>D</th>\n",
       "      <th>F</th>\n",
       "    </tr>\n",
       "  </thead>\n",
       "  <tbody>\n",
       "    <tr>\n",
       "      <th>2</th>\n",
       "      <td>A2</td>\n",
       "      <td>B2</td>\n",
       "      <td>C2</td>\n",
       "      <td>D2</td>\n",
       "      <td>B2</td>\n",
       "      <td>D2</td>\n",
       "      <td>F2</td>\n",
       "    </tr>\n",
       "    <tr>\n",
       "      <th>3</th>\n",
       "      <td>A3</td>\n",
       "      <td>B3</td>\n",
       "      <td>C3</td>\n",
       "      <td>D3</td>\n",
       "      <td>B3</td>\n",
       "      <td>D3</td>\n",
       "      <td>F3</td>\n",
       "    </tr>\n",
       "  </tbody>\n",
       "</table>\n",
       "</div>"
      ],
      "text/plain": [
       "    A   B   C   D   B   D   F\n",
       "2  A2  B2  C2  D2  B2  D2  F2\n",
       "3  A3  B3  C3  D3  B3  D3  F3"
      ]
     },
     "execution_count": 51,
     "metadata": {},
     "output_type": "execute_result"
    }
   ],
   "source": [
    "result = pd.concat([df1,df4],axis = 1 , join='inner')\n",
    "result"
   ]
  },
  {
   "cell_type": "markdown",
   "id": "1c32e5f6",
   "metadata": {},
   "source": [
    "To perform an effective “left” join using the exact index from the original DataFrame, result can be reindexed"
   ]
  },
  {
   "cell_type": "code",
   "execution_count": 54,
   "id": "8f3989f2",
   "metadata": {},
   "outputs": [
    {
     "data": {
      "application/vnd.microsoft.datawrangler.viewer.v0+json": {
       "columns": [
        {
         "name": "index",
         "rawType": "int64",
         "type": "integer"
        },
        {
         "name": "A",
         "rawType": "object",
         "type": "string"
        },
        {
         "name": "B",
         "rawType": "object",
         "type": "string"
        },
        {
         "name": "C",
         "rawType": "object",
         "type": "string"
        },
        {
         "name": "D",
         "rawType": "object",
         "type": "string"
        },
        {
         "name": "B",
         "rawType": "object",
         "type": "unknown"
        },
        {
         "name": "D",
         "rawType": "object",
         "type": "unknown"
        },
        {
         "name": "F",
         "rawType": "object",
         "type": "unknown"
        }
       ],
       "conversionMethod": "pd.DataFrame",
       "ref": "7b4a8c77-6bf2-4d1e-b78a-751f31df0383",
       "rows": [
        [
         "0",
         "A0",
         "B0",
         "C0",
         "D0",
         null,
         null,
         null
        ],
        [
         "1",
         "A1",
         "B1",
         "C1",
         "D1",
         null,
         null,
         null
        ],
        [
         "2",
         "A2",
         "B2",
         "C2",
         "D2",
         "B2",
         "D2",
         "F2"
        ],
        [
         "3",
         "A3",
         "B3",
         "C3",
         "D3",
         "B3",
         "D3",
         "F3"
        ]
       ],
       "shape": {
        "columns": 7,
        "rows": 4
       }
      },
      "text/html": [
       "<div>\n",
       "<style scoped>\n",
       "    .dataframe tbody tr th:only-of-type {\n",
       "        vertical-align: middle;\n",
       "    }\n",
       "\n",
       "    .dataframe tbody tr th {\n",
       "        vertical-align: top;\n",
       "    }\n",
       "\n",
       "    .dataframe thead th {\n",
       "        text-align: right;\n",
       "    }\n",
       "</style>\n",
       "<table border=\"1\" class=\"dataframe\">\n",
       "  <thead>\n",
       "    <tr style=\"text-align: right;\">\n",
       "      <th></th>\n",
       "      <th>A</th>\n",
       "      <th>B</th>\n",
       "      <th>C</th>\n",
       "      <th>D</th>\n",
       "      <th>B</th>\n",
       "      <th>D</th>\n",
       "      <th>F</th>\n",
       "    </tr>\n",
       "  </thead>\n",
       "  <tbody>\n",
       "    <tr>\n",
       "      <th>0</th>\n",
       "      <td>A0</td>\n",
       "      <td>B0</td>\n",
       "      <td>C0</td>\n",
       "      <td>D0</td>\n",
       "      <td>NaN</td>\n",
       "      <td>NaN</td>\n",
       "      <td>NaN</td>\n",
       "    </tr>\n",
       "    <tr>\n",
       "      <th>1</th>\n",
       "      <td>A1</td>\n",
       "      <td>B1</td>\n",
       "      <td>C1</td>\n",
       "      <td>D1</td>\n",
       "      <td>NaN</td>\n",
       "      <td>NaN</td>\n",
       "      <td>NaN</td>\n",
       "    </tr>\n",
       "    <tr>\n",
       "      <th>2</th>\n",
       "      <td>A2</td>\n",
       "      <td>B2</td>\n",
       "      <td>C2</td>\n",
       "      <td>D2</td>\n",
       "      <td>B2</td>\n",
       "      <td>D2</td>\n",
       "      <td>F2</td>\n",
       "    </tr>\n",
       "    <tr>\n",
       "      <th>3</th>\n",
       "      <td>A3</td>\n",
       "      <td>B3</td>\n",
       "      <td>C3</td>\n",
       "      <td>D3</td>\n",
       "      <td>B3</td>\n",
       "      <td>D3</td>\n",
       "      <td>F3</td>\n",
       "    </tr>\n",
       "  </tbody>\n",
       "</table>\n",
       "</div>"
      ],
      "text/plain": [
       "    A   B   C   D    B    D    F\n",
       "0  A0  B0  C0  D0  NaN  NaN  NaN\n",
       "1  A1  B1  C1  D1  NaN  NaN  NaN\n",
       "2  A2  B2  C2  D2   B2   D2   F2\n",
       "3  A3  B3  C3  D3   B3   D3   F3"
      ]
     },
     "execution_count": 54,
     "metadata": {},
     "output_type": "execute_result"
    }
   ],
   "source": [
    "result1 = pd.concat([df1,df4],axis = 1).reindex(df1.index)\n",
    "result1"
   ]
  },
  {
   "cell_type": "code",
   "execution_count": 58,
   "id": "f40abcfe",
   "metadata": {},
   "outputs": [
    {
     "data": {
      "application/vnd.microsoft.datawrangler.viewer.v0+json": {
       "columns": [
        {
         "name": "index",
         "rawType": "int64",
         "type": "integer"
        },
        {
         "name": "A",
         "rawType": "object",
         "type": "unknown"
        },
        {
         "name": "B",
         "rawType": "object",
         "type": "unknown"
        },
        {
         "name": "C",
         "rawType": "object",
         "type": "unknown"
        },
        {
         "name": "D",
         "rawType": "object",
         "type": "unknown"
        },
        {
         "name": "B",
         "rawType": "object",
         "type": "string"
        },
        {
         "name": "D",
         "rawType": "object",
         "type": "string"
        },
        {
         "name": "F",
         "rawType": "object",
         "type": "string"
        }
       ],
       "conversionMethod": "pd.DataFrame",
       "ref": "c886c336-3d5f-4e82-8192-b4dc6f4e71b0",
       "rows": [
        [
         "2",
         "A2",
         "B2",
         "C2",
         "D2",
         "B2",
         "D2",
         "F2"
        ],
        [
         "3",
         "A3",
         "B3",
         "C3",
         "D3",
         "B3",
         "D3",
         "F3"
        ],
        [
         "6",
         null,
         null,
         null,
         null,
         "B6",
         "D6",
         "F6"
        ],
        [
         "7",
         null,
         null,
         null,
         null,
         "B7",
         "D7",
         "F7"
        ]
       ],
       "shape": {
        "columns": 7,
        "rows": 4
       }
      },
      "text/html": [
       "<div>\n",
       "<style scoped>\n",
       "    .dataframe tbody tr th:only-of-type {\n",
       "        vertical-align: middle;\n",
       "    }\n",
       "\n",
       "    .dataframe tbody tr th {\n",
       "        vertical-align: top;\n",
       "    }\n",
       "\n",
       "    .dataframe thead th {\n",
       "        text-align: right;\n",
       "    }\n",
       "</style>\n",
       "<table border=\"1\" class=\"dataframe\">\n",
       "  <thead>\n",
       "    <tr style=\"text-align: right;\">\n",
       "      <th></th>\n",
       "      <th>A</th>\n",
       "      <th>B</th>\n",
       "      <th>C</th>\n",
       "      <th>D</th>\n",
       "      <th>B</th>\n",
       "      <th>D</th>\n",
       "      <th>F</th>\n",
       "    </tr>\n",
       "  </thead>\n",
       "  <tbody>\n",
       "    <tr>\n",
       "      <th>2</th>\n",
       "      <td>A2</td>\n",
       "      <td>B2</td>\n",
       "      <td>C2</td>\n",
       "      <td>D2</td>\n",
       "      <td>B2</td>\n",
       "      <td>D2</td>\n",
       "      <td>F2</td>\n",
       "    </tr>\n",
       "    <tr>\n",
       "      <th>3</th>\n",
       "      <td>A3</td>\n",
       "      <td>B3</td>\n",
       "      <td>C3</td>\n",
       "      <td>D3</td>\n",
       "      <td>B3</td>\n",
       "      <td>D3</td>\n",
       "      <td>F3</td>\n",
       "    </tr>\n",
       "    <tr>\n",
       "      <th>6</th>\n",
       "      <td>NaN</td>\n",
       "      <td>NaN</td>\n",
       "      <td>NaN</td>\n",
       "      <td>NaN</td>\n",
       "      <td>B6</td>\n",
       "      <td>D6</td>\n",
       "      <td>F6</td>\n",
       "    </tr>\n",
       "    <tr>\n",
       "      <th>7</th>\n",
       "      <td>NaN</td>\n",
       "      <td>NaN</td>\n",
       "      <td>NaN</td>\n",
       "      <td>NaN</td>\n",
       "      <td>B7</td>\n",
       "      <td>D7</td>\n",
       "      <td>F7</td>\n",
       "    </tr>\n",
       "  </tbody>\n",
       "</table>\n",
       "</div>"
      ],
      "text/plain": [
       "     A    B    C    D   B   D   F\n",
       "2   A2   B2   C2   D2  B2  D2  F2\n",
       "3   A3   B3   C3   D3  B3  D3  F3\n",
       "6  NaN  NaN  NaN  NaN  B6  D6  F6\n",
       "7  NaN  NaN  NaN  NaN  B7  D7  F7"
      ]
     },
     "execution_count": 58,
     "metadata": {},
     "output_type": "execute_result"
    }
   ],
   "source": [
    "result3 = pd.concat([df1,df4],axis = 1).reindex(df4.index)\n",
    "result3"
   ]
  },
  {
   "cell_type": "markdown",
   "id": "497befb6",
   "metadata": {},
   "source": [
    "#  Ignoring indexes on the concatenation axis"
   ]
  },
  {
   "cell_type": "markdown",
   "id": "64f3bc7f",
   "metadata": {},
   "source": [
    "For DataFrame objects which don’t have a meaningful index, the ignore_index ignores overlapping indexes.\n",
    "\n"
   ]
  },
  {
   "cell_type": "code",
   "execution_count": 63,
   "id": "6d252dbc",
   "metadata": {},
   "outputs": [
    {
     "data": {
      "application/vnd.microsoft.datawrangler.viewer.v0+json": {
       "columns": [
        {
         "name": "index",
         "rawType": "int64",
         "type": "integer"
        },
        {
         "name": "A",
         "rawType": "object",
         "type": "unknown"
        },
        {
         "name": "B",
         "rawType": "object",
         "type": "string"
        },
        {
         "name": "C",
         "rawType": "object",
         "type": "unknown"
        },
        {
         "name": "D",
         "rawType": "object",
         "type": "string"
        },
        {
         "name": "F",
         "rawType": "object",
         "type": "unknown"
        }
       ],
       "conversionMethod": "pd.DataFrame",
       "ref": "8d2de43a-89c9-417a-b018-b9341bd8b9b1",
       "rows": [
        [
         "0",
         "A0",
         "B0",
         "C0",
         "D0",
         null
        ],
        [
         "1",
         "A1",
         "B1",
         "C1",
         "D1",
         null
        ],
        [
         "2",
         "A2",
         "B2",
         "C2",
         "D2",
         null
        ],
        [
         "3",
         "A3",
         "B3",
         "C3",
         "D3",
         null
        ],
        [
         "4",
         null,
         "B2",
         null,
         "D2",
         "F2"
        ],
        [
         "5",
         null,
         "B3",
         null,
         "D3",
         "F3"
        ],
        [
         "6",
         null,
         "B6",
         null,
         "D6",
         "F6"
        ],
        [
         "7",
         null,
         "B7",
         null,
         "D7",
         "F7"
        ]
       ],
       "shape": {
        "columns": 5,
        "rows": 8
       }
      },
      "text/html": [
       "<div>\n",
       "<style scoped>\n",
       "    .dataframe tbody tr th:only-of-type {\n",
       "        vertical-align: middle;\n",
       "    }\n",
       "\n",
       "    .dataframe tbody tr th {\n",
       "        vertical-align: top;\n",
       "    }\n",
       "\n",
       "    .dataframe thead th {\n",
       "        text-align: right;\n",
       "    }\n",
       "</style>\n",
       "<table border=\"1\" class=\"dataframe\">\n",
       "  <thead>\n",
       "    <tr style=\"text-align: right;\">\n",
       "      <th></th>\n",
       "      <th>A</th>\n",
       "      <th>B</th>\n",
       "      <th>C</th>\n",
       "      <th>D</th>\n",
       "      <th>F</th>\n",
       "    </tr>\n",
       "  </thead>\n",
       "  <tbody>\n",
       "    <tr>\n",
       "      <th>0</th>\n",
       "      <td>A0</td>\n",
       "      <td>B0</td>\n",
       "      <td>C0</td>\n",
       "      <td>D0</td>\n",
       "      <td>NaN</td>\n",
       "    </tr>\n",
       "    <tr>\n",
       "      <th>1</th>\n",
       "      <td>A1</td>\n",
       "      <td>B1</td>\n",
       "      <td>C1</td>\n",
       "      <td>D1</td>\n",
       "      <td>NaN</td>\n",
       "    </tr>\n",
       "    <tr>\n",
       "      <th>2</th>\n",
       "      <td>A2</td>\n",
       "      <td>B2</td>\n",
       "      <td>C2</td>\n",
       "      <td>D2</td>\n",
       "      <td>NaN</td>\n",
       "    </tr>\n",
       "    <tr>\n",
       "      <th>3</th>\n",
       "      <td>A3</td>\n",
       "      <td>B3</td>\n",
       "      <td>C3</td>\n",
       "      <td>D3</td>\n",
       "      <td>NaN</td>\n",
       "    </tr>\n",
       "    <tr>\n",
       "      <th>4</th>\n",
       "      <td>NaN</td>\n",
       "      <td>B2</td>\n",
       "      <td>NaN</td>\n",
       "      <td>D2</td>\n",
       "      <td>F2</td>\n",
       "    </tr>\n",
       "    <tr>\n",
       "      <th>5</th>\n",
       "      <td>NaN</td>\n",
       "      <td>B3</td>\n",
       "      <td>NaN</td>\n",
       "      <td>D3</td>\n",
       "      <td>F3</td>\n",
       "    </tr>\n",
       "    <tr>\n",
       "      <th>6</th>\n",
       "      <td>NaN</td>\n",
       "      <td>B6</td>\n",
       "      <td>NaN</td>\n",
       "      <td>D6</td>\n",
       "      <td>F6</td>\n",
       "    </tr>\n",
       "    <tr>\n",
       "      <th>7</th>\n",
       "      <td>NaN</td>\n",
       "      <td>B7</td>\n",
       "      <td>NaN</td>\n",
       "      <td>D7</td>\n",
       "      <td>F7</td>\n",
       "    </tr>\n",
       "  </tbody>\n",
       "</table>\n",
       "</div>"
      ],
      "text/plain": [
       "     A   B    C   D    F\n",
       "0   A0  B0   C0  D0  NaN\n",
       "1   A1  B1   C1  D1  NaN\n",
       "2   A2  B2   C2  D2  NaN\n",
       "3   A3  B3   C3  D3  NaN\n",
       "4  NaN  B2  NaN  D2   F2\n",
       "5  NaN  B3  NaN  D3   F3\n",
       "6  NaN  B6  NaN  D6   F6\n",
       "7  NaN  B7  NaN  D7   F7"
      ]
     },
     "execution_count": 63,
     "metadata": {},
     "output_type": "execute_result"
    }
   ],
   "source": [
    "rs = pd.concat([df1,df4],ignore_index=True , sort = False)\n",
    "rs"
   ]
  },
  {
   "cell_type": "markdown",
   "id": "00157ed4",
   "metadata": {},
   "source": [
    "#  Concatenating Series and DataFrame together"
   ]
  },
  {
   "cell_type": "code",
   "execution_count": 65,
   "id": "b54c4169",
   "metadata": {},
   "outputs": [
    {
     "data": {
      "text/plain": [
       "0    A\n",
       "1    B\n",
       "2    C\n",
       "3    D\n",
       "Name: X, dtype: object"
      ]
     },
     "execution_count": 65,
     "metadata": {},
     "output_type": "execute_result"
    }
   ],
   "source": [
    "series = pd.Series(['A','B','C','D'] , name = \"X\")\n",
    "series"
   ]
  },
  {
   "cell_type": "code",
   "execution_count": 67,
   "id": "fa9f52b8",
   "metadata": {},
   "outputs": [
    {
     "data": {
      "application/vnd.microsoft.datawrangler.viewer.v0+json": {
       "columns": [
        {
         "name": "index",
         "rawType": "int64",
         "type": "integer"
        },
        {
         "name": "A",
         "rawType": "object",
         "type": "string"
        },
        {
         "name": "B",
         "rawType": "object",
         "type": "string"
        },
        {
         "name": "C",
         "rawType": "object",
         "type": "string"
        },
        {
         "name": "D",
         "rawType": "object",
         "type": "string"
        },
        {
         "name": "X",
         "rawType": "object",
         "type": "string"
        }
       ],
       "conversionMethod": "pd.DataFrame",
       "ref": "816e2a6f-4b78-4e42-9c93-7b870654d4fe",
       "rows": [
        [
         "0",
         "A0",
         "B0",
         "C0",
         "D0",
         "A"
        ],
        [
         "1",
         "A1",
         "B1",
         "C1",
         "D1",
         "B"
        ],
        [
         "2",
         "A2",
         "B2",
         "C2",
         "D2",
         "C"
        ],
        [
         "3",
         "A3",
         "B3",
         "C3",
         "D3",
         "D"
        ]
       ],
       "shape": {
        "columns": 5,
        "rows": 4
       }
      },
      "text/html": [
       "<div>\n",
       "<style scoped>\n",
       "    .dataframe tbody tr th:only-of-type {\n",
       "        vertical-align: middle;\n",
       "    }\n",
       "\n",
       "    .dataframe tbody tr th {\n",
       "        vertical-align: top;\n",
       "    }\n",
       "\n",
       "    .dataframe thead th {\n",
       "        text-align: right;\n",
       "    }\n",
       "</style>\n",
       "<table border=\"1\" class=\"dataframe\">\n",
       "  <thead>\n",
       "    <tr style=\"text-align: right;\">\n",
       "      <th></th>\n",
       "      <th>A</th>\n",
       "      <th>B</th>\n",
       "      <th>C</th>\n",
       "      <th>D</th>\n",
       "      <th>X</th>\n",
       "    </tr>\n",
       "  </thead>\n",
       "  <tbody>\n",
       "    <tr>\n",
       "      <th>0</th>\n",
       "      <td>A0</td>\n",
       "      <td>B0</td>\n",
       "      <td>C0</td>\n",
       "      <td>D0</td>\n",
       "      <td>A</td>\n",
       "    </tr>\n",
       "    <tr>\n",
       "      <th>1</th>\n",
       "      <td>A1</td>\n",
       "      <td>B1</td>\n",
       "      <td>C1</td>\n",
       "      <td>D1</td>\n",
       "      <td>B</td>\n",
       "    </tr>\n",
       "    <tr>\n",
       "      <th>2</th>\n",
       "      <td>A2</td>\n",
       "      <td>B2</td>\n",
       "      <td>C2</td>\n",
       "      <td>D2</td>\n",
       "      <td>C</td>\n",
       "    </tr>\n",
       "    <tr>\n",
       "      <th>3</th>\n",
       "      <td>A3</td>\n",
       "      <td>B3</td>\n",
       "      <td>C3</td>\n",
       "      <td>D3</td>\n",
       "      <td>D</td>\n",
       "    </tr>\n",
       "  </tbody>\n",
       "</table>\n",
       "</div>"
      ],
      "text/plain": [
       "    A   B   C   D  X\n",
       "0  A0  B0  C0  D0  A\n",
       "1  A1  B1  C1  D1  B\n",
       "2  A2  B2  C2  D2  C\n",
       "3  A3  B3  C3  D3  D"
      ]
     },
     "execution_count": 67,
     "metadata": {},
     "output_type": "execute_result"
    }
   ],
   "source": [
    "concat_series = pd.concat([df1,series] , axis = 1)\n",
    "concat_series"
   ]
  },
  {
   "cell_type": "markdown",
   "id": "71c75f5e",
   "metadata": {},
   "source": [
    "#  merge()"
   ]
  },
  {
   "cell_type": "markdown",
   "id": "bd658687",
   "metadata": {},
   "source": [
    "merge() performs join operations similar to relational databases like SQL.\n",
    " \n",
    "# Merge types\n",
    "merge() implements common SQL style joining operations.\n",
    "\n",
    "one-to-one: joining two DataFrame objects on their indexes which must contain unique values.\n",
    "\n",
    "many-to-one: joining a unique index to one or more columns in a different DataFrame.\n",
    "\n",
    "many-to-many : joining columns on columns."
   ]
  },
  {
   "cell_type": "code",
   "execution_count": 69,
   "id": "c153b3bf",
   "metadata": {},
   "outputs": [
    {
     "data": {
      "application/vnd.microsoft.datawrangler.viewer.v0+json": {
       "columns": [
        {
         "name": "index",
         "rawType": "int64",
         "type": "integer"
        },
        {
         "name": "key",
         "rawType": "object",
         "type": "string"
        },
        {
         "name": "A",
         "rawType": "object",
         "type": "string"
        },
        {
         "name": "B",
         "rawType": "object",
         "type": "string"
        }
       ],
       "conversionMethod": "pd.DataFrame",
       "ref": "2066134f-868a-43a8-bdf6-e65811574971",
       "rows": [
        [
         "0",
         "K0",
         "A0",
         "B0"
        ],
        [
         "1",
         "K1",
         "A1",
         "B1"
        ],
        [
         "2",
         "K2",
         "A2",
         "B2"
        ],
        [
         "3",
         "K3",
         "A3",
         "B3"
        ]
       ],
       "shape": {
        "columns": 3,
        "rows": 4
       }
      },
      "text/html": [
       "<div>\n",
       "<style scoped>\n",
       "    .dataframe tbody tr th:only-of-type {\n",
       "        vertical-align: middle;\n",
       "    }\n",
       "\n",
       "    .dataframe tbody tr th {\n",
       "        vertical-align: top;\n",
       "    }\n",
       "\n",
       "    .dataframe thead th {\n",
       "        text-align: right;\n",
       "    }\n",
       "</style>\n",
       "<table border=\"1\" class=\"dataframe\">\n",
       "  <thead>\n",
       "    <tr style=\"text-align: right;\">\n",
       "      <th></th>\n",
       "      <th>key</th>\n",
       "      <th>A</th>\n",
       "      <th>B</th>\n",
       "    </tr>\n",
       "  </thead>\n",
       "  <tbody>\n",
       "    <tr>\n",
       "      <th>0</th>\n",
       "      <td>K0</td>\n",
       "      <td>A0</td>\n",
       "      <td>B0</td>\n",
       "    </tr>\n",
       "    <tr>\n",
       "      <th>1</th>\n",
       "      <td>K1</td>\n",
       "      <td>A1</td>\n",
       "      <td>B1</td>\n",
       "    </tr>\n",
       "    <tr>\n",
       "      <th>2</th>\n",
       "      <td>K2</td>\n",
       "      <td>A2</td>\n",
       "      <td>B2</td>\n",
       "    </tr>\n",
       "    <tr>\n",
       "      <th>3</th>\n",
       "      <td>K3</td>\n",
       "      <td>A3</td>\n",
       "      <td>B3</td>\n",
       "    </tr>\n",
       "  </tbody>\n",
       "</table>\n",
       "</div>"
      ],
      "text/plain": [
       "  key   A   B\n",
       "0  K0  A0  B0\n",
       "1  K1  A1  B1\n",
       "2  K2  A2  B2\n",
       "3  K3  A3  B3"
      ]
     },
     "execution_count": 69,
     "metadata": {},
     "output_type": "execute_result"
    }
   ],
   "source": [
    "left = pd.DataFrame(\n",
    "    {\n",
    "        \"key\": [\"K0\", \"K1\", \"K2\", \"K3\"],\n",
    "        \"A\": [\"A0\", \"A1\", \"A2\", \"A3\"],\n",
    "        \"B\": [\"B0\", \"B1\", \"B2\", \"B3\"],\n",
    "    }\n",
    ")\n",
    "left"
   ]
  },
  {
   "cell_type": "code",
   "execution_count": 70,
   "id": "e9cd3f13",
   "metadata": {},
   "outputs": [
    {
     "data": {
      "application/vnd.microsoft.datawrangler.viewer.v0+json": {
       "columns": [
        {
         "name": "index",
         "rawType": "int64",
         "type": "integer"
        },
        {
         "name": "key",
         "rawType": "object",
         "type": "string"
        },
        {
         "name": "C",
         "rawType": "object",
         "type": "string"
        },
        {
         "name": "D",
         "rawType": "object",
         "type": "string"
        }
       ],
       "conversionMethod": "pd.DataFrame",
       "ref": "25c71696-cad5-4e23-a1fd-b5fd2ea8ac9c",
       "rows": [
        [
         "0",
         "K0",
         "C0",
         "D0"
        ],
        [
         "1",
         "K1",
         "C1",
         "D1"
        ],
        [
         "2",
         "K2",
         "C2",
         "D2"
        ],
        [
         "3",
         "K3",
         "C3",
         "D3"
        ]
       ],
       "shape": {
        "columns": 3,
        "rows": 4
       }
      },
      "text/html": [
       "<div>\n",
       "<style scoped>\n",
       "    .dataframe tbody tr th:only-of-type {\n",
       "        vertical-align: middle;\n",
       "    }\n",
       "\n",
       "    .dataframe tbody tr th {\n",
       "        vertical-align: top;\n",
       "    }\n",
       "\n",
       "    .dataframe thead th {\n",
       "        text-align: right;\n",
       "    }\n",
       "</style>\n",
       "<table border=\"1\" class=\"dataframe\">\n",
       "  <thead>\n",
       "    <tr style=\"text-align: right;\">\n",
       "      <th></th>\n",
       "      <th>key</th>\n",
       "      <th>C</th>\n",
       "      <th>D</th>\n",
       "    </tr>\n",
       "  </thead>\n",
       "  <tbody>\n",
       "    <tr>\n",
       "      <th>0</th>\n",
       "      <td>K0</td>\n",
       "      <td>C0</td>\n",
       "      <td>D0</td>\n",
       "    </tr>\n",
       "    <tr>\n",
       "      <th>1</th>\n",
       "      <td>K1</td>\n",
       "      <td>C1</td>\n",
       "      <td>D1</td>\n",
       "    </tr>\n",
       "    <tr>\n",
       "      <th>2</th>\n",
       "      <td>K2</td>\n",
       "      <td>C2</td>\n",
       "      <td>D2</td>\n",
       "    </tr>\n",
       "    <tr>\n",
       "      <th>3</th>\n",
       "      <td>K3</td>\n",
       "      <td>C3</td>\n",
       "      <td>D3</td>\n",
       "    </tr>\n",
       "  </tbody>\n",
       "</table>\n",
       "</div>"
      ],
      "text/plain": [
       "  key   C   D\n",
       "0  K0  C0  D0\n",
       "1  K1  C1  D1\n",
       "2  K2  C2  D2\n",
       "3  K3  C3  D3"
      ]
     },
     "execution_count": 70,
     "metadata": {},
     "output_type": "execute_result"
    }
   ],
   "source": [
    "right = pd.DataFrame(\n",
    "    {\n",
    "        \"key\": [\"K0\", \"K1\", \"K2\", \"K3\"],\n",
    "        \"C\": [\"C0\", \"C1\", \"C2\", \"C3\"],\n",
    "        \"D\": [\"D0\", \"D1\", \"D2\", \"D3\"],\n",
    "    }\n",
    ")\n",
    "right"
   ]
  },
  {
   "cell_type": "code",
   "execution_count": 72,
   "id": "e191ede0",
   "metadata": {},
   "outputs": [
    {
     "data": {
      "application/vnd.microsoft.datawrangler.viewer.v0+json": {
       "columns": [
        {
         "name": "index",
         "rawType": "int64",
         "type": "integer"
        },
        {
         "name": "key",
         "rawType": "object",
         "type": "string"
        },
        {
         "name": "A",
         "rawType": "object",
         "type": "string"
        },
        {
         "name": "B",
         "rawType": "object",
         "type": "string"
        },
        {
         "name": "C",
         "rawType": "object",
         "type": "string"
        },
        {
         "name": "D",
         "rawType": "object",
         "type": "string"
        }
       ],
       "conversionMethod": "pd.DataFrame",
       "ref": "6846aed4-25b4-4dc2-a931-f8b2560f2490",
       "rows": [
        [
         "0",
         "K0",
         "A0",
         "B0",
         "C0",
         "D0"
        ],
        [
         "1",
         "K1",
         "A1",
         "B1",
         "C1",
         "D1"
        ],
        [
         "2",
         "K2",
         "A2",
         "B2",
         "C2",
         "D2"
        ],
        [
         "3",
         "K3",
         "A3",
         "B3",
         "C3",
         "D3"
        ]
       ],
       "shape": {
        "columns": 5,
        "rows": 4
       }
      },
      "text/html": [
       "<div>\n",
       "<style scoped>\n",
       "    .dataframe tbody tr th:only-of-type {\n",
       "        vertical-align: middle;\n",
       "    }\n",
       "\n",
       "    .dataframe tbody tr th {\n",
       "        vertical-align: top;\n",
       "    }\n",
       "\n",
       "    .dataframe thead th {\n",
       "        text-align: right;\n",
       "    }\n",
       "</style>\n",
       "<table border=\"1\" class=\"dataframe\">\n",
       "  <thead>\n",
       "    <tr style=\"text-align: right;\">\n",
       "      <th></th>\n",
       "      <th>key</th>\n",
       "      <th>A</th>\n",
       "      <th>B</th>\n",
       "      <th>C</th>\n",
       "      <th>D</th>\n",
       "    </tr>\n",
       "  </thead>\n",
       "  <tbody>\n",
       "    <tr>\n",
       "      <th>0</th>\n",
       "      <td>K0</td>\n",
       "      <td>A0</td>\n",
       "      <td>B0</td>\n",
       "      <td>C0</td>\n",
       "      <td>D0</td>\n",
       "    </tr>\n",
       "    <tr>\n",
       "      <th>1</th>\n",
       "      <td>K1</td>\n",
       "      <td>A1</td>\n",
       "      <td>B1</td>\n",
       "      <td>C1</td>\n",
       "      <td>D1</td>\n",
       "    </tr>\n",
       "    <tr>\n",
       "      <th>2</th>\n",
       "      <td>K2</td>\n",
       "      <td>A2</td>\n",
       "      <td>B2</td>\n",
       "      <td>C2</td>\n",
       "      <td>D2</td>\n",
       "    </tr>\n",
       "    <tr>\n",
       "      <th>3</th>\n",
       "      <td>K3</td>\n",
       "      <td>A3</td>\n",
       "      <td>B3</td>\n",
       "      <td>C3</td>\n",
       "      <td>D3</td>\n",
       "    </tr>\n",
       "  </tbody>\n",
       "</table>\n",
       "</div>"
      ],
      "text/plain": [
       "  key   A   B   C   D\n",
       "0  K0  A0  B0  C0  D0\n",
       "1  K1  A1  B1  C1  D1\n",
       "2  K2  A2  B2  C2  D2\n",
       "3  K3  A3  B3  C3  D3"
      ]
     },
     "execution_count": 72,
     "metadata": {},
     "output_type": "execute_result"
    }
   ],
   "source": [
    "result = pd.merge(left, right, on=\"key\")\n",
    "result"
   ]
  },
  {
   "cell_type": "code",
   "execution_count": null,
   "id": "1dec0aea",
   "metadata": {},
   "outputs": [],
   "source": []
  }
 ],
 "metadata": {
  "kernelspec": {
   "display_name": "Python 3",
   "language": "python",
   "name": "python3"
  },
  "language_info": {
   "codemirror_mode": {
    "name": "ipython",
    "version": 3
   },
   "file_extension": ".py",
   "mimetype": "text/x-python",
   "name": "python",
   "nbconvert_exporter": "python",
   "pygments_lexer": "ipython3",
   "version": "3.11.9"
  }
 },
 "nbformat": 4,
 "nbformat_minor": 5
}
