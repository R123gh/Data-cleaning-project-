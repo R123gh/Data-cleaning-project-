{
 "cells": [
  {
   "cell_type": "code",
   "execution_count": 1,
   "id": "1b7e3f7f",
   "metadata": {},
   "outputs": [],
   "source": [
    "import pandas as pd  \n",
    "import numpy as np "
   ]
  },
  {
   "cell_type": "markdown",
   "id": "21e53508",
   "metadata": {},
   "source": [
    "#   How to convert the dataframe into csv file "
   ]
  },
  {
   "cell_type": "code",
   "execution_count": 2,
   "id": "fabc0b88",
   "metadata": {},
   "outputs": [],
   "source": [
    "df = pd.DataFrame(np.random.rand(5,5),index = ['0','1','2','3','4'])"
   ]
  },
  {
   "cell_type": "code",
   "execution_count": 6,
   "id": "191c032c",
   "metadata": {},
   "outputs": [],
   "source": [
    "df.columns = ['a','b','c','d','e']"
   ]
  },
  {
   "cell_type": "code",
   "execution_count": 7,
   "id": "5d30bfd5",
   "metadata": {},
   "outputs": [
    {
     "data": {
      "application/vnd.microsoft.datawrangler.viewer.v0+json": {
       "columns": [
        {
         "name": "index",
         "rawType": "object",
         "type": "string"
        },
        {
         "name": "a",
         "rawType": "float64",
         "type": "float"
        },
        {
         "name": "b",
         "rawType": "float64",
         "type": "float"
        },
        {
         "name": "c",
         "rawType": "float64",
         "type": "float"
        },
        {
         "name": "d",
         "rawType": "float64",
         "type": "float"
        },
        {
         "name": "e",
         "rawType": "float64",
         "type": "float"
        }
       ],
       "conversionMethod": "pd.DataFrame",
       "ref": "8c63ce16-5cf5-42c7-9868-92cc9b67cd6f",
       "rows": [
        [
         "0",
         "0.7942873547076283",
         "0.8326133332729746",
         "0.46989969677600485",
         "0.054501311315302337",
         "0.21934416289087721"
        ],
        [
         "1",
         "0.23862656879173716",
         "0.9755298824015373",
         "0.5632280631680748",
         "0.4767040568353641",
         "0.8044423916616361"
        ],
        [
         "2",
         "0.244352315092091",
         "0.7687736378481331",
         "0.521443864279719",
         "0.40942170952246615",
         "0.14796655802145586"
        ],
        [
         "3",
         "0.7602339258086779",
         "0.7506038734496977",
         "0.9876184483649448",
         "0.23931412984820744",
         "0.718757416878398"
        ],
        [
         "4",
         "0.27009669937767633",
         "0.14802906681883488",
         "0.8591433955571641",
         "0.6715823357986285",
         "0.7744626254183389"
        ]
       ],
       "shape": {
        "columns": 5,
        "rows": 5
       }
      },
      "text/html": [
       "<div>\n",
       "<style scoped>\n",
       "    .dataframe tbody tr th:only-of-type {\n",
       "        vertical-align: middle;\n",
       "    }\n",
       "\n",
       "    .dataframe tbody tr th {\n",
       "        vertical-align: top;\n",
       "    }\n",
       "\n",
       "    .dataframe thead th {\n",
       "        text-align: right;\n",
       "    }\n",
       "</style>\n",
       "<table border=\"1\" class=\"dataframe\">\n",
       "  <thead>\n",
       "    <tr style=\"text-align: right;\">\n",
       "      <th></th>\n",
       "      <th>a</th>\n",
       "      <th>b</th>\n",
       "      <th>c</th>\n",
       "      <th>d</th>\n",
       "      <th>e</th>\n",
       "    </tr>\n",
       "  </thead>\n",
       "  <tbody>\n",
       "    <tr>\n",
       "      <th>0</th>\n",
       "      <td>0.794287</td>\n",
       "      <td>0.832613</td>\n",
       "      <td>0.469900</td>\n",
       "      <td>0.054501</td>\n",
       "      <td>0.219344</td>\n",
       "    </tr>\n",
       "    <tr>\n",
       "      <th>1</th>\n",
       "      <td>0.238627</td>\n",
       "      <td>0.975530</td>\n",
       "      <td>0.563228</td>\n",
       "      <td>0.476704</td>\n",
       "      <td>0.804442</td>\n",
       "    </tr>\n",
       "    <tr>\n",
       "      <th>2</th>\n",
       "      <td>0.244352</td>\n",
       "      <td>0.768774</td>\n",
       "      <td>0.521444</td>\n",
       "      <td>0.409422</td>\n",
       "      <td>0.147967</td>\n",
       "    </tr>\n",
       "    <tr>\n",
       "      <th>3</th>\n",
       "      <td>0.760234</td>\n",
       "      <td>0.750604</td>\n",
       "      <td>0.987618</td>\n",
       "      <td>0.239314</td>\n",
       "      <td>0.718757</td>\n",
       "    </tr>\n",
       "    <tr>\n",
       "      <th>4</th>\n",
       "      <td>0.270097</td>\n",
       "      <td>0.148029</td>\n",
       "      <td>0.859143</td>\n",
       "      <td>0.671582</td>\n",
       "      <td>0.774463</td>\n",
       "    </tr>\n",
       "  </tbody>\n",
       "</table>\n",
       "</div>"
      ],
      "text/plain": [
       "          a         b         c         d         e\n",
       "0  0.794287  0.832613  0.469900  0.054501  0.219344\n",
       "1  0.238627  0.975530  0.563228  0.476704  0.804442\n",
       "2  0.244352  0.768774  0.521444  0.409422  0.147967\n",
       "3  0.760234  0.750604  0.987618  0.239314  0.718757\n",
       "4  0.270097  0.148029  0.859143  0.671582  0.774463"
      ]
     },
     "execution_count": 7,
     "metadata": {},
     "output_type": "execute_result"
    }
   ],
   "source": [
    "df"
   ]
  },
  {
   "cell_type": "markdown",
   "id": "4ae6e440",
   "metadata": {},
   "source": [
    "Dataframe -----------> CSV "
   ]
  },
  {
   "cell_type": "code",
   "execution_count": 8,
   "id": "285ff734",
   "metadata": {},
   "outputs": [],
   "source": [
    "df.to_csv(\"My_file.csv\")"
   ]
  },
  {
   "cell_type": "markdown",
   "id": "98e1d3f0",
   "metadata": {},
   "source": [
    "#  To read csv file "
   ]
  },
  {
   "cell_type": "code",
   "execution_count": 9,
   "id": "82fae0d7",
   "metadata": {},
   "outputs": [
    {
     "data": {
      "application/vnd.microsoft.datawrangler.viewer.v0+json": {
       "columns": [
        {
         "name": "index",
         "rawType": "int64",
         "type": "integer"
        },
        {
         "name": "Unnamed: 0",
         "rawType": "int64",
         "type": "integer"
        },
        {
         "name": "a",
         "rawType": "float64",
         "type": "float"
        },
        {
         "name": "b",
         "rawType": "float64",
         "type": "float"
        },
        {
         "name": "c",
         "rawType": "float64",
         "type": "float"
        },
        {
         "name": "d",
         "rawType": "float64",
         "type": "float"
        },
        {
         "name": "e",
         "rawType": "float64",
         "type": "float"
        }
       ],
       "conversionMethod": "pd.DataFrame",
       "ref": "0af067e7-c495-4cf1-9f36-2e67eef7c2d3",
       "rows": [
        [
         "0",
         "0",
         "0.7942873547076283",
         "0.8326133332729746",
         "0.4698996967760048",
         "0.0545013113153023",
         "0.2193441628908772"
        ],
        [
         "1",
         "1",
         "0.2386265687917371",
         "0.9755298824015372",
         "0.5632280631680748",
         "0.4767040568353641",
         "0.8044423916616361"
        ],
        [
         "2",
         "2",
         "0.244352315092091",
         "0.7687736378481331",
         "0.521443864279719",
         "0.4094217095224661",
         "0.1479665580214558"
        ],
        [
         "3",
         "3",
         "0.7602339258086779",
         "0.7506038734496977",
         "0.9876184483649448",
         "0.2393141298482074",
         "0.718757416878398"
        ],
        [
         "4",
         "4",
         "0.2700966993776763",
         "0.1480290668188348",
         "0.8591433955571641",
         "0.6715823357986285",
         "0.7744626254183389"
        ]
       ],
       "shape": {
        "columns": 6,
        "rows": 5
       }
      },
      "text/html": [
       "<div>\n",
       "<style scoped>\n",
       "    .dataframe tbody tr th:only-of-type {\n",
       "        vertical-align: middle;\n",
       "    }\n",
       "\n",
       "    .dataframe tbody tr th {\n",
       "        vertical-align: top;\n",
       "    }\n",
       "\n",
       "    .dataframe thead th {\n",
       "        text-align: right;\n",
       "    }\n",
       "</style>\n",
       "<table border=\"1\" class=\"dataframe\">\n",
       "  <thead>\n",
       "    <tr style=\"text-align: right;\">\n",
       "      <th></th>\n",
       "      <th>Unnamed: 0</th>\n",
       "      <th>a</th>\n",
       "      <th>b</th>\n",
       "      <th>c</th>\n",
       "      <th>d</th>\n",
       "      <th>e</th>\n",
       "    </tr>\n",
       "  </thead>\n",
       "  <tbody>\n",
       "    <tr>\n",
       "      <th>0</th>\n",
       "      <td>0</td>\n",
       "      <td>0.794287</td>\n",
       "      <td>0.832613</td>\n",
       "      <td>0.469900</td>\n",
       "      <td>0.054501</td>\n",
       "      <td>0.219344</td>\n",
       "    </tr>\n",
       "    <tr>\n",
       "      <th>1</th>\n",
       "      <td>1</td>\n",
       "      <td>0.238627</td>\n",
       "      <td>0.975530</td>\n",
       "      <td>0.563228</td>\n",
       "      <td>0.476704</td>\n",
       "      <td>0.804442</td>\n",
       "    </tr>\n",
       "    <tr>\n",
       "      <th>2</th>\n",
       "      <td>2</td>\n",
       "      <td>0.244352</td>\n",
       "      <td>0.768774</td>\n",
       "      <td>0.521444</td>\n",
       "      <td>0.409422</td>\n",
       "      <td>0.147967</td>\n",
       "    </tr>\n",
       "    <tr>\n",
       "      <th>3</th>\n",
       "      <td>3</td>\n",
       "      <td>0.760234</td>\n",
       "      <td>0.750604</td>\n",
       "      <td>0.987618</td>\n",
       "      <td>0.239314</td>\n",
       "      <td>0.718757</td>\n",
       "    </tr>\n",
       "    <tr>\n",
       "      <th>4</th>\n",
       "      <td>4</td>\n",
       "      <td>0.270097</td>\n",
       "      <td>0.148029</td>\n",
       "      <td>0.859143</td>\n",
       "      <td>0.671582</td>\n",
       "      <td>0.774463</td>\n",
       "    </tr>\n",
       "  </tbody>\n",
       "</table>\n",
       "</div>"
      ],
      "text/plain": [
       "   Unnamed: 0         a         b         c         d         e\n",
       "0           0  0.794287  0.832613  0.469900  0.054501  0.219344\n",
       "1           1  0.238627  0.975530  0.563228  0.476704  0.804442\n",
       "2           2  0.244352  0.768774  0.521444  0.409422  0.147967\n",
       "3           3  0.760234  0.750604  0.987618  0.239314  0.718757\n",
       "4           4  0.270097  0.148029  0.859143  0.671582  0.774463"
      ]
     },
     "execution_count": 9,
     "metadata": {},
     "output_type": "execute_result"
    }
   ],
   "source": [
    "pd.read_csv('My_file.csv')"
   ]
  },
  {
   "cell_type": "code",
   "execution_count": null,
   "id": "074dc714",
   "metadata": {},
   "outputs": [],
   "source": []
  }
 ],
 "metadata": {
  "kernelspec": {
   "display_name": "Python 3",
   "language": "python",
   "name": "python3"
  },
  "language_info": {
   "codemirror_mode": {
    "name": "ipython",
    "version": 3
   },
   "file_extension": ".py",
   "mimetype": "text/x-python",
   "name": "python",
   "nbconvert_exporter": "python",
   "pygments_lexer": "ipython3",
   "version": "3.11.9"
  }
 },
 "nbformat": 4,
 "nbformat_minor": 5
}
