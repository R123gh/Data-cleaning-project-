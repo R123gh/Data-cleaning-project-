{
 "cells": [
  {
   "cell_type": "code",
   "execution_count": 2,
   "id": "1b7e3f7f",
   "metadata": {},
   "outputs": [],
   "source": [
    "import pandas as pd  \n",
    "import numpy as np "
   ]
  },
  {
   "cell_type": "markdown",
   "id": "21e53508",
   "metadata": {},
   "source": [
    "#   How to convert the dataframe into csv file "
   ]
  },
  {
   "cell_type": "code",
   "execution_count": 3,
   "id": "fabc0b88",
   "metadata": {},
   "outputs": [],
   "source": [
    "df = pd.DataFrame(np.random.rand(5,5),index = ['0','1','2','3','4'])"
   ]
  },
  {
   "cell_type": "code",
   "execution_count": 4,
   "id": "191c032c",
   "metadata": {},
   "outputs": [],
   "source": [
    "df.columns = ['a','b','c','d','e']"
   ]
  },
  {
   "cell_type": "code",
   "execution_count": 5,
   "id": "5d30bfd5",
   "metadata": {},
   "outputs": [
    {
     "data": {
      "application/vnd.microsoft.datawrangler.viewer.v0+json": {
       "columns": [
        {
         "name": "index",
         "rawType": "object",
         "type": "string"
        },
        {
         "name": "a",
         "rawType": "float64",
         "type": "float"
        },
        {
         "name": "b",
         "rawType": "float64",
         "type": "float"
        },
        {
         "name": "c",
         "rawType": "float64",
         "type": "float"
        },
        {
         "name": "d",
         "rawType": "float64",
         "type": "float"
        },
        {
         "name": "e",
         "rawType": "float64",
         "type": "float"
        }
       ],
       "conversionMethod": "pd.DataFrame",
       "ref": "f9a1e96d-510e-4786-95f1-002c1782a683",
       "rows": [
        [
         "0",
         "0.003764673586975853",
         "0.5038219113662294",
         "0.33965262624034054",
         "0.6348881354819333",
         "0.47132540180571125"
        ],
        [
         "1",
         "0.19824706102177136",
         "0.9845387014383495",
         "0.1810157356701806",
         "0.6075358471362409",
         "0.49570166216226297"
        ],
        [
         "2",
         "0.2857482301285921",
         "0.1940139841268098",
         "0.21788734547940425",
         "0.26553660176437477",
         "0.14314479121610002"
        ],
        [
         "3",
         "0.32981096880266214",
         "0.9128640134746325",
         "0.7206354323706571",
         "0.5405867715171013",
         "0.36868972547317436"
        ],
        [
         "4",
         "0.48292313467190584",
         "0.18711121754378213",
         "0.7202083744184488",
         "0.26586077981778067",
         "0.27304416609862736"
        ]
       ],
       "shape": {
        "columns": 5,
        "rows": 5
       }
      },
      "text/html": [
       "<div>\n",
       "<style scoped>\n",
       "    .dataframe tbody tr th:only-of-type {\n",
       "        vertical-align: middle;\n",
       "    }\n",
       "\n",
       "    .dataframe tbody tr th {\n",
       "        vertical-align: top;\n",
       "    }\n",
       "\n",
       "    .dataframe thead th {\n",
       "        text-align: right;\n",
       "    }\n",
       "</style>\n",
       "<table border=\"1\" class=\"dataframe\">\n",
       "  <thead>\n",
       "    <tr style=\"text-align: right;\">\n",
       "      <th></th>\n",
       "      <th>a</th>\n",
       "      <th>b</th>\n",
       "      <th>c</th>\n",
       "      <th>d</th>\n",
       "      <th>e</th>\n",
       "    </tr>\n",
       "  </thead>\n",
       "  <tbody>\n",
       "    <tr>\n",
       "      <th>0</th>\n",
       "      <td>0.003765</td>\n",
       "      <td>0.503822</td>\n",
       "      <td>0.339653</td>\n",
       "      <td>0.634888</td>\n",
       "      <td>0.471325</td>\n",
       "    </tr>\n",
       "    <tr>\n",
       "      <th>1</th>\n",
       "      <td>0.198247</td>\n",
       "      <td>0.984539</td>\n",
       "      <td>0.181016</td>\n",
       "      <td>0.607536</td>\n",
       "      <td>0.495702</td>\n",
       "    </tr>\n",
       "    <tr>\n",
       "      <th>2</th>\n",
       "      <td>0.285748</td>\n",
       "      <td>0.194014</td>\n",
       "      <td>0.217887</td>\n",
       "      <td>0.265537</td>\n",
       "      <td>0.143145</td>\n",
       "    </tr>\n",
       "    <tr>\n",
       "      <th>3</th>\n",
       "      <td>0.329811</td>\n",
       "      <td>0.912864</td>\n",
       "      <td>0.720635</td>\n",
       "      <td>0.540587</td>\n",
       "      <td>0.368690</td>\n",
       "    </tr>\n",
       "    <tr>\n",
       "      <th>4</th>\n",
       "      <td>0.482923</td>\n",
       "      <td>0.187111</td>\n",
       "      <td>0.720208</td>\n",
       "      <td>0.265861</td>\n",
       "      <td>0.273044</td>\n",
       "    </tr>\n",
       "  </tbody>\n",
       "</table>\n",
       "</div>"
      ],
      "text/plain": [
       "          a         b         c         d         e\n",
       "0  0.003765  0.503822  0.339653  0.634888  0.471325\n",
       "1  0.198247  0.984539  0.181016  0.607536  0.495702\n",
       "2  0.285748  0.194014  0.217887  0.265537  0.143145\n",
       "3  0.329811  0.912864  0.720635  0.540587  0.368690\n",
       "4  0.482923  0.187111  0.720208  0.265861  0.273044"
      ]
     },
     "execution_count": 5,
     "metadata": {},
     "output_type": "execute_result"
    }
   ],
   "source": [
    "df"
   ]
  },
  {
   "cell_type": "markdown",
   "id": "4ae6e440",
   "metadata": {},
   "source": [
    "Dataframe -----------> CSV "
   ]
  },
  {
   "cell_type": "code",
   "execution_count": 6,
   "id": "285ff734",
   "metadata": {},
   "outputs": [],
   "source": [
    "df.to_csv(\"My_file.csv\")"
   ]
  },
  {
   "cell_type": "markdown",
   "id": "98e1d3f0",
   "metadata": {},
   "source": [
    "#  To read csv file "
   ]
  },
  {
   "cell_type": "code",
   "execution_count": 7,
   "id": "82fae0d7",
   "metadata": {},
   "outputs": [
    {
     "data": {
      "application/vnd.microsoft.datawrangler.viewer.v0+json": {
       "columns": [
        {
         "name": "index",
         "rawType": "int64",
         "type": "integer"
        },
        {
         "name": "Unnamed: 0",
         "rawType": "int64",
         "type": "integer"
        },
        {
         "name": "a",
         "rawType": "float64",
         "type": "float"
        },
        {
         "name": "b",
         "rawType": "float64",
         "type": "float"
        },
        {
         "name": "c",
         "rawType": "float64",
         "type": "float"
        },
        {
         "name": "d",
         "rawType": "float64",
         "type": "float"
        },
        {
         "name": "e",
         "rawType": "float64",
         "type": "float"
        }
       ],
       "conversionMethod": "pd.DataFrame",
       "ref": "14880009-2d41-4bd8-8603-2137aca3e332",
       "rows": [
        [
         "0",
         "0",
         "0.0037646735869758",
         "0.5038219113662294",
         "0.3396526262403405",
         "0.6348881354819333",
         "0.4713254018057112"
        ],
        [
         "1",
         "1",
         "0.1982470610217713",
         "0.9845387014383497",
         "0.1810157356701806",
         "0.6075358471362409",
         "0.4957016621622629"
        ],
        [
         "2",
         "2",
         "0.2857482301285921",
         "0.1940139841268098",
         "0.2178873454794042",
         "0.2655366017643747",
         "0.1431447912161"
        ],
        [
         "3",
         "3",
         "0.3298109688026621",
         "0.9128640134746324",
         "0.7206354323706571",
         "0.5405867715171013",
         "0.3686897254731743"
        ],
        [
         "4",
         "4",
         "0.4829231346719058",
         "0.1871112175437821",
         "0.7202083744184488",
         "0.2658607798177806",
         "0.2730441660986273"
        ]
       ],
       "shape": {
        "columns": 6,
        "rows": 5
       }
      },
      "text/html": [
       "<div>\n",
       "<style scoped>\n",
       "    .dataframe tbody tr th:only-of-type {\n",
       "        vertical-align: middle;\n",
       "    }\n",
       "\n",
       "    .dataframe tbody tr th {\n",
       "        vertical-align: top;\n",
       "    }\n",
       "\n",
       "    .dataframe thead th {\n",
       "        text-align: right;\n",
       "    }\n",
       "</style>\n",
       "<table border=\"1\" class=\"dataframe\">\n",
       "  <thead>\n",
       "    <tr style=\"text-align: right;\">\n",
       "      <th></th>\n",
       "      <th>Unnamed: 0</th>\n",
       "      <th>a</th>\n",
       "      <th>b</th>\n",
       "      <th>c</th>\n",
       "      <th>d</th>\n",
       "      <th>e</th>\n",
       "    </tr>\n",
       "  </thead>\n",
       "  <tbody>\n",
       "    <tr>\n",
       "      <th>0</th>\n",
       "      <td>0</td>\n",
       "      <td>0.003765</td>\n",
       "      <td>0.503822</td>\n",
       "      <td>0.339653</td>\n",
       "      <td>0.634888</td>\n",
       "      <td>0.471325</td>\n",
       "    </tr>\n",
       "    <tr>\n",
       "      <th>1</th>\n",
       "      <td>1</td>\n",
       "      <td>0.198247</td>\n",
       "      <td>0.984539</td>\n",
       "      <td>0.181016</td>\n",
       "      <td>0.607536</td>\n",
       "      <td>0.495702</td>\n",
       "    </tr>\n",
       "    <tr>\n",
       "      <th>2</th>\n",
       "      <td>2</td>\n",
       "      <td>0.285748</td>\n",
       "      <td>0.194014</td>\n",
       "      <td>0.217887</td>\n",
       "      <td>0.265537</td>\n",
       "      <td>0.143145</td>\n",
       "    </tr>\n",
       "    <tr>\n",
       "      <th>3</th>\n",
       "      <td>3</td>\n",
       "      <td>0.329811</td>\n",
       "      <td>0.912864</td>\n",
       "      <td>0.720635</td>\n",
       "      <td>0.540587</td>\n",
       "      <td>0.368690</td>\n",
       "    </tr>\n",
       "    <tr>\n",
       "      <th>4</th>\n",
       "      <td>4</td>\n",
       "      <td>0.482923</td>\n",
       "      <td>0.187111</td>\n",
       "      <td>0.720208</td>\n",
       "      <td>0.265861</td>\n",
       "      <td>0.273044</td>\n",
       "    </tr>\n",
       "  </tbody>\n",
       "</table>\n",
       "</div>"
      ],
      "text/plain": [
       "   Unnamed: 0         a         b         c         d         e\n",
       "0           0  0.003765  0.503822  0.339653  0.634888  0.471325\n",
       "1           1  0.198247  0.984539  0.181016  0.607536  0.495702\n",
       "2           2  0.285748  0.194014  0.217887  0.265537  0.143145\n",
       "3           3  0.329811  0.912864  0.720635  0.540587  0.368690\n",
       "4           4  0.482923  0.187111  0.720208  0.265861  0.273044"
      ]
     },
     "execution_count": 7,
     "metadata": {},
     "output_type": "execute_result"
    }
   ],
   "source": [
    "pd.read_csv('My_file.csv')"
   ]
  },
  {
   "cell_type": "markdown",
   "id": "f70952df",
   "metadata": {},
   "source": [
    "#  Indexing and selecting data"
   ]
  },
  {
   "cell_type": "code",
   "execution_count": 8,
   "id": "074dc714",
   "metadata": {},
   "outputs": [
    {
     "data": {
      "text/plain": [
       "a    0\n",
       "b    1\n",
       "c    2\n",
       "d    3\n",
       "e    4\n",
       "dtype: int64"
      ]
     },
     "execution_count": 8,
     "metadata": {},
     "output_type": "execute_result"
    }
   ],
   "source": [
    "ser = pd.Series(range(5), index=list(\"abcde\"))\n",
    "ser"
   ]
  },
  {
   "cell_type": "markdown",
   "id": "84806032",
   "metadata": {},
   "source": [
    "To find the elements by using indexing "
   ]
  },
  {
   "cell_type": "code",
   "execution_count": 9,
   "id": "a2af7b88",
   "metadata": {},
   "outputs": [
    {
     "data": {
      "text/plain": [
       "a    0\n",
       "c    2\n",
       "e    4\n",
       "dtype: int64"
      ]
     },
     "execution_count": 9,
     "metadata": {},
     "output_type": "execute_result"
    }
   ],
   "source": [
    "ser.loc[['a','c','e']]"
   ]
  },
  {
   "cell_type": "code",
   "execution_count": 10,
   "id": "8f19f3f8",
   "metadata": {},
   "outputs": [],
   "source": [
    "df = pd.DataFrame(np.arange(25).reshape(5, 5), index=list(\"abcde\"), columns=list(\"abcde\"))"
   ]
  },
  {
   "cell_type": "code",
   "execution_count": 11,
   "id": "f6f22a55",
   "metadata": {},
   "outputs": [
    {
     "data": {
      "application/vnd.microsoft.datawrangler.viewer.v0+json": {
       "columns": [
        {
         "name": "index",
         "rawType": "object",
         "type": "string"
        },
        {
         "name": "a",
         "rawType": "int64",
         "type": "integer"
        },
        {
         "name": "b",
         "rawType": "int64",
         "type": "integer"
        },
        {
         "name": "c",
         "rawType": "int64",
         "type": "integer"
        },
        {
         "name": "d",
         "rawType": "int64",
         "type": "integer"
        },
        {
         "name": "e",
         "rawType": "int64",
         "type": "integer"
        }
       ],
       "conversionMethod": "pd.DataFrame",
       "ref": "b99f9689-01b9-4006-ad6e-28a78ca72949",
       "rows": [
        [
         "a",
         "0",
         "1",
         "2",
         "3",
         "4"
        ],
        [
         "b",
         "5",
         "6",
         "7",
         "8",
         "9"
        ],
        [
         "c",
         "10",
         "11",
         "12",
         "13",
         "14"
        ],
        [
         "d",
         "15",
         "16",
         "17",
         "18",
         "19"
        ],
        [
         "e",
         "20",
         "21",
         "22",
         "23",
         "24"
        ]
       ],
       "shape": {
        "columns": 5,
        "rows": 5
       }
      },
      "text/html": [
       "<div>\n",
       "<style scoped>\n",
       "    .dataframe tbody tr th:only-of-type {\n",
       "        vertical-align: middle;\n",
       "    }\n",
       "\n",
       "    .dataframe tbody tr th {\n",
       "        vertical-align: top;\n",
       "    }\n",
       "\n",
       "    .dataframe thead th {\n",
       "        text-align: right;\n",
       "    }\n",
       "</style>\n",
       "<table border=\"1\" class=\"dataframe\">\n",
       "  <thead>\n",
       "    <tr style=\"text-align: right;\">\n",
       "      <th></th>\n",
       "      <th>a</th>\n",
       "      <th>b</th>\n",
       "      <th>c</th>\n",
       "      <th>d</th>\n",
       "      <th>e</th>\n",
       "    </tr>\n",
       "  </thead>\n",
       "  <tbody>\n",
       "    <tr>\n",
       "      <th>a</th>\n",
       "      <td>0</td>\n",
       "      <td>1</td>\n",
       "      <td>2</td>\n",
       "      <td>3</td>\n",
       "      <td>4</td>\n",
       "    </tr>\n",
       "    <tr>\n",
       "      <th>b</th>\n",
       "      <td>5</td>\n",
       "      <td>6</td>\n",
       "      <td>7</td>\n",
       "      <td>8</td>\n",
       "      <td>9</td>\n",
       "    </tr>\n",
       "    <tr>\n",
       "      <th>c</th>\n",
       "      <td>10</td>\n",
       "      <td>11</td>\n",
       "      <td>12</td>\n",
       "      <td>13</td>\n",
       "      <td>14</td>\n",
       "    </tr>\n",
       "    <tr>\n",
       "      <th>d</th>\n",
       "      <td>15</td>\n",
       "      <td>16</td>\n",
       "      <td>17</td>\n",
       "      <td>18</td>\n",
       "      <td>19</td>\n",
       "    </tr>\n",
       "    <tr>\n",
       "      <th>e</th>\n",
       "      <td>20</td>\n",
       "      <td>21</td>\n",
       "      <td>22</td>\n",
       "      <td>23</td>\n",
       "      <td>24</td>\n",
       "    </tr>\n",
       "  </tbody>\n",
       "</table>\n",
       "</div>"
      ],
      "text/plain": [
       "    a   b   c   d   e\n",
       "a   0   1   2   3   4\n",
       "b   5   6   7   8   9\n",
       "c  10  11  12  13  14\n",
       "d  15  16  17  18  19\n",
       "e  20  21  22  23  24"
      ]
     },
     "execution_count": 11,
     "metadata": {},
     "output_type": "execute_result"
    }
   ],
   "source": [
    "df"
   ]
  },
  {
   "cell_type": "code",
   "execution_count": 12,
   "id": "4dabb810",
   "metadata": {},
   "outputs": [
    {
     "data": {
      "application/vnd.microsoft.datawrangler.viewer.v0+json": {
       "columns": [
        {
         "name": "index",
         "rawType": "object",
         "type": "string"
        },
        {
         "name": "b",
         "rawType": "int64",
         "type": "integer"
        },
        {
         "name": "d",
         "rawType": "int64",
         "type": "integer"
        }
       ],
       "conversionMethod": "pd.DataFrame",
       "ref": "f9eb926d-2862-4751-a707-daf972a34fa9",
       "rows": [
        [
         "a",
         "1",
         "3"
        ],
        [
         "c",
         "11",
         "13"
        ],
        [
         "e",
         "21",
         "23"
        ]
       ],
       "shape": {
        "columns": 2,
        "rows": 3
       }
      },
      "text/html": [
       "<div>\n",
       "<style scoped>\n",
       "    .dataframe tbody tr th:only-of-type {\n",
       "        vertical-align: middle;\n",
       "    }\n",
       "\n",
       "    .dataframe tbody tr th {\n",
       "        vertical-align: top;\n",
       "    }\n",
       "\n",
       "    .dataframe thead th {\n",
       "        text-align: right;\n",
       "    }\n",
       "</style>\n",
       "<table border=\"1\" class=\"dataframe\">\n",
       "  <thead>\n",
       "    <tr style=\"text-align: right;\">\n",
       "      <th></th>\n",
       "      <th>b</th>\n",
       "      <th>d</th>\n",
       "    </tr>\n",
       "  </thead>\n",
       "  <tbody>\n",
       "    <tr>\n",
       "      <th>a</th>\n",
       "      <td>1</td>\n",
       "      <td>3</td>\n",
       "    </tr>\n",
       "    <tr>\n",
       "      <th>c</th>\n",
       "      <td>11</td>\n",
       "      <td>13</td>\n",
       "    </tr>\n",
       "    <tr>\n",
       "      <th>e</th>\n",
       "      <td>21</td>\n",
       "      <td>23</td>\n",
       "    </tr>\n",
       "  </tbody>\n",
       "</table>\n",
       "</div>"
      ],
      "text/plain": [
       "    b   d\n",
       "a   1   3\n",
       "c  11  13\n",
       "e  21  23"
      ]
     },
     "execution_count": 12,
     "metadata": {},
     "output_type": "execute_result"
    }
   ],
   "source": [
    "df.loc[[\"a\", \"c\", \"e\"], [\"b\", \"d\"]]"
   ]
  },
  {
   "cell_type": "markdown",
   "id": "00724ad3",
   "metadata": {},
   "source": [
    " # Basics"
   ]
  },
  {
   "cell_type": "markdown",
   "id": "6f5064f4",
   "metadata": {},
   "source": [
    "To create the data in row "
   ]
  },
  {
   "cell_type": "code",
   "execution_count": null,
   "id": "c62e5b1b",
   "metadata": {},
   "outputs": [],
   "source": []
  },
  {
   "cell_type": "code",
   "execution_count": 13,
   "id": "80b6bf93",
   "metadata": {},
   "outputs": [],
   "source": [
    "dates = pd.date_range('30/4/2025', periods=8)"
   ]
  },
  {
   "cell_type": "code",
   "execution_count": 14,
   "id": "29f6923b",
   "metadata": {},
   "outputs": [
    {
     "data": {
      "text/plain": [
       "DatetimeIndex(['2025-04-30', '2025-05-01', '2025-05-02', '2025-05-03',\n",
       "               '2025-05-04', '2025-05-05', '2025-05-06', '2025-05-07'],\n",
       "              dtype='datetime64[ns]', freq='D')"
      ]
     },
     "execution_count": 14,
     "metadata": {},
     "output_type": "execute_result"
    }
   ],
   "source": [
    "dates"
   ]
  },
  {
   "cell_type": "code",
   "execution_count": 15,
   "id": "df5d3e5d",
   "metadata": {},
   "outputs": [],
   "source": [
    "df = pd.DataFrame(np.random.randn(8, 4),\n",
    "                  index=dates, columns=['A', 'B', 'C', 'D'])"
   ]
  },
  {
   "cell_type": "code",
   "execution_count": 16,
   "id": "20122596",
   "metadata": {},
   "outputs": [
    {
     "data": {
      "application/vnd.microsoft.datawrangler.viewer.v0+json": {
       "columns": [
        {
         "name": "index",
         "rawType": "datetime64[ns]",
         "type": "datetime"
        },
        {
         "name": "A",
         "rawType": "float64",
         "type": "float"
        },
        {
         "name": "B",
         "rawType": "float64",
         "type": "float"
        },
        {
         "name": "C",
         "rawType": "float64",
         "type": "float"
        },
        {
         "name": "D",
         "rawType": "float64",
         "type": "float"
        }
       ],
       "conversionMethod": "pd.DataFrame",
       "ref": "4867c2e3-452c-4082-9c53-dcf813f5a3e4",
       "rows": [
        [
         "2025-04-30 00:00:00",
         "1.04915923642664",
         "-0.8008141138374489",
         "-0.6352115675711121",
         "0.10442736423769648"
        ],
        [
         "2025-05-01 00:00:00",
         "-0.18613607201465632",
         "-1.0714426632140928",
         "0.7918951707461429",
         "-0.5946942578934427"
        ],
        [
         "2025-05-02 00:00:00",
         "0.19233388660573025",
         "0.8446200959370382",
         "-0.5569115955762048",
         "-0.25578695393655115"
        ],
        [
         "2025-05-03 00:00:00",
         "-0.20789182857386204",
         "0.10903097821002859",
         "0.17876844232993533",
         "-2.199435435286153"
        ],
        [
         "2025-05-04 00:00:00",
         "1.3931601057980647",
         "1.226725898012094",
         "-0.36605735390799027",
         "-0.01657646479053189"
        ],
        [
         "2025-05-05 00:00:00",
         "0.01583797940593634",
         "0.5726032924730852",
         "-0.7474800725711431",
         "0.9568727103045352"
        ],
        [
         "2025-05-06 00:00:00",
         "-0.7852537236533318",
         "-0.21612688860787863",
         "0.22255213250473097",
         "0.9538578274072177"
        ],
        [
         "2025-05-07 00:00:00",
         "0.829318643226038",
         "-1.3068816113211934",
         "3.068787094594809",
         "-0.37984350446281623"
        ]
       ],
       "shape": {
        "columns": 4,
        "rows": 8
       }
      },
      "text/html": [
       "<div>\n",
       "<style scoped>\n",
       "    .dataframe tbody tr th:only-of-type {\n",
       "        vertical-align: middle;\n",
       "    }\n",
       "\n",
       "    .dataframe tbody tr th {\n",
       "        vertical-align: top;\n",
       "    }\n",
       "\n",
       "    .dataframe thead th {\n",
       "        text-align: right;\n",
       "    }\n",
       "</style>\n",
       "<table border=\"1\" class=\"dataframe\">\n",
       "  <thead>\n",
       "    <tr style=\"text-align: right;\">\n",
       "      <th></th>\n",
       "      <th>A</th>\n",
       "      <th>B</th>\n",
       "      <th>C</th>\n",
       "      <th>D</th>\n",
       "    </tr>\n",
       "  </thead>\n",
       "  <tbody>\n",
       "    <tr>\n",
       "      <th>2025-04-30</th>\n",
       "      <td>1.049159</td>\n",
       "      <td>-0.800814</td>\n",
       "      <td>-0.635212</td>\n",
       "      <td>0.104427</td>\n",
       "    </tr>\n",
       "    <tr>\n",
       "      <th>2025-05-01</th>\n",
       "      <td>-0.186136</td>\n",
       "      <td>-1.071443</td>\n",
       "      <td>0.791895</td>\n",
       "      <td>-0.594694</td>\n",
       "    </tr>\n",
       "    <tr>\n",
       "      <th>2025-05-02</th>\n",
       "      <td>0.192334</td>\n",
       "      <td>0.844620</td>\n",
       "      <td>-0.556912</td>\n",
       "      <td>-0.255787</td>\n",
       "    </tr>\n",
       "    <tr>\n",
       "      <th>2025-05-03</th>\n",
       "      <td>-0.207892</td>\n",
       "      <td>0.109031</td>\n",
       "      <td>0.178768</td>\n",
       "      <td>-2.199435</td>\n",
       "    </tr>\n",
       "    <tr>\n",
       "      <th>2025-05-04</th>\n",
       "      <td>1.393160</td>\n",
       "      <td>1.226726</td>\n",
       "      <td>-0.366057</td>\n",
       "      <td>-0.016576</td>\n",
       "    </tr>\n",
       "    <tr>\n",
       "      <th>2025-05-05</th>\n",
       "      <td>0.015838</td>\n",
       "      <td>0.572603</td>\n",
       "      <td>-0.747480</td>\n",
       "      <td>0.956873</td>\n",
       "    </tr>\n",
       "    <tr>\n",
       "      <th>2025-05-06</th>\n",
       "      <td>-0.785254</td>\n",
       "      <td>-0.216127</td>\n",
       "      <td>0.222552</td>\n",
       "      <td>0.953858</td>\n",
       "    </tr>\n",
       "    <tr>\n",
       "      <th>2025-05-07</th>\n",
       "      <td>0.829319</td>\n",
       "      <td>-1.306882</td>\n",
       "      <td>3.068787</td>\n",
       "      <td>-0.379844</td>\n",
       "    </tr>\n",
       "  </tbody>\n",
       "</table>\n",
       "</div>"
      ],
      "text/plain": [
       "                   A         B         C         D\n",
       "2025-04-30  1.049159 -0.800814 -0.635212  0.104427\n",
       "2025-05-01 -0.186136 -1.071443  0.791895 -0.594694\n",
       "2025-05-02  0.192334  0.844620 -0.556912 -0.255787\n",
       "2025-05-03 -0.207892  0.109031  0.178768 -2.199435\n",
       "2025-05-04  1.393160  1.226726 -0.366057 -0.016576\n",
       "2025-05-05  0.015838  0.572603 -0.747480  0.956873\n",
       "2025-05-06 -0.785254 -0.216127  0.222552  0.953858\n",
       "2025-05-07  0.829319 -1.306882  3.068787 -0.379844"
      ]
     },
     "execution_count": 16,
     "metadata": {},
     "output_type": "execute_result"
    }
   ],
   "source": [
    "df"
   ]
  },
  {
   "cell_type": "code",
   "execution_count": 17,
   "id": "323595dc",
   "metadata": {},
   "outputs": [
    {
     "data": {
      "text/plain": [
       "2025-04-30    1.049159\n",
       "2025-05-01   -0.186136\n",
       "2025-05-02    0.192334\n",
       "2025-05-03   -0.207892\n",
       "2025-05-04    1.393160\n",
       "2025-05-05    0.015838\n",
       "2025-05-06   -0.785254\n",
       "2025-05-07    0.829319\n",
       "Freq: D, Name: A, dtype: float64"
      ]
     },
     "execution_count": 17,
     "metadata": {},
     "output_type": "execute_result"
    }
   ],
   "source": [
    "s = df['A']\n",
    "s"
   ]
  },
  {
   "cell_type": "code",
   "execution_count": 18,
   "id": "4d921f38",
   "metadata": {},
   "outputs": [
    {
     "data": {
      "text/plain": [
       "np.float64(0.01583797940593634)"
      ]
     },
     "execution_count": 18,
     "metadata": {},
     "output_type": "execute_result"
    }
   ],
   "source": [
    "s[dates[5]]"
   ]
  },
  {
   "cell_type": "code",
   "execution_count": 19,
   "id": "3aa03da0",
   "metadata": {},
   "outputs": [],
   "source": [
    "df[['B', 'A']] = df[['A', 'B']]"
   ]
  },
  {
   "cell_type": "code",
   "execution_count": 20,
   "id": "440190b4",
   "metadata": {},
   "outputs": [
    {
     "data": {
      "application/vnd.microsoft.datawrangler.viewer.v0+json": {
       "columns": [
        {
         "name": "index",
         "rawType": "datetime64[ns]",
         "type": "datetime"
        },
        {
         "name": "A",
         "rawType": "float64",
         "type": "float"
        },
        {
         "name": "B",
         "rawType": "float64",
         "type": "float"
        },
        {
         "name": "C",
         "rawType": "float64",
         "type": "float"
        },
        {
         "name": "D",
         "rawType": "float64",
         "type": "float"
        }
       ],
       "conversionMethod": "pd.DataFrame",
       "ref": "8a5137c7-b237-4c78-ac91-700936f2e67c",
       "rows": [
        [
         "2025-04-30 00:00:00",
         "-0.8008141138374489",
         "1.04915923642664",
         "-0.6352115675711121",
         "0.10442736423769648"
        ],
        [
         "2025-05-01 00:00:00",
         "-1.0714426632140928",
         "-0.18613607201465632",
         "0.7918951707461429",
         "-0.5946942578934427"
        ],
        [
         "2025-05-02 00:00:00",
         "0.8446200959370382",
         "0.19233388660573025",
         "-0.5569115955762048",
         "-0.25578695393655115"
        ],
        [
         "2025-05-03 00:00:00",
         "0.10903097821002859",
         "-0.20789182857386204",
         "0.17876844232993533",
         "-2.199435435286153"
        ],
        [
         "2025-05-04 00:00:00",
         "1.226725898012094",
         "1.3931601057980647",
         "-0.36605735390799027",
         "-0.01657646479053189"
        ],
        [
         "2025-05-05 00:00:00",
         "0.5726032924730852",
         "0.01583797940593634",
         "-0.7474800725711431",
         "0.9568727103045352"
        ],
        [
         "2025-05-06 00:00:00",
         "-0.21612688860787863",
         "-0.7852537236533318",
         "0.22255213250473097",
         "0.9538578274072177"
        ],
        [
         "2025-05-07 00:00:00",
         "-1.3068816113211934",
         "0.829318643226038",
         "3.068787094594809",
         "-0.37984350446281623"
        ]
       ],
       "shape": {
        "columns": 4,
        "rows": 8
       }
      },
      "text/html": [
       "<div>\n",
       "<style scoped>\n",
       "    .dataframe tbody tr th:only-of-type {\n",
       "        vertical-align: middle;\n",
       "    }\n",
       "\n",
       "    .dataframe tbody tr th {\n",
       "        vertical-align: top;\n",
       "    }\n",
       "\n",
       "    .dataframe thead th {\n",
       "        text-align: right;\n",
       "    }\n",
       "</style>\n",
       "<table border=\"1\" class=\"dataframe\">\n",
       "  <thead>\n",
       "    <tr style=\"text-align: right;\">\n",
       "      <th></th>\n",
       "      <th>A</th>\n",
       "      <th>B</th>\n",
       "      <th>C</th>\n",
       "      <th>D</th>\n",
       "    </tr>\n",
       "  </thead>\n",
       "  <tbody>\n",
       "    <tr>\n",
       "      <th>2025-04-30</th>\n",
       "      <td>-0.800814</td>\n",
       "      <td>1.049159</td>\n",
       "      <td>-0.635212</td>\n",
       "      <td>0.104427</td>\n",
       "    </tr>\n",
       "    <tr>\n",
       "      <th>2025-05-01</th>\n",
       "      <td>-1.071443</td>\n",
       "      <td>-0.186136</td>\n",
       "      <td>0.791895</td>\n",
       "      <td>-0.594694</td>\n",
       "    </tr>\n",
       "    <tr>\n",
       "      <th>2025-05-02</th>\n",
       "      <td>0.844620</td>\n",
       "      <td>0.192334</td>\n",
       "      <td>-0.556912</td>\n",
       "      <td>-0.255787</td>\n",
       "    </tr>\n",
       "    <tr>\n",
       "      <th>2025-05-03</th>\n",
       "      <td>0.109031</td>\n",
       "      <td>-0.207892</td>\n",
       "      <td>0.178768</td>\n",
       "      <td>-2.199435</td>\n",
       "    </tr>\n",
       "    <tr>\n",
       "      <th>2025-05-04</th>\n",
       "      <td>1.226726</td>\n",
       "      <td>1.393160</td>\n",
       "      <td>-0.366057</td>\n",
       "      <td>-0.016576</td>\n",
       "    </tr>\n",
       "    <tr>\n",
       "      <th>2025-05-05</th>\n",
       "      <td>0.572603</td>\n",
       "      <td>0.015838</td>\n",
       "      <td>-0.747480</td>\n",
       "      <td>0.956873</td>\n",
       "    </tr>\n",
       "    <tr>\n",
       "      <th>2025-05-06</th>\n",
       "      <td>-0.216127</td>\n",
       "      <td>-0.785254</td>\n",
       "      <td>0.222552</td>\n",
       "      <td>0.953858</td>\n",
       "    </tr>\n",
       "    <tr>\n",
       "      <th>2025-05-07</th>\n",
       "      <td>-1.306882</td>\n",
       "      <td>0.829319</td>\n",
       "      <td>3.068787</td>\n",
       "      <td>-0.379844</td>\n",
       "    </tr>\n",
       "  </tbody>\n",
       "</table>\n",
       "</div>"
      ],
      "text/plain": [
       "                   A         B         C         D\n",
       "2025-04-30 -0.800814  1.049159 -0.635212  0.104427\n",
       "2025-05-01 -1.071443 -0.186136  0.791895 -0.594694\n",
       "2025-05-02  0.844620  0.192334 -0.556912 -0.255787\n",
       "2025-05-03  0.109031 -0.207892  0.178768 -2.199435\n",
       "2025-05-04  1.226726  1.393160 -0.366057 -0.016576\n",
       "2025-05-05  0.572603  0.015838 -0.747480  0.956873\n",
       "2025-05-06 -0.216127 -0.785254  0.222552  0.953858\n",
       "2025-05-07 -1.306882  0.829319  3.068787 -0.379844"
      ]
     },
     "execution_count": 20,
     "metadata": {},
     "output_type": "execute_result"
    }
   ],
   "source": [
    "df"
   ]
  },
  {
   "cell_type": "code",
   "execution_count": 21,
   "id": "193be62b",
   "metadata": {},
   "outputs": [
    {
     "data": {
      "application/vnd.microsoft.datawrangler.viewer.v0+json": {
       "columns": [
        {
         "name": "index",
         "rawType": "datetime64[ns]",
         "type": "datetime"
        },
        {
         "name": "A",
         "rawType": "float64",
         "type": "float"
        },
        {
         "name": "B",
         "rawType": "float64",
         "type": "float"
        }
       ],
       "conversionMethod": "pd.DataFrame",
       "ref": "50413d55-3c80-4154-8602-f3e31e7800f5",
       "rows": [
        [
         "2025-04-30 00:00:00",
         "-0.8008141138374489",
         "1.04915923642664"
        ],
        [
         "2025-05-01 00:00:00",
         "-1.0714426632140928",
         "-0.18613607201465632"
        ],
        [
         "2025-05-02 00:00:00",
         "0.8446200959370382",
         "0.19233388660573025"
        ],
        [
         "2025-05-03 00:00:00",
         "0.10903097821002859",
         "-0.20789182857386204"
        ],
        [
         "2025-05-04 00:00:00",
         "1.226725898012094",
         "1.3931601057980647"
        ],
        [
         "2025-05-05 00:00:00",
         "0.5726032924730852",
         "0.01583797940593634"
        ],
        [
         "2025-05-06 00:00:00",
         "-0.21612688860787863",
         "-0.7852537236533318"
        ],
        [
         "2025-05-07 00:00:00",
         "-1.3068816113211934",
         "0.829318643226038"
        ]
       ],
       "shape": {
        "columns": 2,
        "rows": 8
       }
      },
      "text/html": [
       "<div>\n",
       "<style scoped>\n",
       "    .dataframe tbody tr th:only-of-type {\n",
       "        vertical-align: middle;\n",
       "    }\n",
       "\n",
       "    .dataframe tbody tr th {\n",
       "        vertical-align: top;\n",
       "    }\n",
       "\n",
       "    .dataframe thead th {\n",
       "        text-align: right;\n",
       "    }\n",
       "</style>\n",
       "<table border=\"1\" class=\"dataframe\">\n",
       "  <thead>\n",
       "    <tr style=\"text-align: right;\">\n",
       "      <th></th>\n",
       "      <th>A</th>\n",
       "      <th>B</th>\n",
       "    </tr>\n",
       "  </thead>\n",
       "  <tbody>\n",
       "    <tr>\n",
       "      <th>2025-04-30</th>\n",
       "      <td>-0.800814</td>\n",
       "      <td>1.049159</td>\n",
       "    </tr>\n",
       "    <tr>\n",
       "      <th>2025-05-01</th>\n",
       "      <td>-1.071443</td>\n",
       "      <td>-0.186136</td>\n",
       "    </tr>\n",
       "    <tr>\n",
       "      <th>2025-05-02</th>\n",
       "      <td>0.844620</td>\n",
       "      <td>0.192334</td>\n",
       "    </tr>\n",
       "    <tr>\n",
       "      <th>2025-05-03</th>\n",
       "      <td>0.109031</td>\n",
       "      <td>-0.207892</td>\n",
       "    </tr>\n",
       "    <tr>\n",
       "      <th>2025-05-04</th>\n",
       "      <td>1.226726</td>\n",
       "      <td>1.393160</td>\n",
       "    </tr>\n",
       "    <tr>\n",
       "      <th>2025-05-05</th>\n",
       "      <td>0.572603</td>\n",
       "      <td>0.015838</td>\n",
       "    </tr>\n",
       "    <tr>\n",
       "      <th>2025-05-06</th>\n",
       "      <td>-0.216127</td>\n",
       "      <td>-0.785254</td>\n",
       "    </tr>\n",
       "    <tr>\n",
       "      <th>2025-05-07</th>\n",
       "      <td>-1.306882</td>\n",
       "      <td>0.829319</td>\n",
       "    </tr>\n",
       "  </tbody>\n",
       "</table>\n",
       "</div>"
      ],
      "text/plain": [
       "                   A         B\n",
       "2025-04-30 -0.800814  1.049159\n",
       "2025-05-01 -1.071443 -0.186136\n",
       "2025-05-02  0.844620  0.192334\n",
       "2025-05-03  0.109031 -0.207892\n",
       "2025-05-04  1.226726  1.393160\n",
       "2025-05-05  0.572603  0.015838\n",
       "2025-05-06 -0.216127 -0.785254\n",
       "2025-05-07 -1.306882  0.829319"
      ]
     },
     "execution_count": 21,
     "metadata": {},
     "output_type": "execute_result"
    }
   ],
   "source": [
    "df[['A', 'B']]"
   ]
  },
  {
   "cell_type": "markdown",
   "id": "3041fb5b",
   "metadata": {},
   "source": [
    "To sort the index in dataframe "
   ]
  },
  {
   "cell_type": "code",
   "execution_count": 22,
   "id": "172ec08b",
   "metadata": {},
   "outputs": [
    {
     "data": {
      "application/vnd.microsoft.datawrangler.viewer.v0+json": {
       "columns": [
        {
         "name": "index",
         "rawType": "datetime64[ns]",
         "type": "datetime"
        },
        {
         "name": "A",
         "rawType": "float64",
         "type": "float"
        },
        {
         "name": "B",
         "rawType": "float64",
         "type": "float"
        },
        {
         "name": "C",
         "rawType": "float64",
         "type": "float"
        },
        {
         "name": "D",
         "rawType": "float64",
         "type": "float"
        }
       ],
       "conversionMethod": "pd.DataFrame",
       "ref": "5c1ba4ed-b444-4b53-ac21-d68aa0080e86",
       "rows": [
        [
         "2025-04-30 00:00:00",
         "-0.8008141138374489",
         "1.04915923642664",
         "-0.6352115675711121",
         "0.10442736423769648"
        ],
        [
         "2025-05-01 00:00:00",
         "-1.0714426632140928",
         "-0.18613607201465632",
         "0.7918951707461429",
         "-0.5946942578934427"
        ],
        [
         "2025-05-02 00:00:00",
         "0.8446200959370382",
         "0.19233388660573025",
         "-0.5569115955762048",
         "-0.25578695393655115"
        ],
        [
         "2025-05-03 00:00:00",
         "0.10903097821002859",
         "-0.20789182857386204",
         "0.17876844232993533",
         "-2.199435435286153"
        ],
        [
         "2025-05-04 00:00:00",
         "1.226725898012094",
         "1.3931601057980647",
         "-0.36605735390799027",
         "-0.01657646479053189"
        ],
        [
         "2025-05-05 00:00:00",
         "0.5726032924730852",
         "0.01583797940593634",
         "-0.7474800725711431",
         "0.9568727103045352"
        ],
        [
         "2025-05-06 00:00:00",
         "-0.21612688860787863",
         "-0.7852537236533318",
         "0.22255213250473097",
         "0.9538578274072177"
        ],
        [
         "2025-05-07 00:00:00",
         "-1.3068816113211934",
         "0.829318643226038",
         "3.068787094594809",
         "-0.37984350446281623"
        ]
       ],
       "shape": {
        "columns": 4,
        "rows": 8
       }
      },
      "text/html": [
       "<div>\n",
       "<style scoped>\n",
       "    .dataframe tbody tr th:only-of-type {\n",
       "        vertical-align: middle;\n",
       "    }\n",
       "\n",
       "    .dataframe tbody tr th {\n",
       "        vertical-align: top;\n",
       "    }\n",
       "\n",
       "    .dataframe thead th {\n",
       "        text-align: right;\n",
       "    }\n",
       "</style>\n",
       "<table border=\"1\" class=\"dataframe\">\n",
       "  <thead>\n",
       "    <tr style=\"text-align: right;\">\n",
       "      <th></th>\n",
       "      <th>A</th>\n",
       "      <th>B</th>\n",
       "      <th>C</th>\n",
       "      <th>D</th>\n",
       "    </tr>\n",
       "  </thead>\n",
       "  <tbody>\n",
       "    <tr>\n",
       "      <th>2025-04-30</th>\n",
       "      <td>-0.800814</td>\n",
       "      <td>1.049159</td>\n",
       "      <td>-0.635212</td>\n",
       "      <td>0.104427</td>\n",
       "    </tr>\n",
       "    <tr>\n",
       "      <th>2025-05-01</th>\n",
       "      <td>-1.071443</td>\n",
       "      <td>-0.186136</td>\n",
       "      <td>0.791895</td>\n",
       "      <td>-0.594694</td>\n",
       "    </tr>\n",
       "    <tr>\n",
       "      <th>2025-05-02</th>\n",
       "      <td>0.844620</td>\n",
       "      <td>0.192334</td>\n",
       "      <td>-0.556912</td>\n",
       "      <td>-0.255787</td>\n",
       "    </tr>\n",
       "    <tr>\n",
       "      <th>2025-05-03</th>\n",
       "      <td>0.109031</td>\n",
       "      <td>-0.207892</td>\n",
       "      <td>0.178768</td>\n",
       "      <td>-2.199435</td>\n",
       "    </tr>\n",
       "    <tr>\n",
       "      <th>2025-05-04</th>\n",
       "      <td>1.226726</td>\n",
       "      <td>1.393160</td>\n",
       "      <td>-0.366057</td>\n",
       "      <td>-0.016576</td>\n",
       "    </tr>\n",
       "    <tr>\n",
       "      <th>2025-05-05</th>\n",
       "      <td>0.572603</td>\n",
       "      <td>0.015838</td>\n",
       "      <td>-0.747480</td>\n",
       "      <td>0.956873</td>\n",
       "    </tr>\n",
       "    <tr>\n",
       "      <th>2025-05-06</th>\n",
       "      <td>-0.216127</td>\n",
       "      <td>-0.785254</td>\n",
       "      <td>0.222552</td>\n",
       "      <td>0.953858</td>\n",
       "    </tr>\n",
       "    <tr>\n",
       "      <th>2025-05-07</th>\n",
       "      <td>-1.306882</td>\n",
       "      <td>0.829319</td>\n",
       "      <td>3.068787</td>\n",
       "      <td>-0.379844</td>\n",
       "    </tr>\n",
       "  </tbody>\n",
       "</table>\n",
       "</div>"
      ],
      "text/plain": [
       "                   A         B         C         D\n",
       "2025-04-30 -0.800814  1.049159 -0.635212  0.104427\n",
       "2025-05-01 -1.071443 -0.186136  0.791895 -0.594694\n",
       "2025-05-02  0.844620  0.192334 -0.556912 -0.255787\n",
       "2025-05-03  0.109031 -0.207892  0.178768 -2.199435\n",
       "2025-05-04  1.226726  1.393160 -0.366057 -0.016576\n",
       "2025-05-05  0.572603  0.015838 -0.747480  0.956873\n",
       "2025-05-06 -0.216127 -0.785254  0.222552  0.953858\n",
       "2025-05-07 -1.306882  0.829319  3.068787 -0.379844"
      ]
     },
     "execution_count": 22,
     "metadata": {},
     "output_type": "execute_result"
    }
   ],
   "source": [
    "df.sort_index()"
   ]
  },
  {
   "cell_type": "markdown",
   "id": "bbbb6820",
   "metadata": {},
   "source": [
    "#  Boolean indexing"
   ]
  },
  {
   "cell_type": "code",
   "execution_count": 23,
   "id": "87c48b25",
   "metadata": {},
   "outputs": [],
   "source": [
    "s = pd.Series(range(-3, 4))"
   ]
  },
  {
   "cell_type": "code",
   "execution_count": 24,
   "id": "d1486755",
   "metadata": {},
   "outputs": [
    {
     "data": {
      "text/plain": [
       "0   -3\n",
       "1   -2\n",
       "2   -1\n",
       "3    0\n",
       "4    1\n",
       "5    2\n",
       "6    3\n",
       "dtype: int64"
      ]
     },
     "execution_count": 24,
     "metadata": {},
     "output_type": "execute_result"
    }
   ],
   "source": [
    "s"
   ]
  },
  {
   "cell_type": "code",
   "execution_count": 25,
   "id": "ce47cd46",
   "metadata": {},
   "outputs": [
    {
     "data": {
      "text/plain": [
       "4    1\n",
       "5    2\n",
       "6    3\n",
       "dtype: int64"
      ]
     },
     "execution_count": 25,
     "metadata": {},
     "output_type": "execute_result"
    }
   ],
   "source": [
    "s[s > 0]"
   ]
  },
  {
   "cell_type": "markdown",
   "id": "cdbbbebe",
   "metadata": {},
   "source": [
    "#  Indexing with isin"
   ]
  },
  {
   "cell_type": "code",
   "execution_count": 26,
   "id": "60717899",
   "metadata": {},
   "outputs": [],
   "source": [
    "s = pd.Series(np.arange(5), index=np.arange(5)[::-1], dtype='int64')"
   ]
  },
  {
   "cell_type": "code",
   "execution_count": 27,
   "id": "28ea7a0a",
   "metadata": {},
   "outputs": [
    {
     "data": {
      "text/plain": [
       "4    0\n",
       "3    1\n",
       "2    2\n",
       "1    3\n",
       "0    4\n",
       "dtype: int64"
      ]
     },
     "execution_count": 27,
     "metadata": {},
     "output_type": "execute_result"
    }
   ],
   "source": [
    "s"
   ]
  },
  {
   "cell_type": "code",
   "execution_count": 28,
   "id": "a5f11f70",
   "metadata": {},
   "outputs": [
    {
     "data": {
      "text/plain": [
       "4    False\n",
       "3    False\n",
       "2     True\n",
       "1    False\n",
       "0     True\n",
       "dtype: bool"
      ]
     },
     "execution_count": 28,
     "metadata": {},
     "output_type": "execute_result"
    }
   ],
   "source": [
    "s.isin([2, 4, 6])"
   ]
  },
  {
   "cell_type": "markdown",
   "id": "f7efd4d2",
   "metadata": {},
   "source": [
    "#  The where() Method and Masking"
   ]
  },
  {
   "cell_type": "code",
   "execution_count": 29,
   "id": "6d1ef570",
   "metadata": {},
   "outputs": [
    {
     "data": {
      "text/plain": [
       "3    1\n",
       "2    2\n",
       "1    3\n",
       "0    4\n",
       "dtype: int64"
      ]
     },
     "execution_count": 29,
     "metadata": {},
     "output_type": "execute_result"
    }
   ],
   "source": [
    "s[s > 0]"
   ]
  },
  {
   "cell_type": "code",
   "execution_count": 30,
   "id": "cabc3595",
   "metadata": {},
   "outputs": [
    {
     "data": {
      "text/plain": [
       "4    NaN\n",
       "3    1.0\n",
       "2    2.0\n",
       "1    3.0\n",
       "0    4.0\n",
       "dtype: float64"
      ]
     },
     "execution_count": 30,
     "metadata": {},
     "output_type": "execute_result"
    }
   ],
   "source": [
    "s.where(s>0)"
   ]
  },
  {
   "cell_type": "markdown",
   "id": "a9f982b8",
   "metadata": {},
   "source": [
    "#   Duplicate data"
   ]
  },
  {
   "cell_type": "code",
   "execution_count": 31,
   "id": "dc180d13",
   "metadata": {},
   "outputs": [],
   "source": [
    "df2 = pd.DataFrame({'a': ['one', 'one', 'two', 'two', 'two', 'three', 'four'],\n",
    "                    'b': ['x', 'y', 'x', 'y', 'x', 'x', 'x'],\n",
    "                    'c': np.random.randn(7)})"
   ]
  },
  {
   "cell_type": "code",
   "execution_count": 32,
   "id": "4aa643fb",
   "metadata": {},
   "outputs": [
    {
     "data": {
      "application/vnd.microsoft.datawrangler.viewer.v0+json": {
       "columns": [
        {
         "name": "index",
         "rawType": "int64",
         "type": "integer"
        },
        {
         "name": "a",
         "rawType": "object",
         "type": "string"
        },
        {
         "name": "b",
         "rawType": "object",
         "type": "string"
        },
        {
         "name": "c",
         "rawType": "float64",
         "type": "float"
        }
       ],
       "conversionMethod": "pd.DataFrame",
       "ref": "f5292eba-8ecd-4872-b756-ebe754956006",
       "rows": [
        [
         "0",
         "one",
         "x",
         "-0.22318161454245866"
        ],
        [
         "1",
         "one",
         "y",
         "-1.6573054462845378"
        ],
        [
         "2",
         "two",
         "x",
         "0.5546937759686034"
        ],
        [
         "3",
         "two",
         "y",
         "-2.206237046719464"
        ],
        [
         "4",
         "two",
         "x",
         "2.2054366889429162"
        ],
        [
         "5",
         "three",
         "x",
         "-0.062400397705985745"
        ],
        [
         "6",
         "four",
         "x",
         "-1.406526900911281"
        ]
       ],
       "shape": {
        "columns": 3,
        "rows": 7
       }
      },
      "text/html": [
       "<div>\n",
       "<style scoped>\n",
       "    .dataframe tbody tr th:only-of-type {\n",
       "        vertical-align: middle;\n",
       "    }\n",
       "\n",
       "    .dataframe tbody tr th {\n",
       "        vertical-align: top;\n",
       "    }\n",
       "\n",
       "    .dataframe thead th {\n",
       "        text-align: right;\n",
       "    }\n",
       "</style>\n",
       "<table border=\"1\" class=\"dataframe\">\n",
       "  <thead>\n",
       "    <tr style=\"text-align: right;\">\n",
       "      <th></th>\n",
       "      <th>a</th>\n",
       "      <th>b</th>\n",
       "      <th>c</th>\n",
       "    </tr>\n",
       "  </thead>\n",
       "  <tbody>\n",
       "    <tr>\n",
       "      <th>0</th>\n",
       "      <td>one</td>\n",
       "      <td>x</td>\n",
       "      <td>-0.223182</td>\n",
       "    </tr>\n",
       "    <tr>\n",
       "      <th>1</th>\n",
       "      <td>one</td>\n",
       "      <td>y</td>\n",
       "      <td>-1.657305</td>\n",
       "    </tr>\n",
       "    <tr>\n",
       "      <th>2</th>\n",
       "      <td>two</td>\n",
       "      <td>x</td>\n",
       "      <td>0.554694</td>\n",
       "    </tr>\n",
       "    <tr>\n",
       "      <th>3</th>\n",
       "      <td>two</td>\n",
       "      <td>y</td>\n",
       "      <td>-2.206237</td>\n",
       "    </tr>\n",
       "    <tr>\n",
       "      <th>4</th>\n",
       "      <td>two</td>\n",
       "      <td>x</td>\n",
       "      <td>2.205437</td>\n",
       "    </tr>\n",
       "    <tr>\n",
       "      <th>5</th>\n",
       "      <td>three</td>\n",
       "      <td>x</td>\n",
       "      <td>-0.062400</td>\n",
       "    </tr>\n",
       "    <tr>\n",
       "      <th>6</th>\n",
       "      <td>four</td>\n",
       "      <td>x</td>\n",
       "      <td>-1.406527</td>\n",
       "    </tr>\n",
       "  </tbody>\n",
       "</table>\n",
       "</div>"
      ],
      "text/plain": [
       "       a  b         c\n",
       "0    one  x -0.223182\n",
       "1    one  y -1.657305\n",
       "2    two  x  0.554694\n",
       "3    two  y -2.206237\n",
       "4    two  x  2.205437\n",
       "5  three  x -0.062400\n",
       "6   four  x -1.406527"
      ]
     },
     "execution_count": 32,
     "metadata": {},
     "output_type": "execute_result"
    }
   ],
   "source": [
    "df2"
   ]
  },
  {
   "cell_type": "code",
   "execution_count": 33,
   "id": "3f3ae06b",
   "metadata": {},
   "outputs": [
    {
     "data": {
      "text/plain": [
       "0    False\n",
       "1     True\n",
       "2    False\n",
       "3     True\n",
       "4     True\n",
       "5    False\n",
       "6    False\n",
       "dtype: bool"
      ]
     },
     "execution_count": 33,
     "metadata": {},
     "output_type": "execute_result"
    }
   ],
   "source": [
    "df2.duplicated('a')"
   ]
  },
  {
   "cell_type": "markdown",
   "id": "a6ef7cc8",
   "metadata": {},
   "source": [
    "duplicated returns a boolean vector whose length is the number of rows, and which indicates whether a row is duplicated."
   ]
  },
  {
   "cell_type": "markdown",
   "id": "4563d336",
   "metadata": {},
   "source": [
    "By default, the first observed row of a duplicate set is considered unique, but each method has a keep parameter to specify targets to be kept.\n",
    "\n",
    "keep='first' (default): mark / drop duplicates except for the first occurrence.\n",
    "\n",
    "keep='last': mark / drop duplicates except for the last occurrence.\n",
    "\n",
    "keep=False: mark / drop all duplicates."
   ]
  },
  {
   "cell_type": "code",
   "execution_count": 34,
   "id": "da1493ab",
   "metadata": {},
   "outputs": [
    {
     "data": {
      "text/plain": [
       "0     True\n",
       "1    False\n",
       "2     True\n",
       "3     True\n",
       "4    False\n",
       "5    False\n",
       "6    False\n",
       "dtype: bool"
      ]
     },
     "execution_count": 34,
     "metadata": {},
     "output_type": "execute_result"
    }
   ],
   "source": [
    "df2.duplicated('a', keep='last')"
   ]
  },
  {
   "cell_type": "code",
   "execution_count": 35,
   "id": "ea1a1cd1",
   "metadata": {},
   "outputs": [
    {
     "data": {
      "text/plain": [
       "0     True\n",
       "1     True\n",
       "2     True\n",
       "3     True\n",
       "4     True\n",
       "5    False\n",
       "6    False\n",
       "dtype: bool"
      ]
     },
     "execution_count": 35,
     "metadata": {},
     "output_type": "execute_result"
    }
   ],
   "source": [
    "df2.duplicated('a', keep=False)"
   ]
  },
  {
   "cell_type": "markdown",
   "id": "86ed1a40",
   "metadata": {},
   "source": [
    "To drop duplicate the values "
   ]
  },
  {
   "cell_type": "code",
   "execution_count": 36,
   "id": "70ec4c7f",
   "metadata": {},
   "outputs": [
    {
     "data": {
      "application/vnd.microsoft.datawrangler.viewer.v0+json": {
       "columns": [
        {
         "name": "index",
         "rawType": "int64",
         "type": "integer"
        },
        {
         "name": "a",
         "rawType": "object",
         "type": "string"
        },
        {
         "name": "b",
         "rawType": "object",
         "type": "string"
        },
        {
         "name": "c",
         "rawType": "float64",
         "type": "float"
        }
       ],
       "conversionMethod": "pd.DataFrame",
       "ref": "0b18e46e-6e6b-4ff8-8385-843ced2e94c1",
       "rows": [
        [
         "0",
         "one",
         "x",
         "-0.22318161454245866"
        ],
        [
         "2",
         "two",
         "x",
         "0.5546937759686034"
        ],
        [
         "5",
         "three",
         "x",
         "-0.062400397705985745"
        ],
        [
         "6",
         "four",
         "x",
         "-1.406526900911281"
        ]
       ],
       "shape": {
        "columns": 3,
        "rows": 4
       }
      },
      "text/html": [
       "<div>\n",
       "<style scoped>\n",
       "    .dataframe tbody tr th:only-of-type {\n",
       "        vertical-align: middle;\n",
       "    }\n",
       "\n",
       "    .dataframe tbody tr th {\n",
       "        vertical-align: top;\n",
       "    }\n",
       "\n",
       "    .dataframe thead th {\n",
       "        text-align: right;\n",
       "    }\n",
       "</style>\n",
       "<table border=\"1\" class=\"dataframe\">\n",
       "  <thead>\n",
       "    <tr style=\"text-align: right;\">\n",
       "      <th></th>\n",
       "      <th>a</th>\n",
       "      <th>b</th>\n",
       "      <th>c</th>\n",
       "    </tr>\n",
       "  </thead>\n",
       "  <tbody>\n",
       "    <tr>\n",
       "      <th>0</th>\n",
       "      <td>one</td>\n",
       "      <td>x</td>\n",
       "      <td>-0.223182</td>\n",
       "    </tr>\n",
       "    <tr>\n",
       "      <th>2</th>\n",
       "      <td>two</td>\n",
       "      <td>x</td>\n",
       "      <td>0.554694</td>\n",
       "    </tr>\n",
       "    <tr>\n",
       "      <th>5</th>\n",
       "      <td>three</td>\n",
       "      <td>x</td>\n",
       "      <td>-0.062400</td>\n",
       "    </tr>\n",
       "    <tr>\n",
       "      <th>6</th>\n",
       "      <td>four</td>\n",
       "      <td>x</td>\n",
       "      <td>-1.406527</td>\n",
       "    </tr>\n",
       "  </tbody>\n",
       "</table>\n",
       "</div>"
      ],
      "text/plain": [
       "       a  b         c\n",
       "0    one  x -0.223182\n",
       "2    two  x  0.554694\n",
       "5  three  x -0.062400\n",
       "6   four  x -1.406527"
      ]
     },
     "execution_count": 36,
     "metadata": {},
     "output_type": "execute_result"
    }
   ],
   "source": [
    "df2.drop_duplicates('a')"
   ]
  },
  {
   "cell_type": "markdown",
   "id": "9f85bf8c",
   "metadata": {},
   "source": [
    "#  Dictionary-like get() method"
   ]
  },
  {
   "cell_type": "code",
   "execution_count": 37,
   "id": "6d789230",
   "metadata": {},
   "outputs": [],
   "source": [
    "s = pd.Series([1, 2, 3], index=['a', 'b', 'c'])"
   ]
  },
  {
   "cell_type": "code",
   "execution_count": 38,
   "id": "5f158fbd",
   "metadata": {},
   "outputs": [
    {
     "data": {
      "text/plain": [
       "a    1\n",
       "b    2\n",
       "c    3\n",
       "dtype: int64"
      ]
     },
     "execution_count": 38,
     "metadata": {},
     "output_type": "execute_result"
    }
   ],
   "source": [
    "s"
   ]
  },
  {
   "cell_type": "markdown",
   "id": "36abe1e4",
   "metadata": {},
   "source": [
    "#  Merge, join, concatenate and compare"
   ]
  },
  {
   "cell_type": "markdown",
   "id": "0c2a61dc",
   "metadata": {},
   "source": [
    "concat()"
   ]
  },
  {
   "cell_type": "code",
   "execution_count": 39,
   "id": "22b57c20",
   "metadata": {},
   "outputs": [],
   "source": [
    "df1 = pd.DataFrame(\n",
    "    {\n",
    "        \"A\": [\"A0\", \"A1\", \"A2\", \"A3\"],\n",
    "        \"B\": [\"B0\", \"B1\", \"B2\", \"B3\"],\n",
    "        \"C\": [\"C0\", \"C1\", \"C2\", \"C3\"],\n",
    "        \"D\": [\"D0\", \"D1\", \"D2\", \"D3\"],\n",
    "    },\n",
    "    index=[0, 1, 2, 3],\n",
    ")"
   ]
  },
  {
   "cell_type": "code",
   "execution_count": 40,
   "id": "7045ca5d",
   "metadata": {},
   "outputs": [],
   "source": [
    "df2 = pd.DataFrame(\n",
    "    {\n",
    "        \"A\": [\"A4\", \"A5\", \"A6\", \"A7\"],\n",
    "        \"B\": [\"B4\", \"B5\", \"B6\", \"B7\"],\n",
    "        \"C\": [\"C4\", \"C5\", \"C6\", \"C7\"],\n",
    "        \"D\": [\"D4\", \"D5\", \"D6\", \"D7\"],\n",
    "    },\n",
    "    index=[4, 5, 6, 7],\n",
    ")"
   ]
  },
  {
   "cell_type": "code",
   "execution_count": 41,
   "id": "f68fa8f5",
   "metadata": {},
   "outputs": [],
   "source": [
    "\n",
    "df3 = pd.DataFrame(\n",
    "    {\n",
    "        \"A\": [\"A8\", \"A9\", \"A10\", \"A11\"],\n",
    "        \"B\": [\"B8\", \"B9\", \"B10\", \"B11\"],\n",
    "        \"C\": [\"C8\", \"C9\", \"C10\", \"C11\"],\n",
    "        \"D\": [\"D8\", \"D9\", \"D10\", \"D11\"],\n",
    "    },\n",
    "    index=[8, 9, 10, 11],\n",
    ")\n"
   ]
  },
  {
   "cell_type": "code",
   "execution_count": 43,
   "id": "e6c1b1b9",
   "metadata": {},
   "outputs": [
    {
     "data": {
      "text/plain": [
       "[    A   B   C   D\n",
       " 0  A0  B0  C0  D0\n",
       " 1  A1  B1  C1  D1\n",
       " 2  A2  B2  C2  D2\n",
       " 3  A3  B3  C3  D3,\n",
       "     A   B   C   D\n",
       " 4  A4  B4  C4  D4\n",
       " 5  A5  B5  C5  D5\n",
       " 6  A6  B6  C6  D6\n",
       " 7  A7  B7  C7  D7,\n",
       "       A    B    C    D\n",
       " 8    A8   B8   C8   D8\n",
       " 9    A9   B9   C9   D9\n",
       " 10  A10  B10  C10  D10\n",
       " 11  A11  B11  C11  D11]"
      ]
     },
     "execution_count": 43,
     "metadata": {},
     "output_type": "execute_result"
    }
   ],
   "source": [
    "frames = [df1, df2, df3]\n",
    "frames"
   ]
  },
  {
   "cell_type": "code",
   "execution_count": 44,
   "id": "e937bfca",
   "metadata": {},
   "outputs": [],
   "source": [
    "result = pd.concat(frames)"
   ]
  },
  {
   "cell_type": "code",
   "execution_count": null,
   "id": "f54a9f6b",
   "metadata": {},
   "outputs": [
    {
     "data": {
      "application/vnd.microsoft.datawrangler.viewer.v0+json": {
       "columns": [
        {
         "name": "index",
         "rawType": "int64",
         "type": "integer"
        },
        {
         "name": "A",
         "rawType": "object",
         "type": "string"
        },
        {
         "name": "B",
         "rawType": "object",
         "type": "string"
        },
        {
         "name": "C",
         "rawType": "object",
         "type": "string"
        },
        {
         "name": "D",
         "rawType": "object",
         "type": "string"
        }
       ],
       "conversionMethod": "pd.DataFrame",
       "ref": "eba25048-e561-4197-8cc2-5e10dcc0787e",
       "rows": [
        [
         "0",
         "A0",
         "B0",
         "C0",
         "D0"
        ],
        [
         "1",
         "A1",
         "B1",
         "C1",
         "D1"
        ],
        [
         "2",
         "A2",
         "B2",
         "C2",
         "D2"
        ],
        [
         "3",
         "A3",
         "B3",
         "C3",
         "D3"
        ],
        [
         "4",
         "A4",
         "B4",
         "C4",
         "D4"
        ],
        [
         "5",
         "A5",
         "B5",
         "C5",
         "D5"
        ],
        [
         "6",
         "A6",
         "B6",
         "C6",
         "D6"
        ],
        [
         "7",
         "A7",
         "B7",
         "C7",
         "D7"
        ],
        [
         "8",
         "A8",
         "B8",
         "C8",
         "D8"
        ],
        [
         "9",
         "A9",
         "B9",
         "C9",
         "D9"
        ],
        [
         "10",
         "A10",
         "B10",
         "C10",
         "D10"
        ],
        [
         "11",
         "A11",
         "B11",
         "C11",
         "D11"
        ]
       ],
       "shape": {
        "columns": 4,
        "rows": 12
       }
      },
      "text/html": [
       "<div>\n",
       "<style scoped>\n",
       "    .dataframe tbody tr th:only-of-type {\n",
       "        vertical-align: middle;\n",
       "    }\n",
       "\n",
       "    .dataframe tbody tr th {\n",
       "        vertical-align: top;\n",
       "    }\n",
       "\n",
       "    .dataframe thead th {\n",
       "        text-align: right;\n",
       "    }\n",
       "</style>\n",
       "<table border=\"1\" class=\"dataframe\">\n",
       "  <thead>\n",
       "    <tr style=\"text-align: right;\">\n",
       "      <th></th>\n",
       "      <th>A</th>\n",
       "      <th>B</th>\n",
       "      <th>C</th>\n",
       "      <th>D</th>\n",
       "    </tr>\n",
       "  </thead>\n",
       "  <tbody>\n",
       "    <tr>\n",
       "      <th>0</th>\n",
       "      <td>A0</td>\n",
       "      <td>B0</td>\n",
       "      <td>C0</td>\n",
       "      <td>D0</td>\n",
       "    </tr>\n",
       "    <tr>\n",
       "      <th>1</th>\n",
       "      <td>A1</td>\n",
       "      <td>B1</td>\n",
       "      <td>C1</td>\n",
       "      <td>D1</td>\n",
       "    </tr>\n",
       "    <tr>\n",
       "      <th>2</th>\n",
       "      <td>A2</td>\n",
       "      <td>B2</td>\n",
       "      <td>C2</td>\n",
       "      <td>D2</td>\n",
       "    </tr>\n",
       "    <tr>\n",
       "      <th>3</th>\n",
       "      <td>A3</td>\n",
       "      <td>B3</td>\n",
       "      <td>C3</td>\n",
       "      <td>D3</td>\n",
       "    </tr>\n",
       "    <tr>\n",
       "      <th>4</th>\n",
       "      <td>A4</td>\n",
       "      <td>B4</td>\n",
       "      <td>C4</td>\n",
       "      <td>D4</td>\n",
       "    </tr>\n",
       "    <tr>\n",
       "      <th>5</th>\n",
       "      <td>A5</td>\n",
       "      <td>B5</td>\n",
       "      <td>C5</td>\n",
       "      <td>D5</td>\n",
       "    </tr>\n",
       "    <tr>\n",
       "      <th>6</th>\n",
       "      <td>A6</td>\n",
       "      <td>B6</td>\n",
       "      <td>C6</td>\n",
       "      <td>D6</td>\n",
       "    </tr>\n",
       "    <tr>\n",
       "      <th>7</th>\n",
       "      <td>A7</td>\n",
       "      <td>B7</td>\n",
       "      <td>C7</td>\n",
       "      <td>D7</td>\n",
       "    </tr>\n",
       "    <tr>\n",
       "      <th>8</th>\n",
       "      <td>A8</td>\n",
       "      <td>B8</td>\n",
       "      <td>C8</td>\n",
       "      <td>D8</td>\n",
       "    </tr>\n",
       "    <tr>\n",
       "      <th>9</th>\n",
       "      <td>A9</td>\n",
       "      <td>B9</td>\n",
       "      <td>C9</td>\n",
       "      <td>D9</td>\n",
       "    </tr>\n",
       "    <tr>\n",
       "      <th>10</th>\n",
       "      <td>A10</td>\n",
       "      <td>B10</td>\n",
       "      <td>C10</td>\n",
       "      <td>D10</td>\n",
       "    </tr>\n",
       "    <tr>\n",
       "      <th>11</th>\n",
       "      <td>A11</td>\n",
       "      <td>B11</td>\n",
       "      <td>C11</td>\n",
       "      <td>D11</td>\n",
       "    </tr>\n",
       "  </tbody>\n",
       "</table>\n",
       "</div>"
      ],
      "text/plain": [
       "      A    B    C    D\n",
       "0    A0   B0   C0   D0\n",
       "1    A1   B1   C1   D1\n",
       "2    A2   B2   C2   D2\n",
       "3    A3   B3   C3   D3\n",
       "4    A4   B4   C4   D4\n",
       "5    A5   B5   C5   D5\n",
       "6    A6   B6   C6   D6\n",
       "7    A7   B7   C7   D7\n",
       "8    A8   B8   C8   D8\n",
       "9    A9   B9   C9   D9\n",
       "10  A10  B10  C10  D10\n",
       "11  A11  B11  C11  D11"
      ]
     },
     "execution_count": 45,
     "metadata": {},
     "output_type": "execute_result"
    },
    {
     "ename": "",
     "evalue": "",
     "output_type": "error",
     "traceback": [
      "\u001b[1;31mThe Kernel crashed while executing code in the current cell or a previous cell. \n",
      "\u001b[1;31mPlease review the code in the cell(s) to identify a possible cause of the failure. \n",
      "\u001b[1;31mClick <a href='https://aka.ms/vscodeJupyterKernelCrash'>here</a> for more info. \n",
      "\u001b[1;31mView Jupyter <a href='command:jupyter.viewOutput'>log</a> for further details."
     ]
    }
   ],
   "source": [
    "result"
   ]
  },
  {
   "cell_type": "code",
   "execution_count": null,
   "id": "75b5e6a0",
   "metadata": {},
   "outputs": [],
   "source": []
  }
 ],
 "metadata": {
  "kernelspec": {
   "display_name": "Python 3",
   "language": "python",
   "name": "python3"
  },
  "language_info": {
   "codemirror_mode": {
    "name": "ipython",
    "version": 3
   },
   "file_extension": ".py",
   "mimetype": "text/x-python",
   "name": "python",
   "nbconvert_exporter": "python",
   "pygments_lexer": "ipython3",
   "version": "3.11.9"
  }
 },
 "nbformat": 4,
 "nbformat_minor": 5
}
