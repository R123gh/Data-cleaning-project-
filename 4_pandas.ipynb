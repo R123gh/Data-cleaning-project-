{
 "cells": [
  {
   "cell_type": "code",
   "execution_count": 2,
   "id": "1b7e3f7f",
   "metadata": {},
   "outputs": [],
   "source": [
    "import pandas as pd  \n",
    "import numpy as np "
   ]
  },
  {
   "cell_type": "markdown",
   "id": "21e53508",
   "metadata": {},
   "source": [
    "#   How to convert the dataframe into csv file "
   ]
  },
  {
   "cell_type": "code",
   "execution_count": 3,
   "id": "fabc0b88",
   "metadata": {},
   "outputs": [],
   "source": [
    "df = pd.DataFrame(np.random.rand(5,5),index = ['0','1','2','3','4'])"
   ]
  },
  {
   "cell_type": "code",
   "execution_count": 4,
   "id": "191c032c",
   "metadata": {},
   "outputs": [],
   "source": [
    "df.columns = ['a','b','c','d','e']"
   ]
  },
  {
   "cell_type": "code",
   "execution_count": 5,
   "id": "5d30bfd5",
   "metadata": {},
   "outputs": [
    {
     "data": {
      "application/vnd.microsoft.datawrangler.viewer.v0+json": {
       "columns": [
        {
         "name": "index",
         "rawType": "object",
         "type": "string"
        },
        {
         "name": "a",
         "rawType": "float64",
         "type": "float"
        },
        {
         "name": "b",
         "rawType": "float64",
         "type": "float"
        },
        {
         "name": "c",
         "rawType": "float64",
         "type": "float"
        },
        {
         "name": "d",
         "rawType": "float64",
         "type": "float"
        },
        {
         "name": "e",
         "rawType": "float64",
         "type": "float"
        }
       ],
       "conversionMethod": "pd.DataFrame",
       "ref": "0fbeeacf-9798-4985-b618-6278efba0a49",
       "rows": [
        [
         "0",
         "0.4921355543711914",
         "0.8900668941139805",
         "0.04257223697933077",
         "0.443506974818201",
         "0.26555480759449057"
        ],
        [
         "1",
         "0.6258317017408369",
         "0.05681326377013729",
         "0.587202627359027",
         "0.6283672912867907",
         "0.39353794539600373"
        ],
        [
         "2",
         "0.8533604909712235",
         "0.08238642177292899",
         "0.08340564290854302",
         "0.9604813469778252",
         "0.4450017271797866"
        ],
        [
         "3",
         "0.024057914785615364",
         "0.6828308169927944",
         "0.7019442961210937",
         "0.19287925252148996",
         "0.36610138024243033"
        ],
        [
         "4",
         "0.884526719537432",
         "0.9320624908287414",
         "0.565317037984373",
         "0.5169496120701602",
         "0.2584218914227081"
        ]
       ],
       "shape": {
        "columns": 5,
        "rows": 5
       }
      },
      "text/html": [
       "<div>\n",
       "<style scoped>\n",
       "    .dataframe tbody tr th:only-of-type {\n",
       "        vertical-align: middle;\n",
       "    }\n",
       "\n",
       "    .dataframe tbody tr th {\n",
       "        vertical-align: top;\n",
       "    }\n",
       "\n",
       "    .dataframe thead th {\n",
       "        text-align: right;\n",
       "    }\n",
       "</style>\n",
       "<table border=\"1\" class=\"dataframe\">\n",
       "  <thead>\n",
       "    <tr style=\"text-align: right;\">\n",
       "      <th></th>\n",
       "      <th>a</th>\n",
       "      <th>b</th>\n",
       "      <th>c</th>\n",
       "      <th>d</th>\n",
       "      <th>e</th>\n",
       "    </tr>\n",
       "  </thead>\n",
       "  <tbody>\n",
       "    <tr>\n",
       "      <th>0</th>\n",
       "      <td>0.492136</td>\n",
       "      <td>0.890067</td>\n",
       "      <td>0.042572</td>\n",
       "      <td>0.443507</td>\n",
       "      <td>0.265555</td>\n",
       "    </tr>\n",
       "    <tr>\n",
       "      <th>1</th>\n",
       "      <td>0.625832</td>\n",
       "      <td>0.056813</td>\n",
       "      <td>0.587203</td>\n",
       "      <td>0.628367</td>\n",
       "      <td>0.393538</td>\n",
       "    </tr>\n",
       "    <tr>\n",
       "      <th>2</th>\n",
       "      <td>0.853360</td>\n",
       "      <td>0.082386</td>\n",
       "      <td>0.083406</td>\n",
       "      <td>0.960481</td>\n",
       "      <td>0.445002</td>\n",
       "    </tr>\n",
       "    <tr>\n",
       "      <th>3</th>\n",
       "      <td>0.024058</td>\n",
       "      <td>0.682831</td>\n",
       "      <td>0.701944</td>\n",
       "      <td>0.192879</td>\n",
       "      <td>0.366101</td>\n",
       "    </tr>\n",
       "    <tr>\n",
       "      <th>4</th>\n",
       "      <td>0.884527</td>\n",
       "      <td>0.932062</td>\n",
       "      <td>0.565317</td>\n",
       "      <td>0.516950</td>\n",
       "      <td>0.258422</td>\n",
       "    </tr>\n",
       "  </tbody>\n",
       "</table>\n",
       "</div>"
      ],
      "text/plain": [
       "          a         b         c         d         e\n",
       "0  0.492136  0.890067  0.042572  0.443507  0.265555\n",
       "1  0.625832  0.056813  0.587203  0.628367  0.393538\n",
       "2  0.853360  0.082386  0.083406  0.960481  0.445002\n",
       "3  0.024058  0.682831  0.701944  0.192879  0.366101\n",
       "4  0.884527  0.932062  0.565317  0.516950  0.258422"
      ]
     },
     "execution_count": 5,
     "metadata": {},
     "output_type": "execute_result"
    }
   ],
   "source": [
    "df"
   ]
  },
  {
   "cell_type": "markdown",
   "id": "4ae6e440",
   "metadata": {},
   "source": [
    "Dataframe -----------> CSV "
   ]
  },
  {
   "cell_type": "code",
   "execution_count": 6,
   "id": "285ff734",
   "metadata": {},
   "outputs": [],
   "source": [
    "df.to_csv(\"My_file.csv\")"
   ]
  },
  {
   "cell_type": "markdown",
   "id": "98e1d3f0",
   "metadata": {},
   "source": [
    "#  To read csv file "
   ]
  },
  {
   "cell_type": "code",
   "execution_count": 7,
   "id": "82fae0d7",
   "metadata": {},
   "outputs": [
    {
     "data": {
      "application/vnd.microsoft.datawrangler.viewer.v0+json": {
       "columns": [
        {
         "name": "index",
         "rawType": "int64",
         "type": "integer"
        },
        {
         "name": "Unnamed: 0",
         "rawType": "int64",
         "type": "integer"
        },
        {
         "name": "a",
         "rawType": "float64",
         "type": "float"
        },
        {
         "name": "b",
         "rawType": "float64",
         "type": "float"
        },
        {
         "name": "c",
         "rawType": "float64",
         "type": "float"
        },
        {
         "name": "d",
         "rawType": "float64",
         "type": "float"
        },
        {
         "name": "e",
         "rawType": "float64",
         "type": "float"
        }
       ],
       "conversionMethod": "pd.DataFrame",
       "ref": "19cd3af9-47c7-4bc0-aadd-53711d77d9af",
       "rows": [
        [
         "0",
         "0",
         "0.4921355543711914",
         "0.8900668941139805",
         "0.0425722369793307",
         "0.443506974818201",
         "0.2655548075944905"
        ],
        [
         "1",
         "1",
         "0.6258317017408369",
         "0.0568132637701372",
         "0.587202627359027",
         "0.6283672912867907",
         "0.3935379453960037"
        ],
        [
         "2",
         "2",
         "0.8533604909712235",
         "0.0823864217729289",
         "0.083405642908543",
         "0.9604813469778252",
         "0.4450017271797866"
        ],
        [
         "3",
         "3",
         "0.0240579147856153",
         "0.6828308169927944",
         "0.7019442961210937",
         "0.1928792525214899",
         "0.3661013802424303"
        ],
        [
         "4",
         "4",
         "0.884526719537432",
         "0.9320624908287414",
         "0.565317037984373",
         "0.5169496120701602",
         "0.2584218914227081"
        ]
       ],
       "shape": {
        "columns": 6,
        "rows": 5
       }
      },
      "text/html": [
       "<div>\n",
       "<style scoped>\n",
       "    .dataframe tbody tr th:only-of-type {\n",
       "        vertical-align: middle;\n",
       "    }\n",
       "\n",
       "    .dataframe tbody tr th {\n",
       "        vertical-align: top;\n",
       "    }\n",
       "\n",
       "    .dataframe thead th {\n",
       "        text-align: right;\n",
       "    }\n",
       "</style>\n",
       "<table border=\"1\" class=\"dataframe\">\n",
       "  <thead>\n",
       "    <tr style=\"text-align: right;\">\n",
       "      <th></th>\n",
       "      <th>Unnamed: 0</th>\n",
       "      <th>a</th>\n",
       "      <th>b</th>\n",
       "      <th>c</th>\n",
       "      <th>d</th>\n",
       "      <th>e</th>\n",
       "    </tr>\n",
       "  </thead>\n",
       "  <tbody>\n",
       "    <tr>\n",
       "      <th>0</th>\n",
       "      <td>0</td>\n",
       "      <td>0.492136</td>\n",
       "      <td>0.890067</td>\n",
       "      <td>0.042572</td>\n",
       "      <td>0.443507</td>\n",
       "      <td>0.265555</td>\n",
       "    </tr>\n",
       "    <tr>\n",
       "      <th>1</th>\n",
       "      <td>1</td>\n",
       "      <td>0.625832</td>\n",
       "      <td>0.056813</td>\n",
       "      <td>0.587203</td>\n",
       "      <td>0.628367</td>\n",
       "      <td>0.393538</td>\n",
       "    </tr>\n",
       "    <tr>\n",
       "      <th>2</th>\n",
       "      <td>2</td>\n",
       "      <td>0.853360</td>\n",
       "      <td>0.082386</td>\n",
       "      <td>0.083406</td>\n",
       "      <td>0.960481</td>\n",
       "      <td>0.445002</td>\n",
       "    </tr>\n",
       "    <tr>\n",
       "      <th>3</th>\n",
       "      <td>3</td>\n",
       "      <td>0.024058</td>\n",
       "      <td>0.682831</td>\n",
       "      <td>0.701944</td>\n",
       "      <td>0.192879</td>\n",
       "      <td>0.366101</td>\n",
       "    </tr>\n",
       "    <tr>\n",
       "      <th>4</th>\n",
       "      <td>4</td>\n",
       "      <td>0.884527</td>\n",
       "      <td>0.932062</td>\n",
       "      <td>0.565317</td>\n",
       "      <td>0.516950</td>\n",
       "      <td>0.258422</td>\n",
       "    </tr>\n",
       "  </tbody>\n",
       "</table>\n",
       "</div>"
      ],
      "text/plain": [
       "   Unnamed: 0         a         b         c         d         e\n",
       "0           0  0.492136  0.890067  0.042572  0.443507  0.265555\n",
       "1           1  0.625832  0.056813  0.587203  0.628367  0.393538\n",
       "2           2  0.853360  0.082386  0.083406  0.960481  0.445002\n",
       "3           3  0.024058  0.682831  0.701944  0.192879  0.366101\n",
       "4           4  0.884527  0.932062  0.565317  0.516950  0.258422"
      ]
     },
     "execution_count": 7,
     "metadata": {},
     "output_type": "execute_result"
    }
   ],
   "source": [
    "pd.read_csv('My_file.csv')"
   ]
  },
  {
   "cell_type": "markdown",
   "id": "f70952df",
   "metadata": {},
   "source": [
    "#  Indexing and selecting data"
   ]
  },
  {
   "cell_type": "code",
   "execution_count": 8,
   "id": "074dc714",
   "metadata": {},
   "outputs": [
    {
     "data": {
      "text/plain": [
       "a    0\n",
       "b    1\n",
       "c    2\n",
       "d    3\n",
       "e    4\n",
       "dtype: int64"
      ]
     },
     "execution_count": 8,
     "metadata": {},
     "output_type": "execute_result"
    }
   ],
   "source": [
    "ser = pd.Series(range(5), index=list(\"abcde\"))\n",
    "ser"
   ]
  },
  {
   "cell_type": "markdown",
   "id": "84806032",
   "metadata": {},
   "source": [
    "To find the elements by using indexing "
   ]
  },
  {
   "cell_type": "code",
   "execution_count": 9,
   "id": "a2af7b88",
   "metadata": {},
   "outputs": [
    {
     "data": {
      "text/plain": [
       "a    0\n",
       "c    2\n",
       "e    4\n",
       "dtype: int64"
      ]
     },
     "execution_count": 9,
     "metadata": {},
     "output_type": "execute_result"
    }
   ],
   "source": [
    "ser.loc[['a','c','e']]"
   ]
  },
  {
   "cell_type": "code",
   "execution_count": 10,
   "id": "8f19f3f8",
   "metadata": {},
   "outputs": [],
   "source": [
    "df = pd.DataFrame(np.arange(25).reshape(5, 5), index=list(\"abcde\"), columns=list(\"abcde\"))"
   ]
  },
  {
   "cell_type": "code",
   "execution_count": 11,
   "id": "f6f22a55",
   "metadata": {},
   "outputs": [
    {
     "data": {
      "application/vnd.microsoft.datawrangler.viewer.v0+json": {
       "columns": [
        {
         "name": "index",
         "rawType": "object",
         "type": "string"
        },
        {
         "name": "a",
         "rawType": "int64",
         "type": "integer"
        },
        {
         "name": "b",
         "rawType": "int64",
         "type": "integer"
        },
        {
         "name": "c",
         "rawType": "int64",
         "type": "integer"
        },
        {
         "name": "d",
         "rawType": "int64",
         "type": "integer"
        },
        {
         "name": "e",
         "rawType": "int64",
         "type": "integer"
        }
       ],
       "conversionMethod": "pd.DataFrame",
       "ref": "3aa69bbd-9d04-4fd9-a2d9-ce3e484d8090",
       "rows": [
        [
         "a",
         "0",
         "1",
         "2",
         "3",
         "4"
        ],
        [
         "b",
         "5",
         "6",
         "7",
         "8",
         "9"
        ],
        [
         "c",
         "10",
         "11",
         "12",
         "13",
         "14"
        ],
        [
         "d",
         "15",
         "16",
         "17",
         "18",
         "19"
        ],
        [
         "e",
         "20",
         "21",
         "22",
         "23",
         "24"
        ]
       ],
       "shape": {
        "columns": 5,
        "rows": 5
       }
      },
      "text/html": [
       "<div>\n",
       "<style scoped>\n",
       "    .dataframe tbody tr th:only-of-type {\n",
       "        vertical-align: middle;\n",
       "    }\n",
       "\n",
       "    .dataframe tbody tr th {\n",
       "        vertical-align: top;\n",
       "    }\n",
       "\n",
       "    .dataframe thead th {\n",
       "        text-align: right;\n",
       "    }\n",
       "</style>\n",
       "<table border=\"1\" class=\"dataframe\">\n",
       "  <thead>\n",
       "    <tr style=\"text-align: right;\">\n",
       "      <th></th>\n",
       "      <th>a</th>\n",
       "      <th>b</th>\n",
       "      <th>c</th>\n",
       "      <th>d</th>\n",
       "      <th>e</th>\n",
       "    </tr>\n",
       "  </thead>\n",
       "  <tbody>\n",
       "    <tr>\n",
       "      <th>a</th>\n",
       "      <td>0</td>\n",
       "      <td>1</td>\n",
       "      <td>2</td>\n",
       "      <td>3</td>\n",
       "      <td>4</td>\n",
       "    </tr>\n",
       "    <tr>\n",
       "      <th>b</th>\n",
       "      <td>5</td>\n",
       "      <td>6</td>\n",
       "      <td>7</td>\n",
       "      <td>8</td>\n",
       "      <td>9</td>\n",
       "    </tr>\n",
       "    <tr>\n",
       "      <th>c</th>\n",
       "      <td>10</td>\n",
       "      <td>11</td>\n",
       "      <td>12</td>\n",
       "      <td>13</td>\n",
       "      <td>14</td>\n",
       "    </tr>\n",
       "    <tr>\n",
       "      <th>d</th>\n",
       "      <td>15</td>\n",
       "      <td>16</td>\n",
       "      <td>17</td>\n",
       "      <td>18</td>\n",
       "      <td>19</td>\n",
       "    </tr>\n",
       "    <tr>\n",
       "      <th>e</th>\n",
       "      <td>20</td>\n",
       "      <td>21</td>\n",
       "      <td>22</td>\n",
       "      <td>23</td>\n",
       "      <td>24</td>\n",
       "    </tr>\n",
       "  </tbody>\n",
       "</table>\n",
       "</div>"
      ],
      "text/plain": [
       "    a   b   c   d   e\n",
       "a   0   1   2   3   4\n",
       "b   5   6   7   8   9\n",
       "c  10  11  12  13  14\n",
       "d  15  16  17  18  19\n",
       "e  20  21  22  23  24"
      ]
     },
     "execution_count": 11,
     "metadata": {},
     "output_type": "execute_result"
    }
   ],
   "source": [
    "df"
   ]
  },
  {
   "cell_type": "code",
   "execution_count": 12,
   "id": "4dabb810",
   "metadata": {},
   "outputs": [
    {
     "data": {
      "application/vnd.microsoft.datawrangler.viewer.v0+json": {
       "columns": [
        {
         "name": "index",
         "rawType": "object",
         "type": "string"
        },
        {
         "name": "b",
         "rawType": "int64",
         "type": "integer"
        },
        {
         "name": "d",
         "rawType": "int64",
         "type": "integer"
        }
       ],
       "conversionMethod": "pd.DataFrame",
       "ref": "2d2ec280-0c60-456d-8aaa-558b165156ba",
       "rows": [
        [
         "a",
         "1",
         "3"
        ],
        [
         "c",
         "11",
         "13"
        ],
        [
         "e",
         "21",
         "23"
        ]
       ],
       "shape": {
        "columns": 2,
        "rows": 3
       }
      },
      "text/html": [
       "<div>\n",
       "<style scoped>\n",
       "    .dataframe tbody tr th:only-of-type {\n",
       "        vertical-align: middle;\n",
       "    }\n",
       "\n",
       "    .dataframe tbody tr th {\n",
       "        vertical-align: top;\n",
       "    }\n",
       "\n",
       "    .dataframe thead th {\n",
       "        text-align: right;\n",
       "    }\n",
       "</style>\n",
       "<table border=\"1\" class=\"dataframe\">\n",
       "  <thead>\n",
       "    <tr style=\"text-align: right;\">\n",
       "      <th></th>\n",
       "      <th>b</th>\n",
       "      <th>d</th>\n",
       "    </tr>\n",
       "  </thead>\n",
       "  <tbody>\n",
       "    <tr>\n",
       "      <th>a</th>\n",
       "      <td>1</td>\n",
       "      <td>3</td>\n",
       "    </tr>\n",
       "    <tr>\n",
       "      <th>c</th>\n",
       "      <td>11</td>\n",
       "      <td>13</td>\n",
       "    </tr>\n",
       "    <tr>\n",
       "      <th>e</th>\n",
       "      <td>21</td>\n",
       "      <td>23</td>\n",
       "    </tr>\n",
       "  </tbody>\n",
       "</table>\n",
       "</div>"
      ],
      "text/plain": [
       "    b   d\n",
       "a   1   3\n",
       "c  11  13\n",
       "e  21  23"
      ]
     },
     "execution_count": 12,
     "metadata": {},
     "output_type": "execute_result"
    }
   ],
   "source": [
    "df.loc[[\"a\", \"c\", \"e\"], [\"b\", \"d\"]]"
   ]
  },
  {
   "cell_type": "markdown",
   "id": "00724ad3",
   "metadata": {},
   "source": [
    " # Basics"
   ]
  },
  {
   "cell_type": "markdown",
   "id": "6f5064f4",
   "metadata": {},
   "source": [
    "To create the data in row "
   ]
  },
  {
   "cell_type": "code",
   "execution_count": null,
   "id": "c62e5b1b",
   "metadata": {},
   "outputs": [],
   "source": []
  },
  {
   "cell_type": "code",
   "execution_count": 13,
   "id": "80b6bf93",
   "metadata": {},
   "outputs": [],
   "source": [
    "dates = pd.date_range('30/4/2025', periods=8)"
   ]
  },
  {
   "cell_type": "code",
   "execution_count": 14,
   "id": "29f6923b",
   "metadata": {},
   "outputs": [
    {
     "data": {
      "text/plain": [
       "DatetimeIndex(['2025-04-30', '2025-05-01', '2025-05-02', '2025-05-03',\n",
       "               '2025-05-04', '2025-05-05', '2025-05-06', '2025-05-07'],\n",
       "              dtype='datetime64[ns]', freq='D')"
      ]
     },
     "execution_count": 14,
     "metadata": {},
     "output_type": "execute_result"
    }
   ],
   "source": [
    "dates"
   ]
  },
  {
   "cell_type": "code",
   "execution_count": 15,
   "id": "df5d3e5d",
   "metadata": {},
   "outputs": [],
   "source": [
    "df = pd.DataFrame(np.random.randn(8, 4),\n",
    "                  index=dates, columns=['A', 'B', 'C', 'D'])"
   ]
  },
  {
   "cell_type": "code",
   "execution_count": 16,
   "id": "20122596",
   "metadata": {},
   "outputs": [
    {
     "data": {
      "application/vnd.microsoft.datawrangler.viewer.v0+json": {
       "columns": [
        {
         "name": "index",
         "rawType": "datetime64[ns]",
         "type": "datetime"
        },
        {
         "name": "A",
         "rawType": "float64",
         "type": "float"
        },
        {
         "name": "B",
         "rawType": "float64",
         "type": "float"
        },
        {
         "name": "C",
         "rawType": "float64",
         "type": "float"
        },
        {
         "name": "D",
         "rawType": "float64",
         "type": "float"
        }
       ],
       "conversionMethod": "pd.DataFrame",
       "ref": "37599c34-9b29-45dc-888f-a4b173f27dc3",
       "rows": [
        [
         "2025-04-30 00:00:00",
         "-2.965511444617229",
         "1.2659751164752397",
         "0.08984684867926936",
         "1.2229284604201185"
        ],
        [
         "2025-05-01 00:00:00",
         "-0.13192708186109325",
         "0.7089672484924331",
         "-0.2784607254076844",
         "-0.8664179372135056"
        ],
        [
         "2025-05-02 00:00:00",
         "0.8244589965566083",
         "-0.0185538742103228",
         "1.5502530592826627",
         "-1.7645556797928383"
        ],
        [
         "2025-05-03 00:00:00",
         "-1.050313840030137",
         "-0.8146445191159605",
         "0.2819119909072204",
         "0.4840072554919207"
        ],
        [
         "2025-05-04 00:00:00",
         "-2.218704237951347",
         "-0.9550416188361489",
         "1.374629535219783",
         "-0.17036097063173766"
        ],
        [
         "2025-05-05 00:00:00",
         "0.15150190151098566",
         "1.9546178268104",
         "-0.08933355636589035",
         "0.14260458429147171"
        ],
        [
         "2025-05-06 00:00:00",
         "1.6628117837908274",
         "-1.799188385550402",
         "-1.4859003755566915",
         "-0.5586173669442289"
        ],
        [
         "2025-05-07 00:00:00",
         "1.365167404097415",
         "-1.4613898490287416",
         "-0.7308168694684349",
         "1.2826511947482944"
        ]
       ],
       "shape": {
        "columns": 4,
        "rows": 8
       }
      },
      "text/html": [
       "<div>\n",
       "<style scoped>\n",
       "    .dataframe tbody tr th:only-of-type {\n",
       "        vertical-align: middle;\n",
       "    }\n",
       "\n",
       "    .dataframe tbody tr th {\n",
       "        vertical-align: top;\n",
       "    }\n",
       "\n",
       "    .dataframe thead th {\n",
       "        text-align: right;\n",
       "    }\n",
       "</style>\n",
       "<table border=\"1\" class=\"dataframe\">\n",
       "  <thead>\n",
       "    <tr style=\"text-align: right;\">\n",
       "      <th></th>\n",
       "      <th>A</th>\n",
       "      <th>B</th>\n",
       "      <th>C</th>\n",
       "      <th>D</th>\n",
       "    </tr>\n",
       "  </thead>\n",
       "  <tbody>\n",
       "    <tr>\n",
       "      <th>2025-04-30</th>\n",
       "      <td>-2.965511</td>\n",
       "      <td>1.265975</td>\n",
       "      <td>0.089847</td>\n",
       "      <td>1.222928</td>\n",
       "    </tr>\n",
       "    <tr>\n",
       "      <th>2025-05-01</th>\n",
       "      <td>-0.131927</td>\n",
       "      <td>0.708967</td>\n",
       "      <td>-0.278461</td>\n",
       "      <td>-0.866418</td>\n",
       "    </tr>\n",
       "    <tr>\n",
       "      <th>2025-05-02</th>\n",
       "      <td>0.824459</td>\n",
       "      <td>-0.018554</td>\n",
       "      <td>1.550253</td>\n",
       "      <td>-1.764556</td>\n",
       "    </tr>\n",
       "    <tr>\n",
       "      <th>2025-05-03</th>\n",
       "      <td>-1.050314</td>\n",
       "      <td>-0.814645</td>\n",
       "      <td>0.281912</td>\n",
       "      <td>0.484007</td>\n",
       "    </tr>\n",
       "    <tr>\n",
       "      <th>2025-05-04</th>\n",
       "      <td>-2.218704</td>\n",
       "      <td>-0.955042</td>\n",
       "      <td>1.374630</td>\n",
       "      <td>-0.170361</td>\n",
       "    </tr>\n",
       "    <tr>\n",
       "      <th>2025-05-05</th>\n",
       "      <td>0.151502</td>\n",
       "      <td>1.954618</td>\n",
       "      <td>-0.089334</td>\n",
       "      <td>0.142605</td>\n",
       "    </tr>\n",
       "    <tr>\n",
       "      <th>2025-05-06</th>\n",
       "      <td>1.662812</td>\n",
       "      <td>-1.799188</td>\n",
       "      <td>-1.485900</td>\n",
       "      <td>-0.558617</td>\n",
       "    </tr>\n",
       "    <tr>\n",
       "      <th>2025-05-07</th>\n",
       "      <td>1.365167</td>\n",
       "      <td>-1.461390</td>\n",
       "      <td>-0.730817</td>\n",
       "      <td>1.282651</td>\n",
       "    </tr>\n",
       "  </tbody>\n",
       "</table>\n",
       "</div>"
      ],
      "text/plain": [
       "                   A         B         C         D\n",
       "2025-04-30 -2.965511  1.265975  0.089847  1.222928\n",
       "2025-05-01 -0.131927  0.708967 -0.278461 -0.866418\n",
       "2025-05-02  0.824459 -0.018554  1.550253 -1.764556\n",
       "2025-05-03 -1.050314 -0.814645  0.281912  0.484007\n",
       "2025-05-04 -2.218704 -0.955042  1.374630 -0.170361\n",
       "2025-05-05  0.151502  1.954618 -0.089334  0.142605\n",
       "2025-05-06  1.662812 -1.799188 -1.485900 -0.558617\n",
       "2025-05-07  1.365167 -1.461390 -0.730817  1.282651"
      ]
     },
     "execution_count": 16,
     "metadata": {},
     "output_type": "execute_result"
    }
   ],
   "source": [
    "df"
   ]
  },
  {
   "cell_type": "code",
   "execution_count": 17,
   "id": "323595dc",
   "metadata": {},
   "outputs": [
    {
     "data": {
      "text/plain": [
       "2025-04-30   -2.965511\n",
       "2025-05-01   -0.131927\n",
       "2025-05-02    0.824459\n",
       "2025-05-03   -1.050314\n",
       "2025-05-04   -2.218704\n",
       "2025-05-05    0.151502\n",
       "2025-05-06    1.662812\n",
       "2025-05-07    1.365167\n",
       "Freq: D, Name: A, dtype: float64"
      ]
     },
     "execution_count": 17,
     "metadata": {},
     "output_type": "execute_result"
    }
   ],
   "source": [
    "s = df['A']\n",
    "s"
   ]
  },
  {
   "cell_type": "code",
   "execution_count": 18,
   "id": "4d921f38",
   "metadata": {},
   "outputs": [
    {
     "data": {
      "text/plain": [
       "np.float64(0.15150190151098566)"
      ]
     },
     "execution_count": 18,
     "metadata": {},
     "output_type": "execute_result"
    }
   ],
   "source": [
    "s[dates[5]]"
   ]
  },
  {
   "cell_type": "code",
   "execution_count": 19,
   "id": "3aa03da0",
   "metadata": {},
   "outputs": [],
   "source": [
    "df[['B', 'A']] = df[['A', 'B']]"
   ]
  },
  {
   "cell_type": "code",
   "execution_count": 20,
   "id": "440190b4",
   "metadata": {},
   "outputs": [
    {
     "data": {
      "application/vnd.microsoft.datawrangler.viewer.v0+json": {
       "columns": [
        {
         "name": "index",
         "rawType": "datetime64[ns]",
         "type": "datetime"
        },
        {
         "name": "A",
         "rawType": "float64",
         "type": "float"
        },
        {
         "name": "B",
         "rawType": "float64",
         "type": "float"
        },
        {
         "name": "C",
         "rawType": "float64",
         "type": "float"
        },
        {
         "name": "D",
         "rawType": "float64",
         "type": "float"
        }
       ],
       "conversionMethod": "pd.DataFrame",
       "ref": "dac27c07-f658-47d0-83d1-3fed8880c8fe",
       "rows": [
        [
         "2025-04-30 00:00:00",
         "1.2659751164752397",
         "-2.965511444617229",
         "0.08984684867926936",
         "1.2229284604201185"
        ],
        [
         "2025-05-01 00:00:00",
         "0.7089672484924331",
         "-0.13192708186109325",
         "-0.2784607254076844",
         "-0.8664179372135056"
        ],
        [
         "2025-05-02 00:00:00",
         "-0.0185538742103228",
         "0.8244589965566083",
         "1.5502530592826627",
         "-1.7645556797928383"
        ],
        [
         "2025-05-03 00:00:00",
         "-0.8146445191159605",
         "-1.050313840030137",
         "0.2819119909072204",
         "0.4840072554919207"
        ],
        [
         "2025-05-04 00:00:00",
         "-0.9550416188361489",
         "-2.218704237951347",
         "1.374629535219783",
         "-0.17036097063173766"
        ],
        [
         "2025-05-05 00:00:00",
         "1.9546178268104",
         "0.15150190151098566",
         "-0.08933355636589035",
         "0.14260458429147171"
        ],
        [
         "2025-05-06 00:00:00",
         "-1.799188385550402",
         "1.6628117837908274",
         "-1.4859003755566915",
         "-0.5586173669442289"
        ],
        [
         "2025-05-07 00:00:00",
         "-1.4613898490287416",
         "1.365167404097415",
         "-0.7308168694684349",
         "1.2826511947482944"
        ]
       ],
       "shape": {
        "columns": 4,
        "rows": 8
       }
      },
      "text/html": [
       "<div>\n",
       "<style scoped>\n",
       "    .dataframe tbody tr th:only-of-type {\n",
       "        vertical-align: middle;\n",
       "    }\n",
       "\n",
       "    .dataframe tbody tr th {\n",
       "        vertical-align: top;\n",
       "    }\n",
       "\n",
       "    .dataframe thead th {\n",
       "        text-align: right;\n",
       "    }\n",
       "</style>\n",
       "<table border=\"1\" class=\"dataframe\">\n",
       "  <thead>\n",
       "    <tr style=\"text-align: right;\">\n",
       "      <th></th>\n",
       "      <th>A</th>\n",
       "      <th>B</th>\n",
       "      <th>C</th>\n",
       "      <th>D</th>\n",
       "    </tr>\n",
       "  </thead>\n",
       "  <tbody>\n",
       "    <tr>\n",
       "      <th>2025-04-30</th>\n",
       "      <td>1.265975</td>\n",
       "      <td>-2.965511</td>\n",
       "      <td>0.089847</td>\n",
       "      <td>1.222928</td>\n",
       "    </tr>\n",
       "    <tr>\n",
       "      <th>2025-05-01</th>\n",
       "      <td>0.708967</td>\n",
       "      <td>-0.131927</td>\n",
       "      <td>-0.278461</td>\n",
       "      <td>-0.866418</td>\n",
       "    </tr>\n",
       "    <tr>\n",
       "      <th>2025-05-02</th>\n",
       "      <td>-0.018554</td>\n",
       "      <td>0.824459</td>\n",
       "      <td>1.550253</td>\n",
       "      <td>-1.764556</td>\n",
       "    </tr>\n",
       "    <tr>\n",
       "      <th>2025-05-03</th>\n",
       "      <td>-0.814645</td>\n",
       "      <td>-1.050314</td>\n",
       "      <td>0.281912</td>\n",
       "      <td>0.484007</td>\n",
       "    </tr>\n",
       "    <tr>\n",
       "      <th>2025-05-04</th>\n",
       "      <td>-0.955042</td>\n",
       "      <td>-2.218704</td>\n",
       "      <td>1.374630</td>\n",
       "      <td>-0.170361</td>\n",
       "    </tr>\n",
       "    <tr>\n",
       "      <th>2025-05-05</th>\n",
       "      <td>1.954618</td>\n",
       "      <td>0.151502</td>\n",
       "      <td>-0.089334</td>\n",
       "      <td>0.142605</td>\n",
       "    </tr>\n",
       "    <tr>\n",
       "      <th>2025-05-06</th>\n",
       "      <td>-1.799188</td>\n",
       "      <td>1.662812</td>\n",
       "      <td>-1.485900</td>\n",
       "      <td>-0.558617</td>\n",
       "    </tr>\n",
       "    <tr>\n",
       "      <th>2025-05-07</th>\n",
       "      <td>-1.461390</td>\n",
       "      <td>1.365167</td>\n",
       "      <td>-0.730817</td>\n",
       "      <td>1.282651</td>\n",
       "    </tr>\n",
       "  </tbody>\n",
       "</table>\n",
       "</div>"
      ],
      "text/plain": [
       "                   A         B         C         D\n",
       "2025-04-30  1.265975 -2.965511  0.089847  1.222928\n",
       "2025-05-01  0.708967 -0.131927 -0.278461 -0.866418\n",
       "2025-05-02 -0.018554  0.824459  1.550253 -1.764556\n",
       "2025-05-03 -0.814645 -1.050314  0.281912  0.484007\n",
       "2025-05-04 -0.955042 -2.218704  1.374630 -0.170361\n",
       "2025-05-05  1.954618  0.151502 -0.089334  0.142605\n",
       "2025-05-06 -1.799188  1.662812 -1.485900 -0.558617\n",
       "2025-05-07 -1.461390  1.365167 -0.730817  1.282651"
      ]
     },
     "execution_count": 20,
     "metadata": {},
     "output_type": "execute_result"
    }
   ],
   "source": [
    "df"
   ]
  },
  {
   "cell_type": "code",
   "execution_count": 21,
   "id": "193be62b",
   "metadata": {},
   "outputs": [
    {
     "data": {
      "application/vnd.microsoft.datawrangler.viewer.v0+json": {
       "columns": [
        {
         "name": "index",
         "rawType": "datetime64[ns]",
         "type": "datetime"
        },
        {
         "name": "A",
         "rawType": "float64",
         "type": "float"
        },
        {
         "name": "B",
         "rawType": "float64",
         "type": "float"
        }
       ],
       "conversionMethod": "pd.DataFrame",
       "ref": "667c07d1-9367-4269-8122-f5eef8025f16",
       "rows": [
        [
         "2025-04-30 00:00:00",
         "1.2659751164752397",
         "-2.965511444617229"
        ],
        [
         "2025-05-01 00:00:00",
         "0.7089672484924331",
         "-0.13192708186109325"
        ],
        [
         "2025-05-02 00:00:00",
         "-0.0185538742103228",
         "0.8244589965566083"
        ],
        [
         "2025-05-03 00:00:00",
         "-0.8146445191159605",
         "-1.050313840030137"
        ],
        [
         "2025-05-04 00:00:00",
         "-0.9550416188361489",
         "-2.218704237951347"
        ],
        [
         "2025-05-05 00:00:00",
         "1.9546178268104",
         "0.15150190151098566"
        ],
        [
         "2025-05-06 00:00:00",
         "-1.799188385550402",
         "1.6628117837908274"
        ],
        [
         "2025-05-07 00:00:00",
         "-1.4613898490287416",
         "1.365167404097415"
        ]
       ],
       "shape": {
        "columns": 2,
        "rows": 8
       }
      },
      "text/html": [
       "<div>\n",
       "<style scoped>\n",
       "    .dataframe tbody tr th:only-of-type {\n",
       "        vertical-align: middle;\n",
       "    }\n",
       "\n",
       "    .dataframe tbody tr th {\n",
       "        vertical-align: top;\n",
       "    }\n",
       "\n",
       "    .dataframe thead th {\n",
       "        text-align: right;\n",
       "    }\n",
       "</style>\n",
       "<table border=\"1\" class=\"dataframe\">\n",
       "  <thead>\n",
       "    <tr style=\"text-align: right;\">\n",
       "      <th></th>\n",
       "      <th>A</th>\n",
       "      <th>B</th>\n",
       "    </tr>\n",
       "  </thead>\n",
       "  <tbody>\n",
       "    <tr>\n",
       "      <th>2025-04-30</th>\n",
       "      <td>1.265975</td>\n",
       "      <td>-2.965511</td>\n",
       "    </tr>\n",
       "    <tr>\n",
       "      <th>2025-05-01</th>\n",
       "      <td>0.708967</td>\n",
       "      <td>-0.131927</td>\n",
       "    </tr>\n",
       "    <tr>\n",
       "      <th>2025-05-02</th>\n",
       "      <td>-0.018554</td>\n",
       "      <td>0.824459</td>\n",
       "    </tr>\n",
       "    <tr>\n",
       "      <th>2025-05-03</th>\n",
       "      <td>-0.814645</td>\n",
       "      <td>-1.050314</td>\n",
       "    </tr>\n",
       "    <tr>\n",
       "      <th>2025-05-04</th>\n",
       "      <td>-0.955042</td>\n",
       "      <td>-2.218704</td>\n",
       "    </tr>\n",
       "    <tr>\n",
       "      <th>2025-05-05</th>\n",
       "      <td>1.954618</td>\n",
       "      <td>0.151502</td>\n",
       "    </tr>\n",
       "    <tr>\n",
       "      <th>2025-05-06</th>\n",
       "      <td>-1.799188</td>\n",
       "      <td>1.662812</td>\n",
       "    </tr>\n",
       "    <tr>\n",
       "      <th>2025-05-07</th>\n",
       "      <td>-1.461390</td>\n",
       "      <td>1.365167</td>\n",
       "    </tr>\n",
       "  </tbody>\n",
       "</table>\n",
       "</div>"
      ],
      "text/plain": [
       "                   A         B\n",
       "2025-04-30  1.265975 -2.965511\n",
       "2025-05-01  0.708967 -0.131927\n",
       "2025-05-02 -0.018554  0.824459\n",
       "2025-05-03 -0.814645 -1.050314\n",
       "2025-05-04 -0.955042 -2.218704\n",
       "2025-05-05  1.954618  0.151502\n",
       "2025-05-06 -1.799188  1.662812\n",
       "2025-05-07 -1.461390  1.365167"
      ]
     },
     "execution_count": 21,
     "metadata": {},
     "output_type": "execute_result"
    }
   ],
   "source": [
    "df[['A', 'B']]"
   ]
  },
  {
   "cell_type": "markdown",
   "id": "3041fb5b",
   "metadata": {},
   "source": [
    "To sort the index in dataframe "
   ]
  },
  {
   "cell_type": "code",
   "execution_count": 22,
   "id": "172ec08b",
   "metadata": {},
   "outputs": [
    {
     "data": {
      "application/vnd.microsoft.datawrangler.viewer.v0+json": {
       "columns": [
        {
         "name": "index",
         "rawType": "datetime64[ns]",
         "type": "datetime"
        },
        {
         "name": "A",
         "rawType": "float64",
         "type": "float"
        },
        {
         "name": "B",
         "rawType": "float64",
         "type": "float"
        },
        {
         "name": "C",
         "rawType": "float64",
         "type": "float"
        },
        {
         "name": "D",
         "rawType": "float64",
         "type": "float"
        }
       ],
       "conversionMethod": "pd.DataFrame",
       "ref": "b9e7a432-0ba5-4fd0-bec1-a6d201b2e872",
       "rows": [
        [
         "2025-04-30 00:00:00",
         "1.2659751164752397",
         "-2.965511444617229",
         "0.08984684867926936",
         "1.2229284604201185"
        ],
        [
         "2025-05-01 00:00:00",
         "0.7089672484924331",
         "-0.13192708186109325",
         "-0.2784607254076844",
         "-0.8664179372135056"
        ],
        [
         "2025-05-02 00:00:00",
         "-0.0185538742103228",
         "0.8244589965566083",
         "1.5502530592826627",
         "-1.7645556797928383"
        ],
        [
         "2025-05-03 00:00:00",
         "-0.8146445191159605",
         "-1.050313840030137",
         "0.2819119909072204",
         "0.4840072554919207"
        ],
        [
         "2025-05-04 00:00:00",
         "-0.9550416188361489",
         "-2.218704237951347",
         "1.374629535219783",
         "-0.17036097063173766"
        ],
        [
         "2025-05-05 00:00:00",
         "1.9546178268104",
         "0.15150190151098566",
         "-0.08933355636589035",
         "0.14260458429147171"
        ],
        [
         "2025-05-06 00:00:00",
         "-1.799188385550402",
         "1.6628117837908274",
         "-1.4859003755566915",
         "-0.5586173669442289"
        ],
        [
         "2025-05-07 00:00:00",
         "-1.4613898490287416",
         "1.365167404097415",
         "-0.7308168694684349",
         "1.2826511947482944"
        ]
       ],
       "shape": {
        "columns": 4,
        "rows": 8
       }
      },
      "text/html": [
       "<div>\n",
       "<style scoped>\n",
       "    .dataframe tbody tr th:only-of-type {\n",
       "        vertical-align: middle;\n",
       "    }\n",
       "\n",
       "    .dataframe tbody tr th {\n",
       "        vertical-align: top;\n",
       "    }\n",
       "\n",
       "    .dataframe thead th {\n",
       "        text-align: right;\n",
       "    }\n",
       "</style>\n",
       "<table border=\"1\" class=\"dataframe\">\n",
       "  <thead>\n",
       "    <tr style=\"text-align: right;\">\n",
       "      <th></th>\n",
       "      <th>A</th>\n",
       "      <th>B</th>\n",
       "      <th>C</th>\n",
       "      <th>D</th>\n",
       "    </tr>\n",
       "  </thead>\n",
       "  <tbody>\n",
       "    <tr>\n",
       "      <th>2025-04-30</th>\n",
       "      <td>1.265975</td>\n",
       "      <td>-2.965511</td>\n",
       "      <td>0.089847</td>\n",
       "      <td>1.222928</td>\n",
       "    </tr>\n",
       "    <tr>\n",
       "      <th>2025-05-01</th>\n",
       "      <td>0.708967</td>\n",
       "      <td>-0.131927</td>\n",
       "      <td>-0.278461</td>\n",
       "      <td>-0.866418</td>\n",
       "    </tr>\n",
       "    <tr>\n",
       "      <th>2025-05-02</th>\n",
       "      <td>-0.018554</td>\n",
       "      <td>0.824459</td>\n",
       "      <td>1.550253</td>\n",
       "      <td>-1.764556</td>\n",
       "    </tr>\n",
       "    <tr>\n",
       "      <th>2025-05-03</th>\n",
       "      <td>-0.814645</td>\n",
       "      <td>-1.050314</td>\n",
       "      <td>0.281912</td>\n",
       "      <td>0.484007</td>\n",
       "    </tr>\n",
       "    <tr>\n",
       "      <th>2025-05-04</th>\n",
       "      <td>-0.955042</td>\n",
       "      <td>-2.218704</td>\n",
       "      <td>1.374630</td>\n",
       "      <td>-0.170361</td>\n",
       "    </tr>\n",
       "    <tr>\n",
       "      <th>2025-05-05</th>\n",
       "      <td>1.954618</td>\n",
       "      <td>0.151502</td>\n",
       "      <td>-0.089334</td>\n",
       "      <td>0.142605</td>\n",
       "    </tr>\n",
       "    <tr>\n",
       "      <th>2025-05-06</th>\n",
       "      <td>-1.799188</td>\n",
       "      <td>1.662812</td>\n",
       "      <td>-1.485900</td>\n",
       "      <td>-0.558617</td>\n",
       "    </tr>\n",
       "    <tr>\n",
       "      <th>2025-05-07</th>\n",
       "      <td>-1.461390</td>\n",
       "      <td>1.365167</td>\n",
       "      <td>-0.730817</td>\n",
       "      <td>1.282651</td>\n",
       "    </tr>\n",
       "  </tbody>\n",
       "</table>\n",
       "</div>"
      ],
      "text/plain": [
       "                   A         B         C         D\n",
       "2025-04-30  1.265975 -2.965511  0.089847  1.222928\n",
       "2025-05-01  0.708967 -0.131927 -0.278461 -0.866418\n",
       "2025-05-02 -0.018554  0.824459  1.550253 -1.764556\n",
       "2025-05-03 -0.814645 -1.050314  0.281912  0.484007\n",
       "2025-05-04 -0.955042 -2.218704  1.374630 -0.170361\n",
       "2025-05-05  1.954618  0.151502 -0.089334  0.142605\n",
       "2025-05-06 -1.799188  1.662812 -1.485900 -0.558617\n",
       "2025-05-07 -1.461390  1.365167 -0.730817  1.282651"
      ]
     },
     "execution_count": 22,
     "metadata": {},
     "output_type": "execute_result"
    }
   ],
   "source": [
    "df.sort_index()"
   ]
  },
  {
   "cell_type": "markdown",
   "id": "bbbb6820",
   "metadata": {},
   "source": [
    "#  Boolean indexing"
   ]
  },
  {
   "cell_type": "code",
   "execution_count": 23,
   "id": "87c48b25",
   "metadata": {},
   "outputs": [],
   "source": [
    "s = pd.Series(range(-3, 4))"
   ]
  },
  {
   "cell_type": "code",
   "execution_count": 24,
   "id": "d1486755",
   "metadata": {},
   "outputs": [
    {
     "data": {
      "text/plain": [
       "0   -3\n",
       "1   -2\n",
       "2   -1\n",
       "3    0\n",
       "4    1\n",
       "5    2\n",
       "6    3\n",
       "dtype: int64"
      ]
     },
     "execution_count": 24,
     "metadata": {},
     "output_type": "execute_result"
    }
   ],
   "source": [
    "s"
   ]
  },
  {
   "cell_type": "code",
   "execution_count": 25,
   "id": "ce47cd46",
   "metadata": {},
   "outputs": [
    {
     "data": {
      "text/plain": [
       "4    1\n",
       "5    2\n",
       "6    3\n",
       "dtype: int64"
      ]
     },
     "execution_count": 25,
     "metadata": {},
     "output_type": "execute_result"
    }
   ],
   "source": [
    "s[s > 0]"
   ]
  },
  {
   "cell_type": "markdown",
   "id": "cdbbbebe",
   "metadata": {},
   "source": [
    "#  Indexing with isin"
   ]
  },
  {
   "cell_type": "code",
   "execution_count": 26,
   "id": "60717899",
   "metadata": {},
   "outputs": [],
   "source": [
    "s = pd.Series(np.arange(5), index=np.arange(5)[::-1], dtype='int64')"
   ]
  },
  {
   "cell_type": "code",
   "execution_count": 27,
   "id": "28ea7a0a",
   "metadata": {},
   "outputs": [
    {
     "data": {
      "text/plain": [
       "4    0\n",
       "3    1\n",
       "2    2\n",
       "1    3\n",
       "0    4\n",
       "dtype: int64"
      ]
     },
     "execution_count": 27,
     "metadata": {},
     "output_type": "execute_result"
    }
   ],
   "source": [
    "s"
   ]
  },
  {
   "cell_type": "code",
   "execution_count": 28,
   "id": "a5f11f70",
   "metadata": {},
   "outputs": [
    {
     "data": {
      "text/plain": [
       "4    False\n",
       "3    False\n",
       "2     True\n",
       "1    False\n",
       "0     True\n",
       "dtype: bool"
      ]
     },
     "execution_count": 28,
     "metadata": {},
     "output_type": "execute_result"
    }
   ],
   "source": [
    "s.isin([2, 4, 6])"
   ]
  },
  {
   "cell_type": "markdown",
   "id": "f7efd4d2",
   "metadata": {},
   "source": [
    "#  The where() Method and Masking"
   ]
  },
  {
   "cell_type": "code",
   "execution_count": 29,
   "id": "6d1ef570",
   "metadata": {},
   "outputs": [
    {
     "data": {
      "text/plain": [
       "3    1\n",
       "2    2\n",
       "1    3\n",
       "0    4\n",
       "dtype: int64"
      ]
     },
     "execution_count": 29,
     "metadata": {},
     "output_type": "execute_result"
    }
   ],
   "source": [
    "s[s > 0]"
   ]
  },
  {
   "cell_type": "code",
   "execution_count": 30,
   "id": "cabc3595",
   "metadata": {},
   "outputs": [
    {
     "data": {
      "text/plain": [
       "4    NaN\n",
       "3    1.0\n",
       "2    2.0\n",
       "1    3.0\n",
       "0    4.0\n",
       "dtype: float64"
      ]
     },
     "execution_count": 30,
     "metadata": {},
     "output_type": "execute_result"
    }
   ],
   "source": [
    "s.where(s>0)"
   ]
  },
  {
   "cell_type": "markdown",
   "id": "a9f982b8",
   "metadata": {},
   "source": [
    "#   Duplicate data"
   ]
  },
  {
   "cell_type": "code",
   "execution_count": 31,
   "id": "dc180d13",
   "metadata": {},
   "outputs": [],
   "source": [
    "df2 = pd.DataFrame({'a': ['one', 'one', 'two', 'two', 'two', 'three', 'four'],\n",
    "                    'b': ['x', 'y', 'x', 'y', 'x', 'x', 'x'],\n",
    "                    'c': np.random.randn(7)})"
   ]
  },
  {
   "cell_type": "code",
   "execution_count": 32,
   "id": "4aa643fb",
   "metadata": {},
   "outputs": [
    {
     "data": {
      "application/vnd.microsoft.datawrangler.viewer.v0+json": {
       "columns": [
        {
         "name": "index",
         "rawType": "int64",
         "type": "integer"
        },
        {
         "name": "a",
         "rawType": "object",
         "type": "string"
        },
        {
         "name": "b",
         "rawType": "object",
         "type": "string"
        },
        {
         "name": "c",
         "rawType": "float64",
         "type": "float"
        }
       ],
       "conversionMethod": "pd.DataFrame",
       "ref": "fcf5c0a7-5883-4549-a0fc-7b46b9e4b0fc",
       "rows": [
        [
         "0",
         "one",
         "x",
         "0.8075864035191865"
        ],
        [
         "1",
         "one",
         "y",
         "0.04434113649634952"
        ],
        [
         "2",
         "two",
         "x",
         "0.4441577787304676"
        ],
        [
         "3",
         "two",
         "y",
         "-0.06322563627018128"
        ],
        [
         "4",
         "two",
         "x",
         "0.05503409021703177"
        ],
        [
         "5",
         "three",
         "x",
         "-0.10012606362950915"
        ],
        [
         "6",
         "four",
         "x",
         "-0.5969915102069868"
        ]
       ],
       "shape": {
        "columns": 3,
        "rows": 7
       }
      },
      "text/html": [
       "<div>\n",
       "<style scoped>\n",
       "    .dataframe tbody tr th:only-of-type {\n",
       "        vertical-align: middle;\n",
       "    }\n",
       "\n",
       "    .dataframe tbody tr th {\n",
       "        vertical-align: top;\n",
       "    }\n",
       "\n",
       "    .dataframe thead th {\n",
       "        text-align: right;\n",
       "    }\n",
       "</style>\n",
       "<table border=\"1\" class=\"dataframe\">\n",
       "  <thead>\n",
       "    <tr style=\"text-align: right;\">\n",
       "      <th></th>\n",
       "      <th>a</th>\n",
       "      <th>b</th>\n",
       "      <th>c</th>\n",
       "    </tr>\n",
       "  </thead>\n",
       "  <tbody>\n",
       "    <tr>\n",
       "      <th>0</th>\n",
       "      <td>one</td>\n",
       "      <td>x</td>\n",
       "      <td>0.807586</td>\n",
       "    </tr>\n",
       "    <tr>\n",
       "      <th>1</th>\n",
       "      <td>one</td>\n",
       "      <td>y</td>\n",
       "      <td>0.044341</td>\n",
       "    </tr>\n",
       "    <tr>\n",
       "      <th>2</th>\n",
       "      <td>two</td>\n",
       "      <td>x</td>\n",
       "      <td>0.444158</td>\n",
       "    </tr>\n",
       "    <tr>\n",
       "      <th>3</th>\n",
       "      <td>two</td>\n",
       "      <td>y</td>\n",
       "      <td>-0.063226</td>\n",
       "    </tr>\n",
       "    <tr>\n",
       "      <th>4</th>\n",
       "      <td>two</td>\n",
       "      <td>x</td>\n",
       "      <td>0.055034</td>\n",
       "    </tr>\n",
       "    <tr>\n",
       "      <th>5</th>\n",
       "      <td>three</td>\n",
       "      <td>x</td>\n",
       "      <td>-0.100126</td>\n",
       "    </tr>\n",
       "    <tr>\n",
       "      <th>6</th>\n",
       "      <td>four</td>\n",
       "      <td>x</td>\n",
       "      <td>-0.596992</td>\n",
       "    </tr>\n",
       "  </tbody>\n",
       "</table>\n",
       "</div>"
      ],
      "text/plain": [
       "       a  b         c\n",
       "0    one  x  0.807586\n",
       "1    one  y  0.044341\n",
       "2    two  x  0.444158\n",
       "3    two  y -0.063226\n",
       "4    two  x  0.055034\n",
       "5  three  x -0.100126\n",
       "6   four  x -0.596992"
      ]
     },
     "execution_count": 32,
     "metadata": {},
     "output_type": "execute_result"
    }
   ],
   "source": [
    "df2"
   ]
  },
  {
   "cell_type": "code",
   "execution_count": 33,
   "id": "3f3ae06b",
   "metadata": {},
   "outputs": [
    {
     "data": {
      "text/plain": [
       "0    False\n",
       "1     True\n",
       "2    False\n",
       "3     True\n",
       "4     True\n",
       "5    False\n",
       "6    False\n",
       "dtype: bool"
      ]
     },
     "execution_count": 33,
     "metadata": {},
     "output_type": "execute_result"
    }
   ],
   "source": [
    "df2.duplicated('a')"
   ]
  },
  {
   "cell_type": "markdown",
   "id": "a6ef7cc8",
   "metadata": {},
   "source": [
    "duplicated returns a boolean vector whose length is the number of rows, and which indicates whether a row is duplicated."
   ]
  },
  {
   "cell_type": "markdown",
   "id": "4563d336",
   "metadata": {},
   "source": [
    "By default, the first observed row of a duplicate set is considered unique, but each method has a keep parameter to specify targets to be kept.\n",
    "\n",
    "keep='first' (default): mark / drop duplicates except for the first occurrence.\n",
    "\n",
    "keep='last': mark / drop duplicates except for the last occurrence.\n",
    "\n",
    "keep=False: mark / drop all duplicates."
   ]
  },
  {
   "cell_type": "code",
   "execution_count": 34,
   "id": "da1493ab",
   "metadata": {},
   "outputs": [
    {
     "data": {
      "text/plain": [
       "0     True\n",
       "1    False\n",
       "2     True\n",
       "3     True\n",
       "4    False\n",
       "5    False\n",
       "6    False\n",
       "dtype: bool"
      ]
     },
     "execution_count": 34,
     "metadata": {},
     "output_type": "execute_result"
    }
   ],
   "source": [
    "df2.duplicated('a', keep='last')"
   ]
  },
  {
   "cell_type": "code",
   "execution_count": 35,
   "id": "ea1a1cd1",
   "metadata": {},
   "outputs": [
    {
     "data": {
      "text/plain": [
       "0     True\n",
       "1     True\n",
       "2     True\n",
       "3     True\n",
       "4     True\n",
       "5    False\n",
       "6    False\n",
       "dtype: bool"
      ]
     },
     "execution_count": 35,
     "metadata": {},
     "output_type": "execute_result"
    }
   ],
   "source": [
    "df2.duplicated('a', keep=False)"
   ]
  },
  {
   "cell_type": "markdown",
   "id": "86ed1a40",
   "metadata": {},
   "source": [
    "To drop duplicate the values "
   ]
  },
  {
   "cell_type": "code",
   "execution_count": 36,
   "id": "70ec4c7f",
   "metadata": {},
   "outputs": [
    {
     "data": {
      "application/vnd.microsoft.datawrangler.viewer.v0+json": {
       "columns": [
        {
         "name": "index",
         "rawType": "int64",
         "type": "integer"
        },
        {
         "name": "a",
         "rawType": "object",
         "type": "string"
        },
        {
         "name": "b",
         "rawType": "object",
         "type": "string"
        },
        {
         "name": "c",
         "rawType": "float64",
         "type": "float"
        }
       ],
       "conversionMethod": "pd.DataFrame",
       "ref": "8e6d51f6-2e17-4eff-a939-30dfe945b76b",
       "rows": [
        [
         "0",
         "one",
         "x",
         "0.8075864035191865"
        ],
        [
         "2",
         "two",
         "x",
         "0.4441577787304676"
        ],
        [
         "5",
         "three",
         "x",
         "-0.10012606362950915"
        ],
        [
         "6",
         "four",
         "x",
         "-0.5969915102069868"
        ]
       ],
       "shape": {
        "columns": 3,
        "rows": 4
       }
      },
      "text/html": [
       "<div>\n",
       "<style scoped>\n",
       "    .dataframe tbody tr th:only-of-type {\n",
       "        vertical-align: middle;\n",
       "    }\n",
       "\n",
       "    .dataframe tbody tr th {\n",
       "        vertical-align: top;\n",
       "    }\n",
       "\n",
       "    .dataframe thead th {\n",
       "        text-align: right;\n",
       "    }\n",
       "</style>\n",
       "<table border=\"1\" class=\"dataframe\">\n",
       "  <thead>\n",
       "    <tr style=\"text-align: right;\">\n",
       "      <th></th>\n",
       "      <th>a</th>\n",
       "      <th>b</th>\n",
       "      <th>c</th>\n",
       "    </tr>\n",
       "  </thead>\n",
       "  <tbody>\n",
       "    <tr>\n",
       "      <th>0</th>\n",
       "      <td>one</td>\n",
       "      <td>x</td>\n",
       "      <td>0.807586</td>\n",
       "    </tr>\n",
       "    <tr>\n",
       "      <th>2</th>\n",
       "      <td>two</td>\n",
       "      <td>x</td>\n",
       "      <td>0.444158</td>\n",
       "    </tr>\n",
       "    <tr>\n",
       "      <th>5</th>\n",
       "      <td>three</td>\n",
       "      <td>x</td>\n",
       "      <td>-0.100126</td>\n",
       "    </tr>\n",
       "    <tr>\n",
       "      <th>6</th>\n",
       "      <td>four</td>\n",
       "      <td>x</td>\n",
       "      <td>-0.596992</td>\n",
       "    </tr>\n",
       "  </tbody>\n",
       "</table>\n",
       "</div>"
      ],
      "text/plain": [
       "       a  b         c\n",
       "0    one  x  0.807586\n",
       "2    two  x  0.444158\n",
       "5  three  x -0.100126\n",
       "6   four  x -0.596992"
      ]
     },
     "execution_count": 36,
     "metadata": {},
     "output_type": "execute_result"
    }
   ],
   "source": [
    "df2.drop_duplicates('a')"
   ]
  },
  {
   "cell_type": "markdown",
   "id": "9f85bf8c",
   "metadata": {},
   "source": [
    "#  Dictionary-like get() method"
   ]
  },
  {
   "cell_type": "code",
   "execution_count": 37,
   "id": "6d789230",
   "metadata": {},
   "outputs": [],
   "source": [
    "s = pd.Series([1, 2, 3], index=['a', 'b', 'c'])"
   ]
  },
  {
   "cell_type": "code",
   "execution_count": 38,
   "id": "5f158fbd",
   "metadata": {},
   "outputs": [
    {
     "data": {
      "text/plain": [
       "np.int64(1)"
      ]
     },
     "execution_count": 38,
     "metadata": {},
     "output_type": "execute_result"
    }
   ],
   "source": [
    "s.get('a')"
   ]
  },
  {
   "cell_type": "markdown",
   "id": "36abe1e4",
   "metadata": {},
   "source": [
    "#  Merge, join, concatenate and compare"
   ]
  },
  {
   "cell_type": "markdown",
   "id": "0c2a61dc",
   "metadata": {},
   "source": [
    "concat()"
   ]
  },
  {
   "cell_type": "code",
   "execution_count": 39,
   "id": "22b57c20",
   "metadata": {},
   "outputs": [],
   "source": [
    "df1 = pd.DataFrame(\n",
    "    {\n",
    "        \"A\": [\"A0\", \"A1\", \"A2\", \"A3\"],\n",
    "        \"B\": [\"B0\", \"B1\", \"B2\", \"B3\"],\n",
    "        \"C\": [\"C0\", \"C1\", \"C2\", \"C3\"],\n",
    "        \"D\": [\"D0\", \"D1\", \"D2\", \"D3\"],\n",
    "    },\n",
    "    index=[0, 1, 2, 3],\n",
    ")"
   ]
  },
  {
   "cell_type": "code",
   "execution_count": 40,
   "id": "7045ca5d",
   "metadata": {},
   "outputs": [],
   "source": [
    "df2 = pd.DataFrame(\n",
    "    {\n",
    "        \"A\": [\"A4\", \"A5\", \"A6\", \"A7\"],\n",
    "        \"B\": [\"B4\", \"B5\", \"B6\", \"B7\"],\n",
    "        \"C\": [\"C4\", \"C5\", \"C6\", \"C7\"],\n",
    "        \"D\": [\"D4\", \"D5\", \"D6\", \"D7\"],\n",
    "    },\n",
    "    index=[4, 5, 6, 7],\n",
    ")"
   ]
  },
  {
   "cell_type": "code",
   "execution_count": 41,
   "id": "f68fa8f5",
   "metadata": {},
   "outputs": [],
   "source": [
    "\n",
    "df3 = pd.DataFrame(\n",
    "    {\n",
    "        \"A\": [\"A8\", \"A9\", \"A10\", \"A11\"],\n",
    "        \"B\": [\"B8\", \"B9\", \"B10\", \"B11\"],\n",
    "        \"C\": [\"C8\", \"C9\", \"C10\", \"C11\"],\n",
    "        \"D\": [\"D8\", \"D9\", \"D10\", \"D11\"],\n",
    "    },\n",
    "    index=[8, 9, 10, 11],\n",
    ")\n"
   ]
  },
  {
   "cell_type": "code",
   "execution_count": 42,
   "id": "e6c1b1b9",
   "metadata": {},
   "outputs": [
    {
     "data": {
      "text/plain": [
       "[    A   B   C   D\n",
       " 0  A0  B0  C0  D0\n",
       " 1  A1  B1  C1  D1\n",
       " 2  A2  B2  C2  D2\n",
       " 3  A3  B3  C3  D3,\n",
       "     A   B   C   D\n",
       " 4  A4  B4  C4  D4\n",
       " 5  A5  B5  C5  D5\n",
       " 6  A6  B6  C6  D6\n",
       " 7  A7  B7  C7  D7,\n",
       "       A    B    C    D\n",
       " 8    A8   B8   C8   D8\n",
       " 9    A9   B9   C9   D9\n",
       " 10  A10  B10  C10  D10\n",
       " 11  A11  B11  C11  D11]"
      ]
     },
     "execution_count": 42,
     "metadata": {},
     "output_type": "execute_result"
    }
   ],
   "source": [
    "frames = [df1, df2, df3]\n",
    "frames"
   ]
  },
  {
   "cell_type": "code",
   "execution_count": 43,
   "id": "e937bfca",
   "metadata": {},
   "outputs": [],
   "source": [
    "result = pd.concat(frames)"
   ]
  },
  {
   "cell_type": "code",
   "execution_count": 45,
   "id": "f54a9f6b",
   "metadata": {},
   "outputs": [
    {
     "data": {
      "application/vnd.microsoft.datawrangler.viewer.v0+json": {
       "columns": [
        {
         "name": "index",
         "rawType": "int64",
         "type": "integer"
        },
        {
         "name": "A",
         "rawType": "object",
         "type": "string"
        },
        {
         "name": "B",
         "rawType": "object",
         "type": "string"
        },
        {
         "name": "C",
         "rawType": "object",
         "type": "string"
        },
        {
         "name": "D",
         "rawType": "object",
         "type": "string"
        }
       ],
       "conversionMethod": "pd.DataFrame",
       "ref": "2a7b89ad-095f-498f-a7ee-601843855b80",
       "rows": [
        [
         "0",
         "A0",
         "B0",
         "C0",
         "D0"
        ],
        [
         "1",
         "A1",
         "B1",
         "C1",
         "D1"
        ],
        [
         "2",
         "A2",
         "B2",
         "C2",
         "D2"
        ],
        [
         "3",
         "A3",
         "B3",
         "C3",
         "D3"
        ],
        [
         "4",
         "A4",
         "B4",
         "C4",
         "D4"
        ],
        [
         "5",
         "A5",
         "B5",
         "C5",
         "D5"
        ],
        [
         "6",
         "A6",
         "B6",
         "C6",
         "D6"
        ],
        [
         "7",
         "A7",
         "B7",
         "C7",
         "D7"
        ],
        [
         "8",
         "A8",
         "B8",
         "C8",
         "D8"
        ],
        [
         "9",
         "A9",
         "B9",
         "C9",
         "D9"
        ],
        [
         "10",
         "A10",
         "B10",
         "C10",
         "D10"
        ],
        [
         "11",
         "A11",
         "B11",
         "C11",
         "D11"
        ]
       ],
       "shape": {
        "columns": 4,
        "rows": 12
       }
      },
      "text/html": [
       "<div>\n",
       "<style scoped>\n",
       "    .dataframe tbody tr th:only-of-type {\n",
       "        vertical-align: middle;\n",
       "    }\n",
       "\n",
       "    .dataframe tbody tr th {\n",
       "        vertical-align: top;\n",
       "    }\n",
       "\n",
       "    .dataframe thead th {\n",
       "        text-align: right;\n",
       "    }\n",
       "</style>\n",
       "<table border=\"1\" class=\"dataframe\">\n",
       "  <thead>\n",
       "    <tr style=\"text-align: right;\">\n",
       "      <th></th>\n",
       "      <th>A</th>\n",
       "      <th>B</th>\n",
       "      <th>C</th>\n",
       "      <th>D</th>\n",
       "    </tr>\n",
       "  </thead>\n",
       "  <tbody>\n",
       "    <tr>\n",
       "      <th>0</th>\n",
       "      <td>A0</td>\n",
       "      <td>B0</td>\n",
       "      <td>C0</td>\n",
       "      <td>D0</td>\n",
       "    </tr>\n",
       "    <tr>\n",
       "      <th>1</th>\n",
       "      <td>A1</td>\n",
       "      <td>B1</td>\n",
       "      <td>C1</td>\n",
       "      <td>D1</td>\n",
       "    </tr>\n",
       "    <tr>\n",
       "      <th>2</th>\n",
       "      <td>A2</td>\n",
       "      <td>B2</td>\n",
       "      <td>C2</td>\n",
       "      <td>D2</td>\n",
       "    </tr>\n",
       "    <tr>\n",
       "      <th>3</th>\n",
       "      <td>A3</td>\n",
       "      <td>B3</td>\n",
       "      <td>C3</td>\n",
       "      <td>D3</td>\n",
       "    </tr>\n",
       "    <tr>\n",
       "      <th>4</th>\n",
       "      <td>A4</td>\n",
       "      <td>B4</td>\n",
       "      <td>C4</td>\n",
       "      <td>D4</td>\n",
       "    </tr>\n",
       "    <tr>\n",
       "      <th>5</th>\n",
       "      <td>A5</td>\n",
       "      <td>B5</td>\n",
       "      <td>C5</td>\n",
       "      <td>D5</td>\n",
       "    </tr>\n",
       "    <tr>\n",
       "      <th>6</th>\n",
       "      <td>A6</td>\n",
       "      <td>B6</td>\n",
       "      <td>C6</td>\n",
       "      <td>D6</td>\n",
       "    </tr>\n",
       "    <tr>\n",
       "      <th>7</th>\n",
       "      <td>A7</td>\n",
       "      <td>B7</td>\n",
       "      <td>C7</td>\n",
       "      <td>D7</td>\n",
       "    </tr>\n",
       "    <tr>\n",
       "      <th>8</th>\n",
       "      <td>A8</td>\n",
       "      <td>B8</td>\n",
       "      <td>C8</td>\n",
       "      <td>D8</td>\n",
       "    </tr>\n",
       "    <tr>\n",
       "      <th>9</th>\n",
       "      <td>A9</td>\n",
       "      <td>B9</td>\n",
       "      <td>C9</td>\n",
       "      <td>D9</td>\n",
       "    </tr>\n",
       "    <tr>\n",
       "      <th>10</th>\n",
       "      <td>A10</td>\n",
       "      <td>B10</td>\n",
       "      <td>C10</td>\n",
       "      <td>D10</td>\n",
       "    </tr>\n",
       "    <tr>\n",
       "      <th>11</th>\n",
       "      <td>A11</td>\n",
       "      <td>B11</td>\n",
       "      <td>C11</td>\n",
       "      <td>D11</td>\n",
       "    </tr>\n",
       "  </tbody>\n",
       "</table>\n",
       "</div>"
      ],
      "text/plain": [
       "      A    B    C    D\n",
       "0    A0   B0   C0   D0\n",
       "1    A1   B1   C1   D1\n",
       "2    A2   B2   C2   D2\n",
       "3    A3   B3   C3   D3\n",
       "4    A4   B4   C4   D4\n",
       "5    A5   B5   C5   D5\n",
       "6    A6   B6   C6   D6\n",
       "7    A7   B7   C7   D7\n",
       "8    A8   B8   C8   D8\n",
       "9    A9   B9   C9   D9\n",
       "10  A10  B10  C10  D10\n",
       "11  A11  B11  C11  D11"
      ]
     },
     "execution_count": 45,
     "metadata": {},
     "output_type": "execute_result"
    }
   ],
   "source": [
    "result"
   ]
  },
  {
   "cell_type": "code",
   "execution_count": null,
   "id": "75b5e6a0",
   "metadata": {},
   "outputs": [],
   "source": []
  }
 ],
 "metadata": {
  "kernelspec": {
   "display_name": "Python 3",
   "language": "python",
   "name": "python3"
  },
  "language_info": {
   "codemirror_mode": {
    "name": "ipython",
    "version": 3
   },
   "file_extension": ".py",
   "mimetype": "text/x-python",
   "name": "python",
   "nbconvert_exporter": "python",
   "pygments_lexer": "ipython3",
   "version": "3.11.9"
  }
 },
 "nbformat": 4,
 "nbformat_minor": 5
}
