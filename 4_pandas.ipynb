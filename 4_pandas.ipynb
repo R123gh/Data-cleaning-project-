{
 "cells": [
  {
   "cell_type": "code",
   "execution_count": 2,
   "id": "1b7e3f7f",
   "metadata": {},
   "outputs": [],
   "source": [
    "import pandas as pd  \n",
    "import numpy as np "
   ]
  },
  {
   "cell_type": "markdown",
   "id": "21e53508",
   "metadata": {},
   "source": [
    "#   How to convert the dataframe into csv file "
   ]
  },
  {
   "cell_type": "code",
   "execution_count": 3,
   "id": "fabc0b88",
   "metadata": {},
   "outputs": [],
   "source": [
    "df = pd.DataFrame(np.random.rand(5,5),index = ['0','1','2','3','4'])"
   ]
  },
  {
   "cell_type": "code",
   "execution_count": 4,
   "id": "191c032c",
   "metadata": {},
   "outputs": [],
   "source": [
    "df.columns = ['a','b','c','d','e']"
   ]
  },
  {
   "cell_type": "code",
   "execution_count": 5,
   "id": "5d30bfd5",
   "metadata": {},
   "outputs": [
    {
     "data": {
      "application/vnd.microsoft.datawrangler.viewer.v0+json": {
       "columns": [
        {
         "name": "index",
         "rawType": "object",
         "type": "string"
        },
        {
         "name": "a",
         "rawType": "float64",
         "type": "float"
        },
        {
         "name": "b",
         "rawType": "float64",
         "type": "float"
        },
        {
         "name": "c",
         "rawType": "float64",
         "type": "float"
        },
        {
         "name": "d",
         "rawType": "float64",
         "type": "float"
        },
        {
         "name": "e",
         "rawType": "float64",
         "type": "float"
        }
       ],
       "conversionMethod": "pd.DataFrame",
       "ref": "b477e525-3835-4697-aa35-92e67752bf4e",
       "rows": [
        [
         "0",
         "0.18677662192960887",
         "0.8525726932457041",
         "0.9989451258996251",
         "0.8954095436310356",
         "0.4340931137361188"
        ],
        [
         "1",
         "0.7797754020128776",
         "0.25397953264679984",
         "0.9575712620441489",
         "0.8815032890918337",
         "0.780587156383963"
        ],
        [
         "2",
         "0.6644404648860944",
         "0.7712327189827278",
         "0.7914885523027676",
         "0.7042269550798474",
         "0.803871491230641"
        ],
        [
         "3",
         "0.6498021217681275",
         "0.4594062246298678",
         "0.44375405686704905",
         "0.024371274294244127",
         "0.6526807000937683"
        ],
        [
         "4",
         "0.023107858559186734",
         "0.46132159615437685",
         "0.07281933828652298",
         "0.17947660867327409",
         "0.8237191313080252"
        ]
       ],
       "shape": {
        "columns": 5,
        "rows": 5
       }
      },
      "text/html": [
       "<div>\n",
       "<style scoped>\n",
       "    .dataframe tbody tr th:only-of-type {\n",
       "        vertical-align: middle;\n",
       "    }\n",
       "\n",
       "    .dataframe tbody tr th {\n",
       "        vertical-align: top;\n",
       "    }\n",
       "\n",
       "    .dataframe thead th {\n",
       "        text-align: right;\n",
       "    }\n",
       "</style>\n",
       "<table border=\"1\" class=\"dataframe\">\n",
       "  <thead>\n",
       "    <tr style=\"text-align: right;\">\n",
       "      <th></th>\n",
       "      <th>a</th>\n",
       "      <th>b</th>\n",
       "      <th>c</th>\n",
       "      <th>d</th>\n",
       "      <th>e</th>\n",
       "    </tr>\n",
       "  </thead>\n",
       "  <tbody>\n",
       "    <tr>\n",
       "      <th>0</th>\n",
       "      <td>0.186777</td>\n",
       "      <td>0.852573</td>\n",
       "      <td>0.998945</td>\n",
       "      <td>0.895410</td>\n",
       "      <td>0.434093</td>\n",
       "    </tr>\n",
       "    <tr>\n",
       "      <th>1</th>\n",
       "      <td>0.779775</td>\n",
       "      <td>0.253980</td>\n",
       "      <td>0.957571</td>\n",
       "      <td>0.881503</td>\n",
       "      <td>0.780587</td>\n",
       "    </tr>\n",
       "    <tr>\n",
       "      <th>2</th>\n",
       "      <td>0.664440</td>\n",
       "      <td>0.771233</td>\n",
       "      <td>0.791489</td>\n",
       "      <td>0.704227</td>\n",
       "      <td>0.803871</td>\n",
       "    </tr>\n",
       "    <tr>\n",
       "      <th>3</th>\n",
       "      <td>0.649802</td>\n",
       "      <td>0.459406</td>\n",
       "      <td>0.443754</td>\n",
       "      <td>0.024371</td>\n",
       "      <td>0.652681</td>\n",
       "    </tr>\n",
       "    <tr>\n",
       "      <th>4</th>\n",
       "      <td>0.023108</td>\n",
       "      <td>0.461322</td>\n",
       "      <td>0.072819</td>\n",
       "      <td>0.179477</td>\n",
       "      <td>0.823719</td>\n",
       "    </tr>\n",
       "  </tbody>\n",
       "</table>\n",
       "</div>"
      ],
      "text/plain": [
       "          a         b         c         d         e\n",
       "0  0.186777  0.852573  0.998945  0.895410  0.434093\n",
       "1  0.779775  0.253980  0.957571  0.881503  0.780587\n",
       "2  0.664440  0.771233  0.791489  0.704227  0.803871\n",
       "3  0.649802  0.459406  0.443754  0.024371  0.652681\n",
       "4  0.023108  0.461322  0.072819  0.179477  0.823719"
      ]
     },
     "execution_count": 5,
     "metadata": {},
     "output_type": "execute_result"
    }
   ],
   "source": [
    "df"
   ]
  },
  {
   "cell_type": "markdown",
   "id": "4ae6e440",
   "metadata": {},
   "source": [
    "Dataframe -----------> CSV "
   ]
  },
  {
   "cell_type": "code",
   "execution_count": 6,
   "id": "285ff734",
   "metadata": {},
   "outputs": [],
   "source": [
    "df.to_csv(\"My_file.csv\")"
   ]
  },
  {
   "cell_type": "markdown",
   "id": "98e1d3f0",
   "metadata": {},
   "source": [
    "#  To read csv file "
   ]
  },
  {
   "cell_type": "code",
   "execution_count": 7,
   "id": "82fae0d7",
   "metadata": {},
   "outputs": [
    {
     "data": {
      "application/vnd.microsoft.datawrangler.viewer.v0+json": {
       "columns": [
        {
         "name": "index",
         "rawType": "int64",
         "type": "integer"
        },
        {
         "name": "Unnamed: 0",
         "rawType": "int64",
         "type": "integer"
        },
        {
         "name": "a",
         "rawType": "float64",
         "type": "float"
        },
        {
         "name": "b",
         "rawType": "float64",
         "type": "float"
        },
        {
         "name": "c",
         "rawType": "float64",
         "type": "float"
        },
        {
         "name": "d",
         "rawType": "float64",
         "type": "float"
        },
        {
         "name": "e",
         "rawType": "float64",
         "type": "float"
        }
       ],
       "conversionMethod": "pd.DataFrame",
       "ref": "f1752197-d538-4d91-b066-328ab60ba6b6",
       "rows": [
        [
         "0",
         "0",
         "0.1867766219296088",
         "0.8525726932457041",
         "0.9989451258996253",
         "0.8954095436310356",
         "0.4340931137361188"
        ],
        [
         "1",
         "1",
         "0.7797754020128776",
         "0.2539795326467998",
         "0.9575712620441488",
         "0.8815032890918337",
         "0.780587156383963"
        ],
        [
         "2",
         "2",
         "0.6644404648860944",
         "0.7712327189827278",
         "0.7914885523027676",
         "0.7042269550798474",
         "0.803871491230641"
        ],
        [
         "3",
         "3",
         "0.6498021217681275",
         "0.4594062246298678",
         "0.443754056867049",
         "0.0243712742942441",
         "0.6526807000937683"
        ],
        [
         "4",
         "4",
         "0.0231078585591867",
         "0.4613215961543768",
         "0.0728193382865229",
         "0.179476608673274",
         "0.8237191313080252"
        ]
       ],
       "shape": {
        "columns": 6,
        "rows": 5
       }
      },
      "text/html": [
       "<div>\n",
       "<style scoped>\n",
       "    .dataframe tbody tr th:only-of-type {\n",
       "        vertical-align: middle;\n",
       "    }\n",
       "\n",
       "    .dataframe tbody tr th {\n",
       "        vertical-align: top;\n",
       "    }\n",
       "\n",
       "    .dataframe thead th {\n",
       "        text-align: right;\n",
       "    }\n",
       "</style>\n",
       "<table border=\"1\" class=\"dataframe\">\n",
       "  <thead>\n",
       "    <tr style=\"text-align: right;\">\n",
       "      <th></th>\n",
       "      <th>Unnamed: 0</th>\n",
       "      <th>a</th>\n",
       "      <th>b</th>\n",
       "      <th>c</th>\n",
       "      <th>d</th>\n",
       "      <th>e</th>\n",
       "    </tr>\n",
       "  </thead>\n",
       "  <tbody>\n",
       "    <tr>\n",
       "      <th>0</th>\n",
       "      <td>0</td>\n",
       "      <td>0.186777</td>\n",
       "      <td>0.852573</td>\n",
       "      <td>0.998945</td>\n",
       "      <td>0.895410</td>\n",
       "      <td>0.434093</td>\n",
       "    </tr>\n",
       "    <tr>\n",
       "      <th>1</th>\n",
       "      <td>1</td>\n",
       "      <td>0.779775</td>\n",
       "      <td>0.253980</td>\n",
       "      <td>0.957571</td>\n",
       "      <td>0.881503</td>\n",
       "      <td>0.780587</td>\n",
       "    </tr>\n",
       "    <tr>\n",
       "      <th>2</th>\n",
       "      <td>2</td>\n",
       "      <td>0.664440</td>\n",
       "      <td>0.771233</td>\n",
       "      <td>0.791489</td>\n",
       "      <td>0.704227</td>\n",
       "      <td>0.803871</td>\n",
       "    </tr>\n",
       "    <tr>\n",
       "      <th>3</th>\n",
       "      <td>3</td>\n",
       "      <td>0.649802</td>\n",
       "      <td>0.459406</td>\n",
       "      <td>0.443754</td>\n",
       "      <td>0.024371</td>\n",
       "      <td>0.652681</td>\n",
       "    </tr>\n",
       "    <tr>\n",
       "      <th>4</th>\n",
       "      <td>4</td>\n",
       "      <td>0.023108</td>\n",
       "      <td>0.461322</td>\n",
       "      <td>0.072819</td>\n",
       "      <td>0.179477</td>\n",
       "      <td>0.823719</td>\n",
       "    </tr>\n",
       "  </tbody>\n",
       "</table>\n",
       "</div>"
      ],
      "text/plain": [
       "   Unnamed: 0         a         b         c         d         e\n",
       "0           0  0.186777  0.852573  0.998945  0.895410  0.434093\n",
       "1           1  0.779775  0.253980  0.957571  0.881503  0.780587\n",
       "2           2  0.664440  0.771233  0.791489  0.704227  0.803871\n",
       "3           3  0.649802  0.459406  0.443754  0.024371  0.652681\n",
       "4           4  0.023108  0.461322  0.072819  0.179477  0.823719"
      ]
     },
     "execution_count": 7,
     "metadata": {},
     "output_type": "execute_result"
    }
   ],
   "source": [
    "pd.read_csv('My_file.csv')"
   ]
  },
  {
   "cell_type": "markdown",
   "id": "f70952df",
   "metadata": {},
   "source": [
    "#  Indexing and selecting data"
   ]
  },
  {
   "cell_type": "code",
   "execution_count": 9,
   "id": "074dc714",
   "metadata": {},
   "outputs": [
    {
     "data": {
      "text/plain": [
       "a    0\n",
       "b    1\n",
       "c    2\n",
       "d    3\n",
       "e    4\n",
       "dtype: int64"
      ]
     },
     "execution_count": 9,
     "metadata": {},
     "output_type": "execute_result"
    }
   ],
   "source": [
    "ser = pd.Series(range(5), index=list(\"abcde\"))\n",
    "ser"
   ]
  },
  {
   "cell_type": "markdown",
   "id": "84806032",
   "metadata": {},
   "source": [
    "To find the elements by using indexing "
   ]
  },
  {
   "cell_type": "code",
   "execution_count": 11,
   "id": "a2af7b88",
   "metadata": {},
   "outputs": [
    {
     "data": {
      "text/plain": [
       "a    0\n",
       "c    2\n",
       "e    4\n",
       "dtype: int64"
      ]
     },
     "execution_count": 11,
     "metadata": {},
     "output_type": "execute_result"
    }
   ],
   "source": [
    "ser.loc[['a','c','e']]"
   ]
  },
  {
   "cell_type": "code",
   "execution_count": 12,
   "id": "8f19f3f8",
   "metadata": {},
   "outputs": [],
   "source": [
    "df = pd.DataFrame(np.arange(25).reshape(5, 5), index=list(\"abcde\"), columns=list(\"abcde\"))"
   ]
  },
  {
   "cell_type": "code",
   "execution_count": 13,
   "id": "f6f22a55",
   "metadata": {},
   "outputs": [
    {
     "data": {
      "application/vnd.microsoft.datawrangler.viewer.v0+json": {
       "columns": [
        {
         "name": "index",
         "rawType": "object",
         "type": "string"
        },
        {
         "name": "a",
         "rawType": "int64",
         "type": "integer"
        },
        {
         "name": "b",
         "rawType": "int64",
         "type": "integer"
        },
        {
         "name": "c",
         "rawType": "int64",
         "type": "integer"
        },
        {
         "name": "d",
         "rawType": "int64",
         "type": "integer"
        },
        {
         "name": "e",
         "rawType": "int64",
         "type": "integer"
        }
       ],
       "conversionMethod": "pd.DataFrame",
       "ref": "074343a7-4d92-4c82-971e-94c07f995e88",
       "rows": [
        [
         "a",
         "0",
         "1",
         "2",
         "3",
         "4"
        ],
        [
         "b",
         "5",
         "6",
         "7",
         "8",
         "9"
        ],
        [
         "c",
         "10",
         "11",
         "12",
         "13",
         "14"
        ],
        [
         "d",
         "15",
         "16",
         "17",
         "18",
         "19"
        ],
        [
         "e",
         "20",
         "21",
         "22",
         "23",
         "24"
        ]
       ],
       "shape": {
        "columns": 5,
        "rows": 5
       }
      },
      "text/html": [
       "<div>\n",
       "<style scoped>\n",
       "    .dataframe tbody tr th:only-of-type {\n",
       "        vertical-align: middle;\n",
       "    }\n",
       "\n",
       "    .dataframe tbody tr th {\n",
       "        vertical-align: top;\n",
       "    }\n",
       "\n",
       "    .dataframe thead th {\n",
       "        text-align: right;\n",
       "    }\n",
       "</style>\n",
       "<table border=\"1\" class=\"dataframe\">\n",
       "  <thead>\n",
       "    <tr style=\"text-align: right;\">\n",
       "      <th></th>\n",
       "      <th>a</th>\n",
       "      <th>b</th>\n",
       "      <th>c</th>\n",
       "      <th>d</th>\n",
       "      <th>e</th>\n",
       "    </tr>\n",
       "  </thead>\n",
       "  <tbody>\n",
       "    <tr>\n",
       "      <th>a</th>\n",
       "      <td>0</td>\n",
       "      <td>1</td>\n",
       "      <td>2</td>\n",
       "      <td>3</td>\n",
       "      <td>4</td>\n",
       "    </tr>\n",
       "    <tr>\n",
       "      <th>b</th>\n",
       "      <td>5</td>\n",
       "      <td>6</td>\n",
       "      <td>7</td>\n",
       "      <td>8</td>\n",
       "      <td>9</td>\n",
       "    </tr>\n",
       "    <tr>\n",
       "      <th>c</th>\n",
       "      <td>10</td>\n",
       "      <td>11</td>\n",
       "      <td>12</td>\n",
       "      <td>13</td>\n",
       "      <td>14</td>\n",
       "    </tr>\n",
       "    <tr>\n",
       "      <th>d</th>\n",
       "      <td>15</td>\n",
       "      <td>16</td>\n",
       "      <td>17</td>\n",
       "      <td>18</td>\n",
       "      <td>19</td>\n",
       "    </tr>\n",
       "    <tr>\n",
       "      <th>e</th>\n",
       "      <td>20</td>\n",
       "      <td>21</td>\n",
       "      <td>22</td>\n",
       "      <td>23</td>\n",
       "      <td>24</td>\n",
       "    </tr>\n",
       "  </tbody>\n",
       "</table>\n",
       "</div>"
      ],
      "text/plain": [
       "    a   b   c   d   e\n",
       "a   0   1   2   3   4\n",
       "b   5   6   7   8   9\n",
       "c  10  11  12  13  14\n",
       "d  15  16  17  18  19\n",
       "e  20  21  22  23  24"
      ]
     },
     "execution_count": 13,
     "metadata": {},
     "output_type": "execute_result"
    }
   ],
   "source": [
    "df"
   ]
  },
  {
   "cell_type": "code",
   "execution_count": 14,
   "id": "4dabb810",
   "metadata": {},
   "outputs": [
    {
     "data": {
      "application/vnd.microsoft.datawrangler.viewer.v0+json": {
       "columns": [
        {
         "name": "index",
         "rawType": "object",
         "type": "string"
        },
        {
         "name": "b",
         "rawType": "int64",
         "type": "integer"
        },
        {
         "name": "d",
         "rawType": "int64",
         "type": "integer"
        }
       ],
       "conversionMethod": "pd.DataFrame",
       "ref": "e6547108-3250-4d42-8f07-ec42bc0fc651",
       "rows": [
        [
         "a",
         "1",
         "3"
        ],
        [
         "c",
         "11",
         "13"
        ],
        [
         "e",
         "21",
         "23"
        ]
       ],
       "shape": {
        "columns": 2,
        "rows": 3
       }
      },
      "text/html": [
       "<div>\n",
       "<style scoped>\n",
       "    .dataframe tbody tr th:only-of-type {\n",
       "        vertical-align: middle;\n",
       "    }\n",
       "\n",
       "    .dataframe tbody tr th {\n",
       "        vertical-align: top;\n",
       "    }\n",
       "\n",
       "    .dataframe thead th {\n",
       "        text-align: right;\n",
       "    }\n",
       "</style>\n",
       "<table border=\"1\" class=\"dataframe\">\n",
       "  <thead>\n",
       "    <tr style=\"text-align: right;\">\n",
       "      <th></th>\n",
       "      <th>b</th>\n",
       "      <th>d</th>\n",
       "    </tr>\n",
       "  </thead>\n",
       "  <tbody>\n",
       "    <tr>\n",
       "      <th>a</th>\n",
       "      <td>1</td>\n",
       "      <td>3</td>\n",
       "    </tr>\n",
       "    <tr>\n",
       "      <th>c</th>\n",
       "      <td>11</td>\n",
       "      <td>13</td>\n",
       "    </tr>\n",
       "    <tr>\n",
       "      <th>e</th>\n",
       "      <td>21</td>\n",
       "      <td>23</td>\n",
       "    </tr>\n",
       "  </tbody>\n",
       "</table>\n",
       "</div>"
      ],
      "text/plain": [
       "    b   d\n",
       "a   1   3\n",
       "c  11  13\n",
       "e  21  23"
      ]
     },
     "execution_count": 14,
     "metadata": {},
     "output_type": "execute_result"
    }
   ],
   "source": [
    "df.loc[[\"a\", \"c\", \"e\"], [\"b\", \"d\"]]"
   ]
  },
  {
   "cell_type": "markdown",
   "id": "00724ad3",
   "metadata": {},
   "source": [
    " # Basics"
   ]
  },
  {
   "cell_type": "markdown",
   "id": "6f5064f4",
   "metadata": {},
   "source": [
    "To create the data in row "
   ]
  },
  {
   "cell_type": "code",
   "execution_count": 15,
   "id": "80b6bf93",
   "metadata": {},
   "outputs": [],
   "source": [
    "dates = pd.date_range('30/4/2025', periods=8)"
   ]
  },
  {
   "cell_type": "code",
   "execution_count": 17,
   "id": "29f6923b",
   "metadata": {},
   "outputs": [
    {
     "data": {
      "text/plain": [
       "DatetimeIndex(['2025-04-30', '2025-05-01', '2025-05-02', '2025-05-03',\n",
       "               '2025-05-04', '2025-05-05', '2025-05-06', '2025-05-07'],\n",
       "              dtype='datetime64[ns]', freq='D')"
      ]
     },
     "execution_count": 17,
     "metadata": {},
     "output_type": "execute_result"
    }
   ],
   "source": [
    "dates"
   ]
  },
  {
   "cell_type": "code",
   "execution_count": 18,
   "id": "df5d3e5d",
   "metadata": {},
   "outputs": [],
   "source": [
    "df = pd.DataFrame(np.random.randn(8, 4),\n",
    "                  index=dates, columns=['A', 'B', 'C', 'D'])"
   ]
  },
  {
   "cell_type": "code",
   "execution_count": 19,
   "id": "20122596",
   "metadata": {},
   "outputs": [
    {
     "data": {
      "application/vnd.microsoft.datawrangler.viewer.v0+json": {
       "columns": [
        {
         "name": "index",
         "rawType": "datetime64[ns]",
         "type": "datetime"
        },
        {
         "name": "A",
         "rawType": "float64",
         "type": "float"
        },
        {
         "name": "B",
         "rawType": "float64",
         "type": "float"
        },
        {
         "name": "C",
         "rawType": "float64",
         "type": "float"
        },
        {
         "name": "D",
         "rawType": "float64",
         "type": "float"
        }
       ],
       "conversionMethod": "pd.DataFrame",
       "ref": "25b820da-3bd1-46e5-a70f-57093bcdf293",
       "rows": [
        [
         "2025-04-30 00:00:00",
         "0.1290883618147329",
         "-0.2862087120406702",
         "-1.5002070886292265",
         "0.40388126041324396"
        ],
        [
         "2025-05-01 00:00:00",
         "1.5039326816852296",
         "0.8273921902988838",
         "0.32658492048850235",
         "-3.0939079068065602"
        ],
        [
         "2025-05-02 00:00:00",
         "-0.41725978497179905",
         "-0.7917528342673551",
         "1.1357403782736715",
         "1.7666128514271746"
        ],
        [
         "2025-05-03 00:00:00",
         "0.9272053370067324",
         "0.743408496707181",
         "-0.10494157700725629",
         "-0.6166141898920321"
        ],
        [
         "2025-05-04 00:00:00",
         "-0.3255798049979795",
         "0.2645683516186365",
         "-1.6670775804670797",
         "-0.20072894498987276"
        ],
        [
         "2025-05-05 00:00:00",
         "0.8223539374224791",
         "0.15728784617443117",
         "2.6867663635473362",
         "1.4658509773423274"
        ],
        [
         "2025-05-06 00:00:00",
         "0.7098676148917012",
         "-1.121914344757356",
         "0.06858313022850408",
         "0.03660229527788669"
        ],
        [
         "2025-05-07 00:00:00",
         "1.4413844785183454",
         "-0.2372395816722455",
         "-0.2440767338117399",
         "0.2632473892045806"
        ]
       ],
       "shape": {
        "columns": 4,
        "rows": 8
       }
      },
      "text/html": [
       "<div>\n",
       "<style scoped>\n",
       "    .dataframe tbody tr th:only-of-type {\n",
       "        vertical-align: middle;\n",
       "    }\n",
       "\n",
       "    .dataframe tbody tr th {\n",
       "        vertical-align: top;\n",
       "    }\n",
       "\n",
       "    .dataframe thead th {\n",
       "        text-align: right;\n",
       "    }\n",
       "</style>\n",
       "<table border=\"1\" class=\"dataframe\">\n",
       "  <thead>\n",
       "    <tr style=\"text-align: right;\">\n",
       "      <th></th>\n",
       "      <th>A</th>\n",
       "      <th>B</th>\n",
       "      <th>C</th>\n",
       "      <th>D</th>\n",
       "    </tr>\n",
       "  </thead>\n",
       "  <tbody>\n",
       "    <tr>\n",
       "      <th>2025-04-30</th>\n",
       "      <td>0.129088</td>\n",
       "      <td>-0.286209</td>\n",
       "      <td>-1.500207</td>\n",
       "      <td>0.403881</td>\n",
       "    </tr>\n",
       "    <tr>\n",
       "      <th>2025-05-01</th>\n",
       "      <td>1.503933</td>\n",
       "      <td>0.827392</td>\n",
       "      <td>0.326585</td>\n",
       "      <td>-3.093908</td>\n",
       "    </tr>\n",
       "    <tr>\n",
       "      <th>2025-05-02</th>\n",
       "      <td>-0.417260</td>\n",
       "      <td>-0.791753</td>\n",
       "      <td>1.135740</td>\n",
       "      <td>1.766613</td>\n",
       "    </tr>\n",
       "    <tr>\n",
       "      <th>2025-05-03</th>\n",
       "      <td>0.927205</td>\n",
       "      <td>0.743408</td>\n",
       "      <td>-0.104942</td>\n",
       "      <td>-0.616614</td>\n",
       "    </tr>\n",
       "    <tr>\n",
       "      <th>2025-05-04</th>\n",
       "      <td>-0.325580</td>\n",
       "      <td>0.264568</td>\n",
       "      <td>-1.667078</td>\n",
       "      <td>-0.200729</td>\n",
       "    </tr>\n",
       "    <tr>\n",
       "      <th>2025-05-05</th>\n",
       "      <td>0.822354</td>\n",
       "      <td>0.157288</td>\n",
       "      <td>2.686766</td>\n",
       "      <td>1.465851</td>\n",
       "    </tr>\n",
       "    <tr>\n",
       "      <th>2025-05-06</th>\n",
       "      <td>0.709868</td>\n",
       "      <td>-1.121914</td>\n",
       "      <td>0.068583</td>\n",
       "      <td>0.036602</td>\n",
       "    </tr>\n",
       "    <tr>\n",
       "      <th>2025-05-07</th>\n",
       "      <td>1.441384</td>\n",
       "      <td>-0.237240</td>\n",
       "      <td>-0.244077</td>\n",
       "      <td>0.263247</td>\n",
       "    </tr>\n",
       "  </tbody>\n",
       "</table>\n",
       "</div>"
      ],
      "text/plain": [
       "                   A         B         C         D\n",
       "2025-04-30  0.129088 -0.286209 -1.500207  0.403881\n",
       "2025-05-01  1.503933  0.827392  0.326585 -3.093908\n",
       "2025-05-02 -0.417260 -0.791753  1.135740  1.766613\n",
       "2025-05-03  0.927205  0.743408 -0.104942 -0.616614\n",
       "2025-05-04 -0.325580  0.264568 -1.667078 -0.200729\n",
       "2025-05-05  0.822354  0.157288  2.686766  1.465851\n",
       "2025-05-06  0.709868 -1.121914  0.068583  0.036602\n",
       "2025-05-07  1.441384 -0.237240 -0.244077  0.263247"
      ]
     },
     "execution_count": 19,
     "metadata": {},
     "output_type": "execute_result"
    }
   ],
   "source": [
    "df"
   ]
  },
  {
   "cell_type": "code",
   "execution_count": 21,
   "id": "323595dc",
   "metadata": {},
   "outputs": [
    {
     "data": {
      "text/plain": [
       "2025-04-30    0.129088\n",
       "2025-05-01    1.503933\n",
       "2025-05-02   -0.417260\n",
       "2025-05-03    0.927205\n",
       "2025-05-04   -0.325580\n",
       "2025-05-05    0.822354\n",
       "2025-05-06    0.709868\n",
       "2025-05-07    1.441384\n",
       "Freq: D, Name: A, dtype: float64"
      ]
     },
     "execution_count": 21,
     "metadata": {},
     "output_type": "execute_result"
    }
   ],
   "source": [
    "s = df['A']\n",
    "s"
   ]
  },
  {
   "cell_type": "code",
   "execution_count": 22,
   "id": "4d921f38",
   "metadata": {},
   "outputs": [
    {
     "data": {
      "text/plain": [
       "np.float64(0.8223539374224791)"
      ]
     },
     "execution_count": 22,
     "metadata": {},
     "output_type": "execute_result"
    }
   ],
   "source": [
    "s[dates[5]]"
   ]
  },
  {
   "cell_type": "code",
   "execution_count": 24,
   "id": "3aa03da0",
   "metadata": {},
   "outputs": [],
   "source": [
    "df[['B', 'A']] = df[['A', 'B']]"
   ]
  },
  {
   "cell_type": "code",
   "execution_count": 25,
   "id": "440190b4",
   "metadata": {},
   "outputs": [
    {
     "data": {
      "application/vnd.microsoft.datawrangler.viewer.v0+json": {
       "columns": [
        {
         "name": "index",
         "rawType": "datetime64[ns]",
         "type": "datetime"
        },
        {
         "name": "A",
         "rawType": "float64",
         "type": "float"
        },
        {
         "name": "B",
         "rawType": "float64",
         "type": "float"
        },
        {
         "name": "C",
         "rawType": "float64",
         "type": "float"
        },
        {
         "name": "D",
         "rawType": "float64",
         "type": "float"
        }
       ],
       "conversionMethod": "pd.DataFrame",
       "ref": "10c12831-a1c3-4b00-b3e0-4f2171bfc543",
       "rows": [
        [
         "2025-04-30 00:00:00",
         "0.1290883618147329",
         "-0.2862087120406702",
         "-1.5002070886292265",
         "0.40388126041324396"
        ],
        [
         "2025-05-01 00:00:00",
         "1.5039326816852296",
         "0.8273921902988838",
         "0.32658492048850235",
         "-3.0939079068065602"
        ],
        [
         "2025-05-02 00:00:00",
         "-0.41725978497179905",
         "-0.7917528342673551",
         "1.1357403782736715",
         "1.7666128514271746"
        ],
        [
         "2025-05-03 00:00:00",
         "0.9272053370067324",
         "0.743408496707181",
         "-0.10494157700725629",
         "-0.6166141898920321"
        ],
        [
         "2025-05-04 00:00:00",
         "-0.3255798049979795",
         "0.2645683516186365",
         "-1.6670775804670797",
         "-0.20072894498987276"
        ],
        [
         "2025-05-05 00:00:00",
         "0.8223539374224791",
         "0.15728784617443117",
         "2.6867663635473362",
         "1.4658509773423274"
        ],
        [
         "2025-05-06 00:00:00",
         "0.7098676148917012",
         "-1.121914344757356",
         "0.06858313022850408",
         "0.03660229527788669"
        ],
        [
         "2025-05-07 00:00:00",
         "1.4413844785183454",
         "-0.2372395816722455",
         "-0.2440767338117399",
         "0.2632473892045806"
        ]
       ],
       "shape": {
        "columns": 4,
        "rows": 8
       }
      },
      "text/html": [
       "<div>\n",
       "<style scoped>\n",
       "    .dataframe tbody tr th:only-of-type {\n",
       "        vertical-align: middle;\n",
       "    }\n",
       "\n",
       "    .dataframe tbody tr th {\n",
       "        vertical-align: top;\n",
       "    }\n",
       "\n",
       "    .dataframe thead th {\n",
       "        text-align: right;\n",
       "    }\n",
       "</style>\n",
       "<table border=\"1\" class=\"dataframe\">\n",
       "  <thead>\n",
       "    <tr style=\"text-align: right;\">\n",
       "      <th></th>\n",
       "      <th>A</th>\n",
       "      <th>B</th>\n",
       "      <th>C</th>\n",
       "      <th>D</th>\n",
       "    </tr>\n",
       "  </thead>\n",
       "  <tbody>\n",
       "    <tr>\n",
       "      <th>2025-04-30</th>\n",
       "      <td>0.129088</td>\n",
       "      <td>-0.286209</td>\n",
       "      <td>-1.500207</td>\n",
       "      <td>0.403881</td>\n",
       "    </tr>\n",
       "    <tr>\n",
       "      <th>2025-05-01</th>\n",
       "      <td>1.503933</td>\n",
       "      <td>0.827392</td>\n",
       "      <td>0.326585</td>\n",
       "      <td>-3.093908</td>\n",
       "    </tr>\n",
       "    <tr>\n",
       "      <th>2025-05-02</th>\n",
       "      <td>-0.417260</td>\n",
       "      <td>-0.791753</td>\n",
       "      <td>1.135740</td>\n",
       "      <td>1.766613</td>\n",
       "    </tr>\n",
       "    <tr>\n",
       "      <th>2025-05-03</th>\n",
       "      <td>0.927205</td>\n",
       "      <td>0.743408</td>\n",
       "      <td>-0.104942</td>\n",
       "      <td>-0.616614</td>\n",
       "    </tr>\n",
       "    <tr>\n",
       "      <th>2025-05-04</th>\n",
       "      <td>-0.325580</td>\n",
       "      <td>0.264568</td>\n",
       "      <td>-1.667078</td>\n",
       "      <td>-0.200729</td>\n",
       "    </tr>\n",
       "    <tr>\n",
       "      <th>2025-05-05</th>\n",
       "      <td>0.822354</td>\n",
       "      <td>0.157288</td>\n",
       "      <td>2.686766</td>\n",
       "      <td>1.465851</td>\n",
       "    </tr>\n",
       "    <tr>\n",
       "      <th>2025-05-06</th>\n",
       "      <td>0.709868</td>\n",
       "      <td>-1.121914</td>\n",
       "      <td>0.068583</td>\n",
       "      <td>0.036602</td>\n",
       "    </tr>\n",
       "    <tr>\n",
       "      <th>2025-05-07</th>\n",
       "      <td>1.441384</td>\n",
       "      <td>-0.237240</td>\n",
       "      <td>-0.244077</td>\n",
       "      <td>0.263247</td>\n",
       "    </tr>\n",
       "  </tbody>\n",
       "</table>\n",
       "</div>"
      ],
      "text/plain": [
       "                   A         B         C         D\n",
       "2025-04-30  0.129088 -0.286209 -1.500207  0.403881\n",
       "2025-05-01  1.503933  0.827392  0.326585 -3.093908\n",
       "2025-05-02 -0.417260 -0.791753  1.135740  1.766613\n",
       "2025-05-03  0.927205  0.743408 -0.104942 -0.616614\n",
       "2025-05-04 -0.325580  0.264568 -1.667078 -0.200729\n",
       "2025-05-05  0.822354  0.157288  2.686766  1.465851\n",
       "2025-05-06  0.709868 -1.121914  0.068583  0.036602\n",
       "2025-05-07  1.441384 -0.237240 -0.244077  0.263247"
      ]
     },
     "execution_count": 25,
     "metadata": {},
     "output_type": "execute_result"
    }
   ],
   "source": [
    "df"
   ]
  },
  {
   "cell_type": "code",
   "execution_count": 27,
   "id": "193be62b",
   "metadata": {},
   "outputs": [
    {
     "data": {
      "application/vnd.microsoft.datawrangler.viewer.v0+json": {
       "columns": [
        {
         "name": "index",
         "rawType": "datetime64[ns]",
         "type": "datetime"
        },
        {
         "name": "A",
         "rawType": "float64",
         "type": "float"
        },
        {
         "name": "B",
         "rawType": "float64",
         "type": "float"
        }
       ],
       "conversionMethod": "pd.DataFrame",
       "ref": "1d8fdfef-9092-4de6-a9eb-52a879dddaa4",
       "rows": [
        [
         "2025-04-30 00:00:00",
         "0.1290883618147329",
         "-0.2862087120406702"
        ],
        [
         "2025-05-01 00:00:00",
         "1.5039326816852296",
         "0.8273921902988838"
        ],
        [
         "2025-05-02 00:00:00",
         "-0.41725978497179905",
         "-0.7917528342673551"
        ],
        [
         "2025-05-03 00:00:00",
         "0.9272053370067324",
         "0.743408496707181"
        ],
        [
         "2025-05-04 00:00:00",
         "-0.3255798049979795",
         "0.2645683516186365"
        ],
        [
         "2025-05-05 00:00:00",
         "0.8223539374224791",
         "0.15728784617443117"
        ],
        [
         "2025-05-06 00:00:00",
         "0.7098676148917012",
         "-1.121914344757356"
        ],
        [
         "2025-05-07 00:00:00",
         "1.4413844785183454",
         "-0.2372395816722455"
        ]
       ],
       "shape": {
        "columns": 2,
        "rows": 8
       }
      },
      "text/html": [
       "<div>\n",
       "<style scoped>\n",
       "    .dataframe tbody tr th:only-of-type {\n",
       "        vertical-align: middle;\n",
       "    }\n",
       "\n",
       "    .dataframe tbody tr th {\n",
       "        vertical-align: top;\n",
       "    }\n",
       "\n",
       "    .dataframe thead th {\n",
       "        text-align: right;\n",
       "    }\n",
       "</style>\n",
       "<table border=\"1\" class=\"dataframe\">\n",
       "  <thead>\n",
       "    <tr style=\"text-align: right;\">\n",
       "      <th></th>\n",
       "      <th>A</th>\n",
       "      <th>B</th>\n",
       "    </tr>\n",
       "  </thead>\n",
       "  <tbody>\n",
       "    <tr>\n",
       "      <th>2025-04-30</th>\n",
       "      <td>0.129088</td>\n",
       "      <td>-0.286209</td>\n",
       "    </tr>\n",
       "    <tr>\n",
       "      <th>2025-05-01</th>\n",
       "      <td>1.503933</td>\n",
       "      <td>0.827392</td>\n",
       "    </tr>\n",
       "    <tr>\n",
       "      <th>2025-05-02</th>\n",
       "      <td>-0.417260</td>\n",
       "      <td>-0.791753</td>\n",
       "    </tr>\n",
       "    <tr>\n",
       "      <th>2025-05-03</th>\n",
       "      <td>0.927205</td>\n",
       "      <td>0.743408</td>\n",
       "    </tr>\n",
       "    <tr>\n",
       "      <th>2025-05-04</th>\n",
       "      <td>-0.325580</td>\n",
       "      <td>0.264568</td>\n",
       "    </tr>\n",
       "    <tr>\n",
       "      <th>2025-05-05</th>\n",
       "      <td>0.822354</td>\n",
       "      <td>0.157288</td>\n",
       "    </tr>\n",
       "    <tr>\n",
       "      <th>2025-05-06</th>\n",
       "      <td>0.709868</td>\n",
       "      <td>-1.121914</td>\n",
       "    </tr>\n",
       "    <tr>\n",
       "      <th>2025-05-07</th>\n",
       "      <td>1.441384</td>\n",
       "      <td>-0.237240</td>\n",
       "    </tr>\n",
       "  </tbody>\n",
       "</table>\n",
       "</div>"
      ],
      "text/plain": [
       "                   A         B\n",
       "2025-04-30  0.129088 -0.286209\n",
       "2025-05-01  1.503933  0.827392\n",
       "2025-05-02 -0.417260 -0.791753\n",
       "2025-05-03  0.927205  0.743408\n",
       "2025-05-04 -0.325580  0.264568\n",
       "2025-05-05  0.822354  0.157288\n",
       "2025-05-06  0.709868 -1.121914\n",
       "2025-05-07  1.441384 -0.237240"
      ]
     },
     "execution_count": 27,
     "metadata": {},
     "output_type": "execute_result"
    }
   ],
   "source": [
    "df[['A', 'B']]"
   ]
  },
  {
   "cell_type": "markdown",
   "id": "3041fb5b",
   "metadata": {},
   "source": [
    "To sort the index in dataframe "
   ]
  },
  {
   "cell_type": "code",
   "execution_count": 28,
   "id": "172ec08b",
   "metadata": {},
   "outputs": [
    {
     "data": {
      "application/vnd.microsoft.datawrangler.viewer.v0+json": {
       "columns": [
        {
         "name": "index",
         "rawType": "datetime64[ns]",
         "type": "datetime"
        },
        {
         "name": "A",
         "rawType": "float64",
         "type": "float"
        },
        {
         "name": "B",
         "rawType": "float64",
         "type": "float"
        },
        {
         "name": "C",
         "rawType": "float64",
         "type": "float"
        },
        {
         "name": "D",
         "rawType": "float64",
         "type": "float"
        }
       ],
       "conversionMethod": "pd.DataFrame",
       "ref": "f47bef02-8a8c-4670-ad98-d419b82c45c9",
       "rows": [
        [
         "2025-04-30 00:00:00",
         "0.1290883618147329",
         "-0.2862087120406702",
         "-1.5002070886292265",
         "0.40388126041324396"
        ],
        [
         "2025-05-01 00:00:00",
         "1.5039326816852296",
         "0.8273921902988838",
         "0.32658492048850235",
         "-3.0939079068065602"
        ],
        [
         "2025-05-02 00:00:00",
         "-0.41725978497179905",
         "-0.7917528342673551",
         "1.1357403782736715",
         "1.7666128514271746"
        ],
        [
         "2025-05-03 00:00:00",
         "0.9272053370067324",
         "0.743408496707181",
         "-0.10494157700725629",
         "-0.6166141898920321"
        ],
        [
         "2025-05-04 00:00:00",
         "-0.3255798049979795",
         "0.2645683516186365",
         "-1.6670775804670797",
         "-0.20072894498987276"
        ],
        [
         "2025-05-05 00:00:00",
         "0.8223539374224791",
         "0.15728784617443117",
         "2.6867663635473362",
         "1.4658509773423274"
        ],
        [
         "2025-05-06 00:00:00",
         "0.7098676148917012",
         "-1.121914344757356",
         "0.06858313022850408",
         "0.03660229527788669"
        ],
        [
         "2025-05-07 00:00:00",
         "1.4413844785183454",
         "-0.2372395816722455",
         "-0.2440767338117399",
         "0.2632473892045806"
        ]
       ],
       "shape": {
        "columns": 4,
        "rows": 8
       }
      },
      "text/html": [
       "<div>\n",
       "<style scoped>\n",
       "    .dataframe tbody tr th:only-of-type {\n",
       "        vertical-align: middle;\n",
       "    }\n",
       "\n",
       "    .dataframe tbody tr th {\n",
       "        vertical-align: top;\n",
       "    }\n",
       "\n",
       "    .dataframe thead th {\n",
       "        text-align: right;\n",
       "    }\n",
       "</style>\n",
       "<table border=\"1\" class=\"dataframe\">\n",
       "  <thead>\n",
       "    <tr style=\"text-align: right;\">\n",
       "      <th></th>\n",
       "      <th>A</th>\n",
       "      <th>B</th>\n",
       "      <th>C</th>\n",
       "      <th>D</th>\n",
       "    </tr>\n",
       "  </thead>\n",
       "  <tbody>\n",
       "    <tr>\n",
       "      <th>2025-04-30</th>\n",
       "      <td>0.129088</td>\n",
       "      <td>-0.286209</td>\n",
       "      <td>-1.500207</td>\n",
       "      <td>0.403881</td>\n",
       "    </tr>\n",
       "    <tr>\n",
       "      <th>2025-05-01</th>\n",
       "      <td>1.503933</td>\n",
       "      <td>0.827392</td>\n",
       "      <td>0.326585</td>\n",
       "      <td>-3.093908</td>\n",
       "    </tr>\n",
       "    <tr>\n",
       "      <th>2025-05-02</th>\n",
       "      <td>-0.417260</td>\n",
       "      <td>-0.791753</td>\n",
       "      <td>1.135740</td>\n",
       "      <td>1.766613</td>\n",
       "    </tr>\n",
       "    <tr>\n",
       "      <th>2025-05-03</th>\n",
       "      <td>0.927205</td>\n",
       "      <td>0.743408</td>\n",
       "      <td>-0.104942</td>\n",
       "      <td>-0.616614</td>\n",
       "    </tr>\n",
       "    <tr>\n",
       "      <th>2025-05-04</th>\n",
       "      <td>-0.325580</td>\n",
       "      <td>0.264568</td>\n",
       "      <td>-1.667078</td>\n",
       "      <td>-0.200729</td>\n",
       "    </tr>\n",
       "    <tr>\n",
       "      <th>2025-05-05</th>\n",
       "      <td>0.822354</td>\n",
       "      <td>0.157288</td>\n",
       "      <td>2.686766</td>\n",
       "      <td>1.465851</td>\n",
       "    </tr>\n",
       "    <tr>\n",
       "      <th>2025-05-06</th>\n",
       "      <td>0.709868</td>\n",
       "      <td>-1.121914</td>\n",
       "      <td>0.068583</td>\n",
       "      <td>0.036602</td>\n",
       "    </tr>\n",
       "    <tr>\n",
       "      <th>2025-05-07</th>\n",
       "      <td>1.441384</td>\n",
       "      <td>-0.237240</td>\n",
       "      <td>-0.244077</td>\n",
       "      <td>0.263247</td>\n",
       "    </tr>\n",
       "  </tbody>\n",
       "</table>\n",
       "</div>"
      ],
      "text/plain": [
       "                   A         B         C         D\n",
       "2025-04-30  0.129088 -0.286209 -1.500207  0.403881\n",
       "2025-05-01  1.503933  0.827392  0.326585 -3.093908\n",
       "2025-05-02 -0.417260 -0.791753  1.135740  1.766613\n",
       "2025-05-03  0.927205  0.743408 -0.104942 -0.616614\n",
       "2025-05-04 -0.325580  0.264568 -1.667078 -0.200729\n",
       "2025-05-05  0.822354  0.157288  2.686766  1.465851\n",
       "2025-05-06  0.709868 -1.121914  0.068583  0.036602\n",
       "2025-05-07  1.441384 -0.237240 -0.244077  0.263247"
      ]
     },
     "execution_count": 28,
     "metadata": {},
     "output_type": "execute_result"
    }
   ],
   "source": [
    "df.sort_index()"
   ]
  },
  {
   "cell_type": "markdown",
   "id": "bbbb6820",
   "metadata": {},
   "source": [
    "#  Boolean indexing"
   ]
  },
  {
   "cell_type": "code",
   "execution_count": 32,
   "id": "87c48b25",
   "metadata": {},
   "outputs": [],
   "source": [
    "s = pd.Series(range(-3, 4))"
   ]
  },
  {
   "cell_type": "code",
   "execution_count": 33,
   "id": "d1486755",
   "metadata": {},
   "outputs": [
    {
     "data": {
      "text/plain": [
       "0   -3\n",
       "1   -2\n",
       "2   -1\n",
       "3    0\n",
       "4    1\n",
       "5    2\n",
       "6    3\n",
       "dtype: int64"
      ]
     },
     "execution_count": 33,
     "metadata": {},
     "output_type": "execute_result"
    }
   ],
   "source": [
    "s"
   ]
  },
  {
   "cell_type": "code",
   "execution_count": 34,
   "id": "ce47cd46",
   "metadata": {},
   "outputs": [
    {
     "data": {
      "text/plain": [
       "4    1\n",
       "5    2\n",
       "6    3\n",
       "dtype: int64"
      ]
     },
     "execution_count": 34,
     "metadata": {},
     "output_type": "execute_result"
    }
   ],
   "source": [
    "s[s > 0]"
   ]
  },
  {
   "cell_type": "markdown",
   "id": "cdbbbebe",
   "metadata": {},
   "source": [
    "#  Indexing with isin"
   ]
  },
  {
   "cell_type": "code",
   "execution_count": 36,
   "id": "60717899",
   "metadata": {},
   "outputs": [],
   "source": [
    "s = pd.Series(np.arange(5), index=np.arange(5)[::-1], dtype='int64')"
   ]
  },
  {
   "cell_type": "code",
   "execution_count": 37,
   "id": "28ea7a0a",
   "metadata": {},
   "outputs": [
    {
     "data": {
      "text/plain": [
       "4    0\n",
       "3    1\n",
       "2    2\n",
       "1    3\n",
       "0    4\n",
       "dtype: int64"
      ]
     },
     "execution_count": 37,
     "metadata": {},
     "output_type": "execute_result"
    }
   ],
   "source": [
    "s"
   ]
  },
  {
   "cell_type": "code",
   "execution_count": 40,
   "id": "a5f11f70",
   "metadata": {},
   "outputs": [
    {
     "data": {
      "text/plain": [
       "4    False\n",
       "3    False\n",
       "2     True\n",
       "1    False\n",
       "0     True\n",
       "dtype: bool"
      ]
     },
     "execution_count": 40,
     "metadata": {},
     "output_type": "execute_result"
    }
   ],
   "source": [
    "s.isin([2, 4, 6])"
   ]
  },
  {
   "cell_type": "markdown",
   "id": "f7efd4d2",
   "metadata": {},
   "source": [
    "#  The where() Method and Masking"
   ]
  },
  {
   "cell_type": "code",
   "execution_count": 41,
   "id": "6d1ef570",
   "metadata": {},
   "outputs": [
    {
     "data": {
      "text/plain": [
       "3    1\n",
       "2    2\n",
       "1    3\n",
       "0    4\n",
       "dtype: int64"
      ]
     },
     "execution_count": 41,
     "metadata": {},
     "output_type": "execute_result"
    }
   ],
   "source": [
    "s[s > 0]"
   ]
  },
  {
   "cell_type": "code",
   "execution_count": 42,
   "id": "cabc3595",
   "metadata": {},
   "outputs": [
    {
     "data": {
      "text/plain": [
       "4    NaN\n",
       "3    1.0\n",
       "2    2.0\n",
       "1    3.0\n",
       "0    4.0\n",
       "dtype: float64"
      ]
     },
     "execution_count": 42,
     "metadata": {},
     "output_type": "execute_result"
    }
   ],
   "source": [
    "s.where(s>0)"
   ]
  },
  {
   "cell_type": "code",
   "execution_count": null,
   "id": "dc180d13",
   "metadata": {},
   "outputs": [],
   "source": []
  }
 ],
 "metadata": {
  "kernelspec": {
   "display_name": "Python 3",
   "language": "python",
   "name": "python3"
  },
  "language_info": {
   "codemirror_mode": {
    "name": "ipython",
    "version": 3
   },
   "file_extension": ".py",
   "mimetype": "text/x-python",
   "name": "python",
   "nbconvert_exporter": "python",
   "pygments_lexer": "ipython3",
   "version": "3.11.9"
  }
 },
 "nbformat": 4,
 "nbformat_minor": 5
}
